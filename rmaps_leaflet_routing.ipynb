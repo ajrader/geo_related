{
 "metadata": {
  "kernelspec": {
   "codemirror_mode": "r",
   "display_name": "R",
   "language": "R",
   "name": "ir"
  },
  "name": "",
  "signature": "sha256:7ab6f5ff80d63f8be0f0d4b793ee9107e696c0ed92260d6020ab5857e3b25348"
 },
 "nbformat": 3,
 "nbformat_minor": 0,
 "worksheets": [
  {
   "cells": [
    {
     "cell_type": "markdown",
     "metadata": {},
     "source": [
      "## Leaflet Routing Machine Plugin\n",
      "\n",
      "*Author:* [Ramnath Vaidyanathan](https://github.com/ramnathv)\n",
      "\n",
      "I saw the [following issue](https://github.com/ramnathv/rMaps/issues/45) posted to the [rMaps](http://github.com/ramnathv/rMaps) github repo today.\n",
      "\n",
      "> I am new to using rMaps and leaflet. I would like to plot the route between two locations. The leaflet routing machine plugin allows us to do this (https://github.com/perliedman/leaflet-routing-machine). I am not quite sure how to use the functions `addAssets()` and `setTemplate()` to be able to use this plugin.\n",
      "\n",
      "This was a good exercise for me to test whether these newly introduced mechanisms `addAssets` and `setTemplate` would allow one to easily extend the base leaflet binding in [rMaps](http://rmaps.github.io).\n",
      "\n",
      "Let us start by creating the base map."
     ]
    },
    {
     "cell_type": "code",
     "collapsed": false,
     "input": [
      "%pylab inline\n",
      "%load_ext rmagic "
     ],
     "language": "python",
     "metadata": {},
     "outputs": [
      {
       "output_type": "stream",
       "stream": "stdout",
       "text": [
        "Populating the interactive namespace from numpy and matplotlib\n"
       ]
      }
     ],
     "prompt_number": 1
    },
    {
     "cell_type": "code",
     "collapsed": false,
     "input": [
      "%%R\n",
      "library(rMaps)\n",
      "map = Leaflet$new()\n",
      "map$setView(c(40.73846, -73.99413), 16)\n",
      "map$tileLayer(provider = 'Stamen.TonerLite')"
     ],
     "language": "python",
     "metadata": {},
     "outputs": [
      {
       "output_type": "stream",
       "stream": "stdout",
       "text": [
        "\n",
        "Error in library(rMaps) : there is no package called 'rMaps'\n"
       ]
      },
      {
       "ename": "WindowsError",
       "evalue": "[Error 32] The process cannot access the file because it is being used by another process: 'c:\\\\users\\\\kesj\\\\appdata\\\\local\\\\temp\\\\tmpthpsuh\\\\Rplots001.png'",
       "output_type": "pyerr",
       "traceback": [
        "\u001b[1;31m---------------------------------------------------------------------------\u001b[0m\n\u001b[1;31mWindowsError\u001b[0m                              Traceback (most recent call last)",
        "\u001b[1;32m<ipython-input-3-2d1ac0be7f09>\u001b[0m in \u001b[0;36m<module>\u001b[1;34m()\u001b[0m\n\u001b[1;32m----> 1\u001b[1;33m \u001b[0mget_ipython\u001b[0m\u001b[1;33m(\u001b[0m\u001b[1;33m)\u001b[0m\u001b[1;33m.\u001b[0m\u001b[0mrun_cell_magic\u001b[0m\u001b[1;33m(\u001b[0m\u001b[1;34mu'R'\u001b[0m\u001b[1;33m,\u001b[0m \u001b[1;34mu''\u001b[0m\u001b[1;33m,\u001b[0m \u001b[1;34mu\"library(rMaps)\\nmap = Leaflet$new()\\nmap$setView(c(40.73846, -73.99413), 16)\\nmap$tileLayer(provider = 'Stamen.TonerLite')\"\u001b[0m\u001b[1;33m)\u001b[0m\u001b[1;33m\u001b[0m\u001b[0m\n\u001b[0m",
        "\u001b[1;32mC:\\Anaconda\\lib\\site-packages\\IPython\\core\\interactiveshell.pyc\u001b[0m in \u001b[0;36mrun_cell_magic\u001b[1;34m(self, magic_name, line, cell)\u001b[0m\n\u001b[0;32m   2160\u001b[0m             \u001b[0mmagic_arg_s\u001b[0m \u001b[1;33m=\u001b[0m \u001b[0mself\u001b[0m\u001b[1;33m.\u001b[0m\u001b[0mvar_expand\u001b[0m\u001b[1;33m(\u001b[0m\u001b[0mline\u001b[0m\u001b[1;33m,\u001b[0m \u001b[0mstack_depth\u001b[0m\u001b[1;33m)\u001b[0m\u001b[1;33m\u001b[0m\u001b[0m\n\u001b[0;32m   2161\u001b[0m             \u001b[1;32mwith\u001b[0m \u001b[0mself\u001b[0m\u001b[1;33m.\u001b[0m\u001b[0mbuiltin_trap\u001b[0m\u001b[1;33m:\u001b[0m\u001b[1;33m\u001b[0m\u001b[0m\n\u001b[1;32m-> 2162\u001b[1;33m                 \u001b[0mresult\u001b[0m \u001b[1;33m=\u001b[0m \u001b[0mfn\u001b[0m\u001b[1;33m(\u001b[0m\u001b[0mmagic_arg_s\u001b[0m\u001b[1;33m,\u001b[0m \u001b[0mcell\u001b[0m\u001b[1;33m)\u001b[0m\u001b[1;33m\u001b[0m\u001b[0m\n\u001b[0m\u001b[0;32m   2163\u001b[0m             \u001b[1;32mreturn\u001b[0m \u001b[0mresult\u001b[0m\u001b[1;33m\u001b[0m\u001b[0m\n\u001b[0;32m   2164\u001b[0m \u001b[1;33m\u001b[0m\u001b[0m\n",
        "\u001b[1;32mC:\\Anaconda\\lib\\site-packages\\IPython\\extensions\\rmagic.pyc\u001b[0m in \u001b[0;36mR\u001b[1;34m(self, line, cell, local_ns)\u001b[0m\n",
        "\u001b[1;32mC:\\Anaconda\\lib\\site-packages\\IPython\\core\\magic.pyc\u001b[0m in \u001b[0;36m<lambda>\u001b[1;34m(f, *a, **k)\u001b[0m\n\u001b[0;32m    191\u001b[0m     \u001b[1;31m# but it's overkill for just that one bit of state.\u001b[0m\u001b[1;33m\u001b[0m\u001b[1;33m\u001b[0m\u001b[0m\n\u001b[0;32m    192\u001b[0m     \u001b[1;32mdef\u001b[0m \u001b[0mmagic_deco\u001b[0m\u001b[1;33m(\u001b[0m\u001b[0marg\u001b[0m\u001b[1;33m)\u001b[0m\u001b[1;33m:\u001b[0m\u001b[1;33m\u001b[0m\u001b[0m\n\u001b[1;32m--> 193\u001b[1;33m         \u001b[0mcall\u001b[0m \u001b[1;33m=\u001b[0m \u001b[1;32mlambda\u001b[0m \u001b[0mf\u001b[0m\u001b[1;33m,\u001b[0m \u001b[1;33m*\u001b[0m\u001b[0ma\u001b[0m\u001b[1;33m,\u001b[0m \u001b[1;33m**\u001b[0m\u001b[0mk\u001b[0m\u001b[1;33m:\u001b[0m \u001b[0mf\u001b[0m\u001b[1;33m(\u001b[0m\u001b[1;33m*\u001b[0m\u001b[0ma\u001b[0m\u001b[1;33m,\u001b[0m \u001b[1;33m**\u001b[0m\u001b[0mk\u001b[0m\u001b[1;33m)\u001b[0m\u001b[1;33m\u001b[0m\u001b[0m\n\u001b[0m\u001b[0;32m    194\u001b[0m \u001b[1;33m\u001b[0m\u001b[0m\n\u001b[0;32m    195\u001b[0m         \u001b[1;32mif\u001b[0m \u001b[0mcallable\u001b[0m\u001b[1;33m(\u001b[0m\u001b[0marg\u001b[0m\u001b[1;33m)\u001b[0m\u001b[1;33m:\u001b[0m\u001b[1;33m\u001b[0m\u001b[0m\n",
        "\u001b[1;32mC:\\Anaconda\\lib\\site-packages\\IPython\\extensions\\rmagic.pyc\u001b[0m in \u001b[0;36mR\u001b[1;34m(self, line, cell, local_ns)\u001b[0m\n\u001b[0;32m    623\u001b[0m             \u001b[1;32mif\u001b[0m \u001b[1;32mnot\u001b[0m \u001b[0me\u001b[0m\u001b[1;33m.\u001b[0m\u001b[0mstdout\u001b[0m\u001b[1;33m.\u001b[0m\u001b[0mendswith\u001b[0m\u001b[1;33m(\u001b[0m\u001b[0me\u001b[0m\u001b[1;33m.\u001b[0m\u001b[0merr\u001b[0m\u001b[1;33m)\u001b[0m\u001b[1;33m:\u001b[0m\u001b[1;33m\u001b[0m\u001b[0m\n\u001b[0;32m    624\u001b[0m                 \u001b[1;32mprint\u001b[0m\u001b[1;33m(\u001b[0m\u001b[0me\u001b[0m\u001b[1;33m.\u001b[0m\u001b[0merr\u001b[0m\u001b[1;33m)\u001b[0m\u001b[1;33m\u001b[0m\u001b[0m\n\u001b[1;32m--> 625\u001b[1;33m             \u001b[0mrmtree\u001b[0m\u001b[1;33m(\u001b[0m\u001b[0mtmpd\u001b[0m\u001b[1;33m)\u001b[0m\u001b[1;33m\u001b[0m\u001b[0m\n\u001b[0m\u001b[0;32m    626\u001b[0m             \u001b[1;32mreturn\u001b[0m\u001b[1;33m\u001b[0m\u001b[0m\n\u001b[0;32m    627\u001b[0m         \u001b[1;32mfinally\u001b[0m\u001b[1;33m:\u001b[0m\u001b[1;33m\u001b[0m\u001b[0m\n",
        "\u001b[1;32mC:\\Anaconda\\lib\\shutil.pyc\u001b[0m in \u001b[0;36mrmtree\u001b[1;34m(path, ignore_errors, onerror)\u001b[0m\n\u001b[0;32m    250\u001b[0m                 \u001b[0mos\u001b[0m\u001b[1;33m.\u001b[0m\u001b[0mremove\u001b[0m\u001b[1;33m(\u001b[0m\u001b[0mfullname\u001b[0m\u001b[1;33m)\u001b[0m\u001b[1;33m\u001b[0m\u001b[0m\n\u001b[0;32m    251\u001b[0m             \u001b[1;32mexcept\u001b[0m \u001b[0mos\u001b[0m\u001b[1;33m.\u001b[0m\u001b[0merror\u001b[0m\u001b[1;33m,\u001b[0m \u001b[0merr\u001b[0m\u001b[1;33m:\u001b[0m\u001b[1;33m\u001b[0m\u001b[0m\n\u001b[1;32m--> 252\u001b[1;33m                 \u001b[0monerror\u001b[0m\u001b[1;33m(\u001b[0m\u001b[0mos\u001b[0m\u001b[1;33m.\u001b[0m\u001b[0mremove\u001b[0m\u001b[1;33m,\u001b[0m \u001b[0mfullname\u001b[0m\u001b[1;33m,\u001b[0m \u001b[0msys\u001b[0m\u001b[1;33m.\u001b[0m\u001b[0mexc_info\u001b[0m\u001b[1;33m(\u001b[0m\u001b[1;33m)\u001b[0m\u001b[1;33m)\u001b[0m\u001b[1;33m\u001b[0m\u001b[0m\n\u001b[0m\u001b[0;32m    253\u001b[0m     \u001b[1;32mtry\u001b[0m\u001b[1;33m:\u001b[0m\u001b[1;33m\u001b[0m\u001b[0m\n\u001b[0;32m    254\u001b[0m         \u001b[0mos\u001b[0m\u001b[1;33m.\u001b[0m\u001b[0mrmdir\u001b[0m\u001b[1;33m(\u001b[0m\u001b[0mpath\u001b[0m\u001b[1;33m)\u001b[0m\u001b[1;33m\u001b[0m\u001b[0m\n",
        "\u001b[1;32mC:\\Anaconda\\lib\\shutil.pyc\u001b[0m in \u001b[0;36mrmtree\u001b[1;34m(path, ignore_errors, onerror)\u001b[0m\n\u001b[0;32m    248\u001b[0m         \u001b[1;32melse\u001b[0m\u001b[1;33m:\u001b[0m\u001b[1;33m\u001b[0m\u001b[0m\n\u001b[0;32m    249\u001b[0m             \u001b[1;32mtry\u001b[0m\u001b[1;33m:\u001b[0m\u001b[1;33m\u001b[0m\u001b[0m\n\u001b[1;32m--> 250\u001b[1;33m                 \u001b[0mos\u001b[0m\u001b[1;33m.\u001b[0m\u001b[0mremove\u001b[0m\u001b[1;33m(\u001b[0m\u001b[0mfullname\u001b[0m\u001b[1;33m)\u001b[0m\u001b[1;33m\u001b[0m\u001b[0m\n\u001b[0m\u001b[0;32m    251\u001b[0m             \u001b[1;32mexcept\u001b[0m \u001b[0mos\u001b[0m\u001b[1;33m.\u001b[0m\u001b[0merror\u001b[0m\u001b[1;33m,\u001b[0m \u001b[0merr\u001b[0m\u001b[1;33m:\u001b[0m\u001b[1;33m\u001b[0m\u001b[0m\n\u001b[0;32m    252\u001b[0m                 \u001b[0monerror\u001b[0m\u001b[1;33m(\u001b[0m\u001b[0mos\u001b[0m\u001b[1;33m.\u001b[0m\u001b[0mremove\u001b[0m\u001b[1;33m,\u001b[0m \u001b[0mfullname\u001b[0m\u001b[1;33m,\u001b[0m \u001b[0msys\u001b[0m\u001b[1;33m.\u001b[0m\u001b[0mexc_info\u001b[0m\u001b[1;33m(\u001b[0m\u001b[1;33m)\u001b[0m\u001b[1;33m)\u001b[0m\u001b[1;33m\u001b[0m\u001b[0m\n",
        "\u001b[1;31mWindowsError\u001b[0m: [Error 32] The process cannot access the file because it is being used by another process: 'c:\\\\users\\\\kesj\\\\appdata\\\\local\\\\temp\\\\tmpthpsuh\\\\Rplots001.png'"
       ]
      }
     ],
     "prompt_number": 3
    },
    {
     "cell_type": "markdown",
     "metadata": {},
     "source": [
      "In order to display the map in the notebook, we need a small wrapper function."
     ]
    },
    {
     "cell_type": "code",
     "collapsed": false,
     "input": [
      "display_chart = function(viz){\n",
      "  y = paste(capture.output(viz$show('iframesrc', cdn = TRUE)), collapse = \"\\n\")\n",
      "  IRdisplay::display_html(y)\n",
      "}"
     ],
     "language": "python",
     "metadata": {},
     "outputs": [],
     "prompt_number": 2
    },
    {
     "cell_type": "markdown",
     "metadata": {},
     "source": [
      "We are now ready to display the map in the notebook."
     ]
    },
    {
     "cell_type": "code",
     "collapsed": false,
     "input": [
      "display_chart(map)"
     ],
     "language": "python",
     "metadata": {},
     "outputs": [
      {
       "html": [
        "<iframe srcdoc='\n",
        "&lt;!doctype HTML&gt;\n",
        "&lt;meta charset = &#039;utf-8&#039;&gt;\n",
        "&lt;html&gt;\n",
        "  &lt;head&gt;\n",
        "    &lt;link rel=&#039;stylesheet&#039; href=&#039;http://cdn.leafletjs.com/leaflet-0.5.1/leaflet.css&#039;&gt;\n",
        "    \n",
        "    &lt;script src=&#039;http://cdn.leafletjs.com/leaflet-0.5.1/leaflet.js&#039; type=&#039;text/javascript&#039;&gt;&lt;/script&gt;\n",
        "    &lt;script src=&#039;https://rawgithub.com/leaflet-extras/leaflet-providers/gh-pages/leaflet-providers.js&#039; type=&#039;text/javascript&#039;&gt;&lt;/script&gt;\n",
        "    &lt;script src=&#039;http://harrywood.co.uk/maps/examples/leaflet/leaflet-plugins/layer/vector/KML.js&#039; type=&#039;text/javascript&#039;&gt;&lt;/script&gt;\n",
        "    \n",
        "    &lt;style&gt;\n",
        "    .rChart {\n",
        "      display: block;\n",
        "      margin-left: auto; \n",
        "      margin-right: auto;\n",
        "      width: 800px;\n",
        "      height: 400px;\n",
        "    }  \n",
        "    &lt;/style&gt;\n",
        "    \n",
        "  &lt;/head&gt;\n",
        "  &lt;body &gt;\n",
        "    \n",
        "    &lt;div id = &#039;chart50fba8b7895&#039; class = &#039;rChart leaflet&#039;&gt;&lt;/div&gt;    \n",
        "    &lt;script&gt;\n",
        "  var spec = {\n",
        " &quot;dom&quot;: &quot;chart50fba8b7895&quot;,\n",
        "&quot;width&quot;:            800,\n",
        "&quot;height&quot;:            400,\n",
        "&quot;urlTemplate&quot;: &quot;http://{s}.tile.osm.org/{z}/{x}/{y}.png&quot;,\n",
        "&quot;layerOpts&quot;: {\n",
        " &quot;attribution&quot;: &quot;Map data&lt;a href=\\&quot;http://openstreetmap.org\\&quot;&gt;OpenStreetMap&lt;/a&gt;\\n         contributors, Imagery&lt;a href=\\&quot;http://mapbox.com\\&quot;&gt;MapBox&lt;/a&gt;&quot; \n",
        "},\n",
        "&quot;center&quot;: [       40.73846,      -73.99413 ],\n",
        "&quot;zoom&quot;:             16,\n",
        "&quot;provider&quot;: &quot;Stamen.TonerLite&quot;,\n",
        "&quot;id&quot;: &quot;chart50fba8b7895&quot; \n",
        "}\n",
        "\n",
        "  var map = L.map(spec.dom, spec.mapOpts)\n",
        "  \n",
        "    map.setView(spec.center, spec.zoom);\n",
        "\n",
        "    if (spec.provider){\n",
        "      L.tileLayer.provider(spec.provider).addTo(map)    \n",
        "    } else {\n",
        "\t\t  L.tileLayer(spec.urlTemplate, spec.layerOpts).addTo(map)\n",
        "    }\n",
        "     \n",
        "    \n",
        "    \n",
        "    \n",
        "    \n",
        "    \n",
        "    if (spec.circle2){\n",
        "      for (var c in spec.circle2){\n",
        "        var circle = L.circle(c.center, c.radius, c.opts)\n",
        "         .addTo(map);\n",
        "      }\n",
        "    }\n",
        "    \n",
        "    \n",
        "    \n",
        "    \n",
        "    \n",
        "   \n",
        "   \n",
        "   \n",
        "&lt;/script&gt;\n",
        "    \n",
        "    &lt;script&gt;&lt;/script&gt;    \n",
        "  &lt;/body&gt;\n",
        "&lt;/html&gt;\n",
        "' scrolling='no' seamless class='rChart \n",
        "leaflet\n",
        " '\n",
        "id='iframe-chart50fba8b7895'>\n",
        "</iframe>\n",
        "<style>iframe.rChart{ width: 100%; height: 400px;}</style>"
       ],
       "metadata": {},
       "output_type": "display_data"
      }
     ],
     "prompt_number": 3
    },
    {
     "cell_type": "markdown",
     "metadata": {},
     "source": [
      "We now want to add a route between the following waypoints. I have chosen the data structure to be an unnamed list of vectors, since it converts easily to the JSON structure expected by by routing plugin."
     ]
    },
    {
     "cell_type": "code",
     "collapsed": false,
     "input": [
      "mywaypoints = list(c(40.755413, -73.972886), c(40.757702, -74.001952))"
     ],
     "language": "python",
     "metadata": {},
     "outputs": [],
     "prompt_number": 4
    },
    {
     "cell_type": "markdown",
     "metadata": {},
     "source": [
      "In order to use the routing plugin, we first need to add the required js/css assets. I introduced the `addAssets` method in the `dev` version of `rCharts` precisely to serve this need (NOTE: It is currently a little buggy in terms of order in which the assets are specified, but I will take care of that this week)."
     ]
    },
    {
     "cell_type": "code",
     "collapsed": false,
     "input": [
      "map$addAssets(\n",
      "  css = \"http://www.liedman.net/leaflet-routing-machine/dist/leaflet-routing-machine.css\",\n",
      "  jshead = \"http://www.liedman.net/leaflet-routing-machine/dist/leaflet-routing-machine.min.js\"\n",
      ")\n",
      "\n",
      "routingTemplate = \"\n",
      " <script>\n",
      " var mywaypoints = %s\n",
      " L.Routing.control({\n",
      "  waypoints: [\n",
      "    L.latLng.apply(null, mywaypoints[0]),\n",
      "    L.latLng.apply(null, mywaypoints[1])\n",
      "  ]\n",
      " }).addTo(map);\n",
      " </script>\"\n",
      "\n",
      "map$setTemplate(\n",
      "  afterScript = sprintf(routingTemplate, RJSONIO::toJSON(mywaypoints))\n",
      ")\n",
      "display_chart(map)"
     ],
     "language": "python",
     "metadata": {},
     "outputs": [
      {
       "html": [
        "<iframe srcdoc='\n",
        "&lt;!doctype HTML&gt;\n",
        "&lt;meta charset = &#039;utf-8&#039;&gt;\n",
        "&lt;html&gt;\n",
        "  &lt;head&gt;\n",
        "    &lt;link rel=&#039;stylesheet&#039; href=&#039;http://cdn.leafletjs.com/leaflet-0.5.1/leaflet.css&#039;&gt;\n",
        "    &lt;link rel=&#039;stylesheet&#039; href=&#039;http://www.liedman.net/leaflet-routing-machine/dist/leaflet-routing-machine.css&#039;&gt;\n",
        "    \n",
        "    &lt;script src=&#039;http://cdn.leafletjs.com/leaflet-0.5.1/leaflet.js&#039; type=&#039;text/javascript&#039;&gt;&lt;/script&gt;\n",
        "    &lt;script src=&#039;https://rawgithub.com/leaflet-extras/leaflet-providers/gh-pages/leaflet-providers.js&#039; type=&#039;text/javascript&#039;&gt;&lt;/script&gt;\n",
        "    &lt;script src=&#039;http://harrywood.co.uk/maps/examples/leaflet/leaflet-plugins/layer/vector/KML.js&#039; type=&#039;text/javascript&#039;&gt;&lt;/script&gt;\n",
        "    &lt;script src=&#039;http://www.liedman.net/leaflet-routing-machine/dist/leaflet-routing-machine.min.js&#039; type=&#039;text/javascript&#039;&gt;&lt;/script&gt;\n",
        "    \n",
        "    &lt;style&gt;\n",
        "    .rChart {\n",
        "      display: block;\n",
        "      margin-left: auto; \n",
        "      margin-right: auto;\n",
        "      width: 800px;\n",
        "      height: 400px;\n",
        "    }  \n",
        "    &lt;/style&gt;\n",
        "    \n",
        "  &lt;/head&gt;\n",
        "  &lt;body &gt;\n",
        "    \n",
        "    &lt;div id = &#039;chart50fba8b7895&#039; class = &#039;rChart leaflet&#039;&gt;&lt;/div&gt;    \n",
        "    &lt;script&gt;\n",
        "  var spec = {\n",
        " &quot;dom&quot;: &quot;chart50fba8b7895&quot;,\n",
        "&quot;width&quot;:            800,\n",
        "&quot;height&quot;:            400,\n",
        "&quot;urlTemplate&quot;: &quot;http://{s}.tile.osm.org/{z}/{x}/{y}.png&quot;,\n",
        "&quot;layerOpts&quot;: {\n",
        " &quot;attribution&quot;: &quot;Map data&lt;a href=\\&quot;http://openstreetmap.org\\&quot;&gt;OpenStreetMap&lt;/a&gt;\\n         contributors, Imagery&lt;a href=\\&quot;http://mapbox.com\\&quot;&gt;MapBox&lt;/a&gt;&quot; \n",
        "},\n",
        "&quot;center&quot;: [       40.73846,      -73.99413 ],\n",
        "&quot;zoom&quot;:             16,\n",
        "&quot;provider&quot;: &quot;Stamen.TonerLite&quot;,\n",
        "&quot;id&quot;: &quot;chart50fba8b7895&quot; \n",
        "}\n",
        "\n",
        "  var map = L.map(spec.dom, spec.mapOpts)\n",
        "  \n",
        "    map.setView(spec.center, spec.zoom);\n",
        "\n",
        "    if (spec.provider){\n",
        "      L.tileLayer.provider(spec.provider).addTo(map)    \n",
        "    } else {\n",
        "\t\t  L.tileLayer(spec.urlTemplate, spec.layerOpts).addTo(map)\n",
        "    }\n",
        "     \n",
        "    \n",
        "    \n",
        "    \n",
        "    \n",
        "    \n",
        "    if (spec.circle2){\n",
        "      for (var c in spec.circle2){\n",
        "        var circle = L.circle(c.center, c.radius, c.opts)\n",
        "         .addTo(map);\n",
        "      }\n",
        "    }\n",
        "    \n",
        "    \n",
        "    \n",
        "    \n",
        "    \n",
        "   \n",
        "   \n",
        "   \n",
        "&lt;/script&gt;\n",
        "    \n",
        "    \n",
        "     &lt;script&gt;\n",
        "     var mywaypoints = [\n",
        "     [ 40.755, -73.973 ],\n",
        "    [ 40.758, -74.002 ] \n",
        "    ]\n",
        "     L.Routing.control({\n",
        "      waypoints: [\n",
        "        L.latLng.apply(null, mywaypoints[0]),\n",
        "        L.latLng.apply(null, mywaypoints[1])\n",
        "      ]\n",
        "     }).addTo(map);\n",
        "     &lt;/script&gt;    \n",
        "  &lt;/body&gt;\n",
        "&lt;/html&gt;\n",
        "' scrolling='no' seamless class='rChart \n",
        "leaflet\n",
        " '\n",
        "id='iframe-chart50fba8b7895'>\n",
        "</iframe>\n",
        "<style>iframe.rChart{ width: 100%; height: 400px;}</style>"
       ],
       "metadata": {},
       "output_type": "display_data"
      }
     ],
     "prompt_number": 5
    },
    {
     "cell_type": "code",
     "collapsed": true,
     "input": [],
     "language": "python",
     "metadata": {},
     "outputs": []
    }
   ],
   "metadata": {}
  }
 ]
}