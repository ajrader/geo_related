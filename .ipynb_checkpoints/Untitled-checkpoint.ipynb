{
 "cells": [
  {
   "cell_type": "markdown",
   "metadata": {},
   "source": [
    "# Poking around at getting stats on indianapolis churches\n",
    "Step 1. scrape addresses of churches\n"
   ]
  },
  {
   "cell_type": "code",
   "execution_count": 1,
   "metadata": {},
   "outputs": [
    {
     "name": "stdout",
     "output_type": "stream",
     "text": [
      "Populating the interactive namespace from numpy and matplotlib\n"
     ]
    }
   ],
   "source": [
    "import pandas as pd\n",
    "%pylab inline\n",
    "from bs4 import BeautifulSoup\n",
    "import requests"
   ]
  },
  {
   "cell_type": "code",
   "execution_count": 10,
   "metadata": {
    "collapsed": true
   },
   "outputs": [],
   "source": [
    "indy_zip_codes_url = 'https://www.zip-codes.com/city/in-indianapolis.asp'\n",
    "in_zip_resp = requests.get(indy_zip_codes_url)"
   ]
  },
  {
   "cell_type": "code",
   "execution_count": 13,
   "metadata": {},
   "outputs": [
    {
     "data": {
      "text/plain": [
       "1"
      ]
     },
     "execution_count": 13,
     "metadata": {},
     "output_type": "execute_result"
    }
   ],
   "source": [
    "zip_soup=BeautifulSoup(in_zip_resp.text,'lxml')\n",
    "zip_table = zip_soup.find_all('table', attrs={'id':'tblZIP'})\n",
    "len(zip_table)"
   ]
  },
  {
   "cell_type": "code",
   "execution_count": 25,
   "metadata": {},
   "outputs": [
    {
     "data": {
      "text/plain": [
       "[<td class=\"label\"><strong>ZIP Code</strong></td>,\n",
       " <td class=\"info\"><strong>Type</strong></td>,\n",
       " <td class=\"info\"><strong>County</strong></td>,\n",
       " <td class=\"info\"><strong>Population</strong></td>,\n",
       " <td class=\"info\"><strong>Area Code(s)</strong></td>]"
      ]
     },
     "execution_count": 25,
     "metadata": {},
     "output_type": "execute_result"
    }
   ],
   "source": [
    "zip_rows = zip_table[0].find_all('tr')\n",
    "zip_rows[0].find_all('td')"
   ]
  },
  {
   "cell_type": "code",
   "execution_count": 26,
   "metadata": {},
   "outputs": [
    {
     "name": "stdout",
     "output_type": "stream",
     "text": [
      "['ZIP Code', 'Type', 'County', 'Population', 'Area Code(s)']\n",
      "['ZIP Code 46201', 'Standard', 'Marion', '30,962', '317']\n",
      "['ZIP Code 46202', 'Standard', 'Marion', '16,335', '317 / 765']\n",
      "['ZIP Code 46203', 'Standard', 'Marion', '38,950', '317']\n",
      "['ZIP Code 46204', 'Standard', 'Marion', '5,125', '317 / 765']\n",
      "['ZIP Code 46205', 'Standard', 'Marion', '25,356', '317']\n",
      "['ZIP Code 46206', 'P.O. Box', 'Marion', '0', '317 / 765']\n",
      "['ZIP Code 46207', 'P.O. Box', 'Marion', '0', '317 / 765']\n",
      "['ZIP Code 46208', 'Standard', 'Marion', '22,239', '317']\n",
      "['ZIP Code 46209', 'Unique', 'Marion', '0', '317 / 765']\n"
     ]
    }
   ],
   "source": [
    "for row in zip_rows[:10]:\n",
    "    cols = [c.text for c in row.find_all('td')]\n",
    "    print(cols)"
   ]
  },
  {
   "cell_type": "code",
   "execution_count": 32,
   "metadata": {},
   "outputs": [
    {
     "data": {
      "text/plain": [
       "['ZIP Code 46201', 'Standard', 'Marion', '30,962', '317']"
      ]
     },
     "execution_count": 32,
     "metadata": {},
     "output_type": "execute_result"
    }
   ],
   "source": [
    "#[c.text for c in \n",
    "a = [row.find_all('td') for row in zip_rows[1:]]\n",
    "[c.text for c in a[0]]"
   ]
  },
  {
   "cell_type": "code",
   "execution_count": 33,
   "metadata": {},
   "outputs": [
    {
     "data": {
      "text/plain": [
       "55"
      ]
     },
     "execution_count": 33,
     "metadata": {},
     "output_type": "execute_result"
    }
   ],
   "source": [
    "my_data = []\n",
    "for b in a:\n",
    "    my_data.append([c.text for c in b])\n",
    "len(my_data)"
   ]
  },
  {
   "cell_type": "code",
   "execution_count": 34,
   "metadata": {
    "collapsed": true
   },
   "outputs": [],
   "source": [
    "indyzips = pd.DataFrame(columns=[c.text for c in zip_rows[0].find_all('td')],\n",
    "                       data = my_data)"
   ]
  },
  {
   "cell_type": "code",
   "execution_count": 37,
   "metadata": {
    "collapsed": true
   },
   "outputs": [],
   "source": [
    "indyzips['ZIP Code'] = indyzips['ZIP Code'].apply(lambda x: x.split()[-1])"
   ]
  },
  {
   "cell_type": "code",
   "execution_count": 40,
   "metadata": {},
   "outputs": [
    {
     "data": {
      "text/plain": [
       "55"
      ]
     },
     "execution_count": 40,
     "metadata": {},
     "output_type": "execute_result"
    }
   ],
   "source": [
    "#indyzips['Population'].apply(lambda x: pd.to_numeric(x))\n",
    "zip_list = indyzips['ZIP Code'].unique().tolist()\n",
    "len(zip_list)"
   ]
  },
  {
   "cell_type": "code",
   "execution_count": 42,
   "metadata": {},
   "outputs": [
    {
     "data": {
      "text/plain": [
       "['46290']"
      ]
     },
     "execution_count": 42,
     "metadata": {},
     "output_type": "execute_result"
    }
   ],
   "source": [
    "[a for a in zip_list if a.endswith('90') ]"
   ]
  },
  {
   "cell_type": "code",
   "execution_count": 82,
   "metadata": {
    "collapsed": true
   },
   "outputs": [],
   "source": [
    "indy_df = []\n",
    "for zipid in zip_list:\n",
    "    church_pg_url = 'https://www.churchangel.com/zips/IN-'+zipid+'/Indianapolis.htm'\n",
    "    resp_pg = requests.get(church_pg_url)\n",
    "    soup = BeautifulSoup(resp_pg.text, 'lxml')\n",
    "    innerhead_box = soup.find_all('div',attrs={'class': \"InnerHeadingBox\"})\n",
    "    for box in innerhead_box:\n",
    "        cnames= box.find_all('h5')\n",
    "        caddresses = box.find_all('p', attrs={'class','address'})\n",
    "    my_names = [c.text for c in cnames]\n",
    "    my_add = [c.text for c in caddresses]\n",
    "    tmp_df = pd.DataFrame([my_names, my_add]).T\n",
    "    tmp_df['zipcode']=int(zipid)\n",
    "    indy_df.append(tmp_df)\n",
    "    \n",
    "indy_df = pd.concat([x for x in indy_df])\n",
    "indy_df.columns=['church','address','zipcode']\n",
    "indy_df.index=range(len(indy_df))"
   ]
  },
  {
   "cell_type": "code",
   "execution_count": 83,
   "metadata": {},
   "outputs": [
    {
     "data": {
      "text/plain": [
       "809"
      ]
     },
     "execution_count": 83,
     "metadata": {},
     "output_type": "execute_result"
    }
   ],
   "source": [
    "len(indy_df)"
   ]
  },
  {
   "cell_type": "code",
   "execution_count": 79,
   "metadata": {
    "collapsed": true
   },
   "outputs": [],
   "source": [
    "#indy_df['address'].apply(lambda x: x.split()[-2])"
   ]
  },
  {
   "cell_type": "code",
   "execution_count": 84,
   "metadata": {},
   "outputs": [
    {
     "data": {
      "text/plain": [
       "array([46201, 46202, 46203, 46204, 46205, 46206, 46208, 46214, 46216,\n",
       "       46217, 46218, 46219, 46220, 46221, 46222, 46224, 46225, 46226,\n",
       "       46227, 46228, 46229, 46231, 46234, 46235, 46236, 46237, 46239,\n",
       "       46240, 46241, 46244, 46250, 46253, 46254, 46256, 46259, 46260,\n",
       "       46268, 46278, 46280, 46290], dtype=int64)"
      ]
     },
     "execution_count": 84,
     "metadata": {},
     "output_type": "execute_result"
    }
   ],
   "source": [
    "indy_df.zipcode.unique()"
   ]
  },
  {
   "cell_type": "code",
   "execution_count": 92,
   "metadata": {},
   "outputs": [
    {
     "data": {
      "text/plain": [
       "'English_United States.1252'"
      ]
     },
     "execution_count": 92,
     "metadata": {},
     "output_type": "execute_result"
    }
   ],
   "source": [
    "import locale\n",
    "from locale import atof\n",
    "locale.setlocale(locale.LC_NUMERIC, '')"
   ]
  },
  {
   "cell_type": "code",
   "execution_count": null,
   "metadata": {
    "collapsed": true
   },
   "outputs": [],
   "source": []
  },
  {
   "cell_type": "code",
   "execution_count": 95,
   "metadata": {
    "collapsed": true
   },
   "outputs": [],
   "source": [
    "indyzips['pop'] = indyzips['Population'].apply(atof).apply(lambda x: int(x))\n",
    "indyzips['zipcode']=indyzips['ZIP Code'].apply(lambda x: int(x))"
   ]
  },
  {
   "cell_type": "code",
   "execution_count": 111,
   "metadata": {},
   "outputs": [
    {
     "data": {
      "text/plain": [
       "809"
      ]
     },
     "execution_count": 111,
     "metadata": {},
     "output_type": "execute_result"
    }
   ],
   "source": [
    "indy_df2 = pd.merge(indy_df, indyzips[['pop','County','zipcode']], on='zipcode')#,how='outer')\n",
    "len(indy_df2)"
   ]
  },
  {
   "cell_type": "code",
   "execution_count": 112,
   "metadata": {},
   "outputs": [
    {
     "data": {
      "text/html": [
       "<div>\n",
       "<style>\n",
       "    .dataframe thead tr:only-child th {\n",
       "        text-align: right;\n",
       "    }\n",
       "\n",
       "    .dataframe thead th {\n",
       "        text-align: left;\n",
       "    }\n",
       "\n",
       "    .dataframe tbody tr th {\n",
       "        vertical-align: top;\n",
       "    }\n",
       "</style>\n",
       "<table border=\"1\" class=\"dataframe\">\n",
       "  <thead>\n",
       "    <tr style=\"text-align: right;\">\n",
       "      <th></th>\n",
       "      <th>church</th>\n",
       "    </tr>\n",
       "    <tr>\n",
       "      <th>zipcode</th>\n",
       "      <th></th>\n",
       "    </tr>\n",
       "  </thead>\n",
       "  <tbody>\n",
       "    <tr>\n",
       "      <th>46218</th>\n",
       "      <td>85</td>\n",
       "    </tr>\n",
       "    <tr>\n",
       "      <th>46203</th>\n",
       "      <td>55</td>\n",
       "    </tr>\n",
       "    <tr>\n",
       "      <th>46205</th>\n",
       "      <td>55</td>\n",
       "    </tr>\n",
       "    <tr>\n",
       "      <th>46208</th>\n",
       "      <td>53</td>\n",
       "    </tr>\n",
       "    <tr>\n",
       "      <th>46222</th>\n",
       "      <td>52</td>\n",
       "    </tr>\n",
       "    <tr>\n",
       "      <th>46202</th>\n",
       "      <td>48</td>\n",
       "    </tr>\n",
       "    <tr>\n",
       "      <th>46227</th>\n",
       "      <td>44</td>\n",
       "    </tr>\n",
       "    <tr>\n",
       "      <th>46226</th>\n",
       "      <td>37</td>\n",
       "    </tr>\n",
       "    <tr>\n",
       "      <th>46219</th>\n",
       "      <td>34</td>\n",
       "    </tr>\n",
       "    <tr>\n",
       "      <th>46201</th>\n",
       "      <td>31</td>\n",
       "    </tr>\n",
       "    <tr>\n",
       "      <th>46221</th>\n",
       "      <td>30</td>\n",
       "    </tr>\n",
       "    <tr>\n",
       "      <th>46220</th>\n",
       "      <td>27</td>\n",
       "    </tr>\n",
       "    <tr>\n",
       "      <th>46241</th>\n",
       "      <td>23</td>\n",
       "    </tr>\n",
       "    <tr>\n",
       "      <th>46224</th>\n",
       "      <td>22</td>\n",
       "    </tr>\n",
       "    <tr>\n",
       "      <th>46217</th>\n",
       "      <td>18</td>\n",
       "    </tr>\n",
       "    <tr>\n",
       "      <th>46237</th>\n",
       "      <td>16</td>\n",
       "    </tr>\n",
       "    <tr>\n",
       "      <th>46239</th>\n",
       "      <td>15</td>\n",
       "    </tr>\n",
       "    <tr>\n",
       "      <th>46256</th>\n",
       "      <td>14</td>\n",
       "    </tr>\n",
       "    <tr>\n",
       "      <th>46250</th>\n",
       "      <td>13</td>\n",
       "    </tr>\n",
       "    <tr>\n",
       "      <th>46260</th>\n",
       "      <td>13</td>\n",
       "    </tr>\n",
       "    <tr>\n",
       "      <th>46229</th>\n",
       "      <td>13</td>\n",
       "    </tr>\n",
       "    <tr>\n",
       "      <th>46225</th>\n",
       "      <td>12</td>\n",
       "    </tr>\n",
       "    <tr>\n",
       "      <th>46268</th>\n",
       "      <td>12</td>\n",
       "    </tr>\n",
       "    <tr>\n",
       "      <th>46240</th>\n",
       "      <td>12</td>\n",
       "    </tr>\n",
       "    <tr>\n",
       "      <th>46231</th>\n",
       "      <td>10</td>\n",
       "    </tr>\n",
       "    <tr>\n",
       "      <th>46214</th>\n",
       "      <td>10</td>\n",
       "    </tr>\n",
       "    <tr>\n",
       "      <th>46236</th>\n",
       "      <td>9</td>\n",
       "    </tr>\n",
       "    <tr>\n",
       "      <th>46234</th>\n",
       "      <td>9</td>\n",
       "    </tr>\n",
       "    <tr>\n",
       "      <th>46204</th>\n",
       "      <td>8</td>\n",
       "    </tr>\n",
       "    <tr>\n",
       "      <th>46254</th>\n",
       "      <td>7</td>\n",
       "    </tr>\n",
       "    <tr>\n",
       "      <th>46278</th>\n",
       "      <td>5</td>\n",
       "    </tr>\n",
       "    <tr>\n",
       "      <th>46228</th>\n",
       "      <td>4</td>\n",
       "    </tr>\n",
       "    <tr>\n",
       "      <th>46280</th>\n",
       "      <td>4</td>\n",
       "    </tr>\n",
       "    <tr>\n",
       "      <th>46244</th>\n",
       "      <td>2</td>\n",
       "    </tr>\n",
       "    <tr>\n",
       "      <th>46235</th>\n",
       "      <td>2</td>\n",
       "    </tr>\n",
       "    <tr>\n",
       "      <th>46216</th>\n",
       "      <td>1</td>\n",
       "    </tr>\n",
       "    <tr>\n",
       "      <th>46253</th>\n",
       "      <td>1</td>\n",
       "    </tr>\n",
       "    <tr>\n",
       "      <th>46206</th>\n",
       "      <td>1</td>\n",
       "    </tr>\n",
       "    <tr>\n",
       "      <th>46259</th>\n",
       "      <td>1</td>\n",
       "    </tr>\n",
       "    <tr>\n",
       "      <th>46290</th>\n",
       "      <td>1</td>\n",
       "    </tr>\n",
       "  </tbody>\n",
       "</table>\n",
       "</div>"
      ],
      "text/plain": [
       "         church\n",
       "zipcode        \n",
       "46218        85\n",
       "46203        55\n",
       "46205        55\n",
       "46208        53\n",
       "46222        52\n",
       "46202        48\n",
       "46227        44\n",
       "46226        37\n",
       "46219        34\n",
       "46201        31\n",
       "46221        30\n",
       "46220        27\n",
       "46241        23\n",
       "46224        22\n",
       "46217        18\n",
       "46237        16\n",
       "46239        15\n",
       "46256        14\n",
       "46250        13\n",
       "46260        13\n",
       "46229        13\n",
       "46225        12\n",
       "46268        12\n",
       "46240        12\n",
       "46231        10\n",
       "46214        10\n",
       "46236         9\n",
       "46234         9\n",
       "46204         8\n",
       "46254         7\n",
       "46278         5\n",
       "46228         4\n",
       "46280         4\n",
       "46244         2\n",
       "46235         2\n",
       "46216         1\n",
       "46253         1\n",
       "46206         1\n",
       "46259         1\n",
       "46290         1"
      ]
     },
     "execution_count": 112,
     "metadata": {},
     "output_type": "execute_result"
    }
   ],
   "source": [
    "#indy_df2.groupby('zipcode')[['pop']].sum().sum()\n",
    "count_per_zip = pd.DataFrame(indy_df2.groupby('zipcode')['church'].size())\n",
    "count_per_zip.sort_values('church',ascending=False)"
   ]
  },
  {
   "cell_type": "code",
   "execution_count": 113,
   "metadata": {},
   "outputs": [
    {
     "data": {
      "text/html": [
       "<div>\n",
       "<style>\n",
       "    .dataframe thead tr:only-child th {\n",
       "        text-align: right;\n",
       "    }\n",
       "\n",
       "    .dataframe thead th {\n",
       "        text-align: left;\n",
       "    }\n",
       "\n",
       "    .dataframe tbody tr th {\n",
       "        vertical-align: top;\n",
       "    }\n",
       "</style>\n",
       "<table border=\"1\" class=\"dataframe\">\n",
       "  <thead>\n",
       "    <tr style=\"text-align: right;\">\n",
       "      <th></th>\n",
       "      <th>zipcode</th>\n",
       "      <th>pop</th>\n",
       "      <th>church</th>\n",
       "    </tr>\n",
       "  </thead>\n",
       "  <tbody>\n",
       "    <tr>\n",
       "      <th>0</th>\n",
       "      <td>46201</td>\n",
       "      <td>30962</td>\n",
       "      <td>31</td>\n",
       "    </tr>\n",
       "    <tr>\n",
       "      <th>1</th>\n",
       "      <td>46202</td>\n",
       "      <td>16335</td>\n",
       "      <td>48</td>\n",
       "    </tr>\n",
       "    <tr>\n",
       "      <th>2</th>\n",
       "      <td>46203</td>\n",
       "      <td>38950</td>\n",
       "      <td>55</td>\n",
       "    </tr>\n",
       "    <tr>\n",
       "      <th>3</th>\n",
       "      <td>46204</td>\n",
       "      <td>5125</td>\n",
       "      <td>8</td>\n",
       "    </tr>\n",
       "    <tr>\n",
       "      <th>4</th>\n",
       "      <td>46205</td>\n",
       "      <td>25356</td>\n",
       "      <td>55</td>\n",
       "    </tr>\n",
       "  </tbody>\n",
       "</table>\n",
       "</div>"
      ],
      "text/plain": [
       "   zipcode    pop  church\n",
       "0    46201  30962      31\n",
       "1    46202  16335      48\n",
       "2    46203  38950      55\n",
       "3    46204   5125       8\n",
       "4    46205  25356      55"
      ]
     },
     "execution_count": 113,
     "metadata": {},
     "output_type": "execute_result"
    }
   ],
   "source": [
    "count_per_zip = pd.merge(indyzips[['zipcode','pop']], count_per_zip.reset_index(), on='zipcode')\n",
    "#count_per_zip[count_per_zip['pop']!=0][['pop','church']].apply(lambda x: x[0]/x[1],axis=1\n",
    "count_per_zip.head()"
   ]
  },
  {
   "cell_type": "code",
   "execution_count": 118,
   "metadata": {},
   "outputs": [
    {
     "data": {
      "text/html": [
       "<div>\n",
       "<style>\n",
       "    .dataframe thead tr:only-child th {\n",
       "        text-align: right;\n",
       "    }\n",
       "\n",
       "    .dataframe thead th {\n",
       "        text-align: left;\n",
       "    }\n",
       "\n",
       "    .dataframe tbody tr th {\n",
       "        vertical-align: top;\n",
       "    }\n",
       "</style>\n",
       "<table border=\"1\" class=\"dataframe\">\n",
       "  <thead>\n",
       "    <tr style=\"text-align: right;\">\n",
       "      <th></th>\n",
       "      <th>zipcode</th>\n",
       "      <th>pop</th>\n",
       "      <th>church</th>\n",
       "    </tr>\n",
       "  </thead>\n",
       "  <tbody>\n",
       "    <tr>\n",
       "      <th>5</th>\n",
       "      <td>46206</td>\n",
       "      <td>0</td>\n",
       "      <td>1</td>\n",
       "    </tr>\n",
       "    <tr>\n",
       "      <th>29</th>\n",
       "      <td>46244</td>\n",
       "      <td>0</td>\n",
       "      <td>2</td>\n",
       "    </tr>\n",
       "    <tr>\n",
       "      <th>31</th>\n",
       "      <td>46253</td>\n",
       "      <td>0</td>\n",
       "      <td>1</td>\n",
       "    </tr>\n",
       "  </tbody>\n",
       "</table>\n",
       "</div>"
      ],
      "text/plain": [
       "    zipcode  pop  church\n",
       "5     46206    0       1\n",
       "29    46244    0       2\n",
       "31    46253    0       1"
      ]
     },
     "execution_count": 118,
     "metadata": {},
     "output_type": "execute_result"
    }
   ],
   "source": [
    "count_per_zip[count_per_zip['pop']==0]"
   ]
  },
  {
   "cell_type": "code",
   "execution_count": 119,
   "metadata": {},
   "outputs": [
    {
     "data": {
      "text/html": [
       "<div>\n",
       "<style>\n",
       "    .dataframe thead tr:only-child th {\n",
       "        text-align: right;\n",
       "    }\n",
       "\n",
       "    .dataframe thead th {\n",
       "        text-align: left;\n",
       "    }\n",
       "\n",
       "    .dataframe tbody tr th {\n",
       "        vertical-align: top;\n",
       "    }\n",
       "</style>\n",
       "<table border=\"1\" class=\"dataframe\">\n",
       "  <thead>\n",
       "    <tr style=\"text-align: right;\">\n",
       "      <th></th>\n",
       "      <th>zipcode</th>\n",
       "      <th>pop</th>\n",
       "      <th>church</th>\n",
       "      <th>pop_per_church</th>\n",
       "    </tr>\n",
       "  </thead>\n",
       "  <tbody>\n",
       "    <tr>\n",
       "      <th>39</th>\n",
       "      <td>46290</td>\n",
       "      <td>170</td>\n",
       "      <td>1</td>\n",
       "      <td>170.000000</td>\n",
       "    </tr>\n",
       "    <tr>\n",
       "      <th>1</th>\n",
       "      <td>46202</td>\n",
       "      <td>16335</td>\n",
       "      <td>48</td>\n",
       "      <td>340.312500</td>\n",
       "    </tr>\n",
       "    <tr>\n",
       "      <th>10</th>\n",
       "      <td>46218</td>\n",
       "      <td>29028</td>\n",
       "      <td>85</td>\n",
       "      <td>341.505882</td>\n",
       "    </tr>\n",
       "    <tr>\n",
       "      <th>6</th>\n",
       "      <td>46208</td>\n",
       "      <td>22239</td>\n",
       "      <td>53</td>\n",
       "      <td>419.603774</td>\n",
       "    </tr>\n",
       "    <tr>\n",
       "      <th>4</th>\n",
       "      <td>46205</td>\n",
       "      <td>25356</td>\n",
       "      <td>55</td>\n",
       "      <td>461.018182</td>\n",
       "    </tr>\n",
       "    <tr>\n",
       "      <th>16</th>\n",
       "      <td>46225</td>\n",
       "      <td>7319</td>\n",
       "      <td>12</td>\n",
       "      <td>609.916667</td>\n",
       "    </tr>\n",
       "    <tr>\n",
       "      <th>3</th>\n",
       "      <td>46204</td>\n",
       "      <td>5125</td>\n",
       "      <td>8</td>\n",
       "      <td>640.625000</td>\n",
       "    </tr>\n",
       "    <tr>\n",
       "      <th>14</th>\n",
       "      <td>46222</td>\n",
       "      <td>34044</td>\n",
       "      <td>52</td>\n",
       "      <td>654.692308</td>\n",
       "    </tr>\n",
       "    <tr>\n",
       "      <th>2</th>\n",
       "      <td>46203</td>\n",
       "      <td>38950</td>\n",
       "      <td>55</td>\n",
       "      <td>708.181818</td>\n",
       "    </tr>\n",
       "    <tr>\n",
       "      <th>13</th>\n",
       "      <td>46221</td>\n",
       "      <td>26393</td>\n",
       "      <td>30</td>\n",
       "      <td>879.766667</td>\n",
       "    </tr>\n",
       "    <tr>\n",
       "      <th>11</th>\n",
       "      <td>46219</td>\n",
       "      <td>33930</td>\n",
       "      <td>34</td>\n",
       "      <td>997.941176</td>\n",
       "    </tr>\n",
       "    <tr>\n",
       "      <th>0</th>\n",
       "      <td>46201</td>\n",
       "      <td>30962</td>\n",
       "      <td>31</td>\n",
       "      <td>998.774194</td>\n",
       "    </tr>\n",
       "    <tr>\n",
       "      <th>21</th>\n",
       "      <td>46231</td>\n",
       "      <td>10440</td>\n",
       "      <td>10</td>\n",
       "      <td>1044.000000</td>\n",
       "    </tr>\n",
       "    <tr>\n",
       "      <th>17</th>\n",
       "      <td>46226</td>\n",
       "      <td>43904</td>\n",
       "      <td>37</td>\n",
       "      <td>1186.594595</td>\n",
       "    </tr>\n",
       "    <tr>\n",
       "      <th>12</th>\n",
       "      <td>46220</td>\n",
       "      <td>34830</td>\n",
       "      <td>27</td>\n",
       "      <td>1290.000000</td>\n",
       "    </tr>\n",
       "    <tr>\n",
       "      <th>18</th>\n",
       "      <td>46227</td>\n",
       "      <td>57086</td>\n",
       "      <td>44</td>\n",
       "      <td>1297.409091</td>\n",
       "    </tr>\n",
       "    <tr>\n",
       "      <th>28</th>\n",
       "      <td>46241</td>\n",
       "      <td>30670</td>\n",
       "      <td>23</td>\n",
       "      <td>1333.478261</td>\n",
       "    </tr>\n",
       "    <tr>\n",
       "      <th>30</th>\n",
       "      <td>46250</td>\n",
       "      <td>18546</td>\n",
       "      <td>13</td>\n",
       "      <td>1426.615385</td>\n",
       "    </tr>\n",
       "    <tr>\n",
       "      <th>27</th>\n",
       "      <td>46240</td>\n",
       "      <td>18731</td>\n",
       "      <td>12</td>\n",
       "      <td>1560.916667</td>\n",
       "    </tr>\n",
       "    <tr>\n",
       "      <th>15</th>\n",
       "      <td>46224</td>\n",
       "      <td>35094</td>\n",
       "      <td>22</td>\n",
       "      <td>1595.181818</td>\n",
       "    </tr>\n",
       "    <tr>\n",
       "      <th>9</th>\n",
       "      <td>46217</td>\n",
       "      <td>29358</td>\n",
       "      <td>18</td>\n",
       "      <td>1631.000000</td>\n",
       "    </tr>\n",
       "    <tr>\n",
       "      <th>37</th>\n",
       "      <td>46278</td>\n",
       "      <td>8197</td>\n",
       "      <td>5</td>\n",
       "      <td>1639.400000</td>\n",
       "    </tr>\n",
       "    <tr>\n",
       "      <th>33</th>\n",
       "      <td>46256</td>\n",
       "      <td>23647</td>\n",
       "      <td>14</td>\n",
       "      <td>1689.071429</td>\n",
       "    </tr>\n",
       "    <tr>\n",
       "      <th>26</th>\n",
       "      <td>46239</td>\n",
       "      <td>25345</td>\n",
       "      <td>15</td>\n",
       "      <td>1689.666667</td>\n",
       "    </tr>\n",
       "    <tr>\n",
       "      <th>8</th>\n",
       "      <td>46216</td>\n",
       "      <td>1697</td>\n",
       "      <td>1</td>\n",
       "      <td>1697.000000</td>\n",
       "    </tr>\n",
       "    <tr>\n",
       "      <th>38</th>\n",
       "      <td>46280</td>\n",
       "      <td>6793</td>\n",
       "      <td>4</td>\n",
       "      <td>1698.250000</td>\n",
       "    </tr>\n",
       "    <tr>\n",
       "      <th>36</th>\n",
       "      <td>46268</td>\n",
       "      <td>24965</td>\n",
       "      <td>12</td>\n",
       "      <td>2080.416667</td>\n",
       "    </tr>\n",
       "    <tr>\n",
       "      <th>20</th>\n",
       "      <td>46229</td>\n",
       "      <td>27262</td>\n",
       "      <td>13</td>\n",
       "      <td>2097.076923</td>\n",
       "    </tr>\n",
       "    <tr>\n",
       "      <th>7</th>\n",
       "      <td>46214</td>\n",
       "      <td>24306</td>\n",
       "      <td>10</td>\n",
       "      <td>2430.600000</td>\n",
       "    </tr>\n",
       "    <tr>\n",
       "      <th>25</th>\n",
       "      <td>46237</td>\n",
       "      <td>39624</td>\n",
       "      <td>16</td>\n",
       "      <td>2476.500000</td>\n",
       "    </tr>\n",
       "    <tr>\n",
       "      <th>35</th>\n",
       "      <td>46260</td>\n",
       "      <td>32406</td>\n",
       "      <td>13</td>\n",
       "      <td>2492.769231</td>\n",
       "    </tr>\n",
       "    <tr>\n",
       "      <th>22</th>\n",
       "      <td>46234</td>\n",
       "      <td>24810</td>\n",
       "      <td>9</td>\n",
       "      <td>2756.666667</td>\n",
       "    </tr>\n",
       "    <tr>\n",
       "      <th>24</th>\n",
       "      <td>46236</td>\n",
       "      <td>27294</td>\n",
       "      <td>9</td>\n",
       "      <td>3032.666667</td>\n",
       "    </tr>\n",
       "    <tr>\n",
       "      <th>19</th>\n",
       "      <td>46228</td>\n",
       "      <td>14755</td>\n",
       "      <td>4</td>\n",
       "      <td>3688.750000</td>\n",
       "    </tr>\n",
       "    <tr>\n",
       "      <th>32</th>\n",
       "      <td>46254</td>\n",
       "      <td>38095</td>\n",
       "      <td>7</td>\n",
       "      <td>5442.142857</td>\n",
       "    </tr>\n",
       "    <tr>\n",
       "      <th>34</th>\n",
       "      <td>46259</td>\n",
       "      <td>11617</td>\n",
       "      <td>1</td>\n",
       "      <td>11617.000000</td>\n",
       "    </tr>\n",
       "    <tr>\n",
       "      <th>23</th>\n",
       "      <td>46235</td>\n",
       "      <td>30825</td>\n",
       "      <td>2</td>\n",
       "      <td>15412.500000</td>\n",
       "    </tr>\n",
       "  </tbody>\n",
       "</table>\n",
       "</div>"
      ],
      "text/plain": [
       "    zipcode    pop  church  pop_per_church\n",
       "39    46290    170       1      170.000000\n",
       "1     46202  16335      48      340.312500\n",
       "10    46218  29028      85      341.505882\n",
       "6     46208  22239      53      419.603774\n",
       "4     46205  25356      55      461.018182\n",
       "16    46225   7319      12      609.916667\n",
       "3     46204   5125       8      640.625000\n",
       "14    46222  34044      52      654.692308\n",
       "2     46203  38950      55      708.181818\n",
       "13    46221  26393      30      879.766667\n",
       "11    46219  33930      34      997.941176\n",
       "0     46201  30962      31      998.774194\n",
       "21    46231  10440      10     1044.000000\n",
       "17    46226  43904      37     1186.594595\n",
       "12    46220  34830      27     1290.000000\n",
       "18    46227  57086      44     1297.409091\n",
       "28    46241  30670      23     1333.478261\n",
       "30    46250  18546      13     1426.615385\n",
       "27    46240  18731      12     1560.916667\n",
       "15    46224  35094      22     1595.181818\n",
       "9     46217  29358      18     1631.000000\n",
       "37    46278   8197       5     1639.400000\n",
       "33    46256  23647      14     1689.071429\n",
       "26    46239  25345      15     1689.666667\n",
       "8     46216   1697       1     1697.000000\n",
       "38    46280   6793       4     1698.250000\n",
       "36    46268  24965      12     2080.416667\n",
       "20    46229  27262      13     2097.076923\n",
       "7     46214  24306      10     2430.600000\n",
       "25    46237  39624      16     2476.500000\n",
       "35    46260  32406      13     2492.769231\n",
       "22    46234  24810       9     2756.666667\n",
       "24    46236  27294       9     3032.666667\n",
       "19    46228  14755       4     3688.750000\n",
       "32    46254  38095       7     5442.142857\n",
       "34    46259  11617       1    11617.000000\n",
       "23    46235  30825       2    15412.500000"
      ]
     },
     "execution_count": 119,
     "metadata": {},
     "output_type": "execute_result"
    }
   ],
   "source": [
    "count_per_zip2 = count_per_zip[count_per_zip['pop']!=0].copy()\n",
    "count_per_zip2['pop_per_church']=count_per_zip2['pop']/count_per_zip2['church']\n",
    "count_per_zip2.sort_values(by='pop_per_church')"
   ]
  },
  {
   "cell_type": "code",
   "execution_count": 120,
   "metadata": {},
   "outputs": [
    {
     "data": {
      "text/plain": [
       "<matplotlib.axes._subplots.AxesSubplot at 0x2664f53a198>"
      ]
     },
     "execution_count": 120,
     "metadata": {},
     "output_type": "execute_result"
    },
    {
     "data": {
      "image/png": "[encoded data removed]",
      "text/plain": [
       "<matplotlib.figure.Figure at 0x2664eaca668>"
      ]
     },
     "metadata": {},
     "output_type": "display_data"
    }
   ],
   "source": [
    "count_per_zip2.pop_per_church.hist(bins=30)"
   ]
  },
  {
   "cell_type": "code",
   "execution_count": 122,
   "metadata": {},
   "outputs": [
    {
     "data": {
      "text/plain": [
       "zipcode    1849320\n",
       "pop         910148\n",
       "church         809\n",
       "dtype: int64"
      ]
     },
     "execution_count": 122,
     "metadata": {},
     "output_type": "execute_result"
    }
   ],
   "source": [
    "count_per_zip.sum()"
   ]
  },
  {
   "cell_type": "code",
   "execution_count": 123,
   "metadata": {},
   "outputs": [
    {
     "data": {
      "text/plain": [
       "1125.0284301606923"
      ]
     },
     "execution_count": 123,
     "metadata": {},
     "output_type": "execute_result"
    }
   ],
   "source": [
    "count_per_zip.sum()['pop']/count_per_zip.sum().church"
   ]
  },
  {
   "cell_type": "code",
   "execution_count": 124,
   "metadata": {},
   "outputs": [
    {
     "data": {
      "text/plain": [
       "910148"
      ]
     },
     "execution_count": 124,
     "metadata": {},
     "output_type": "execute_result"
    }
   ],
   "source": [
    "indyzips['pop'].sum()"
   ]
  },
  {
   "cell_type": "code",
   "execution_count": 125,
   "metadata": {},
   "outputs": [
    {
     "data": {
      "text/plain": [
       "40"
      ]
     },
     "execution_count": 125,
     "metadata": {},
     "output_type": "execute_result"
    }
   ],
   "source": [
    "len(count_per_zip)"
   ]
  },
  {
   "cell_type": "code",
   "execution_count": 128,
   "metadata": {},
   "outputs": [
    {
     "data": {
      "text/plain": [
       "832.310875842156"
      ]
     },
     "execution_count": 128,
     "metadata": {},
     "output_type": "execute_result"
    }
   ],
   "source": [
    "864771/1039"
   ]
  },
  {
   "cell_type": "code",
   "execution_count": 130,
   "metadata": {},
   "outputs": [
    {
     "data": {
      "text/plain": [
       "1729.542"
      ]
     },
     "execution_count": 130,
     "metadata": {},
     "output_type": "execute_result"
    }
   ],
   "source": [
    "864771/500 "
   ]
  },
  {
   "cell_type": "code",
   "execution_count": 131,
   "metadata": {},
   "outputs": [
    {
     "data": {
      "text/plain": [
       "1.6641000962463908"
      ]
     },
     "execution_count": 131,
     "metadata": {},
     "output_type": "execute_result"
    }
   ],
   "source": [
    "1729/1039"
   ]
  },
  {
   "cell_type": "code",
   "execution_count": 1,
   "metadata": {},
   "outputs": [
    {
     "data": {
      "text/plain": [
       "690"
      ]
     },
     "execution_count": 1,
     "metadata": {},
     "output_type": "execute_result"
    }
   ],
   "source": [
    "1729-1039"
   ]
  },
  {
   "cell_type": "code",
   "execution_count": 134,
   "metadata": {},
   "outputs": [
    {
     "data": {
      "text/plain": [
       "934.5"
      ]
     },
     "execution_count": 134,
     "metadata": {},
     "output_type": "execute_result"
    }
   ],
   "source": [
    "(1037+832)/2"
   ]
  },
  {
   "cell_type": "code",
   "execution_count": 138,
   "metadata": {},
   "outputs": [
    {
     "data": {
      "text/plain": [
       "500.0"
      ]
     },
     "execution_count": 138,
     "metadata": {},
     "output_type": "execute_result"
    }
   ],
   "source": [
    "1.5*10**6/(1500+1500)"
   ]
  },
  {
   "cell_type": "code",
   "execution_count": 5,
   "metadata": {},
   "outputs": [
    {
     "data": {
      "text/plain": [
       "2420.084"
      ]
     },
     "execution_count": 5,
     "metadata": {},
     "output_type": "execute_result"
    }
   ],
   "source": [
    "864771/250 - 1039"
   ]
  },
  {
   "cell_type": "code",
   "execution_count": 3,
   "metadata": {},
   "outputs": [
    {
     "data": {
      "text/plain": [
       "2420"
      ]
     },
     "execution_count": 3,
     "metadata": {},
     "output_type": "execute_result"
    }
   ],
   "source": [
    "3459-1039"
   ]
  },
  {
   "cell_type": "code",
   "execution_count": 7,
   "metadata": {},
   "outputs": [
    {
     "data": {
      "text/plain": [
       "(860.0, 1720.0)"
      ]
     },
     "execution_count": 7,
     "metadata": {},
     "output_type": "execute_result"
    }
   ],
   "source": [
    "860000/1000, 860000/500"
   ]
  },
  {
   "cell_type": "code",
   "execution_count": 9,
   "metadata": {},
   "outputs": [
    {
     "data": {
      "text/plain": [
       "1634"
      ]
     },
     "execution_count": 9,
     "metadata": {},
     "output_type": "execute_result"
    }
   ],
   "source": [
    "1720-86"
   ]
  },
  {
   "cell_type": "code",
   "execution_count": 11,
   "metadata": {},
   "outputs": [
    {
     "data": {
      "text/plain": [
       "500.0"
      ]
     },
     "execution_count": 11,
     "metadata": {},
     "output_type": "execute_result"
    }
   ],
   "source": [
    "180000/360"
   ]
  },
  {
   "cell_type": "code",
   "execution_count": null,
   "metadata": {
    "collapsed": true
   },
   "outputs": [],
   "source": []
  }
 ],
 "metadata": {
  "kernelspec": {
   "display_name": "Python 3",
   "language": "python",
   "name": "python3"
  },
  "language_info": {
   "codemirror_mode": {
    "name": "ipython",
    "version": 3
   },
   "file_extension": ".py",
   "mimetype": "text/x-python",
   "name": "python",
   "nbconvert_exporter": "python",
   "pygments_lexer": "ipython3",
   "version": "3.6.1"
  }
 },
 "nbformat": 4,
 "nbformat_minor": 2
}
