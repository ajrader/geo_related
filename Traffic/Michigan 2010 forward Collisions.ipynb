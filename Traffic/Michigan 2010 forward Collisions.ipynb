{
 "cells": [
  {
   "cell_type": "markdown",
   "metadata": {},
   "source": [
    "# Notebook to process the Michigan Claims Loss notes\n",
    "### I used Cause of Loss (COL) = 400 and dates after 2009-12-31\n"
   ]
  },
  {
   "cell_type": "markdown",
   "metadata": {},
   "source": [
    "### SQL code to generate this file\n",
    "#### Step 1\n",
    "```\n",
    "drop table if exists kesj.claims_400;\n",
    "create table kesj.claims_400 as\n",
    "        select distinct\n",
    "                systems_fdwatomcecs.col.rsrv_col_cd,\n",
    "                systems_fdwatomcecs.col.clm_id\n",
    "         from\n",
    "                systems_fdwatomcecs.col\n",
    "         where\n",
    "                systems_fdwatomcecs.col.rsrv_col_cd ='400';\n",
    "```\n",
    "#### Step 2\n",
    "```\n",
    "drop table if exists kesj.claims_400_more;\n",
    "create table kesj.claims_400_more as\n",
    "select distinct \n",
    "        kesj.claims_400.rsrv_col_cd,\n",
    "        kesj.claims_400.clm_id,\n",
    "        systems_fdwatomcecs.clm.clm_num,\n",
    "        systems_fdwatomcecs.clm.clm_st_cd,\n",
    "\t\tsystems_fdwatomcecs.clm.st_asgn_st_cd,\n",
    "\t\tsystems_fdwatomcecs.clm.los_occr_dt,\n",
    "\t\tsystems_fdwatomcecs.clm.los_type_cd,\n",
    "\t\tsystems_fdwatomcecs.clm.rpt_agt_st_cd,\n",
    "\t\tsystems_fdwatomcecs.clm.los_loc_city_nm,\n",
    "\t\tsystems_fdwatomcecs.clm.los_loc_stret_nm,\n",
    "\t\tsystems_fdwatomcecs.clm.los_loc_st_cd,\n",
    "\t\tsystems_fdwatomcecs.clm.los_loc_desc_txt,\n",
    "        systems_fdwatomcecs.clm.los_desc_txt,\n",
    "        systems_fdwatomcecs.clm.los_rpt_dt,\n",
    "        systems_fdwatomcecs.clm.app_cd,\n",
    "        systems_fdwatomcecs.clm.user_type_cd,\n",
    "\t\tsystems_fdwatomcecs.clm.loc_qlty_cd,\n",
    "\t\tsystems_fdwatomcecs.clm.latud_num,\n",
    "\t\tsystems_fdwatomcecs.clm.lngtd_num\n",
    "FROM\n",
    "        kesj.claims_400\n",
    "LEFT OUTER JOIN \n",
    "        systems_fdwatomcecs.clm\n",
    "ON\n",
    " (        kesj.claims_400.clm_id = systems_fdwatomcecs.clm.clm_id) ;\n",
    "        ```\n",
    "#### step 3: \n",
    "```\n",
    "drop table if exists kesj.claims_400_mi;\n",
    "create table kesj.claims_400_mi as\n",
    "select * \n",
    "FROM\n",
    "    kesj.claims_400_more\n",
    "WHERE\n",
    "\tkesj.claims_400_more.los_loc_st_cd = 'MI' \n",
    "AND kesj.claims_400_more.los_rpt_dt > '2009-12-31' ;\n",
    "\n",
    "```"
   ]
  },
  {
   "cell_type": "markdown",
   "metadata": {},
   "source": [
    "### generic loads"
   ]
  },
  {
   "cell_type": "code",
   "execution_count": 2,
   "metadata": {
    "collapsed": false
   },
   "outputs": [],
   "source": [
    "import os,subprocess\n",
    "import pandas as pd\n",
    "import numpy as np\n",
    "%matplotlib inline\n",
    "#from datetime import datetime\n",
    "import matplotlib.pyplot as plt\n",
    "#from sklearn import preprocessing\n",
    "#from itertools import chain\n",
    "#import random\n",
    "plt.style.use('fivethirtyeight') # Good looking plots\n",
    "#import seaborn as sns"
   ]
  },
  {
   "cell_type": "markdown",
   "metadata": {},
   "source": [
    "### check on the paths"
   ]
  },
  {
   "cell_type": "code",
   "execution_count": 3,
   "metadata": {
    "collapsed": false
   },
   "outputs": [
    {
     "name": "stdout",
     "output_type": "stream",
     "text": [
      "/home/kesj/work/mi400test1\n",
      "/home/kesj/work/mi400test1\n"
     ]
    }
   ],
   "source": [
    "# check if the local path exists\n",
    "dir1local = '/home/kesj/work/mi400test1'\n",
    "if not os.path.exists(dir1local):\n",
    "    # make the local directory\n",
    "    !mkdir {dir1local}\n",
    "\n",
    "%pwd\n",
    "%cd {dir1local}\n",
    "cwd=os.path.abspath(os.curdir)\n",
    "print cwd"
   ]
  },
  {
   "cell_type": "code",
   "execution_count": 16,
   "metadata": {
    "collapsed": true
   },
   "outputs": [],
   "source": [
    "def hdfs_path_does_exist(path):\n",
    "    return subprocess.call(['hdfs','dfs','-ls',path])\n",
    "    # returns 0 if does_exist; 1 otherwise\n",
    "    \n",
    "## function to load into pandas from hdfs (by copying to local filespace)\n",
    "def pandas_read_hdfs(infile,sep = ';',**kwargs):\n",
    "    # copy the infile to the cwd\n",
    "    !hdfs dfs -get {infile} .\n",
    "    # identify the local file name\n",
    "    inname = infile[infile.rfind('/')+1:]\n",
    "    # read into a data frame\n",
    "    #if dtype_dict != None:\n",
    "    #    df = pd.read_csv(inname,sep=sep,**kwargs)\n",
    "    #else:\n",
    "    df = pd.read_csv(inname,sep=sep,**kwargs)\n",
    "    # clean up local filespace\n",
    "    !rm {inname}\n",
    "    return df"
   ]
  },
  {
   "cell_type": "code",
   "execution_count": 9,
   "metadata": {
    "collapsed": false
   },
   "outputs": [
    {
     "name": "stdout",
     "output_type": "stream",
     "text": [
      "['/user/kesj/data/mi400/mi400a.ssv']\n"
     ]
    }
   ],
   "source": [
    "# check if the remote (HDFS) path exists\n",
    "hdfsdir = '/user/kesj/data/mi400'\n",
    "if not hdfs_path_does_exist(hdfsdir):\n",
    "    fnames = !hdfs dfs -ls {hdfsdir}\n",
    "    infilenames = [f.split()[-1] for f in fnames[1:]]\n",
    "\n",
    "print infilenames\n"
   ]
  },
  {
   "cell_type": "code",
   "execution_count": 17,
   "metadata": {
    "collapsed": false
   },
   "outputs": [
    {
     "name": "stdout",
     "output_type": "stream",
     "text": [
      "get: `mi400a.ssv': File exists\r\n"
     ]
    }
   ],
   "source": [
    "mi400 = pandas_read_hdfs(infilenames[0],header=None)"
   ]
  },
  {
   "cell_type": "code",
   "execution_count": 18,
   "metadata": {
    "collapsed": false
   },
   "outputs": [
    {
     "data": {
      "text/plain": [
       "616881"
      ]
     },
     "execution_count": 18,
     "metadata": {},
     "output_type": "execute_result"
    }
   ],
   "source": [
    "len(mi400)"
   ]
  },
  {
   "cell_type": "code",
   "execution_count": 19,
   "metadata": {
    "collapsed": false
   },
   "outputs": [
    {
     "data": {
      "text/html": [
       "<div style=\"max-height:1000px;max-width:1500px;overflow:auto;\">\n",
       "<table border=\"1\" class=\"dataframe\">\n",
       "  <thead>\n",
       "    <tr style=\"text-align: right;\">\n",
       "      <th></th>\n",
       "      <th>0</th>\n",
       "      <th>1</th>\n",
       "      <th>2</th>\n",
       "      <th>3</th>\n",
       "      <th>4</th>\n",
       "      <th>5</th>\n",
       "      <th>6</th>\n",
       "      <th>7</th>\n",
       "      <th>8</th>\n",
       "      <th>9</th>\n",
       "      <th>10</th>\n",
       "      <th>11</th>\n",
       "      <th>12</th>\n",
       "      <th>13</th>\n",
       "      <th>14</th>\n",
       "      <th>15</th>\n",
       "      <th>16</th>\n",
       "      <th>17</th>\n",
       "      <th>18</th>\n",
       "    </tr>\n",
       "  </thead>\n",
       "  <tbody>\n",
       "    <tr>\n",
       "      <th>0</th>\n",
       "      <td>400</td>\n",
       "      <td>0000052048071</td>\n",
       "      <td>004W253</td>\n",
       "      <td>22</td>\n",
       "      <td></td>\n",
       "      <td>2010-12-28</td>\n",
       "      <td>REG</td>\n",
       "      <td>22</td>\n",
       "      <td>BASTTLE CREEK</td>\n",
       "      <td></td>\n",
       "      <td>MI</td>\n",
       "      <td>PARKING RAMP</td>\n",
       "      <td>INSURED NOTICED DAMAGE WHEN RETURNING TO CAR</td>\n",
       "      <td>2011-01-06</td>\n",
       "      <td>I</td>\n",
       "      <td>AGT</td>\n",
       "      <td></td>\n",
       "      <td>0</td>\n",
       "      <td>0</td>\n",
       "    </tr>\n",
       "    <tr>\n",
       "      <th>1</th>\n",
       "      <td>400</td>\n",
       "      <td>0000033413931</td>\n",
       "      <td>002V719</td>\n",
       "      <td>22</td>\n",
       "      <td></td>\n",
       "      <td>2010-11-20</td>\n",
       "      <td>REG</td>\n",
       "      <td></td>\n",
       "      <td>Bay City</td>\n",
       "      <td></td>\n",
       "      <td>MI</td>\n",
       "      <td>probably in parking lot off EUCLID</td>\n",
       "      <td>Final\\rWhile V1 was parked and unoccupied, it ...</td>\n",
       "      <td>2010-11-20</td>\n",
       "      <td>E</td>\n",
       "      <td>CRC</td>\n",
       "      <td></td>\n",
       "      <td>0</td>\n",
       "      <td>0</td>\n",
       "    </tr>\n",
       "    <tr>\n",
       "      <th>2</th>\n",
       "      <td>400</td>\n",
       "      <td>0000033413931</td>\n",
       "      <td>002V719</td>\n",
       "      <td>22</td>\n",
       "      <td></td>\n",
       "      <td>2010-11-20</td>\n",
       "      <td>REG</td>\n",
       "      <td></td>\n",
       "      <td>Bay City</td>\n",
       "      <td></td>\n",
       "      <td>MI</td>\n",
       "      <td>probably in parking lot off EUCLID</td>\n",
       "      <td>While V1 was parked and unoccupied, it was hit...</td>\n",
       "      <td>2010-11-20</td>\n",
       "      <td>E</td>\n",
       "      <td>CRC</td>\n",
       "      <td></td>\n",
       "      <td>0</td>\n",
       "      <td>0</td>\n",
       "    </tr>\n",
       "    <tr>\n",
       "      <th>3</th>\n",
       "      <td>400</td>\n",
       "      <td>0000034590923</td>\n",
       "      <td>002Z262</td>\n",
       "      <td>22</td>\n",
       "      <td></td>\n",
       "      <td>2010-11-23</td>\n",
       "      <td>REG</td>\n",
       "      <td>22</td>\n",
       "      <td>BENTON HARBOR</td>\n",
       "      <td></td>\n",
       "      <td>MI</td>\n",
       "      <td>I-94 WEST BOUND</td>\n",
       "      <td>V1 ON I94 NEAR EXIT RAMP.  V2 STARTED TO EXIT,...</td>\n",
       "      <td>2010-11-24</td>\n",
       "      <td>I</td>\n",
       "      <td>AGT</td>\n",
       "      <td></td>\n",
       "      <td>0</td>\n",
       "      <td>0</td>\n",
       "    </tr>\n",
       "    <tr>\n",
       "      <th>4</th>\n",
       "      <td>400</td>\n",
       "      <td>0000034590923</td>\n",
       "      <td>002Z262</td>\n",
       "      <td>22</td>\n",
       "      <td></td>\n",
       "      <td>2010-11-23</td>\n",
       "      <td>REG</td>\n",
       "      <td>22</td>\n",
       "      <td>BENTON HARBOR</td>\n",
       "      <td></td>\n",
       "      <td>MI</td>\n",
       "      <td>I-94 WEST BOUND</td>\n",
       "      <td>V1 ON I94 NEAR EXIT RAMP.  V2 STARTED TO EXIT,...</td>\n",
       "      <td>2010-11-24</td>\n",
       "      <td>I</td>\n",
       "      <td>AGT</td>\n",
       "      <td></td>\n",
       "      <td>0</td>\n",
       "      <td>0</td>\n",
       "    </tr>\n",
       "  </tbody>\n",
       "</table>\n",
       "</div>"
      ],
      "text/plain": [
       "    0              1        2   3   4           5    6   7   \\\n",
       "0  400  0000052048071  004W253  22      2010-12-28  REG  22   \n",
       "1  400  0000033413931  002V719  22      2010-11-20  REG       \n",
       "2  400  0000033413931  002V719  22      2010-11-20  REG       \n",
       "3  400  0000034590923  002Z262  22      2010-11-23  REG  22   \n",
       "4  400  0000034590923  002Z262  22      2010-11-23  REG  22   \n",
       "\n",
       "                               8   \\\n",
       "0  BASTTLE CREEK                    \n",
       "1  Bay City                         \n",
       "2  Bay City                         \n",
       "3  BENTON HARBOR                    \n",
       "4  BENTON HARBOR                    \n",
       "\n",
       "                                              9   10  \\\n",
       "0                                                 MI   \n",
       "1                                                 MI   \n",
       "2                                                 MI   \n",
       "3                                                 MI   \n",
       "4                                                 MI   \n",
       "\n",
       "                                   11  \\\n",
       "0                        PARKING RAMP   \n",
       "1  probably in parking lot off EUCLID   \n",
       "2  probably in parking lot off EUCLID   \n",
       "3                     I-94 WEST BOUND   \n",
       "4                     I-94 WEST BOUND   \n",
       "\n",
       "                                                  12          13 14   15  \\\n",
       "0       INSURED NOTICED DAMAGE WHEN RETURNING TO CAR  2011-01-06  I  AGT   \n",
       "1  Final\\rWhile V1 was parked and unoccupied, it ...  2010-11-20  E  CRC   \n",
       "2  While V1 was parked and unoccupied, it was hit...  2010-11-20  E  CRC   \n",
       "3  V1 ON I94 NEAR EXIT RAMP.  V2 STARTED TO EXIT,...  2010-11-24  I  AGT   \n",
       "4  V1 ON I94 NEAR EXIT RAMP.  V2 STARTED TO EXIT,...  2010-11-24  I  AGT   \n",
       "\n",
       "     16  17  18  \n",
       "0         0   0  \n",
       "1         0   0  \n",
       "2         0   0  \n",
       "3         0   0  \n",
       "4         0   0  "
      ]
     },
     "execution_count": 19,
     "metadata": {},
     "output_type": "execute_result"
    }
   ],
   "source": [
    "mi400.head()"
   ]
  },
  {
   "cell_type": "code",
   "execution_count": 20,
   "metadata": {
    "collapsed": false
   },
   "outputs": [
    {
     "data": {
      "text/plain": [
       "(616881, 19)"
      ]
     },
     "execution_count": 20,
     "metadata": {},
     "output_type": "execute_result"
    }
   ],
   "source": [
    "mi400.shape"
   ]
  },
  {
   "cell_type": "code",
   "execution_count": 21,
   "metadata": {
    "collapsed": false
   },
   "outputs": [
    {
     "data": {
      "text/html": [
       "<div style=\"max-height:1000px;max-width:1500px;overflow:auto;\">\n",
       "<table border=\"1\" class=\"dataframe\">\n",
       "  <thead>\n",
       "    <tr style=\"text-align: right;\">\n",
       "      <th></th>\n",
       "      <th>rsrv_col_cd</th>\n",
       "      <th>clm_id</th>\n",
       "      <th>clm_num</th>\n",
       "      <th>clm_st_cd</th>\n",
       "      <th>st_asgn_st_cd</th>\n",
       "      <th>los_occr_dt</th>\n",
       "      <th>los_type_cd</th>\n",
       "      <th>rpt_agt_st_cd</th>\n",
       "      <th>los_loc_city_nm</th>\n",
       "      <th>los_loc_stret_nm</th>\n",
       "      <th>los_loc_st_cd</th>\n",
       "      <th>los_loc_desc_txt</th>\n",
       "      <th>los_desc_txt</th>\n",
       "      <th>los_rpt_dt</th>\n",
       "      <th>app_cd</th>\n",
       "      <th>user_type_cd</th>\n",
       "      <th>loc_qlty_cd</th>\n",
       "      <th>latud_num</th>\n",
       "      <th>lngtd_num</th>\n",
       "    </tr>\n",
       "  </thead>\n",
       "  <tbody>\n",
       "    <tr>\n",
       "      <th>0</th>\n",
       "      <td>400</td>\n",
       "      <td>0000052048071</td>\n",
       "      <td>004W253</td>\n",
       "      <td>22</td>\n",
       "      <td></td>\n",
       "      <td>2010-12-28</td>\n",
       "      <td>REG</td>\n",
       "      <td>22</td>\n",
       "      <td>BASTTLE CREEK</td>\n",
       "      <td></td>\n",
       "      <td>MI</td>\n",
       "      <td>PARKING RAMP</td>\n",
       "      <td>INSURED NOTICED DAMAGE WHEN RETURNING TO CAR</td>\n",
       "      <td>2011-01-06</td>\n",
       "      <td>I</td>\n",
       "      <td>AGT</td>\n",
       "      <td></td>\n",
       "      <td>0</td>\n",
       "      <td>0</td>\n",
       "    </tr>\n",
       "    <tr>\n",
       "      <th>1</th>\n",
       "      <td>400</td>\n",
       "      <td>0000033413931</td>\n",
       "      <td>002V719</td>\n",
       "      <td>22</td>\n",
       "      <td></td>\n",
       "      <td>2010-11-20</td>\n",
       "      <td>REG</td>\n",
       "      <td></td>\n",
       "      <td>Bay City</td>\n",
       "      <td></td>\n",
       "      <td>MI</td>\n",
       "      <td>probably in parking lot off EUCLID</td>\n",
       "      <td>Final\\rWhile V1 was parked and unoccupied, it ...</td>\n",
       "      <td>2010-11-20</td>\n",
       "      <td>E</td>\n",
       "      <td>CRC</td>\n",
       "      <td></td>\n",
       "      <td>0</td>\n",
       "      <td>0</td>\n",
       "    </tr>\n",
       "    <tr>\n",
       "      <th>2</th>\n",
       "      <td>400</td>\n",
       "      <td>0000033413931</td>\n",
       "      <td>002V719</td>\n",
       "      <td>22</td>\n",
       "      <td></td>\n",
       "      <td>2010-11-20</td>\n",
       "      <td>REG</td>\n",
       "      <td></td>\n",
       "      <td>Bay City</td>\n",
       "      <td></td>\n",
       "      <td>MI</td>\n",
       "      <td>probably in parking lot off EUCLID</td>\n",
       "      <td>While V1 was parked and unoccupied, it was hit...</td>\n",
       "      <td>2010-11-20</td>\n",
       "      <td>E</td>\n",
       "      <td>CRC</td>\n",
       "      <td></td>\n",
       "      <td>0</td>\n",
       "      <td>0</td>\n",
       "    </tr>\n",
       "    <tr>\n",
       "      <th>3</th>\n",
       "      <td>400</td>\n",
       "      <td>0000034590923</td>\n",
       "      <td>002Z262</td>\n",
       "      <td>22</td>\n",
       "      <td></td>\n",
       "      <td>2010-11-23</td>\n",
       "      <td>REG</td>\n",
       "      <td>22</td>\n",
       "      <td>BENTON HARBOR</td>\n",
       "      <td></td>\n",
       "      <td>MI</td>\n",
       "      <td>I-94 WEST BOUND</td>\n",
       "      <td>V1 ON I94 NEAR EXIT RAMP.  V2 STARTED TO EXIT,...</td>\n",
       "      <td>2010-11-24</td>\n",
       "      <td>I</td>\n",
       "      <td>AGT</td>\n",
       "      <td></td>\n",
       "      <td>0</td>\n",
       "      <td>0</td>\n",
       "    </tr>\n",
       "    <tr>\n",
       "      <th>4</th>\n",
       "      <td>400</td>\n",
       "      <td>0000034590923</td>\n",
       "      <td>002Z262</td>\n",
       "      <td>22</td>\n",
       "      <td></td>\n",
       "      <td>2010-11-23</td>\n",
       "      <td>REG</td>\n",
       "      <td>22</td>\n",
       "      <td>BENTON HARBOR</td>\n",
       "      <td></td>\n",
       "      <td>MI</td>\n",
       "      <td>I-94 WEST BOUND</td>\n",
       "      <td>V1 ON I94 NEAR EXIT RAMP.  V2 STARTED TO EXIT,...</td>\n",
       "      <td>2010-11-24</td>\n",
       "      <td>I</td>\n",
       "      <td>AGT</td>\n",
       "      <td></td>\n",
       "      <td>0</td>\n",
       "      <td>0</td>\n",
       "    </tr>\n",
       "  </tbody>\n",
       "</table>\n",
       "</div>"
      ],
      "text/plain": [
       "   rsrv_col_cd         clm_id  clm_num clm_st_cd st_asgn_st_cd los_occr_dt  \\\n",
       "0          400  0000052048071  004W253        22                2010-12-28   \n",
       "1          400  0000033413931  002V719        22                2010-11-20   \n",
       "2          400  0000033413931  002V719        22                2010-11-20   \n",
       "3          400  0000034590923  002Z262        22                2010-11-23   \n",
       "4          400  0000034590923  002Z262        22                2010-11-23   \n",
       "\n",
       "  los_type_cd rpt_agt_st_cd                 los_loc_city_nm  \\\n",
       "0         REG            22  BASTTLE CREEK                    \n",
       "1         REG                Bay City                         \n",
       "2         REG                Bay City                         \n",
       "3         REG            22  BENTON HARBOR                    \n",
       "4         REG            22  BENTON HARBOR                    \n",
       "\n",
       "                                los_loc_stret_nm los_loc_st_cd  \\\n",
       "0                                                           MI   \n",
       "1                                                           MI   \n",
       "2                                                           MI   \n",
       "3                                                           MI   \n",
       "4                                                           MI   \n",
       "\n",
       "                     los_loc_desc_txt  \\\n",
       "0                        PARKING RAMP   \n",
       "1  probably in parking lot off EUCLID   \n",
       "2  probably in parking lot off EUCLID   \n",
       "3                     I-94 WEST BOUND   \n",
       "4                     I-94 WEST BOUND   \n",
       "\n",
       "                                        los_desc_txt  los_rpt_dt app_cd  \\\n",
       "0       INSURED NOTICED DAMAGE WHEN RETURNING TO CAR  2011-01-06      I   \n",
       "1  Final\\rWhile V1 was parked and unoccupied, it ...  2010-11-20      E   \n",
       "2  While V1 was parked and unoccupied, it was hit...  2010-11-20      E   \n",
       "3  V1 ON I94 NEAR EXIT RAMP.  V2 STARTED TO EXIT,...  2010-11-24      I   \n",
       "4  V1 ON I94 NEAR EXIT RAMP.  V2 STARTED TO EXIT,...  2010-11-24      I   \n",
       "\n",
       "  user_type_cd loc_qlty_cd  latud_num  lngtd_num  \n",
       "0          AGT                      0          0  \n",
       "1          CRC                      0          0  \n",
       "2          CRC                      0          0  \n",
       "3          AGT                      0          0  \n",
       "4          AGT                      0          0  "
      ]
     },
     "execution_count": 21,
     "metadata": {},
     "output_type": "execute_result"
    }
   ],
   "source": [
    "mi400_col_names = ['rsrv_col_cd','clm_id','clm_num','clm_st_cd','st_asgn_st_cd','los_occr_dt','los_type_cd','rpt_agt_st_cd',\n",
    "                   'los_loc_city_nm','los_loc_stret_nm','los_loc_st_cd','los_loc_desc_txt','los_desc_txt','los_rpt_dt',\n",
    "                   'app_cd','user_type_cd','loc_qlty_cd','latud_num','lngtd_num']\n",
    "mi400.columns = mi400_col_names\n",
    "mi400.head()"
   ]
  },
  {
   "cell_type": "code",
   "execution_count": 22,
   "metadata": {
    "collapsed": false
   },
   "outputs": [
    {
     "data": {
      "text/plain": [
       "16766"
      ]
     },
     "execution_count": 22,
     "metadata": {},
     "output_type": "execute_result"
    }
   ],
   "source": [
    "len(mi400.los_loc_city_nm.unique())"
   ]
  },
  {
   "cell_type": "markdown",
   "metadata": {},
   "source": [
    "## begin to assess the data\n",
    "* how many unique claims?"
   ]
  },
  {
   "cell_type": "code",
   "execution_count": 24,
   "metadata": {
    "collapsed": false
   },
   "outputs": [
    {
     "data": {
      "text/plain": [
       "(616881, 278762, 278763)"
      ]
     },
     "execution_count": 24,
     "metadata": {},
     "output_type": "execute_result"
    }
   ],
   "source": [
    "len(mi400), len(mi400.clm_num.unique()),len(mi400.clm_id.unique())"
   ]
  },
  {
   "cell_type": "markdown",
   "metadata": {},
   "source": [
    "### why this discrepancy?\n"
   ]
  },
  {
   "cell_type": "code",
   "execution_count": 26,
   "metadata": {
    "collapsed": false
   },
   "outputs": [
    {
     "name": "stdout",
     "output_type": "stream",
     "text": [
      "[400]\n"
     ]
    }
   ],
   "source": [
    "print mi400.rsrv_col_cd.unique()\n",
    "# drop this\n",
    "mi400.drop('rsrv_col_cd',axis=1,inplace=True)"
   ]
  },
  {
   "cell_type": "code",
   "execution_count": 27,
   "metadata": {
    "collapsed": false
   },
   "outputs": [
    {
     "data": {
      "text/plain": [
       "array(['  ', '22'], dtype=object)"
      ]
     },
     "execution_count": 27,
     "metadata": {},
     "output_type": "execute_result"
    }
   ],
   "source": [
    "mi400.st_asgn_st_cd.unique() # only 22 or blank"
   ]
  },
  {
   "cell_type": "code",
   "execution_count": 28,
   "metadata": {
    "collapsed": false
   },
   "outputs": [
    {
     "data": {
      "text/plain": [
       "array(['22', '13', '14', '01', '04', '36', '16', '47', '75', '24', '02',\n",
       "       '18', '49', '55', '17', '43', '07', '03', '33', '25', '06', '50',\n",
       "       '31', '42', '  ', '35', '12', '53', '37', '51', '23', '15', '27',\n",
       "       '40', '59', '05', '38', '20', '34', '46', '60', '44', '09', '26',\n",
       "       '28', '21', '11', '52', '64', '08', '19', '61', '30', '48', '45',\n",
       "       '41', '32', '29', '39'], dtype=object)"
      ]
     },
     "execution_count": 28,
     "metadata": {},
     "output_type": "execute_result"
    }
   ],
   "source": [
    "mi400.clm_st_cd.unique()"
   ]
  },
  {
   "cell_type": "code",
   "execution_count": 29,
   "metadata": {
    "collapsed": false
   },
   "outputs": [
    {
     "data": {
      "text/plain": [
       "array(['MI'], dtype=object)"
      ]
     },
     "execution_count": 29,
     "metadata": {},
     "output_type": "execute_result"
    }
   ],
   "source": [
    "mi400.los_loc_st_cd.unique()"
   ]
  },
  {
   "cell_type": "code",
   "execution_count": 30,
   "metadata": {
    "collapsed": false
   },
   "outputs": [
    {
     "data": {
      "text/plain": [
       "array(['REG', 'CNV', 'CAT', 'ADR', 'GLS', 'FTR', 'TOW'], dtype=object)"
      ]
     },
     "execution_count": 30,
     "metadata": {},
     "output_type": "execute_result"
    }
   ],
   "source": [
    "mi400.los_type_cd.unique()"
   ]
  },
  {
   "cell_type": "code",
   "execution_count": 32,
   "metadata": {
    "collapsed": false
   },
   "outputs": [
    {
     "data": {
      "text/plain": [
       "616876    V287361\n",
       "616877    V608876\n",
       "616878    V627782\n",
       "616879    V732324\n",
       "616880    Z371410\n",
       "Name: clm_num, dtype: object"
      ]
     },
     "execution_count": 32,
     "metadata": {},
     "output_type": "execute_result"
    }
   ],
   "source": [
    "mi400.clm_num.tail()"
   ]
  },
  {
   "cell_type": "code",
   "execution_count": 33,
   "metadata": {
    "collapsed": false
   },
   "outputs": [
    {
     "data": {
      "text/plain": [
       "411Q889    14\n",
       "496S732    12\n",
       "422G620    12\n",
       "5V01345    12\n",
       "3R52252    12\n",
       "5C96319    11\n",
       "2P96481    11\n",
       "453H416    11\n",
       "413Q158    11\n",
       "426K838    11\n",
       "339G845    11\n",
       "405M097    11\n",
       "495G999    11\n",
       "3N94034    11\n",
       "5N29397    10\n",
       "3T69512    10\n",
       "516T220    10\n",
       "5B27725    10\n",
       "4V94740    10\n",
       "4C40574    10\n",
       "5J99193    10\n",
       "3Q77588    10\n",
       "403F677    10\n",
       "361G051    10\n",
       "3R24538    10\n",
       "484L605    10\n",
       "5R40250    10\n",
       "4D23387    10\n",
       "022V867    10\n",
       "600N804    10\n",
       "           ..\n",
       "B092395     1\n",
       "21M5412     1\n",
       "150Q640     1\n",
       "B092393     1\n",
       "2525775     1\n",
       "076N828     1\n",
       "B139184     1\n",
       "V700876     1\n",
       "C418205     1\n",
       "B186307     1\n",
       "C402298     1\n",
       "B183570     1\n",
       "C418201     1\n",
       "C418202     1\n",
       "C450985     1\n",
       "B183578     1\n",
       "B130047     1\n",
       "B193748     1\n",
       "C409544     1\n",
       "P278137     1\n",
       "C400522     1\n",
       "C409541     1\n",
       "B084449     1\n",
       "C446983     1\n",
       "C446982     1\n",
       "C409540     1\n",
       "V376753     1\n",
       "G663498     1\n",
       "B191812     1\n",
       "B155447     1\n",
       "dtype: int64"
      ]
     },
     "execution_count": 33,
     "metadata": {},
     "output_type": "execute_result"
    }
   ],
   "source": [
    "mi400.clm_num.value_counts()"
   ]
  },
  {
   "cell_type": "code",
   "execution_count": 38,
   "metadata": {
    "collapsed": false
   },
   "outputs": [
    {
     "data": {
      "text/plain": [
       "Index([u'clm_id', u'clm_num', u'clm_st_cd', u'st_asgn_st_cd', u'los_occr_dt',\n",
       "       u'los_type_cd', u'rpt_agt_st_cd', u'los_loc_city_nm',\n",
       "       u'los_loc_stret_nm', u'los_loc_st_cd', u'los_loc_desc_txt',\n",
       "       u'los_desc_txt', u'los_rpt_dt', u'app_cd', u'user_type_cd',\n",
       "       u'loc_qlty_cd', u'latud_num', u'lngtd_num'],\n",
       "      dtype='object')"
      ]
     },
     "execution_count": 38,
     "metadata": {},
     "output_type": "execute_result"
    }
   ],
   "source": [
    "mi400.columns"
   ]
  },
  {
   "cell_type": "code",
   "execution_count": 48,
   "metadata": {
    "collapsed": false
   },
   "outputs": [
    {
     "data": {
      "text/html": [
       "<div style=\"max-height:1000px;max-width:1500px;overflow:auto;\">\n",
       "<table border=\"1\" class=\"dataframe\">\n",
       "  <thead>\n",
       "    <tr style=\"text-align: right;\">\n",
       "      <th></th>\n",
       "      <th>los_occr_dt</th>\n",
       "      <th>los_rpt_dt</th>\n",
       "      <th>los_type_cd</th>\n",
       "      <th>los_loc_city_nm</th>\n",
       "      <th>los_loc_desc_txt</th>\n",
       "      <th>loc_qlty_cd</th>\n",
       "      <th>latud_num</th>\n",
       "    </tr>\n",
       "  </thead>\n",
       "  <tbody>\n",
       "    <tr>\n",
       "      <th>445941</th>\n",
       "      <td>2015-02-08</td>\n",
       "      <td>2015-02-09</td>\n",
       "      <td>REG</td>\n",
       "      <td>BattleCreek</td>\n",
       "      <td>Beckley St.</td>\n",
       "      <td>GM</td>\n",
       "      <td>42.321152</td>\n",
       "    </tr>\n",
       "    <tr>\n",
       "      <th>445942</th>\n",
       "      <td>2015-02-08</td>\n",
       "      <td>2015-02-09</td>\n",
       "      <td>REG</td>\n",
       "      <td>BattleCreek</td>\n",
       "      <td>Becklie St.</td>\n",
       "      <td></td>\n",
       "      <td>0.000000</td>\n",
       "    </tr>\n",
       "    <tr>\n",
       "      <th>445943</th>\n",
       "      <td>2015-02-08</td>\n",
       "      <td>2015-02-09</td>\n",
       "      <td>REG</td>\n",
       "      <td>BattleCreek</td>\n",
       "      <td>Becklie St.</td>\n",
       "      <td>GM</td>\n",
       "      <td>42.321152</td>\n",
       "    </tr>\n",
       "    <tr>\n",
       "      <th>445944</th>\n",
       "      <td>2015-02-08</td>\n",
       "      <td>2015-02-09</td>\n",
       "      <td>REG</td>\n",
       "      <td>BattleCreek</td>\n",
       "      <td>Shopping plaza with Target and Old Country Buf...</td>\n",
       "      <td></td>\n",
       "      <td>0.000000</td>\n",
       "    </tr>\n",
       "    <tr>\n",
       "      <th>445945</th>\n",
       "      <td>2015-02-08</td>\n",
       "      <td>2015-02-09</td>\n",
       "      <td>REG</td>\n",
       "      <td>BattleCreek</td>\n",
       "      <td>Shopping plaza with Target and Old Country Buf...</td>\n",
       "      <td>GM</td>\n",
       "      <td>42.321152</td>\n",
       "    </tr>\n",
       "    <tr>\n",
       "      <th>445946</th>\n",
       "      <td>2015-02-08</td>\n",
       "      <td>2015-02-09</td>\n",
       "      <td>REG</td>\n",
       "      <td>BattleCreek</td>\n",
       "      <td>just outside Shopping plaza with Target and Ol...</td>\n",
       "      <td></td>\n",
       "      <td>0.000000</td>\n",
       "    </tr>\n",
       "    <tr>\n",
       "      <th>445947</th>\n",
       "      <td>2015-02-08</td>\n",
       "      <td>2015-02-09</td>\n",
       "      <td>REG</td>\n",
       "      <td>BattleCreek</td>\n",
       "      <td>just outside Shopping plaza with Target and Ol...</td>\n",
       "      <td></td>\n",
       "      <td>0.000000</td>\n",
       "    </tr>\n",
       "    <tr>\n",
       "      <th>445948</th>\n",
       "      <td>2015-02-08</td>\n",
       "      <td>2015-02-09</td>\n",
       "      <td>REG</td>\n",
       "      <td>BattleCreek</td>\n",
       "      <td>just outside Shopping plaza with Target and Ol...</td>\n",
       "      <td>AX3</td>\n",
       "      <td>42.261060</td>\n",
       "    </tr>\n",
       "    <tr>\n",
       "      <th>445949</th>\n",
       "      <td>2015-02-08</td>\n",
       "      <td>2015-02-09</td>\n",
       "      <td>REG</td>\n",
       "      <td>BattleCreek</td>\n",
       "      <td>just outside Shopping plaza with Target and Ol...</td>\n",
       "      <td></td>\n",
       "      <td>0.000000</td>\n",
       "    </tr>\n",
       "    <tr>\n",
       "      <th>445950</th>\n",
       "      <td>2015-02-08</td>\n",
       "      <td>2015-02-09</td>\n",
       "      <td>REG</td>\n",
       "      <td>BattleCreek</td>\n",
       "      <td>just outside Shopping plaza with Target and Ol...</td>\n",
       "      <td>AX3</td>\n",
       "      <td>42.261060</td>\n",
       "    </tr>\n",
       "  </tbody>\n",
       "</table>\n",
       "</div>"
      ],
      "text/plain": [
       "       los_occr_dt  los_rpt_dt los_type_cd los_loc_city_nm  \\\n",
       "445941  2015-02-08  2015-02-09         REG     BattleCreek   \n",
       "445942  2015-02-08  2015-02-09         REG     BattleCreek   \n",
       "445943  2015-02-08  2015-02-09         REG     BattleCreek   \n",
       "445944  2015-02-08  2015-02-09         REG     BattleCreek   \n",
       "445945  2015-02-08  2015-02-09         REG     BattleCreek   \n",
       "445946  2015-02-08  2015-02-09         REG     BattleCreek   \n",
       "445947  2015-02-08  2015-02-09         REG     BattleCreek   \n",
       "445948  2015-02-08  2015-02-09         REG     BattleCreek   \n",
       "445949  2015-02-08  2015-02-09         REG     BattleCreek   \n",
       "445950  2015-02-08  2015-02-09         REG     BattleCreek   \n",
       "\n",
       "                                         los_loc_desc_txt loc_qlty_cd  \\\n",
       "445941                                        Beckley St.        GM     \n",
       "445942                                        Becklie St.               \n",
       "445943                                        Becklie St.        GM     \n",
       "445944  Shopping plaza with Target and Old Country Buf...               \n",
       "445945  Shopping plaza with Target and Old Country Buf...        GM     \n",
       "445946  just outside Shopping plaza with Target and Ol...               \n",
       "445947  just outside Shopping plaza with Target and Ol...               \n",
       "445948  just outside Shopping plaza with Target and Ol...        AX3    \n",
       "445949  just outside Shopping plaza with Target and Ol...               \n",
       "445950  just outside Shopping plaza with Target and Ol...        AX3    \n",
       "\n",
       "        latud_num  \n",
       "445941  42.321152  \n",
       "445942   0.000000  \n",
       "445943  42.321152  \n",
       "445944   0.000000  \n",
       "445945  42.321152  \n",
       "445946   0.000000  \n",
       "445947   0.000000  \n",
       "445948  42.261060  \n",
       "445949   0.000000  \n",
       "445950  42.261060  "
      ]
     },
     "execution_count": 48,
     "metadata": {},
     "output_type": "execute_result"
    }
   ],
   "source": [
    "mi400[mi400.clm_num == '600N804'][['los_occr_dt','los_rpt_dt','los_type_cd','los_loc_city_nm','los_loc_desc_txt','loc_qlty_cd','latud_num']]"
   ]
  },
  {
   "cell_type": "code",
   "execution_count": 44,
   "metadata": {
    "collapsed": false
   },
   "outputs": [
    {
     "data": {
      "text/plain": [
       "array(['EB McIntyre Road & SB Barrie Street',\n",
       "       'EB McIntyre Road & SB Barrie Street',\n",
       "       'EB McIntyre Road & SB Barrie Street',\n",
       "       'EB McIntyre Road & SB Barrie Street',\n",
       "       'Eastbound on MacIntyre Road & Barrie Street',\n",
       "       'Eastbound on Macintire Road', 'Eastbound on Macintire Road',\n",
       "       'Eastbound on Macintire Road & corss street is Barrie St',\n",
       "       'EB McIntyre Road & SB Barrie Street',\n",
       "       'EB McIntyre Road & SB Barrie Street'], dtype=object)"
      ]
     },
     "execution_count": 44,
     "metadata": {},
     "output_type": "execute_result"
    }
   ],
   "source": [
    "mi400[mi400.clm_num=='4V94740'].los_loc_desc_txt.values"
   ]
  },
  {
   "cell_type": "code",
   "execution_count": 45,
   "metadata": {
    "collapsed": false
   },
   "outputs": [
    {
     "data": {
      "text/plain": [
       "array([ 'IV e/b McIntyre @ IX Barrie w/o any traffic controls. CV s/b Barrie w/stop sign. IV enters IX',\n",
       "       'IV e/b McIntyre @ IX Barrie w/o any traffic controls. CV s/b Barrie w/stop sign. IV enters IX and strikes CV.',\n",
       "       'Matthew stated that he was driving EB on Macintire Rd approaching Barrie St when the claimant vehicle, traveling on Barrie St,  ran stop sign. The described vehicle struck the claimant vehicle on the passenger side. Both vehicles went into the ditch.  There were two fatalities from the claimant vehicle and one injured person that was life flighted to the hospital.',\n",
       "       'NI stated that he was driving EB on Macintire Rd approaching Barrie St when V2 ran stop sign with V1 striking V2 on the passenger side with both vehicles ended up in the ditch. NI stated that he did not see V2 coming and did not have time to stop. NI stated that 2 people died in the accident and 1 more was life flighted to the hospital.',\n",
       "       'CV ran stop sign and was hit by IV.',\n",
       "       'CV ran stop sign and was hit by IV.',\n",
       "       'CV ran stop sign and was hit by IV.',\n",
       "       'CV ran stop sign and was hit by IV.',\n",
       "       'Matthew stated that he was driving EB on Macintire Rd approaching Barrie St when the claimant vehicle, traveling on Barrie St,  ran stop sign. The described vehicle struck the claimant vehicle on the passenger side. Both vehicles went into the ditch.  There were two fatalities from the claimant vehicle and one injured person that was life flighted to the hospital.',\n",
       "       'Matthew stated that he was driving EB on Macintire Rd approaching Barrie St when the claimant vehicle, traveling on Barrie St,  ran stop sign. The described vehicle struck the claimant vehicle on the passenger side. Both vehicles went into the ditch.  There were two fatalities from the claimant vehicle and one injured person that was life flighted to the hospital.'], dtype=object)"
      ]
     },
     "execution_count": 45,
     "metadata": {},
     "output_type": "execute_result"
    }
   ],
   "source": [
    "mi400[mi400.clm_num=='4V94740'].los_desc_txt.values"
   ]
  },
  {
   "cell_type": "markdown",
   "metadata": {
    "collapsed": true
   },
   "source": [
    "## I need to work on the following item\n",
    "1. aggregate notes for a given claim (different updates)\n",
    "2. deal with std abbreviations:\n",
    "    * NI\n",
    "    * IV\n",
    "    * IX\n",
    "    * EB\n",
    "    * CV\n",
    "    * V1, V2, ..."
   ]
  },
  {
   "cell_type": "code",
   "execution_count": null,
   "metadata": {
    "collapsed": true
   },
   "outputs": [],
   "source": []
  }
 ],
 "metadata": {
  "kernelspec": {
   "display_name": "Python 2",
   "language": "python",
   "name": "python2"
  },
  "language_info": {
   "codemirror_mode": {
    "name": "ipython",
    "version": 2
   },
   "file_extension": ".py",
   "mimetype": "text/x-python",
   "name": "python",
   "nbconvert_exporter": "python",
   "pygments_lexer": "ipython2",
   "version": "2.7.9"
  }
 },
 "nbformat": 4,
 "nbformat_minor": 0
}
