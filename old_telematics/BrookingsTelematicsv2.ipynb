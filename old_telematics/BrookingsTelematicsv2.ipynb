{
 "cells": [
  {
   "cell_type": "markdown",
   "metadata": {},
   "source": [
    "#Dealing with the subset of Telematics data from Brookings Report\n",
    "This data corresponds to data from 2013 in the state of Ohio"
   ]
  },
  {
   "cell_type": "code",
   "execution_count": 1,
   "metadata": {
    "collapsed": false
   },
   "outputs": [
    {
     "name": "stdout",
     "output_type": "stream",
     "text": [
      "Populating the interactive namespace from numpy and matplotlib\n"
     ]
    }
   ],
   "source": [
    "import pandas as pd\n",
    "import os\n",
    "%pylab inline"
   ]
  },
  {
   "cell_type": "code",
   "execution_count": 2,
   "metadata": {
    "collapsed": false
   },
   "outputs": [
    {
     "name": "stdout",
     "output_type": "stream",
     "text": [
      " Volume in drive C is OS\n",
      " Volume Serial Number is 222B-1C6E\n",
      "\n",
      " Directory of C:\\Users\\kesj\\Documents\\projects\\telematics\\2013brookingsData\n",
      "\n",
      "06/23/2015  10:54 AM    <DIR>          .\n",
      "06/23/2015  10:54 AM    <DIR>          ..\n",
      "11/20/2013  04:42 PM        89,600,521 Brookings Final Data.xlsx\n",
      "10/29/2014  04:16 PM         3,744,888 driverMileagle.csv\n",
      "10/31/2014  12:03 PM         2,733,177 driverSummaryDF1.csv\n",
      "               3 File(s)     96,078,586 bytes\n",
      "               2 Dir(s)  69,544,202,240 bytes free\n"
     ]
    }
   ],
   "source": [
    "os.chdir('../../projects/telematics/2013brookingsData/')\n",
    "!dir"
   ]
  },
  {
   "cell_type": "code",
   "execution_count": 3,
   "metadata": {
    "collapsed": false
   },
   "outputs": [
    {
     "name": "stdout",
     "output_type": "stream",
     "text": [
      "401448\n"
     ]
    }
   ],
   "source": [
    "infile = 'Brookings Final Data.xlsx'\n",
    "fulldata = pd.read_excel(infile)\n",
    "print len(fulldata)"
   ]
  },
  {
   "cell_type": "code",
   "execution_count": 4,
   "metadata": {
    "collapsed": false
   },
   "outputs": [
    {
     "data": {
      "text/plain": [
       "Index([                        u'HH_ID',                     u'DRIVER_ID',\n",
       "                            u'MOD_DATE',                u'Market_Unit_ID',\n",
       "                       u'POLICY_NUMBER',                         u'STATE',\n",
       "                        u'UNIQUE_DIGIT',                    u'CAR_NUMBER',\n",
       "                             u'FRED_ID',                           u'VIN',\n",
       "           u'Odometer at time captured',        u'Odometer captured data',\n",
       "               u'Lower Net Worth Range',         u'Upper Net Worth Range',\n",
       "              u'Home ownership (1=yes)',                u'Household Size',\n",
       "                 u'Young adult present',          u'Senior Adult Present',\n",
       "                       u'Child Present', u'Lower Income Range (source 1)',\n",
       "       u'Upper Income Range (source 1)', u'Lower Income Range (source 2)',\n",
       "       u'Upper Income Range (source 2)',                u'Martial Status',\n",
       "                 u'Length at Residence',            u'Home Property Type',\n",
       "       u'Home Property Type (Detailed)',              u'Home Loan Amount',\n",
       "               u'Home Equity Available', u'Home Equity Available (Lower)',\n",
       "       u'Home Equity Available (Upper)',            u'Home Value (Lower)',\n",
       "                  u'Home Value (Upper)',        u'Occupation of person 1',\n",
       "               u'Education of person 1',        u'Occupation of person 2',\n",
       "               u'Education of person 2',           u'Gender of applicant',\n",
       "                 u'Applicant Birthdate',                 u'Applicant Age',\n",
       "                             u'CARYEAR',                          u'MAKE',\n",
       "                               u'MODEL',                          u'ZIP5',\n",
       "                u'Claim Flag (1=Claim)',     u'Cause of Loss Description',\n",
       "               u'Amount Paid for Claim'],\n",
       "      dtype='object')"
      ]
     },
     "execution_count": 4,
     "metadata": {},
     "output_type": "execute_result"
    }
   ],
   "source": [
    "fulldata.columns\n"
   ]
  },
  {
   "cell_type": "code",
   "execution_count": 5,
   "metadata": {
    "collapsed": false
   },
   "outputs": [],
   "source": [
    "# since all are Ohio, drop that column\n",
    "fulldata.drop('STATE',inplace=True,axis=1)"
   ]
  },
  {
   "cell_type": "code",
   "execution_count": 6,
   "metadata": {
    "collapsed": false
   },
   "outputs": [
    {
     "data": {
      "text/plain": [
       "0    385113\n",
       "1     16335\n",
       "dtype: int64"
      ]
     },
     "execution_count": 6,
     "metadata": {},
     "output_type": "execute_result"
    }
   ],
   "source": [
    "fulldata['Claim Flag (1=Claim)'].value_counts()"
   ]
  },
  {
   "cell_type": "code",
   "execution_count": 10,
   "metadata": {
    "collapsed": false
   },
   "outputs": [],
   "source": [
    "fulldata.rename(columns={'Claim Flag (1=Claim)':'ClaimFlag', 'Odometer at time captured': 'Odometer', 'Odometer captured data': 'OdoDate'},inplace=True)"
   ]
  },
  {
   "cell_type": "code",
   "execution_count": 11,
   "metadata": {
    "collapsed": false
   },
   "outputs": [
    {
     "name": "stdout",
     "output_type": "stream",
     "text": [
      "none missing for column HH_ID of type int64\n",
      "\t20210\n",
      "none missing for column DRIVER_ID of type int64\n",
      "\t21486\n",
      "none missing for column MOD_DATE of type datetime64[ns]\n",
      "\t50\n",
      "\t\t\t column Market_Unit_ID of type float64 has 1 missing values.\n",
      "\t\t\t column POLICY_NUMBER of type float64 has 34548 missing values.\n",
      "none missing for column UNIQUE_DIGIT of type int64\n",
      "\t3\n",
      "\t\t\t column CAR_NUMBER of type float64 has 392323 missing values.\n",
      "none missing for column FRED_ID of type object\n",
      "\t19882\n",
      "none missing for column VIN of type object\n",
      "\t21384\n",
      "none missing for column Odometer of type int64\n",
      "\t86450\n",
      "none missing for column OdoDate of type datetime64[ns]\n",
      "\t1518\n",
      "none missing for column Lower Net Worth Range of type object\n",
      "\t12\n",
      "none missing for column Upper Net Worth Range of type object\n",
      "\t13\n",
      "none missing for column Home ownership (1=yes) of type object\n",
      "\t3\n",
      "\t\t\t column Household Size of type object has 107978 missing values.\n",
      "none missing for column Young adult present of type object\n",
      "\t3\n",
      "none missing for column Senior Adult Present of type object\n",
      "\t3\n",
      "none missing for column Child Present of type object\n",
      "\t3\n",
      "none missing for column Lower Income Range (source 1) of type object\n",
      "\t10\n",
      "none missing for column Upper Income Range (source 1) of type object\n",
      "\t10\n",
      "none missing for column Lower Income Range (source 2) of type object\n",
      "\t10\n",
      "none missing for column Upper Income Range (source 2) of type object\n",
      "\t11\n",
      "\t\t\t column Martial Status of type object has 107978 missing values.\n",
      "\t\t\t column Length at Residence of type object has 107978 missing values.\n",
      "\t\t\t column Home Property Type of type object has 107978 missing values.\n",
      "\t\t\t column Home Property Type (Detailed) of type object has 107978 missing values.\n",
      "none missing for column Home Loan Amount of type object\n",
      "\t5427\n",
      "none missing for column Home Equity Available of type object\n",
      "\t15427\n",
      "none missing for column Home Equity Available (Lower) of type object\n",
      "\t19\n",
      "none missing for column Home Equity Available (Upper) of type object\n",
      "\t20\n",
      "none missing for column Home Value (Lower) of type object\n",
      "\t21\n",
      "none missing for column Home Value (Upper) of type object\n",
      "\t21\n",
      "\t\t\t column Occupation of person 1 of type object has 107978 missing values.\n",
      "\t\t\t column Education of person 1 of type object has 107978 missing values.\n",
      "\t\t\t column Occupation of person 2 of type object has 107978 missing values.\n",
      "\t\t\t column Education of person 2 of type object has 107978 missing values.\n",
      "\t\t\t column Gender of applicant of type object has 7056 missing values.\n",
      "\t\t\t column Applicant Birthdate of type datetime64[ns] has 7056 missing values.\n",
      "none missing for column Applicant Age of type int64\n",
      "\t91\n",
      "\t\t\t column CARYEAR of type float64 has 2 missing values.\n",
      "\t\t\t column MAKE of type object has 2 missing values.\n",
      "\t\t\t column MODEL of type object has 2 missing values.\n",
      "\t\t\t column ZIP5 of type float64 has 2 missing values.\n",
      "none missing for column ClaimFlag of type int64\n",
      "\t2\n",
      "\t\t\t column Cause of Loss Description of type object has 385113 missing values.\n",
      "\t\t\t column Amount Paid for Claim of type float64 has 385113 missing values.\n"
     ]
    }
   ],
   "source": [
    "for c in fulldata.columns:\n",
    "    nmissing = sum(fulldata[c].isnull())\n",
    "    if nmissing == 0:\n",
    "        print 'none missing for column {0} of type {1}'.format(c,dtype(fulldata[c]))\n",
    "        print '\\t',len(fulldata[c].unique())\n",
    "    else:\n",
    "        print '\\t\\t\\t column {0} of type {1} has {2} missing values.'.format(c, dtype(fulldata[c]),nmissing)"
   ]
  },
  {
   "cell_type": "code",
   "execution_count": 12,
   "metadata": {
    "collapsed": false
   },
   "outputs": [
    {
     "name": "stdout",
     "output_type": "stream",
     "text": [
      "There are 401448 items in this data frame. 20210 unique HH_IDs and 21486 unique DRIVER_IDs in 18333 unique Policies.\n"
     ]
    }
   ],
   "source": [
    "nitems = len(fulldata)\n",
    "print \"There are {0} items in this data frame. {1} unique HH_IDs and {2} unique DRIVER_IDs in {3} unique Policies.\".format(nitems,len(fulldata['HH_ID'].unique()),len(fulldata['DRIVER_ID'].unique()),len(fulldata['POLICY_NUMBER'].unique()))"
   ]
  },
  {
   "cell_type": "code",
   "execution_count": 13,
   "metadata": {
    "collapsed": false
   },
   "outputs": [
    {
     "name": "stdout",
     "output_type": "stream",
     "text": [
      "46\n"
     ]
    }
   ],
   "source": [
    "cnameList = fulldata.columns\n",
    "print len(cnameList)"
   ]
  },
  {
   "cell_type": "markdown",
   "metadata": {},
   "source": [
    "##  begin by looking at a particular driver"
   ]
  },
  {
   "cell_type": "code",
   "execution_count": 14,
   "metadata": {
    "collapsed": false
   },
   "outputs": [],
   "source": [
    "vList = ['Odometer','OdoDate','MOD_DATE','Applicant Age','CARYEAR','ZIP5']"
   ]
  },
  {
   "cell_type": "code",
   "execution_count": 16,
   "metadata": {
    "collapsed": false
   },
   "outputs": [
    {
     "data": {
      "text/html": [
       "<div style=\"max-height:1000px;max-width:1500px;overflow:auto;\">\n",
       "<table border=\"1\" class=\"dataframe\">\n",
       "  <thead>\n",
       "    <tr style=\"text-align: right;\">\n",
       "      <th></th>\n",
       "      <th>Odometer</th>\n",
       "      <th>OdoDate</th>\n",
       "      <th>MOD_DATE</th>\n",
       "      <th>Applicant Age</th>\n",
       "      <th>CARYEAR</th>\n",
       "      <th>ZIP5</th>\n",
       "    </tr>\n",
       "  </thead>\n",
       "  <tbody>\n",
       "    <tr>\n",
       "      <th>87</th>\n",
       "      <td>  3098</td>\n",
       "      <td>2011-02-14</td>\n",
       "      <td>2011-02-01</td>\n",
       "      <td> 41</td>\n",
       "      <td> 2011</td>\n",
       "      <td> 43123</td>\n",
       "    </tr>\n",
       "    <tr>\n",
       "      <th>88</th>\n",
       "      <td>  3098</td>\n",
       "      <td>2011-02-14</td>\n",
       "      <td>2011-02-01</td>\n",
       "      <td> 41</td>\n",
       "      <td> 2011</td>\n",
       "      <td> 43123</td>\n",
       "    </tr>\n",
       "    <tr>\n",
       "      <th>89</th>\n",
       "      <td>  3098</td>\n",
       "      <td>2011-02-14</td>\n",
       "      <td>2011-02-01</td>\n",
       "      <td> 41</td>\n",
       "      <td> 2011</td>\n",
       "      <td> 43123</td>\n",
       "    </tr>\n",
       "    <tr>\n",
       "      <th>90</th>\n",
       "      <td>  3098</td>\n",
       "      <td>2011-02-14</td>\n",
       "      <td>2011-02-01</td>\n",
       "      <td> 41</td>\n",
       "      <td> 2011</td>\n",
       "      <td> 43123</td>\n",
       "    </tr>\n",
       "    <tr>\n",
       "      <th>91</th>\n",
       "      <td>  3098</td>\n",
       "      <td>2011-02-14</td>\n",
       "      <td>2011-02-01</td>\n",
       "      <td> 41</td>\n",
       "      <td> 2011</td>\n",
       "      <td> 43123</td>\n",
       "    </tr>\n",
       "    <tr>\n",
       "      <th>92</th>\n",
       "      <td>  3098</td>\n",
       "      <td>2011-02-14</td>\n",
       "      <td>2011-02-01</td>\n",
       "      <td> 41</td>\n",
       "      <td> 2011</td>\n",
       "      <td> 43123</td>\n",
       "    </tr>\n",
       "    <tr>\n",
       "      <th>93</th>\n",
       "      <td>  3098</td>\n",
       "      <td>2011-02-14</td>\n",
       "      <td>2011-02-01</td>\n",
       "      <td> 41</td>\n",
       "      <td> 2011</td>\n",
       "      <td> 43123</td>\n",
       "    </tr>\n",
       "    <tr>\n",
       "      <th>94</th>\n",
       "      <td>  5474</td>\n",
       "      <td>2011-03-15</td>\n",
       "      <td>2011-03-01</td>\n",
       "      <td> 41</td>\n",
       "      <td> 2011</td>\n",
       "      <td> 43223</td>\n",
       "    </tr>\n",
       "    <tr>\n",
       "      <th>95</th>\n",
       "      <td>  6999</td>\n",
       "      <td>2011-04-14</td>\n",
       "      <td>2011-04-01</td>\n",
       "      <td> 41</td>\n",
       "      <td> 2011</td>\n",
       "      <td> 43228</td>\n",
       "    </tr>\n",
       "    <tr>\n",
       "      <th>96</th>\n",
       "      <td>  9255</td>\n",
       "      <td>2011-05-13</td>\n",
       "      <td>2011-05-01</td>\n",
       "      <td> 41</td>\n",
       "      <td> 2011</td>\n",
       "      <td> 45458</td>\n",
       "    </tr>\n",
       "    <tr>\n",
       "      <th>97</th>\n",
       "      <td> 11122</td>\n",
       "      <td>2011-06-13</td>\n",
       "      <td>2011-06-01</td>\n",
       "      <td> 41</td>\n",
       "      <td> 2011</td>\n",
       "      <td> 45458</td>\n",
       "    </tr>\n",
       "  </tbody>\n",
       "</table>\n",
       "</div>"
      ],
      "text/plain": [
       "    Odometer    OdoDate   MOD_DATE  Applicant Age  CARYEAR   ZIP5\n",
       "87      3098 2011-02-14 2011-02-01             41     2011  43123\n",
       "88      3098 2011-02-14 2011-02-01             41     2011  43123\n",
       "89      3098 2011-02-14 2011-02-01             41     2011  43123\n",
       "90      3098 2011-02-14 2011-02-01             41     2011  43123\n",
       "91      3098 2011-02-14 2011-02-01             41     2011  43123\n",
       "92      3098 2011-02-14 2011-02-01             41     2011  43123\n",
       "93      3098 2011-02-14 2011-02-01             41     2011  43123\n",
       "94      5474 2011-03-15 2011-03-01             41     2011  43223\n",
       "95      6999 2011-04-14 2011-04-01             41     2011  43228\n",
       "96      9255 2011-05-13 2011-05-01             41     2011  45458\n",
       "97     11122 2011-06-13 2011-06-01             41     2011  45458"
      ]
     },
     "execution_count": 16,
     "metadata": {},
     "output_type": "execute_result"
    }
   ],
   "source": [
    "fulldata[fulldata.DRIVER_ID==3][vList]"
   ]
  },
  {
   "cell_type": "code",
   "execution_count": 54,
   "metadata": {
    "collapsed": false
   },
   "outputs": [
    {
     "data": {
      "text/html": [
       "<div style=\"max-height:1000px;max-width:1500px;overflow:auto;\">\n",
       "<table border=\"1\" class=\"dataframe\">\n",
       "  <thead>\n",
       "    <tr style=\"text-align: right;\">\n",
       "      <th></th>\n",
       "      <th>Lower Net Worth Range</th>\n",
       "      <th>Upper Net Worth Range</th>\n",
       "      <th>Home ownership (1=yes)</th>\n",
       "      <th>Household Size</th>\n",
       "      <th>Young adult present</th>\n",
       "      <th>Senior Adult Present</th>\n",
       "      <th>Child Present</th>\n",
       "      <th>Lower Income Range (source 1)</th>\n",
       "      <th>Upper Income Range (source 1)</th>\n",
       "      <th>Lower Income Range (source 2)</th>\n",
       "      <th>Upper Income Range (source 2)</th>\n",
       "      <th>Martial Status</th>\n",
       "    </tr>\n",
       "  </thead>\n",
       "  <tbody>\n",
       "    <tr>\n",
       "      <th>87</th>\n",
       "      <td> .</td>\n",
       "      <td> .</td>\n",
       "      <td> .</td>\n",
       "      <td> NaN</td>\n",
       "      <td> .</td>\n",
       "      <td> .</td>\n",
       "      <td> .</td>\n",
       "      <td> .</td>\n",
       "      <td> .</td>\n",
       "      <td> .</td>\n",
       "      <td> .</td>\n",
       "      <td> NaN</td>\n",
       "    </tr>\n",
       "    <tr>\n",
       "      <th>88</th>\n",
       "      <td> .</td>\n",
       "      <td> .</td>\n",
       "      <td> .</td>\n",
       "      <td> NaN</td>\n",
       "      <td> .</td>\n",
       "      <td> .</td>\n",
       "      <td> .</td>\n",
       "      <td> .</td>\n",
       "      <td> .</td>\n",
       "      <td> .</td>\n",
       "      <td> .</td>\n",
       "      <td> NaN</td>\n",
       "    </tr>\n",
       "    <tr>\n",
       "      <th>89</th>\n",
       "      <td> .</td>\n",
       "      <td> .</td>\n",
       "      <td> .</td>\n",
       "      <td> NaN</td>\n",
       "      <td> .</td>\n",
       "      <td> .</td>\n",
       "      <td> .</td>\n",
       "      <td> .</td>\n",
       "      <td> .</td>\n",
       "      <td> .</td>\n",
       "      <td> .</td>\n",
       "      <td> NaN</td>\n",
       "    </tr>\n",
       "    <tr>\n",
       "      <th>90</th>\n",
       "      <td> .</td>\n",
       "      <td> .</td>\n",
       "      <td> .</td>\n",
       "      <td> NaN</td>\n",
       "      <td> .</td>\n",
       "      <td> .</td>\n",
       "      <td> .</td>\n",
       "      <td> .</td>\n",
       "      <td> .</td>\n",
       "      <td> .</td>\n",
       "      <td> .</td>\n",
       "      <td> NaN</td>\n",
       "    </tr>\n",
       "    <tr>\n",
       "      <th>91</th>\n",
       "      <td> .</td>\n",
       "      <td> .</td>\n",
       "      <td> .</td>\n",
       "      <td> NaN</td>\n",
       "      <td> .</td>\n",
       "      <td> .</td>\n",
       "      <td> .</td>\n",
       "      <td> .</td>\n",
       "      <td> .</td>\n",
       "      <td> .</td>\n",
       "      <td> .</td>\n",
       "      <td> NaN</td>\n",
       "    </tr>\n",
       "    <tr>\n",
       "      <th>92</th>\n",
       "      <td> .</td>\n",
       "      <td> .</td>\n",
       "      <td> .</td>\n",
       "      <td> NaN</td>\n",
       "      <td> .</td>\n",
       "      <td> .</td>\n",
       "      <td> .</td>\n",
       "      <td> .</td>\n",
       "      <td> .</td>\n",
       "      <td> .</td>\n",
       "      <td> .</td>\n",
       "      <td> NaN</td>\n",
       "    </tr>\n",
       "    <tr>\n",
       "      <th>93</th>\n",
       "      <td> .</td>\n",
       "      <td> .</td>\n",
       "      <td> .</td>\n",
       "      <td> NaN</td>\n",
       "      <td> .</td>\n",
       "      <td> .</td>\n",
       "      <td> .</td>\n",
       "      <td> .</td>\n",
       "      <td> .</td>\n",
       "      <td> .</td>\n",
       "      <td> .</td>\n",
       "      <td> NaN</td>\n",
       "    </tr>\n",
       "    <tr>\n",
       "      <th>94</th>\n",
       "      <td> .</td>\n",
       "      <td> .</td>\n",
       "      <td> .</td>\n",
       "      <td> NaN</td>\n",
       "      <td> .</td>\n",
       "      <td> .</td>\n",
       "      <td> .</td>\n",
       "      <td> .</td>\n",
       "      <td> .</td>\n",
       "      <td> .</td>\n",
       "      <td> .</td>\n",
       "      <td> NaN</td>\n",
       "    </tr>\n",
       "    <tr>\n",
       "      <th>95</th>\n",
       "      <td> .</td>\n",
       "      <td> .</td>\n",
       "      <td> .</td>\n",
       "      <td> NaN</td>\n",
       "      <td> .</td>\n",
       "      <td> .</td>\n",
       "      <td> .</td>\n",
       "      <td> .</td>\n",
       "      <td> .</td>\n",
       "      <td> .</td>\n",
       "      <td> .</td>\n",
       "      <td> NaN</td>\n",
       "    </tr>\n",
       "    <tr>\n",
       "      <th>96</th>\n",
       "      <td> .</td>\n",
       "      <td> .</td>\n",
       "      <td> .</td>\n",
       "      <td> NaN</td>\n",
       "      <td> .</td>\n",
       "      <td> .</td>\n",
       "      <td> .</td>\n",
       "      <td> .</td>\n",
       "      <td> .</td>\n",
       "      <td> .</td>\n",
       "      <td> .</td>\n",
       "      <td> NaN</td>\n",
       "    </tr>\n",
       "    <tr>\n",
       "      <th>97</th>\n",
       "      <td> .</td>\n",
       "      <td> .</td>\n",
       "      <td> .</td>\n",
       "      <td> NaN</td>\n",
       "      <td> .</td>\n",
       "      <td> .</td>\n",
       "      <td> .</td>\n",
       "      <td> .</td>\n",
       "      <td> .</td>\n",
       "      <td> .</td>\n",
       "      <td> .</td>\n",
       "      <td> NaN</td>\n",
       "    </tr>\n",
       "  </tbody>\n",
       "</table>\n",
       "</div>"
      ],
      "text/plain": [
       "   Lower Net Worth Range Upper Net Worth Range Home ownership (1=yes)  \\\n",
       "87                     .                     .                      .   \n",
       "88                     .                     .                      .   \n",
       "89                     .                     .                      .   \n",
       "90                     .                     .                      .   \n",
       "91                     .                     .                      .   \n",
       "92                     .                     .                      .   \n",
       "93                     .                     .                      .   \n",
       "94                     .                     .                      .   \n",
       "95                     .                     .                      .   \n",
       "96                     .                     .                      .   \n",
       "97                     .                     .                      .   \n",
       "\n",
       "   Household Size Young adult present Senior Adult Present Child Present  \\\n",
       "87            NaN                   .                    .             .   \n",
       "88            NaN                   .                    .             .   \n",
       "89            NaN                   .                    .             .   \n",
       "90            NaN                   .                    .             .   \n",
       "91            NaN                   .                    .             .   \n",
       "92            NaN                   .                    .             .   \n",
       "93            NaN                   .                    .             .   \n",
       "94            NaN                   .                    .             .   \n",
       "95            NaN                   .                    .             .   \n",
       "96            NaN                   .                    .             .   \n",
       "97            NaN                   .                    .             .   \n",
       "\n",
       "   Lower Income Range (source 1) Upper Income Range (source 1)  \\\n",
       "87                             .                             .   \n",
       "88                             .                             .   \n",
       "89                             .                             .   \n",
       "90                             .                             .   \n",
       "91                             .                             .   \n",
       "92                             .                             .   \n",
       "93                             .                             .   \n",
       "94                             .                             .   \n",
       "95                             .                             .   \n",
       "96                             .                             .   \n",
       "97                             .                             .   \n",
       "\n",
       "   Lower Income Range (source 2) Upper Income Range (source 2) Martial Status  \n",
       "87                             .                             .            NaN  \n",
       "88                             .                             .            NaN  \n",
       "89                             .                             .            NaN  \n",
       "90                             .                             .            NaN  \n",
       "91                             .                             .            NaN  \n",
       "92                             .                             .            NaN  \n",
       "93                             .                             .            NaN  \n",
       "94                             .                             .            NaN  \n",
       "95                             .                             .            NaN  \n",
       "96                             .                             .            NaN  \n",
       "97                             .                             .            NaN  "
      ]
     },
     "execution_count": 54,
     "metadata": {},
     "output_type": "execute_result"
    }
   ],
   "source": [
    "fulldata[fulldata.DRIVER_ID==3][cnameList[11:23]]"
   ]
  },
  {
   "cell_type": "code",
   "execution_count": 56,
   "metadata": {
    "collapsed": false
   },
   "outputs": [
    {
     "data": {
      "text/html": [
       "<div style=\"max-height:1000px;max-width:1500px;overflow:auto;\">\n",
       "<table border=\"1\" class=\"dataframe\">\n",
       "  <thead>\n",
       "    <tr style=\"text-align: right;\">\n",
       "      <th></th>\n",
       "      <th>Lower Net Worth Range</th>\n",
       "      <th>Upper Net Worth Range</th>\n",
       "      <th>Home ownership (1=yes)</th>\n",
       "      <th>Household Size</th>\n",
       "      <th>Young adult present</th>\n",
       "      <th>Senior Adult Present</th>\n",
       "      <th>Child Present</th>\n",
       "      <th>Lower Income Range (source 1)</th>\n",
       "      <th>Upper Income Range (source 1)</th>\n",
       "      <th>Lower Income Range (source 2)</th>\n",
       "      <th>Upper Income Range (source 2)</th>\n",
       "      <th>Martial Status</th>\n",
       "    </tr>\n",
       "  </thead>\n",
       "  <tbody>\n",
       "    <tr>\n",
       "      <th>14    </th>\n",
       "      <td> 100000</td>\n",
       "      <td> 249999</td>\n",
       "      <td> 0</td>\n",
       "      <td> 2 PEOPLE</td>\n",
       "      <td> 0</td>\n",
       "      <td> 0</td>\n",
       "      <td> 0</td>\n",
       "      <td>  50000</td>\n",
       "      <td>     74999</td>\n",
       "      <td>  50000</td>\n",
       "      <td>     74999</td>\n",
       "      <td> MARRIED</td>\n",
       "    </tr>\n",
       "    <tr>\n",
       "      <th>15    </th>\n",
       "      <td> 500000</td>\n",
       "      <td> 999999</td>\n",
       "      <td> 0</td>\n",
       "      <td> 2 PEOPLE</td>\n",
       "      <td> 0</td>\n",
       "      <td> 0</td>\n",
       "      <td> 0</td>\n",
       "      <td>  50000</td>\n",
       "      <td>     74999</td>\n",
       "      <td>  50000</td>\n",
       "      <td>     74999</td>\n",
       "      <td> MARRIED</td>\n",
       "    </tr>\n",
       "    <tr>\n",
       "      <th>16    </th>\n",
       "      <td> 500000</td>\n",
       "      <td> 999999</td>\n",
       "      <td> 0</td>\n",
       "      <td> 2 PEOPLE</td>\n",
       "      <td> 0</td>\n",
       "      <td> 0</td>\n",
       "      <td> 0</td>\n",
       "      <td>  50000</td>\n",
       "      <td>     74999</td>\n",
       "      <td>  50000</td>\n",
       "      <td>     74999</td>\n",
       "      <td> MARRIED</td>\n",
       "    </tr>\n",
       "    <tr>\n",
       "      <th>17    </th>\n",
       "      <td> 500000</td>\n",
       "      <td> 999999</td>\n",
       "      <td> 0</td>\n",
       "      <td> 2 PEOPLE</td>\n",
       "      <td> 0</td>\n",
       "      <td> 0</td>\n",
       "      <td> 0</td>\n",
       "      <td>  50000</td>\n",
       "      <td>     74999</td>\n",
       "      <td>  50000</td>\n",
       "      <td>     74999</td>\n",
       "      <td> MARRIED</td>\n",
       "    </tr>\n",
       "    <tr>\n",
       "      <th>18    </th>\n",
       "      <td> 500000</td>\n",
       "      <td> 999999</td>\n",
       "      <td> 0</td>\n",
       "      <td> 2 PEOPLE</td>\n",
       "      <td> 0</td>\n",
       "      <td> 0</td>\n",
       "      <td> 0</td>\n",
       "      <td>  50000</td>\n",
       "      <td>     74999</td>\n",
       "      <td>  50000</td>\n",
       "      <td>     74999</td>\n",
       "      <td> MARRIED</td>\n",
       "    </tr>\n",
       "    <tr>\n",
       "      <th>19    </th>\n",
       "      <td> 500000</td>\n",
       "      <td> 999999</td>\n",
       "      <td> 0</td>\n",
       "      <td> 2 PEOPLE</td>\n",
       "      <td> 0</td>\n",
       "      <td> 0</td>\n",
       "      <td> 0</td>\n",
       "      <td>  50000</td>\n",
       "      <td>     74999</td>\n",
       "      <td>  50000</td>\n",
       "      <td>     74999</td>\n",
       "      <td> MARRIED</td>\n",
       "    </tr>\n",
       "    <tr>\n",
       "      <th>20    </th>\n",
       "      <td> 500000</td>\n",
       "      <td> 999999</td>\n",
       "      <td> 0</td>\n",
       "      <td> 2 PEOPLE</td>\n",
       "      <td> 0</td>\n",
       "      <td> 0</td>\n",
       "      <td> 0</td>\n",
       "      <td>  50000</td>\n",
       "      <td>     74999</td>\n",
       "      <td>  50000</td>\n",
       "      <td>     74999</td>\n",
       "      <td> MARRIED</td>\n",
       "    </tr>\n",
       "    <tr>\n",
       "      <th>21    </th>\n",
       "      <td> 500000</td>\n",
       "      <td> 999999</td>\n",
       "      <td> 0</td>\n",
       "      <td> 2 PEOPLE</td>\n",
       "      <td> 0</td>\n",
       "      <td> 0</td>\n",
       "      <td> 0</td>\n",
       "      <td>  50000</td>\n",
       "      <td>     74999</td>\n",
       "      <td>  50000</td>\n",
       "      <td>     74999</td>\n",
       "      <td> MARRIED</td>\n",
       "    </tr>\n",
       "    <tr>\n",
       "      <th>22    </th>\n",
       "      <td> 500000</td>\n",
       "      <td> 999999</td>\n",
       "      <td> 0</td>\n",
       "      <td> 2 PEOPLE</td>\n",
       "      <td> 0</td>\n",
       "      <td> 0</td>\n",
       "      <td> 0</td>\n",
       "      <td>  50000</td>\n",
       "      <td>     74999</td>\n",
       "      <td>  50000</td>\n",
       "      <td>     74999</td>\n",
       "      <td> MARRIED</td>\n",
       "    </tr>\n",
       "    <tr>\n",
       "      <th>23    </th>\n",
       "      <td> 500000</td>\n",
       "      <td> 999999</td>\n",
       "      <td> 0</td>\n",
       "      <td> 2 PEOPLE</td>\n",
       "      <td> 0</td>\n",
       "      <td> 0</td>\n",
       "      <td> 0</td>\n",
       "      <td>  50000</td>\n",
       "      <td>     74999</td>\n",
       "      <td>  50000</td>\n",
       "      <td>     74999</td>\n",
       "      <td> MARRIED</td>\n",
       "    </tr>\n",
       "    <tr>\n",
       "      <th>24    </th>\n",
       "      <td> 500000</td>\n",
       "      <td> 999999</td>\n",
       "      <td> 0</td>\n",
       "      <td> 2 PEOPLE</td>\n",
       "      <td> 0</td>\n",
       "      <td> 0</td>\n",
       "      <td> 0</td>\n",
       "      <td>  50000</td>\n",
       "      <td>     74999</td>\n",
       "      <td>  50000</td>\n",
       "      <td>     74999</td>\n",
       "      <td> MARRIED</td>\n",
       "    </tr>\n",
       "    <tr>\n",
       "      <th>25    </th>\n",
       "      <td> 500000</td>\n",
       "      <td> 999999</td>\n",
       "      <td> 0</td>\n",
       "      <td> 2 PEOPLE</td>\n",
       "      <td> 0</td>\n",
       "      <td> 0</td>\n",
       "      <td> 0</td>\n",
       "      <td>  50000</td>\n",
       "      <td>     74999</td>\n",
       "      <td>  50000</td>\n",
       "      <td>     74999</td>\n",
       "      <td> MARRIED</td>\n",
       "    </tr>\n",
       "    <tr>\n",
       "      <th>26    </th>\n",
       "      <td> 500000</td>\n",
       "      <td> 999999</td>\n",
       "      <td> 0</td>\n",
       "      <td> 2 PEOPLE</td>\n",
       "      <td> 0</td>\n",
       "      <td> 0</td>\n",
       "      <td> 0</td>\n",
       "      <td>  50000</td>\n",
       "      <td>     74999</td>\n",
       "      <td>  50000</td>\n",
       "      <td>     74999</td>\n",
       "      <td> MARRIED</td>\n",
       "    </tr>\n",
       "    <tr>\n",
       "      <th>27    </th>\n",
       "      <td> 500000</td>\n",
       "      <td> 999999</td>\n",
       "      <td> 0</td>\n",
       "      <td> 2 PEOPLE</td>\n",
       "      <td> 0</td>\n",
       "      <td> 0</td>\n",
       "      <td> 0</td>\n",
       "      <td>  50000</td>\n",
       "      <td>     74999</td>\n",
       "      <td>  50000</td>\n",
       "      <td>     74999</td>\n",
       "      <td> MARRIED</td>\n",
       "    </tr>\n",
       "    <tr>\n",
       "      <th>28    </th>\n",
       "      <td> 500000</td>\n",
       "      <td> 999999</td>\n",
       "      <td> 0</td>\n",
       "      <td> 2 PEOPLE</td>\n",
       "      <td> 0</td>\n",
       "      <td> 0</td>\n",
       "      <td> 0</td>\n",
       "      <td>  50000</td>\n",
       "      <td>     74999</td>\n",
       "      <td>  50000</td>\n",
       "      <td>     74999</td>\n",
       "      <td> MARRIED</td>\n",
       "    </tr>\n",
       "    <tr>\n",
       "      <th>29    </th>\n",
       "      <td> 100000</td>\n",
       "      <td> 249999</td>\n",
       "      <td> 0</td>\n",
       "      <td> 2 PEOPLE</td>\n",
       "      <td> 0</td>\n",
       "      <td> 0</td>\n",
       "      <td> 0</td>\n",
       "      <td>  50000</td>\n",
       "      <td>     74999</td>\n",
       "      <td>  50000</td>\n",
       "      <td>     74999</td>\n",
       "      <td> MARRIED</td>\n",
       "    </tr>\n",
       "    <tr>\n",
       "      <th>30    </th>\n",
       "      <td> 100000</td>\n",
       "      <td> 249999</td>\n",
       "      <td> 0</td>\n",
       "      <td> 2 PEOPLE</td>\n",
       "      <td> 0</td>\n",
       "      <td> 0</td>\n",
       "      <td> 0</td>\n",
       "      <td>  50000</td>\n",
       "      <td>     74999</td>\n",
       "      <td>  50000</td>\n",
       "      <td>     74999</td>\n",
       "      <td> MARRIED</td>\n",
       "    </tr>\n",
       "    <tr>\n",
       "      <th>31    </th>\n",
       "      <td> 100000</td>\n",
       "      <td> 249999</td>\n",
       "      <td> 0</td>\n",
       "      <td> 2 PEOPLE</td>\n",
       "      <td> 0</td>\n",
       "      <td> 0</td>\n",
       "      <td> 0</td>\n",
       "      <td>  50000</td>\n",
       "      <td>     74999</td>\n",
       "      <td>  50000</td>\n",
       "      <td>     74999</td>\n",
       "      <td> MARRIED</td>\n",
       "    </tr>\n",
       "    <tr>\n",
       "      <th>32    </th>\n",
       "      <td> 100000</td>\n",
       "      <td> 249999</td>\n",
       "      <td> 0</td>\n",
       "      <td> 2 PEOPLE</td>\n",
       "      <td> 0</td>\n",
       "      <td> 0</td>\n",
       "      <td> 0</td>\n",
       "      <td>  50000</td>\n",
       "      <td>     74999</td>\n",
       "      <td>  50000</td>\n",
       "      <td>     74999</td>\n",
       "      <td> MARRIED</td>\n",
       "    </tr>\n",
       "    <tr>\n",
       "      <th>33    </th>\n",
       "      <td> 100000</td>\n",
       "      <td> 249999</td>\n",
       "      <td> 0</td>\n",
       "      <td> 2 PEOPLE</td>\n",
       "      <td> 0</td>\n",
       "      <td> 0</td>\n",
       "      <td> 0</td>\n",
       "      <td>  50000</td>\n",
       "      <td>     74999</td>\n",
       "      <td>  50000</td>\n",
       "      <td>     74999</td>\n",
       "      <td> MARRIED</td>\n",
       "    </tr>\n",
       "    <tr>\n",
       "      <th>34    </th>\n",
       "      <td> 100000</td>\n",
       "      <td> 249999</td>\n",
       "      <td> 0</td>\n",
       "      <td> 2 PEOPLE</td>\n",
       "      <td> 0</td>\n",
       "      <td> 0</td>\n",
       "      <td> 0</td>\n",
       "      <td>  50000</td>\n",
       "      <td>     74999</td>\n",
       "      <td>  50000</td>\n",
       "      <td>     74999</td>\n",
       "      <td> MARRIED</td>\n",
       "    </tr>\n",
       "    <tr>\n",
       "      <th>35    </th>\n",
       "      <td> 100000</td>\n",
       "      <td> 249999</td>\n",
       "      <td> 0</td>\n",
       "      <td> 2 PEOPLE</td>\n",
       "      <td> 0</td>\n",
       "      <td> 0</td>\n",
       "      <td> 0</td>\n",
       "      <td>  50000</td>\n",
       "      <td>     74999</td>\n",
       "      <td>  50000</td>\n",
       "      <td>     74999</td>\n",
       "      <td> MARRIED</td>\n",
       "    </tr>\n",
       "    <tr>\n",
       "      <th>36    </th>\n",
       "      <td> 100000</td>\n",
       "      <td> 249999</td>\n",
       "      <td> 0</td>\n",
       "      <td> 2 PEOPLE</td>\n",
       "      <td> 0</td>\n",
       "      <td> 0</td>\n",
       "      <td> 0</td>\n",
       "      <td>  50000</td>\n",
       "      <td>     74999</td>\n",
       "      <td>  50000</td>\n",
       "      <td>     74999</td>\n",
       "      <td> MARRIED</td>\n",
       "    </tr>\n",
       "    <tr>\n",
       "      <th>37    </th>\n",
       "      <td> 100000</td>\n",
       "      <td> 249999</td>\n",
       "      <td> 0</td>\n",
       "      <td> 2 PEOPLE</td>\n",
       "      <td> 0</td>\n",
       "      <td> 0</td>\n",
       "      <td> 0</td>\n",
       "      <td>  50000</td>\n",
       "      <td>     74999</td>\n",
       "      <td>  50000</td>\n",
       "      <td>     74999</td>\n",
       "      <td> MARRIED</td>\n",
       "    </tr>\n",
       "    <tr>\n",
       "      <th>38    </th>\n",
       "      <td> 100000</td>\n",
       "      <td> 249999</td>\n",
       "      <td> 0</td>\n",
       "      <td> 2 PEOPLE</td>\n",
       "      <td> 0</td>\n",
       "      <td> 0</td>\n",
       "      <td> 0</td>\n",
       "      <td>  50000</td>\n",
       "      <td>     74999</td>\n",
       "      <td>  50000</td>\n",
       "      <td>     74999</td>\n",
       "      <td> MARRIED</td>\n",
       "    </tr>\n",
       "    <tr>\n",
       "      <th>39    </th>\n",
       "      <td> 100000</td>\n",
       "      <td> 249999</td>\n",
       "      <td> 0</td>\n",
       "      <td> 2 PEOPLE</td>\n",
       "      <td> 0</td>\n",
       "      <td> 0</td>\n",
       "      <td> 0</td>\n",
       "      <td>  50000</td>\n",
       "      <td>     74999</td>\n",
       "      <td>  50000</td>\n",
       "      <td>     74999</td>\n",
       "      <td> MARRIED</td>\n",
       "    </tr>\n",
       "    <tr>\n",
       "      <th>40    </th>\n",
       "      <td> 100000</td>\n",
       "      <td> 249999</td>\n",
       "      <td> 0</td>\n",
       "      <td> 2 PEOPLE</td>\n",
       "      <td> 0</td>\n",
       "      <td> 0</td>\n",
       "      <td> 0</td>\n",
       "      <td>  50000</td>\n",
       "      <td>     74999</td>\n",
       "      <td>  50000</td>\n",
       "      <td>     74999</td>\n",
       "      <td> MARRIED</td>\n",
       "    </tr>\n",
       "    <tr>\n",
       "      <th>41    </th>\n",
       "      <td> 100000</td>\n",
       "      <td> 249999</td>\n",
       "      <td> 0</td>\n",
       "      <td> 2 PEOPLE</td>\n",
       "      <td> 0</td>\n",
       "      <td> 0</td>\n",
       "      <td> 0</td>\n",
       "      <td>  50000</td>\n",
       "      <td>     74999</td>\n",
       "      <td>  50000</td>\n",
       "      <td>     74999</td>\n",
       "      <td> MARRIED</td>\n",
       "    </tr>\n",
       "    <tr>\n",
       "      <th>45    </th>\n",
       "      <td> 100000</td>\n",
       "      <td> 249999</td>\n",
       "      <td> 1</td>\n",
       "      <td> 5 PEOPLE</td>\n",
       "      <td> 1</td>\n",
       "      <td> 0</td>\n",
       "      <td> 1</td>\n",
       "      <td> 124999</td>\n",
       "      <td> 999999999</td>\n",
       "      <td> 124999</td>\n",
       "      <td> 999999999</td>\n",
       "      <td> MARRIED</td>\n",
       "    </tr>\n",
       "    <tr>\n",
       "      <th>46    </th>\n",
       "      <td> 250000</td>\n",
       "      <td> 499999</td>\n",
       "      <td> 1</td>\n",
       "      <td> 6 PEOPLE</td>\n",
       "      <td> 1</td>\n",
       "      <td> 0</td>\n",
       "      <td> 1</td>\n",
       "      <td> 124999</td>\n",
       "      <td> 999999999</td>\n",
       "      <td> 124999</td>\n",
       "      <td> 999999999</td>\n",
       "      <td> MARRIED</td>\n",
       "    </tr>\n",
       "    <tr>\n",
       "      <th>...</th>\n",
       "      <td>...</td>\n",
       "      <td>...</td>\n",
       "      <td>...</td>\n",
       "      <td>...</td>\n",
       "      <td>...</td>\n",
       "      <td>...</td>\n",
       "      <td>...</td>\n",
       "      <td>...</td>\n",
       "      <td>...</td>\n",
       "      <td>...</td>\n",
       "      <td>...</td>\n",
       "      <td>...</td>\n",
       "    </tr>\n",
       "    <tr>\n",
       "      <th>401400</th>\n",
       "      <td> 100000</td>\n",
       "      <td> 249999</td>\n",
       "      <td> 0</td>\n",
       "      <td> 2 PEOPLE</td>\n",
       "      <td> 0</td>\n",
       "      <td> 0</td>\n",
       "      <td> 0</td>\n",
       "      <td> 100000</td>\n",
       "      <td>    124999</td>\n",
       "      <td> 100000</td>\n",
       "      <td>    124999</td>\n",
       "      <td> MARRIED</td>\n",
       "    </tr>\n",
       "    <tr>\n",
       "      <th>401401</th>\n",
       "      <td> 100000</td>\n",
       "      <td> 249999</td>\n",
       "      <td> 0</td>\n",
       "      <td> 2 PEOPLE</td>\n",
       "      <td> 0</td>\n",
       "      <td> 0</td>\n",
       "      <td> 0</td>\n",
       "      <td> 100000</td>\n",
       "      <td>    124999</td>\n",
       "      <td> 100000</td>\n",
       "      <td>    124999</td>\n",
       "      <td> MARRIED</td>\n",
       "    </tr>\n",
       "    <tr>\n",
       "      <th>401402</th>\n",
       "      <td> 100000</td>\n",
       "      <td> 249999</td>\n",
       "      <td> 0</td>\n",
       "      <td> 2 PEOPLE</td>\n",
       "      <td> 0</td>\n",
       "      <td> 0</td>\n",
       "      <td> 0</td>\n",
       "      <td> 100000</td>\n",
       "      <td>    124999</td>\n",
       "      <td> 100000</td>\n",
       "      <td>    124999</td>\n",
       "      <td> MARRIED</td>\n",
       "    </tr>\n",
       "    <tr>\n",
       "      <th>401403</th>\n",
       "      <td> 100000</td>\n",
       "      <td> 249999</td>\n",
       "      <td> 0</td>\n",
       "      <td> 2 PEOPLE</td>\n",
       "      <td> 0</td>\n",
       "      <td> 0</td>\n",
       "      <td> 0</td>\n",
       "      <td> 100000</td>\n",
       "      <td>    124999</td>\n",
       "      <td> 100000</td>\n",
       "      <td>    124999</td>\n",
       "      <td> MARRIED</td>\n",
       "    </tr>\n",
       "    <tr>\n",
       "      <th>401404</th>\n",
       "      <td> 100000</td>\n",
       "      <td> 249999</td>\n",
       "      <td> 0</td>\n",
       "      <td> 2 PEOPLE</td>\n",
       "      <td> 0</td>\n",
       "      <td> 0</td>\n",
       "      <td> 0</td>\n",
       "      <td> 100000</td>\n",
       "      <td>    124999</td>\n",
       "      <td> 100000</td>\n",
       "      <td>    124999</td>\n",
       "      <td> MARRIED</td>\n",
       "    </tr>\n",
       "    <tr>\n",
       "      <th>401405</th>\n",
       "      <td> 100000</td>\n",
       "      <td> 249999</td>\n",
       "      <td> 0</td>\n",
       "      <td> 2 PEOPLE</td>\n",
       "      <td> 0</td>\n",
       "      <td> 0</td>\n",
       "      <td> 0</td>\n",
       "      <td> 100000</td>\n",
       "      <td>    124999</td>\n",
       "      <td> 100000</td>\n",
       "      <td>    124999</td>\n",
       "      <td> MARRIED</td>\n",
       "    </tr>\n",
       "    <tr>\n",
       "      <th>401411</th>\n",
       "      <td>   5000</td>\n",
       "      <td>   9999</td>\n",
       "      <td> 0</td>\n",
       "      <td> 3 PEOPLE</td>\n",
       "      <td> 0</td>\n",
       "      <td> 1</td>\n",
       "      <td> 1</td>\n",
       "      <td>  50000</td>\n",
       "      <td>     74999</td>\n",
       "      <td>  50000</td>\n",
       "      <td>     74999</td>\n",
       "      <td>  SINGLE</td>\n",
       "    </tr>\n",
       "    <tr>\n",
       "      <th>401413</th>\n",
       "      <td>   5000</td>\n",
       "      <td>   9999</td>\n",
       "      <td> 0</td>\n",
       "      <td> 3 PEOPLE</td>\n",
       "      <td> 0</td>\n",
       "      <td> 1</td>\n",
       "      <td> 1</td>\n",
       "      <td>  50000</td>\n",
       "      <td>     74999</td>\n",
       "      <td>  50000</td>\n",
       "      <td>     74999</td>\n",
       "      <td>  SINGLE</td>\n",
       "    </tr>\n",
       "    <tr>\n",
       "      <th>401414</th>\n",
       "      <td>      1</td>\n",
       "      <td>   4999</td>\n",
       "      <td> 1</td>\n",
       "      <td> 2 PEOPLE</td>\n",
       "      <td> 0</td>\n",
       "      <td> 0</td>\n",
       "      <td> 0</td>\n",
       "      <td>      1</td>\n",
       "      <td>     15000</td>\n",
       "      <td>      0</td>\n",
       "      <td>     15000</td>\n",
       "      <td>  SINGLE</td>\n",
       "    </tr>\n",
       "    <tr>\n",
       "      <th>401415</th>\n",
       "      <td>      1</td>\n",
       "      <td>   4999</td>\n",
       "      <td> 1</td>\n",
       "      <td> 2 PEOPLE</td>\n",
       "      <td> 0</td>\n",
       "      <td> 0</td>\n",
       "      <td> 0</td>\n",
       "      <td>      1</td>\n",
       "      <td>     15000</td>\n",
       "      <td>      0</td>\n",
       "      <td>     15000</td>\n",
       "      <td>  SINGLE</td>\n",
       "    </tr>\n",
       "    <tr>\n",
       "      <th>401416</th>\n",
       "      <td>      1</td>\n",
       "      <td>   4999</td>\n",
       "      <td> 1</td>\n",
       "      <td> 2 PEOPLE</td>\n",
       "      <td> 0</td>\n",
       "      <td> 0</td>\n",
       "      <td> 0</td>\n",
       "      <td>      1</td>\n",
       "      <td>     15000</td>\n",
       "      <td>      0</td>\n",
       "      <td>     15000</td>\n",
       "      <td>  SINGLE</td>\n",
       "    </tr>\n",
       "    <tr>\n",
       "      <th>401417</th>\n",
       "      <td>      1</td>\n",
       "      <td>   4999</td>\n",
       "      <td> 1</td>\n",
       "      <td> 2 PEOPLE</td>\n",
       "      <td> 0</td>\n",
       "      <td> 0</td>\n",
       "      <td> 0</td>\n",
       "      <td>      1</td>\n",
       "      <td>     15000</td>\n",
       "      <td>      0</td>\n",
       "      <td>     15000</td>\n",
       "      <td>  SINGLE</td>\n",
       "    </tr>\n",
       "    <tr>\n",
       "      <th>401418</th>\n",
       "      <td>      1</td>\n",
       "      <td>   4999</td>\n",
       "      <td> 1</td>\n",
       "      <td> 1 PERSON</td>\n",
       "      <td> 0</td>\n",
       "      <td> 0</td>\n",
       "      <td> 0</td>\n",
       "      <td>      1</td>\n",
       "      <td>     15000</td>\n",
       "      <td>      0</td>\n",
       "      <td>     15000</td>\n",
       "      <td>  SINGLE</td>\n",
       "    </tr>\n",
       "    <tr>\n",
       "      <th>401419</th>\n",
       "      <td>      1</td>\n",
       "      <td>   4999</td>\n",
       "      <td> 1</td>\n",
       "      <td> 1 PERSON</td>\n",
       "      <td> 0</td>\n",
       "      <td> 0</td>\n",
       "      <td> 0</td>\n",
       "      <td>      1</td>\n",
       "      <td>     15000</td>\n",
       "      <td>      0</td>\n",
       "      <td>     15000</td>\n",
       "      <td>  SINGLE</td>\n",
       "    </tr>\n",
       "    <tr>\n",
       "      <th>401420</th>\n",
       "      <td>      1</td>\n",
       "      <td>   4999</td>\n",
       "      <td> 1</td>\n",
       "      <td> 1 PERSON</td>\n",
       "      <td> 0</td>\n",
       "      <td> 0</td>\n",
       "      <td> 0</td>\n",
       "      <td>      1</td>\n",
       "      <td>     15000</td>\n",
       "      <td>      0</td>\n",
       "      <td>     15000</td>\n",
       "      <td>  SINGLE</td>\n",
       "    </tr>\n",
       "    <tr>\n",
       "      <th>401421</th>\n",
       "      <td>      1</td>\n",
       "      <td>   4999</td>\n",
       "      <td> 1</td>\n",
       "      <td> 1 PERSON</td>\n",
       "      <td> 0</td>\n",
       "      <td> 0</td>\n",
       "      <td> 0</td>\n",
       "      <td>      1</td>\n",
       "      <td>     15000</td>\n",
       "      <td>      0</td>\n",
       "      <td>     15000</td>\n",
       "      <td>  SINGLE</td>\n",
       "    </tr>\n",
       "    <tr>\n",
       "      <th>401422</th>\n",
       "      <td>      1</td>\n",
       "      <td>   4999</td>\n",
       "      <td> 1</td>\n",
       "      <td> 1 PERSON</td>\n",
       "      <td> 0</td>\n",
       "      <td> 0</td>\n",
       "      <td> 0</td>\n",
       "      <td>      1</td>\n",
       "      <td>     15000</td>\n",
       "      <td>      0</td>\n",
       "      <td>     15000</td>\n",
       "      <td>  SINGLE</td>\n",
       "    </tr>\n",
       "    <tr>\n",
       "      <th>401423</th>\n",
       "      <td>      1</td>\n",
       "      <td>   4999</td>\n",
       "      <td> 1</td>\n",
       "      <td> 1 PERSON</td>\n",
       "      <td> 0</td>\n",
       "      <td> 0</td>\n",
       "      <td> 0</td>\n",
       "      <td>      1</td>\n",
       "      <td>     15000</td>\n",
       "      <td>      0</td>\n",
       "      <td>     15000</td>\n",
       "      <td>  SINGLE</td>\n",
       "    </tr>\n",
       "    <tr>\n",
       "      <th>401424</th>\n",
       "      <td>      1</td>\n",
       "      <td>   4999</td>\n",
       "      <td> 1</td>\n",
       "      <td> 1 PERSON</td>\n",
       "      <td> 0</td>\n",
       "      <td> 0</td>\n",
       "      <td> 0</td>\n",
       "      <td>      1</td>\n",
       "      <td>     15000</td>\n",
       "      <td>      0</td>\n",
       "      <td>     15000</td>\n",
       "      <td>  SINGLE</td>\n",
       "    </tr>\n",
       "    <tr>\n",
       "      <th>401425</th>\n",
       "      <td>  25000</td>\n",
       "      <td>  49999</td>\n",
       "      <td> 1</td>\n",
       "      <td> 1 PERSON</td>\n",
       "      <td> 0</td>\n",
       "      <td> 0</td>\n",
       "      <td> 0</td>\n",
       "      <td>      1</td>\n",
       "      <td>     15000</td>\n",
       "      <td>      0</td>\n",
       "      <td>     15000</td>\n",
       "      <td>  SINGLE</td>\n",
       "    </tr>\n",
       "    <tr>\n",
       "      <th>401426</th>\n",
       "      <td>  25000</td>\n",
       "      <td>  49999</td>\n",
       "      <td> 1</td>\n",
       "      <td> 1 PERSON</td>\n",
       "      <td> 0</td>\n",
       "      <td> 0</td>\n",
       "      <td> 0</td>\n",
       "      <td>      1</td>\n",
       "      <td>     15000</td>\n",
       "      <td>      0</td>\n",
       "      <td>     15000</td>\n",
       "      <td>  SINGLE</td>\n",
       "    </tr>\n",
       "    <tr>\n",
       "      <th>401427</th>\n",
       "      <td>  25000</td>\n",
       "      <td>  49999</td>\n",
       "      <td> 1</td>\n",
       "      <td> 2 PEOPLE</td>\n",
       "      <td> 0</td>\n",
       "      <td> 0</td>\n",
       "      <td> 0</td>\n",
       "      <td>      1</td>\n",
       "      <td>     15000</td>\n",
       "      <td>      0</td>\n",
       "      <td>     15000</td>\n",
       "      <td>  SINGLE</td>\n",
       "    </tr>\n",
       "    <tr>\n",
       "      <th>401428</th>\n",
       "      <td>  25000</td>\n",
       "      <td>  49999</td>\n",
       "      <td> 1</td>\n",
       "      <td> 2 PEOPLE</td>\n",
       "      <td> 0</td>\n",
       "      <td> 0</td>\n",
       "      <td> 0</td>\n",
       "      <td>      1</td>\n",
       "      <td>     15000</td>\n",
       "      <td>      0</td>\n",
       "      <td>     15000</td>\n",
       "      <td>  SINGLE</td>\n",
       "    </tr>\n",
       "    <tr>\n",
       "      <th>401431</th>\n",
       "      <td>  25000</td>\n",
       "      <td>  49999</td>\n",
       "      <td> 1</td>\n",
       "      <td> 2 PEOPLE</td>\n",
       "      <td> 0</td>\n",
       "      <td> 0</td>\n",
       "      <td> 0</td>\n",
       "      <td>      1</td>\n",
       "      <td>     15000</td>\n",
       "      <td>      0</td>\n",
       "      <td>     15000</td>\n",
       "      <td>  SINGLE</td>\n",
       "    </tr>\n",
       "    <tr>\n",
       "      <th>401432</th>\n",
       "      <td>  25000</td>\n",
       "      <td>  49999</td>\n",
       "      <td> 1</td>\n",
       "      <td> 2 PEOPLE</td>\n",
       "      <td> 0</td>\n",
       "      <td> 0</td>\n",
       "      <td> 0</td>\n",
       "      <td>      1</td>\n",
       "      <td>     15000</td>\n",
       "      <td>      0</td>\n",
       "      <td>     15000</td>\n",
       "      <td>  SINGLE</td>\n",
       "    </tr>\n",
       "    <tr>\n",
       "      <th>401433</th>\n",
       "      <td>  25000</td>\n",
       "      <td>  49999</td>\n",
       "      <td> 1</td>\n",
       "      <td> 2 PEOPLE</td>\n",
       "      <td> 0</td>\n",
       "      <td> 0</td>\n",
       "      <td> 0</td>\n",
       "      <td>      1</td>\n",
       "      <td>     15000</td>\n",
       "      <td>      0</td>\n",
       "      <td>     15000</td>\n",
       "      <td>  SINGLE</td>\n",
       "    </tr>\n",
       "    <tr>\n",
       "      <th>401434</th>\n",
       "      <td>  25000</td>\n",
       "      <td>  49999</td>\n",
       "      <td> 1</td>\n",
       "      <td> 2 PEOPLE</td>\n",
       "      <td> 0</td>\n",
       "      <td> 0</td>\n",
       "      <td> 0</td>\n",
       "      <td>      1</td>\n",
       "      <td>     15000</td>\n",
       "      <td>      0</td>\n",
       "      <td>     15000</td>\n",
       "      <td>  SINGLE</td>\n",
       "    </tr>\n",
       "    <tr>\n",
       "      <th>401435</th>\n",
       "      <td>  25000</td>\n",
       "      <td>  49999</td>\n",
       "      <td> 1</td>\n",
       "      <td> 2 PEOPLE</td>\n",
       "      <td> 0</td>\n",
       "      <td> 0</td>\n",
       "      <td> 0</td>\n",
       "      <td>      1</td>\n",
       "      <td>     15000</td>\n",
       "      <td>      0</td>\n",
       "      <td>     15000</td>\n",
       "      <td>  SINGLE</td>\n",
       "    </tr>\n",
       "    <tr>\n",
       "      <th>401436</th>\n",
       "      <td>  25000</td>\n",
       "      <td>  49999</td>\n",
       "      <td> 1</td>\n",
       "      <td> 2 PEOPLE</td>\n",
       "      <td> 0</td>\n",
       "      <td> 0</td>\n",
       "      <td> 0</td>\n",
       "      <td>      1</td>\n",
       "      <td>     15000</td>\n",
       "      <td>      0</td>\n",
       "      <td>     15000</td>\n",
       "      <td>  SINGLE</td>\n",
       "    </tr>\n",
       "    <tr>\n",
       "      <th>401437</th>\n",
       "      <td>      1</td>\n",
       "      <td>   4999</td>\n",
       "      <td> 1</td>\n",
       "      <td> 2 PEOPLE</td>\n",
       "      <td> 0</td>\n",
       "      <td> 0</td>\n",
       "      <td> 0</td>\n",
       "      <td>      1</td>\n",
       "      <td>     15000</td>\n",
       "      <td>      0</td>\n",
       "      <td>     15000</td>\n",
       "      <td>  SINGLE</td>\n",
       "    </tr>\n",
       "  </tbody>\n",
       "</table>\n",
       "<p>293470 rows × 12 columns</p>\n",
       "</div>"
      ],
      "text/plain": [
       "       Lower Net Worth Range Upper Net Worth Range Home ownership (1=yes)  \\\n",
       "14                    100000                249999                      0   \n",
       "15                    500000                999999                      0   \n",
       "16                    500000                999999                      0   \n",
       "17                    500000                999999                      0   \n",
       "18                    500000                999999                      0   \n",
       "19                    500000                999999                      0   \n",
       "20                    500000                999999                      0   \n",
       "21                    500000                999999                      0   \n",
       "22                    500000                999999                      0   \n",
       "23                    500000                999999                      0   \n",
       "24                    500000                999999                      0   \n",
       "25                    500000                999999                      0   \n",
       "26                    500000                999999                      0   \n",
       "27                    500000                999999                      0   \n",
       "28                    500000                999999                      0   \n",
       "29                    100000                249999                      0   \n",
       "30                    100000                249999                      0   \n",
       "31                    100000                249999                      0   \n",
       "32                    100000                249999                      0   \n",
       "33                    100000                249999                      0   \n",
       "34                    100000                249999                      0   \n",
       "35                    100000                249999                      0   \n",
       "36                    100000                249999                      0   \n",
       "37                    100000                249999                      0   \n",
       "38                    100000                249999                      0   \n",
       "39                    100000                249999                      0   \n",
       "40                    100000                249999                      0   \n",
       "41                    100000                249999                      0   \n",
       "45                    100000                249999                      1   \n",
       "46                    250000                499999                      1   \n",
       "...                      ...                   ...                    ...   \n",
       "401400                100000                249999                      0   \n",
       "401401                100000                249999                      0   \n",
       "401402                100000                249999                      0   \n",
       "401403                100000                249999                      0   \n",
       "401404                100000                249999                      0   \n",
       "401405                100000                249999                      0   \n",
       "401411                  5000                  9999                      0   \n",
       "401413                  5000                  9999                      0   \n",
       "401414                     1                  4999                      1   \n",
       "401415                     1                  4999                      1   \n",
       "401416                     1                  4999                      1   \n",
       "401417                     1                  4999                      1   \n",
       "401418                     1                  4999                      1   \n",
       "401419                     1                  4999                      1   \n",
       "401420                     1                  4999                      1   \n",
       "401421                     1                  4999                      1   \n",
       "401422                     1                  4999                      1   \n",
       "401423                     1                  4999                      1   \n",
       "401424                     1                  4999                      1   \n",
       "401425                 25000                 49999                      1   \n",
       "401426                 25000                 49999                      1   \n",
       "401427                 25000                 49999                      1   \n",
       "401428                 25000                 49999                      1   \n",
       "401431                 25000                 49999                      1   \n",
       "401432                 25000                 49999                      1   \n",
       "401433                 25000                 49999                      1   \n",
       "401434                 25000                 49999                      1   \n",
       "401435                 25000                 49999                      1   \n",
       "401436                 25000                 49999                      1   \n",
       "401437                     1                  4999                      1   \n",
       "\n",
       "       Household Size Young adult present Senior Adult Present Child Present  \\\n",
       "14           2 PEOPLE                   0                    0             0   \n",
       "15           2 PEOPLE                   0                    0             0   \n",
       "16           2 PEOPLE                   0                    0             0   \n",
       "17           2 PEOPLE                   0                    0             0   \n",
       "18           2 PEOPLE                   0                    0             0   \n",
       "19           2 PEOPLE                   0                    0             0   \n",
       "20           2 PEOPLE                   0                    0             0   \n",
       "21           2 PEOPLE                   0                    0             0   \n",
       "22           2 PEOPLE                   0                    0             0   \n",
       "23           2 PEOPLE                   0                    0             0   \n",
       "24           2 PEOPLE                   0                    0             0   \n",
       "25           2 PEOPLE                   0                    0             0   \n",
       "26           2 PEOPLE                   0                    0             0   \n",
       "27           2 PEOPLE                   0                    0             0   \n",
       "28           2 PEOPLE                   0                    0             0   \n",
       "29           2 PEOPLE                   0                    0             0   \n",
       "30           2 PEOPLE                   0                    0             0   \n",
       "31           2 PEOPLE                   0                    0             0   \n",
       "32           2 PEOPLE                   0                    0             0   \n",
       "33           2 PEOPLE                   0                    0             0   \n",
       "34           2 PEOPLE                   0                    0             0   \n",
       "35           2 PEOPLE                   0                    0             0   \n",
       "36           2 PEOPLE                   0                    0             0   \n",
       "37           2 PEOPLE                   0                    0             0   \n",
       "38           2 PEOPLE                   0                    0             0   \n",
       "39           2 PEOPLE                   0                    0             0   \n",
       "40           2 PEOPLE                   0                    0             0   \n",
       "41           2 PEOPLE                   0                    0             0   \n",
       "45           5 PEOPLE                   1                    0             1   \n",
       "46           6 PEOPLE                   1                    0             1   \n",
       "...               ...                 ...                  ...           ...   \n",
       "401400       2 PEOPLE                   0                    0             0   \n",
       "401401       2 PEOPLE                   0                    0             0   \n",
       "401402       2 PEOPLE                   0                    0             0   \n",
       "401403       2 PEOPLE                   0                    0             0   \n",
       "401404       2 PEOPLE                   0                    0             0   \n",
       "401405       2 PEOPLE                   0                    0             0   \n",
       "401411       3 PEOPLE                   0                    1             1   \n",
       "401413       3 PEOPLE                   0                    1             1   \n",
       "401414       2 PEOPLE                   0                    0             0   \n",
       "401415       2 PEOPLE                   0                    0             0   \n",
       "401416       2 PEOPLE                   0                    0             0   \n",
       "401417       2 PEOPLE                   0                    0             0   \n",
       "401418       1 PERSON                   0                    0             0   \n",
       "401419       1 PERSON                   0                    0             0   \n",
       "401420       1 PERSON                   0                    0             0   \n",
       "401421       1 PERSON                   0                    0             0   \n",
       "401422       1 PERSON                   0                    0             0   \n",
       "401423       1 PERSON                   0                    0             0   \n",
       "401424       1 PERSON                   0                    0             0   \n",
       "401425       1 PERSON                   0                    0             0   \n",
       "401426       1 PERSON                   0                    0             0   \n",
       "401427       2 PEOPLE                   0                    0             0   \n",
       "401428       2 PEOPLE                   0                    0             0   \n",
       "401431       2 PEOPLE                   0                    0             0   \n",
       "401432       2 PEOPLE                   0                    0             0   \n",
       "401433       2 PEOPLE                   0                    0             0   \n",
       "401434       2 PEOPLE                   0                    0             0   \n",
       "401435       2 PEOPLE                   0                    0             0   \n",
       "401436       2 PEOPLE                   0                    0             0   \n",
       "401437       2 PEOPLE                   0                    0             0   \n",
       "\n",
       "       Lower Income Range (source 1) Upper Income Range (source 1)  \\\n",
       "14                             50000                         74999   \n",
       "15                             50000                         74999   \n",
       "16                             50000                         74999   \n",
       "17                             50000                         74999   \n",
       "18                             50000                         74999   \n",
       "19                             50000                         74999   \n",
       "20                             50000                         74999   \n",
       "21                             50000                         74999   \n",
       "22                             50000                         74999   \n",
       "23                             50000                         74999   \n",
       "24                             50000                         74999   \n",
       "25                             50000                         74999   \n",
       "26                             50000                         74999   \n",
       "27                             50000                         74999   \n",
       "28                             50000                         74999   \n",
       "29                             50000                         74999   \n",
       "30                             50000                         74999   \n",
       "31                             50000                         74999   \n",
       "32                             50000                         74999   \n",
       "33                             50000                         74999   \n",
       "34                             50000                         74999   \n",
       "35                             50000                         74999   \n",
       "36                             50000                         74999   \n",
       "37                             50000                         74999   \n",
       "38                             50000                         74999   \n",
       "39                             50000                         74999   \n",
       "40                             50000                         74999   \n",
       "41                             50000                         74999   \n",
       "45                            124999                     999999999   \n",
       "46                            124999                     999999999   \n",
       "...                              ...                           ...   \n",
       "401400                        100000                        124999   \n",
       "401401                        100000                        124999   \n",
       "401402                        100000                        124999   \n",
       "401403                        100000                        124999   \n",
       "401404                        100000                        124999   \n",
       "401405                        100000                        124999   \n",
       "401411                         50000                         74999   \n",
       "401413                         50000                         74999   \n",
       "401414                             1                         15000   \n",
       "401415                             1                         15000   \n",
       "401416                             1                         15000   \n",
       "401417                             1                         15000   \n",
       "401418                             1                         15000   \n",
       "401419                             1                         15000   \n",
       "401420                             1                         15000   \n",
       "401421                             1                         15000   \n",
       "401422                             1                         15000   \n",
       "401423                             1                         15000   \n",
       "401424                             1                         15000   \n",
       "401425                             1                         15000   \n",
       "401426                             1                         15000   \n",
       "401427                             1                         15000   \n",
       "401428                             1                         15000   \n",
       "401431                             1                         15000   \n",
       "401432                             1                         15000   \n",
       "401433                             1                         15000   \n",
       "401434                             1                         15000   \n",
       "401435                             1                         15000   \n",
       "401436                             1                         15000   \n",
       "401437                             1                         15000   \n",
       "\n",
       "       Lower Income Range (source 2) Upper Income Range (source 2)  \\\n",
       "14                             50000                         74999   \n",
       "15                             50000                         74999   \n",
       "16                             50000                         74999   \n",
       "17                             50000                         74999   \n",
       "18                             50000                         74999   \n",
       "19                             50000                         74999   \n",
       "20                             50000                         74999   \n",
       "21                             50000                         74999   \n",
       "22                             50000                         74999   \n",
       "23                             50000                         74999   \n",
       "24                             50000                         74999   \n",
       "25                             50000                         74999   \n",
       "26                             50000                         74999   \n",
       "27                             50000                         74999   \n",
       "28                             50000                         74999   \n",
       "29                             50000                         74999   \n",
       "30                             50000                         74999   \n",
       "31                             50000                         74999   \n",
       "32                             50000                         74999   \n",
       "33                             50000                         74999   \n",
       "34                             50000                         74999   \n",
       "35                             50000                         74999   \n",
       "36                             50000                         74999   \n",
       "37                             50000                         74999   \n",
       "38                             50000                         74999   \n",
       "39                             50000                         74999   \n",
       "40                             50000                         74999   \n",
       "41                             50000                         74999   \n",
       "45                            124999                     999999999   \n",
       "46                            124999                     999999999   \n",
       "...                              ...                           ...   \n",
       "401400                        100000                        124999   \n",
       "401401                        100000                        124999   \n",
       "401402                        100000                        124999   \n",
       "401403                        100000                        124999   \n",
       "401404                        100000                        124999   \n",
       "401405                        100000                        124999   \n",
       "401411                         50000                         74999   \n",
       "401413                         50000                         74999   \n",
       "401414                             0                         15000   \n",
       "401415                             0                         15000   \n",
       "401416                             0                         15000   \n",
       "401417                             0                         15000   \n",
       "401418                             0                         15000   \n",
       "401419                             0                         15000   \n",
       "401420                             0                         15000   \n",
       "401421                             0                         15000   \n",
       "401422                             0                         15000   \n",
       "401423                             0                         15000   \n",
       "401424                             0                         15000   \n",
       "401425                             0                         15000   \n",
       "401426                             0                         15000   \n",
       "401427                             0                         15000   \n",
       "401428                             0                         15000   \n",
       "401431                             0                         15000   \n",
       "401432                             0                         15000   \n",
       "401433                             0                         15000   \n",
       "401434                             0                         15000   \n",
       "401435                             0                         15000   \n",
       "401436                             0                         15000   \n",
       "401437                             0                         15000   \n",
       "\n",
       "       Martial Status  \n",
       "14            MARRIED  \n",
       "15            MARRIED  \n",
       "16            MARRIED  \n",
       "17            MARRIED  \n",
       "18            MARRIED  \n",
       "19            MARRIED  \n",
       "20            MARRIED  \n",
       "21            MARRIED  \n",
       "22            MARRIED  \n",
       "23            MARRIED  \n",
       "24            MARRIED  \n",
       "25            MARRIED  \n",
       "26            MARRIED  \n",
       "27            MARRIED  \n",
       "28            MARRIED  \n",
       "29            MARRIED  \n",
       "30            MARRIED  \n",
       "31            MARRIED  \n",
       "32            MARRIED  \n",
       "33            MARRIED  \n",
       "34            MARRIED  \n",
       "35            MARRIED  \n",
       "36            MARRIED  \n",
       "37            MARRIED  \n",
       "38            MARRIED  \n",
       "39            MARRIED  \n",
       "40            MARRIED  \n",
       "41            MARRIED  \n",
       "45            MARRIED  \n",
       "46            MARRIED  \n",
       "...               ...  \n",
       "401400        MARRIED  \n",
       "401401        MARRIED  \n",
       "401402        MARRIED  \n",
       "401403        MARRIED  \n",
       "401404        MARRIED  \n",
       "401405        MARRIED  \n",
       "401411         SINGLE  \n",
       "401413         SINGLE  \n",
       "401414         SINGLE  \n",
       "401415         SINGLE  \n",
       "401416         SINGLE  \n",
       "401417         SINGLE  \n",
       "401418         SINGLE  \n",
       "401419         SINGLE  \n",
       "401420         SINGLE  \n",
       "401421         SINGLE  \n",
       "401422         SINGLE  \n",
       "401423         SINGLE  \n",
       "401424         SINGLE  \n",
       "401425         SINGLE  \n",
       "401426         SINGLE  \n",
       "401427         SINGLE  \n",
       "401428         SINGLE  \n",
       "401431         SINGLE  \n",
       "401432         SINGLE  \n",
       "401433         SINGLE  \n",
       "401434         SINGLE  \n",
       "401435         SINGLE  \n",
       "401436         SINGLE  \n",
       "401437         SINGLE  \n",
       "\n",
       "[293470 rows x 12 columns]"
      ]
     },
     "execution_count": 56,
     "metadata": {},
     "output_type": "execute_result"
    }
   ],
   "source": [
    "fulldata[fulldata['Lower Net Worth Range']!=\".\"][cnameList[11:23]]"
   ]
  },
  {
   "cell_type": "code",
   "execution_count": null,
   "metadata": {
    "collapsed": false
   },
   "outputs": [],
   "source": [
    "fulldata[fulldata.DRIVER_ID==3][cnameList[40:48]]"
   ]
  },
  {
   "cell_type": "markdown",
   "metadata": {},
   "source": [
    "## I want to extract a small timeseries for each of the drivers that has the miles and data of miles captured "
   ]
  },
  {
   "cell_type": "code",
   "execution_count": 18,
   "metadata": {
    "collapsed": false
   },
   "outputs": [],
   "source": [
    "byDriver = fulldata.groupby('DRIVER_ID')\n",
    "#for g,df in byDriver:\n",
    "#    if g == driverid0:\n",
    "#        print df[vList]"
   ]
  },
  {
   "cell_type": "code",
   "execution_count": 19,
   "metadata": {
    "collapsed": false
   },
   "outputs": [
    {
     "data": {
      "text/plain": [
       "21486"
      ]
     },
     "execution_count": 19,
     "metadata": {},
     "output_type": "execute_result"
    }
   ],
   "source": [
    "len(byDriver.groups)"
   ]
  },
  {
   "cell_type": "code",
   "execution_count": 20,
   "metadata": {
    "collapsed": false
   },
   "outputs": [
    {
     "data": {
      "text/html": [
       "<div style=\"max-height:1000px;max-width:1500px;overflow:auto;\">\n",
       "<table border=\"1\" class=\"dataframe\">\n",
       "  <thead>\n",
       "    <tr style=\"text-align: right;\">\n",
       "      <th></th>\n",
       "      <th>Odometer</th>\n",
       "      <th>OdoDate</th>\n",
       "      <th>MOD_DATE</th>\n",
       "    </tr>\n",
       "  </thead>\n",
       "  <tbody>\n",
       "    <tr>\n",
       "      <th>0</th>\n",
       "      <td> 27264</td>\n",
       "      <td>2010-02-24</td>\n",
       "      <td>2010-02-01</td>\n",
       "    </tr>\n",
       "    <tr>\n",
       "      <th>1</th>\n",
       "      <td> 28132</td>\n",
       "      <td>2010-03-26</td>\n",
       "      <td>2010-03-01</td>\n",
       "    </tr>\n",
       "    <tr>\n",
       "      <th>2</th>\n",
       "      <td> 29239</td>\n",
       "      <td>2010-04-25</td>\n",
       "      <td>2010-04-01</td>\n",
       "    </tr>\n",
       "    <tr>\n",
       "      <th>3</th>\n",
       "      <td> 29849</td>\n",
       "      <td>2010-05-26</td>\n",
       "      <td>2010-05-01</td>\n",
       "    </tr>\n",
       "    <tr>\n",
       "      <th>4</th>\n",
       "      <td> 30608</td>\n",
       "      <td>2010-06-24</td>\n",
       "      <td>2010-06-01</td>\n",
       "    </tr>\n",
       "  </tbody>\n",
       "</table>\n",
       "</div>"
      ],
      "text/plain": [
       "   Odometer    OdoDate   MOD_DATE\n",
       "0     27264 2010-02-24 2010-02-01\n",
       "1     28132 2010-03-26 2010-03-01\n",
       "2     29239 2010-04-25 2010-04-01\n",
       "3     29849 2010-05-26 2010-05-01\n",
       "4     30608 2010-06-24 2010-06-01"
      ]
     },
     "execution_count": 20,
     "metadata": {},
     "output_type": "execute_result"
    }
   ],
   "source": [
    "byDriver.get_group(1)[['Odometer','OdoDate','MOD_DATE']].head()"
   ]
  },
  {
   "cell_type": "code",
   "execution_count": 21,
   "metadata": {
    "collapsed": false
   },
   "outputs": [
    {
     "data": {
      "text/html": [
       "<div style=\"max-height:1000px;max-width:1500px;overflow:auto;\">\n",
       "<table border=\"1\" class=\"dataframe\">\n",
       "  <thead>\n",
       "    <tr style=\"text-align: right;\">\n",
       "      <th></th>\n",
       "      <th>Odometer</th>\n",
       "      <th>OdoDate</th>\n",
       "      <th>MOD_DATE</th>\n",
       "    </tr>\n",
       "  </thead>\n",
       "  <tbody>\n",
       "    <tr>\n",
       "      <th>45</th>\n",
       "      <td> 53627</td>\n",
       "      <td>2010-04-18</td>\n",
       "      <td>2010-04-01</td>\n",
       "    </tr>\n",
       "    <tr>\n",
       "      <th>46</th>\n",
       "      <td> 55671</td>\n",
       "      <td>2010-05-18</td>\n",
       "      <td>2010-05-01</td>\n",
       "    </tr>\n",
       "    <tr>\n",
       "      <th>47</th>\n",
       "      <td> 57456</td>\n",
       "      <td>2010-06-17</td>\n",
       "      <td>2010-06-01</td>\n",
       "    </tr>\n",
       "    <tr>\n",
       "      <th>48</th>\n",
       "      <td> 60269</td>\n",
       "      <td>2010-07-17</td>\n",
       "      <td>2010-07-01</td>\n",
       "    </tr>\n",
       "    <tr>\n",
       "      <th>49</th>\n",
       "      <td> 61428</td>\n",
       "      <td>2010-08-17</td>\n",
       "      <td>2010-08-01</td>\n",
       "    </tr>\n",
       "  </tbody>\n",
       "</table>\n",
       "</div>"
      ],
      "text/plain": [
       "    Odometer    OdoDate   MOD_DATE\n",
       "45     53627 2010-04-18 2010-04-01\n",
       "46     55671 2010-05-18 2010-05-01\n",
       "47     57456 2010-06-17 2010-06-01\n",
       "48     60269 2010-07-17 2010-07-01\n",
       "49     61428 2010-08-17 2010-08-01"
      ]
     },
     "execution_count": 21,
     "metadata": {},
     "output_type": "execute_result"
    }
   ],
   "source": [
    "byDriver.get_group(2)[['Odometer','OdoDate','MOD_DATE']].head()"
   ]
  },
  {
   "cell_type": "markdown",
   "metadata": {},
   "source": [
    "## I want to create a table of demographic info for each driver\n",
    "Item to include\n",
    "* Gender\n",
    "    * only M or F\n",
    "* age\n",
    "    * take minimum age listed\n",
    "* totalMileage during study\n",
    "    * sum \n",
    "* number of months with data\n",
    "    * use actual reported timestamps (OdoDate)\n",
    "* average annual mileage\n",
    "    * take totalMileage/days_in_study*365.25\n",
    "* ZIPcode\n",
    "    * take most common\n",
    "* total claim amount\n",
    "\n",
    "*..."
   ]
  },
  {
   "cell_type": "code",
   "execution_count": 22,
   "metadata": {
    "collapsed": false
   },
   "outputs": [
    {
     "name": "stdout",
     "output_type": "stream",
     "text": [
      "Date listings:\t OdoDate \t MOD_DATE\n",
      "First\t 2009-08-01 00:00:00\t2009-08-01 00:00:00\n",
      "Last\t 2013-09-30 00:00:00\t2013-09-01 00:00:00\n"
     ]
    }
   ],
   "source": [
    "#create an understanding of the range of dates involved.\n",
    "firstMODdate = fulldata.MOD_DATE.min()\n",
    "lastMODdate = fulldata.MOD_DATE.max()\n",
    "firstRdate= fulldata.OdoDate.min()\n",
    "lastRdate = fulldata.OdoDate.max()\n",
    "\n",
    "print \"Date listings:\\t OdoDate \\t MOD_DATE\"\n",
    "print \"First\\t {0}\\t{1}\".format(firstRdate,firstMODdate)\n",
    "print \"Last\\t {0}\\t{1}\".format(lastRdate,lastMODdate)"
   ]
  },
  {
   "cell_type": "code",
   "execution_count": 28,
   "metadata": {
    "collapsed": false
   },
   "outputs": [
    {
     "name": "stdout",
     "output_type": "stream",
     "text": [
      "(21486L,) (21486, 2)\n"
     ]
    },
    {
     "data": {
      "text/html": [
       "<div style=\"max-height:1000px;max-width:1500px;overflow:auto;\">\n",
       "<table border=\"1\" class=\"dataframe\">\n",
       "  <thead>\n",
       "    <tr style=\"text-align: right;\">\n",
       "      <th></th>\n",
       "      <th>amin</th>\n",
       "      <th>amax</th>\n",
       "    </tr>\n",
       "    <tr>\n",
       "      <th>DRIVER_ID</th>\n",
       "      <th></th>\n",
       "      <th></th>\n",
       "    </tr>\n",
       "  </thead>\n",
       "  <tbody>\n",
       "    <tr>\n",
       "      <th>1 </th>\n",
       "      <td>2010-02-24</td>\n",
       "      <td>2013-08-07</td>\n",
       "    </tr>\n",
       "    <tr>\n",
       "      <th>2 </th>\n",
       "      <td>2010-04-18</td>\n",
       "      <td>2013-08-31</td>\n",
       "    </tr>\n",
       "    <tr>\n",
       "      <th>3 </th>\n",
       "      <td>2011-02-14</td>\n",
       "      <td>2011-06-13</td>\n",
       "    </tr>\n",
       "    <tr>\n",
       "      <th>4 </th>\n",
       "      <td>2013-03-15</td>\n",
       "      <td>2013-08-12</td>\n",
       "    </tr>\n",
       "    <tr>\n",
       "      <th>5 </th>\n",
       "      <td>2011-03-02</td>\n",
       "      <td>2013-08-19</td>\n",
       "    </tr>\n",
       "    <tr>\n",
       "      <th>6 </th>\n",
       "      <td>2009-08-17</td>\n",
       "      <td>2011-02-07</td>\n",
       "    </tr>\n",
       "    <tr>\n",
       "      <th>7 </th>\n",
       "      <td>2010-03-08</td>\n",
       "      <td>2013-01-22</td>\n",
       "    </tr>\n",
       "    <tr>\n",
       "      <th>8 </th>\n",
       "      <td>2010-01-11</td>\n",
       "      <td>2012-12-25</td>\n",
       "    </tr>\n",
       "    <tr>\n",
       "      <th>9 </th>\n",
       "      <td>2013-02-20</td>\n",
       "      <td>2013-08-24</td>\n",
       "    </tr>\n",
       "    <tr>\n",
       "      <th>10</th>\n",
       "      <td>2013-06-15</td>\n",
       "      <td>2013-08-14</td>\n",
       "    </tr>\n",
       "  </tbody>\n",
       "</table>\n",
       "</div>"
      ],
      "text/plain": [
       "                amin       amax\n",
       "DRIVER_ID                      \n",
       "1         2010-02-24 2013-08-07\n",
       "2         2010-04-18 2013-08-31\n",
       "3         2011-02-14 2011-06-13\n",
       "4         2013-03-15 2013-08-12\n",
       "5         2011-03-02 2013-08-19\n",
       "6         2009-08-17 2011-02-07\n",
       "7         2010-03-08 2013-01-22\n",
       "8         2010-01-11 2012-12-25\n",
       "9         2013-02-20 2013-08-24\n",
       "10        2013-06-15 2013-08-14"
      ]
     },
     "execution_count": 28,
     "metadata": {},
     "output_type": "execute_result"
    }
   ],
   "source": [
    "#get the number of unique months; min and max months \n",
    "monthCounts = byDriver['MOD_DATE'].apply(lambda x: len(x.unique())).values # counts the number of unique 'mod-dates' for each driver\n",
    "dateBounds= byDriver['OdoDate'].agg([np.min, np.max]) # returns first and last odoDate for each driver\n",
    "#len(monthCounts), len(mthBoundarys)\n",
    "print shape(monthCounts), shape(dateBounds)\n",
    "dateBounds[:10]"
   ]
  },
  {
   "cell_type": "markdown",
   "metadata": {},
   "source": [
    "### Create a new data frame for the Drivers that summarizes the results."
   ]
  },
  {
   "cell_type": "code",
   "execution_count": 32,
   "metadata": {
    "collapsed": false
   },
   "outputs": [
    {
     "data": {
      "text/plain": [
       "21486"
      ]
     },
     "execution_count": 32,
     "metadata": {},
     "output_type": "execute_result"
    }
   ],
   "source": [
    "# assigns driver Gender to an array of length(x) --> assumes 1 value for each\n",
    "driverGender = byDriver['Gender of applicant'].agg(lambda x:x.unique()[0]).values\n",
    "len(driverGender)"
   ]
  },
  {
   "cell_type": "code",
   "execution_count": 33,
   "metadata": {
    "collapsed": false
   },
   "outputs": [],
   "source": [
    "#collect info for driverDataFrame\n",
    "driverDF = dateBounds.copy()\n",
    "driverDF['Nmonths']= monthCounts\n",
    "driverDF['Gender']= driverGender"
   ]
  },
  {
   "cell_type": "code",
   "execution_count": 34,
   "metadata": {
    "collapsed": false
   },
   "outputs": [],
   "source": [
    "#add an age for each driver --> use the min value reported\n",
    "minAge = byDriver['Applicant Age'].min()\n",
    "driverDF['Age'] = minAge"
   ]
  },
  {
   "cell_type": "code",
   "execution_count": 35,
   "metadata": {
    "collapsed": false
   },
   "outputs": [
    {
     "name": "stdout",
     "output_type": "stream",
     "text": [
      "Assigned ZIP code values for 21486 drivers. 1387 drivers had multiple listings.\n"
     ]
    }
   ],
   "source": [
    "# Assign zip codes based upon the most common one\n",
    "driversExtraZips = {}\n",
    "driversZIP = []\n",
    "for g,df in byDriver:\n",
    "    dzip = df.ZIP5.unique()\n",
    "    if len(dzip) > 1:\n",
    "        vc = df['ZIP5'].value_counts()\n",
    "        driversExtraZips[g]=vc.index\n",
    "        driversZIP.append(vc.index[0])\n",
    "    else:\n",
    "        driversZIP.append(dzip[0])\n",
    "print \"Assigned ZIP code values for {0} drivers. {1} drivers had multiple listings.\".format(len(driversZIP), len(driversExtraZips))"
   ]
  },
  {
   "cell_type": "code",
   "execution_count": 37,
   "metadata": {
    "collapsed": false
   },
   "outputs": [],
   "source": [
    "#add to data frame\n",
    "driverDF['ZIP'] = driversZIP"
   ]
  },
  {
   "cell_type": "code",
   "execution_count": 39,
   "metadata": {
    "collapsed": false
   },
   "outputs": [
    {
     "data": {
      "text/html": [
       "<div style=\"max-height:1000px;max-width:1500px;overflow:auto;\">\n",
       "<table border=\"1\" class=\"dataframe\">\n",
       "  <thead>\n",
       "    <tr style=\"text-align: right;\">\n",
       "      <th></th>\n",
       "      <th>amin</th>\n",
       "      <th>amax</th>\n",
       "      <th>Nmonths</th>\n",
       "      <th>Gender</th>\n",
       "      <th>Age</th>\n",
       "      <th>ZIP</th>\n",
       "      <th>OdoStart</th>\n",
       "      <th>OdoEnd</th>\n",
       "      <th>DeltaOdo</th>\n",
       "      <th>DeltaDays</th>\n",
       "    </tr>\n",
       "    <tr>\n",
       "      <th>DRIVER_ID</th>\n",
       "      <th></th>\n",
       "      <th></th>\n",
       "      <th></th>\n",
       "      <th></th>\n",
       "      <th></th>\n",
       "      <th></th>\n",
       "      <th></th>\n",
       "      <th></th>\n",
       "      <th></th>\n",
       "      <th></th>\n",
       "    </tr>\n",
       "  </thead>\n",
       "  <tbody>\n",
       "    <tr>\n",
       "      <th>1</th>\n",
       "      <td>2010-02-24</td>\n",
       "      <td>2013-08-07</td>\n",
       "      <td> 42</td>\n",
       "      <td> M</td>\n",
       "      <td> 67</td>\n",
       "      <td> 43725</td>\n",
       "      <td> 27264</td>\n",
       "      <td>  59200</td>\n",
       "      <td> 31936</td>\n",
       "      <td>1260 days</td>\n",
       "    </tr>\n",
       "    <tr>\n",
       "      <th>2</th>\n",
       "      <td>2010-04-18</td>\n",
       "      <td>2013-08-31</td>\n",
       "      <td> 41</td>\n",
       "      <td> F</td>\n",
       "      <td> 49</td>\n",
       "      <td> 44149</td>\n",
       "      <td> 53627</td>\n",
       "      <td> 131606</td>\n",
       "      <td> 77979</td>\n",
       "      <td>1231 days</td>\n",
       "    </tr>\n",
       "    <tr>\n",
       "      <th>3</th>\n",
       "      <td>2011-02-14</td>\n",
       "      <td>2011-06-13</td>\n",
       "      <td>  5</td>\n",
       "      <td> M</td>\n",
       "      <td> 41</td>\n",
       "      <td> 43123</td>\n",
       "      <td>  3098</td>\n",
       "      <td>  11122</td>\n",
       "      <td>  8024</td>\n",
       "      <td> 119 days</td>\n",
       "    </tr>\n",
       "    <tr>\n",
       "      <th>4</th>\n",
       "      <td>2013-03-15</td>\n",
       "      <td>2013-08-12</td>\n",
       "      <td>  6</td>\n",
       "      <td> M</td>\n",
       "      <td> 64</td>\n",
       "      <td> 44646</td>\n",
       "      <td>   114</td>\n",
       "      <td>   8400</td>\n",
       "      <td>  8286</td>\n",
       "      <td> 150 days</td>\n",
       "    </tr>\n",
       "    <tr>\n",
       "      <th>5</th>\n",
       "      <td>2011-03-02</td>\n",
       "      <td>2013-08-19</td>\n",
       "      <td> 28</td>\n",
       "      <td> M</td>\n",
       "      <td> 67</td>\n",
       "      <td> 43719</td>\n",
       "      <td>    11</td>\n",
       "      <td>  37222</td>\n",
       "      <td> 37211</td>\n",
       "      <td> 901 days</td>\n",
       "    </tr>\n",
       "  </tbody>\n",
       "</table>\n",
       "</div>"
      ],
      "text/plain": [
       "                amin       amax  Nmonths Gender  Age    ZIP  OdoStart  OdoEnd  \\\n",
       "DRIVER_ID                                                                       \n",
       "1         2010-02-24 2013-08-07       42      M   67  43725     27264   59200   \n",
       "2         2010-04-18 2013-08-31       41      F   49  44149     53627  131606   \n",
       "3         2011-02-14 2011-06-13        5      M   41  43123      3098   11122   \n",
       "4         2013-03-15 2013-08-12        6      M   64  44646       114    8400   \n",
       "5         2011-03-02 2013-08-19       28      M   67  43719        11   37222   \n",
       "\n",
       "           DeltaOdo  DeltaDays  \n",
       "DRIVER_ID                       \n",
       "1             31936  1260 days  \n",
       "2             77979  1231 days  \n",
       "3              8024   119 days  \n",
       "4              8286   150 days  \n",
       "5             37211   901 days  "
      ]
     },
     "execution_count": 39,
     "metadata": {},
     "output_type": "execute_result"
    }
   ],
   "source": [
    "# get Range of Odometer Readings\n",
    "### get initial odo and final odo\n",
    "odoRange= byDriver['Odometer'].agg([np.min, np.max])\n",
    "# assign to OdoStart & OdoEnd\n",
    "driverDF[['OdoStart','OdoEnd']] = odoRange\n",
    "# calculate total difference in Mileage\n",
    "driverDF['DeltaOdo']=driverDF['OdoEnd']-driverDF['OdoStart']\n",
    "# calculate total difference in days\n",
    "driverDF['DeltaDays']=driverDF['amax']-driverDF['amin']\n",
    "driverDF.head()"
   ]
  },
  {
   "cell_type": "code",
   "execution_count": 40,
   "metadata": {
    "collapsed": false
   },
   "outputs": [],
   "source": [
    "#Calculate the Years --> note the index in driverDF is from 1 to 21486\n",
    "drvYrs = [driverDF['DeltaDays'].ix[a].days/365.25 for a in xrange(1,21487)]\n",
    "# calculate the average annual mileage\n",
    "driverDF['AnnualMileage'] = driverDF['DeltaOdo']/drvYrs"
   ]
  },
  {
   "cell_type": "code",
   "execution_count": 45,
   "metadata": {
    "collapsed": false
   },
   "outputs": [],
   "source": [
    "#Add in column of total claims payouts\n",
    "driverDF['ClaimTot'] = byDriver['Amount Paid for Claim'].agg(np.sum)"
   ]
  },
  {
   "cell_type": "code",
   "execution_count": 46,
   "metadata": {
    "collapsed": false
   },
   "outputs": [],
   "source": [
    "# add a claimflag column -- this is my target variable\n",
    "driverDF['ClaimFlag'] = byDriver['ClaimFlag'].max()"
   ]
  },
  {
   "cell_type": "code",
   "execution_count": 47,
   "metadata": {
    "collapsed": false
   },
   "outputs": [
    {
     "data": {
      "text/plain": [
       "0    17980\n",
       "1     3506\n",
       "dtype: int64"
      ]
     },
     "execution_count": 47,
     "metadata": {},
     "output_type": "execute_result"
    }
   ],
   "source": [
    "driverDF.ClaimFlag.value_counts()"
   ]
  },
  {
   "cell_type": "code",
   "execution_count": 48,
   "metadata": {
    "collapsed": false
   },
   "outputs": [
    {
     "name": "stdout",
     "output_type": "stream",
     "text": [
      "out of 21486 drivers, 13279 are men.\n",
      "3506 drivers experienced some claim in this sample\n"
     ]
    }
   ],
   "source": [
    "# Summary statistics\n",
    "ndrivers = len(driverDF)\n",
    "hasClaim = driverDF[driverDF.ClaimFlag==1]\n",
    "isMale = driverDF[driverDF.Gender=='M']\n",
    "print \"out of {0} drivers, {1} are men.\".format(ndrivers,len(isMale))\n",
    "print \"{0} drivers experienced some claim in this sample\".format(len(hasClaim))\n",
    "saveFile=False\n",
    "if saveFile:\n",
    "    driverDF.to_csv('driverSummaryDF1.csv')"
   ]
  },
  {
   "cell_type": "markdown",
   "metadata": {},
   "source": [
    "# Start here for future analysis"
   ]
  },
  {
   "cell_type": "code",
   "execution_count": 18,
   "metadata": {
    "collapsed": false
   },
   "outputs": [],
   "source": [
    "saveFile=False\n",
    "if not saveFile:\n",
    "    driverDF = pd.read_csv('driverSummaryDF1.csv')\n",
    " "
   ]
  },
  {
   "cell_type": "code",
   "execution_count": 19,
   "metadata": {
    "collapsed": false
   },
   "outputs": [
    {
     "data": {
      "text/plain": [
       "0    17980\n",
       "1     3506\n",
       "dtype: int64"
      ]
     },
     "execution_count": 19,
     "metadata": {},
     "output_type": "execute_result"
    }
   ],
   "source": [
    "driverDF.ClaimFlag.value_counts()"
   ]
  },
  {
   "cell_type": "markdown",
   "metadata": {},
   "source": [
    "# open and join to Data bout the zipcodes"
   ]
  },
  {
   "cell_type": "code",
   "execution_count": 9,
   "metadata": {
    "collapsed": false
   },
   "outputs": [
    {
     "name": "stdout",
     "output_type": "stream",
     "text": [
      "this file has 42522 zipcodes.\n"
     ]
    },
    {
     "data": {
      "text/html": [
       "<div>\n",
       "<table border=\"1\" class=\"dataframe\">\n",
       "  <thead>\n",
       "    <tr style=\"text-align: right;\">\n",
       "      <th></th>\n",
       "      <th>zip</th>\n",
       "      <th>type</th>\n",
       "      <th>primary_city</th>\n",
       "      <th>acceptable_cities</th>\n",
       "      <th>unacceptable_cities</th>\n",
       "      <th>state</th>\n",
       "      <th>county</th>\n",
       "      <th>timezone</th>\n",
       "      <th>area_codes</th>\n",
       "      <th>latitude</th>\n",
       "      <th>longitude</th>\n",
       "      <th>world_region</th>\n",
       "      <th>country</th>\n",
       "      <th>decommissioned</th>\n",
       "      <th>estimated_population</th>\n",
       "      <th>notes</th>\n",
       "    </tr>\n",
       "  </thead>\n",
       "  <tbody>\n",
       "    <tr>\n",
       "      <th>0</th>\n",
       "      <td>501</td>\n",
       "      <td>UNIQUE</td>\n",
       "      <td>Holtsville</td>\n",
       "      <td>NaN</td>\n",
       "      <td>I R S Service Center</td>\n",
       "      <td>NY</td>\n",
       "      <td>Suffolk County</td>\n",
       "      <td>America/New_York</td>\n",
       "      <td>631</td>\n",
       "      <td>40.81</td>\n",
       "      <td>-73.04</td>\n",
       "      <td>NaN</td>\n",
       "      <td>US</td>\n",
       "      <td>0</td>\n",
       "      <td>384</td>\n",
       "      <td>NaN</td>\n",
       "    </tr>\n",
       "    <tr>\n",
       "      <th>1</th>\n",
       "      <td>544</td>\n",
       "      <td>UNIQUE</td>\n",
       "      <td>Holtsville</td>\n",
       "      <td>NaN</td>\n",
       "      <td>Irs Service Center</td>\n",
       "      <td>NY</td>\n",
       "      <td>Suffolk County</td>\n",
       "      <td>America/New_York</td>\n",
       "      <td>631</td>\n",
       "      <td>40.81</td>\n",
       "      <td>-73.04</td>\n",
       "      <td>NaN</td>\n",
       "      <td>US</td>\n",
       "      <td>0</td>\n",
       "      <td>0</td>\n",
       "      <td>NaN</td>\n",
       "    </tr>\n",
       "    <tr>\n",
       "      <th>2</th>\n",
       "      <td>601</td>\n",
       "      <td>STANDARD</td>\n",
       "      <td>Adjuntas</td>\n",
       "      <td>NaN</td>\n",
       "      <td>Colinas Del Gigante, Jard De Adjuntas, Urb San...</td>\n",
       "      <td>PR</td>\n",
       "      <td>Adjuntas</td>\n",
       "      <td>America/Puerto_Rico</td>\n",
       "      <td>787,939</td>\n",
       "      <td>18.16</td>\n",
       "      <td>-66.72</td>\n",
       "      <td>NaN</td>\n",
       "      <td>US</td>\n",
       "      <td>0</td>\n",
       "      <td>0</td>\n",
       "      <td>NaN</td>\n",
       "    </tr>\n",
       "    <tr>\n",
       "      <th>3</th>\n",
       "      <td>602</td>\n",
       "      <td>STANDARD</td>\n",
       "      <td>Aguada</td>\n",
       "      <td>NaN</td>\n",
       "      <td>Alts De Aguada, Bo Guaniquilla, Comunidad Las ...</td>\n",
       "      <td>PR</td>\n",
       "      <td>NaN</td>\n",
       "      <td>NaN</td>\n",
       "      <td>787</td>\n",
       "      <td>18.38</td>\n",
       "      <td>-67.18</td>\n",
       "      <td>NaN</td>\n",
       "      <td>US</td>\n",
       "      <td>0</td>\n",
       "      <td>0</td>\n",
       "      <td>NaN</td>\n",
       "    </tr>\n",
       "    <tr>\n",
       "      <th>4</th>\n",
       "      <td>603</td>\n",
       "      <td>STANDARD</td>\n",
       "      <td>Aguadilla</td>\n",
       "      <td>Ramey</td>\n",
       "      <td>Bda Caban, Bda Esteves, Bo Borinquen, Bo Ceiba...</td>\n",
       "      <td>PR</td>\n",
       "      <td>Aguadilla</td>\n",
       "      <td>America/Puerto_Rico</td>\n",
       "      <td>787</td>\n",
       "      <td>18.43</td>\n",
       "      <td>-67.15</td>\n",
       "      <td>NaN</td>\n",
       "      <td>US</td>\n",
       "      <td>0</td>\n",
       "      <td>0</td>\n",
       "      <td>NaN</td>\n",
       "    </tr>\n",
       "  </tbody>\n",
       "</table>\n",
       "</div>"
      ],
      "text/plain": [
       "   zip      type primary_city acceptable_cities  \\\n",
       "0  501    UNIQUE   Holtsville               NaN   \n",
       "1  544    UNIQUE   Holtsville               NaN   \n",
       "2  601  STANDARD     Adjuntas               NaN   \n",
       "3  602  STANDARD       Aguada               NaN   \n",
       "4  603  STANDARD    Aguadilla             Ramey   \n",
       "\n",
       "                                 unacceptable_cities state          county  \\\n",
       "0                               I R S Service Center    NY  Suffolk County   \n",
       "1                                 Irs Service Center    NY  Suffolk County   \n",
       "2  Colinas Del Gigante, Jard De Adjuntas, Urb San...    PR        Adjuntas   \n",
       "3  Alts De Aguada, Bo Guaniquilla, Comunidad Las ...    PR             NaN   \n",
       "4  Bda Caban, Bda Esteves, Bo Borinquen, Bo Ceiba...    PR       Aguadilla   \n",
       "\n",
       "              timezone area_codes  latitude  longitude world_region country  \\\n",
       "0     America/New_York        631     40.81     -73.04          NaN      US   \n",
       "1     America/New_York        631     40.81     -73.04          NaN      US   \n",
       "2  America/Puerto_Rico    787,939     18.16     -66.72          NaN      US   \n",
       "3                  NaN        787     18.38     -67.18          NaN      US   \n",
       "4  America/Puerto_Rico        787     18.43     -67.15          NaN      US   \n",
       "\n",
       "   decommissioned  estimated_population notes  \n",
       "0               0                   384   NaN  \n",
       "1               0                     0   NaN  \n",
       "2               0                     0   NaN  \n",
       "3               0                     0   NaN  \n",
       "4               0                     0   NaN  "
      ]
     },
     "execution_count": 9,
     "metadata": {},
     "output_type": "execute_result"
    }
   ],
   "source": [
    "zipfile = '../../../../data/miscData/zip_code_database.csv'\n",
    "zipdf = pd.read_csv(zipfile)\n",
    "print \"this file has {0} zipcodes.\".format(len(zipdf))\n",
    "zipdf.head()"
   ]
  },
  {
   "cell_type": "code",
   "execution_count": 20,
   "metadata": {
    "collapsed": false
   },
   "outputs": [
    {
     "name": "stdout",
     "output_type": "stream",
     "text": [
      "there are 1447 zipcodes in OHIO \n",
      "There are 931 unique zipcodes in our sample.\n"
     ]
    }
   ],
   "source": [
    "ohiozip =zipdf[zipdf.state=='OH'].copy()\n",
    "print \"there are {0} zipcodes in OHIO \".format(len(ohiozip))\n",
    "[sum(ohiozip[c].isnull()) for c in ohiozip.columns]\n",
    "dvrZIP = driverDF.ZIP.unique()\n",
    "ddZIPlist = map(int,dvrZIP[~np.isnan(dvrZIP)])\n",
    "#x[~numpy.isnan(x)]\n",
    "myzips = ohiozip[ohiozip.zip.isin(ddZIPlist)]\n",
    "print \"There are {0} unique zipcodes in our sample.\".format(len(myzips))\n"
   ]
  },
  {
   "cell_type": "code",
   "execution_count": 21,
   "metadata": {
    "collapsed": false
   },
   "outputs": [
    {
     "data": {
      "text/plain": [
       "[<matplotlib.lines.Line2D at 0x197cf128>]"
      ]
     },
     "execution_count": 21,
     "metadata": {},
     "output_type": "execute_result"
    },
    {
     "data": {
      "image/png": "[encoded data removed]",
      "text/plain": [
       "<matplotlib.figure.Figure at 0x1f213a58>"
      ]
     },
     "metadata": {},
     "output_type": "display_data"
    }
   ],
   "source": [
    "figure(figsize=(10,10))\n",
    "plot(ohiozip['longitude'], ohiozip['latitude'], 'o', color=\"maroon\",alpha=0.6)\n",
    "title('Ohio Zip Code locations')\n",
    "plot(myzips['longitude'], myzips['latitude'], '*',color=\"darkturquoise\",alpha=0.8)"
   ]
  },
  {
   "cell_type": "markdown",
   "metadata": {},
   "source": [
    "## clean up the driver data some\n",
    "* remove drivers that are missing their zipcode value\n",
    "* remove drivers with fewer than 1 day worth of odometer readings"
   ]
  },
  {
   "cell_type": "code",
   "execution_count": 23,
   "metadata": {
    "collapsed": false
   },
   "outputs": [
    {
     "name": "stdout",
     "output_type": "stream",
     "text": [
      "there are 0 drivers that had mileage reported for less than 1 day.\n",
      "2 drivers had no zipcode given.\n"
     ]
    }
   ],
   "source": [
    "print \"there are {0} drivers that had mileage reported for less than 1 day.\".format(len(driverDF[driverDF['DeltaDays']<1]))\n",
    "print \"{0} drivers had no zipcode given.\".format(sum(driverDF.ZIP.isnull()))\n",
    "driverDF = driverDF[~driverDF.ZIP.isnull()]"
   ]
  },
  {
   "cell_type": "code",
   "execution_count": 24,
   "metadata": {
    "collapsed": false
   },
   "outputs": [
    {
     "name": "stdout",
     "output_type": "stream",
     "text": [
      "There are now 21484 drivers in our data set\n",
      "13277 or 61.80% are male.\n",
      "3506 or 16.32% have experienced a claim.\n"
     ]
    }
   ],
   "source": [
    "## Drop drivers where the change in days is smaller than 1.\n",
    "driverDF = driverDF[driverDF.DeltaDays > 0]\n",
    "ndrivers = len(driverDF)\n",
    "print \"There are now {0} drivers in our data set\".format(ndrivers)\n",
    "isMale = driverDF[driverDF.Gender=='M']\n",
    "print \"{0} or {1:.2f}% are male.\".format(len(isMale),len(isMale)/float(ndrivers)*100)\n",
    "hasClaim = driverDF[driverDF.ClaimFlag==1]\n",
    "print \"{0} or {1:.2f}% have experienced a claim.\".format(len(hasClaim),len(hasClaim)/float(ndrivers)*100)"
   ]
  },
  {
   "cell_type": "code",
   "execution_count": 26,
   "metadata": {
    "collapsed": false
   },
   "outputs": [],
   "source": [
    "# convert ZIP to int\n",
    "driverDF['ZIP'] = driverDF['ZIP'].apply(lambda x: int(x))"
   ]
  },
  {
   "cell_type": "markdown",
   "metadata": {},
   "source": [
    "## append information from zipcode table:\n",
    "1. primary city\n",
    "2. county\n",
    "3. estimated_population\n",
    "4. county_population\n",
    "    * this last one need to be calculated first"
   ]
  },
  {
   "cell_type": "code",
   "execution_count": 27,
   "metadata": {
    "collapsed": false
   },
   "outputs": [
    {
     "data": {
      "text/plain": [
       "<matplotlib.text.Text at 0x1f213c50>"
      ]
     },
     "execution_count": 27,
     "metadata": {},
     "output_type": "execute_result"
    },
    {
     "data": {
      "image/png": "[encoded data removed]",
      "text/plain": [
       "<matplotlib.figure.Figure at 0x21a02080>"
      ]
     },
     "metadata": {},
     "output_type": "display_data"
    }
   ],
   "source": [
    "ohioCounty = ohiozip.groupby('county')\n",
    "ohCountyPop = ohioCounty['estimated_population'].agg(np.sum)\n",
    "ohCountyPop.hist(color='darkred',bins=40)\n",
    "title('Histogram of County populations')\n",
    "xlabel('aggregated estimate county population')\n",
    "ylabel('counts')"
   ]
  },
  {
   "cell_type": "code",
   "execution_count": 28,
   "metadata": {
    "collapsed": false
   },
   "outputs": [
    {
     "name": "stdout",
     "output_type": "stream",
     "text": [
      "There are 1447 unique zipcodes in Ohio\n"
     ]
    }
   ],
   "source": [
    "# elminate data I don't want from the ohioZipcodes table\n",
    "ohiozip.drop(['type','acceptable_cities','unacceptable_cities','state','timezone','world_region','country','decommissioned','notes'],axis=1,inplace=True)\n",
    "print \"There are {0} unique zipcodes in Ohio\".format(len(ohiozip))\n"
   ]
  },
  {
   "cell_type": "code",
   "execution_count": 29,
   "metadata": {
    "collapsed": false
   },
   "outputs": [],
   "source": [
    "ohiozip.rename(columns={'zip':'ZIP'},inplace=True)"
   ]
  },
  {
   "cell_type": "code",
   "execution_count": 30,
   "metadata": {
    "collapsed": false
   },
   "outputs": [
    {
     "data": {
      "text/plain": [
       "Index([u'DRIVER_ID', u'amin', u'amax', u'Nmonths', u'Gender', u'Age', u'ZIP',\n",
       "       u'OdoStart', u'OdoEnd', u'DeltaOdo', u'DeltaDays', u'AnnualMileage',\n",
       "       u'ClaimTot', u'ClaimFlag'],\n",
       "      dtype='object')"
      ]
     },
     "execution_count": 30,
     "metadata": {},
     "output_type": "execute_result"
    }
   ],
   "source": [
    "#keep original driverID before it is lost by merging\n",
    "driverDF['DRIVER_ID']= driverDF.index\n",
    "driverDF.columns"
   ]
  },
  {
   "cell_type": "code",
   "execution_count": 31,
   "metadata": {
    "collapsed": false
   },
   "outputs": [
    {
     "name": "stdout",
     "output_type": "stream",
     "text": [
      "(1447, 8)\n"
     ]
    }
   ],
   "source": [
    "# merge ohiocounty population into ohiozip info\n",
    "ohCountyPop= pd.DataFrame(ohCountyPop).rename(columns={'estimated_population':'county_pop'})\n",
    "#ohCountyPop.index\n",
    "ohioData = pd.merge(ohiozip,ohCountyPop,how='left',left_on='county',right_index=True)\n",
    "print shape(ohioData)"
   ]
  },
  {
   "cell_type": "code",
   "execution_count": 32,
   "metadata": {
    "collapsed": false
   },
   "outputs": [
    {
     "data": {
      "text/html": [
       "<div>\n",
       "<table border=\"1\" class=\"dataframe\">\n",
       "  <thead>\n",
       "    <tr style=\"text-align: right;\">\n",
       "      <th></th>\n",
       "      <th>ZIP</th>\n",
       "      <th>primary_city</th>\n",
       "      <th>county</th>\n",
       "      <th>area_codes</th>\n",
       "      <th>latitude</th>\n",
       "      <th>longitude</th>\n",
       "      <th>estimated_population</th>\n",
       "      <th>county_pop</th>\n",
       "    </tr>\n",
       "  </thead>\n",
       "  <tbody>\n",
       "    <tr>\n",
       "      <th>18447</th>\n",
       "      <td>43001</td>\n",
       "      <td>Alexandria</td>\n",
       "      <td>Licking County</td>\n",
       "      <td>614,740</td>\n",
       "      <td>40.08</td>\n",
       "      <td>-82.61</td>\n",
       "      <td>2179</td>\n",
       "      <td>122544</td>\n",
       "    </tr>\n",
       "    <tr>\n",
       "      <th>18448</th>\n",
       "      <td>43002</td>\n",
       "      <td>Amlin</td>\n",
       "      <td>Franklin County</td>\n",
       "      <td>614</td>\n",
       "      <td>40.07</td>\n",
       "      <td>-83.18</td>\n",
       "      <td>0</td>\n",
       "      <td>939232</td>\n",
       "    </tr>\n",
       "    <tr>\n",
       "      <th>18449</th>\n",
       "      <td>43003</td>\n",
       "      <td>Ashley</td>\n",
       "      <td>Delaware County</td>\n",
       "      <td>740</td>\n",
       "      <td>40.40</td>\n",
       "      <td>-82.95</td>\n",
       "      <td>2354</td>\n",
       "      <td>148047</td>\n",
       "    </tr>\n",
       "    <tr>\n",
       "      <th>18450</th>\n",
       "      <td>43004</td>\n",
       "      <td>Blacklick</td>\n",
       "      <td>Franklin County</td>\n",
       "      <td>614</td>\n",
       "      <td>40.02</td>\n",
       "      <td>-82.80</td>\n",
       "      <td>19234</td>\n",
       "      <td>939232</td>\n",
       "    </tr>\n",
       "    <tr>\n",
       "      <th>18451</th>\n",
       "      <td>43005</td>\n",
       "      <td>Bladensburg</td>\n",
       "      <td>Knox County</td>\n",
       "      <td>740</td>\n",
       "      <td>40.27</td>\n",
       "      <td>-82.23</td>\n",
       "      <td>0</td>\n",
       "      <td>46447</td>\n",
       "    </tr>\n",
       "  </tbody>\n",
       "</table>\n",
       "</div>"
      ],
      "text/plain": [
       "         ZIP primary_city           county area_codes  latitude  longitude  \\\n",
       "18447  43001   Alexandria   Licking County    614,740     40.08     -82.61   \n",
       "18448  43002        Amlin  Franklin County        614     40.07     -83.18   \n",
       "18449  43003       Ashley  Delaware County        740     40.40     -82.95   \n",
       "18450  43004    Blacklick  Franklin County        614     40.02     -82.80   \n",
       "18451  43005  Bladensburg      Knox County        740     40.27     -82.23   \n",
       "\n",
       "       estimated_population  county_pop  \n",
       "18447                  2179      122544  \n",
       "18448                     0      939232  \n",
       "18449                  2354      148047  \n",
       "18450                 19234      939232  \n",
       "18451                     0       46447  "
      ]
     },
     "execution_count": 32,
     "metadata": {},
     "output_type": "execute_result"
    }
   ],
   "source": [
    "ohioData.head()"
   ]
  },
  {
   "cell_type": "code",
   "execution_count": 33,
   "metadata": {
    "collapsed": false
   },
   "outputs": [
    {
     "name": "stdout",
     "output_type": "stream",
     "text": [
      "(21484, 21)\n"
     ]
    }
   ],
   "source": [
    "# join based upon zip\n",
    "mergedDF = pd.merge(driverDF,ohioData,on='ZIP',how='left')\n",
    "print shape(mergedDF)"
   ]
  },
  {
   "cell_type": "code",
   "execution_count": 34,
   "metadata": {
    "collapsed": false
   },
   "outputs": [
    {
     "data": {
      "text/plain": [
       "Index([u'DRIVER_ID', u'amin', u'amax', u'Nmonths', u'Gender', u'Age', u'ZIP',\n",
       "       u'OdoStart', u'OdoEnd', u'DeltaOdo', u'DeltaDays', u'AnnualMileage',\n",
       "       u'ClaimTot', u'ClaimFlag', u'primary_city', u'county', u'area_codes',\n",
       "       u'latitude', u'longitude', u'estimated_population', u'county_pop'],\n",
       "      dtype='object')"
      ]
     },
     "execution_count": 34,
     "metadata": {},
     "output_type": "execute_result"
    }
   ],
   "source": [
    "mergedDF.columns"
   ]
  },
  {
   "cell_type": "markdown",
   "metadata": {},
   "source": [
    "## some summary plots"
   ]
  },
  {
   "cell_type": "code",
   "execution_count": 35,
   "metadata": {
    "collapsed": false
   },
   "outputs": [
    {
     "data": {
      "text/plain": [
       "<matplotlib.text.Text at 0x1164fb38>"
      ]
     },
     "execution_count": 35,
     "metadata": {},
     "output_type": "execute_result"
    },
    {
     "data": {
      "image/png": "[encoded data removed]",
      "text/plain": [
       "<matplotlib.figure.Figure at 0x11a7fba8>"
      ]
     },
     "metadata": {},
     "output_type": "display_data"
    }
   ],
   "source": [
    "mergedDF.AnnualMileage.hist(bins=30,color='cadetblue')\n",
    "xlabel('Annual Mileage')"
   ]
  },
  {
   "cell_type": "markdown",
   "metadata": {},
   "source": [
    "## is there a difference between mileage traveled by claims or no claims?"
   ]
  },
  {
   "cell_type": "code",
   "execution_count": 36,
   "metadata": {
    "collapsed": false
   },
   "outputs": [
    {
     "data": {
      "text/plain": [
       "<matplotlib.legend.Legend at 0x21a02da0>"
      ]
     },
     "execution_count": 36,
     "metadata": {},
     "output_type": "execute_result"
    },
    {
     "data": {
      "image/png": "[encoded data removed]",
      "text/plain": [
       "<matplotlib.figure.Figure at 0x21a02e10>"
      ]
     },
     "metadata": {},
     "output_type": "display_data"
    }
   ],
   "source": [
    "noClaimIDX = mergedDF[mergedDF['ClaimFlag']!=1].index\n",
    "mergedDF['AnnualMileage'].ix[noClaimIDX].hist(bins=50,normed=True,color='darkred',alpha=0.8,label='noClaim')\n",
    "mergedDF['AnnualMileage'].ix[hasClaim.index].hist(bins=50,normed=True,color='midnightblue',alpha=0.5,label='hasClaim')\n",
    "#hist(avgAclm,bins=50,range=[0,50000],normed=True,color='indianred',alpha=0.5)\n",
    "xlabel('average annual mileage')\n",
    "ylabel('fraction of drivers')\n",
    "legend()"
   ]
  },
  {
   "cell_type": "markdown",
   "metadata": {},
   "source": [
    "### To do: perform a t-test on these distributions of mileage travelled\n",
    "* actually perform a Manley-Whitely-Wilcoxon Rank sum test"
   ]
  },
  {
   "cell_type": "code",
   "execution_count": null,
   "metadata": {
    "collapsed": true
   },
   "outputs": [],
   "source": [
    "# how"
   ]
  },
  {
   "cell_type": "code",
   "execution_count": 44,
   "metadata": {
    "collapsed": false
   },
   "outputs": [],
   "source": [
    "from scipy import stats  \n"
   ]
  },
  {
   "cell_type": "code",
   "execution_count": 58,
   "metadata": {
    "collapsed": false
   },
   "outputs": [
    {
     "name": "stdout",
     "output_type": "stream",
     "text": [
      "There are 17192 observations with no claims and 3427 observations with claims\n"
     ]
    }
   ],
   "source": [
    "no_claim_miles = mergedDF['AnnualMileage'].ix[noClaimIDX]#.values\n",
    "has_claim_miles = mergedDF['AnnualMileage'].ix[hasClaim.index]\n",
    "# drop nans\n",
    "no_claim_miles2 = no_claim_miles[~no_claim_miles.isnull()].values\n",
    "has_claim_miles2= has_claim_miles[~has_claim_miles.isnull()].values\n",
    "\n",
    "print \"There are {0} observations with no claims and {1} observations with claims\".format(len(no_claim_miles2),len(has_claim_miles2))\n"
   ]
  },
  {
   "cell_type": "code",
   "execution_count": null,
   "metadata": {
    "collapsed": true
   },
   "outputs": [],
   "source": [
    "z_stat, p_val = stats.ranksums(no_claim_miles2, has_claim_miles2)  \n",
    "  \n",
    "print \"MWW RankSum p for no_claim_miles and has_claim_miles =\", p_val  \n"
   ]
  },
  {
   "cell_type": "code",
   "execution_count": 56,
   "metadata": {
    "collapsed": false
   },
   "outputs": [
    {
     "name": "stdout",
     "output_type": "stream",
     "text": [
      "t-test for  no_claims_miles and Has_claim_miles =  1.78888431935e-05\n"
     ]
    }
   ],
   "source": [
    "## now the ttest\n",
    "# remove nans\n",
    "tt_zscore, tt_p_val = stats.ttest_ind(no_claim_miles2,has_claim_miles2)\n",
    "print \"t-test for  no_claims_miles and Has_claim_miles = \", p_val\n"
   ]
  },
  {
   "cell_type": "markdown",
   "metadata": {},
   "source": [
    "##Is there a difference in the mileage traveled by gender?"
   ]
  },
  {
   "cell_type": "code",
   "execution_count": 148,
   "metadata": {
    "collapsed": false
   },
   "outputs": [
    {
     "data": {
      "text/plain": [
       "<matplotlib.legend.Legend at 0x10770668>"
      ]
     },
     "execution_count": 148,
     "metadata": {},
     "output_type": "execute_result"
    },
    {
     "data": {
      "image/png": "[encoded data removed]",
      "text/plain": [
       "<matplotlib.figure.Figure at 0x107705c0>"
      ]
     },
     "metadata": {},
     "output_type": "display_data"
    }
   ],
   "source": [
    "female = mergedDF[mergedDF['Gender']!=1]\n",
    "mergedDF['AnnualMileage'].ix[female.index].hist(bins=50,normed=True,color='deeppink',alpha=0.8,label='Female')\n",
    "mergedDF['AnnualMileage'].ix[isMale.index].hist(bins=50,normed=True,color='steelblue',alpha=0.5,label='Male')\n",
    "#hist(avgAclm,bins=50,range=[0,50000],normed=True,color='indianred',alpha=0.5)\n",
    "xlabel('average annual mileage')\n",
    "ylabel('fraction of drivers')\n",
    "legend()"
   ]
  },
  {
   "cell_type": "code",
   "execution_count": 153,
   "metadata": {
    "collapsed": false
   },
   "outputs": [
    {
     "data": {
      "text/plain": [
       "(0    6186\n",
       " 1    1318\n",
       " dtype: int64, 0    10685\n",
       " 1     2106\n",
       " dtype: int64)"
      ]
     },
     "execution_count": 153,
     "metadata": {},
     "output_type": "execute_result"
    }
   ],
   "source": [
    "mergedDF.ClaimFlag[mergedDF.Gender=='F'].value_counts(), mergedDF.ClaimFlag[mergedDF.Gender=='M'].value_counts()"
   ]
  },
  {
   "cell_type": "code",
   "execution_count": 158,
   "metadata": {
    "collapsed": false
   },
   "outputs": [
    {
     "data": {
      "text/plain": [
       "<matplotlib.legend.Legend at 0x295f5ef0>"
      ]
     },
     "execution_count": 158,
     "metadata": {},
     "output_type": "execute_result"
    },
    {
     "data": {
      "image/png": "[encoded data removed]",
      "text/plain": [
       "<matplotlib.figure.Figure at 0x297d1358>"
      ]
     },
     "metadata": {},
     "output_type": "display_data"
    }
   ],
   "source": [
    "figure(figsize=(18,6))\n",
    "subplot(121)\n",
    "mergedDF.ClaimFlag[mergedDF.Gender=='M'].value_counts().plot(kind='barh',label='M',color='steelblue')\n",
    "mergedDF.ClaimFlag[mergedDF.Gender=='F'].value_counts().plot(kind='barh',label='F',color='deeppink',alpha=0.8)\n",
    "#set_yticklabels(['Claim','No Claim'])\n",
    "legend(loc=\"best\")\n",
    "title('Breakdown of Claims by Gender')\n",
    "subplot(122)\n",
    "(mergedDF.ClaimFlag[mergedDF.Gender == 'M'].value_counts()/float(mergedDF.Gender[mergedDF.Gender == 'M'].size)).plot(kind='barh',label='Male',color='steelblue')  \n",
    "(mergedDF.ClaimFlag[mergedDF.Gender == 'F'].value_counts()/float(mergedDF.Gender[mergedDF.Gender == 'F'].size)).plot(kind='barh', color='#FA2379',label='Female',alpha=0.8)\n",
    "title(\"Proportional breakdown of claims by Gender\"); legend(loc='best')"
   ]
  },
  {
   "cell_type": "markdown",
   "metadata": {},
   "source": [
    "### Is there a correlation between claim amount and mileage driven?"
   ]
  },
  {
   "cell_type": "code",
   "execution_count": 184,
   "metadata": {
    "collapsed": false
   },
   "outputs": [
    {
     "data": {
      "text/plain": [
       "<matplotlib.text.Text at 0x11886ba8>"
      ]
     },
     "execution_count": 184,
     "metadata": {},
     "output_type": "execute_result"
    },
    {
     "data": {
      "image/png": "[encoded data removed]",
      "text/plain": [
       "<matplotlib.figure.Figure at 0x19d924a8>"
      ]
     },
     "metadata": {},
     "output_type": "display_data"
    }
   ],
   "source": [
    "figure(figsize=(12,6))\n",
    "subplot(221)\n",
    "scatter(hasClaim.AnnualMileage.values,hasClaim.ClaimTot.values,color='darkorchid',alpha=0.5)\n",
    "ylabel('Total Claim Amounts')\n",
    "xlabel('Annual Mileage')\n",
    "subplot(222)\n",
    "scatter(log(hasClaim.AnnualMileage.values+1),hasClaim.ClaimTot.values,color='darkorchid',alpha=0.5)\n",
    "ylabel('Total Claim Amounts')\n",
    "xlabel('Annual Mileage')\n",
    "subplot(223)\n",
    "scatter(hasClaim.AnnualMileage.values,log(hasClaim.ClaimTot.values+1),color='darkorchid',alpha=0.5)\n",
    "ylabel('Total Claim Amounts')\n",
    "xlabel('Annual Mileage')\n",
    "subplot(224)\n",
    "scatter(log(hasClaim.AnnualMileage.values+1),log(hasClaim.ClaimTot.values+1),color='darkorchid',alpha=0.5)\n",
    "ylabel('Total Claim Amounts')\n",
    "xlabel('Annual Mileage')"
   ]
  },
  {
   "cell_type": "code",
   "execution_count": 166,
   "metadata": {
    "collapsed": false
   },
   "outputs": [
    {
     "data": {
      "text/html": [
       "<div style=\"max-height:1000px;max-width:1500px;overflow:auto;\">\n",
       "<table border=\"1\" class=\"dataframe\">\n",
       "  <thead>\n",
       "    <tr style=\"text-align: right;\">\n",
       "      <th></th>\n",
       "      <th>ZIP</th>\n",
       "      <th>Gender</th>\n",
       "      <th>DRIVER_ID</th>\n",
       "      <th>Age</th>\n",
       "    </tr>\n",
       "  </thead>\n",
       "  <tbody>\n",
       "    <tr>\n",
       "      <th>8844</th>\n",
       "      <td> 43147</td>\n",
       "      <td> M</td>\n",
       "      <td>  1613</td>\n",
       "      <td> -3</td>\n",
       "    </tr>\n",
       "    <tr>\n",
       "      <th>8950</th>\n",
       "      <td> 43526</td>\n",
       "      <td> M</td>\n",
       "      <td> 20343</td>\n",
       "      <td>  0</td>\n",
       "    </tr>\n",
       "    <tr>\n",
       "      <th>9098</th>\n",
       "      <td> 44109</td>\n",
       "      <td> M</td>\n",
       "      <td>  9312</td>\n",
       "      <td> 13</td>\n",
       "    </tr>\n",
       "  </tbody>\n",
       "</table>\n",
       "</div>"
      ],
      "text/plain": [
       "        ZIP Gender  DRIVER_ID  Age\n",
       "8844  43147      M       1613   -3\n",
       "8950  43526      M      20343    0\n",
       "9098  44109      M       9312   13"
      ]
     },
     "execution_count": 166,
     "metadata": {},
     "output_type": "execute_result"
    }
   ],
   "source": [
    "mergedDF[mergedDF.Age<16][['ZIP','Gender','DRIVER_ID','Age']]"
   ]
  },
  {
   "cell_type": "code",
   "execution_count": 179,
   "metadata": {
    "collapsed": false
   },
   "outputs": [],
   "source": [
    "# there are few ages that are suspect . Replace with median value? ~59."
   ]
  },
  {
   "cell_type": "markdown",
   "metadata": {},
   "source": [
    "# Test the ability of mileage, age, zip code to predict a claim"
   ]
  },
  {
   "cell_type": "code",
   "execution_count": 186,
   "metadata": {
    "collapsed": false
   },
   "outputs": [
    {
     "data": {
      "text/html": [
       "<div style=\"max-height:1000px;max-width:1500px;overflow:auto;\">\n",
       "<table border=\"1\" class=\"dataframe\">\n",
       "  <thead>\n",
       "    <tr style=\"text-align: right;\">\n",
       "      <th></th>\n",
       "      <th>amin</th>\n",
       "      <th>amax</th>\n",
       "      <th>Nmonths</th>\n",
       "      <th>Gender</th>\n",
       "      <th>Age</th>\n",
       "      <th>ZIP</th>\n",
       "      <th>OdoStart</th>\n",
       "      <th>OdoEnd</th>\n",
       "      <th>DeltaOdo</th>\n",
       "      <th>DeltaDays</th>\n",
       "      <th>...</th>\n",
       "      <th>ClaimTot</th>\n",
       "      <th>ClaimFlag</th>\n",
       "      <th>DRIVER_ID</th>\n",
       "      <th>primary_city</th>\n",
       "      <th>county</th>\n",
       "      <th>area_codes</th>\n",
       "      <th>latitude</th>\n",
       "      <th>longitude</th>\n",
       "      <th>estimated_population</th>\n",
       "      <th>county_pop</th>\n",
       "    </tr>\n",
       "  </thead>\n",
       "  <tbody>\n",
       "    <tr>\n",
       "      <th>0</th>\n",
       "      <td>2010-02-24</td>\n",
       "      <td>2013-08-07</td>\n",
       "      <td> 42</td>\n",
       "      <td> M</td>\n",
       "      <td> 67</td>\n",
       "      <td> 43725</td>\n",
       "      <td> 27264</td>\n",
       "      <td> 59200</td>\n",
       "      <td> 31936</td>\n",
       "      <td>1260 days</td>\n",
       "      <td>...</td>\n",
       "      <td> 8192.39</td>\n",
       "      <td> 1</td>\n",
       "      <td>    1</td>\n",
       "      <td> Cambridge</td>\n",
       "      <td> Guernsey County</td>\n",
       "      <td> 740</td>\n",
       "      <td> 40.02</td>\n",
       "      <td>-81.58</td>\n",
       "      <td> 16033</td>\n",
       "      <td> 29630</td>\n",
       "    </tr>\n",
       "    <tr>\n",
       "      <th>1</th>\n",
       "      <td>2010-01-08</td>\n",
       "      <td>2013-09-19</td>\n",
       "      <td> 45</td>\n",
       "      <td> M</td>\n",
       "      <td> 72</td>\n",
       "      <td> 43725</td>\n",
       "      <td> 25511</td>\n",
       "      <td> 50573</td>\n",
       "      <td> 25062</td>\n",
       "      <td>1350 days</td>\n",
       "      <td>...</td>\n",
       "      <td>     NaN</td>\n",
       "      <td> 0</td>\n",
       "      <td>  761</td>\n",
       "      <td> Cambridge</td>\n",
       "      <td> Guernsey County</td>\n",
       "      <td> 740</td>\n",
       "      <td> 40.02</td>\n",
       "      <td>-81.58</td>\n",
       "      <td> 16033</td>\n",
       "      <td> 29630</td>\n",
       "    </tr>\n",
       "    <tr>\n",
       "      <th>2</th>\n",
       "      <td>2011-03-02</td>\n",
       "      <td>2013-08-09</td>\n",
       "      <td> 28</td>\n",
       "      <td> M</td>\n",
       "      <td> 52</td>\n",
       "      <td> 43725</td>\n",
       "      <td>   375</td>\n",
       "      <td> 33352</td>\n",
       "      <td> 32977</td>\n",
       "      <td> 891 days</td>\n",
       "      <td>...</td>\n",
       "      <td>     NaN</td>\n",
       "      <td> 0</td>\n",
       "      <td>  831</td>\n",
       "      <td> Cambridge</td>\n",
       "      <td> Guernsey County</td>\n",
       "      <td> 740</td>\n",
       "      <td> 40.02</td>\n",
       "      <td>-81.58</td>\n",
       "      <td> 16033</td>\n",
       "      <td> 29630</td>\n",
       "    </tr>\n",
       "    <tr>\n",
       "      <th>3</th>\n",
       "      <td>2009-09-10</td>\n",
       "      <td>2013-08-20</td>\n",
       "      <td> 47</td>\n",
       "      <td> M</td>\n",
       "      <td> 60</td>\n",
       "      <td> 43725</td>\n",
       "      <td> 37749</td>\n",
       "      <td> 72034</td>\n",
       "      <td> 34285</td>\n",
       "      <td>1440 days</td>\n",
       "      <td>...</td>\n",
       "      <td>     NaN</td>\n",
       "      <td> 0</td>\n",
       "      <td> 1083</td>\n",
       "      <td> Cambridge</td>\n",
       "      <td> Guernsey County</td>\n",
       "      <td> 740</td>\n",
       "      <td> 40.02</td>\n",
       "      <td>-81.58</td>\n",
       "      <td> 16033</td>\n",
       "      <td> 29630</td>\n",
       "    </tr>\n",
       "    <tr>\n",
       "      <th>4</th>\n",
       "      <td>2012-03-05</td>\n",
       "      <td>2013-07-28</td>\n",
       "      <td> 17</td>\n",
       "      <td> M</td>\n",
       "      <td> 62</td>\n",
       "      <td> 43725</td>\n",
       "      <td> 50334</td>\n",
       "      <td> 84019</td>\n",
       "      <td> 33685</td>\n",
       "      <td> 510 days</td>\n",
       "      <td>...</td>\n",
       "      <td> 5992.98</td>\n",
       "      <td> 1</td>\n",
       "      <td> 2107</td>\n",
       "      <td> Cambridge</td>\n",
       "      <td> Guernsey County</td>\n",
       "      <td> 740</td>\n",
       "      <td> 40.02</td>\n",
       "      <td>-81.58</td>\n",
       "      <td> 16033</td>\n",
       "      <td> 29630</td>\n",
       "    </tr>\n",
       "  </tbody>\n",
       "</table>\n",
       "<p>5 rows × 21 columns</p>\n",
       "</div>"
      ],
      "text/plain": [
       "        amin       amax  Nmonths Gender  Age    ZIP  OdoStart  OdoEnd  \\\n",
       "0 2010-02-24 2013-08-07       42      M   67  43725     27264   59200   \n",
       "1 2010-01-08 2013-09-19       45      M   72  43725     25511   50573   \n",
       "2 2011-03-02 2013-08-09       28      M   52  43725       375   33352   \n",
       "3 2009-09-10 2013-08-20       47      M   60  43725     37749   72034   \n",
       "4 2012-03-05 2013-07-28       17      M   62  43725     50334   84019   \n",
       "\n",
       "   DeltaOdo  DeltaDays     ...      ClaimTot  ClaimFlag  DRIVER_ID  \\\n",
       "0     31936  1260 days     ...       8192.39          1          1   \n",
       "1     25062  1350 days     ...           NaN          0        761   \n",
       "2     32977   891 days     ...           NaN          0        831   \n",
       "3     34285  1440 days     ...           NaN          0       1083   \n",
       "4     33685   510 days     ...       5992.98          1       2107   \n",
       "\n",
       "   primary_city           county area_codes latitude  longitude  \\\n",
       "0     Cambridge  Guernsey County        740    40.02     -81.58   \n",
       "1     Cambridge  Guernsey County        740    40.02     -81.58   \n",
       "2     Cambridge  Guernsey County        740    40.02     -81.58   \n",
       "3     Cambridge  Guernsey County        740    40.02     -81.58   \n",
       "4     Cambridge  Guernsey County        740    40.02     -81.58   \n",
       "\n",
       "   estimated_population  county_pop  \n",
       "0                 16033       29630  \n",
       "1                 16033       29630  \n",
       "2                 16033       29630  \n",
       "3                 16033       29630  \n",
       "4                 16033       29630  \n",
       "\n",
       "[5 rows x 21 columns]"
      ]
     },
     "execution_count": 186,
     "metadata": {},
     "output_type": "execute_result"
    }
   ],
   "source": [
    "mergedDF.head()"
   ]
  },
  {
   "cell_type": "code",
   "execution_count": 187,
   "metadata": {
    "collapsed": false
   },
   "outputs": [
    {
     "data": {
      "text/plain": [
       "Index([u'amin', u'amax', u'Nmonths', u'Gender', u'Age', u'ZIP', u'OdoStart', u'OdoEnd', u'DeltaOdo', u'DeltaDays', u'AnnualMileage', u'ClaimTot', u'ClaimFlag', u'DRIVER_ID', u'primary_city', u'county', u'area_codes', u'latitude', u'longitude', u'estimated_population', u'county_pop'], dtype='object')"
      ]
     },
     "execution_count": 187,
     "metadata": {},
     "output_type": "execute_result"
    }
   ],
   "source": [
    "mergedDF.columns"
   ]
  },
  {
   "cell_type": "code",
   "execution_count": 59,
   "metadata": {
    "collapsed": false
   },
   "outputs": [],
   "source": [
    "# convert Gender to boolean 1 for M; 0 for F\n",
    "mergedDF['Gender'].replace({'M':1,'F':0},inplace=True)"
   ]
  },
  {
   "cell_type": "code",
   "execution_count": 60,
   "metadata": {
    "collapsed": false
   },
   "outputs": [
    {
     "data": {
      "text/plain": [
       "0    17978\n",
       "1     3506\n",
       "dtype: int64"
      ]
     },
     "execution_count": 60,
     "metadata": {},
     "output_type": "execute_result"
    }
   ],
   "source": [
    "mergedDF.ClaimFlag.value_counts()"
   ]
  },
  {
   "cell_type": "code",
   "execution_count": 61,
   "metadata": {
    "collapsed": false
   },
   "outputs": [
    {
     "name": "stderr",
     "output_type": "stream",
     "text": [
      "C:\\Anaconda\\lib\\site-packages\\pandas\\core\\frame.py:2532: SettingWithCopyWarning: \n",
      "A value is trying to be set on a copy of a slice from a DataFrame\n",
      "\n",
      "See the the caveats in the documentation: http://pandas.pydata.org/pandas-docs/stable/indexing.html#indexing-view-versus-copy\n",
      "  **kwargs)\n"
     ]
    },
    {
     "data": {
      "text/html": [
       "<div>\n",
       "<table border=\"1\" class=\"dataframe\">\n",
       "  <thead>\n",
       "    <tr style=\"text-align: right;\">\n",
       "      <th></th>\n",
       "      <th>Age</th>\n",
       "      <th>estimated_population</th>\n",
       "      <th>county_pop</th>\n",
       "      <th>latitude</th>\n",
       "      <th>longitude</th>\n",
       "      <th>OdoStart</th>\n",
       "      <th>Nmonths</th>\n",
       "    </tr>\n",
       "  </thead>\n",
       "  <tbody>\n",
       "    <tr>\n",
       "      <th>0</th>\n",
       "      <td>67</td>\n",
       "      <td>16033</td>\n",
       "      <td>29630</td>\n",
       "      <td>40.02</td>\n",
       "      <td>-81.58</td>\n",
       "      <td>27264</td>\n",
       "      <td>42</td>\n",
       "    </tr>\n",
       "    <tr>\n",
       "      <th>1</th>\n",
       "      <td>49</td>\n",
       "      <td>17671</td>\n",
       "      <td>1018627</td>\n",
       "      <td>41.31</td>\n",
       "      <td>-81.85</td>\n",
       "      <td>53627</td>\n",
       "      <td>41</td>\n",
       "    </tr>\n",
       "    <tr>\n",
       "      <th>2</th>\n",
       "      <td>41</td>\n",
       "      <td>49757</td>\n",
       "      <td>939232</td>\n",
       "      <td>39.87</td>\n",
       "      <td>-83.07</td>\n",
       "      <td>3098</td>\n",
       "      <td>5</td>\n",
       "    </tr>\n",
       "    <tr>\n",
       "      <th>3</th>\n",
       "      <td>64</td>\n",
       "      <td>38659</td>\n",
       "      <td>302333</td>\n",
       "      <td>40.78</td>\n",
       "      <td>-81.52</td>\n",
       "      <td>114</td>\n",
       "      <td>6</td>\n",
       "    </tr>\n",
       "    <tr>\n",
       "      <th>4</th>\n",
       "      <td>67</td>\n",
       "      <td>1833</td>\n",
       "      <td>50249</td>\n",
       "      <td>40.01</td>\n",
       "      <td>-81.07</td>\n",
       "      <td>11</td>\n",
       "      <td>28</td>\n",
       "    </tr>\n",
       "  </tbody>\n",
       "</table>\n",
       "</div>"
      ],
      "text/plain": [
       "   Age  estimated_population  county_pop  latitude  longitude  OdoStart  \\\n",
       "0   67                 16033       29630     40.02     -81.58     27264   \n",
       "1   49                 17671     1018627     41.31     -81.85     53627   \n",
       "2   41                 49757      939232     39.87     -83.07      3098   \n",
       "3   64                 38659      302333     40.78     -81.52       114   \n",
       "4   67                  1833       50249     40.01     -81.07        11   \n",
       "\n",
       "   Nmonths  \n",
       "0       42  \n",
       "1       41  \n",
       "2        5  \n",
       "3        6  \n",
       "4       28  "
      ]
     },
     "execution_count": 61,
     "metadata": {},
     "output_type": "execute_result"
    }
   ],
   "source": [
    "#Survived are the target values\n",
    "target = mergedDF.ClaimFlag.values\n",
    "\n",
    "\n",
    "# numerical features as values\n",
    "numericalCols = ['Age','estimated_population','county_pop','latitude','longitude','OdoStart','Nmonths']\n",
    "#numericalCols = ['AnnualMileage']\n",
    "numerical_features = mergedDF.get(numericalCols)\n",
    "numerical_features.fillna(0.0,inplace=True)\n",
    "numerical_features.head()\n"
   ]
  },
  {
   "cell_type": "code",
   "execution_count": 62,
   "metadata": {
    "collapsed": false
   },
   "outputs": [
    {
     "name": "stdout",
     "output_type": "stream",
     "text": [
      "(21484L, 7L)\n",
      "float64\n"
     ]
    }
   ],
   "source": [
    "features_array = numerical_features.values\n",
    "print shape(features_array)\n",
    "print features_array.dtype\n",
    "from sklearn.cross_validation import train_test_split\n",
    "\n",
    "features_train, features_test, target_train, target_test = train_test_split(\n",
    "    features_array, target, test_size=0.20, random_state=33)"
   ]
  },
  {
   "cell_type": "code",
   "execution_count": 249,
   "metadata": {
    "collapsed": false
   },
   "outputs": [],
   "source": [
    "features_array = numerical_features.values\n",
    "features_train, features_test, target_train, target_test = train_test_split(\n",
    "    features_array, target, test_size=0.20, random_state=0)"
   ]
  },
  {
   "cell_type": "code",
   "execution_count": 66,
   "metadata": {
    "collapsed": true
   },
   "outputs": [],
   "source": [
    "from sklearn.linear_model import LogisticRegression\n",
    "from sklearn.metrics import accuracy_score"
   ]
  },
  {
   "cell_type": "code",
   "execution_count": 69,
   "metadata": {
    "collapsed": false
   },
   "outputs": [
    {
     "name": "stdout",
     "output_type": "stream",
     "text": [
      "Using these 7 features, our prediction using Log Regression is 0.83221\n"
     ]
    }
   ],
   "source": [
    "logregother = LogisticRegression(C=1)\n",
    "logregother.fit(features_train, target_train)\n",
    "target_predicted_other = logregother.predict(features_test)\n",
    "scoreother = accuracy_score(target_test, target_predicted_other)\n",
    "\n",
    "print \"Using these {0} features, our prediction using Log Regression is {1:.5f}\".format(trainShape[1],scoreother)"
   ]
  },
  {
   "cell_type": "code",
   "execution_count": 70,
   "metadata": {
    "collapsed": false
   },
   "outputs": [],
   "source": [
    "target_predicted_probaOO = logregother.predict_proba(features_test)"
   ]
  },
  {
   "cell_type": "code",
   "execution_count": 74,
   "metadata": {
    "collapsed": false
   },
   "outputs": [
    {
     "data": {
      "image/png": "[encoded data removed]",
      "text/plain": [
       "<matplotlib.figure.Figure at 0x4b19e48>"
      ]
     },
     "metadata": {},
     "output_type": "display_data"
    }
   ],
   "source": [
    "plot_roc_curve(target_test, target_predicted_probaOO)"
   ]
  },
  {
   "cell_type": "code",
   "execution_count": 78,
   "metadata": {
    "collapsed": true
   },
   "outputs": [],
   "source": [
    "from sklearn.metrics import confusion_matrix"
   ]
  },
  {
   "cell_type": "code",
   "execution_count": 79,
   "metadata": {
    "collapsed": false
   },
   "outputs": [
    {
     "name": "stdout",
     "output_type": "stream",
     "text": [
      "[[3570    4]\n",
      " [ 717    6]]\n"
     ]
    },
    {
     "data": {
      "image/png": "[encoded data removed]",
      "text/plain": [
       "<matplotlib.figure.Figure at 0x27daf3c8>"
      ]
     },
     "metadata": {},
     "output_type": "display_data"
    }
   ],
   "source": [
    "cmOO = confusion_matrix(target_test, target_predicted_other)\n",
    "print(cmOO)\n",
    "plot_confusion(cmOO)"
   ]
  },
  {
   "cell_type": "markdown",
   "metadata": {},
   "source": [
    "# do a simple logistic regression on these features."
   ]
  },
  {
   "cell_type": "code",
   "execution_count": 68,
   "metadata": {
    "collapsed": false
   },
   "outputs": [
    {
     "name": "stdout",
     "output_type": "stream",
     "text": [
      "Training set has 17187 elements and 7 features\n",
      "Testing set has 4297 elements and 7 features\n",
      "(17187L,)\n"
     ]
    }
   ],
   "source": [
    "trainShape = features_train.shape\n",
    "testShape = features_test.shape\n",
    "\n",
    "print \"Training set has {0} elements and {1} features\".format(trainShape[0],trainShape[1])\n",
    "print \"Testing set has {0} elements and {1} features\".format(testShape[0],testShape[1])\n",
    "print target_train.shape"
   ]
  },
  {
   "cell_type": "code",
   "execution_count": 80,
   "metadata": {
    "collapsed": false
   },
   "outputs": [
    {
     "name": "stdout",
     "output_type": "stream",
     "text": [
      "Using these 7 features, our prediction using Log Regression is 0.83221\n"
     ]
    }
   ],
   "source": [
    "from sklearn.linear_model import LogisticRegression\n",
    "from sklearn.metrics import accuracy_score\n",
    "\n",
    "\n",
    "logreg = LogisticRegression(C=1)\n",
    "logreg.fit(features_train, target_train)\n",
    "target_predicted = logreg.predict(features_test)\n",
    "score1 = accuracy_score(target_test, target_predicted)\n",
    "\n",
    "print \"Using these {0} features, our prediction using Log Regression is {1:.5f}\".format(trainShape[1],logreg.score(features_test, target_test))"
   ]
  },
  {
   "cell_type": "code",
   "execution_count": 81,
   "metadata": {
    "collapsed": false
   },
   "outputs": [
    {
     "data": {
      "image/png": "[encoded data removed]",
      "text/plain": [
       "<matplotlib.figure.Figure at 0x27ddf198>"
      ]
     },
     "metadata": {},
     "output_type": "display_data"
    }
   ],
   "source": [
    "logreg.coef_\n",
    "feature_names = numerical_features.columns\n",
    "x = np.arange(len(feature_names))\n",
    "bar(x, logreg.coef_.ravel(),color='limegreen')\n",
    "_ = xticks(x + 0.5, feature_names, rotation=30)\n",
    "grid(True)"
   ]
  },
  {
   "cell_type": "code",
   "execution_count": 82,
   "metadata": {
    "collapsed": false
   },
   "outputs": [
    {
     "name": "stdout",
     "output_type": "stream",
     "text": [
      "[[3570    4]\n",
      " [ 717    6]]\n"
     ]
    }
   ],
   "source": [
    "from sklearn.metrics import confusion_matrix\n",
    "\n",
    "cm = confusion_matrix(target_test, target_predicted)\n",
    "print(cm)"
   ]
  },
  {
   "cell_type": "code",
   "execution_count": 83,
   "metadata": {
    "collapsed": false
   },
   "outputs": [
    {
     "data": {
      "text/plain": [
       "(723, 3506)"
      ]
     },
     "execution_count": 83,
     "metadata": {},
     "output_type": "execute_result"
    }
   ],
   "source": [
    "sum(target_test), sum(target)"
   ]
  },
  {
   "cell_type": "code",
   "execution_count": 84,
   "metadata": {
    "collapsed": false
   },
   "outputs": [],
   "source": [
    "def plot_confusion(cm):\n",
    "    plt.imshow(cm, interpolation='nearest', cmap=plt.cm.binary)\n",
    "    plt.title('Confusion matrix')\n",
    "    plt.set_cmap('Blues')\n",
    "    plt.colorbar()\n",
    "\n",
    "    target_names = ['no Claim', 'Claim']\n",
    "\n",
    "    tick_marks = np.arange(len(target_names))\n",
    "    plt.xticks(tick_marks, target_names, rotation=60)\n",
    "    plt.yticks(tick_marks, target_names)\n",
    "    plt.ylabel('True label')\n",
    "    plt.xlabel('Predicted label')\n",
    "    # Convenience function to adjust plot parameters for a clear layout.\n",
    "    plt.tight_layout()\n",
    "    \n",
    "#plot_confusion(cm)"
   ]
  },
  {
   "cell_type": "code",
   "execution_count": 85,
   "metadata": {
    "collapsed": false
   },
   "outputs": [
    {
     "data": {
      "text/plain": [
       "(4297, 723)"
      ]
     },
     "execution_count": 85,
     "metadata": {},
     "output_type": "execute_result"
    }
   ],
   "source": [
    "len(target_test), sum(target_test), "
   ]
  },
  {
   "cell_type": "code",
   "execution_count": 86,
   "metadata": {
    "collapsed": false
   },
   "outputs": [],
   "source": [
    "#target_predicted_proba = logreg.predict_proba(features_test)\n",
    "#target_predicted_proba_Norm = logregN.predict_proba(features_test)\n",
    "from sklearn.metrics import roc_curve\n",
    "from sklearn.metrics import auc\n",
    "\n",
    "def plot_roc_curve(target_test, target_predicted_proba):\n",
    "    fpr, tpr, thresholds = roc_curve(target_test, target_predicted_proba[:, 1])\n",
    "    \n",
    "    roc_auc = auc(fpr, tpr)\n",
    "    # Plot ROC curve\n",
    "    plt.plot(fpr, tpr, label='ROC curve (area = %0.3f)' % roc_auc)\n",
    "    plt.plot([0, 1], [0, 1], 'k--')  # random predictions curve\n",
    "    plt.xlim([0.0, 1.0])\n",
    "    plt.ylim([0.0, 1.0])\n",
    "    plt.xlabel('False Positive Rate or (1 - Specifity)')\n",
    "    plt.ylabel('True Positive Rate or (Sensitivity)')\n",
    "    plt.title('Receiver Operating Characteristic')\n",
    "    plt.legend(loc=\"lower right\")\n"
   ]
  },
  {
   "cell_type": "code",
   "execution_count": 88,
   "metadata": {
    "collapsed": false
   },
   "outputs": [
    {
     "data": {
      "image/png": "[encoded data removed]",
      "text/plain": [
       "<matplotlib.figure.Figure at 0x1707a1d0>"
      ]
     },
     "metadata": {},
     "output_type": "display_data"
    }
   ],
   "source": [
    "plot_roc_curve(target_test, logreg.predict_proba(features_test))"
   ]
  },
  {
   "cell_type": "code",
   "execution_count": 89,
   "metadata": {
    "collapsed": false
   },
   "outputs": [
    {
     "name": "stdout",
     "output_type": "stream",
     "text": [
      "Logistic Regression CV scores:\n",
      "min: 0.836, mean: 0.837, max: 0.837\n",
      "Wall time: 751 ms\n"
     ]
    }
   ],
   "source": [
    "%%time\n",
    "\n",
    "from sklearn.cross_validation import cross_val_score\n",
    "\n",
    "logregV = LogisticRegression(C=1)\n",
    "scores = cross_val_score(logregV, features_array , target, cv=5, scoring='accuracy')\n",
    "print(\"Logistic Regression CV scores:\")\n",
    "print(\"min: {:.3f}, mean: {:.3f}, max: {:.3f}\".format(\n",
    "    scores.min(), scores.mean(), scores.max()))"
   ]
  },
  {
   "cell_type": "code",
   "execution_count": 90,
   "metadata": {
    "collapsed": false
   },
   "outputs": [
    {
     "data": {
      "text/plain": [
       "0    0.836809\n",
       "1    0.163191\n",
       "dtype: float64"
      ]
     },
     "execution_count": 90,
     "metadata": {},
     "output_type": "execute_result"
    }
   ],
   "source": [
    "mergedDF.ClaimFlag.value_counts()/float(len(mergedDF))"
   ]
  },
  {
   "cell_type": "code",
   "execution_count": 91,
   "metadata": {
    "collapsed": false
   },
   "outputs": [],
   "source": [
    "# look at fraction of young drivers"
   ]
  },
  {
   "cell_type": "code",
   "execution_count": 92,
   "metadata": {
    "collapsed": false
   },
   "outputs": [
    {
     "name": "stdout",
     "output_type": "stream",
     "text": [
      "466 drivers are less than 26 years old\n"
     ]
    },
    {
     "data": {
      "text/plain": [
       "0    0.856223\n",
       "1    0.143777\n",
       "dtype: float64"
      ]
     },
     "execution_count": 92,
     "metadata": {},
     "output_type": "execute_result"
    }
   ],
   "source": [
    "nyoung = sum(mergedDF['Age']<25)\n",
    "print \"{0} drivers are less than 26 years old\".format(nyoung)\n",
    "mergedDF[mergedDF.Age < 25].ClaimFlag.value_counts()/float(nyoung)"
   ]
  },
  {
   "cell_type": "code",
   "execution_count": 93,
   "metadata": {
    "collapsed": false
   },
   "outputs": [
    {
     "data": {
      "text/plain": [
       "<matplotlib.axes._subplots.AxesSubplot at 0x22c246a0>"
      ]
     },
     "execution_count": 93,
     "metadata": {},
     "output_type": "execute_result"
    },
    {
     "data": {
      "image/png": "[encoded data removed]",
      "text/plain": [
       "<matplotlib.figure.Figure at 0x14639c18>"
      ]
     },
     "metadata": {},
     "output_type": "display_data"
    }
   ],
   "source": [
    "mergedDF.AnnualMileage.hist(bins=40,color='steelblue')"
   ]
  },
  {
   "cell_type": "code",
   "execution_count": null,
   "metadata": {
    "collapsed": false
   },
   "outputs": [],
   "source": [
    "# interact with this distribution\n",
    "from IPython.html.widgets import interact\n",
    "def plot_claims(index):\n",
    "    fig,ax = plt.subplots()\n",
    "    x, y = train_data[:,index], train_target\n",
    "    ax.scatter(x, y)\n",
    "    ax.set_xlabel(boston.feature_names[index])\n",
    "    ax.set_ylabel(\"House price\")\n",
    "    print(\"Correlation: {0[0]:.1} (p-value: {0[1]:.1})\".format(stats.pearsonr(x, y)))\n",
    "    return fig"
   ]
  },
  {
   "cell_type": "code",
   "execution_count": 280,
   "metadata": {
    "collapsed": false
   },
   "outputs": [
    {
     "name": "stdout",
     "output_type": "stream",
     "text": [
      "1936\n",
      "1936 drivers travel more than 20000 miles annually\n"
     ]
    },
    {
     "data": {
      "text/plain": [
       "0    0.794938\n",
       "1    0.205062\n",
       "dtype: float64"
      ]
     },
     "execution_count": 280,
     "metadata": {},
     "output_type": "execute_result"
    }
   ],
   "source": [
    "nLargeMiles = sum(mergedDF.AnnualMileage>=20000)\n",
    "\n",
    "print \"{0} drivers travel more than 20000 miles annually\".format(nLargeMiles)\n",
    "mergedDF[mergedDF.AnnualMileage>=20000].ClaimFlag.value_counts()/float(nLargeMiles)"
   ]
  },
  {
   "cell_type": "code",
   "execution_count": 283,
   "metadata": {
    "collapsed": false
   },
   "outputs": [
    {
     "name": "stdout",
     "output_type": "stream",
     "text": [
      "12791 drivers are male\n",
      "0    0.835353\n",
      "1    0.164647\n",
      "dtype: float64\n",
      "7504 drivers are female\n",
      "0    0.82436\n",
      "1    0.17564\n",
      "dtype: float64\n"
     ]
    }
   ],
   "source": [
    "nMale = sum(mergedDF.Gender==1)\n",
    "print \"{0} drivers are male\".format(nMale)\n",
    "print mergedDF[mergedDF.Gender==1].ClaimFlag.value_counts()/float(nMale)\n",
    "nF = sum(mergedDF.Gender==0)\n",
    "print \"{0} drivers are female\".format(nF)\n",
    "print mergedDF[mergedDF.Gender==0].ClaimFlag.value_counts()/float(nF)\n"
   ]
  },
  {
   "cell_type": "code",
   "execution_count": 217,
   "metadata": {
    "collapsed": false
   },
   "outputs": [
    {
     "data": {
      "text/plain": [
       "((16549L,), (4138L,), (16549L,))"
      ]
     },
     "execution_count": 217,
     "metadata": {},
     "output_type": "execute_result"
    }
   ],
   "source": [
    "shape(features_train[:,0]),shape(features_test[:,0]), shape(target_train)"
   ]
  },
  {
   "cell_type": "code",
   "execution_count": 222,
   "metadata": {
    "collapsed": false
   },
   "outputs": [
    {
     "ename": "ValueError",
     "evalue": "X and y have incompatible shapes.\nX has 1 samples, but y has 16549.",
     "output_type": "error",
     "traceback": [
      "\u001b[1;31m---------------------------------------------------------------------------\u001b[0m\n\u001b[1;31mValueError\u001b[0m                                Traceback (most recent call last)",
      "\u001b[1;32m<ipython-input-222-06fabf27af5d>\u001b[0m in \u001b[0;36m<module>\u001b[1;34m()\u001b[0m\n\u001b[0;32m      3\u001b[0m \u001b[1;31m# look at logReg prediction using just AnnualMileage\u001b[0m\u001b[1;33m\u001b[0m\u001b[1;33m\u001b[0m\u001b[0m\n\u001b[0;32m      4\u001b[0m \u001b[0mlogregMiles\u001b[0m \u001b[1;33m=\u001b[0m \u001b[0mLogisticRegression\u001b[0m\u001b[1;33m(\u001b[0m\u001b[0mC\u001b[0m\u001b[1;33m=\u001b[0m\u001b[1;36m1\u001b[0m\u001b[1;33m)\u001b[0m\u001b[1;33m\u001b[0m\u001b[0m\n\u001b[1;32m----> 5\u001b[1;33m \u001b[0mlogregMiles\u001b[0m\u001b[1;33m.\u001b[0m\u001b[0mfit\u001b[0m\u001b[1;33m(\u001b[0m\u001b[0mmileage_train\u001b[0m\u001b[1;33m,\u001b[0m \u001b[0mtarget_train\u001b[0m\u001b[1;33m)\u001b[0m\u001b[1;33m\u001b[0m\u001b[0m\n\u001b[0m\u001b[0;32m      6\u001b[0m \u001b[1;31m#target_predictedMiles = logreg.predict(mileage_test)\u001b[0m\u001b[1;33m\u001b[0m\u001b[1;33m\u001b[0m\u001b[0m\n\u001b[0;32m      7\u001b[0m \u001b[1;31m#score1 = accuracy_score(target_test, target_predictedMiles)\u001b[0m\u001b[1;33m\u001b[0m\u001b[1;33m\u001b[0m\u001b[0m\n",
      "\u001b[1;32mC:\\Anaconda\\lib\\site-packages\\sklearn\\svm\\base.pyc\u001b[0m in \u001b[0;36mfit\u001b[1;34m(self, X, y)\u001b[0m\n\u001b[0;32m    685\u001b[0m             raise ValueError(\"X and y have incompatible shapes.\\n\"\n\u001b[0;32m    686\u001b[0m                              \u001b[1;34m\"X has %s samples, but y has %s.\"\u001b[0m \u001b[1;33m%\u001b[0m\u001b[1;33m\u001b[0m\u001b[0m\n\u001b[1;32m--> 687\u001b[1;33m                              (X.shape[0], y_ind.shape[0]))\n\u001b[0m\u001b[0;32m    688\u001b[0m \u001b[1;33m\u001b[0m\u001b[0m\n\u001b[0;32m    689\u001b[0m         \u001b[0mliblinear\u001b[0m\u001b[1;33m.\u001b[0m\u001b[0mset_verbosity_wrap\u001b[0m\u001b[1;33m(\u001b[0m\u001b[0mself\u001b[0m\u001b[1;33m.\u001b[0m\u001b[0mverbose\u001b[0m\u001b[1;33m)\u001b[0m\u001b[1;33m\u001b[0m\u001b[0m\n",
      "\u001b[1;31mValueError\u001b[0m: X and y have incompatible shapes.\nX has 1 samples, but y has 16549."
     ]
    }
   ],
   "source": [
    "mileage_train = features_train[:,0]\n",
    "mileage_test = features_test[:,0]\n",
    "# look at logReg prediction using just AnnualMileage\n",
    "logregMiles = LogisticRegression(C=1)\n",
    "logregMiles.fit(mileage_train, target_train)\n",
    "#target_predictedMiles = logreg.predict(mileage_test)\n",
    "#score1 = accuracy_score(target_test, target_predictedMiles)\n",
    "#print \"with just mileage our Logistic regression yielded a score of {0:.5f}\".format(score1)"
   ]
  },
  {
   "cell_type": "code",
   "execution_count": null,
   "metadata": {
    "collapsed": false
   },
   "outputs": [],
   "source": []
  },
  {
   "cell_type": "code",
   "execution_count": 265,
   "metadata": {
    "collapsed": false
   },
   "outputs": [
    {
     "data": {
      "text/html": [
       "<div style=\"max-height:1000px;max-width:1500px;overflow:auto;\">\n",
       "<table border=\"1\" class=\"dataframe\">\n",
       "  <thead>\n",
       "    <tr style=\"text-align: right;\">\n",
       "      <th></th>\n",
       "      <th>Age</th>\n",
       "      <th>estimated_population</th>\n",
       "      <th>county_pop</th>\n",
       "      <th>AnnualMileage</th>\n",
       "      <th>latitude</th>\n",
       "      <th>longitude</th>\n",
       "      <th>OdoStart</th>\n",
       "      <th>Nmonths</th>\n",
       "    </tr>\n",
       "  </thead>\n",
       "  <tbody>\n",
       "    <tr>\n",
       "      <th>0</th>\n",
       "      <td> 67</td>\n",
       "      <td> 16033</td>\n",
       "      <td> 29630</td>\n",
       "      <td>  9257.638095</td>\n",
       "      <td> 40.02</td>\n",
       "      <td>-81.58</td>\n",
       "      <td> 27264</td>\n",
       "      <td> 42</td>\n",
       "    </tr>\n",
       "    <tr>\n",
       "      <th>1</th>\n",
       "      <td> 72</td>\n",
       "      <td> 16033</td>\n",
       "      <td> 29630</td>\n",
       "      <td>  6780.663333</td>\n",
       "      <td> 40.02</td>\n",
       "      <td>-81.58</td>\n",
       "      <td> 25511</td>\n",
       "      <td> 45</td>\n",
       "    </tr>\n",
       "    <tr>\n",
       "      <th>2</th>\n",
       "      <td> 52</td>\n",
       "      <td> 16033</td>\n",
       "      <td> 29630</td>\n",
       "      <td> 13518.349327</td>\n",
       "      <td> 40.02</td>\n",
       "      <td>-81.58</td>\n",
       "      <td>   375</td>\n",
       "      <td> 28</td>\n",
       "    </tr>\n",
       "    <tr>\n",
       "      <th>3</th>\n",
       "      <td> 60</td>\n",
       "      <td> 16033</td>\n",
       "      <td> 29630</td>\n",
       "      <td>  8696.247396</td>\n",
       "      <td> 40.02</td>\n",
       "      <td>-81.58</td>\n",
       "      <td> 37749</td>\n",
       "      <td> 47</td>\n",
       "    </tr>\n",
       "    <tr>\n",
       "      <th>4</th>\n",
       "      <td> 62</td>\n",
       "      <td> 16033</td>\n",
       "      <td> 29630</td>\n",
       "      <td> 24124.404412</td>\n",
       "      <td> 40.02</td>\n",
       "      <td>-81.58</td>\n",
       "      <td> 50334</td>\n",
       "      <td> 17</td>\n",
       "    </tr>\n",
       "  </tbody>\n",
       "</table>\n",
       "</div>"
      ],
      "text/plain": [
       "   Age  estimated_population  county_pop  AnnualMileage  latitude  longitude  \\\n",
       "0   67                 16033       29630    9257.638095     40.02     -81.58   \n",
       "1   72                 16033       29630    6780.663333     40.02     -81.58   \n",
       "2   52                 16033       29630   13518.349327     40.02     -81.58   \n",
       "3   60                 16033       29630    8696.247396     40.02     -81.58   \n",
       "4   62                 16033       29630   24124.404412     40.02     -81.58   \n",
       "\n",
       "   OdoStart  Nmonths  \n",
       "0     27264       42  \n",
       "1     25511       45  \n",
       "2       375       28  \n",
       "3     37749       47  \n",
       "4     50334       17  "
      ]
     },
     "execution_count": 265,
     "metadata": {},
     "output_type": "execute_result"
    }
   ],
   "source": [
    "numericalCols = ['Age','estimated_population','county_pop','AnnualMileage','latitude','longitude','OdoStart','Nmonths']\n",
    "numerical_features = mergedDF.get(numericalCols)\n",
    "numerical_features.fillna(0.0,inplace=True)\n",
    "numerical_features.head()"
   ]
  },
  {
   "cell_type": "code",
   "execution_count": 266,
   "metadata": {
    "collapsed": false
   },
   "outputs": [
    {
     "data": {
      "text/plain": [
       "Age                         113.000000\n",
       "estimated_population      55006.000000\n",
       "county_pop              1018627.000000\n",
       "AnnualMileage             64873.651961\n",
       "latitude                     41.920000\n",
       "longitude                   -80.520000\n",
       "OdoStart                 327711.000000\n",
       "Nmonths                      50.000000\n",
       "dtype: float64"
      ]
     },
     "execution_count": 266,
     "metadata": {},
     "output_type": "execute_result"
    }
   ],
   "source": [
    "## also I should look at normed values\n",
    "maxValues = numerical_features[numericalCols].max()\n",
    "maxValues"
   ]
  },
  {
   "cell_type": "markdown",
   "metadata": {},
   "source": [
    "## USING STASTMODELS\n",
    "\n",
    "In this case we need to create the target variable, i.e. y and the design matrix, i.e. x.\n",
    "Using R-type notation we can specify the formula relating these two.\n",
    "For example if we want to see ClaimsTotal as a function of the other columns (Linear Regresion) write: \n",
    "\n",
    "`f = 'ClaimTot ~ AnnualMileage+county_pop+Age+OdoStart+estimated_pop+\n",
    "`f = 'Fertility ~ Agriculture+Examination+Education+Catholic+InfMortality'`"
   ]
  },
  {
   "cell_type": "code",
   "execution_count": 185,
   "metadata": {
    "collapsed": false
   },
   "outputs": [],
   "source": [
    "import statsmodels.api as sm\n",
    "from patsy import dmatrices"
   ]
  },
  {
   "cell_type": "code",
   "execution_count": null,
   "metadata": {
    "collapsed": false
   },
   "outputs": [],
   "source": [
    "f = 'Fertility ~ Agriculture + Examination + Education + Catholic+InfMortality'\n",
    "y,x = dmatrices(f,swiss,return_type='dataframe')"
   ]
  },
  {
   "cell_type": "code",
   "execution_count": 268,
   "metadata": {
    "collapsed": false
   },
   "outputs": [],
   "source": [
    "f = 'ClaimTot ~ AnnualMileage+county_pop+Age+OdoStart+estimated_population'\n",
    "y,x = dmatrices(f,mergedDF,return_type='dataframe')"
   ]
  },
  {
   "cell_type": "code",
   "execution_count": 269,
   "metadata": {
    "collapsed": false
   },
   "outputs": [
    {
     "data": {
      "text/html": [
       "<table class=\"simpletable\">\n",
       "<caption>OLS Regression Results</caption>\n",
       "<tr>\n",
       "  <th>Dep. Variable:</th>        <td>ClaimTot</td>     <th>  R-squared:         </th> <td>   0.002</td> \n",
       "</tr>\n",
       "<tr>\n",
       "  <th>Model:</th>                   <td>OLS</td>       <th>  Adj. R-squared:    </th> <td>   0.000</td> \n",
       "</tr>\n",
       "<tr>\n",
       "  <th>Method:</th>             <td>Least Squares</td>  <th>  F-statistic:       </th> <td>   1.238</td> \n",
       "</tr>\n",
       "<tr>\n",
       "  <th>Date:</th>             <td>Tue, 04 Nov 2014</td> <th>  Prob (F-statistic):</th>  <td> 0.289</td>  \n",
       "</tr>\n",
       "<tr>\n",
       "  <th>Time:</th>                 <td>10:18:11</td>     <th>  Log-Likelihood:    </th> <td> -34938.</td> \n",
       "</tr>\n",
       "<tr>\n",
       "  <th>No. Observations:</th>      <td>  3495</td>      <th>  AIC:               </th> <td>6.989e+04</td>\n",
       "</tr>\n",
       "<tr>\n",
       "  <th>Df Residuals:</th>          <td>  3489</td>      <th>  BIC:               </th> <td>6.992e+04</td>\n",
       "</tr>\n",
       "<tr>\n",
       "  <th>Df Model:</th>              <td>     5</td>      <th>                     </th>     <td> </td>    \n",
       "</tr>\n",
       "</table>\n",
       "<table class=\"simpletable\">\n",
       "<tr>\n",
       "            <td></td>              <th>coef</th>     <th>std err</th>      <th>t</th>      <th>P>|t|</th> <th>[95.0% Conf. Int.]</th> \n",
       "</tr>\n",
       "<tr>\n",
       "  <th>Intercept</th>            <td> 2441.3649</td> <td>  487.573</td> <td>    5.007</td> <td> 0.000</td> <td> 1485.408  3397.322</td>\n",
       "</tr>\n",
       "<tr>\n",
       "  <th>AnnualMileage</th>        <td>   -0.0082</td> <td>    0.015</td> <td>   -0.547</td> <td> 0.584</td> <td>   -0.038     0.021</td>\n",
       "</tr>\n",
       "<tr>\n",
       "  <th>county_pop</th>           <td>    0.0001</td> <td>    0.000</td> <td>    0.354</td> <td> 0.724</td> <td>   -0.000     0.001</td>\n",
       "</tr>\n",
       "<tr>\n",
       "  <th>Age</th>                  <td>    5.4807</td> <td>    5.780</td> <td>    0.948</td> <td> 0.343</td> <td>   -5.852    16.813</td>\n",
       "</tr>\n",
       "<tr>\n",
       "  <th>OdoStart</th>             <td>   -0.0068</td> <td>    0.004</td> <td>   -1.772</td> <td> 0.077</td> <td>   -0.014     0.001</td>\n",
       "</tr>\n",
       "<tr>\n",
       "  <th>estimated_population</th> <td>   -0.0080</td> <td>    0.007</td> <td>   -1.119</td> <td> 0.263</td> <td>   -0.022     0.006</td>\n",
       "</tr>\n",
       "</table>\n",
       "<table class=\"simpletable\">\n",
       "<tr>\n",
       "  <th>Omnibus:</th>       <td>5939.990</td> <th>  Durbin-Watson:     </th>  <td>   1.978</td>  \n",
       "</tr>\n",
       "<tr>\n",
       "  <th>Prob(Omnibus):</th>  <td> 0.000</td>  <th>  Jarque-Bera (JB):  </th> <td>8542144.424</td>\n",
       "</tr>\n",
       "<tr>\n",
       "  <th>Skew:</th>           <td>11.306</td>  <th>  Prob(JB):          </th>  <td>    0.00</td>  \n",
       "</tr>\n",
       "<tr>\n",
       "  <th>Kurtosis:</th>       <td>244.137</td> <th>  Cond. No.          </th>  <td>2.60e+06</td>  \n",
       "</tr>\n",
       "</table>"
      ],
      "text/plain": [
       "<class 'statsmodels.iolib.summary.Summary'>\n",
       "\"\"\"\n",
       "                            OLS Regression Results                            \n",
       "==============================================================================\n",
       "Dep. Variable:               ClaimTot   R-squared:                       0.002\n",
       "Model:                            OLS   Adj. R-squared:                  0.000\n",
       "Method:                 Least Squares   F-statistic:                     1.238\n",
       "Date:                Tue, 04 Nov 2014   Prob (F-statistic):              0.289\n",
       "Time:                        10:18:11   Log-Likelihood:                -34938.\n",
       "No. Observations:                3495   AIC:                         6.989e+04\n",
       "Df Residuals:                    3489   BIC:                         6.992e+04\n",
       "Df Model:                           5                                         \n",
       "========================================================================================\n",
       "                           coef    std err          t      P>|t|      [95.0% Conf. Int.]\n",
       "----------------------------------------------------------------------------------------\n",
       "Intercept             2441.3649    487.573      5.007      0.000      1485.408  3397.322\n",
       "AnnualMileage           -0.0082      0.015     -0.547      0.584        -0.038     0.021\n",
       "county_pop               0.0001      0.000      0.354      0.724        -0.000     0.001\n",
       "Age                      5.4807      5.780      0.948      0.343        -5.852    16.813\n",
       "OdoStart                -0.0068      0.004     -1.772      0.077        -0.014     0.001\n",
       "estimated_population    -0.0080      0.007     -1.119      0.263        -0.022     0.006\n",
       "==============================================================================\n",
       "Omnibus:                     5939.990   Durbin-Watson:                   1.978\n",
       "Prob(Omnibus):                  0.000   Jarque-Bera (JB):          8542144.424\n",
       "Skew:                          11.306   Prob(JB):                         0.00\n",
       "Kurtosis:                     244.137   Cond. No.                     2.60e+06\n",
       "==============================================================================\n",
       "\n",
       "Warnings:\n",
       "[1] The condition number is large, 2.6e+06. This might indicate that there are\n",
       "strong multicollinearity or other numerical problems.\n",
       "\"\"\""
      ]
     },
     "execution_count": 269,
     "metadata": {},
     "output_type": "execute_result"
    }
   ],
   "source": [
    "ols1 = sm.OLS(y, x)\n",
    "# Fit the model\n",
    "ols1_res = ols1.fit()\n",
    "# print the results\n",
    "ols1_res.summary()"
   ]
  },
  {
   "cell_type": "code",
   "execution_count": 237,
   "metadata": {
    "collapsed": false
   },
   "outputs": [],
   "source": [
    "mergedDF['intercept']=1\n",
    "logit0 = sm.Logit(mergedDF['ClaimFlag'],mergedDF['intercept'])"
   ]
  },
  {
   "cell_type": "code",
   "execution_count": 238,
   "metadata": {
    "collapsed": false
   },
   "outputs": [
    {
     "name": "stdout",
     "output_type": "stream",
     "text": [
      "Optimization terminated successfully.\n",
      "         Current function value: 0.454212\n",
      "         Iterations 5\n"
     ]
    },
    {
     "data": {
      "text/html": [
       "<table class=\"simpletable\">\n",
       "<caption>Logit Regression Results</caption>\n",
       "<tr>\n",
       "  <th>Dep. Variable:</th>     <td>ClaimFlag</td>    <th>  No. Observations:  </th>  <td> 20687</td> \n",
       "</tr>\n",
       "<tr>\n",
       "  <th>Model:</th>               <td>Logit</td>      <th>  Df Residuals:      </th>  <td> 20686</td> \n",
       "</tr>\n",
       "<tr>\n",
       "  <th>Method:</th>               <td>MLE</td>       <th>  Df Model:          </th>  <td>     0</td> \n",
       "</tr>\n",
       "<tr>\n",
       "  <th>Date:</th>          <td>Fri, 31 Oct 2014</td> <th>  Pseudo R-squ.:     </th>  <td> 0.000</td> \n",
       "</tr>\n",
       "<tr>\n",
       "  <th>Time:</th>              <td>16:10:05</td>     <th>  Log-Likelihood:    </th> <td> -9396.3</td>\n",
       "</tr>\n",
       "<tr>\n",
       "  <th>converged:</th>           <td>True</td>       <th>  LL-Null:           </th> <td> -9396.3</td>\n",
       "</tr>\n",
       "<tr>\n",
       "  <th> </th>                      <td> </td>        <th>  LLR p-value:       </th>  <td>   nan</td> \n",
       "</tr>\n",
       "</table>\n",
       "<table class=\"simpletable\">\n",
       "<tr>\n",
       "      <td></td>         <th>coef</th>     <th>std err</th>      <th>z</th>      <th>P>|z|</th> <th>[95.0% Conf. Int.]</th> \n",
       "</tr>\n",
       "<tr>\n",
       "  <th>intercept</th> <td>   -1.5931</td> <td>    0.019</td> <td>  -85.859</td> <td> 0.000</td> <td>   -1.629    -1.557</td>\n",
       "</tr>\n",
       "</table>"
      ],
      "text/plain": [
       "<class 'statsmodels.iolib.summary.Summary'>\n",
       "\"\"\"\n",
       "                           Logit Regression Results                           \n",
       "==============================================================================\n",
       "Dep. Variable:              ClaimFlag   No. Observations:                20687\n",
       "Model:                          Logit   Df Residuals:                    20686\n",
       "Method:                           MLE   Df Model:                            0\n",
       "Date:                Fri, 31 Oct 2014   Pseudo R-squ.:                   0.000\n",
       "Time:                        16:10:05   Log-Likelihood:                -9396.3\n",
       "converged:                       True   LL-Null:                       -9396.3\n",
       "                                        LLR p-value:                       nan\n",
       "==============================================================================\n",
       "                 coef    std err          z      P>|z|      [95.0% Conf. Int.]\n",
       "------------------------------------------------------------------------------\n",
       "intercept     -1.5931      0.019    -85.859      0.000        -1.629    -1.557\n",
       "==============================================================================\n",
       "\"\"\""
      ]
     },
     "execution_count": 238,
     "metadata": {},
     "output_type": "execute_result"
    }
   ],
   "source": [
    "# null result:\n",
    "result0 = logit0.fit()\n",
    "result0.summary()"
   ]
  },
  {
   "cell_type": "code",
   "execution_count": 239,
   "metadata": {
    "collapsed": false
   },
   "outputs": [
    {
     "name": "stdout",
     "output_type": "stream",
     "text": [
      "Optimization terminated successfully.\n",
      "         Current function value: 0.452053\n",
      "         Iterations 6\n"
     ]
    },
    {
     "data": {
      "text/html": [
       "<table class=\"simpletable\">\n",
       "<caption>Logit Regression Results</caption>\n",
       "<tr>\n",
       "  <th>Dep. Variable:</th>         <td>y</td>        <th>  No. Observations:  </th>  <td> 20687</td>  \n",
       "</tr>\n",
       "<tr>\n",
       "  <th>Model:</th>               <td>Logit</td>      <th>  Df Residuals:      </th>  <td> 20685</td>  \n",
       "</tr>\n",
       "<tr>\n",
       "  <th>Method:</th>               <td>MLE</td>       <th>  Df Model:          </th>  <td>     1</td>  \n",
       "</tr>\n",
       "<tr>\n",
       "  <th>Date:</th>          <td>Fri, 31 Oct 2014</td> <th>  Pseudo R-squ.:     </th> <td>0.004754</td> \n",
       "</tr>\n",
       "<tr>\n",
       "  <th>Time:</th>              <td>16:12:22</td>     <th>  Log-Likelihood:    </th> <td> -9351.6</td> \n",
       "</tr>\n",
       "<tr>\n",
       "  <th>converged:</th>           <td>True</td>       <th>  LL-Null:           </th> <td> -9396.3</td> \n",
       "</tr>\n",
       "<tr>\n",
       "  <th> </th>                      <td> </td>        <th>  LLR p-value:       </th> <td>3.322e-21</td>\n",
       "</tr>\n",
       "</table>\n",
       "<table class=\"simpletable\">\n",
       "<tr>\n",
       "        <td></td>           <th>coef</th>     <th>std err</th>      <th>z</th>      <th>P>|z|</th> <th>[95.0% Conf. Int.]</th> \n",
       "</tr>\n",
       "<tr>\n",
       "  <th>AnnualMileage</th> <td> 2.592e-05</td> <td>  2.7e-06</td> <td>    9.605</td> <td> 0.000</td> <td> 2.06e-05  3.12e-05</td>\n",
       "</tr>\n",
       "<tr>\n",
       "  <th>intercept</th>     <td>   -1.8954</td> <td>    0.037</td> <td>  -50.674</td> <td> 0.000</td> <td>   -1.969    -1.822</td>\n",
       "</tr>\n",
       "</table>"
      ],
      "text/plain": [
       "<class 'statsmodels.iolib.summary.Summary'>\n",
       "\"\"\"\n",
       "                           Logit Regression Results                           \n",
       "==============================================================================\n",
       "Dep. Variable:                      y   No. Observations:                20687\n",
       "Model:                          Logit   Df Residuals:                    20685\n",
       "Method:                           MLE   Df Model:                            1\n",
       "Date:                Fri, 31 Oct 2014   Pseudo R-squ.:                0.004754\n",
       "Time:                        16:12:22   Log-Likelihood:                -9351.6\n",
       "converged:                       True   LL-Null:                       -9396.3\n",
       "                                        LLR p-value:                 3.322e-21\n",
       "=================================================================================\n",
       "                    coef    std err          z      P>|z|      [95.0% Conf. Int.]\n",
       "---------------------------------------------------------------------------------\n",
       "AnnualMileage  2.592e-05    2.7e-06      9.605      0.000      2.06e-05  3.12e-05\n",
       "intercept        -1.8954      0.037    -50.674      0.000        -1.969    -1.822\n",
       "=================================================================================\n",
       "\"\"\""
      ]
     },
     "execution_count": 239,
     "metadata": {},
     "output_type": "execute_result"
    }
   ],
   "source": [
    "mileagedata = mergedDF[['AnnualMileage','intercept']]\n",
    "#\n",
    "logitMileage = sm.Logit(target,mileagedata)\n",
    "resultMilage = logitMileage.fit()\n",
    "resultMilage.summary()"
   ]
  },
  {
   "cell_type": "code",
   "execution_count": 241,
   "metadata": {
    "collapsed": false
   },
   "outputs": [
    {
     "name": "stdout",
     "output_type": "stream",
     "text": [
      "Optimization terminated successfully.\n",
      "         Current function value: 0.413826\n",
      "         Iterations 6\n"
     ]
    },
    {
     "data": {
      "text/html": [
       "<table class=\"simpletable\">\n",
       "<caption>Logit Regression Results</caption>\n",
       "<tr>\n",
       "  <th>Dep. Variable:</th>         <td>y</td>        <th>  No. Observations:  </th>  <td> 20687</td> \n",
       "</tr>\n",
       "<tr>\n",
       "  <th>Model:</th>               <td>Logit</td>      <th>  Df Residuals:      </th>  <td> 20678</td> \n",
       "</tr>\n",
       "<tr>\n",
       "  <th>Method:</th>               <td>MLE</td>       <th>  Df Model:          </th>  <td>     8</td> \n",
       "</tr>\n",
       "<tr>\n",
       "  <th>Date:</th>          <td>Fri, 31 Oct 2014</td> <th>  Pseudo R-squ.:     </th>  <td>0.08891</td>\n",
       "</tr>\n",
       "<tr>\n",
       "  <th>Time:</th>              <td>16:14:33</td>     <th>  Log-Likelihood:    </th> <td> -8560.8</td>\n",
       "</tr>\n",
       "<tr>\n",
       "  <th>converged:</th>           <td>True</td>       <th>  LL-Null:           </th> <td> -9396.3</td>\n",
       "</tr>\n",
       "<tr>\n",
       "  <th> </th>                      <td> </td>        <th>  LLR p-value:       </th>  <td> 0.000</td> \n",
       "</tr>\n",
       "</table>\n",
       "<table class=\"simpletable\">\n",
       "<tr>\n",
       "            <td></td>              <th>coef</th>     <th>std err</th>      <th>z</th>      <th>P>|z|</th> <th>[95.0% Conf. Int.]</th> \n",
       "</tr>\n",
       "<tr>\n",
       "  <th>AnnualMileage</th>        <td> 4.759e-05</td> <td> 3.07e-06</td> <td>   15.493</td> <td> 0.000</td> <td> 4.16e-05  5.36e-05</td>\n",
       "</tr>\n",
       "<tr>\n",
       "  <th>Age</th>                  <td>    0.0022</td> <td>    0.001</td> <td>    1.749</td> <td> 0.080</td> <td>   -0.000     0.005</td>\n",
       "</tr>\n",
       "<tr>\n",
       "  <th>estimated_population</th> <td>-5.266e-07</td> <td> 1.52e-06</td> <td>   -0.346</td> <td> 0.730</td> <td>-3.51e-06  2.46e-06</td>\n",
       "</tr>\n",
       "<tr>\n",
       "  <th>county_pop</th>           <td>-8.667e-08</td> <td>  6.1e-08</td> <td>   -1.422</td> <td> 0.155</td> <td>-2.06e-07  3.28e-08</td>\n",
       "</tr>\n",
       "<tr>\n",
       "  <th>latitude</th>             <td>   -0.0775</td> <td>    0.030</td> <td>   -2.573</td> <td> 0.010</td> <td>   -0.137    -0.018</td>\n",
       "</tr>\n",
       "<tr>\n",
       "  <th>longitude</th>            <td>    0.0408</td> <td>    0.021</td> <td>    1.983</td> <td> 0.047</td> <td>    0.000     0.081</td>\n",
       "</tr>\n",
       "<tr>\n",
       "  <th>OdoStart</th>             <td>  -2.1e-07</td> <td> 8.44e-07</td> <td>   -0.249</td> <td> 0.803</td> <td>-1.86e-06  1.44e-06</td>\n",
       "</tr>\n",
       "<tr>\n",
       "  <th>Nmonths</th>              <td>    0.0563</td> <td>    0.001</td> <td>   38.329</td> <td> 0.000</td> <td>    0.053     0.059</td>\n",
       "</tr>\n",
       "<tr>\n",
       "  <th>intercept</th>            <td>    3.1282</td> <td>    2.667</td> <td>    1.173</td> <td> 0.241</td> <td>   -2.098     8.355</td>\n",
       "</tr>\n",
       "</table>"
      ],
      "text/plain": [
       "<class 'statsmodels.iolib.summary.Summary'>\n",
       "\"\"\"\n",
       "                           Logit Regression Results                           \n",
       "==============================================================================\n",
       "Dep. Variable:                      y   No. Observations:                20687\n",
       "Model:                          Logit   Df Residuals:                    20678\n",
       "Method:                           MLE   Df Model:                            8\n",
       "Date:                Fri, 31 Oct 2014   Pseudo R-squ.:                 0.08891\n",
       "Time:                        16:14:33   Log-Likelihood:                -8560.8\n",
       "converged:                       True   LL-Null:                       -9396.3\n",
       "                                        LLR p-value:                     0.000\n",
       "========================================================================================\n",
       "                           coef    std err          z      P>|z|      [95.0% Conf. Int.]\n",
       "----------------------------------------------------------------------------------------\n",
       "AnnualMileage         4.759e-05   3.07e-06     15.493      0.000      4.16e-05  5.36e-05\n",
       "Age                      0.0022      0.001      1.749      0.080        -0.000     0.005\n",
       "estimated_population -5.266e-07   1.52e-06     -0.346      0.730     -3.51e-06  2.46e-06\n",
       "county_pop           -8.667e-08    6.1e-08     -1.422      0.155     -2.06e-07  3.28e-08\n",
       "latitude                -0.0775      0.030     -2.573      0.010        -0.137    -0.018\n",
       "longitude                0.0408      0.021      1.983      0.047         0.000     0.081\n",
       "OdoStart               -2.1e-07   8.44e-07     -0.249      0.803     -1.86e-06  1.44e-06\n",
       "Nmonths                  0.0563      0.001     38.329      0.000         0.053     0.059\n",
       "intercept                3.1282      2.667      1.173      0.241        -2.098     8.355\n",
       "========================================================================================\n",
       "\"\"\""
      ]
     },
     "execution_count": 241,
     "metadata": {},
     "output_type": "execute_result"
    }
   ],
   "source": [
    "numericalCols = ['AnnualMileage','Age','estimated_population','county_pop','latitude','longitude','OdoStart','Nmonths','intercept']\n",
    "data = mergedDF[numericalCols]\n",
    "logit = sm.Logit(target,data)\n",
    "result1 = logit.fit()\n",
    "result1.summary()"
   ]
  },
  {
   "cell_type": "code",
   "execution_count": 246,
   "metadata": {
    "collapsed": false
   },
   "outputs": [
    {
     "data": {
      "text/plain": [
       "array([[ 1.        ,  0.23644172],\n",
       "       [ 0.23644172,  1.        ]])"
      ]
     },
     "execution_count": 246,
     "metadata": {},
     "output_type": "execute_result"
    }
   ],
   "source": [
    "corrcoef(data.estimated_population,data.county_pop)"
   ]
  },
  {
   "cell_type": "code",
   "execution_count": null,
   "metadata": {
    "collapsed": false
   },
   "outputs": [],
   "source": []
  },
  {
   "cell_type": "markdown",
   "metadata": {},
   "source": [
    "# create a new data frame \n",
    "rows are timestamps in the range of min(MOD_DATE) to max(MOD_DATE)\n",
    "columns are for each driver\n"
   ]
  },
  {
   "cell_type": "code",
   "execution_count": 42,
   "metadata": {
    "collapsed": false
   },
   "outputs": [
    {
     "data": {
      "text/plain": [
       "50"
      ]
     },
     "execution_count": 42,
     "metadata": {},
     "output_type": "execute_result"
    }
   ],
   "source": [
    "listOfMODDATES = fulldata.MOD_DATE.unique()\n",
    "len(listOfMODDATES)"
   ]
  },
  {
   "cell_type": "code",
   "execution_count": 44,
   "metadata": {
    "collapsed": false
   },
   "outputs": [],
   "source": [
    "listOfMODDATES = sort(listOfMODDATES)\n",
    "timeIndex2 = listOfMODDATES"
   ]
  },
  {
   "cell_type": "code",
   "execution_count": 51,
   "metadata": {
    "collapsed": false
   },
   "outputs": [
    {
     "data": {
      "text/plain": [
       "array([  0.        ,   1.02040816,   2.04081633,   3.06122449,\n",
       "         4.08163265,   5.10204082,   6.12244898,   7.14285714,\n",
       "         8.16326531,   9.18367347,  10.20408163,  11.2244898 ,\n",
       "        12.24489796,  13.26530612,  14.28571429,  15.30612245,\n",
       "        16.32653061,  17.34693878,  18.36734694,  19.3877551 ,\n",
       "        20.40816327,  21.42857143,  22.44897959,  23.46938776,\n",
       "        24.48979592,  25.51020408,  26.53061224,  27.55102041,\n",
       "        28.57142857,  29.59183673,  30.6122449 ,  31.63265306,\n",
       "        32.65306122,  33.67346939,  34.69387755,  35.71428571,\n",
       "        36.73469388,  37.75510204,  38.7755102 ,  39.79591837,\n",
       "        40.81632653,  41.83673469,  42.85714286,  43.87755102,\n",
       "        44.89795918,  45.91836735,  46.93877551,  47.95918367,\n",
       "        48.97959184,  50.        ])"
      ]
     },
     "execution_count": 51,
     "metadata": {},
     "output_type": "execute_result"
    }
   ],
   "source": [
    "col1 = np.linspace(0,50,50)\n",
    "col1"
   ]
  },
  {
   "cell_type": "code",
   "execution_count": 54,
   "metadata": {
    "collapsed": false
   },
   "outputs": [
    {
     "data": {
      "text/plain": [
       "50"
      ]
     },
     "execution_count": 54,
     "metadata": {},
     "output_type": "execute_result"
    }
   ],
   "source": [
    "newDF = pd.DataFrame(index=timeIndex2,data=col1,columns=['dummy'])\n",
    "len(newDF)"
   ]
  },
  {
   "cell_type": "code",
   "execution_count": 213,
   "metadata": {
    "collapsed": false
   },
   "outputs": [
    {
     "name": "stdout",
     "output_type": "stream",
     "text": [
      "12\n"
     ]
    },
    {
     "data": {
      "text/html": [
       "<div style=\"max-height:1000px;max-width:1500px;overflow:auto;\">\n",
       "<table border=\"1\" class=\"dataframe\">\n",
       "  <thead>\n",
       "    <tr style=\"text-align: right;\">\n",
       "      <th></th>\n",
       "      <th>MOD_DATE</th>\n",
       "      <th>Odometer at time captured</th>\n",
       "      <th>Odometer captured data</th>\n",
       "    </tr>\n",
       "  </thead>\n",
       "  <tbody>\n",
       "    <tr>\n",
       "      <th>3556</th>\n",
       "      <td>2011-05-01</td>\n",
       "      <td>    30</td>\n",
       "      <td>2011-05-09</td>\n",
       "    </tr>\n",
       "    <tr>\n",
       "      <th>3557</th>\n",
       "      <td>2011-05-01</td>\n",
       "      <td>   524</td>\n",
       "      <td>2011-05-20</td>\n",
       "    </tr>\n",
       "    <tr>\n",
       "      <th>3558</th>\n",
       "      <td>2011-06-01</td>\n",
       "      <td>  1205</td>\n",
       "      <td>2011-06-09</td>\n",
       "    </tr>\n",
       "    <tr>\n",
       "      <th>3559</th>\n",
       "      <td>2011-07-01</td>\n",
       "      <td>  2000</td>\n",
       "      <td>2011-07-12</td>\n",
       "    </tr>\n",
       "    <tr>\n",
       "      <th>3560</th>\n",
       "      <td>2011-08-01</td>\n",
       "      <td>  3072</td>\n",
       "      <td>2011-08-07</td>\n",
       "    </tr>\n",
       "    <tr>\n",
       "      <th>3561</th>\n",
       "      <td>2011-09-01</td>\n",
       "      <td>  4104</td>\n",
       "      <td>2011-09-07</td>\n",
       "    </tr>\n",
       "    <tr>\n",
       "      <th>3562</th>\n",
       "      <td>2011-10-01</td>\n",
       "      <td>  4996</td>\n",
       "      <td>2011-10-06</td>\n",
       "    </tr>\n",
       "    <tr>\n",
       "      <th>3563</th>\n",
       "      <td>2011-11-01</td>\n",
       "      <td>  5878</td>\n",
       "      <td>2011-11-02</td>\n",
       "    </tr>\n",
       "    <tr>\n",
       "      <th>3564</th>\n",
       "      <td>2011-11-01</td>\n",
       "      <td>  5958</td>\n",
       "      <td>2011-11-05</td>\n",
       "    </tr>\n",
       "    <tr>\n",
       "      <th>3565</th>\n",
       "      <td>2013-06-01</td>\n",
       "      <td> 23304</td>\n",
       "      <td>2013-06-27</td>\n",
       "    </tr>\n",
       "    <tr>\n",
       "      <th>3566</th>\n",
       "      <td>2013-07-01</td>\n",
       "      <td> 24520</td>\n",
       "      <td>2013-07-28</td>\n",
       "    </tr>\n",
       "    <tr>\n",
       "      <th>3567</th>\n",
       "      <td>2013-09-01</td>\n",
       "      <td> 26487</td>\n",
       "      <td>2013-09-28</td>\n",
       "    </tr>\n",
       "  </tbody>\n",
       "</table>\n",
       "</div>"
      ],
      "text/plain": [
       "       MOD_DATE  Odometer at time captured Odometer captured data\n",
       "3556 2011-05-01                         30             2011-05-09\n",
       "3557 2011-05-01                        524             2011-05-20\n",
       "3558 2011-06-01                       1205             2011-06-09\n",
       "3559 2011-07-01                       2000             2011-07-12\n",
       "3560 2011-08-01                       3072             2011-08-07\n",
       "3561 2011-09-01                       4104             2011-09-07\n",
       "3562 2011-10-01                       4996             2011-10-06\n",
       "3563 2011-11-01                       5878             2011-11-02\n",
       "3564 2011-11-01                       5958             2011-11-05\n",
       "3565 2013-06-01                      23304             2013-06-27\n",
       "3566 2013-07-01                      24520             2013-07-28\n",
       "3567 2013-09-01                      26487             2013-09-28"
      ]
     },
     "execution_count": 213,
     "metadata": {},
     "output_type": "execute_result"
    }
   ],
   "source": [
    "print len(byDriver.get_group(188))\n",
    "byDriver.get_group(188)[['MOD_DATE','Odometer at time captured','Odometer captured data']]"
   ]
  },
  {
   "cell_type": "code",
   "execution_count": 65,
   "metadata": {
    "collapsed": false
   },
   "outputs": [],
   "source": [
    "df = byDriver.get_group(188)\n",
    "A = df[['MOD_DATE','Odometer at time captured','Odometer captured data']]\n",
    "A.drop_duplicates('MOD_DATE',take_last=True,inplace=True)"
   ]
  },
  {
   "cell_type": "code",
   "execution_count": 82,
   "metadata": {
    "collapsed": false
   },
   "outputs": [],
   "source": [
    "def returnDriverDF(grpDF,gp):\n",
    "    tdf = grpDF.get_group(gp)\n",
    "    A = tdf[['MOD_DATE','Odometer at time captured']]\n",
    "    A.drop_duplicates('MOD_DATE',take_last=True,inplace=True)\n",
    "    index = pd.Index(A.MOD_DATE)\n",
    "    cname = 'drvr'+str(gp)\n",
    "    B = pd.DataFrame(index=index,data=A['Odometer at time captured'].values,columns=[cname])\n",
    "    return B\n",
    "    \n",
    "    "
   ]
  },
  {
   "cell_type": "code",
   "execution_count": null,
   "metadata": {
    "collapsed": false
   },
   "outputs": [],
   "source": [
    "cc = returnDriverDF(byDriver,138)\n",
    "cc"
   ]
  },
  {
   "cell_type": "code",
   "execution_count": null,
   "metadata": {
    "collapsed": false
   },
   "outputs": [],
   "source": [
    "#now loop over the groups\n",
    "for gp in byDriver.groups.keys():\n",
    "    myDF = returnDriverDF(byDriver,gp)\n",
    "    newDF = pd.concat([newDF,myDF],axis=1)\n",
    "\n",
    "#newDF.drop('dummy',axis=1,inplace=True) #get rid of the initial dummy row\n",
    "print \"This study had {0} drivers over {1} Months.\".format(len(byDriver.groups.keys()),len(newDF))"
   ]
  },
  {
   "cell_type": "code",
   "execution_count": 96,
   "metadata": {
    "collapsed": false
   },
   "outputs": [],
   "source": [
    "newDF.drop('dummy',axis=1,inplace=True)"
   ]
  },
  {
   "cell_type": "code",
   "execution_count": null,
   "metadata": {
    "collapsed": false
   },
   "outputs": [],
   "source": [
    "outTSfile = 'driverMileagle.csv'\n",
    "newDF.to_csv(outTSfile)"
   ]
  },
  {
   "cell_type": "code",
   "execution_count": 103,
   "metadata": {
    "collapsed": false
   },
   "outputs": [
    {
     "data": {
      "text/plain": [
       "<matplotlib.axes._subplots.AxesSubplot at 0x1f127b38>"
      ]
     },
     "execution_count": 103,
     "metadata": {},
     "output_type": "execute_result"
    },
    {
     "data": {
      "image/png": "[encoded data removed]",
      "text/plain": [
       "<matplotlib.figure.Figure at 0x1f106898>"
      ]
     },
     "metadata": {},
     "output_type": "display_data"
    }
   ],
   "source": [
    "newDF[['drvr1','drvr2','drvr8']].plot()"
   ]
  },
  {
   "cell_type": "code",
   "execution_count": 109,
   "metadata": {
    "collapsed": false
   },
   "outputs": [
    {
     "data": {
      "text/plain": [
       "<matplotlib.text.Text at 0x1eced400>"
      ]
     },
     "execution_count": 109,
     "metadata": {},
     "output_type": "execute_result"
    },
    {
     "data": {
      "image/png": "[encoded data removed]",
      "text/plain": [
       "<matplotlib.figure.Figure at 0x158b33c8>"
      ]
     },
     "metadata": {},
     "output_type": "display_data"
    }
   ],
   "source": [
    "newDF.diff()[['drvr1','drvr8','drvr23','drvr333']].plot()\n",
    "ylabel('mileage')"
   ]
  },
  {
   "cell_type": "code",
   "execution_count": null,
   "metadata": {
    "collapsed": false
   },
   "outputs": [],
   "source": [
    "byDriver.ZIP5.unique()"
   ]
  },
  {
   "cell_type": "code",
   "execution_count": null,
   "metadata": {
    "collapsed": false
   },
   "outputs": [],
   "source": [
    "fulldata.ZIP5.value_counts()"
   ]
  },
  {
   "cell_type": "code",
   "execution_count": null,
   "metadata": {
    "collapsed": false
   },
   "outputs": [],
   "source": [
    "for g,df in byDriver:\n",
    "    if 45840.0 in df.ZIP5.unique():\n",
    "        print g, len(df)"
   ]
  },
  {
   "cell_type": "code",
   "execution_count": 123,
   "metadata": {
    "collapsed": false
   },
   "outputs": [
    {
     "data": {
      "text/plain": [
       "<matplotlib.legend.Legend at 0x2d76a588>"
      ]
     },
     "execution_count": 123,
     "metadata": {},
     "output_type": "execute_result"
    },
    {
     "data": {
      "image/png": "[encoded data removed]",
      "text/plain": [
       "<matplotlib.figure.Figure at 0x2a9664a8>"
      ]
     },
     "metadata": {},
     "output_type": "display_data"
    }
   ],
   "source": [
    "newDF.diff()[['drvr2867','drvr15088','drvr1290']].plot()\n",
    "ylabel('mileage')\n",
    "legend(loc=2)"
   ]
  },
  {
   "cell_type": "code",
   "execution_count": 131,
   "metadata": {
    "collapsed": false
   },
   "outputs": [
    {
     "data": {
      "text/plain": [
       "array([14148, 15088, Timestamp('2013-01-01 00:00:00'), 1241339649.0,\n",
       "       2942188.0, 2, nan, u'KR0AKSFNEB8', u'1G4HP52K75U192829', 18725,\n",
       "       Timestamp('2013-01-02 00:00:00'), u'.', u'.', u'.', nan, u'.', u'.',\n",
       "       u'.', u'.', u'.', u'.', u'.', nan, nan, nan, nan, u'.', u'.', u'.',\n",
       "       u'.', u'.', u'.', nan, nan, nan, nan, u'M',\n",
       "       Timestamp('1940-09-29 00:00:00'), 72, 2005.0, u'BUICK', u'LESABRE',\n",
       "       45840.0, 0, nan, nan], dtype=object)"
      ]
     },
     "execution_count": 131,
     "metadata": {},
     "output_type": "execute_result"
    }
   ],
   "source": [
    "tdf[tdf['MOD_DATE']=='2013-01-01']\n",
    "tdf.ix[281073].values"
   ]
  },
  {
   "cell_type": "code",
   "execution_count": 133,
   "metadata": {
    "collapsed": false
   },
   "outputs": [
    {
     "data": {
      "text/plain": [
       "Index([u'HH_ID', u'DRIVER_ID', u'MOD_DATE', u'Market_Unit_ID', u'POLICY_NUMBER', u'UNIQUE_DIGIT', u'CAR_NUMBER', u'FRED_ID', u'VIN', u'Odometer at time captured', u'Odometer captured data', u'Lower Net Worth Range', u'Upper Net Worth Range', u'Home ownership (1=yes)', u'Household Size', u'Young adult present', u'Senior Adult Present', u'Child Present', u'Lower Income Range (source 1)', u'Upper Income Range (source 1)', u'Lower Income Range (source 2)', u'Upper Income Range (source 2)', u'Martial Status', u'Length at Residence', u'Home Property Type', u'Home Property Type (Detailed)', u'Home Loan Amount', u'Home Equity Available', u'Home Equity Available (Lower)', u'Home Equity Available (Upper)', u'Home Value (Lower)', u'Home Value (Upper)', u'Occupation of person 1', u'Education of person 1', u'Occupation of person 2', u'Education of person 2', u'Gender of applicant', u'Applicant Birthdate', u'Applicant Age', u'CARYEAR', u'MAKE', u'MODEL', u'ZIP5', u'Claim Flag (1=Claim)', u'Cause of Loss Description', u'Amount Paid for Claim'], dtype='object')"
      ]
     },
     "execution_count": 133,
     "metadata": {},
     "output_type": "execute_result"
    }
   ],
   "source": [
    "fulldata.columns"
   ]
  },
  {
   "cell_type": "code",
   "execution_count": 151,
   "metadata": {
    "collapsed": false
   },
   "outputs": [
    {
     "data": {
      "text/plain": [
       "(50, 21486)"
      ]
     },
     "execution_count": 151,
     "metadata": {},
     "output_type": "execute_result"
    }
   ],
   "source": [
    "# create a pivot table for the values\n",
    "pvt = pd.pivot_table(fulldata,values='Odometer at time captured',index='MOD_DATE',columns='DRIVER_ID')\n",
    "shape(pvt)"
   ]
  },
  {
   "cell_type": "code",
   "execution_count": null,
   "metadata": {
    "collapsed": false
   },
   "outputs": [],
   "source": [
    "for i in pvt.columns:\n",
    "    print 'driver # {0} has {1} months of data'.format(i,sum(pvt[i].notnull()))"
   ]
  },
  {
   "cell_type": "markdown",
   "metadata": {},
   "source": [
    "## Interlude into the dates and odometers"
   ]
  },
  {
   "cell_type": "code",
   "execution_count": 25,
   "metadata": {
    "collapsed": false
   },
   "outputs": [],
   "source": [
    "def plotOdo(byDriver,grp):\n",
    "    mdIndex = byDriver.get_group(grp)['MOD_DATE'].values\n",
    "    nmonths = len(byDriver.get_group(grp)['MOD_DATE'].unique())\n",
    "    rdIndex = byDriver.get_group(grp)['OdoDate'].values\n",
    "    odovals = byDriver.get_group(grp)['Odometer'].values\n",
    "    print \"{0} time points reported; corresponding to {1} unique months.\".format(len(mdIndex),nmonths)\n",
    "#print mdIndex\n",
    "#print rdIndex\n",
    "    mddf = pd.DataFrame(index=mdIndex,data=odovals,columns=['Odo'])\n",
    "    rddf = pd.DataFrame(index=rdIndex,data=odovals,columns=['Odo'])\n",
    "    figure(figsize=(12,8))\n",
    "    mddf.plot(color='firebrick',marker='^',label='Mod')\n",
    "    #plot(mddf.index,mddf.Odo,color='firebrick',marker='^',label='Mod')\n",
    "    plot(rddf.index,rddf.Odo,color='cadetblue',marker='s',label='Act')\n",
    "    rmin = rddf.index.min()\n",
    "    rmax = rddf.index.max()\n",
    "    print \"First date is {0}, last date is {1}.\".format(rmin.strftime(format='%m-%d-%Y'),rmax.strftime(format='%m-%d-%Y'))\n",
    "    legend(loc=2)\n",
    "    #grid=True\n",
    "    return"
   ]
  },
  {
   "cell_type": "code",
   "execution_count": 26,
   "metadata": {
    "collapsed": false
   },
   "outputs": [
    {
     "name": "stdout",
     "output_type": "stream",
     "text": [
      "34 time points reported; corresponding to 28 unique months.\n",
      "First date is 03-02-2011, last date is 08-19-2013.\n"
     ]
    },
    {
     "data": {
      "text/plain": [
       "<matplotlib.figure.Figure at 0x3e608860>"
      ]
     },
     "metadata": {},
     "output_type": "display_data"
    },
    {
     "data": {
      "image/png": "[encoded data removed]",
      "text/plain": [
       "<matplotlib.figure.Figure at 0x3e608eb8>"
      ]
     },
     "metadata": {},
     "output_type": "display_data"
    }
   ],
   "source": [
    "plotOdo(byDriver,5)\n"
   ]
  },
  {
   "cell_type": "code",
   "execution_count": 304,
   "metadata": {
    "collapsed": false
   },
   "outputs": [
    {
     "data": {
      "text/plain": [
       "(array([ 1562.,  1986.,  1315.,  1993.,  1356.,   614.,  1418.,  1137.,\n",
       "          398.,   810.,   389.,   802.,   831.,   421.,   828.,   921.,\n",
       "          446.,   601.,   449.,   179.,   369.,   186.,   376.,   364.,\n",
       "          202.,   434.,   505.,   216.,   292.,    86.]),\n",
       " array([  1.        ,   2.63333333,   4.26666667,   5.9       ,\n",
       "          7.53333333,   9.16666667,  10.8       ,  12.43333333,\n",
       "         14.06666667,  15.7       ,  17.33333333,  18.96666667,\n",
       "         20.6       ,  22.23333333,  23.86666667,  25.5       ,\n",
       "         27.13333333,  28.76666667,  30.4       ,  32.03333333,\n",
       "         33.66666667,  35.3       ,  36.93333333,  38.56666667,\n",
       "         40.2       ,  41.83333333,  43.46666667,  45.1       ,\n",
       "         46.73333333,  48.36666667,  50.        ]),\n",
       " <a list of 30 Patch objects>)"
      ]
     },
     "execution_count": 304,
     "metadata": {},
     "output_type": "execute_result"
    },
    {
     "data": {
      "image/png": "[encoded data removed]",
      "text/plain": [
       "<matplotlib.figure.Figure at 0x1861c908>"
      ]
     },
     "metadata": {},
     "output_type": "display_data"
    }
   ],
   "source": [
    "hist(monthCounts,bins=30,color='forestgreen')\n"
   ]
  },
  {
   "cell_type": "code",
   "execution_count": 307,
   "metadata": {
    "collapsed": false
   },
   "outputs": [
    {
     "name": "stdout",
     "output_type": "stream",
     "text": [
      "Out of 21486 drivers, 11925 have more than 11 months of values.\n"
     ]
    }
   ],
   "source": [
    "# about half the drivers have > 1 year of data\n",
    "print \"Out of {0} drivers, {1} have more than 11 months of values.\".format(len(monthCounts),sum(monthCounts >11))"
   ]
  },
  {
   "cell_type": "code",
   "execution_count": 379,
   "metadata": {
    "collapsed": false
   },
   "outputs": [],
   "source": [
    "# I want a function that returns the 'top' value for a given column\n",
    "def topK(df,column_name,K=5):\n",
    "    vc = df[column_name].value_counts()\n",
    "    try:\n",
    "        ret_list = vc.index[:K-1]\n",
    "    except:\n",
    "        ret_list = [np.nan()]\n",
    "    return ret_list\n",
    "    \n",
    "#df.HH_ID.value_counts()\n",
    "\n",
    "def maptoFoundvalue(df,column_name,value=1):\n",
    "    # value is the value to check for and replace all by\n",
    "    ret_val = None\n",
    "    if value in df[column_name].unique():\n",
    "        ret_val = value\n",
    "        \n",
    "    return ret_val"
   ]
  },
  {
   "cell_type": "code",
   "execution_count": 412,
   "metadata": {
    "collapsed": false
   },
   "outputs": [],
   "source": []
  },
  {
   "cell_type": "code",
   "execution_count": 467,
   "metadata": {
    "collapsed": false
   },
   "outputs": [],
   "source": []
  },
  {
   "cell_type": "code",
   "execution_count": 477,
   "metadata": {
    "collapsed": false
   },
   "outputs": [],
   "source": []
  },
  {
   "cell_type": "code",
   "execution_count": 482,
   "metadata": {
    "collapsed": false
   },
   "outputs": [
    {
     "data": {
      "text/plain": [
       "Index([u'HH_ID', u'DRIVER_ID', u'MOD_DATE', u'Market_Unit_ID', u'POLICY_NUMBER', u'UNIQUE_DIGIT', u'CAR_NUMBER', u'FRED_ID', u'VIN', u'Odometer at time captured', u'Odometer captured data', u'Lower Net Worth Range', u'Upper Net Worth Range', u'Home ownership (1=yes)', u'Household Size', u'Young adult present', u'Senior Adult Present', u'Child Present', u'Lower Income Range (source 1)', u'Upper Income Range (source 1)', u'Lower Income Range (source 2)', u'Upper Income Range (source 2)', u'Martial Status', u'Length at Residence', u'Home Property Type', u'Home Property Type (Detailed)', u'Home Loan Amount', u'Home Equity Available', u'Home Equity Available (Lower)', u'Home Equity Available (Upper)', u'Home Value (Lower)', u'Home Value (Upper)', u'Occupation of person 1', u'Education of person 1', u'Occupation of person 2', u'Education of person 2', u'Gender of applicant', u'Applicant Birthdate', u'Applicant Age', u'CARYEAR', u'MAKE', u'MODEL', u'ZIP5', u'Claim Flag (1=Claim)', u'Cause of Loss Description', u'Amount Paid for Claim'], dtype='object')"
      ]
     },
     "execution_count": 482,
     "metadata": {},
     "output_type": "execute_result"
    }
   ],
   "source": [
    "columnList"
   ]
  },
  {
   "cell_type": "markdown",
   "metadata": {},
   "source": [
    "# now look for claims for each driver"
   ]
  },
  {
   "cell_type": "code",
   "execution_count": 525,
   "metadata": {
    "collapsed": false
   },
   "outputs": [],
   "source": []
  },
  {
   "cell_type": "code",
   "execution_count": 529,
   "metadata": {
    "collapsed": false
   },
   "outputs": [
    {
     "data": {
      "text/html": [
       "<div style=\"max-height:1000px;max-width:1500px;overflow:auto;\">\n",
       "<table border=\"1\" class=\"dataframe\">\n",
       "  <thead>\n",
       "    <tr style=\"text-align: right;\">\n",
       "      <th></th>\n",
       "      <th>amin</th>\n",
       "      <th>amax</th>\n",
       "      <th>Nmonths</th>\n",
       "      <th>Gender</th>\n",
       "      <th>Age</th>\n",
       "      <th>ZIP</th>\n",
       "      <th>OdoStart</th>\n",
       "      <th>OdoEnd</th>\n",
       "      <th>DeltaOdo</th>\n",
       "      <th>DeltaMth</th>\n",
       "      <th>AvgAnnual</th>\n",
       "      <th>ClaimTot</th>\n",
       "    </tr>\n",
       "    <tr>\n",
       "      <th>DRIVER_ID</th>\n",
       "      <th></th>\n",
       "      <th></th>\n",
       "      <th></th>\n",
       "      <th></th>\n",
       "      <th></th>\n",
       "      <th></th>\n",
       "      <th></th>\n",
       "      <th></th>\n",
       "      <th></th>\n",
       "      <th></th>\n",
       "      <th></th>\n",
       "      <th></th>\n",
       "    </tr>\n",
       "  </thead>\n",
       "  <tbody>\n",
       "    <tr>\n",
       "      <th>1</th>\n",
       "      <td>2010-02-01</td>\n",
       "      <td>2013-08-01</td>\n",
       "      <td> 42</td>\n",
       "      <td> M</td>\n",
       "      <td> 67</td>\n",
       "      <td> 43725</td>\n",
       "      <td> 27264</td>\n",
       "      <td>  59200</td>\n",
       "      <td> 31936</td>\n",
       "      <td>1277 days</td>\n",
       "      <td>  9134.396241</td>\n",
       "      <td> 8192.39</td>\n",
       "    </tr>\n",
       "    <tr>\n",
       "      <th>2</th>\n",
       "      <td>2010-04-01</td>\n",
       "      <td>2013-08-01</td>\n",
       "      <td> 41</td>\n",
       "      <td> F</td>\n",
       "      <td> 49</td>\n",
       "      <td> 44149</td>\n",
       "      <td> 53627</td>\n",
       "      <td> 131606</td>\n",
       "      <td> 77979</td>\n",
       "      <td>1218 days</td>\n",
       "      <td> 23384.096675</td>\n",
       "      <td>     NaN</td>\n",
       "    </tr>\n",
       "    <tr>\n",
       "      <th>3</th>\n",
       "      <td>2011-02-01</td>\n",
       "      <td>2011-06-01</td>\n",
       "      <td>  5</td>\n",
       "      <td> M</td>\n",
       "      <td> 41</td>\n",
       "      <td> 43123</td>\n",
       "      <td>  3098</td>\n",
       "      <td>  11122</td>\n",
       "      <td>  8024</td>\n",
       "      <td> 120 days</td>\n",
       "      <td> 24423.050000</td>\n",
       "      <td>  665.62</td>\n",
       "    </tr>\n",
       "    <tr>\n",
       "      <th>4</th>\n",
       "      <td>2013-03-01</td>\n",
       "      <td>2013-08-01</td>\n",
       "      <td>  6</td>\n",
       "      <td> M</td>\n",
       "      <td> 64</td>\n",
       "      <td> 44646</td>\n",
       "      <td>   114</td>\n",
       "      <td>   8400</td>\n",
       "      <td>  8286</td>\n",
       "      <td> 153 days</td>\n",
       "      <td> 19780.794118</td>\n",
       "      <td>     NaN</td>\n",
       "    </tr>\n",
       "    <tr>\n",
       "      <th>5</th>\n",
       "      <td>2011-03-01</td>\n",
       "      <td>2013-08-01</td>\n",
       "      <td> 28</td>\n",
       "      <td> M</td>\n",
       "      <td> 67</td>\n",
       "      <td> 43719</td>\n",
       "      <td>    11</td>\n",
       "      <td>  37222</td>\n",
       "      <td> 37211</td>\n",
       "      <td> 884 days</td>\n",
       "      <td> 15374.793835</td>\n",
       "      <td>  106.00</td>\n",
       "    </tr>\n",
       "  </tbody>\n",
       "</table>\n",
       "</div>"
      ],
      "text/plain": [
       "                amin       amax  Nmonths Gender  Age    ZIP  OdoStart  OdoEnd  \\\n",
       "DRIVER_ID                                                                       \n",
       "1         2010-02-01 2013-08-01       42      M   67  43725     27264   59200   \n",
       "2         2010-04-01 2013-08-01       41      F   49  44149     53627  131606   \n",
       "3         2011-02-01 2011-06-01        5      M   41  43123      3098   11122   \n",
       "4         2013-03-01 2013-08-01        6      M   64  44646       114    8400   \n",
       "5         2011-03-01 2013-08-01       28      M   67  43719        11   37222   \n",
       "\n",
       "           DeltaOdo  DeltaMth     AvgAnnual  ClaimTot  \n",
       "DRIVER_ID                                              \n",
       "1             31936 1277 days   9134.396241   8192.39  \n",
       "2             77979 1218 days  23384.096675       NaN  \n",
       "3              8024  120 days  24423.050000    665.62  \n",
       "4              8286  153 days  19780.794118       NaN  \n",
       "5             37211  884 days  15374.793835    106.00  "
      ]
     },
     "execution_count": 529,
     "metadata": {},
     "output_type": "execute_result"
    }
   ],
   "source": [
    "driverDemo.head()"
   ]
  },
  {
   "cell_type": "code",
   "execution_count": null,
   "metadata": {
    "collapsed": false
   },
   "outputs": [],
   "source": [
    "driverDemo.get(['AvgAnnual','ClaimTot'])\n"
   ]
  },
  {
   "cell_type": "code",
   "execution_count": null,
   "metadata": {
    "collapsed": false
   },
   "outputs": [],
   "source": [
    "for g,df in byDriver:\n",
    "    if df['Claim Flag (1=Claim)']"
   ]
  },
  {
   "cell_type": "code",
   "execution_count": 44,
   "metadata": {
    "collapsed": false
   },
   "outputs": [
    {
     "data": {
      "text/plain": [
       "1"
      ]
     },
     "execution_count": 44,
     "metadata": {},
     "output_type": "execute_result"
    }
   ],
   "source": [
    "byDriver.get_group(6)['ClaimFlag'].max()"
   ]
  },
  {
   "cell_type": "code",
   "execution_count": 593,
   "metadata": {
    "collapsed": false
   },
   "outputs": [
    {
     "data": {
      "text/html": [
       "<div style=\"max-height:1000px;max-width:1500px;overflow:auto;\">\n",
       "<table border=\"1\" class=\"dataframe\">\n",
       "  <thead>\n",
       "    <tr style=\"text-align: right;\">\n",
       "      <th></th>\n",
       "      <th>amin</th>\n",
       "      <th>amax</th>\n",
       "      <th>Nmonths</th>\n",
       "      <th>Gender</th>\n",
       "      <th>Age</th>\n",
       "      <th>ZIP</th>\n",
       "      <th>OdoStart</th>\n",
       "      <th>OdoEnd</th>\n",
       "      <th>DeltaOdo</th>\n",
       "      <th>DeltaMth</th>\n",
       "      <th>AvgAnnual</th>\n",
       "      <th>ClaimTot</th>\n",
       "      <th>ClaimFlag</th>\n",
       "    </tr>\n",
       "    <tr>\n",
       "      <th>DRIVER_ID</th>\n",
       "      <th></th>\n",
       "      <th></th>\n",
       "      <th></th>\n",
       "      <th></th>\n",
       "      <th></th>\n",
       "      <th></th>\n",
       "      <th></th>\n",
       "      <th></th>\n",
       "      <th></th>\n",
       "      <th></th>\n",
       "      <th></th>\n",
       "      <th></th>\n",
       "      <th></th>\n",
       "    </tr>\n",
       "  </thead>\n",
       "  <tbody>\n",
       "    <tr>\n",
       "      <th>1</th>\n",
       "      <td>2010-02-01</td>\n",
       "      <td>2013-08-01</td>\n",
       "      <td> 42</td>\n",
       "      <td> M</td>\n",
       "      <td> 67</td>\n",
       "      <td> 43725</td>\n",
       "      <td> 27264</td>\n",
       "      <td>  59200</td>\n",
       "      <td> 31936</td>\n",
       "      <td>1277 days</td>\n",
       "      <td>  9134.396241</td>\n",
       "      <td> 8192.39</td>\n",
       "      <td>  1</td>\n",
       "    </tr>\n",
       "    <tr>\n",
       "      <th>2</th>\n",
       "      <td>2010-04-01</td>\n",
       "      <td>2013-08-01</td>\n",
       "      <td> 41</td>\n",
       "      <td> F</td>\n",
       "      <td> 49</td>\n",
       "      <td> 44149</td>\n",
       "      <td> 53627</td>\n",
       "      <td> 131606</td>\n",
       "      <td> 77979</td>\n",
       "      <td>1218 days</td>\n",
       "      <td> 23384.096675</td>\n",
       "      <td>     NaN</td>\n",
       "      <td>NaN</td>\n",
       "    </tr>\n",
       "    <tr>\n",
       "      <th>3</th>\n",
       "      <td>2011-02-01</td>\n",
       "      <td>2011-06-01</td>\n",
       "      <td>  5</td>\n",
       "      <td> M</td>\n",
       "      <td> 41</td>\n",
       "      <td> 43123</td>\n",
       "      <td>  3098</td>\n",
       "      <td>  11122</td>\n",
       "      <td>  8024</td>\n",
       "      <td> 120 days</td>\n",
       "      <td> 24423.050000</td>\n",
       "      <td>  665.62</td>\n",
       "      <td>  1</td>\n",
       "    </tr>\n",
       "    <tr>\n",
       "      <th>4</th>\n",
       "      <td>2013-03-01</td>\n",
       "      <td>2013-08-01</td>\n",
       "      <td>  6</td>\n",
       "      <td> M</td>\n",
       "      <td> 64</td>\n",
       "      <td> 44646</td>\n",
       "      <td>   114</td>\n",
       "      <td>   8400</td>\n",
       "      <td>  8286</td>\n",
       "      <td> 153 days</td>\n",
       "      <td> 19780.794118</td>\n",
       "      <td>     NaN</td>\n",
       "      <td>NaN</td>\n",
       "    </tr>\n",
       "    <tr>\n",
       "      <th>5</th>\n",
       "      <td>2011-03-01</td>\n",
       "      <td>2013-08-01</td>\n",
       "      <td> 28</td>\n",
       "      <td> M</td>\n",
       "      <td> 67</td>\n",
       "      <td> 43719</td>\n",
       "      <td>    11</td>\n",
       "      <td>  37222</td>\n",
       "      <td> 37211</td>\n",
       "      <td> 884 days</td>\n",
       "      <td> 15374.793835</td>\n",
       "      <td>  106.00</td>\n",
       "      <td>  1</td>\n",
       "    </tr>\n",
       "  </tbody>\n",
       "</table>\n",
       "</div>"
      ],
      "text/plain": [
       "                amin       amax  Nmonths Gender  Age    ZIP  OdoStart  OdoEnd  \\\n",
       "DRIVER_ID                                                                       \n",
       "1         2010-02-01 2013-08-01       42      M   67  43725     27264   59200   \n",
       "2         2010-04-01 2013-08-01       41      F   49  44149     53627  131606   \n",
       "3         2011-02-01 2011-06-01        5      M   41  43123      3098   11122   \n",
       "4         2013-03-01 2013-08-01        6      M   64  44646       114    8400   \n",
       "5         2011-03-01 2013-08-01       28      M   67  43719        11   37222   \n",
       "\n",
       "           DeltaOdo  DeltaMth     AvgAnnual  ClaimTot  ClaimFlag  \n",
       "DRIVER_ID                                                         \n",
       "1             31936 1277 days   9134.396241   8192.39          1  \n",
       "2             77979 1218 days  23384.096675       NaN        NaN  \n",
       "3              8024  120 days  24423.050000    665.62          1  \n",
       "4              8286  153 days  19780.794118       NaN        NaN  \n",
       "5             37211  884 days  15374.793835    106.00          1  "
      ]
     },
     "execution_count": 593,
     "metadata": {},
     "output_type": "execute_result"
    }
   ],
   "source": [
    "driverDemo.head()"
   ]
  },
  {
   "cell_type": "markdown",
   "metadata": {},
   "source": [
    "## Load a file of zipcodes mapped to cities\n"
   ]
  },
  {
   "cell_type": "code",
   "execution_count": 652,
   "metadata": {
    "collapsed": false
   },
   "outputs": [
    {
     "name": "stdout",
     "output_type": "stream",
     "text": [
      "21484\n"
     ]
    }
   ],
   "source": [
    "driverDemo = driverDemo[driverDemo.ZIP.notnull()]\n",
    "nDrivers = len(driverDemo)\n",
    "print nDrivers"
   ]
  },
  {
   "cell_type": "code",
   "execution_count": 655,
   "metadata": {
    "collapsed": false
   },
   "outputs": [
    {
     "data": {
      "text/plain": [
       "865"
      ]
     },
     "execution_count": 655,
     "metadata": {},
     "output_type": "execute_result"
    }
   ],
   "source": [
    "len(driverDemo[driverDemo['DeltaMth'] < 1])"
   ]
  },
  {
   "cell_type": "code",
   "execution_count": 656,
   "metadata": {
    "collapsed": false
   },
   "outputs": [
    {
     "name": "stdout",
     "output_type": "stream",
     "text": [
      "20619\n"
     ]
    }
   ],
   "source": []
  },
  {
   "cell_type": "code",
   "execution_count": 660,
   "metadata": {
    "collapsed": false
   },
   "outputs": [
    {
     "data": {
      "text/plain": [
       "<matplotlib.axes._subplots.AxesSubplot at 0x252f23c8>"
      ]
     },
     "execution_count": 660,
     "metadata": {},
     "output_type": "execute_result"
    },
    {
     "data": {
      "image/png": "[encoded data removed]",
      "text/plain": [
       "<matplotlib.figure.Figure at 0x29678b00>"
      ]
     },
     "metadata": {},
     "output_type": "display_data"
    }
   ],
   "source": []
  },
  {
   "cell_type": "code",
   "execution_count": 661,
   "metadata": {
    "collapsed": false
   },
   "outputs": [
    {
     "data": {
      "text/plain": [
       "<matplotlib.collections.PathCollection at 0x274b87f0>"
      ]
     },
     "execution_count": 661,
     "metadata": {},
     "output_type": "execute_result"
    },
    {
     "data": {
      "image/png": "[encoded data removed]",
      "text/plain": [
       "<matplotlib.figure.Figure at 0x29678748>"
      ]
     },
     "metadata": {},
     "output_type": "display_data"
    }
   ],
   "source": []
  },
  {
   "cell_type": "code",
   "execution_count": null,
   "metadata": {
    "collapsed": false
   },
   "outputs": [],
   "source": []
  },
  {
   "cell_type": "code",
   "execution_count": null,
   "metadata": {
    "collapsed": false
   },
   "outputs": [],
   "source": []
  },
  {
   "cell_type": "markdown",
   "metadata": {},
   "source": [
    "## copy the correct estimated population into the driverDemo data frame"
   ]
  },
  {
   "cell_type": "code",
   "execution_count": 636,
   "metadata": {
    "collapsed": false
   },
   "outputs": [
    {
     "data": {
      "text/plain": [
       "(1069, 88)"
      ]
     },
     "execution_count": 636,
     "metadata": {},
     "output_type": "execute_result"
    }
   ],
   "source": [
    "len(ohiozip.primary_city.value_counts()), len(ohiozip.county.value_counts())"
   ]
  },
  {
   "cell_type": "code",
   "execution_count": 644,
   "metadata": {
    "collapsed": false
   },
   "outputs": [],
   "source": [
    "\n"
   ]
  },
  {
   "cell_type": "code",
   "execution_count": null,
   "metadata": {
    "collapsed": false
   },
   "outputs": [],
   "source": []
  },
  {
   "cell_type": "code",
   "execution_count": 351,
   "metadata": {
    "collapsed": false
   },
   "outputs": [
    {
     "name": "stdout",
     "output_type": "stream",
     "text": [
      "absent\n"
     ]
    }
   ],
   "source": [
    "if 1 in byDriver.get_group(3)['Home ownership (1=yes)'].unique():\n",
    "    print 'found 1'\n",
    "else: \n",
    "    print 'absent'"
   ]
  },
  {
   "cell_type": "code",
   "execution_count": 388,
   "metadata": {
    "collapsed": false
   },
   "outputs": [],
   "source": [
    "maptoFoundvalue(byDriver.get_group(38),'Martial Status','MARRIED')"
   ]
  },
  {
   "cell_type": "code",
   "execution_count": 391,
   "metadata": {
    "collapsed": false
   },
   "outputs": [
    {
     "data": {
      "text/plain": [
       "INFERRED MARRIED    4\n",
       "SINGLE              2\n",
       "dtype: int64"
      ]
     },
     "execution_count": 391,
     "metadata": {},
     "output_type": "execute_result"
    }
   ],
   "source": [
    "byDriver.get_group(21)['Martial Status'].value_counts()"
   ]
  },
  {
   "cell_type": "code",
   "execution_count": 380,
   "metadata": {
    "collapsed": false
   },
   "outputs": [
    {
     "data": {
      "text/plain": [
       "array([nan, u'MARRIED', u'SINGLE', u'INFERRED MARRIED', u'INFERRED SINGLE'], dtype=object)"
      ]
     },
     "execution_count": 380,
     "metadata": {},
     "output_type": "execute_result"
    }
   ],
   "source": [
    "fulldata['Martial Status'].unique()"
   ]
  },
  {
   "cell_type": "code",
   "execution_count": 392,
   "metadata": {
    "collapsed": false
   },
   "outputs": [
    {
     "data": {
      "text/plain": [
       "Float64Index([43123.0, 45458.0], dtype='float64')"
      ]
     },
     "execution_count": 392,
     "metadata": {},
     "output_type": "execute_result"
    }
   ],
   "source": [
    "topK(byDriver.get_group(3),'ZIP5',3)"
   ]
  },
  {
   "cell_type": "code",
   "execution_count": 393,
   "metadata": {
    "collapsed": false
   },
   "outputs": [
    {
     "data": {
      "text/plain": [
       "43123    7\n",
       "45458    2\n",
       "43223    1\n",
       "43228    1\n",
       "dtype: int64"
      ]
     },
     "execution_count": 393,
     "metadata": {},
     "output_type": "execute_result"
    }
   ],
   "source": [
    "byDriver.get_group(3).ZIP5.value_counts()"
   ]
  },
  {
   "cell_type": "code",
   "execution_count": 373,
   "metadata": {
    "collapsed": false
   },
   "outputs": [
    {
     "data": {
      "text/plain": [
       "0"
      ]
     },
     "execution_count": 373,
     "metadata": {},
     "output_type": "execute_result"
    }
   ],
   "source": [
    "maptoFoundvalue(byDriver.get_group(21338), 'Home ownership (1=yes)')\n"
   ]
  },
  {
   "cell_type": "code",
   "execution_count": 354,
   "metadata": {
    "collapsed": false
   },
   "outputs": [
    {
     "data": {
      "text/plain": [
       "0"
      ]
     },
     "execution_count": 354,
     "metadata": {},
     "output_type": "execute_result"
    }
   ],
   "source": [
    "fulldata['Senior Adult Present'].value_counts().index[0]"
   ]
  },
  {
   "cell_type": "code",
   "execution_count": 336,
   "metadata": {
    "collapsed": false
   },
   "outputs": [
    {
     "data": {
      "text/plain": [
       "1    213176\n",
       ".    107978\n",
       "0     80294\n",
       "dtype: int64"
      ]
     },
     "execution_count": 336,
     "metadata": {},
     "output_type": "execute_result"
    }
   ],
   "source": [
    "fulldata['Home ownership (1=yes)'].value_counts()"
   ]
  },
  {
   "cell_type": "code",
   "execution_count": 308,
   "metadata": {
    "collapsed": false
   },
   "outputs": [
    {
     "data": {
      "text/plain": [
       "Index([u'HH_ID', u'DRIVER_ID', u'MOD_DATE', u'Market_Unit_ID', u'POLICY_NUMBER', u'UNIQUE_DIGIT', u'CAR_NUMBER', u'FRED_ID', u'VIN', u'Odometer at time captured', u'Odometer captured data', u'Lower Net Worth Range', u'Upper Net Worth Range', u'Home ownership (1=yes)', u'Household Size', u'Young adult present', u'Senior Adult Present', u'Child Present', u'Lower Income Range (source 1)', u'Upper Income Range (source 1)', u'Lower Income Range (source 2)', u'Upper Income Range (source 2)', u'Martial Status', u'Length at Residence', u'Home Property Type', u'Home Property Type (Detailed)', u'Home Loan Amount', u'Home Equity Available', u'Home Equity Available (Lower)', u'Home Equity Available (Upper)', u'Home Value (Lower)', u'Home Value (Upper)', u'Occupation of person 1', u'Education of person 1', u'Occupation of person 2', u'Education of person 2', u'Gender of applicant', u'Applicant Birthdate', u'Applicant Age', u'CARYEAR', u'MAKE', u'MODEL', u'ZIP5', u'Claim Flag (1=Claim)', u'Cause of Loss Description', u'Amount Paid for Claim'], dtype='object')"
      ]
     },
     "execution_count": 308,
     "metadata": {},
     "output_type": "execute_result"
    }
   ],
   "source": [
    "columnList"
   ]
  },
  {
   "cell_type": "code",
   "execution_count": null,
   "metadata": {
    "collapsed": false
   },
   "outputs": [],
   "source": []
  },
  {
   "cell_type": "code",
   "execution_count": 323,
   "metadata": {
    "collapsed": false
   },
   "outputs": [
    {
     "data": {
      "text/html": [
       "<div style=\"max-height:1000px;max-width:1500px;overflow:auto;\">\n",
       "<table border=\"1\" class=\"dataframe\">\n",
       "  <thead>\n",
       "    <tr style=\"text-align: right;\">\n",
       "      <th>DRIVER_ID</th>\n",
       "      <th>1</th>\n",
       "      <th>2</th>\n",
       "      <th>3</th>\n",
       "      <th>4</th>\n",
       "      <th>5</th>\n",
       "      <th>6</th>\n",
       "      <th>7</th>\n",
       "      <th>8</th>\n",
       "      <th>9</th>\n",
       "      <th>10</th>\n",
       "      <th>...</th>\n",
       "      <th>21477</th>\n",
       "      <th>21478</th>\n",
       "      <th>21479</th>\n",
       "      <th>21480</th>\n",
       "      <th>21481</th>\n",
       "      <th>21482</th>\n",
       "      <th>21483</th>\n",
       "      <th>21484</th>\n",
       "      <th>21485</th>\n",
       "      <th>21486</th>\n",
       "    </tr>\n",
       "    <tr>\n",
       "      <th>MOD_DATE</th>\n",
       "      <th></th>\n",
       "      <th></th>\n",
       "      <th></th>\n",
       "      <th></th>\n",
       "      <th></th>\n",
       "      <th></th>\n",
       "      <th></th>\n",
       "      <th></th>\n",
       "      <th></th>\n",
       "      <th></th>\n",
       "      <th></th>\n",
       "      <th></th>\n",
       "      <th></th>\n",
       "      <th></th>\n",
       "      <th></th>\n",
       "      <th></th>\n",
       "      <th></th>\n",
       "      <th></th>\n",
       "      <th></th>\n",
       "      <th></th>\n",
       "      <th></th>\n",
       "    </tr>\n",
       "  </thead>\n",
       "  <tbody>\n",
       "    <tr>\n",
       "      <th>2009-12-31</th>\n",
       "      <td>  5</td>\n",
       "      <td>  5</td>\n",
       "      <td>  5</td>\n",
       "      <td>  5</td>\n",
       "      <td>  5</td>\n",
       "      <td>  5</td>\n",
       "      <td>  5</td>\n",
       "      <td>  5</td>\n",
       "      <td>  5</td>\n",
       "      <td>  5</td>\n",
       "      <td>...</td>\n",
       "      <td>  5</td>\n",
       "      <td>  5</td>\n",
       "      <td>  5</td>\n",
       "      <td>  5</td>\n",
       "      <td>  5</td>\n",
       "      <td>  5</td>\n",
       "      <td>  5</td>\n",
       "      <td>  5</td>\n",
       "      <td>  5</td>\n",
       "      <td>  5</td>\n",
       "    </tr>\n",
       "    <tr>\n",
       "      <th>2010-12-31</th>\n",
       "      <td> 12</td>\n",
       "      <td> 12</td>\n",
       "      <td> 12</td>\n",
       "      <td> 12</td>\n",
       "      <td> 12</td>\n",
       "      <td> 12</td>\n",
       "      <td> 12</td>\n",
       "      <td> 12</td>\n",
       "      <td> 12</td>\n",
       "      <td> 12</td>\n",
       "      <td>...</td>\n",
       "      <td> 12</td>\n",
       "      <td> 12</td>\n",
       "      <td> 12</td>\n",
       "      <td> 12</td>\n",
       "      <td> 12</td>\n",
       "      <td> 12</td>\n",
       "      <td> 12</td>\n",
       "      <td> 12</td>\n",
       "      <td> 12</td>\n",
       "      <td> 12</td>\n",
       "    </tr>\n",
       "    <tr>\n",
       "      <th>2011-12-31</th>\n",
       "      <td> 12</td>\n",
       "      <td> 12</td>\n",
       "      <td> 12</td>\n",
       "      <td> 12</td>\n",
       "      <td> 12</td>\n",
       "      <td> 12</td>\n",
       "      <td> 12</td>\n",
       "      <td> 12</td>\n",
       "      <td> 12</td>\n",
       "      <td> 12</td>\n",
       "      <td>...</td>\n",
       "      <td> 12</td>\n",
       "      <td> 12</td>\n",
       "      <td> 12</td>\n",
       "      <td> 12</td>\n",
       "      <td> 12</td>\n",
       "      <td> 12</td>\n",
       "      <td> 12</td>\n",
       "      <td> 12</td>\n",
       "      <td> 12</td>\n",
       "      <td> 12</td>\n",
       "    </tr>\n",
       "    <tr>\n",
       "      <th>2012-12-31</th>\n",
       "      <td> 12</td>\n",
       "      <td> 12</td>\n",
       "      <td> 12</td>\n",
       "      <td> 12</td>\n",
       "      <td> 12</td>\n",
       "      <td> 12</td>\n",
       "      <td> 12</td>\n",
       "      <td> 12</td>\n",
       "      <td> 12</td>\n",
       "      <td> 12</td>\n",
       "      <td>...</td>\n",
       "      <td> 12</td>\n",
       "      <td> 12</td>\n",
       "      <td> 12</td>\n",
       "      <td> 12</td>\n",
       "      <td> 12</td>\n",
       "      <td> 12</td>\n",
       "      <td> 12</td>\n",
       "      <td> 12</td>\n",
       "      <td> 12</td>\n",
       "      <td> 12</td>\n",
       "    </tr>\n",
       "    <tr>\n",
       "      <th>2013-12-31</th>\n",
       "      <td>  9</td>\n",
       "      <td>  9</td>\n",
       "      <td>  9</td>\n",
       "      <td>  9</td>\n",
       "      <td>  9</td>\n",
       "      <td>  9</td>\n",
       "      <td>  9</td>\n",
       "      <td>  9</td>\n",
       "      <td>  9</td>\n",
       "      <td>  9</td>\n",
       "      <td>...</td>\n",
       "      <td>  9</td>\n",
       "      <td>  9</td>\n",
       "      <td>  9</td>\n",
       "      <td>  9</td>\n",
       "      <td>  9</td>\n",
       "      <td>  9</td>\n",
       "      <td>  9</td>\n",
       "      <td>  9</td>\n",
       "      <td>  9</td>\n",
       "      <td>  9</td>\n",
       "    </tr>\n",
       "  </tbody>\n",
       "</table>\n",
       "<p>5 rows × 21486 columns</p>\n",
       "</div>"
      ],
      "text/plain": [
       "DRIVER_ID   1      2      3      4      5      6      7      8      9      \\\n",
       "MOD_DATE                                                                    \n",
       "2009-12-31      5      5      5      5      5      5      5      5      5   \n",
       "2010-12-31     12     12     12     12     12     12     12     12     12   \n",
       "2011-12-31     12     12     12     12     12     12     12     12     12   \n",
       "2012-12-31     12     12     12     12     12     12     12     12     12   \n",
       "2013-12-31      9      9      9      9      9      9      9      9      9   \n",
       "\n",
       "DRIVER_ID   10     ...    21477  21478  21479  21480  21481  21482  21483  \\\n",
       "MOD_DATE           ...                                                      \n",
       "2009-12-31      5  ...        5      5      5      5      5      5      5   \n",
       "2010-12-31     12  ...       12     12     12     12     12     12     12   \n",
       "2011-12-31     12  ...       12     12     12     12     12     12     12   \n",
       "2012-12-31     12  ...       12     12     12     12     12     12     12   \n",
       "2013-12-31      9  ...        9      9      9      9      9      9      9   \n",
       "\n",
       "DRIVER_ID   21484  21485  21486  \n",
       "MOD_DATE                         \n",
       "2009-12-31      5      5      5  \n",
       "2010-12-31     12     12     12  \n",
       "2011-12-31     12     12     12  \n",
       "2012-12-31     12     12     12  \n",
       "2013-12-31      9      9      9  \n",
       "\n",
       "[5 rows x 21486 columns]"
      ]
     },
     "execution_count": 323,
     "metadata": {},
     "output_type": "execute_result"
    }
   ],
   "source": [
    "pvt.resample('A', how=len)"
   ]
  },
  {
   "cell_type": "code",
   "execution_count": null,
   "metadata": {
    "collapsed": false
   },
   "outputs": [],
   "source": [
    "byDriver.agg(lambda x: x.value_counts().index[0])\n",
    "#source.groupby(['Country','City']).agg(lambda x:x.value_counts().index[0])"
   ]
  },
  {
   "cell_type": "code",
   "execution_count": 37,
   "metadata": {
    "collapsed": false
   },
   "outputs": [],
   "source": [
    "timeIndex = pd.date_range(firstdate,lastdate,freq='M',name='Monthly')"
   ]
  },
  {
   "cell_type": "markdown",
   "metadata": {},
   "source": [
    "# begin by running with the pvt data \n",
    "###note that these values for cases with multiple MOD_DATE are averages."
   ]
  },
  {
   "cell_type": "code",
   "execution_count": 325,
   "metadata": {
    "collapsed": false
   },
   "outputs": [
    {
     "data": {
      "text/html": [
       "<div style=\"max-height:1000px;max-width:1500px;overflow:auto;\">\n",
       "<table border=\"1\" class=\"dataframe\">\n",
       "  <thead>\n",
       "    <tr style=\"text-align: right;\">\n",
       "      <th>DRIVER_ID</th>\n",
       "      <th>1</th>\n",
       "      <th>2</th>\n",
       "      <th>3</th>\n",
       "      <th>4</th>\n",
       "      <th>5</th>\n",
       "      <th>6</th>\n",
       "      <th>7</th>\n",
       "      <th>8</th>\n",
       "      <th>9</th>\n",
       "      <th>10</th>\n",
       "      <th>...</th>\n",
       "      <th>21477</th>\n",
       "      <th>21478</th>\n",
       "      <th>21479</th>\n",
       "      <th>21480</th>\n",
       "      <th>21481</th>\n",
       "      <th>21482</th>\n",
       "      <th>21483</th>\n",
       "      <th>21484</th>\n",
       "      <th>21485</th>\n",
       "      <th>21486</th>\n",
       "    </tr>\n",
       "    <tr>\n",
       "      <th>MOD_DATE</th>\n",
       "      <th></th>\n",
       "      <th></th>\n",
       "      <th></th>\n",
       "      <th></th>\n",
       "      <th></th>\n",
       "      <th></th>\n",
       "      <th></th>\n",
       "      <th></th>\n",
       "      <th></th>\n",
       "      <th></th>\n",
       "      <th></th>\n",
       "      <th></th>\n",
       "      <th></th>\n",
       "      <th></th>\n",
       "      <th></th>\n",
       "      <th></th>\n",
       "      <th></th>\n",
       "      <th></th>\n",
       "      <th></th>\n",
       "      <th></th>\n",
       "      <th></th>\n",
       "    </tr>\n",
       "  </thead>\n",
       "  <tbody>\n",
       "    <tr>\n",
       "      <th>2009-08-01</th>\n",
       "      <td>NaN</td>\n",
       "      <td>NaN</td>\n",
       "      <td>NaN</td>\n",
       "      <td>NaN</td>\n",
       "      <td>NaN</td>\n",
       "      <td>  NaN</td>\n",
       "      <td>NaN</td>\n",
       "      <td>NaN</td>\n",
       "      <td>NaN</td>\n",
       "      <td>NaN</td>\n",
       "      <td>...</td>\n",
       "      <td>NaN</td>\n",
       "      <td>NaN</td>\n",
       "      <td>NaN</td>\n",
       "      <td>NaN</td>\n",
       "      <td>NaN</td>\n",
       "      <td>NaN</td>\n",
       "      <td>NaN</td>\n",
       "      <td>  NaN</td>\n",
       "      <td>NaN</td>\n",
       "      <td>NaN</td>\n",
       "    </tr>\n",
       "    <tr>\n",
       "      <th>2009-09-01</th>\n",
       "      <td>NaN</td>\n",
       "      <td>NaN</td>\n",
       "      <td>NaN</td>\n",
       "      <td>NaN</td>\n",
       "      <td>NaN</td>\n",
       "      <td> 1077</td>\n",
       "      <td>NaN</td>\n",
       "      <td>NaN</td>\n",
       "      <td>NaN</td>\n",
       "      <td>NaN</td>\n",
       "      <td>...</td>\n",
       "      <td>NaN</td>\n",
       "      <td>NaN</td>\n",
       "      <td>NaN</td>\n",
       "      <td>NaN</td>\n",
       "      <td>NaN</td>\n",
       "      <td>NaN</td>\n",
       "      <td>NaN</td>\n",
       "      <td>  NaN</td>\n",
       "      <td>NaN</td>\n",
       "      <td>NaN</td>\n",
       "    </tr>\n",
       "    <tr>\n",
       "      <th>2009-10-01</th>\n",
       "      <td>NaN</td>\n",
       "      <td>NaN</td>\n",
       "      <td>NaN</td>\n",
       "      <td>NaN</td>\n",
       "      <td>NaN</td>\n",
       "      <td> 1133</td>\n",
       "      <td>NaN</td>\n",
       "      <td>NaN</td>\n",
       "      <td>NaN</td>\n",
       "      <td>NaN</td>\n",
       "      <td>...</td>\n",
       "      <td>NaN</td>\n",
       "      <td>NaN</td>\n",
       "      <td>NaN</td>\n",
       "      <td>NaN</td>\n",
       "      <td>NaN</td>\n",
       "      <td>NaN</td>\n",
       "      <td>NaN</td>\n",
       "      <td>  NaN</td>\n",
       "      <td>NaN</td>\n",
       "      <td>NaN</td>\n",
       "    </tr>\n",
       "    <tr>\n",
       "      <th>2009-11-01</th>\n",
       "      <td>NaN</td>\n",
       "      <td>NaN</td>\n",
       "      <td>NaN</td>\n",
       "      <td>NaN</td>\n",
       "      <td>NaN</td>\n",
       "      <td>  821</td>\n",
       "      <td>NaN</td>\n",
       "      <td>NaN</td>\n",
       "      <td>NaN</td>\n",
       "      <td>NaN</td>\n",
       "      <td>...</td>\n",
       "      <td>NaN</td>\n",
       "      <td>NaN</td>\n",
       "      <td>NaN</td>\n",
       "      <td>NaN</td>\n",
       "      <td>NaN</td>\n",
       "      <td>NaN</td>\n",
       "      <td>NaN</td>\n",
       "      <td> 1001</td>\n",
       "      <td>NaN</td>\n",
       "      <td>NaN</td>\n",
       "    </tr>\n",
       "    <tr>\n",
       "      <th>2009-12-01</th>\n",
       "      <td>NaN</td>\n",
       "      <td>NaN</td>\n",
       "      <td>NaN</td>\n",
       "      <td>NaN</td>\n",
       "      <td>NaN</td>\n",
       "      <td>  965</td>\n",
       "      <td>NaN</td>\n",
       "      <td>NaN</td>\n",
       "      <td>NaN</td>\n",
       "      <td>NaN</td>\n",
       "      <td>...</td>\n",
       "      <td>NaN</td>\n",
       "      <td>NaN</td>\n",
       "      <td>NaN</td>\n",
       "      <td>NaN</td>\n",
       "      <td>NaN</td>\n",
       "      <td>NaN</td>\n",
       "      <td>NaN</td>\n",
       "      <td>  336</td>\n",
       "      <td>NaN</td>\n",
       "      <td>NaN</td>\n",
       "    </tr>\n",
       "  </tbody>\n",
       "</table>\n",
       "<p>5 rows × 21486 columns</p>\n",
       "</div>"
      ],
      "text/plain": [
       "DRIVER_ID   1      2      3      4      5      6      7      8      9      \\\n",
       "MOD_DATE                                                                    \n",
       "2009-08-01    NaN    NaN    NaN    NaN    NaN    NaN    NaN    NaN    NaN   \n",
       "2009-09-01    NaN    NaN    NaN    NaN    NaN   1077    NaN    NaN    NaN   \n",
       "2009-10-01    NaN    NaN    NaN    NaN    NaN   1133    NaN    NaN    NaN   \n",
       "2009-11-01    NaN    NaN    NaN    NaN    NaN    821    NaN    NaN    NaN   \n",
       "2009-12-01    NaN    NaN    NaN    NaN    NaN    965    NaN    NaN    NaN   \n",
       "\n",
       "DRIVER_ID   10     ...    21477  21478  21479  21480  21481  21482  21483  \\\n",
       "MOD_DATE           ...                                                      \n",
       "2009-08-01    NaN  ...      NaN    NaN    NaN    NaN    NaN    NaN    NaN   \n",
       "2009-09-01    NaN  ...      NaN    NaN    NaN    NaN    NaN    NaN    NaN   \n",
       "2009-10-01    NaN  ...      NaN    NaN    NaN    NaN    NaN    NaN    NaN   \n",
       "2009-11-01    NaN  ...      NaN    NaN    NaN    NaN    NaN    NaN    NaN   \n",
       "2009-12-01    NaN  ...      NaN    NaN    NaN    NaN    NaN    NaN    NaN   \n",
       "\n",
       "DRIVER_ID   21484  21485  21486  \n",
       "MOD_DATE                         \n",
       "2009-08-01    NaN    NaN    NaN  \n",
       "2009-09-01    NaN    NaN    NaN  \n",
       "2009-10-01    NaN    NaN    NaN  \n",
       "2009-11-01   1001    NaN    NaN  \n",
       "2009-12-01    336    NaN    NaN  \n",
       "\n",
       "[5 rows x 21486 columns]"
      ]
     },
     "execution_count": 325,
     "metadata": {},
     "output_type": "execute_result"
    }
   ],
   "source": [
    "pvt.diff().head()"
   ]
  },
  {
   "cell_type": "code",
   "execution_count": null,
   "metadata": {
    "collapsed": false
   },
   "outputs": [],
   "source": [
    "# take the 10 most complete examples\n",
    "pvt.\n",
    "zipcode_incident_table = orig_data.groupby(['Incident Zip', 'Complaint Type'])['Descriptor'].aggregate(len).unstack()"
   ]
  }
 ],
 "metadata": {
  "kernelspec": {
   "display_name": "Python 2",
   "language": "python",
   "name": "python2"
  },
  "language_info": {
   "codemirror_mode": {
    "name": "ipython",
    "version": 2
   },
   "file_extension": ".py",
   "mimetype": "text/x-python",
   "name": "python",
   "nbconvert_exporter": "python",
   "pygments_lexer": "ipython2",
   "version": "2.7.9"
  }
 },
 "nbformat": 4,
 "nbformat_minor": 0
}
