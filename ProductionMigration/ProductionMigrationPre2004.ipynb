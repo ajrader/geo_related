{
 "metadata": {
  "name": "",
  "signature": "sha256:5fc450ae54822004c496ca64e7dd19d0be1fac6453f4accacc01e5bc0111217b"
 },
 "nbformat": 3,
 "nbformat_minor": 0,
 "worksheets": [
  {
   "cells": [
    {
     "cell_type": "code",
     "collapsed": false,
     "input": [
      "cd C:\\Users\\KES1\\Documents\\Production Migration Project\\Pre2004\\County"
     ],
     "language": "python",
     "metadata": {},
     "outputs": [
      {
       "output_type": "stream",
       "stream": "stdout",
       "text": [
        "C:\\Users\\KES1\\Documents\\Production Migration Project\\Pre2004\\County\n"
       ]
      }
     ],
     "prompt_number": 1
    },
    {
     "cell_type": "markdown",
     "metadata": {},
     "source": [
      "# Migration work\n",
      "\n",
      "### Migration IRS details\n",
      "####XLS details\n",
      "* Title cell A1\n",
      "* State name A6\n",
      "* Data starts row 9\n",
      "\n",
      "#### Inflow\n",
      "1. Inflow Destination (FIPS)  A9, B9\n",
      "2. Inflow Origination (FIPS or special) C9, D9,\n",
      "3. Origin state/title, county name,  E9, F9\n",
      "4. Number of returns, G9\n",
      "5. Number of exemptions, H9\n",
      "6. Number of Agg total money income, I9\n",
      "\n",
      "#### Outflow\n",
      "1. Outflow Origination (FIPS)\n",
      "2. Outflow Destination (FIPS or special)\n",
      "3. Destination state/title, county name\n",
      "4. Number of returns\n",
      "5. Number of exemptions\n",
      "6. Number of Agg total money income\n",
      "\n"
     ]
    },
    {
     "cell_type": "code",
     "collapsed": false,
     "input": [
      "import numpy as np\n",
      "import pandas as pd\n",
      "import matplotlib.pyplot as plt\n",
      "\n",
      "import xlrd\n",
      "\n",
      "#def load_irs_xls(file_name):\n",
      "    "
     ],
     "language": "python",
     "metadata": {},
     "outputs": [],
     "prompt_number": 19
    },
    {
     "cell_type": "code",
     "collapsed": false,
     "input": [
      "\n",
      "file_name = \"C9293Cai.xls\"\n",
      "\n",
      "wkbk = xlrd.open_workbook(file_name)\n",
      "sheet = wkbk.sheet_by_index(0)\n"
     ],
     "language": "python",
     "metadata": {},
     "outputs": [],
     "prompt_number": 8
    },
    {
     "cell_type": "code",
     "collapsed": false,
     "input": [
      "title = sheet.cell_value(0,0)\n",
      "state_name = sheet.cell_value(5,0)\n",
      "\n",
      "#for r in range(8,sheet.nrows):\n",
      "\n",
      "r=8\n",
      "primary_state = sheet.cell_value(r,0)\n",
      "primary_county = sheet.cell_value(r,1)\n",
      "secondary_state = sheet.cell_value(r,2)\n",
      "secondary_county = sheet.cell_value(r,3)\n",
      "secondary_state_nm = sheet.cell_value(r,4)\n",
      "secondary_county_nm = sheet.cell_value(r,5)\n",
      "num_returns = sheet.cell_value(r,6)\n",
      "num_exemptions = sheet.cell_value(r,7)\n",
      "agg_income = sheet.cell_value(r,8)\n",
      "\n",
      "print primary_state,primary_county\n",
      "print secondary_state, secondary_county, secondary_state_nm, secondary_county_nm\n",
      "print num_returns, num_exemptions, agg_income\n"
     ],
     "language": "python",
     "metadata": {},
     "outputs": [
      {
       "output_type": "stream",
       "stream": "stdout",
       "text": [
        "06 001\n",
        "00 001 Ca Alameda\n",
        "34281.0 58604.0 1047846.0\n"
       ]
      }
     ],
     "prompt_number": 21
    }
   ],
   "metadata": {}
  }
 ]
}