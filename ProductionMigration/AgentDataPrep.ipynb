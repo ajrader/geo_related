{
 "metadata": {
  "name": "",
  "signature": "sha256:ee996bf0b10d652108cc5bb745463e16a9e4d780e9705f3f301364f3a0400d5b"
 },
 "nbformat": 3,
 "nbformat_minor": 0,
 "worksheets": [
  {
   "cells": [
    {
     "cell_type": "code",
     "collapsed": false,
     "input": [
      "cd C:\\Users\\KESJ\\Documents\\projects\\Production Migration Project\\csv"
     ],
     "language": "python",
     "metadata": {},
     "outputs": [
      {
       "output_type": "stream",
       "stream": "stdout",
       "text": [
        "C:\\Users\\KESJ\\Documents\\projects\\Production Migration Project\\csv\n"
       ]
      }
     ],
     "prompt_number": 1
    },
    {
     "cell_type": "code",
     "collapsed": false,
     "input": [
      "import numpy as np\n",
      "import pandas as pd\n",
      "import matplotlib.pyplot as plt\n",
      "import sys"
     ],
     "language": "python",
     "metadata": {},
     "outputs": [],
     "prompt_number": 2
    },
    {
     "cell_type": "code",
     "collapsed": false,
     "input": [
      "years=['0405','0506','0607','0708','0809','0910','1011']\n",
      "years[4:]"
     ],
     "language": "python",
     "metadata": {},
     "outputs": [
      {
       "metadata": {},
       "output_type": "pyout",
       "prompt_number": 3,
       "text": [
        "['0809', '0910', '1011']"
       ]
      }
     ],
     "prompt_number": 3
    },
    {
     "cell_type": "code",
     "collapsed": false,
     "input": [
      "years=['0405','0506','0607','0708','0809','0910','1011']\n",
      "\n",
      "\n",
      "for y in years[6:]:\n",
      "    print \"Starting with \",y\n",
      "    inflow = pd.read_csv(\"countyinflow\"+y+\".csv\",\n",
      "                         dtype={'State_Code_Dest':np.str,\n",
      "                                'County_Code_Dest':np.str,\n",
      "                                'State_Code_Origin':np.str,\n",
      "                                'County_Code_Origin':np.str,\n",
      "                                'State_Abbrv':np.str,\n",
      "                                'County_Name':np.str})\n",
      "\n",
      "    outflow = pd.read_csv(\"countyoutflow\"+y+\".csv\",\n",
      "                         dtype={'State_Code_Dest':np.str,\n",
      "                                'County_Code_Dest':np.str,\n",
      "                                'State_Code_Origin':np.str,\n",
      "                                'County_Code_Origin':np.str,\n",
      "                                'State_Abbrv':np.str,\n",
      "                                'County_Name':np.str})\n",
      "\n",
      "\n",
      "    fips = get_all_fips(inflow)\n",
      "\n",
      "    df = net_df()\n",
      "\n",
      "    for i,f in enumerate(fips):\n",
      "        print y,'-',i,'/',len(fips),':',f\n",
      "        df = df.append(get_net_change_for_fips(inflow,outflow,f[0],f[1]), ignore_index=True)\n",
      "        sys.stdout.flush()\n",
      "\n",
      "    df.sort([df.columns[0],df.columns[1]],inplace=True,ascending=True)\n",
      "    df.to_csv(\"countynetflow2\"+y+\".csv\")"
     ],
     "language": "python",
     "metadata": {},
     "outputs": []
    },
    {
     "cell_type": "markdown",
     "metadata": {},
     "source": [
      "# now dealing with 0910"
     ]
    },
    {
     "cell_type": "code",
     "collapsed": false,
     "input": [
      "years=['0405','0506','0607','0708','0809','0910','1011']\n",
      "\n",
      "\n",
      "y = years[5]\n",
      "print \"Starting with \",y\n",
      "inflow = pd.read_csv(\"countyinflow\"+y+\".csv\",\n",
      "                         dtype={'State_Code_Dest':np.str,\n",
      "                                'County_Code_Dest':np.str,\n",
      "                                'State_Code_Origin':np.str,\n",
      "                                'County_Code_Origin':np.str,\n",
      "                                'State_Abbrv':np.str,\n",
      "                                'County_Name':np.str})\n",
      "inflow[['State_Code_Dest','State_Code_Origin']]=inflow[['State_Code_Dest','State_Code_Origin']].applymap(lambda x: prependZeros(x,2))\n",
      "inflow[['County_Code_Origin','County_Code_Dest']]=inflow[['County_Code_Origin','County_Code_Dest']].applymap(lambda x: prependZeros(x))\n",
      "\n",
      "outflow = pd.read_csv(\"countyoutflow\"+y+\".csv\",\n",
      "                         dtype={'State_Code_Dest':np.str,\n",
      "                                'County_Code_Dest':np.str,\n",
      "                                'State_Code_Origin':np.str,\n",
      "                                'County_Code_Origin':np.str,\n",
      "                                'State_Abbrv':np.str,\n",
      "                                'County_Name':np.str})\n",
      "\n",
      "outflow[['County_Code_Origin','County_Code_Dest']]=outflow[['County_Code_Origin','County_Code_Dest']].applymap(lambda x: prependZeros(x))\n",
      "\n",
      "fips = get_all_fips(inflow)\n",
      "\n",
      "df = net_df()\n",
      "\n",
      "for i,f in enumerate(fips):\n",
      "    print y,'-',i,'/',len(fips),':',f\n",
      "    df = df.append(get_net_change_for_fips(inflow,outflow,f[0],f[1]), ignore_index=True)\n",
      "    sys.stdout.flush()\n",
      "\n",
      "df.sort([df.columns[0],df.columns[1]],inplace=True,ascending=True)\n",
      "df.to_csv(\"countynetflow2\"+y+\".csv\")"
     ],
     "language": "python",
     "metadata": {},
     "outputs": []
    },
    {
     "cell_type": "markdown",
     "metadata": {},
     "source": [
      "# inflow needs the county_code_origin prepended by '00' or '0'"
     ]
    },
    {
     "cell_type": "code",
     "collapsed": false,
     "input": [
      "def prependZeros(inValue,desLen=3):\n",
      "    while (len(inValue)<desLen):\n",
      "        inValue='0'+inValue\n",
      "    return inValue"
     ],
     "language": "python",
     "metadata": {},
     "outputs": [],
     "prompt_number": 4
    },
    {
     "cell_type": "code",
     "collapsed": false,
     "input": [
      "prependZeros('13',5)"
     ],
     "language": "python",
     "metadata": {},
     "outputs": []
    },
    {
     "cell_type": "code",
     "collapsed": false,
     "input": [
      "fips = get_all_fips(inflow)\n",
      "\n",
      "df = net_df()\n",
      "\n",
      "for i,f in enumerate(fips):\n",
      "    print y,'-',i,'/',len(fips),':',f\n",
      "    df = df.append(get_net_change_for_fips(inflow,outflow,f[0],f[1]), ignore_index=True)\n",
      "    sys.stdout.flush()\n",
      "\n",
      "df.sort([df.columns[0],df.columns[1]],inplace=True,ascending=True)\n",
      "df.to_csv(\"countynetflow2\"+y+\".csv\")"
     ],
     "language": "python",
     "metadata": {},
     "outputs": []
    },
    {
     "cell_type": "code",
     "collapsed": false,
     "input": [
      "[a for a in outflow['County_Code_Origin'].unique() if len(a)!=3]"
     ],
     "language": "python",
     "metadata": {},
     "outputs": []
    },
    {
     "cell_type": "code",
     "collapsed": false,
     "input": [],
     "language": "python",
     "metadata": {},
     "outputs": []
    },
    {
     "cell_type": "code",
     "collapsed": false,
     "input": [
      "for i, f in enumerate(fips):\n",
      "    print i, f"
     ],
     "language": "python",
     "metadata": {},
     "outputs": []
    },
    {
     "cell_type": "markdown",
     "metadata": {},
     "source": [
      "#AJ Rader --> putting all the PIF data (from pcadss together)\n",
      "desire is to create a single dataframe that has initial PIF values for each year, final values for each year and change over that year.\n",
      "the amounts reported in PIF20xxYY correspond to the total number in force at the end of month YY and year 20xx."
     ]
    },
    {
     "cell_type": "code",
     "collapsed": false,
     "input": [
      "pwd"
     ],
     "language": "python",
     "metadata": {},
     "outputs": []
    },
    {
     "cell_type": "code",
     "collapsed": false,
     "input": [
      "yearPeriods = ['0405','0506','0607','0708','0809','0910','1011','1112']"
     ],
     "language": "python",
     "metadata": {},
     "outputs": []
    },
    {
     "cell_type": "code",
     "collapsed": false,
     "input": [
      "for year in yearPeriods:\n",
      "    print year\n",
      "    pdf = pd.read_csv('pifchange'+year+'.csv',\n",
      "                      dtype={'FIPS_CD':str, 'COUNTY':np.str,\n",
      "                            'STATE':np.str, 'POSTL_ST_CD':np.str})\n",
      "    pdf.drop('PIF_NET_CHANGE',1,inplace=True) #drop net change column\n",
      "    #print np.shape(pdf), pdf.columns[:2]\n",
      "    if int(year)== 405:\n",
      "        pif_df2 = pdf.copy() #mv initial to 2nd version\n",
      "    else:\n",
      "        pif_df2 = pd.merge(pif_df2,pdf,on='FIPS_CD')\n",
      "    \n",
      "print \"this dataframe has the following dimensions\", np.shape(pif_df2)"
     ],
     "language": "python",
     "metadata": {},
     "outputs": []
    },
    {
     "cell_type": "code",
     "collapsed": false,
     "input": [
      "# identify repeat columns and remove them from the dataframe\n",
      "dupColumn = []\n",
      "#dupColumnY = []\n",
      "#dColumnBase = []\n",
      "nrows = len(pif_df2)\n",
      "for c in pif_df2.columns:\n",
      "    if c.endswith('_x'):\n",
      "        dupColumn.append(c)\n",
      "        # check if they match each other (sanity check)\n",
      "        c2 = c[:-2]+\"_y\"\n",
      "        #dupColumnY.append(c2)\n",
      "        #dColumnBase.append(c[:-2])\n",
      "        print \"Do columns {0} and {1} match? {2}\".format(c,c2,sum((pif_df2[c]-pif_df2[c2])==0)==nrows)\n",
      "\n",
      "ydupCols = [c[:-2]+'_y' for c in dupColumn]\n",
      "dupColDict = {}\n",
      "for c in dupColumn:\n",
      "    dupColDict[c]= c[:-2]\n",
      "#dColumnBase = [c[:-2] for c in dupColumn]\n",
      "pif_df2.drop(ydupCols,1,inplace=True)"
     ],
     "language": "python",
     "metadata": {},
     "outputs": []
    },
    {
     "cell_type": "code",
     "collapsed": false,
     "input": [
      "pif_df2.rename(columns=dupColDict,inplace=True)"
     ],
     "language": "python",
     "metadata": {},
     "outputs": []
    },
    {
     "cell_type": "code",
     "collapsed": false,
     "input": [
      "pif_df2.head()"
     ],
     "language": "python",
     "metadata": {},
     "outputs": []
    },
    {
     "cell_type": "code",
     "collapsed": false,
     "input": [
      "### SAVE full dataset\n",
      "pif_df2.to_csv('pif_200410to201210.csv')"
     ],
     "language": "python",
     "metadata": {},
     "outputs": []
    },
    {
     "cell_type": "code",
     "collapsed": false,
     "input": [
      "pif_time = pif_df2.T"
     ],
     "language": "python",
     "metadata": {},
     "outputs": []
    },
    {
     "cell_type": "code",
     "collapsed": false,
     "input": [
      "#make a dictionary out of the fipsCodes for column headings\n",
      "fipsCodes = pif_time.loc['FIPS_CD',:].values\n",
      "fipsDict = {}\n",
      "for i in xrange(0,len(fipsCodes)):\n",
      "    fipsDict[i]=fipsCodes[i]\n",
      "\n",
      "pif_time.drop('FIPS_CD',0,inplace=True)\n",
      "pif_time.rename(columns=fipsDict,inplace=True)\n",
      "#.values\n"
     ],
     "language": "python",
     "metadata": {},
     "outputs": []
    },
    {
     "cell_type": "code",
     "collapsed": false,
     "input": [
      "pd.datetime?"
     ],
     "language": "python",
     "metadata": {},
     "outputs": []
    },
    {
     "cell_type": "code",
     "collapsed": false,
     "input": [
      "## convert PIF20xxYY to date\n",
      "date = pd.to_datetime([a[3:] for a in pif_time.index],format='%Y%m')\n",
      "date"
     ],
     "language": "python",
     "metadata": {},
     "outputs": []
    },
    {
     "cell_type": "code",
     "collapsed": false,
     "input": [
      "pif_time.index = date"
     ],
     "language": "python",
     "metadata": {},
     "outputs": []
    },
    {
     "cell_type": "code",
     "collapsed": false,
     "input": [
      "%pylab inline"
     ],
     "language": "python",
     "metadata": {},
     "outputs": []
    },
    {
     "cell_type": "code",
     "collapsed": false,
     "input": [
      "yearEnd = pif_time.resample('AS-JAN',how='last')\n",
      "wrongindex = yearEnd.index\n",
      "#newindex = wrongindex.year+1\n",
      "#newindex\n",
      "#yearEnd.index = pd.to_datetime(['01/01/2005','01/01/2006')\n",
      "#yearStart = pif_time.resample('AS-JAN',how='first')\n",
      "                  #, how='diff')\n",
      "#yearEnd.index = pd.to_datetime(newindex,format='%Y')\n",
      "#yearEnd['01001'].plot(ms='o',ls='--',color='midnightblue')\n",
      "yearEnd.diff()['01001'].plot()"
     ],
     "language": "python",
     "metadata": {},
     "outputs": []
    },
    {
     "cell_type": "markdown",
     "metadata": {},
     "source": [
      "### AJR 11.21.2014\n",
      "\n",
      "# Data Prep for ...\n",
      "##1. Agent AFO listing\n",
      "##2. mapping zipcodes to FIPSCDs"
     ]
    },
    {
     "cell_type": "code",
     "collapsed": false,
     "input": [
      "import os\n",
      "#os.chdir('../../projects/Production Migration Project/csv')"
     ],
     "language": "python",
     "metadata": {},
     "outputs": [],
     "prompt_number": 5
    },
    {
     "cell_type": "code",
     "collapsed": false,
     "input": [
      "# load the zipCode database\n",
      "zipDF = pd.read_csv('zip_code_database.csv',dtype={'zip':np.str})\n",
      "zipDF.head()"
     ],
     "language": "python",
     "metadata": {},
     "outputs": []
    },
    {
     "cell_type": "code",
     "collapsed": false,
     "input": [
      "zipDF.decommissioned.sum()"
     ],
     "language": "python",
     "metadata": {},
     "outputs": []
    },
    {
     "cell_type": "code",
     "collapsed": false,
     "input": [
      "zipDF.county.unique()"
     ],
     "language": "python",
     "metadata": {},
     "outputs": []
    },
    {
     "cell_type": "code",
     "collapsed": false,
     "input": [
      "zipDF.estimated_population.hist(bins=30)"
     ],
     "language": "python",
     "metadata": {},
     "outputs": []
    },
    {
     "cell_type": "code",
     "collapsed": false,
     "input": [
      "sum(zipDF.county.isnull())"
     ],
     "language": "python",
     "metadata": {},
     "outputs": []
    },
    {
     "cell_type": "code",
     "collapsed": false,
     "input": [
      "print zipDF.state.unique(), len(zipDF.state.unique())\n",
      "nonUSstateCodes = ['AA','AE','AP','AS','FM','GU','MH','MP','PR','PW','VI']"
     ],
     "language": "python",
     "metadata": {},
     "outputs": []
    },
    {
     "cell_type": "code",
     "collapsed": true,
     "input": [
      "for a in np.sort(zipDF[~zipDF['state'].isin(nonUSstateCodes)].state.unique()):\n",
      "    print a, zipDF[zipDF.state == a].timezone.unique()"
     ],
     "language": "python",
     "metadata": {},
     "outputs": []
    },
    {
     "cell_type": "code",
     "collapsed": false,
     "input": [
      "np.sort(zipDF[~zipDF['state'].isin(nonUSstateCodes)].state.unique()), len(zipDF[~zipDF['state'].isin(nonUSstateCodes)].state.unique())"
     ],
     "language": "python",
     "metadata": {},
     "outputs": []
    },
    {
     "cell_type": "code",
     "collapsed": false,
     "input": [
      "# remove zip codes for 'states' outside the US: i.e.\n",
      "zipDF = zipDF[~zipDF['state'].isin(nonUSstateCodes)]\n",
      "zipDF.index = np.arange(0,len(zipDF))\n",
      "zipDF.head()"
     ],
     "language": "python",
     "metadata": {},
     "outputs": []
    },
    {
     "cell_type": "code",
     "collapsed": false,
     "input": [
      "#list of missing zipCode Counties\n",
      "print len(zipDF[zipDF['county'].isnull()])\n",
      "zipDF[zipDF['county'].isnull()]\n",
      "# map these to nearbly county\n"
     ],
     "language": "python",
     "metadata": {},
     "outputs": []
    },
    {
     "cell_type": "code",
     "collapsed": false,
     "input": [
      "## fix these mising counties in zipDF\n",
      "zipCountyMissing = zipDF[zipDF['county'].isnull()]\n",
      "print len(zipCountyMissing.primary_city.unique()), len(zipCountyMissing.state.unique())\n",
      "#for line in zipDF[zipDF['county'].isnull()]:\n",
      "#    print line\n",
      "zipCountyMissing[['zip','primary_city','state','decommissioned']]"
     ],
     "language": "python",
     "metadata": {},
     "outputs": []
    },
    {
     "cell_type": "code",
     "collapsed": false,
     "input": [
      "zipCountyMissing.primary_city.unique(), zipCountyMissing.zip.unique()"
     ],
     "language": "python",
     "metadata": {},
     "outputs": []
    },
    {
     "cell_type": "code",
     "collapsed": false,
     "input": [
      "# define a dictionary for these 'bad' cases\n",
      "# pulled from looking up on http://www.zip-codes.com/zip-code/22350/zip-code-22350.asp \n",
      "#I should map from zip to county too?\n",
      "missingCountyFixDict = {}\n",
      "missingCountyFixDict['New York']='New York County'\n",
      "missingCountyFixDict['Pittsburgh']='Allegheny County'\n",
      "missingCountyFixDict['Washington'] ='District of Columbia'\n",
      "missingCountyFixDict['Alexandria'] ='Alexandria City'\n",
      "missingCountyFixDict['Woodberry Forest'] ='Madison County'\n",
      "missingCountyFixDict['High Shoals'] ='Oconee County'\n",
      "missingCountyFixDict['Rhodhiss'] = 'Caldwell County'\n",
      "missingCountyFixDict['Kennesaw'] ='Cobb County'\n",
      "missingCountyFixDict['Miami']='Miami-Dade County'\n",
      "missingCountyFixDict['Elbridge'] ='None'\n",
      "missingCountyFixDict['Tougaloo'] ='Hinds County'\n",
      "missingCountyFixDict['Des Moines']='Polk County'\n",
      "missingCountyFixDict['Freeman Spur']='Williamson County'\n",
      "missingCountyFixDict['Farmerville']='Union Parish'\n",
      "missingCountyFixDict['Hinton']='Caddo County' #judgement call based upon wikipedia: spans both Caddo and Canadian Counties\n",
      "missingCountyFixDict['Ardmore']='Carter County'\n",
      "missingCountyFixDict['Frisco']='Collin County' #judgement call based upon wikipedia: majority seems to be here rather than Denton County\n",
      "missingCountyFixDict['Stonington']='None'\n",
      "missingCountyFixDict['Salt Lake City']='Salt Lake County'\n",
      "\n",
      "missingCountyFixDict['Kings Canyon National Pk'] = 'Tulare County'\n",
      "missingCountyFixDict['Springfield']='Lane County'\n",
      "missingCountyFixDict['Mill Creek']='Snohomish County'\n",
      "missingCountyFixDict['Seattle']= 'King County'\n",
      "missingCountyFixDict['Wasilla'] = 'Matanuska-Susitna Borough'\n",
      "#'New York', 'Pittsburgh', 'Washington', 'Alexandria',\n",
      "#       'Woodberry Forest', 'Rhodhiss', 'High Shoals', 'Kennesaw', 'Miami',\n",
      "#       'Elbridge', 'Tougaloo', 'Des Moines', 'Freeman Spur', 'Farmerville',\n",
      "#       'Hinton', 'Ardmore', 'Frisco', 'Stonington', 'Salt Lake City',\n",
      "#       'Kings Canyon National Pk', 'Springfield', 'Mill Creek', 'Seattle',\n",
      "\n"
     ],
     "language": "python",
     "metadata": {},
     "outputs": []
    },
    {
     "cell_type": "code",
     "collapsed": false,
     "input": [
      "for city,state in zipCountyMissing[['primary_city','state',]].values:\n",
      "    print city, state\n",
      "    countyResults = zipDF[(zipDF.primary_city == city) & (zipDF.state == state)].county.unique()\n",
      "    print countyResults"
     ],
     "language": "python",
     "metadata": {},
     "outputs": []
    },
    {
     "cell_type": "code",
     "collapsed": false,
     "input": [
      "len(missingCountyFixDict)"
     ],
     "language": "python",
     "metadata": {},
     "outputs": []
    },
    {
     "cell_type": "code",
     "collapsed": false,
     "input": [
      "zipDF.ix[zipCountyMissing.index]['county'] =zipDF.ix[zipCountyMissing.index].primary_city.apply(lambda x: missingCountyFixDict[x])"
     ],
     "language": "python",
     "metadata": {},
     "outputs": []
    },
    {
     "cell_type": "code",
     "collapsed": false,
     "input": [
      "zipDF.loc[zipDF['county'].isnull(),'county'] = zipDF[zipDF['county'].isnull()].primary_city.apply(lambda x: missingCountyFixDict[x])"
     ],
     "language": "python",
     "metadata": {},
     "outputs": []
    },
    {
     "cell_type": "code",
     "collapsed": false,
     "input": [
      "zipDF.to_csv('us_zip_cod_listing1.csv')"
     ],
     "language": "python",
     "metadata": {},
     "outputs": []
    },
    {
     "cell_type": "code",
     "collapsed": false,
     "input": [
      "len(zipDF.county.unique())"
     ],
     "language": "python",
     "metadata": {},
     "outputs": []
    },
    {
     "cell_type": "code",
     "collapsed": false,
     "input": [
      "len(fipsCountyList.County.unique())"
     ],
     "language": "python",
     "metadata": {},
     "outputs": []
    },
    {
     "cell_type": "code",
     "collapsed": false,
     "input": [
      "fipsCountyList"
     ],
     "language": "python",
     "metadata": {},
     "outputs": []
    },
    {
     "cell_type": "code",
     "collapsed": false,
     "input": [
      "len(fipsCountyList)"
     ],
     "language": "python",
     "metadata": {},
     "outputs": []
    },
    {
     "cell_type": "code",
     "collapsed": false,
     "input": [
      "## load file to map county name to FIPS code\n",
      "nflow1011 = pd.read_csv('countynetflow_1011.csv',dtype={'State_Code':np.str,\n",
      "                                'County_Code':np.str,\n",
      "                                'Code1':np.str,\n",
      "                                'Code2':np.str,\n",
      "                                'Abbrv':np.str,\n",
      "                                'Name':np.str})"
     ],
     "language": "python",
     "metadata": {},
     "outputs": []
    },
    {
     "cell_type": "code",
     "collapsed": false,
     "input": [
      "nflow1011.columns"
     ],
     "language": "python",
     "metadata": {},
     "outputs": []
    },
    {
     "cell_type": "code",
     "collapsed": false,
     "input": [
      "#drop unnecessary columns\n",
      "nflow1011.drop(['Unnamed: 0','Return_In', 'Return_Out', 'Return_Net', 'Exmpt_In', u'Exmpt_Out', u'Exmpt_Net', u'Aggr_AGI_In', u'Aggr_AGI_Out', u'Aggr_AGI_Net'],1,inplace=True)\n",
      "# assign FIPS_CD\n",
      "nflow1011['FIPS_CD'] = nflow1011.State_Code + nflow1011.County_Code\n",
      "# assign ITEM_CD (i.e. migrants or non-migrants, etc.) --> \n",
      "# I just want the  non_migrants (ITEM_CD == FIPS_CD) \n",
      "nflow1011['ITEM_CD'] = nflow1011.Code1 + nflow1011.Code2\n",
      "\n",
      "# keep only cases where 'ITEM_CD' == FIPS_CD\n",
      "print \"keep only {0} FIPSCDS\".format(len(nflow1011[nflow1011['ITEM_CD']==nflow1011['FIPS_CD']]))\n",
      "fipsList = nflow1011[nflow1011['ITEM_CD']==nflow1011['FIPS_CD']].copy()\n",
      "fipsList.index = np.arange(0,len(fipsList))\n",
      "fipsList.head()\n"
     ],
     "language": "python",
     "metadata": {},
     "outputs": []
    },
    {
     "cell_type": "code",
     "collapsed": false,
     "input": [
      "## create a dictionary that maps FIPS_CD to Name --> remove the Non-Migrants part\n",
      "fipsList['County'] = fipsList.Name.apply(lambda x: x.split(' Non-Migrants')[0])\n"
     ],
     "language": "python",
     "metadata": {},
     "outputs": []
    },
    {
     "cell_type": "code",
     "collapsed": false,
     "input": [
      "# split on ' '\n",
      "def countyNameNorming(x):\n",
      "    nmissing = 0\n",
      "    y = x.split(' ') #assign y the space split county name#\n",
      "    # look at the last element of this list\n",
      "    # standard names are \"County, Borough, and Parish\"\n",
      "    stdNames = ['County','Borough','Parish','city']\n",
      "    if y[-1] in stdNames:\n",
      "        return x #don't change\n",
      "    else:\n",
      "        if y[-1].startswith('ci'):# =='City':# or y[-1] == 'city':\n",
      "            y[-1] = 'city' # works for cities in virginia\n",
      "            #print \"\\t\", x\n",
      "        elif y[-1].startswith('Co'):\n",
      "            y[-1] = 'County'\n",
      "        elif y[-1].startswith('Bo'):\n",
      "            y[-1] = 'Borough'\n",
      "        elif y[-1].startswith('Pa'):\n",
      "            y[-1] = 'Parish'#\n",
      "        elif y[-1].startswith('Are'):\n",
      "            #print x, y[-1]\n",
      "            y[-1] = 'Area'\n",
      "        elif y[-1].startswith('Ce'):\n",
      "            y[-1] = 'Census Area'\n",
      "        elif y[-1].startswith('c'):\n",
      "            y[-1] = 'city'\n",
      "            #y[-1] = 'County' # assumes a county\n",
      "            print x, y[-1]\n",
      "            #print x, y[-1]\n",
      "            \n",
      "        \n",
      "        else:\n",
      "            nmissing+=1\n",
      "            print \"\\t unknown term\\t\", x\n",
      "            \n",
      "            \n",
      "        z=' '.join(y)\n",
      "        return z\n",
      "    \n",
      "    "
     ],
     "language": "python",
     "metadata": {},
     "outputs": []
    },
    {
     "cell_type": "code",
     "collapsed": false,
     "input": [
      "fipsList['County'] = fipsList['County'].apply(lambda x: countyNameNorming(x))"
     ],
     "language": "python",
     "metadata": {},
     "outputs": []
    },
    {
     "cell_type": "code",
     "collapsed": false,
     "input": [
      "len(fipsList[fipsList['Abbrv']=='AK']['County'].unique()), len(zipDF[zipDF.state=='AK'].county.unique())\n"
     ],
     "language": "python",
     "metadata": {},
     "outputs": []
    },
    {
     "cell_type": "code",
     "collapsed": false,
     "input": [
      "fipsList[fipsList['Abbrv']=='AK']['County'].unique()"
     ],
     "language": "python",
     "metadata": {},
     "outputs": []
    },
    {
     "cell_type": "code",
     "collapsed": false,
     "input": [
      "akset1 = set(zipDF[zipDF.state=='AK'].county.unique())\n",
      "akset2 = set(fipsList[fipsList['Abbrv']=='AK']['County'].unique())\n",
      "akset1.difference(akset2)"
     ],
     "language": "python",
     "metadata": {},
     "outputs": []
    },
    {
     "cell_type": "code",
     "collapsed": false,
     "input": [
      "zipDF[zipDF.state=='AK' ][['zip','county','primary_city','decommissioned']]"
     ],
     "language": "python",
     "metadata": {},
     "outputs": []
    },
    {
     "cell_type": "code",
     "collapsed": false,
     "input": [
      "akset2.difference(akset1)"
     ],
     "language": "python",
     "metadata": {},
     "outputs": []
    },
    {
     "cell_type": "code",
     "collapsed": false,
     "input": [
      "# create an fips dictonary of changes\n",
      "fipsCountyNamesDict = {}\n",
      "fipsCountyNamesDict['Aleutians East'] = 'Aleutians East Borough'\n",
      "fipsCountyNamesDict['Aleutians West'] = 'Aleutians West Census Area'\n",
      "fipsCountyNamesDict['Anchorage Munic'] = '',\n",
      " 'Bethel Census A',\n",
      " 'Fairbanks North',\n",
      " 'Hoonah Angoon C',\n",
      " 'Juneau City and',\n",
      " 'Kenai Peninsula',\n",
      " 'Ketchikan Gatew',\n",
      " 'Kodiak Island B',\n",
      " 'Lake and Penins',\n",
      " 'Matanuska Susit',\n",
      "fipsCountyNamesDict['Northwest Arcti'] = 'Northwest Arctic Borough'\n",
      "fipsCountyNamesDict['Petersburg Census Area'] = 'Petersburg Borough'\n",
      " 'Prince of Wales',\n",
      " 'Sitka City and',\n",
      " 'Skagway Municip',\n",
      " 'Southeast Fairb',\n",
      " 'Valdez County',\n",
      " 'Wrangell City a',\n",
      " 'Wrangell Peters',\n",
      " 'Yakutat City an',\n",
      " 'Yukon Koyukuk C']\n",
      "    \n",
      "    \n",
      " \n",
      " 'Anchorage Borough',\n",
      " 'Bethel Census Area',\n",
      " 'City and Borough of Juneau',\n",
      " 'Fairbanks North Star Borough',\n",
      " 'Hoonah-Angoon Borough',\n",
      " 'Juneau Borough',\n",
      " 'Kenai Peninsula Borough',\n",
      " 'Ketchikan Gateway Borough',\n",
      " 'Kodiak Island Borough',\n",
      " 'Lake and Peninsula Borough',\n",
      " 'Matanuska-Susitna Borough',\n",
      " 'Municipality of Anchorage',\n",
      " ,\n",
      " \n",
      " 'Prince of Wales-Outer Ketchikan Borough',\n",
      " 'Sitka Borough',\n",
      " 'Skagway Borough',\n",
      " 'Southeast Fairbanks Census Area',\n",
      " 'Valdez-Cordova Census Area',\n",
      " 'Wrangell Borough',\n",
      " 'Yakutat Borough',\n",
      " 'Yukon-Koyukuk Census Area'"
     ],
     "language": "python",
     "metadata": {},
     "outputs": []
    },
    {
     "cell_type": "code",
     "collapsed": false,
     "input": [
      "fipsList[fipsList.Abbrv=='AK']"
     ],
     "language": "python",
     "metadata": {},
     "outputs": []
    },
    {
     "cell_type": "code",
     "collapsed": false,
     "input": [
      "[x for x in zipDF[zipDF.state =='AK'].county.unique() if str(x).startswith('Peters')]"
     ],
     "language": "python",
     "metadata": {},
     "outputs": []
    },
    {
     "cell_type": "code",
     "collapsed": false,
     "input": [
      "zipDF[zipDF.state =='AK'].county.unique()"
     ],
     "language": "python",
     "metadata": {},
     "outputs": []
    },
    {
     "cell_type": "code",
     "collapsed": false,
     "input": [
      "zipDF[zipDF.county=='Prince of Wales-Outer Ketchikan Borough']"
     ],
     "language": "python",
     "metadata": {},
     "outputs": []
    },
    {
     "cell_type": "code",
     "collapsed": false,
     "input": [
      "%ls"
     ],
     "language": "python",
     "metadata": {},
     "outputs": [
      {
       "output_type": "stream",
       "stream": "stdout",
       "text": [
        " Volume in drive C is OS\n",
        " Volume Serial Number is E02E-C1BA\n",
        "\n",
        " Directory of C:\\Users\\KESJ\\Documents\\projects\\Production Migration Project\\csv\n",
        "\n",
        "12/02/2014  03:29 PM    <DIR>          .\n",
        "12/02/2014  03:29 PM    <DIR>          ..\n",
        "12/02/2014  10:09 AM    <DIR>          agent\n",
        "11/14/2014  11:12 AM            44,771 ALnetFlow_0405.csv\n",
        "11/14/2014  11:14 AM            44,843 ALnetFlow_0506.csv\n",
        "11/14/2014  11:14 AM            44,818 ALnetFlow_0607.csv\n",
        "11/14/2014  11:14 AM            44,823 ALnetFlow_0708.csv\n",
        "11/14/2014  11:14 AM            44,759 ALnetFlow_0809.csv\n",
        "11/14/2014  01:31 PM            44,653 ALnetFlow_0910.csv\n",
        "11/14/2014  11:14 AM            44,822 ALnetFlow_1011.csv\n",
        "11/18/2014  10:59 AM    <DIR>          coopNETflowdata\n",
        "09/26/2014  11:10 AM         6,764,422 countyinflow0405.csv\n",
        "09/26/2014  11:10 AM         6,982,731 countyinflow0506.csv\n",
        "09/26/2014  11:10 AM         6,884,416 countyinflow0607.csv\n",
        "09/26/2014  11:10 AM         7,011,448 countyinflow0708.csv\n",
        "09/26/2014  11:10 AM         6,859,772 countyinflow0809.csv\n",
        "09/26/2014  11:10 AM         5,102,932 countyinflow0910.csv\n",
        "09/26/2014  11:08 AM         5,354,821 countyinflow1011.csv\n",
        "11/13/2014  04:27 PM         2,106,488 countynetflow_0405.csv\n",
        "11/13/2014  04:32 PM         2,108,845 countynetflow_0506.csv\n",
        "11/13/2014  04:37 PM         2,108,295 countynetflow_0607.csv\n",
        "11/13/2014  04:43 PM         2,110,928 countynetflow_0708.csv\n",
        "11/13/2014  04:48 PM         2,108,546 countynetflow_0809.csv\n",
        "11/14/2014  01:23 PM         2,103,086 countynetflow_0910.csv\n",
        "11/14/2014  09:08 AM         2,106,657 countynetflow_1011.csv\n",
        "09/26/2014  11:15 AM         6,724,009 countyoutflow0405.csv\n",
        "09/26/2014  11:14 AM         6,922,428 countyoutflow0506.csv\n",
        "09/26/2014  11:14 AM         6,833,542 countyoutflow0607.csv\n",
        "09/26/2014  11:14 AM         6,963,793 countyoutflow0708.csv\n",
        "09/26/2014  11:14 AM         6,827,924 countyoutflow0809.csv\n",
        "09/26/2014  11:14 AM         5,663,295 countyoutflow0910.csv\n",
        "09/26/2014  11:14 AM         5,359,689 countyoutflow1011.csv\n",
        "12/02/2014  01:53 PM    <DIR>          location\n",
        "11/17/2014  10:18 AM         2,196,867 pif_200410to201210.csv\n",
        "11/06/2014  02:49 PM           334,778 pifchange0405.csv\n",
        "11/06/2014  02:56 PM           335,066 pifchange0506.csv\n",
        "11/06/2014  03:00 PM           335,312 pifchange0607.csv\n",
        "11/06/2014  03:04 PM           335,792 pifchange0708.csv\n",
        "11/06/2014  03:09 PM           336,250 pifchange0809.csv\n",
        "11/06/2014  03:18 PM           336,362 pifchange0910.csv\n",
        "11/06/2014  03:30 PM           336,608 pifchange1011.csv\n",
        "11/06/2014  04:07 PM           336,050 pifchange1112.csv\n",
        "11/18/2014  03:22 PM    <DIR>          vintage2009\n",
        "12/02/2014  04:12 PM           201,014 yrlyActiveAgents_byFIPS.csv\n",
        "12/01/2014  09:48 PM           712,039 yrlyActiveAgents_byZip.csv\n",
        "12/02/2014  02:04 PM         9,482,934 zipFIPSdata.csv\n",
        "              40 File(s)    120,600,628 bytes\n",
        "               6 Dir(s)  19,182,190,592 bytes free\n"
       ]
      }
     ],
     "prompt_number": 7
    },
    {
     "cell_type": "markdown",
     "metadata": {},
     "source": [
      "##\n",
      "# load the fips-code listing from wikipedia"
     ]
    },
    {
     "cell_type": "code",
     "collapsed": false,
     "input": [
      "fipsCountyList = pd.read_csv('fipsListing_1.csv',dtype={'INCITS':np.str})\n",
      "# fix the INCITS CODES to prepend 0 if smaller\n",
      "fipsCountyList['INCITS']=fipsCountyList['INCITS'].apply(lambda x: prependZeros(x,5))\n",
      "fipsCountyList.head()"
     ],
     "language": "python",
     "metadata": {},
     "outputs": []
    },
    {
     "cell_type": "code",
     "collapsed": false,
     "input": [
      "fipsCountyList[fipsCountyList.State == 'Alaska']"
     ],
     "language": "python",
     "metadata": {},
     "outputs": []
    },
    {
     "cell_type": "code",
     "collapsed": false,
     "input": [
      "badcases = [c for c in fipsCountyList.County if c.endswith(']')]\n",
      "for b in badcases:\n",
      "    match = re.match('(.+)(\\[\\d+\\])',b)\n",
      "    if match:\n",
      "        print match.group(1)"
     ],
     "language": "python",
     "metadata": {},
     "outputs": []
    },
    {
     "cell_type": "code",
     "collapsed": false,
     "input": [
      "len(fipsCountyList.State.unique())"
     ],
     "language": "python",
     "metadata": {},
     "outputs": []
    },
    {
     "cell_type": "code",
     "collapsed": false,
     "input": [
      "##\n",
      "state2abbrv = {}\n",
      "listOfstateNames = fipsCountyList.State.unique()\n",
      "abbrv = [ 'AL','AK','AZ','AR',\n",
      " 'CA', 'CO', 'CT', 'DE', 'DC',\n",
      " 'FL', 'GA', 'HI', 'ID','IL','IN','IA',\n",
      " 'KS', 'KY', 'LA',\n",
      " 'ME','MD','MA','MI', 'MN',  'MS','MO', 'MT',\n",
      " 'NE', 'NV',  'NH', 'NJ', 'NM', 'NY', 'NC', 'ND', \n",
      " 'OH', 'OK', 'OR', 'PA',\n",
      " 'RI', 'SC', 'SD',\n",
      " 'TN', 'TX', 'UT', 'VT', 'VA',\n",
      " 'WA', 'WV', 'WI', 'WY']\n",
      "for i in xrange(0,len(listOfstateNames)):\n",
      "    state2abbrv[listOfstateNames[i]]=abbrv[i]\n"
     ],
     "language": "python",
     "metadata": {},
     "outputs": []
    },
    {
     "cell_type": "code",
     "collapsed": false,
     "input": [
      "# append stAbbrev to fipsCountyList\n",
      "fipsCountyList['stAbbv'] = [state2abbrv[x] for x in fipsCountyList.State.values]"
     ],
     "language": "python",
     "metadata": {},
     "outputs": []
    },
    {
     "cell_type": "code",
     "collapsed": true,
     "input": [
      "import re\n",
      "def fix_countyAnnotations(x):\n",
      "#for c in fipsCountyList.County:\n",
      "    match = re.match('(.*)(\\[\\d*\\])',x)\n",
      "    if match:\n",
      "        return match.group(1)#[:-1]\n",
      "    else:\n",
      "        return x\n",
      "        #print c, match.group(1)[:-1]\n",
      "        \n",
      "fipsCountyList['County'] = fipsCountyList.County.apply(lambda x: fix_countyAnnotations(x))"
     ],
     "language": "python",
     "metadata": {},
     "outputs": []
    },
    {
     "cell_type": "code",
     "collapsed": false,
     "input": [
      "zipDF[zipDF.primary_city=='San Francisco'].county.unique()"
     ],
     "language": "python",
     "metadata": {},
     "outputs": []
    },
    {
     "cell_type": "code",
     "collapsed": false,
     "input": [
      "hasCommas = [c for c in fipsCountyList.County if ',' in c]\n",
      "len(hasCommas)"
     ],
     "language": "python",
     "metadata": {},
     "outputs": []
    },
    {
     "cell_type": "code",
     "collapsed": false,
     "input": [
      "hasCommas"
     ],
     "language": "python",
     "metadata": {},
     "outputs": []
    },
    {
     "cell_type": "code",
     "collapsed": false,
     "input": [
      "def fixCandBof(x):\n",
      "    y = x.split(',')\n",
      "    if len(y)>1:\n",
      "        print y"
     ],
     "language": "python",
     "metadata": {},
     "outputs": []
    },
    {
     "cell_type": "code",
     "collapsed": false,
     "input": [
      "fipsCountyList.loc[67:95,'County'].apply(lambda x: fixCandBof(x))"
     ],
     "language": "python",
     "metadata": {},
     "outputs": []
    },
    {
     "cell_type": "code",
     "collapsed": false,
     "input": [
      "zipDF[zipDF.state == 'AK']['county'].unique()\n"
     ],
     "language": "python",
     "metadata": {},
     "outputs": []
    },
    {
     "cell_type": "code",
     "collapsed": false,
     "input": [
      "fipsCountyList.County.str.replace('?','-',inplace=True)"
     ],
     "language": "python",
     "metadata": {},
     "outputs": []
    },
    {
     "cell_type": "code",
     "collapsed": false,
     "input": [
      "[a for a in fipsCountyList.loc[67:90,'County'] if '?' in a]"
     ],
     "language": "python",
     "metadata": {},
     "outputs": []
    },
    {
     "cell_type": "code",
     "collapsed": false,
     "input": [
      "fipsCountyList.loc[67:95,'County']#.str.replace('?', '-')"
     ],
     "language": "python",
     "metadata": {},
     "outputs": []
    },
    {
     "cell_type": "code",
     "collapsed": false,
     "input": [
      "zipDF[zipDF.primary_city=='Anchorage']"
     ],
     "language": "python",
     "metadata": {},
     "outputs": []
    },
    {
     "cell_type": "code",
     "collapsed": false,
     "input": [
      "[c for c in fipsCountyList.County if ',' in c]"
     ],
     "language": "python",
     "metadata": {},
     "outputs": []
    },
    {
     "cell_type": "code",
     "collapsed": false,
     "input": [
      "endswithCity = [c for c in fipsCountyList.County if c.endswith(', City of')]\n",
      "for city in endswithCity:\n",
      "    rename = city.split(',')\n",
      "    newName = rename[0]+' City'\n",
      "    rowID = fipsCountyList[fipsCountyList.County==city].index \n",
      "    fipsCountyList.loc[rowID,'County']=newName\n",
      "\n",
      "[c for c in fipsCountyList.County if c.endswith(', City of')]    "
     ],
     "language": "python",
     "metadata": {},
     "outputs": []
    },
    {
     "cell_type": "code",
     "collapsed": false,
     "input": [
      "fipsCountyList['stcnty']=fipsCountyList['stAbbv']+fipsCountyList['County']\n",
      "fips_STcounty = fipsCountyList.stcnty.unique()"
     ],
     "language": "python",
     "metadata": {},
     "outputs": []
    },
    {
     "cell_type": "code",
     "collapsed": false,
     "input": [
      "zipDF.columns"
     ],
     "language": "python",
     "metadata": {},
     "outputs": []
    },
    {
     "cell_type": "code",
     "collapsed": false,
     "input": [
      "zipDF['stcnty']=zipDF['state']+zipDF['county']\n",
      "zip_code_STcounty = zipDF['stcnty'].unique()"
     ],
     "language": "python",
     "metadata": {},
     "outputs": []
    },
    {
     "cell_type": "code",
     "collapsed": false,
     "input": [
      "''.join(hasDot[2].split('.'))"
     ],
     "language": "python",
     "metadata": {},
     "outputs": []
    },
    {
     "cell_type": "code",
     "collapsed": false,
     "input": [
      "zipDF[zipDF['county'].isnull()]"
     ],
     "language": "python",
     "metadata": {},
     "outputs": []
    },
    {
     "cell_type": "code",
     "collapsed": false,
     "input": [
      "hasDot2 = [c for c in zipDF.county if '.' in c]\n",
      "for c in hasDot2:\n",
      "    rename = ''.join(c.split('.'))\n",
      "    rowID = zipDF[zipDF.county==c].index \n",
      "    zipDF.loc[rowID,'county']=rename"
     ],
     "language": "python",
     "metadata": {},
     "outputs": []
    },
    {
     "cell_type": "code",
     "collapsed": false,
     "input": [
      "hasDot = [c for c in fipsCountyList.County if '.' in c]\n",
      "for c in hasDot:\n",
      "    rename = ''.join(c.split('.'))\n",
      "    rowID = fipsCountyList[fipsCountyList.County==c].index \n",
      "    fipsCountyList.loc[rowID,'County']=rename"
     ],
     "language": "python",
     "metadata": {},
     "outputs": []
    },
    {
     "cell_type": "code",
     "collapsed": false,
     "input": [
      "\n",
      "print len(zip_code_STcounty), len(fips_STcounty)\n",
      "#import re\n",
      "#map(lambda x: if re.match('(.*)\\s team:', x, re.IGNORECASE).group(1)[:-1],fipsCountyList.County else x)"
     ],
     "language": "python",
     "metadata": {},
     "outputs": []
    },
    {
     "cell_type": "code",
     "collapsed": false,
     "input": [
      "set(zip_code_STcounty).difference(set(fips_STcounty))"
     ],
     "language": "python",
     "metadata": {},
     "outputs": []
    },
    {
     "cell_type": "code",
     "collapsed": false,
     "input": [
      "fipsCountyList[fipsCountyList.stAbbv=='WI']"
     ],
     "language": "python",
     "metadata": {},
     "outputs": []
    },
    {
     "cell_type": "code",
     "collapsed": false,
     "input": [
      "print len([x for x in fipsCountyList.County.unique() if x.endswith('Parish')])\n",
      "print len()"
     ],
     "language": "python",
     "metadata": {},
     "outputs": []
    },
    {
     "cell_type": "code",
     "collapsed": false,
     "input": [
      "len(fipsList[fipsList['Abbrv']=='AK']['County'])"
     ],
     "language": "python",
     "metadata": {},
     "outputs": []
    },
    {
     "cell_type": "code",
     "collapsed": false,
     "input": [
      "nmissing = 0\n",
      "fipsList['County'].apply(lambda x: countyNameNorming(x))"
     ],
     "language": "python",
     "metadata": {},
     "outputs": []
    },
    {
     "cell_type": "code",
     "collapsed": false,
     "input": [
      "print len([x for x in fipsList['County'].values if x.split(' ')[-1].startswith('Pa')])\n",
      "print len(fipsList[fipsList['Abbrv']=='LA'])"
     ],
     "language": "python",
     "metadata": {},
     "outputs": []
    },
    {
     "cell_type": "code",
     "collapsed": false,
     "input": [
      "[x for x in fipsList[fipsList['Abbrv']=='LA'].County if not (x.split(' ')[-1].endswith('P'))]\n"
     ],
     "language": "python",
     "metadata": {},
     "outputs": []
    },
    {
     "cell_type": "markdown",
     "metadata": {},
     "source": [
      "## load data from pcadss and from ADM"
     ]
    },
    {
     "cell_type": "code",
     "collapsed": false,
     "input": [
      "agentDF = pd.read_csv('agent/agentAFOfull.tsv',delimiter='\\t') # this is the data from PCADSS\n",
      "agentDF.columns"
     ],
     "language": "python",
     "metadata": {},
     "outputs": [
      {
       "output_type": "stream",
       "stream": "stderr",
       "text": [
        "C:\\Anaconda\\lib\\site-packages\\pandas\\io\\parsers.py:1150: DtypeWarning: Columns (12) have mixed types. Specify dtype option on import or set low_memory=False.\n",
        "  data = self._reader.read(nrows)\n"
       ]
      },
      {
       "metadata": {},
       "output_type": "pyout",
       "prompt_number": 8,
       "text": [
        "Index([u'ADDL_BUSN_TLPHN_NUM', u'AFO', u'AFO_NAME', u'AGENT_APPT_DATE', u'AGENT_APPT_DATE_CODE', u'AGENT_APPT_YEARS', u'AGENT_FIRST_NAME', u'AGENT_FULL_NAME', u'AGENT_LAST_NAME', u'AGENT_MRKTCTR_CODE', u'AGENT_MRKTCTR_NAME', u'AGENT_PRI_STATE_IND', u'AGENT_STATUS', u'AGENT_STATUS_NAME', u'AGENT_TYPE', u'AGENT_TYPE_NAME', u'AGENTAFO_AGENT', u'AGENTAFO_STATE', u'BUSN_TLPHN_NUM', u'VPA_CD', u'VPA_FIRST_NM_TXT', u'VPA_LAST_NM_TXT'], dtype='object')"
       ]
      }
     ],
     "prompt_number": 8
    },
    {
     "cell_type": "code",
     "collapsed": false,
     "input": [
      "agentDF.AGENT_STATUS.value_counts()"
     ],
     "language": "python",
     "metadata": {},
     "outputs": []
    },
    {
     "cell_type": "code",
     "collapsed": false,
     "input": [
      "# load and mask data from ADM\n",
      "agentList = pd.read_csv('agent/agentInfo.csv', dtype={'CUR PLAN CODE':np.str, 'MOA ST-AGT-CD':np.str,'PRIMARY ST-AGT-CD.1':np.str})"
     ],
     "language": "python",
     "metadata": {},
     "outputs": [],
     "prompt_number": 11
    },
    {
     "cell_type": "code",
     "collapsed": false,
     "input": [
      "len(agentList.SSN.unique()), len(agentList['AWARDS ID'].unique())\n",
      "#agentList.head()"
     ],
     "language": "python",
     "metadata": {},
     "outputs": [
      {
       "metadata": {},
       "output_type": "pyout",
       "prompt_number": 19,
       "text": [
        "(37236, 37236)"
       ]
      }
     ],
     "prompt_number": 19
    },
    {
     "cell_type": "code",
     "collapsed": false,
     "input": [],
     "language": "python",
     "metadata": {},
     "outputs": [
      {
       "metadata": {},
       "output_type": "pyout",
       "prompt_number": 20,
       "text": [
        "u'C:\\\\Users\\\\KESJ\\\\Documents\\\\projects\\\\Production Migration Project\\\\csv'"
       ]
      }
     ],
     "prompt_number": 20
    },
    {
     "cell_type": "code",
     "collapsed": false,
     "input": [
      "#from collections import defaultdict\n",
      "#create a hash keytable for the SSN and remove them from the dataset\n",
      "alhash= {}\n",
      "hstart = 20\n",
      "for v in agentList.SSN.unique():\n",
      "    alhash[v]=hstart+1\n",
      "    hstart+=1\n",
      "    \n",
      "# assign the agentList SSN to unique ids\n",
      "agentList['uniqID'] = agentList['SSN'].apply(lambda x: alhash[x])\n",
      "# drop the SSN values\n",
      "agentList.drop('SSN',axis=1,inplace=True)\n",
      "# create a short 5-digit zip code value\n",
      "agentList['zip5'] = agentList['OFFICE ZIP'].apply(lambda x: x[:5])\n",
      "\n",
      "print np.shape(agentList)\n",
      "\n"
     ],
     "language": "python",
     "metadata": {},
     "outputs": []
    },
    {
     "cell_type": "code",
     "collapsed": false,
     "input": [
      "# remove Canadian cases:\n",
      "nCanadian = len(agentList[agentList['GEO MARKET AREA']=='Canada'])\n",
      "canadianState1 = agentList[agentList['GEO MARKET AREA']=='Canada']['STATE.1'].unique()\n",
      "print nCanadian,\" Canadian agents for these provinces will be dropped:\", canadianState1\n",
      "agentList = agentList[~agentList['STATE.1'].isin(canadianState1)]\n",
      "print np.shape(agentList)\n",
      "#agentList.replace('STATE.1','XX')#drop('STATE.1')"
     ],
     "language": "python",
     "metadata": {},
     "outputs": []
    },
    {
     "cell_type": "code",
     "collapsed": false,
     "input": [
      "agentList['GEO MARKET AREA'].value_counts()"
     ],
     "language": "python",
     "metadata": {},
     "outputs": []
    },
    {
     "cell_type": "markdown",
     "metadata": {},
     "source": [
      "## things to do:\n",
      "1. assign the fipsCode to each agent row\n",
      "2. get the dates when an agent is active so I can do a simple groupby-count to get number of active "
     ]
    },
    {
     "cell_type": "code",
     "collapsed": false,
     "input": [
      "agentList[[u'APPOINT DATE', u'FIRST APPOINT DATE', u'STATUS','TERMINATION DATE','zip5']].head()"
     ],
     "language": "python",
     "metadata": {},
     "outputs": []
    },
    {
     "cell_type": "code",
     "collapsed": false,
     "input": [
      "# how many unique zip5 codes?\n",
      "len(agentList['zip5'].unique())"
     ],
     "language": "python",
     "metadata": {},
     "outputs": []
    },
    {
     "cell_type": "code",
     "collapsed": true,
     "input": [
      "agentList['STATE.1'].value_counts()"
     ],
     "language": "python",
     "metadata": {},
     "outputs": []
    },
    {
     "cell_type": "code",
     "collapsed": false,
     "input": [],
     "language": "python",
     "metadata": {},
     "outputs": []
    },
    {
     "cell_type": "code",
     "collapsed": false,
     "input": [
      "agentList.to_csv('../../../agentInfo2.csv')"
     ],
     "language": "python",
     "metadata": {},
     "outputs": []
    },
    {
     "cell_type": "code",
     "collapsed": false,
     "input": [
      "# list which agents have mulitple lines\n",
      "aLidsVC = agentList.uniqID.value_counts()\n",
      "aLidsVC[aLidsVC > 1]"
     ],
     "language": "python",
     "metadata": {},
     "outputs": []
    },
    {
     "cell_type": "code",
     "collapsed": false,
     "input": [
      "del alhash"
     ],
     "language": "python",
     "metadata": {},
     "outputs": []
    },
    {
     "cell_type": "code",
     "collapsed": false,
     "input": [
      "agentList[agentList.uniqID==15143][['NAME','CODE',u'APPOINT DATE', u'FIRST APPOINT DATE', u'STATUS','TERMINATION DATE','zip5','STATE.1','REASON TERMINATED']]#['STATE.1','OFFICE ZIP']]"
     ],
     "language": "python",
     "metadata": {},
     "outputs": []
    },
    {
     "cell_type": "code",
     "collapsed": false,
     "input": [
      "# check if there are enough 'terminations for these duplicate list of ids\n",
      "dupIds = [c for c in aLidsVC.index]\n",
      "dupIds[:10]"
     ],
     "language": "python",
     "metadata": {},
     "outputs": []
    },
    {
     "cell_type": "code",
     "collapsed": false,
     "input": [
      "agentList['APPOINT DATE'].min(), agentList['FIRST APPOINT DATE'].min()"
     ],
     "language": "python",
     "metadata": {},
     "outputs": []
    },
    {
     "cell_type": "code",
     "collapsed": false,
     "input": [
      "dec2014 = pd.to_datetime('01DEC2014')\n",
      "firstDate = pd.to_datetime(agentList['APPOINT DATE'].min())\n",
      "firstDate, dec2014\n"
     ],
     "language": "python",
     "metadata": {},
     "outputs": []
    },
    {
     "cell_type": "code",
     "collapsed": false,
     "input": [
      "dateSpan = pd.date_range(start ='4/1/1929',end='12/1/2014',freq='M')\n",
      "len(dateSpan)"
     ],
     "language": "python",
     "metadata": {},
     "outputs": []
    },
    {
     "cell_type": "code",
     "collapsed": false,
     "input": [
      "len(agentList.zip5.unique())"
     ],
     "language": "python",
     "metadata": {},
     "outputs": []
    },
    {
     "cell_type": "code",
     "collapsed": false,
     "input": [
      "zipDF.columns"
     ],
     "language": "python",
     "metadata": {},
     "outputs": []
    },
    {
     "cell_type": "code",
     "collapsed": false,
     "input": [
      "[c for c in zipDF.county if c.endswith('Parish')]"
     ],
     "language": "python",
     "metadata": {},
     "outputs": []
    },
    {
     "cell_type": "code",
     "collapsed": false,
     "input": [
      "# create a zip to county Mapping\n",
      "zipToCounty = {}\n",
      "for z in zipDF.zip:#.ix[:10]:\n",
      "    #print z, zipDF[zipDF.zip == z].county\n",
      "    zipDF[z] = zipDF[zipDF.zip == z].county"
     ],
     "language": "python",
     "metadata": {},
     "outputs": []
    },
    {
     "cell_type": "code",
     "collapsed": false,
     "input": [
      "def activeCount(x,t):\n",
      "    "
     ],
     "language": "python",
     "metadata": {},
     "outputs": []
    },
    {
     "cell_type": "code",
     "collapsed": false,
     "input": [
      "for id in dupIds[:10]:\n",
      "    print id\n",
      "    print \"----------------------\"\n",
      "    print agentList[agentList.uniqID==id][['NAME','CODE',u'APPOINT DATE', u'FIRST APPOINT DATE', u'STATUS','TERMINATION DATE','zip5','STATE.1','REASON TERMINATED']]#['STATE.1','OFFICE ZIP']]"
     ],
     "language": "python",
     "metadata": {},
     "outputs": []
    },
    {
     "cell_type": "code",
     "collapsed": false,
     "input": [
      "alIDtermCD = agentList.groupby('uniqID')['REASON TERMINATED'].unique()\n"
     ],
     "language": "python",
     "metadata": {},
     "outputs": []
    },
    {
     "cell_type": "code",
     "collapsed": false,
     "input": [
      "vclisting_byID = alIDtermCD.value_counts()"
     ],
     "language": "python",
     "metadata": {},
     "outputs": []
    },
    {
     "cell_type": "code",
     "collapsed": false,
     "input": [
      "print len(vclisting_byID)"
     ],
     "language": "python",
     "metadata": {},
     "outputs": []
    },
    {
     "cell_type": "code",
     "collapsed": false,
     "input": [
      "zcheck = agentList[(agentList['STATE.1']=='AK') & (agentList['TERMINATION DATE'].isnull())]['zip5'].values\n",
      "zcheck2 = agentList[agentList['STATE.1']=='AK']['zip5'].unique()\n",
      "len(zcheck2), len(zcheck)"
     ],
     "language": "python",
     "metadata": {},
     "outputs": []
    },
    {
     "cell_type": "code",
     "collapsed": false,
     "input": [
      "for z in zcheck2:\n",
      "    print zipDF[zipDF.zip==z]['county'].values"
     ],
     "language": "python",
     "metadata": {},
     "outputs": []
    },
    {
     "cell_type": "code",
     "collapsed": false,
     "input": [
      "zlist = agentList['zip5'].unique()\n",
      "print len(zlist)"
     ],
     "language": "python",
     "metadata": {},
     "outputs": []
    },
    {
     "cell_type": "code",
     "collapsed": false,
     "input": [
      "print len(zipDF)"
     ],
     "language": "python",
     "metadata": {},
     "outputs": []
    },
    {
     "cell_type": "code",
     "collapsed": false,
     "input": [
      "zzlist = zipDF[zipDF.zip.isin(zlist)].zip.unique()\n",
      "print len(zzlist)"
     ],
     "language": "python",
     "metadata": {},
     "outputs": []
    },
    {
     "cell_type": "code",
     "collapsed": false,
     "input": [
      "extrazips_fromADM = list(set(zlist).difference(set(zzlist)))"
     ],
     "language": "python",
     "metadata": {},
     "outputs": []
    },
    {
     "cell_type": "code",
     "collapsed": false,
     "input": [
      "agentList[agentList.zip5.isin(extrazips_fromADM)][['STATE.1','NAME','TERMINATION DATE','zip5']]"
     ],
     "language": "python",
     "metadata": {},
     "outputs": []
    },
    {
     "cell_type": "code",
     "collapsed": false,
     "input": [
      "agentList[(agentList.zip5.isin(extrazips_fromADM)) & (pd.to_datetime(agentList['TERMINATION DATE']) >pd.to_datetime('01JAN2003'))][['STATE.1','NAME','TERMINATION DATE','zip5']]"
     ],
     "language": "python",
     "metadata": {},
     "outputs": []
    },
    {
     "cell_type": "code",
     "collapsed": false,
     "input": [
      "agentList.ix[25284]"
     ],
     "language": "python",
     "metadata": {},
     "outputs": []
    },
    {
     "cell_type": "code",
     "collapsed": false,
     "input": [
      "agentList="
     ],
     "language": "python",
     "metadata": {},
     "outputs": []
    },
    {
     "cell_type": "code",
     "collapsed": false,
     "input": [
      "dateutil.parser.parse(agentList.loc[35139,'TERMINATION DATE'])"
     ],
     "language": "python",
     "metadata": {},
     "outputs": []
    },
    {
     "cell_type": "code",
     "collapsed": false,
     "input": [
      "pd.to_datetime(agentList.loc[35139,'TERMINATION DATE'],format='%d%M%Y')"
     ],
     "language": "python",
     "metadata": {},
     "outputs": []
    },
    {
     "cell_type": "code",
     "collapsed": false,
     "input": [
      "zipDF[zipDF.zip=='97003']"
     ],
     "language": "python",
     "metadata": {},
     "outputs": []
    },
    {
     "cell_type": "code",
     "collapsed": false,
     "input": [
      "# reread from new file\n",
      "aa = pd.read_csv('../../../agentInfo2.csv', dtype={'CUR PLAN CODE':np.str, 'MOA ST-AGT-CD':np.str,'PRIMARY ST-AGT-CD.1':np.str,'zip5':np.str})#, parse_dates = dateCols)\n",
      "#for c in aa.columns:\n",
      "#    if 'DATE' in c:\n",
      "#        print c"
     ],
     "language": "python",
     "metadata": {},
     "outputs": []
    },
    {
     "cell_type": "code",
     "collapsed": false,
     "input": [
      "dateCols = []\n",
      "for c in aa.columns:\n",
      "    if 'DATE' in c:\n",
      "        dateCols.append(c)\n",
      "        \n",
      "dateCols.remove('EARLY NOTIFICATION PROGRAM DATE')"
     ],
     "language": "python",
     "metadata": {},
     "outputs": []
    },
    {
     "cell_type": "code",
     "collapsed": false,
     "input": [
      "agentList['APPOINT DATE'].values"
     ],
     "language": "python",
     "metadata": {},
     "outputs": []
    },
    {
     "cell_type": "code",
     "collapsed": false,
     "input": [
      "pd.to_datetime('01SEP1958',format='%d%b%Y')"
     ],
     "language": "python",
     "metadata": {},
     "outputs": []
    },
    {
     "cell_type": "code",
     "collapsed": false,
     "input": [
      "aa[dateCols] = aa[dateCols].applymap(lambda x: pd.to_datetime(x,format='%d%b%Y'))"
     ],
     "language": "python",
     "metadata": {},
     "outputs": []
    },
    {
     "cell_type": "code",
     "collapsed": false,
     "input": [
      "jan2002start = pd.to_datetime('31DEC2001',format='%d%b%Y')\n",
      "len(aa[aa['TERMINATION DATE'] < jan2002start])"
     ],
     "language": "python",
     "metadata": {},
     "outputs": []
    },
    {
     "cell_type": "code",
     "collapsed": false,
     "input": [
      "agentList[(agentList.zip5.isin(extrazips_fromADM)) & (pd.to_datetime(agentList['TERMINATION DATE'],format='%d%b%Y') >pd.to_datetime('01JAN2002',format='%d%b%Y'))][['STATE.1','NAME','TERMINATION DATE','zip5']]"
     ],
     "language": "python",
     "metadata": {},
     "outputs": []
    },
    {
     "cell_type": "code",
     "collapsed": false,
     "input": [
      "aa[aa['TERMINATION DATE'].isnull()][['NAME','TERMINATION DATE']]"
     ],
     "language": "python",
     "metadata": {},
     "outputs": []
    },
    {
     "cell_type": "code",
     "collapsed": false,
     "input": [
      "z91910 = aa[aa.zip5=='91910']\n",
      "#aa[(aa.zip5 == 91910) & (aa['TERMINATION DATE'] > pd.to_datetime('12/31/2009')) & (aa['APPOINT DATE'] < pd.to_datetime('01/01/2010'))][['STATE.1','NAME','TERMINATION DATE','zip5']]\n",
      "len(z91910)"
     ],
     "language": "python",
     "metadata": {},
     "outputs": []
    },
    {
     "cell_type": "code",
     "collapsed": false,
     "input": [
      "def isActive(df,date,today=pd.to_datetime('12-31-2020')):\n",
      "    #print sum(df['TERMINATION DATE'].isnull())\n",
      "    # replace null times with today\n",
      "    df['TERMINATION DATE'].fillna(today,inplace=True)\n",
      "    #print sum(df['TERMINATION DATE'].isnull())\n",
      "    nactive= len(df[(df['APPOINT DATE'] <= date) & (df['TERMINATION DATE']>date)])\n",
      "    #print nactive\n",
      "    return nactive\n",
      "    #print len(df1)\n",
      "    #print df1[['NAME','APPOINT DATE','TERMINATION DATE']]"
     ],
     "language": "python",
     "metadata": {},
     "outputs": []
    },
    {
     "cell_type": "code",
     "collapsed": false,
     "input": [],
     "language": "python",
     "metadata": {},
     "outputs": []
    },
    {
     "cell_type": "code",
     "collapsed": false,
     "input": [
      "isActive(z91910,pd.to_datetime('08-01-1995'))"
     ],
     "language": "python",
     "metadata": {},
     "outputs": []
    },
    {
     "cell_type": "code",
     "collapsed": false,
     "input": [
      "z91910[['NAME','APPOINT DATE','TERMINATION DATE']]"
     ],
     "language": "python",
     "metadata": {},
     "outputs": []
    },
    {
     "cell_type": "code",
     "collapsed": false,
     "input": [
      "atemp = aa[aa['STATE.1']=='ME']\n",
      "len(atemp)"
     ],
     "language": "python",
     "metadata": {},
     "outputs": []
    },
    {
     "cell_type": "code",
     "collapsed": false,
     "input": [
      "agentList[agentList['STATE.1']=='ME'].zip5.values"
     ],
     "language": "python",
     "metadata": {},
     "outputs": [
      {
       "metadata": {},
       "output_type": "pyout",
       "prompt_number": 183,
       "text": [
        "array(['04096', '04240', '04240', '04330', '04103', '04901', '04105',\n",
        "       '04462', '03907', '04106', '04096', '04412', '04074', '04953',\n",
        "       '04087', '04364', '04901', '04103', '04106', '04106', '04401',\n",
        "       '04330', '04730', '04401', '04605', '04092', '04330', '04901',\n",
        "       '04473', '04769', '04976', '04240', '04005', '04240', '04530',\n",
        "       '04240', '04901', '04736', '04412', '04473', '04240', '04281',\n",
        "       '04086', '04901', '04901', '04096', '04043', '04330', '04086',\n",
        "       '03903', '04473', '04736', '04084', '04105', '04345', '04102',\n",
        "       '04005', '03904', '04011', '04457', '03909', '04101', '04330',\n",
        "       '04038', '04276', '04401', '04736', '04730', '04043', '04473',\n",
        "       '04444', '04090', '04084', '04401', '04473', '04084', '04039',\n",
        "       '04086', '04103', '04401', '04096', '04276', '04084', '04276',\n",
        "       '04106', '04345', '04841', '04210', '04401', '04240', '04240',\n",
        "       '04011', '04011', '04103', '04062', '04210', '04072', '04074',\n",
        "       '04276', '04915', '04530', '04074', '04073', '04976', '04530',\n",
        "       '04938', '04074', '04330', '04072', '04062', '04330', '04330',\n",
        "       '04473', '04005', '04011', '04330', '03904', '04401', '04074',\n",
        "       '04102', '04530', '04084', '04730', '04473', '04240'], dtype=object)"
       ]
      }
     ],
     "prompt_number": 183
    },
    {
     "cell_type": "code",
     "collapsed": false,
     "input": [
      "agtZipDF = pd.DataFrame(columns=['zipCode'])\n",
      "#State_Code','County_Code',\n",
      "#      'Code1','Code2',\n",
      "#      'Abbrv','Name',\n",
      "#      'Return_In','Return_Out','Return_Net',\n",
      "#      'Exmpt_In','Exmpt_Out','Exmpt_Net',\n",
      "#      'Aggr_AGI_In','Aggr_AGI_Out','Aggr_AGI_Net'])\n",
      "#    return df\n",
      "for z,df in atemp.groupby('zip5'):\n",
      "    #agtZipDF = pd.DataFrame(columns=['zipCode'])\n",
      "    print z, len(df), isActive(df,pd.to_datetime('08-01-2001'))\n",
      "    print \n",
      "    \n",
      "    \n",
      "    "
     ],
     "language": "python",
     "metadata": {},
     "outputs": []
    },
    {
     "cell_type": "code",
     "collapsed": false,
     "input": [
      "df[['TERMINATION DATE','APPOINT DATE']]"
     ],
     "language": "python",
     "metadata": {},
     "outputs": []
    },
    {
     "cell_type": "code",
     "collapsed": false,
     "input": [
      "dateSpan[-20:]"
     ],
     "language": "python",
     "metadata": {},
     "outputs": []
    },
    {
     "cell_type": "code",
     "collapsed": false,
     "input": [
      "dateSpan[-12], z"
     ],
     "language": "python",
     "metadata": {},
     "outputs": []
    },
    {
     "cell_type": "code",
     "collapsed": false,
     "input": [
      "agtActive = pd.DataFrame(columns=[z])\n",
      "agtActive"
     ],
     "language": "python",
     "metadata": {},
     "outputs": []
    },
    {
     "cell_type": "code",
     "collapsed": false,
     "input": [
      "z = '91910'\n",
      "for t in dateSpan:\n",
      "    agtActive.loc[t,z] = isActive(z91910,t)"
     ],
     "language": "python",
     "metadata": {},
     "outputs": []
    },
    {
     "cell_type": "code",
     "collapsed": false,
     "input": [
      "agtActive['91910'].plot()"
     ],
     "language": "python",
     "metadata": {},
     "outputs": []
    },
    {
     "cell_type": "code",
     "collapsed": false,
     "input": [
      "np.shape(agtActive)"
     ],
     "language": "python",
     "metadata": {},
     "outputs": []
    },
    {
     "cell_type": "code",
     "collapsed": false,
     "input": [
      "agtActive.columns"
     ],
     "language": "python",
     "metadata": {},
     "outputs": []
    },
    {
     "cell_type": "code",
     "collapsed": false,
     "input": [
      "agtActive.loc[dateSpan[-30:],:]"
     ],
     "language": "python",
     "metadata": {},
     "outputs": []
    },
    {
     "cell_type": "code",
     "collapsed": false,
     "input": [
      "yearSpan1 = pd.date_range(start ='1/1/1999',end='1/1/2015',freq='A')\n",
      "len(yearSpan1)"
     ],
     "language": "python",
     "metadata": {},
     "outputs": []
    },
    {
     "cell_type": "code",
     "collapsed": false,
     "input": [
      "yearSpan1"
     ],
     "language": "python",
     "metadata": {},
     "outputs": []
    },
    {
     "cell_type": "code",
     "collapsed": false,
     "input": [
      "for t in yearSpan1:\n",
      "    print t, isActive(z91910,t)"
     ],
     "language": "python",
     "metadata": {},
     "outputs": []
    },
    {
     "cell_type": "code",
     "collapsed": false,
     "input": [
      "aa.zip5.head()"
     ],
     "language": "python",
     "metadata": {},
     "outputs": []
    },
    {
     "cell_type": "code",
     "collapsed": false,
     "input": [
      "YrlyAgtActive = pd.DataFrame(columns=['03431'])\n",
      "for z,df in aa.groupby('zip5'):\n",
      "    print z\n",
      "    for t in yearSpan1:\n",
      "        YrlyAgtActive.loc[t,z]=isActive(df,t)"
     ],
     "language": "python",
     "metadata": {},
     "outputs": []
    },
    {
     "cell_type": "code",
     "collapsed": false,
     "input": [
      "print np.shape(YrlyAgtActive)"
     ],
     "language": "python",
     "metadata": {},
     "outputs": []
    },
    {
     "cell_type": "code",
     "collapsed": false,
     "input": [
      "YrlyAgtActive[['03431','03110']].tail()"
     ],
     "language": "python",
     "metadata": {},
     "outputs": []
    },
    {
     "cell_type": "code",
     "collapsed": false,
     "input": [
      "YrlyAgtActive.to_csv('yrlyActiveAgents_byZip.csv')"
     ],
     "language": "python",
     "metadata": {},
     "outputs": []
    },
    {
     "cell_type": "code",
     "collapsed": false,
     "input": [
      "dateSpan1 =  pd.date_range(start ='1/1/1999',end='1/1/2015',freq='M')\n",
      "len(dateSpan1)\n"
     ],
     "language": "python",
     "metadata": {},
     "outputs": []
    },
    {
     "cell_type": "code",
     "collapsed": false,
     "input": [
      "MtlyAgtActive=pd.DataFrame(columns=['03110'])\n",
      "for z, df in aa.groupby('zip5'):\n",
      "    print z\n",
      "    for t in dateSpan1:\n",
      "        MtlyAgtActive.loc[t,z]=isActive(df,t)"
     ],
     "language": "python",
     "metadata": {},
     "outputs": []
    },
    {
     "cell_type": "code",
     "collapsed": false,
     "input": [],
     "language": "python",
     "metadata": {},
     "outputs": []
    },
    {
     "cell_type": "code",
     "collapsed": false,
     "input": [
      "\n",
      "\n",
      "def get_data_for_fips(df, fips_state, fips_county):\n",
      "    return df[np.array(df[[0]] == fips_state) & np.array(df[[1]]==fips_county)]\n",
      "\n",
      "def get_totals_for_fips(df, fips_state, fips_county):\n",
      "    ff = df[np.array(df[[0]] == fips_state) & np.array(df[[1]]==fips_county)]\n",
      "    return ff.select(lambda x: int(ff.loc[x,ff.columns[2]]) >= 96 or (ff.loc[x,ff.columns[2]] == ff.loc[x,ff.columns[0]] and ff.loc[x,ff.columns[3]] == ff.loc[x,ff.columns[1]])).sort([ff.columns[2],ff.columns[3]])\n",
      "\n",
      "def net_df():\n",
      "    df = pd.DataFrame(columns=['State_Code','County_Code',\n",
      "      'Code1','Code2',\n",
      "      'Abbrv','Name',\n",
      "      'Return_In','Return_Out','Return_Net',\n",
      "      'Exmpt_In','Exmpt_Out','Exmpt_Net',\n",
      "      'Aggr_AGI_In','Aggr_AGI_Out','Aggr_AGI_Net'])\n",
      "    return df\n",
      "\n",
      "def get_net_change_for_fips(in_df, out_df, fips_state, fips_county):\n",
      "    in_df = get_totals_for_fips(in_df, fips_state, fips_county).reset_index()\n",
      "    out_df = get_totals_for_fips(out_df, fips_state, fips_county).reset_index()\n",
      "    assert(np.all(np.array(in_df[[3,4]])==np.array(out_df[[3,4]])))\n",
      "    \n",
      "    df = net_df()\n",
      "    df[['State_Code','County_Code',\n",
      "      'Code1','Code2',\n",
      "      'Abbrv','Name']] = in_df[['State_Code_Dest','County_Code_Dest',\n",
      "                                              'State_Code_Origin','County_Code_Origin',\n",
      "                                              'State_Abbrv','County_Name']]\n",
      "    #df['County_Code'] = in_df['County_Code_Dest']\n",
      "    #State_Code_Origin\tCounty_Code_Origin\tState_Abbrv\tCounty_Name\n",
      "    \n",
      "    df['Return_In'] = in_df['Return_Num']\n",
      "    df['Return_Out'] = out_df['Return_Num']\n",
      "    df['Return_Net'] = in_df['Return_Num'] - out_df['Return_Num']\n",
      "\n",
      "    df['Exmpt_In'] = in_df['Exmpt_Num']\n",
      "    df['Exmpt_Out'] = out_df['Exmpt_Num']\n",
      "    df['Exmpt_Net'] = in_df['Exmpt_Num'] - out_df['Exmpt_Num']\n",
      "    \n",
      "    \n",
      "    df['Aggr_AGI_In'] = in_df['Aggr_AGI']\n",
      "    df['Aggr_AGI_Out'] = out_df['Aggr_AGI']\n",
      "    df['Aggr_AGI_Net'] = in_df['Aggr_AGI'] - out_df['Aggr_AGI']\n",
      "    \n",
      "    return df\n",
      "\n",
      "    \n",
      "def get_all_fips(df):\n",
      "    fips = df[[0]].fillna(value='01').values + df[[1]].fillna(value='001').values\n",
      "    s = set(fips[:,0].tolist())\n",
      "    return set(map(lambda x: (x[0:2], x[2:6]), s))\n",
      "\n",
      "def load_flow_csv(file_name):\n",
      "    return  pd.read_csv(file_name,\n",
      "                         dtype={'State_Code_Dest':np.str,\n",
      "                                'County_Code_Dest':np.str,\n",
      "                                'State_Code_Origin':np.str,\n",
      "                                'County_Code_Origin':np.str,\n",
      "                                'State_Abbrv':np.str,\n",
      "                                'County_Name':np.str})"
     ],
     "language": "python",
     "metadata": {},
     "outputs": []
    },
    {
     "cell_type": "code",
     "collapsed": false,
     "input": [],
     "language": "python",
     "metadata": {},
     "outputs": [
      {
       "metadata": {},
       "output_type": "pyout",
       "prompt_number": 27,
       "text": [
        "0"
       ]
      }
     ],
     "prompt_number": 27
    },
    {
     "cell_type": "code",
     "collapsed": false,
     "input": [
      "agtProd = pd.read_csv('../../Notes/agentProd.csv', dtype={'CUR PLAN CODE':np.str, 'MOA ST-AGT-CD':np.str,'PRIMARY ST-AGT-CD.1':np.str,'zip5':np.str})"
     ],
     "language": "python",
     "metadata": {},
     "outputs": [
      {
       "output_type": "stream",
       "stream": "stderr",
       "text": [
        "C:\\Anaconda\\lib\\site-packages\\pandas\\io\\parsers.py:1150: DtypeWarning: Columns (0,2,3,4,5,6,7,8,9,10,11,12,13,14,15,16,17,18,19,20,21,22,23,25,26,27,28,29,30,31,32,33,34,35,36,37,38,39,40,41,42,43,44,45,46,47,48,49,50,51,52,53,54,56,57,58,59,60,61,62,63,64,65,66,67,68,69,70,71,72,73,74,75,76,85,86,122,123,124,125,126,127,128,129,130,131,132,133,134,135,136,137,138,139,140,185,186,187,188,189,190,191,192,193,194,195,196,197,198,199,200,201,202,203,204,205,206,207,208,209,210,211,212,213,214,215,216,217,218,219,220,221,222,223,224,225,226,227,228,229,230,231,232,233,234,235,236,237,238,239,241,242,243,244,245,246,247,248,249,250,251,252,253,254,255,256,258,259,260,263,264,265,266,267,269,270,271,313,314,315,316,317,318,319,320,321,322,333,334,335,336,337,338,339,340,341,342,343,349,360,388,389,390,391,392,393,394,395,396,397,398,399,400,401,402,403,404,405,406,407,408,409,410,411,412,413,414,415,416,417,418,419,420,421,422,423,424,425,426,427,428,429,430,431,432,433,434,435,436,437,438,439,440,441,442,443,444,445,446,447,448,449,450,473,474,475,476,477,478,479,480,481,482,483,585,586,587,588,589,590,591,592,666,667,669,670,671,672,673,674,675,676,677,678,679,680,681,682,683,684,685,686,687,688,689,690,691,692,693,694,695,696,697,698,699,700,701,702,703,704,705,761,762,763,764,765,766,767,768,769,770,771,772,773,774,775,776,777,778,779,780,781,782,783,784,785,786,787,788,789,790,791,792,793,794,795,796,797,798,799,800,801,802,803,804,805,806,807,808,809,810,811,812,813,814,815,816,817,818,819,820,821,822,823,824,825,826,827,828,829,830,831,832,883,884,885,886,887,888,889,890,891,892,893,894,895,896,897,898,899,900,901,902,903,904) have mixed types. Specify dtype option on import or set low_memory=False.\n",
        "  data = self._reader.read(nrows)\n"
       ]
      }
     ],
     "prompt_number": 23
    },
    {
     "cell_type": "code",
     "collapsed": false,
     "input": [
      "print agtProd.columns[2:13]\n",
      "agtProd[agtProd.columns[2]].dtype"
     ],
     "language": "python",
     "metadata": {},
     "outputs": [
      {
       "output_type": "stream",
       "stream": "stdout",
       "text": [
        "Index([u'VOL AUTO 2005', u'VOL AUTO 2006', u'VOL AUTO 2007', u'VOL AUTO 2008', u'VOL AUTO 2009', u'VOL AUTO 2010', u'VOL AUTO 2011', u'VOL AUTO 2012', u'VOL AUTO 2013-11 PYTD', u'VOL AUTO 2013', u'VOL AUTO 2014-11 YTD'], dtype='object')\n"
       ]
      },
      {
       "metadata": {},
       "output_type": "pyout",
       "prompt_number": 38,
       "text": [
        "dtype('O')"
       ]
      }
     ],
     "prompt_number": 38
    },
    {
     "cell_type": "code",
     "collapsed": false,
     "input": [
      "agtProd[agtProd.columns[2:13]].applymap(lambda x: float(x))"
     ],
     "language": "python",
     "metadata": {},
     "outputs": [
      {
       "ename": "ValueError",
       "evalue": "('invalid literal for float(): 1,004', u'occurred at index VOL AUTO 2005')",
       "output_type": "pyerr",
       "traceback": [
        "\u001b[1;31m---------------------------------------------------------------------------\u001b[0m\n\u001b[1;31mValueError\u001b[0m                                Traceback (most recent call last)",
        "\u001b[1;32m<ipython-input-40-2bea83689890>\u001b[0m in \u001b[0;36m<module>\u001b[1;34m()\u001b[0m\n\u001b[1;32m----> 1\u001b[1;33m \u001b[0magtProd\u001b[0m\u001b[1;33m[\u001b[0m\u001b[0magtProd\u001b[0m\u001b[1;33m.\u001b[0m\u001b[0mcolumns\u001b[0m\u001b[1;33m[\u001b[0m\u001b[1;36m2\u001b[0m\u001b[1;33m:\u001b[0m\u001b[1;36m13\u001b[0m\u001b[1;33m]\u001b[0m\u001b[1;33m]\u001b[0m\u001b[1;33m.\u001b[0m\u001b[0mapplymap\u001b[0m\u001b[1;33m(\u001b[0m\u001b[1;32mlambda\u001b[0m \u001b[0mx\u001b[0m\u001b[1;33m:\u001b[0m \u001b[0mfloat\u001b[0m\u001b[1;33m(\u001b[0m\u001b[0mx\u001b[0m\u001b[1;33m)\u001b[0m\u001b[1;33m)\u001b[0m\u001b[1;33m\u001b[0m\u001b[0m\n\u001b[0m",
        "\u001b[1;32mC:\\Anaconda\\lib\\site-packages\\pandas\\core\\frame.pyc\u001b[0m in \u001b[0;36mapplymap\u001b[1;34m(self, func)\u001b[0m\n\u001b[0;32m   3725\u001b[0m                 \u001b[0mx\u001b[0m \u001b[1;33m=\u001b[0m \u001b[0mlib\u001b[0m\u001b[1;33m.\u001b[0m\u001b[0mmap_infer\u001b[0m\u001b[1;33m(\u001b[0m\u001b[0m_values_from_object\u001b[0m\u001b[1;33m(\u001b[0m\u001b[0mx\u001b[0m\u001b[1;33m)\u001b[0m\u001b[1;33m,\u001b[0m \u001b[0mf\u001b[0m\u001b[1;33m)\u001b[0m\u001b[1;33m\u001b[0m\u001b[0m\n\u001b[0;32m   3726\u001b[0m             \u001b[1;32mreturn\u001b[0m \u001b[0mlib\u001b[0m\u001b[1;33m.\u001b[0m\u001b[0mmap_infer\u001b[0m\u001b[1;33m(\u001b[0m\u001b[0m_values_from_object\u001b[0m\u001b[1;33m(\u001b[0m\u001b[0mx\u001b[0m\u001b[1;33m)\u001b[0m\u001b[1;33m,\u001b[0m \u001b[0mfunc\u001b[0m\u001b[1;33m)\u001b[0m\u001b[1;33m\u001b[0m\u001b[0m\n\u001b[1;32m-> 3727\u001b[1;33m         \u001b[1;32mreturn\u001b[0m \u001b[0mself\u001b[0m\u001b[1;33m.\u001b[0m\u001b[0mapply\u001b[0m\u001b[1;33m(\u001b[0m\u001b[0minfer\u001b[0m\u001b[1;33m)\u001b[0m\u001b[1;33m\u001b[0m\u001b[0m\n\u001b[0m\u001b[0;32m   3728\u001b[0m \u001b[1;33m\u001b[0m\u001b[0m\n\u001b[0;32m   3729\u001b[0m     \u001b[1;31m#----------------------------------------------------------------------\u001b[0m\u001b[1;33m\u001b[0m\u001b[1;33m\u001b[0m\u001b[0m\n",
        "\u001b[1;32mC:\\Anaconda\\lib\\site-packages\\pandas\\core\\frame.pyc\u001b[0m in \u001b[0;36mapply\u001b[1;34m(self, func, axis, broadcast, raw, reduce, args, **kwds)\u001b[0m\n\u001b[0;32m   3556\u001b[0m                     \u001b[1;32mif\u001b[0m \u001b[0mreduce\u001b[0m \u001b[1;32mis\u001b[0m \u001b[0mNone\u001b[0m\u001b[1;33m:\u001b[0m\u001b[1;33m\u001b[0m\u001b[0m\n\u001b[0;32m   3557\u001b[0m                         \u001b[0mreduce\u001b[0m \u001b[1;33m=\u001b[0m \u001b[0mTrue\u001b[0m\u001b[1;33m\u001b[0m\u001b[0m\n\u001b[1;32m-> 3558\u001b[1;33m                     \u001b[1;32mreturn\u001b[0m \u001b[0mself\u001b[0m\u001b[1;33m.\u001b[0m\u001b[0m_apply_standard\u001b[0m\u001b[1;33m(\u001b[0m\u001b[0mf\u001b[0m\u001b[1;33m,\u001b[0m \u001b[0maxis\u001b[0m\u001b[1;33m,\u001b[0m \u001b[0mreduce\u001b[0m\u001b[1;33m=\u001b[0m\u001b[0mreduce\u001b[0m\u001b[1;33m)\u001b[0m\u001b[1;33m\u001b[0m\u001b[0m\n\u001b[0m\u001b[0;32m   3559\u001b[0m             \u001b[1;32melse\u001b[0m\u001b[1;33m:\u001b[0m\u001b[1;33m\u001b[0m\u001b[0m\n\u001b[0;32m   3560\u001b[0m                 \u001b[1;32mreturn\u001b[0m \u001b[0mself\u001b[0m\u001b[1;33m.\u001b[0m\u001b[0m_apply_broadcast\u001b[0m\u001b[1;33m(\u001b[0m\u001b[0mf\u001b[0m\u001b[1;33m,\u001b[0m \u001b[0maxis\u001b[0m\u001b[1;33m)\u001b[0m\u001b[1;33m\u001b[0m\u001b[0m\n",
        "\u001b[1;32mC:\\Anaconda\\lib\\site-packages\\pandas\\core\\frame.pyc\u001b[0m in \u001b[0;36m_apply_standard\u001b[1;34m(self, func, axis, ignore_failures, reduce)\u001b[0m\n\u001b[0;32m   3646\u001b[0m             \u001b[1;32mtry\u001b[0m\u001b[1;33m:\u001b[0m\u001b[1;33m\u001b[0m\u001b[0m\n\u001b[0;32m   3647\u001b[0m                 \u001b[1;32mfor\u001b[0m \u001b[0mi\u001b[0m\u001b[1;33m,\u001b[0m \u001b[0mv\u001b[0m \u001b[1;32min\u001b[0m \u001b[0menumerate\u001b[0m\u001b[1;33m(\u001b[0m\u001b[0mseries_gen\u001b[0m\u001b[1;33m)\u001b[0m\u001b[1;33m:\u001b[0m\u001b[1;33m\u001b[0m\u001b[0m\n\u001b[1;32m-> 3648\u001b[1;33m                     \u001b[0mresults\u001b[0m\u001b[1;33m[\u001b[0m\u001b[0mi\u001b[0m\u001b[1;33m]\u001b[0m \u001b[1;33m=\u001b[0m \u001b[0mfunc\u001b[0m\u001b[1;33m(\u001b[0m\u001b[0mv\u001b[0m\u001b[1;33m)\u001b[0m\u001b[1;33m\u001b[0m\u001b[0m\n\u001b[0m\u001b[0;32m   3649\u001b[0m                     \u001b[0mkeys\u001b[0m\u001b[1;33m.\u001b[0m\u001b[0mappend\u001b[0m\u001b[1;33m(\u001b[0m\u001b[0mv\u001b[0m\u001b[1;33m.\u001b[0m\u001b[0mname\u001b[0m\u001b[1;33m)\u001b[0m\u001b[1;33m\u001b[0m\u001b[0m\n\u001b[0;32m   3650\u001b[0m             \u001b[1;32mexcept\u001b[0m \u001b[0mException\u001b[0m \u001b[1;32mas\u001b[0m \u001b[0me\u001b[0m\u001b[1;33m:\u001b[0m\u001b[1;33m\u001b[0m\u001b[0m\n",
        "\u001b[1;32mC:\\Anaconda\\lib\\site-packages\\pandas\\core\\frame.pyc\u001b[0m in \u001b[0;36minfer\u001b[1;34m(x)\u001b[0m\n\u001b[0;32m   3724\u001b[0m                 \u001b[0mf\u001b[0m \u001b[1;33m=\u001b[0m \u001b[0mcom\u001b[0m\u001b[1;33m.\u001b[0m\u001b[0mi8_boxer\u001b[0m\u001b[1;33m(\u001b[0m\u001b[0mx\u001b[0m\u001b[1;33m)\u001b[0m\u001b[1;33m\u001b[0m\u001b[0m\n\u001b[0;32m   3725\u001b[0m                 \u001b[0mx\u001b[0m \u001b[1;33m=\u001b[0m \u001b[0mlib\u001b[0m\u001b[1;33m.\u001b[0m\u001b[0mmap_infer\u001b[0m\u001b[1;33m(\u001b[0m\u001b[0m_values_from_object\u001b[0m\u001b[1;33m(\u001b[0m\u001b[0mx\u001b[0m\u001b[1;33m)\u001b[0m\u001b[1;33m,\u001b[0m \u001b[0mf\u001b[0m\u001b[1;33m)\u001b[0m\u001b[1;33m\u001b[0m\u001b[0m\n\u001b[1;32m-> 3726\u001b[1;33m             \u001b[1;32mreturn\u001b[0m \u001b[0mlib\u001b[0m\u001b[1;33m.\u001b[0m\u001b[0mmap_infer\u001b[0m\u001b[1;33m(\u001b[0m\u001b[0m_values_from_object\u001b[0m\u001b[1;33m(\u001b[0m\u001b[0mx\u001b[0m\u001b[1;33m)\u001b[0m\u001b[1;33m,\u001b[0m \u001b[0mfunc\u001b[0m\u001b[1;33m)\u001b[0m\u001b[1;33m\u001b[0m\u001b[0m\n\u001b[0m\u001b[0;32m   3727\u001b[0m         \u001b[1;32mreturn\u001b[0m \u001b[0mself\u001b[0m\u001b[1;33m.\u001b[0m\u001b[0mapply\u001b[0m\u001b[1;33m(\u001b[0m\u001b[0minfer\u001b[0m\u001b[1;33m)\u001b[0m\u001b[1;33m\u001b[0m\u001b[0m\n\u001b[0;32m   3728\u001b[0m \u001b[1;33m\u001b[0m\u001b[0m\n",
        "\u001b[1;32mC:\\Anaconda\\lib\\site-packages\\pandas\\lib.pyd\u001b[0m in \u001b[0;36mpandas.lib.map_infer (pandas\\lib.c:56671)\u001b[1;34m()\u001b[0m\n",
        "\u001b[1;32m<ipython-input-40-2bea83689890>\u001b[0m in \u001b[0;36m<lambda>\u001b[1;34m(x)\u001b[0m\n\u001b[1;32m----> 1\u001b[1;33m \u001b[0magtProd\u001b[0m\u001b[1;33m[\u001b[0m\u001b[0magtProd\u001b[0m\u001b[1;33m.\u001b[0m\u001b[0mcolumns\u001b[0m\u001b[1;33m[\u001b[0m\u001b[1;36m2\u001b[0m\u001b[1;33m:\u001b[0m\u001b[1;36m13\u001b[0m\u001b[1;33m]\u001b[0m\u001b[1;33m]\u001b[0m\u001b[1;33m.\u001b[0m\u001b[0mapplymap\u001b[0m\u001b[1;33m(\u001b[0m\u001b[1;32mlambda\u001b[0m \u001b[0mx\u001b[0m\u001b[1;33m:\u001b[0m \u001b[0mfloat\u001b[0m\u001b[1;33m(\u001b[0m\u001b[0mx\u001b[0m\u001b[1;33m)\u001b[0m\u001b[1;33m)\u001b[0m\u001b[1;33m\u001b[0m\u001b[0m\n\u001b[0m",
        "\u001b[1;31mValueError\u001b[0m: ('invalid literal for float(): 1,004', u'occurred at index VOL AUTO 2005')"
       ]
      }
     ],
     "prompt_number": 40
    },
    {
     "cell_type": "code",
     "collapsed": false,
     "input": [
      "agtProd = pd.read_csv('../../Notes/agentProd.csv', thousands=',' ,dtype={'SSN':np.str})"
     ],
     "language": "python",
     "metadata": {},
     "outputs": [],
     "prompt_number": 59
    },
    {
     "cell_type": "code",
     "collapsed": false,
     "input": [
      "agentList['AWARDS ID'].value_counts()"
     ],
     "language": "python",
     "metadata": {},
     "outputs": [
      {
       "metadata": {},
       "output_type": "pyout",
       "prompt_number": 60,
       "text": [
        "110778    4\n",
        "100224    4\n",
        "123226    4\n",
        "136666    4\n",
        "110939    4\n",
        "105431    4\n",
        "100206    4\n",
        "109649    4\n",
        "100849    4\n",
        "102134    3\n",
        "111896    3\n",
        "101033    3\n",
        "107033    3\n",
        "101000    3\n",
        "119365    3\n",
        "...\n",
        "113347    1\n",
        "113348    1\n",
        "113349    1\n",
        "113350    1\n",
        "113351    1\n",
        "113352    1\n",
        "113354    1\n",
        "113355    1\n",
        "113356    1\n",
        "113357    1\n",
        "113359    1\n",
        "113360    1\n",
        "113361    1\n",
        "113362    1\n",
        "132104    1\n",
        "Length: 37235, dtype: int64"
       ]
      }
     ],
     "prompt_number": 60
    },
    {
     "cell_type": "code",
     "collapsed": false,
     "input": [
      "agentList.columns"
     ],
     "language": "python",
     "metadata": {},
     "outputs": [
      {
       "metadata": {},
       "output_type": "pyout",
       "prompt_number": 67,
       "text": [
        "Index([u'SSN', u'AWARDS ID', u'RO', u'ST', u'CODE', u'ST-CODE', u'PRIMARY ST-AGT-CD', u'CODE TYPE', u'NAME', u'SL TERR', u'STATE', u'STATE.1', u'GEO MARKET AREA', u'APPOINT DATE', u'FIRST APPOINT DATE', u'STATUS', u'CUR PLAN CODE', u'DATE OF PLAN', u'CONTRACT ID1', u'CONTRACT ID2', u'MIGRATION DATE', u'TERMINATION DATE', u'REASON TERMINATED', u'NEW ST-CODE', u'EARLY NOTIFICATION PROGRAM DATE', u'NON-RESIDENT STATES', u'NON-RESIDENT STATES.1', u'NON-RESIDENT STATES.2', u'NON-RESIDENT STATES.3', u'APPOINTMENT TYPE', u'SF SERVICE DATE', u'SF LENGTH OF SERVICE YRS', u'LOS SINCE APPOINTMENT', u'VAR PRODUCTS LIC DATE', u'MUTUAL FUNDS LIC DATE', u'VAR PRODUCTS LIC STOP DATE', u'VAR PROD LIC STOP REASON', u'BANK START DATE', u'NUM AFLH LICENSED STAFF', u'NUM LICENSED STAFF', u'NUM UNLICENSED STAFF', u'ASSIGNMENT CORE CRITERIA', u'CORE CRITERIA OVERRIDE', u'BIRTH DATE', u'DATE OF DEATH', u'AGENT AGE IN YEARS', u'EDUC LEVEL CODE', u'GENDER', u'RACE', u'MARITAL STATUS', u'CPCU', u'CLU', u'CHFC', u'FLMI', u'FLMI.1', u'FIIC', u'CFP', u'SELECT AGENT', u'SELECT AGENT.1', u'SELECT AGENT.2', u'SELECT AGENT.3', u'SELECT AGENT.4', u'SELECT AGENT.5', u'SELECT AGENT.6', u'SELECT AGENT.7', u'SELECT AGENT.8', u'SELECT AGENT.9', u'SELECT AGENT.10', u'SELECT AGENT.11', u'SELECT AGENT.12', u'SELECT AGENT.13', u'SELECT CERTIFIED FROM', u'SELECT CERTIFIED FROM.1', u'SELECT CERTIFIED FROM.2', u'SELECT CERTIFIED FROM.3', u'SELECT CERTIFIED FROM.4', u'SELECT CERTIFIED FROM.5', u'SELECT CERTIFIED FROM.6', u'SELECT CERTIFIED FROM.7', u'SELECT CERTIFIED FROM.8', u'SELECT CERTIFIED FROM.9', u'SELECT CERTIFIED FROM.10', u'SELECT CERTIFIED FROM.11', u'SELECT CERTIFIED FROM.12', u'SELECT CERTIFIED FROM.13', u'SELECT CERTIFIED TO', u'SELECT CERTIFIED TO.1', u'SELECT CERTIFIED TO.2', u'SELECT CERTIFIED TO.3', u'SELECT CERTIFIED TO.4', u'SELECT CERTIFIED TO.5', u'SELECT CERTIFIED TO.6', u'SELECT CERTIFIED TO.7', u'SELECT CERTIFIED TO.8', u'SELECT CERTIFIED TO.9', u'SELECT CERTIFIED TO.10', u'SELECT CERTIFIED TO.11', u'SELECT CERTIFIED TO.12', u'SELECT CERTIFIED TO.13', u'SELECT CRITERIA OVERRIDE', ...], dtype='object')"
       ]
      }
     ],
     "prompt_number": 67
    },
    {
     "cell_type": "code",
     "collapsed": false,
     "input": [
      "agentList[agentList['AWARDS ID'] == 110778]"
     ],
     "language": "python",
     "metadata": {},
     "outputs": [
      {
       "html": [
        "<div style=\"max-height:1000px;max-width:1500px;overflow:auto;\">\n",
        "<table border=\"1\" class=\"dataframe\">\n",
        "  <thead>\n",
        "    <tr style=\"text-align: right;\">\n",
        "      <th></th>\n",
        "      <th>SSN</th>\n",
        "      <th>AWARDS ID</th>\n",
        "      <th>RO</th>\n",
        "      <th>ST</th>\n",
        "      <th>CODE</th>\n",
        "      <th>ST-CODE</th>\n",
        "      <th>PRIMARY ST-AGT-CD</th>\n",
        "      <th>CODE TYPE</th>\n",
        "      <th>NAME</th>\n",
        "      <th>SL TERR</th>\n",
        "      <th>...</th>\n",
        "      <th>EMAIL ALIAS</th>\n",
        "      <th>EMAIL NAME W/O @SF.COM</th>\n",
        "      <th>MARKET AREA.1</th>\n",
        "      <th>SL TERR.1</th>\n",
        "      <th>SL TERRITORY NAME.1</th>\n",
        "      <th>SALES LEADER.1</th>\n",
        "      <th>MOA AWARDS-ID</th>\n",
        "      <th>MOA ST-AGT-CD</th>\n",
        "      <th>PRIMARY AWARDS-ID</th>\n",
        "      <th>PRIMARY ST-AGT-CD.1</th>\n",
        "    </tr>\n",
        "  </thead>\n",
        "  <tbody>\n",
        "    <tr>\n",
        "      <th>11132</th>\n",
        "      <td> 288589885</td>\n",
        "      <td> 110778</td>\n",
        "      <td> 19</td>\n",
        "      <td> 59</td>\n",
        "      <td> 2181</td>\n",
        "      <td> 59-2181</td>\n",
        "      <td> 592181</td>\n",
        "      <td> 1</td>\n",
        "      <td> Burch, Pam</td>\n",
        "      <td> AD23</td>\n",
        "      <td>...</td>\n",
        "      <td>  NaN</td>\n",
        "      <td>            NaN</td>\n",
        "      <td>      Florida</td>\n",
        "      <td> AD23</td>\n",
        "      <td>               NaN</td>\n",
        "      <td>           NaN</td>\n",
        "      <td>NaN</td>\n",
        "      <td> NaN</td>\n",
        "      <td>NaN</td>\n",
        "      <td> NaN</td>\n",
        "    </tr>\n",
        "    <tr>\n",
        "      <th>11133</th>\n",
        "      <td> 288589885</td>\n",
        "      <td> 110778</td>\n",
        "      <td> 19</td>\n",
        "      <td> 59</td>\n",
        "      <td> 2746</td>\n",
        "      <td> 59-2746</td>\n",
        "      <td> 592746</td>\n",
        "      <td> 1</td>\n",
        "      <td> Burch, Pam</td>\n",
        "      <td> F599</td>\n",
        "      <td>...</td>\n",
        "      <td>  NaN</td>\n",
        "      <td>            NaN</td>\n",
        "      <td>      Florida</td>\n",
        "      <td> F599</td>\n",
        "      <td> AFO Dade County A</td>\n",
        "      <td>           NaN</td>\n",
        "      <td>NaN</td>\n",
        "      <td> NaN</td>\n",
        "      <td>NaN</td>\n",
        "      <td> NaN</td>\n",
        "    </tr>\n",
        "    <tr>\n",
        "      <th>11134</th>\n",
        "      <td> 288589885</td>\n",
        "      <td> 110778</td>\n",
        "      <td> 28</td>\n",
        "      <td> 19</td>\n",
        "      <td> 1079</td>\n",
        "      <td> 19-1079</td>\n",
        "      <td> 191079</td>\n",
        "      <td> 1</td>\n",
        "      <td> Burch, Pam</td>\n",
        "      <td> F874</td>\n",
        "      <td>...</td>\n",
        "      <td>  NaN</td>\n",
        "      <td>            NaN</td>\n",
        "      <td>      Eastern</td>\n",
        "      <td> F874</td>\n",
        "      <td>         AFO Maine</td>\n",
        "      <td>           NaN</td>\n",
        "      <td>NaN</td>\n",
        "      <td> NaN</td>\n",
        "      <td>NaN</td>\n",
        "      <td> NaN</td>\n",
        "    </tr>\n",
        "    <tr>\n",
        "      <th>11135</th>\n",
        "      <td> 288589885</td>\n",
        "      <td> 110778</td>\n",
        "      <td> 11</td>\n",
        "      <td> 42</td>\n",
        "      <td> 2156</td>\n",
        "      <td> 42-2156</td>\n",
        "      <td> 422156</td>\n",
        "      <td> 1</td>\n",
        "      <td> Burch, Pam</td>\n",
        "      <td> FBD8</td>\n",
        "      <td>...</td>\n",
        "      <td> BX8T</td>\n",
        "      <td> pam.burch.bx8t</td>\n",
        "      <td> Southeastern</td>\n",
        "      <td> FBD8</td>\n",
        "      <td>     Germantown TN</td>\n",
        "      <td> Womack, Scott</td>\n",
        "      <td>NaN</td>\n",
        "      <td> NaN</td>\n",
        "      <td>NaN</td>\n",
        "      <td> NaN</td>\n",
        "    </tr>\n",
        "  </tbody>\n",
        "</table>\n",
        "<p>4 rows \u00d7 245 columns</p>\n",
        "</div>"
       ],
       "metadata": {},
       "output_type": "pyout",
       "prompt_number": 61,
       "text": [
        "             SSN  AWARDS ID  RO  ST  CODE  ST-CODE PRIMARY ST-AGT-CD  \\\n",
        "11132  288589885     110778  19  59  2181  59-2181            592181   \n",
        "11133  288589885     110778  19  59  2746  59-2746            592746   \n",
        "11134  288589885     110778  28  19  1079  19-1079            191079   \n",
        "11135  288589885     110778  11  42  2156  42-2156            422156   \n",
        "\n",
        "       CODE TYPE        NAME SL TERR         ...          EMAIL ALIAS  \\\n",
        "11132          1  Burch, Pam    AD23         ...                  NaN   \n",
        "11133          1  Burch, Pam    F599         ...                  NaN   \n",
        "11134          1  Burch, Pam    F874         ...                  NaN   \n",
        "11135          1  Burch, Pam    FBD8         ...                 BX8T   \n",
        "\n",
        "      EMAIL NAME W/O @SF.COM MARKET AREA.1 SL TERR.1 SL TERRITORY NAME.1  \\\n",
        "11132                    NaN       Florida      AD23                 NaN   \n",
        "11133                    NaN       Florida      F599   AFO Dade County A   \n",
        "11134                    NaN       Eastern      F874           AFO Maine   \n",
        "11135         pam.burch.bx8t  Southeastern      FBD8       Germantown TN   \n",
        "\n",
        "       SALES LEADER.1 MOA AWARDS-ID MOA ST-AGT-CD  PRIMARY AWARDS-ID  \\\n",
        "11132             NaN           NaN           NaN                NaN   \n",
        "11133             NaN           NaN           NaN                NaN   \n",
        "11134             NaN           NaN           NaN                NaN   \n",
        "11135   Womack, Scott           NaN           NaN                NaN   \n",
        "\n",
        "       PRIMARY ST-AGT-CD.1  \n",
        "11132                  NaN  \n",
        "11133                  NaN  \n",
        "11134                  NaN  \n",
        "11135                  NaN  \n",
        "\n",
        "[4 rows x 245 columns]"
       ]
      }
     ],
     "prompt_number": 61
    },
    {
     "cell_type": "code",
     "collapsed": false,
     "input": [
      "fireCols"
     ],
     "language": "python",
     "metadata": {},
     "outputs": [
      {
       "metadata": {},
       "output_type": "pyout",
       "prompt_number": 370,
       "text": [
        "['FIRE 2005',\n",
        " 'FIRE 2006',\n",
        " 'FIRE 2007',\n",
        " 'FIRE 2008',\n",
        " 'FIRE 2009',\n",
        " 'FIRE 2010',\n",
        " 'FIRE 2011',\n",
        " 'FIRE 2012',\n",
        " 'FIRE 2013',\n",
        " 'FIRE PERSONAL LINES 2005',\n",
        " 'FIRE PERSONAL LINES 2006',\n",
        " 'FIRE PERSONAL LINES 2007',\n",
        " 'FIRE PERSONAL LINES 2008',\n",
        " 'FIRE PERSONAL LINES 2009',\n",
        " 'FIRE PERSONAL LINES 2010',\n",
        " 'FIRE PERSONAL LINES 2011',\n",
        " 'FIRE PERSONAL LINES 2012',\n",
        " 'FIRE PERSONAL LINES 2013',\n",
        " 'FIRE ALL COMMERCIAL LINES 2005',\n",
        " 'FIRE ALL COMMERCIAL LINES 2006',\n",
        " 'FIRE ALL COMMERCIAL LINES 2007',\n",
        " 'FIRE ALL COMMERCIAL LINES 2008',\n",
        " 'FIRE ALL COMMERCIAL LINES 2009',\n",
        " 'FIRE ALL COMMERCIAL LINES 2010',\n",
        " 'FIRE ALL COMMERCIAL LINES 2011',\n",
        " 'FIRE ALL COMMERCIAL LINES 2012',\n",
        " 'FIRE ALL COMMERCIAL LINES 2013',\n",
        " 'FIRE BUSINESS LINES 2005',\n",
        " 'FIRE BUSINESS LINES 2006',\n",
        " 'FIRE BUSINESS LINES 2007',\n",
        " 'FIRE BUSINESS LINES 2008',\n",
        " 'FIRE BUSINESS LINES 2009',\n",
        " 'FIRE BUSINESS LINES 2010',\n",
        " 'FIRE BUSINESS LINES 2011',\n",
        " 'FIRE BUSINESS LINES 2012',\n",
        " 'FIRE BUSINESS LINES 2013',\n",
        " 'FIRE BEGINNING PIF 2005',\n",
        " 'FIRE BEGINNING PIF 2006',\n",
        " 'FIRE BEGINNING PIF 2007',\n",
        " 'FIRE BEGINNING PIF 2008',\n",
        " 'FIRE BEGINNING PIF 2009',\n",
        " 'FIRE BEGINNING PIF 2010',\n",
        " 'FIRE BEGINNING PIF 2011',\n",
        " 'FIRE BEGINNING PIF 2012',\n",
        " 'FIRE BEGINNING PIF 2013',\n",
        " 'FIRE BEGINNING PIF 2014',\n",
        " 'FIRE ENDING PIF 2005',\n",
        " 'FIRE ENDING PIF 2006',\n",
        " 'FIRE ENDING PIF 2007',\n",
        " 'FIRE ENDING PIF 2008',\n",
        " 'FIRE ENDING PIF 2009',\n",
        " 'FIRE ENDING PIF 2010',\n",
        " 'FIRE ENDING PIF 2011',\n",
        " 'FIRE ENDING PIF 2012',\n",
        " 'FIRE ENDING PIF 2013',\n",
        " 'FIRE ENDING PIF 2014']"
       ]
      }
     ],
     "prompt_number": 370
    },
    {
     "cell_type": "code",
     "collapsed": false,
     "input": [
      "y2008 = [c for c in agtProd if c.endswith('2008')]"
     ],
     "language": "python",
     "metadata": {},
     "outputs": [],
     "prompt_number": 373
    },
    {
     "cell_type": "code",
     "collapsed": false,
     "input": [
      "y2008"
     ],
     "language": "python",
     "metadata": {},
     "outputs": [
      {
       "metadata": {},
       "output_type": "pyout",
       "prompt_number": 374,
       "text": [
        "['VOL AUTO 2008',\n",
        " 'AUTO RAW NEW 2008',\n",
        " 'AUTO BEGINNING PIF 2008',\n",
        " 'AUTO ENDING PIF 2008',\n",
        " 'FIRE 2008',\n",
        " 'FIRE PERSONAL LINES 2008',\n",
        " 'HOMEOWNERS 2008',\n",
        " 'OTHER PERSONAL LINES 2008',\n",
        " 'FIRE ALL COMMERCIAL LINES 2008',\n",
        " 'FIRE BUSINESS LINES 2008',\n",
        " 'OTHER LINES FLOOD 2008',\n",
        " 'FIRE BEGINNING PIF 2008',\n",
        " 'FIRE ENDING PIF 2008',\n",
        " 'LIFE POLS 2008',\n",
        " 'VARIABLE LIFE POLS 2008',\n",
        " 'PHOENIX POLS 2008',\n",
        " 'PHOENIX VARIABLE POLS 2008',\n",
        " 'LIFE PREM 2008',\n",
        " 'VARIABLE LIFE PREM 2008',\n",
        " 'PHOENIX PREM 2008',\n",
        " 'PHOENIX VARIABLE PREM 2008',\n",
        " 'LIFE VOLUME 2008',\n",
        " 'VARIABLE LIFE VOLUME 2008',\n",
        " 'PHOENIX LIFE VOLUME 2008',\n",
        " 'PHOENIX VARIABLE LIFE VOLUME 2008',\n",
        " 'LIFE 2ND YR PERSIST 2008',\n",
        " 'LIFE 1ST YR PERSIST DEC 31 2008',\n",
        " 'LIFE 1ST YR PLACED 2008',\n",
        " 'LIFE CUR YR PLACED 2008',\n",
        " 'LIFE PIF 2008',\n",
        " 'VARIABLE LIFE PIF 2008',\n",
        " 'LIFE TOTAL COMM 2008',\n",
        " 'HEALTH POLS 2008',\n",
        " 'LTC POLS 2008',\n",
        " 'MED SUPP POLS 2008',\n",
        " 'ASSURANT POLS 2008',\n",
        " 'HEALTH PREM 2008',\n",
        " 'LTC PREM 2008',\n",
        " 'MED SUPP PREM 2008',\n",
        " 'ICDI PREM 2008',\n",
        " 'ASSURANT PREM 2008',\n",
        " 'HEALTH PIF 2008',\n",
        " 'LTC PIF 2008',\n",
        " 'MED SUPP PIF 2008',\n",
        " 'HEALTH TOTAL COMM 2008',\n",
        " 'BANK DEPOSIT PRODUCTS 2008',\n",
        " 'BANK LOAN PRODUCTS 2008',\n",
        " 'VEHICLE LOANS 2008',\n",
        " 'HOME LOAN PRODUCTS 2008',\n",
        " 'MORTGAGES 2008',\n",
        " 'HOME EQ LINES OF CREDIT 2008',\n",
        " 'HOME EQUITY LOANS 2008',\n",
        " 'COMMERCIAL LOANS 2008',\n",
        " 'FINANCIAL CARDS 2008',\n",
        " 'BANK NUM OPEN DEP ACCTS 2008',\n",
        " 'BANK NUM OPEN LOAN ACCTS 2008',\n",
        " 'BANK NUM OPEN VEH LOANS 2008',\n",
        " 'BANK NUM OPEN HOME LOAN ACCTS 2008',\n",
        " 'BANK NUM OPEN MORTGAGES 2008',\n",
        " 'BANK NUM OPEN HOME EQ LOC 2008',\n",
        " 'BANK NUM OPEN HOME EQ LOANS 2008',\n",
        " 'BANK NUM OPEN CML LOANS 2008',\n",
        " 'BANK NUM OPEN FIN CARDS 2008',\n",
        " 'BANK NEW COMM 2008',\n",
        " 'BANK MORT COMM 2008',\n",
        " 'BANK TOTAL COMM 2008',\n",
        " 'MUT FUNDS NEW ACCTS 2008',\n",
        " 'MUT FUNDS NAV ACCTS 2008',\n",
        " 'MUT FUNDS NON-NAV ACCTS 2008',\n",
        " '529 NAV ACCTS 2008',\n",
        " '529 NON-NAV ACCTS 2008',\n",
        " 'MUT FUNDS NEW MONEY 2008',\n",
        " '401K NEW MONEY 2008',\n",
        " 'MUT FUNDS ASSETS UNDER MGMT 2008',\n",
        " 'NAV ASSETS UNDER MGMT 2008',\n",
        " 'NON-NAV ASSETS UNDER MGMT 2008',\n",
        " '529 NAV ASSETS UNDER MGMT 2008',\n",
        " '529 NON-NAV ASSETS UNDER MGMT 2008',\n",
        " 'MUT FUNDS NUM OPEN ACCTS 2008',\n",
        " 'NAV NUM OPEN ACCTS 2008',\n",
        " 'NON-NAV NUM OPEN ACCTS 2008',\n",
        " '529 NAV NUM OPEN ACCTS 2008',\n",
        " '529 NON-NAV NUM OPEN ACCTS 2008',\n",
        " 'MUT FUNDS NEW COMM 2008',\n",
        " 'MUT FUNDS TOTAL COMM 2008']"
       ]
      }
     ],
     "prompt_number": 374
    },
    {
     "cell_type": "code",
     "collapsed": false,
     "input": [
      "fireY1"
     ],
     "language": "python",
     "metadata": {},
     "outputs": [
      {
       "metadata": {},
       "output_type": "pyout",
       "prompt_number": 372,
       "text": [
        "['FIRE 2008',\n",
        " 'FIRE PERSONAL LINES 2008',\n",
        " 'FIRE ALL COMMERCIAL LINES 2008',\n",
        " 'FIRE BUSINESS LINES 2008',\n",
        " 'FIRE BEGINNING PIF 2008',\n",
        " 'FIRE ENDING PIF 2008']"
       ]
      }
     ],
     "prompt_number": 372
    },
    {
     "cell_type": "code",
     "collapsed": false,
     "input": [
      "agtProd[agtProd.AWARDS_ID == 110778][y1]"
     ],
     "language": "python",
     "metadata": {},
     "outputs": [
      {
       "html": [
        "<div style=\"max-height:1000px;max-width:1500px;overflow:auto;\">\n",
        "<table border=\"1\" class=\"dataframe\">\n",
        "  <thead>\n",
        "    <tr style=\"text-align: right;\">\n",
        "      <th></th>\n",
        "      <th>VOL AUTO 2006</th>\n",
        "      <th>AUTO RAW NEW 2006</th>\n",
        "      <th>AUTO BEGINNING PIF 2006</th>\n",
        "      <th>AUTO ENDING PIF 2006</th>\n",
        "      <th>FIRE 2006</th>\n",
        "      <th>FIRE PERSONAL LINES 2006</th>\n",
        "      <th>HOMEOWNERS 2006</th>\n",
        "      <th>OTHER PERSONAL LINES 2006</th>\n",
        "      <th>FIRE ALL COMMERCIAL LINES 2006</th>\n",
        "      <th>FIRE BUSINESS LINES 2006</th>\n",
        "      <th>...</th>\n",
        "      <th>NON-NAV ASSETS UNDER MGMT 2006</th>\n",
        "      <th>529 NAV ASSETS UNDER MGMT 2006</th>\n",
        "      <th>529 NON-NAV ASSETS UNDER MGMT 2006</th>\n",
        "      <th>MUT FUNDS NUM OPEN ACCTS 2006</th>\n",
        "      <th>NAV NUM OPEN ACCTS 2006</th>\n",
        "      <th>NON-NAV NUM OPEN ACCTS 2006</th>\n",
        "      <th>529 NAV NUM OPEN ACCTS 2006</th>\n",
        "      <th>529 NON-NAV NUM OPEN ACCTS 2006</th>\n",
        "      <th>MUT FUNDS NEW COMM 2006</th>\n",
        "      <th>MUT FUNDS TOTAL COMM 2006</th>\n",
        "    </tr>\n",
        "  </thead>\n",
        "  <tbody>\n",
        "    <tr>\n",
        "      <th>10789</th>\n",
        "      <td> 436</td>\n",
        "      <td> 124</td>\n",
        "      <td> 3341</td>\n",
        "      <td> 3394</td>\n",
        "      <td> 347</td>\n",
        "      <td> 328</td>\n",
        "      <td> 212</td>\n",
        "      <td> 116</td>\n",
        "      <td> 17</td>\n",
        "      <td> 13</td>\n",
        "      <td>...</td>\n",
        "      <td> 135363</td>\n",
        "      <td> 5758</td>\n",
        "      <td> 34886</td>\n",
        "      <td> 20</td>\n",
        "      <td> 4</td>\n",
        "      <td> 16</td>\n",
        "      <td> 2</td>\n",
        "      <td> 3</td>\n",
        "      <td> 742</td>\n",
        "      <td> 927</td>\n",
        "    </tr>\n",
        "  </tbody>\n",
        "</table>\n",
        "<p>1 rows \u00d7 85 columns</p>\n",
        "</div>"
       ],
       "metadata": {},
       "output_type": "pyout",
       "prompt_number": 69,
       "text": [
        "       VOL AUTO 2006  AUTO RAW NEW 2006  AUTO BEGINNING PIF 2006  \\\n",
        "10789            436                124                     3341   \n",
        "\n",
        "       AUTO ENDING PIF 2006  FIRE 2006  FIRE PERSONAL LINES 2006  \\\n",
        "10789                  3394        347                       328   \n",
        "\n",
        "       HOMEOWNERS 2006  OTHER PERSONAL LINES 2006  \\\n",
        "10789              212                        116   \n",
        "\n",
        "       FIRE ALL COMMERCIAL LINES 2006  FIRE BUSINESS LINES 2006  \\\n",
        "10789                              17                        13   \n",
        "\n",
        "                 ...              NON-NAV ASSETS UNDER MGMT 2006  \\\n",
        "10789            ...                                      135363   \n",
        "\n",
        "       529 NAV ASSETS UNDER MGMT 2006  529 NON-NAV ASSETS UNDER MGMT 2006  \\\n",
        "10789                            5758                               34886   \n",
        "\n",
        "       MUT FUNDS NUM OPEN ACCTS 2006  NAV NUM OPEN ACCTS 2006  \\\n",
        "10789                             20                        4   \n",
        "\n",
        "       NON-NAV NUM OPEN ACCTS 2006  529 NAV NUM OPEN ACCTS 2006  \\\n",
        "10789                           16                            2   \n",
        "\n",
        "       529 NON-NAV NUM OPEN ACCTS 2006  MUT FUNDS NEW COMM 2006  \\\n",
        "10789                                3                      742   \n",
        "\n",
        "       MUT FUNDS TOTAL COMM 2006  \n",
        "10789                        927  \n",
        "\n",
        "[1 rows x 85 columns]"
       ]
      }
     ],
     "prompt_number": 69
    },
    {
     "cell_type": "code",
     "collapsed": false,
     "input": [
      "agtProd[agtProd.AWARDS_ID.isnull()][agtProd.columns[2:]].sum()\n",
      "agtProd[agtProd.AWARDS_ID.isnull()]"
     ],
     "language": "python",
     "metadata": {},
     "outputs": [
      {
       "html": [
        "<div style=\"max-height:1000px;max-width:1500px;overflow:auto;\">\n",
        "<table border=\"1\" class=\"dataframe\">\n",
        "  <thead>\n",
        "    <tr style=\"text-align: right;\">\n",
        "      <th></th>\n",
        "      <th>SSN</th>\n",
        "      <th>AWARDS_ID</th>\n",
        "      <th>VOL AUTO 2005</th>\n",
        "      <th>VOL AUTO 2006</th>\n",
        "      <th>VOL AUTO 2007</th>\n",
        "      <th>VOL AUTO 2008</th>\n",
        "      <th>VOL AUTO 2009</th>\n",
        "      <th>VOL AUTO 2010</th>\n",
        "      <th>VOL AUTO 2011</th>\n",
        "      <th>VOL AUTO 2012</th>\n",
        "      <th>...</th>\n",
        "      <th>MUT FUNDS TOTAL COMM 2006</th>\n",
        "      <th>MUT FUNDS TOTAL COMM 2007</th>\n",
        "      <th>MUT FUNDS TOTAL COMM 2008</th>\n",
        "      <th>MUT FUNDS TOTAL COMM 2009</th>\n",
        "      <th>MUT FUNDS TOTAL COMM 2010</th>\n",
        "      <th>MUT FUNDS TOTAL COMM 2011</th>\n",
        "      <th>MUT FUNDS TOTAL COMM 2012</th>\n",
        "      <th>MUT FUNDS TOTAL COMM 2013-11 PYTD</th>\n",
        "      <th>MUT FUNDS TOTAL COMM 2013</th>\n",
        "      <th>MUT FUNDS TOTAL COMM 2014-11 YTD</th>\n",
        "    </tr>\n",
        "  </thead>\n",
        "  <tbody>\n",
        "    <tr>\n",
        "      <th>0 </th>\n",
        "      <td> 030601926</td>\n",
        "      <td>NaN</td>\n",
        "      <td> 0</td>\n",
        "      <td> 0</td>\n",
        "      <td> 0</td>\n",
        "      <td> 0</td>\n",
        "      <td> 0</td>\n",
        "      <td> 0</td>\n",
        "      <td> 0</td>\n",
        "      <td> 0</td>\n",
        "      <td>...</td>\n",
        "      <td> 0</td>\n",
        "      <td> 0</td>\n",
        "      <td> 0</td>\n",
        "      <td> 0</td>\n",
        "      <td> 0</td>\n",
        "      <td> 0</td>\n",
        "      <td> 0</td>\n",
        "      <td> 0</td>\n",
        "      <td> 0</td>\n",
        "      <td> 0</td>\n",
        "    </tr>\n",
        "    <tr>\n",
        "      <th>1 </th>\n",
        "      <td> 043723107</td>\n",
        "      <td>NaN</td>\n",
        "      <td> 0</td>\n",
        "      <td> 0</td>\n",
        "      <td> 0</td>\n",
        "      <td> 0</td>\n",
        "      <td> 0</td>\n",
        "      <td> 0</td>\n",
        "      <td> 0</td>\n",
        "      <td> 0</td>\n",
        "      <td>...</td>\n",
        "      <td> 0</td>\n",
        "      <td> 0</td>\n",
        "      <td> 0</td>\n",
        "      <td> 0</td>\n",
        "      <td> 0</td>\n",
        "      <td> 0</td>\n",
        "      <td> 0</td>\n",
        "      <td> 0</td>\n",
        "      <td> 0</td>\n",
        "      <td> 0</td>\n",
        "    </tr>\n",
        "    <tr>\n",
        "      <th>2 </th>\n",
        "      <td> 056621130</td>\n",
        "      <td>NaN</td>\n",
        "      <td> 0</td>\n",
        "      <td> 0</td>\n",
        "      <td> 0</td>\n",
        "      <td> 0</td>\n",
        "      <td> 0</td>\n",
        "      <td> 0</td>\n",
        "      <td> 0</td>\n",
        "      <td> 0</td>\n",
        "      <td>...</td>\n",
        "      <td> 0</td>\n",
        "      <td> 0</td>\n",
        "      <td> 0</td>\n",
        "      <td> 0</td>\n",
        "      <td> 0</td>\n",
        "      <td> 0</td>\n",
        "      <td> 0</td>\n",
        "      <td> 0</td>\n",
        "      <td> 0</td>\n",
        "      <td> 0</td>\n",
        "    </tr>\n",
        "    <tr>\n",
        "      <th>3 </th>\n",
        "      <td> 139707947</td>\n",
        "      <td>NaN</td>\n",
        "      <td> 0</td>\n",
        "      <td> 0</td>\n",
        "      <td> 0</td>\n",
        "      <td> 0</td>\n",
        "      <td> 0</td>\n",
        "      <td> 0</td>\n",
        "      <td> 0</td>\n",
        "      <td> 0</td>\n",
        "      <td>...</td>\n",
        "      <td> 0</td>\n",
        "      <td> 0</td>\n",
        "      <td> 0</td>\n",
        "      <td> 0</td>\n",
        "      <td> 0</td>\n",
        "      <td> 0</td>\n",
        "      <td> 0</td>\n",
        "      <td> 0</td>\n",
        "      <td> 0</td>\n",
        "      <td> 0</td>\n",
        "    </tr>\n",
        "    <tr>\n",
        "      <th>4 </th>\n",
        "      <td> 193506623</td>\n",
        "      <td>NaN</td>\n",
        "      <td> 0</td>\n",
        "      <td> 0</td>\n",
        "      <td> 0</td>\n",
        "      <td> 0</td>\n",
        "      <td> 0</td>\n",
        "      <td> 0</td>\n",
        "      <td> 0</td>\n",
        "      <td> 0</td>\n",
        "      <td>...</td>\n",
        "      <td> 0</td>\n",
        "      <td> 0</td>\n",
        "      <td> 0</td>\n",
        "      <td> 0</td>\n",
        "      <td> 0</td>\n",
        "      <td> 0</td>\n",
        "      <td> 0</td>\n",
        "      <td> 0</td>\n",
        "      <td> 0</td>\n",
        "      <td> 0</td>\n",
        "    </tr>\n",
        "    <tr>\n",
        "      <th>5 </th>\n",
        "      <td> 203485843</td>\n",
        "      <td>NaN</td>\n",
        "      <td> 0</td>\n",
        "      <td> 0</td>\n",
        "      <td> 0</td>\n",
        "      <td> 0</td>\n",
        "      <td> 0</td>\n",
        "      <td> 0</td>\n",
        "      <td> 0</td>\n",
        "      <td> 0</td>\n",
        "      <td>...</td>\n",
        "      <td> 0</td>\n",
        "      <td> 0</td>\n",
        "      <td> 0</td>\n",
        "      <td> 0</td>\n",
        "      <td> 0</td>\n",
        "      <td> 0</td>\n",
        "      <td> 0</td>\n",
        "      <td> 0</td>\n",
        "      <td> 0</td>\n",
        "      <td> 0</td>\n",
        "    </tr>\n",
        "    <tr>\n",
        "      <th>6 </th>\n",
        "      <td> 266578969</td>\n",
        "      <td>NaN</td>\n",
        "      <td> 0</td>\n",
        "      <td> 0</td>\n",
        "      <td> 0</td>\n",
        "      <td> 0</td>\n",
        "      <td> 0</td>\n",
        "      <td> 0</td>\n",
        "      <td> 0</td>\n",
        "      <td> 0</td>\n",
        "      <td>...</td>\n",
        "      <td> 0</td>\n",
        "      <td> 0</td>\n",
        "      <td> 0</td>\n",
        "      <td> 0</td>\n",
        "      <td> 0</td>\n",
        "      <td> 0</td>\n",
        "      <td> 0</td>\n",
        "      <td> 0</td>\n",
        "      <td> 0</td>\n",
        "      <td> 0</td>\n",
        "    </tr>\n",
        "    <tr>\n",
        "      <th>7 </th>\n",
        "      <td> 371945641</td>\n",
        "      <td>NaN</td>\n",
        "      <td> 0</td>\n",
        "      <td> 0</td>\n",
        "      <td> 0</td>\n",
        "      <td> 0</td>\n",
        "      <td> 0</td>\n",
        "      <td> 0</td>\n",
        "      <td> 0</td>\n",
        "      <td> 0</td>\n",
        "      <td>...</td>\n",
        "      <td> 0</td>\n",
        "      <td> 0</td>\n",
        "      <td> 0</td>\n",
        "      <td> 0</td>\n",
        "      <td> 0</td>\n",
        "      <td> 0</td>\n",
        "      <td> 0</td>\n",
        "      <td> 0</td>\n",
        "      <td> 0</td>\n",
        "      <td> 0</td>\n",
        "    </tr>\n",
        "    <tr>\n",
        "      <th>8 </th>\n",
        "      <td> 392765320</td>\n",
        "      <td>NaN</td>\n",
        "      <td> 0</td>\n",
        "      <td> 0</td>\n",
        "      <td> 0</td>\n",
        "      <td> 0</td>\n",
        "      <td> 0</td>\n",
        "      <td> 0</td>\n",
        "      <td> 0</td>\n",
        "      <td> 0</td>\n",
        "      <td>...</td>\n",
        "      <td> 0</td>\n",
        "      <td> 0</td>\n",
        "      <td> 0</td>\n",
        "      <td> 0</td>\n",
        "      <td> 0</td>\n",
        "      <td> 0</td>\n",
        "      <td> 0</td>\n",
        "      <td> 0</td>\n",
        "      <td> 0</td>\n",
        "      <td> 0</td>\n",
        "    </tr>\n",
        "    <tr>\n",
        "      <th>9 </th>\n",
        "      <td> 520806249</td>\n",
        "      <td>NaN</td>\n",
        "      <td> 0</td>\n",
        "      <td> 0</td>\n",
        "      <td> 0</td>\n",
        "      <td> 0</td>\n",
        "      <td> 0</td>\n",
        "      <td> 0</td>\n",
        "      <td> 0</td>\n",
        "      <td> 0</td>\n",
        "      <td>...</td>\n",
        "      <td> 0</td>\n",
        "      <td> 0</td>\n",
        "      <td> 0</td>\n",
        "      <td> 0</td>\n",
        "      <td> 0</td>\n",
        "      <td> 0</td>\n",
        "      <td> 0</td>\n",
        "      <td> 0</td>\n",
        "      <td> 0</td>\n",
        "      <td> 0</td>\n",
        "    </tr>\n",
        "    <tr>\n",
        "      <th>10</th>\n",
        "      <td> 571615488</td>\n",
        "      <td>NaN</td>\n",
        "      <td> 0</td>\n",
        "      <td> 0</td>\n",
        "      <td> 0</td>\n",
        "      <td> 0</td>\n",
        "      <td> 0</td>\n",
        "      <td> 0</td>\n",
        "      <td> 0</td>\n",
        "      <td> 0</td>\n",
        "      <td>...</td>\n",
        "      <td> 0</td>\n",
        "      <td> 0</td>\n",
        "      <td> 0</td>\n",
        "      <td> 0</td>\n",
        "      <td> 0</td>\n",
        "      <td> 0</td>\n",
        "      <td> 0</td>\n",
        "      <td> 0</td>\n",
        "      <td> 0</td>\n",
        "      <td> 0</td>\n",
        "    </tr>\n",
        "  </tbody>\n",
        "</table>\n",
        "<p>11 rows \u00d7 905 columns</p>\n",
        "</div>"
       ],
       "metadata": {},
       "output_type": "pyout",
       "prompt_number": 76,
       "text": [
        "          SSN  AWARDS_ID  VOL AUTO 2005  VOL AUTO 2006  VOL AUTO 2007  \\\n",
        "0   030601926        NaN              0              0              0   \n",
        "1   043723107        NaN              0              0              0   \n",
        "2   056621130        NaN              0              0              0   \n",
        "3   139707947        NaN              0              0              0   \n",
        "4   193506623        NaN              0              0              0   \n",
        "5   203485843        NaN              0              0              0   \n",
        "6   266578969        NaN              0              0              0   \n",
        "7   371945641        NaN              0              0              0   \n",
        "8   392765320        NaN              0              0              0   \n",
        "9   520806249        NaN              0              0              0   \n",
        "10  571615488        NaN              0              0              0   \n",
        "\n",
        "    VOL AUTO 2008  VOL AUTO 2009  VOL AUTO 2010  VOL AUTO 2011  VOL AUTO 2012  \\\n",
        "0               0              0              0              0              0   \n",
        "1               0              0              0              0              0   \n",
        "2               0              0              0              0              0   \n",
        "3               0              0              0              0              0   \n",
        "4               0              0              0              0              0   \n",
        "5               0              0              0              0              0   \n",
        "6               0              0              0              0              0   \n",
        "7               0              0              0              0              0   \n",
        "8               0              0              0              0              0   \n",
        "9               0              0              0              0              0   \n",
        "10              0              0              0              0              0   \n",
        "\n",
        "                  ...                 MUT FUNDS TOTAL COMM 2006  \\\n",
        "0                 ...                                         0   \n",
        "1                 ...                                         0   \n",
        "2                 ...                                         0   \n",
        "3                 ...                                         0   \n",
        "4                 ...                                         0   \n",
        "5                 ...                                         0   \n",
        "6                 ...                                         0   \n",
        "7                 ...                                         0   \n",
        "8                 ...                                         0   \n",
        "9                 ...                                         0   \n",
        "10                ...                                         0   \n",
        "\n",
        "    MUT FUNDS TOTAL COMM 2007  MUT FUNDS TOTAL COMM 2008  \\\n",
        "0                           0                          0   \n",
        "1                           0                          0   \n",
        "2                           0                          0   \n",
        "3                           0                          0   \n",
        "4                           0                          0   \n",
        "5                           0                          0   \n",
        "6                           0                          0   \n",
        "7                           0                          0   \n",
        "8                           0                          0   \n",
        "9                           0                          0   \n",
        "10                          0                          0   \n",
        "\n",
        "    MUT FUNDS TOTAL COMM 2009  MUT FUNDS TOTAL COMM 2010  \\\n",
        "0                           0                          0   \n",
        "1                           0                          0   \n",
        "2                           0                          0   \n",
        "3                           0                          0   \n",
        "4                           0                          0   \n",
        "5                           0                          0   \n",
        "6                           0                          0   \n",
        "7                           0                          0   \n",
        "8                           0                          0   \n",
        "9                           0                          0   \n",
        "10                          0                          0   \n",
        "\n",
        "    MUT FUNDS TOTAL COMM 2011  MUT FUNDS TOTAL COMM 2012  \\\n",
        "0                           0                          0   \n",
        "1                           0                          0   \n",
        "2                           0                          0   \n",
        "3                           0                          0   \n",
        "4                           0                          0   \n",
        "5                           0                          0   \n",
        "6                           0                          0   \n",
        "7                           0                          0   \n",
        "8                           0                          0   \n",
        "9                           0                          0   \n",
        "10                          0                          0   \n",
        "\n",
        "    MUT FUNDS TOTAL COMM 2013-11 PYTD  MUT FUNDS TOTAL COMM 2013  \\\n",
        "0                                   0                          0   \n",
        "1                                   0                          0   \n",
        "2                                   0                          0   \n",
        "3                                   0                          0   \n",
        "4                                   0                          0   \n",
        "5                                   0                          0   \n",
        "6                                   0                          0   \n",
        "7                                   0                          0   \n",
        "8                                   0                          0   \n",
        "9                                   0                          0   \n",
        "10                                  0                          0   \n",
        "\n",
        "    MUT FUNDS TOTAL COMM 2014-11 YTD  \n",
        "0                                  0  \n",
        "1                                  0  \n",
        "2                                  0  \n",
        "3                                  0  \n",
        "4                                  0  \n",
        "5                                  0  \n",
        "6                                  0  \n",
        "7                                  0  \n",
        "8                                  0  \n",
        "9                                  0  \n",
        "10                                 0  \n",
        "\n",
        "[11 rows x 905 columns]"
       ]
      }
     ],
     "prompt_number": 76
    },
    {
     "cell_type": "code",
     "collapsed": false,
     "input": [],
     "language": "python",
     "metadata": {},
     "outputs": [
      {
       "html": [
        "<div style=\"max-height:1000px;max-width:1500px;overflow:auto;\">\n",
        "<table border=\"1\" class=\"dataframe\">\n",
        "  <thead>\n",
        "    <tr style=\"text-align: right;\">\n",
        "      <th></th>\n",
        "      <th>SSN</th>\n",
        "      <th>AWARDS ID</th>\n",
        "      <th>RO</th>\n",
        "      <th>ST</th>\n",
        "      <th>CODE</th>\n",
        "      <th>ST-CODE</th>\n",
        "      <th>PRIMARY ST-AGT-CD</th>\n",
        "      <th>CODE TYPE</th>\n",
        "      <th>NAME</th>\n",
        "      <th>SL TERR</th>\n",
        "      <th>...</th>\n",
        "      <th>EMAIL ALIAS</th>\n",
        "      <th>EMAIL NAME W/O @SF.COM</th>\n",
        "      <th>MARKET AREA.1</th>\n",
        "      <th>SL TERR.1</th>\n",
        "      <th>SL TERRITORY NAME.1</th>\n",
        "      <th>SALES LEADER.1</th>\n",
        "      <th>MOA AWARDS-ID</th>\n",
        "      <th>MOA ST-AGT-CD</th>\n",
        "      <th>PRIMARY AWARDS-ID</th>\n",
        "      <th>PRIMARY ST-AGT-CD.1</th>\n",
        "    </tr>\n",
        "  </thead>\n",
        "  <tbody>\n",
        "  </tbody>\n",
        "</table>\n",
        "<p>0 rows \u00d7 245 columns</p>\n",
        "</div>"
       ],
       "metadata": {},
       "output_type": "pyout",
       "prompt_number": 79,
       "text": [
        "Empty DataFrame\n",
        "Columns: [SSN, AWARDS ID, RO, ST, CODE, ST-CODE, PRIMARY ST-AGT-CD, CODE TYPE, NAME, SL TERR, STATE, STATE.1, GEO MARKET AREA, APPOINT DATE, FIRST APPOINT DATE, STATUS, CUR PLAN CODE, DATE OF PLAN, CONTRACT ID1, CONTRACT ID2, MIGRATION DATE, TERMINATION DATE, REASON TERMINATED, NEW ST-CODE, EARLY NOTIFICATION PROGRAM DATE, NON-RESIDENT STATES, NON-RESIDENT STATES.1, NON-RESIDENT STATES.2, NON-RESIDENT STATES.3, APPOINTMENT TYPE, SF SERVICE DATE, SF LENGTH OF SERVICE YRS, LOS SINCE APPOINTMENT, VAR PRODUCTS LIC DATE, MUTUAL FUNDS LIC DATE, VAR PRODUCTS LIC STOP DATE, VAR PROD LIC STOP REASON, BANK START DATE, NUM AFLH LICENSED STAFF, NUM LICENSED STAFF, NUM UNLICENSED STAFF, ASSIGNMENT CORE CRITERIA, CORE CRITERIA OVERRIDE, BIRTH DATE, DATE OF DEATH, AGENT AGE IN YEARS, EDUC LEVEL CODE, GENDER, RACE, MARITAL STATUS, CPCU, CLU, CHFC, FLMI, FLMI.1, FIIC, CFP, SELECT AGENT, SELECT AGENT.1, SELECT AGENT.2, SELECT AGENT.3, SELECT AGENT.4, SELECT AGENT.5, SELECT AGENT.6, SELECT AGENT.7, SELECT AGENT.8, SELECT AGENT.9, SELECT AGENT.10, SELECT AGENT.11, SELECT AGENT.12, SELECT AGENT.13, SELECT CERTIFIED FROM, SELECT CERTIFIED FROM.1, SELECT CERTIFIED FROM.2, SELECT CERTIFIED FROM.3, SELECT CERTIFIED FROM.4, SELECT CERTIFIED FROM.5, SELECT CERTIFIED FROM.6, SELECT CERTIFIED FROM.7, SELECT CERTIFIED FROM.8, SELECT CERTIFIED FROM.9, SELECT CERTIFIED FROM.10, SELECT CERTIFIED FROM.11, SELECT CERTIFIED FROM.12, SELECT CERTIFIED FROM.13, SELECT CERTIFIED TO, SELECT CERTIFIED TO.1, SELECT CERTIFIED TO.2, SELECT CERTIFIED TO.3, SELECT CERTIFIED TO.4, SELECT CERTIFIED TO.5, SELECT CERTIFIED TO.6, SELECT CERTIFIED TO.7, SELECT CERTIFIED TO.8, SELECT CERTIFIED TO.9, SELECT CERTIFIED TO.10, SELECT CERTIFIED TO.11, SELECT CERTIFIED TO.12, SELECT CERTIFIED TO.13, SELECT CRITERIA OVERRIDE, ...]\n",
        "Index: []\n",
        "\n",
        "[0 rows x 245 columns]"
       ]
      }
     ],
     "prompt_number": 79
    },
    {
     "cell_type": "code",
     "collapsed": false,
     "input": [
      "## join AGENTList with agentProd\n"
     ],
     "language": "python",
     "metadata": {},
     "outputs": [
      {
       "html": [
        "<div style=\"max-height:1000px;max-width:1500px;overflow:auto;\">\n",
        "<table border=\"1\" class=\"dataframe\">\n",
        "  <thead>\n",
        "    <tr style=\"text-align: right;\">\n",
        "      <th></th>\n",
        "      <th>SSN</th>\n",
        "      <th>AWARDS ID</th>\n",
        "      <th>RO</th>\n",
        "      <th>ST</th>\n",
        "      <th>CODE</th>\n",
        "      <th>ST-CODE</th>\n",
        "      <th>PRIMARY ST-AGT-CD</th>\n",
        "      <th>CODE TYPE</th>\n",
        "      <th>NAME</th>\n",
        "      <th>SL TERR</th>\n",
        "      <th>...</th>\n",
        "      <th>MUT FUNDS TOTAL COMM 2006</th>\n",
        "      <th>MUT FUNDS TOTAL COMM 2007</th>\n",
        "      <th>MUT FUNDS TOTAL COMM 2008</th>\n",
        "      <th>MUT FUNDS TOTAL COMM 2009</th>\n",
        "      <th>MUT FUNDS TOTAL COMM 2010</th>\n",
        "      <th>MUT FUNDS TOTAL COMM 2011</th>\n",
        "      <th>MUT FUNDS TOTAL COMM 2012</th>\n",
        "      <th>MUT FUNDS TOTAL COMM 2013-11 PYTD</th>\n",
        "      <th>MUT FUNDS TOTAL COMM 2013</th>\n",
        "      <th>MUT FUNDS TOTAL COMM 2014-11 YTD</th>\n",
        "    </tr>\n",
        "  </thead>\n",
        "  <tbody>\n",
        "  </tbody>\n",
        "</table>\n",
        "<p>0 rows \u00d7 1149 columns</p>\n",
        "</div>"
       ],
       "metadata": {},
       "output_type": "pyout",
       "prompt_number": 80,
       "text": [
        "Empty DataFrame\n",
        "Columns: [SSN, AWARDS ID, RO, ST, CODE, ST-CODE, PRIMARY ST-AGT-CD, CODE TYPE, NAME, SL TERR, STATE, STATE.1, GEO MARKET AREA, APPOINT DATE, FIRST APPOINT DATE, STATUS, CUR PLAN CODE, DATE OF PLAN, CONTRACT ID1, CONTRACT ID2, MIGRATION DATE, TERMINATION DATE, REASON TERMINATED, NEW ST-CODE, EARLY NOTIFICATION PROGRAM DATE, NON-RESIDENT STATES, NON-RESIDENT STATES.1, NON-RESIDENT STATES.2, NON-RESIDENT STATES.3, APPOINTMENT TYPE, SF SERVICE DATE, SF LENGTH OF SERVICE YRS, LOS SINCE APPOINTMENT, VAR PRODUCTS LIC DATE, MUTUAL FUNDS LIC DATE, VAR PRODUCTS LIC STOP DATE, VAR PROD LIC STOP REASON, BANK START DATE, NUM AFLH LICENSED STAFF, NUM LICENSED STAFF, NUM UNLICENSED STAFF, ASSIGNMENT CORE CRITERIA, CORE CRITERIA OVERRIDE, BIRTH DATE, DATE OF DEATH, AGENT AGE IN YEARS, EDUC LEVEL CODE, GENDER, RACE, MARITAL STATUS, CPCU, CLU, CHFC, FLMI, FLMI.1, FIIC, CFP, SELECT AGENT, SELECT AGENT.1, SELECT AGENT.2, SELECT AGENT.3, SELECT AGENT.4, SELECT AGENT.5, SELECT AGENT.6, SELECT AGENT.7, SELECT AGENT.8, SELECT AGENT.9, SELECT AGENT.10, SELECT AGENT.11, SELECT AGENT.12, SELECT AGENT.13, SELECT CERTIFIED FROM, SELECT CERTIFIED FROM.1, SELECT CERTIFIED FROM.2, SELECT CERTIFIED FROM.3, SELECT CERTIFIED FROM.4, SELECT CERTIFIED FROM.5, SELECT CERTIFIED FROM.6, SELECT CERTIFIED FROM.7, SELECT CERTIFIED FROM.8, SELECT CERTIFIED FROM.9, SELECT CERTIFIED FROM.10, SELECT CERTIFIED FROM.11, SELECT CERTIFIED FROM.12, SELECT CERTIFIED FROM.13, SELECT CERTIFIED TO, SELECT CERTIFIED TO.1, SELECT CERTIFIED TO.2, SELECT CERTIFIED TO.3, SELECT CERTIFIED TO.4, SELECT CERTIFIED TO.5, SELECT CERTIFIED TO.6, SELECT CERTIFIED TO.7, SELECT CERTIFIED TO.8, SELECT CERTIFIED TO.9, SELECT CERTIFIED TO.10, SELECT CERTIFIED TO.11, SELECT CERTIFIED TO.12, SELECT CERTIFIED TO.13, SELECT CRITERIA OVERRIDE, ...]\n",
        "Index: []\n",
        "\n",
        "[0 rows x 1149 columns]"
       ]
      }
     ],
     "prompt_number": 80
    },
    {
     "cell_type": "code",
     "collapsed": false,
     "input": [
      "# read in the agent file\n",
      "agentList = pd.read_csv('agent/agentInfo2.csv', dtype={'CUR PLAN CODE':np.str, 'MOA ST-AGT-CD':np.str,'PRIMARY ST-AGT-CD.1':np.str,'zip5':np.str},index_col=0)"
     ],
     "language": "python",
     "metadata": {},
     "outputs": [],
     "prompt_number": 81
    },
    {
     "cell_type": "code",
     "collapsed": false,
     "input": [
      "len(agentList['AWARDS ID'].unique())"
     ],
     "language": "python",
     "metadata": {},
     "outputs": [
      {
       "metadata": {},
       "output_type": "pyout",
       "prompt_number": 82,
       "text": [
        "36360"
       ]
      }
     ],
     "prompt_number": 82
    },
    {
     "cell_type": "code",
     "collapsed": false,
     "input": [
      "len(agentList)"
     ],
     "language": "python",
     "metadata": {},
     "outputs": [
      {
       "metadata": {},
       "output_type": "pyout",
       "prompt_number": 86,
       "text": [
        "38816"
       ]
      }
     ],
     "prompt_number": 86
    },
    {
     "cell_type": "code",
     "collapsed": false,
     "input": [
      "agtProd.drop('SSN',axis=1,inplace=True) # remove SSN"
     ],
     "language": "python",
     "metadata": {},
     "outputs": [],
     "prompt_number": 93
    },
    {
     "cell_type": "code",
     "collapsed": false,
     "input": [
      "agentList.rename(columns={'AWARDS ID':'AWARDS_ID'},inplace=True) #get joining axis to match\n"
     ],
     "language": "python",
     "metadata": {},
     "outputs": [],
     "prompt_number": 97
    },
    {
     "cell_type": "code",
     "collapsed": false,
     "input": [
      "agentList.index.is_unique"
     ],
     "language": "python",
     "metadata": {},
     "outputs": [
      {
       "metadata": {},
       "output_type": "pyout",
       "prompt_number": 103,
       "text": [
        "True"
       ]
      }
     ],
     "prompt_number": 103
    },
    {
     "cell_type": "code",
     "collapsed": false,
     "input": [
      "agentList.AWARDS_ID.value_counts()"
     ],
     "language": "python",
     "metadata": {},
     "outputs": [
      {
       "metadata": {},
       "output_type": "pyout",
       "prompt_number": 105,
       "text": [
        "123226    4\n",
        "109649    4\n",
        "110778    4\n",
        "136666    4\n",
        "100206    4\n",
        "100849    4\n",
        "110939    4\n",
        "100224    4\n",
        "105431    4\n",
        "103545    3\n",
        "111018    3\n",
        "104139    3\n",
        "116767    3\n",
        "116547    3\n",
        "100202    3\n",
        "...\n",
        "113438    1\n",
        "113439    1\n",
        "113440    1\n",
        "113441    1\n",
        "113442    1\n",
        "113443    1\n",
        "113444    1\n",
        "113445    1\n",
        "113446    1\n",
        "113447    1\n",
        "113448    1\n",
        "113449    1\n",
        "113451    1\n",
        "113452    1\n",
        "132104    1\n",
        "Length: 36359, dtype: int64"
       ]
      }
     ],
     "prompt_number": 105
    },
    {
     "cell_type": "code",
     "collapsed": false,
     "input": [
      "len(agtProd.AWARDS_ID.unique())"
     ],
     "language": "python",
     "metadata": {},
     "outputs": [
      {
       "metadata": {},
       "output_type": "pyout",
       "prompt_number": 106,
       "text": [
        "60346"
       ]
      }
     ],
     "prompt_number": 106
    },
    {
     "cell_type": "code",
     "collapsed": false,
     "input": [
      "pd.merge?"
     ],
     "language": "python",
     "metadata": {},
     "outputs": [],
     "prompt_number": 107
    },
    {
     "cell_type": "code",
     "collapsed": false,
     "input": [
      "df = pd.merge(agentList,agtProd,on='AWARDS_ID',how='left')"
     ],
     "language": "python",
     "metadata": {},
     "outputs": [],
     "prompt_number": 112
    },
    {
     "cell_type": "code",
     "collapsed": false,
     "input": [
      "len(df)"
     ],
     "language": "python",
     "metadata": {},
     "outputs": [
      {
       "metadata": {},
       "output_type": "pyout",
       "prompt_number": 113,
       "text": [
        "38826"
       ]
      }
     ],
     "prompt_number": 113
    },
    {
     "cell_type": "code",
     "collapsed": false,
     "input": [
      "len(df.AWARDS_ID.unique())"
     ],
     "language": "python",
     "metadata": {},
     "outputs": [
      {
       "metadata": {},
       "output_type": "pyout",
       "prompt_number": 114,
       "text": [
        "36360"
       ]
      }
     ],
     "prompt_number": 114
    },
    {
     "cell_type": "code",
     "collapsed": false,
     "input": [
      "volAutoCols = [c for c in df.columns if c.startswith('VOL AUTO')]\n",
      "print volAutoCols\n",
      "volAutoCols.remove('VOL AUTO 2013-11 PYTD')\n",
      "volAutoCols.remove('VOL AUTO 2014-11 YTD')\n",
      "volAutoCols"
     ],
     "language": "python",
     "metadata": {},
     "outputs": [
      {
       "output_type": "stream",
       "stream": "stdout",
       "text": [
        "['VOL AUTO 2005', 'VOL AUTO 2006', 'VOL AUTO 2007', 'VOL AUTO 2008', 'VOL AUTO 2009', 'VOL AUTO 2010', 'VOL AUTO 2011', 'VOL AUTO 2012', 'VOL AUTO 2013-11 PYTD', 'VOL AUTO 2013', 'VOL AUTO 2014-11 YTD']\n"
       ]
      },
      {
       "metadata": {},
       "output_type": "pyout",
       "prompt_number": 119,
       "text": [
        "['VOL AUTO 2005',\n",
        " 'VOL AUTO 2006',\n",
        " 'VOL AUTO 2007',\n",
        " 'VOL AUTO 2008',\n",
        " 'VOL AUTO 2009',\n",
        " 'VOL AUTO 2010',\n",
        " 'VOL AUTO 2011',\n",
        " 'VOL AUTO 2012',\n",
        " 'VOL AUTO 2013']"
       ]
      }
     ],
     "prompt_number": 119
    },
    {
     "cell_type": "code",
     "collapsed": false,
     "input": [
      "def getAnnualColumnNames(df, cname):\n",
      "    columnList = [c for c in df.columns if c.startswith(cname)]\n",
      "    # id elements that are PYTD/YTD\n",
      "    toDropList = [c for c in columnList if c.endswith('YTD')]\n",
      "    for a in toDropList:\n",
      "        columnList.remove(a)\n",
      "    return columnList"
     ],
     "language": "python",
     "metadata": {},
     "outputs": [],
     "prompt_number": 130
    },
    {
     "cell_type": "code",
     "collapsed": false,
     "input": [
      "rawnewAutoCols= getAnnualColumnNames(df,'AUTO RAW')\n",
      "rawnewAutoCols"
     ],
     "language": "python",
     "metadata": {},
     "outputs": [
      {
       "metadata": {},
       "output_type": "pyout",
       "prompt_number": 131,
       "text": [
        "['AUTO RAW NEW 2005',\n",
        " 'AUTO RAW NEW 2006',\n",
        " 'AUTO RAW NEW 2007',\n",
        " 'AUTO RAW NEW 2008',\n",
        " 'AUTO RAW NEW 2009',\n",
        " 'AUTO RAW NEW 2010',\n",
        " 'AUTO RAW NEW 2011',\n",
        " 'AUTO RAW NEW 2012',\n",
        " 'AUTO RAW NEW 2013']"
       ]
      }
     ],
     "prompt_number": 131
    },
    {
     "cell_type": "code",
     "collapsed": false,
     "input": [
      "# consider the cases where someone changes locations\n",
      "df.AWARDS_ID.value_counts().head()"
     ],
     "language": "python",
     "metadata": {},
     "outputs": [
      {
       "metadata": {},
       "output_type": "pyout",
       "prompt_number": 134,
       "text": [
        "123226    4\n",
        "109649    4\n",
        "110778    4\n",
        "136666    4\n",
        "100206    4\n",
        "dtype: int64"
       ]
      }
     ],
     "prompt_number": 134
    },
    {
     "cell_type": "code",
     "collapsed": false,
     "input": [
      "df.columns[:30]"
     ],
     "language": "python",
     "metadata": {},
     "outputs": [
      {
       "metadata": {},
       "output_type": "pyout",
       "prompt_number": 139,
       "text": [
        "Index([u'AWARDS_ID', u'RO', u'ST', u'CODE', u'ST-CODE', u'PRIMARY ST-AGT-CD', u'CODE TYPE', u'NAME', u'SL TERR', u'STATE', u'STATE.1', u'GEO MARKET AREA', u'APPOINT DATE', u'FIRST APPOINT DATE', u'STATUS', u'CUR PLAN CODE', u'DATE OF PLAN', u'CONTRACT ID1', u'CONTRACT ID2', u'MIGRATION DATE', u'TERMINATION DATE', u'REASON TERMINATED', u'NEW ST-CODE', u'EARLY NOTIFICATION PROGRAM DATE', u'NON-RESIDENT STATES', u'NON-RESIDENT STATES.1', u'NON-RESIDENT STATES.2', u'NON-RESIDENT STATES.3', u'APPOINTMENT TYPE', u'SF SERVICE DATE'], dtype='object')"
       ]
      }
     ],
     "prompt_number": 139
    },
    {
     "cell_type": "code",
     "collapsed": false,
     "input": [
      "df[df.AWARDS_ID==119365][['APPOINT DATE','TERMINATION DATE','STATUS','zip5','PRIMARY ST-AGT-CD','VOL AUTO 2005','VOL AUTO 2008']]"
     ],
     "language": "python",
     "metadata": {},
     "outputs": [
      {
       "html": [
        "<div style=\"max-height:1000px;max-width:1500px;overflow:auto;\">\n",
        "<table border=\"1\" class=\"dataframe\">\n",
        "  <thead>\n",
        "    <tr style=\"text-align: right;\">\n",
        "      <th></th>\n",
        "      <th>APPOINT DATE</th>\n",
        "      <th>TERMINATION DATE</th>\n",
        "      <th>STATUS</th>\n",
        "      <th>zip5</th>\n",
        "      <th>PRIMARY ST-AGT-CD</th>\n",
        "      <th>VOL AUTO 2005</th>\n",
        "      <th>VOL AUTO 2008</th>\n",
        "    </tr>\n",
        "  </thead>\n",
        "  <tbody>\n",
        "    <tr>\n",
        "      <th>31132</th>\n",
        "      <td> 01MAY2004</td>\n",
        "      <td>2006-02-28</td>\n",
        "      <td> 6</td>\n",
        "      <td> 95648</td>\n",
        "      <td> 553076</td>\n",
        "      <td> 203</td>\n",
        "      <td> 0</td>\n",
        "    </tr>\n",
        "    <tr>\n",
        "      <th>31133</th>\n",
        "      <td> 01MAY2004</td>\n",
        "      <td>2007-01-31</td>\n",
        "      <td> 5</td>\n",
        "      <td> 95991</td>\n",
        "      <td> 553218</td>\n",
        "      <td> 203</td>\n",
        "      <td> 0</td>\n",
        "    </tr>\n",
        "    <tr>\n",
        "      <th>31134</th>\n",
        "      <td> 01AUG2010</td>\n",
        "      <td>2014-03-31</td>\n",
        "      <td> 5</td>\n",
        "      <td> 83642</td>\n",
        "      <td> 121405</td>\n",
        "      <td> 203</td>\n",
        "      <td> 0</td>\n",
        "    </tr>\n",
        "  </tbody>\n",
        "</table>\n",
        "</div>"
       ],
       "metadata": {},
       "output_type": "pyout",
       "prompt_number": 169,
       "text": [
        "      APPOINT DATE TERMINATION DATE  STATUS   zip5 PRIMARY ST-AGT-CD  \\\n",
        "31132    01MAY2004       2006-02-28       6  95648            553076   \n",
        "31133    01MAY2004       2007-01-31       5  95991            553218   \n",
        "31134    01AUG2010       2014-03-31       5  83642            121405   \n",
        "\n",
        "       VOL AUTO 2005  VOL AUTO 2008  \n",
        "31132            203              0  \n",
        "31133            203              0  \n",
        "31134            203              0  "
       ]
      }
     ],
     "prompt_number": 169
    },
    {
     "cell_type": "code",
     "collapsed": false,
     "input": [
      "# convert TERMINATION DATE to datetime\n",
      "isActiveIDX = df[df['TERMINATION DATE'].isnull()].index\n",
      "\n",
      "print len(isActiveIDX), \" active agents\"\n"
     ],
     "language": "python",
     "metadata": {},
     "outputs": [
      {
       "output_type": "stream",
       "stream": "stdout",
       "text": [
        "18037  active agents\n"
       ]
      }
     ],
     "prompt_number": 160
    },
    {
     "cell_type": "code",
     "collapsed": false,
     "input": [
      "df['TERMINATION DATE'] = df['TERMINATION DATE'].apply(lambda x: pd.to_datetime(x,format='%d%b%Y'))"
     ],
     "language": "python",
     "metadata": {},
     "outputs": []
    },
    {
     "cell_type": "code",
     "collapsed": false,
     "input": [
      "ended2005orLaterIDX = df[df['TERMINATION DATE'] > '2004-12-31'].index\n",
      "len(ended2005orLaterIDX)"
     ],
     "language": "python",
     "metadata": {},
     "outputs": [
      {
       "metadata": {},
       "output_type": "pyout",
       "prompt_number": 156,
       "text": [
        "6403"
       ]
      }
     ],
     "prompt_number": 156
    },
    {
     "cell_type": "code",
     "collapsed": false,
     "input": [
      "keepIDX = isActiveIDX.union(ended2005orLaterIDX)\n",
      "len(keepIDX)"
     ],
     "language": "python",
     "metadata": {},
     "outputs": [
      {
       "metadata": {},
       "output_type": "pyout",
       "prompt_number": 162,
       "text": [
        "24440"
       ]
      }
     ],
     "prompt_number": 162
    },
    {
     "cell_type": "code",
     "collapsed": false,
     "input": [
      "df[df['TERMINATION DATE'].apply(lambda x: pd.to_datetime(x,format='%d%b%Y')) > '2004-12-31']['TERMINATION DATE']"
     ],
     "language": "python",
     "metadata": {},
     "outputs": [
      {
       "metadata": {},
       "output_type": "pyout",
       "prompt_number": 151,
       "text": [
        "9      31MAR2008\n",
        "18     14NOV2012\n",
        "28     31JUL2008\n",
        "29     30JUN2010\n",
        "49     30JUN2007\n",
        "50     30APR2011\n",
        "54     31AUG2014\n",
        "58     31MAY2006\n",
        "67     31DEC2008\n",
        "69     31MAY2010\n",
        "73     31MAY2006\n",
        "89     31DEC2009\n",
        "90     31DEC2013\n",
        "94     30APR2011\n",
        "106    30SEP2007\n",
        "...\n",
        "38658    30NOV2011\n",
        "38661    31MAR2009\n",
        "38662    31JUL2012\n",
        "38663    06SEP2012\n",
        "38700    30APR2005\n",
        "38711    30NOV2007\n",
        "38721    10MAY2007\n",
        "38723    29MAY2012\n",
        "38724    30JUN2011\n",
        "38737    30JUN2013\n",
        "38753    31MAR2014\n",
        "38765    31MAY2014\n",
        "38767    31AUG2013\n",
        "38771    03MAR2014\n",
        "38778    15AUG2014\n",
        "Name: TERMINATION DATE, Length: 6403, dtype: object"
       ]
      }
     ],
     "prompt_number": 151
    },
    {
     "cell_type": "code",
     "collapsed": false,
     "input": [
      "# do the same for RAW New\n",
      "rawnewAutoCols = [c for c in df.columns if c.startswith('AUTO RAW')]\n",
      "print rawnewAutoCols"
     ],
     "language": "python",
     "metadata": {},
     "outputs": [
      {
       "output_type": "stream",
       "stream": "stdout",
       "text": [
        "['AUTO RAW NEW 2005', 'AUTO RAW NEW 2006', 'AUTO RAW NEW 2007', 'AUTO RAW NEW 2008', 'AUTO RAW NEW 2009', 'AUTO RAW NEW 2010', 'AUTO RAW NEW 2011', 'AUTO RAW NEW 2012', 'AUTO RAW NEW 2013-11 PYTD', 'AUTO RAW NEW 2013', 'AUTO RAW NEW 2014-11 YTD']\n"
       ]
      }
     ],
     "prompt_number": 128
    },
    {
     "cell_type": "code",
     "collapsed": false,
     "input": [
      "df.columns[200:]"
     ],
     "language": "python",
     "metadata": {},
     "outputs": [
      {
       "metadata": {},
       "output_type": "pyout",
       "prompt_number": 126,
       "text": [
        "Index([u'HOME ST', u'FULL TIME EQUIV COUNT', u'FULL TIME EQUIV COUNT.1', u'FULL TIME EQUIV COUNT.2', u'FULL TIME EQUIV COUNT.3', u'FULL TIME EQUIV COUNT.4', u'FULL TIME EQUIV COUNT.5', u'FULL TIME EQUIV COUNT.6', u'FULL TIME EQUIV COUNT.7', u'FULL TIME EQUIV COUNT.8', u'FULL TIME EQUIV COUNT.9', u'FULL TIME EQUIV COUNT.10', u'CONTRACT', u'CONTRACT TYPE', u'NEW MARKET PBP AMD74', u'BLOCK ASSIGNMENT AMD45/AMD55', u'BRAND DEVELOPMENT FEE AMD66', u'AA97-BLEND AMD43A OR AMD53', u'PHOENIX AGREEMENT DATE', u'ASSURANT AGREEMENT DATE', u'AGENT LOS', u'ASSIGNED AUTO PREM', u'ASSIGNED FIRE PREM', u'ASSIGNED LIFE PREM', u'ASSIGNED HEALTH PREM', u'ASSIGNED AUTO RECS', u'ASSIGNED FIRE RECS', u'ASSIGNED LIFE RECS', u'ASSIGNED HEALTH RECS', u'DATE ASSIGNED 500 AUTO/FIRE', u'SL TERRITORY NAME', u'VPA-S', u'MARKET AREA', u'SALES LEADER', u'EMAIL ALIAS', u'EMAIL NAME W/O @SF.COM', u'MARKET AREA.1', u'SL TERR.1', u'SL TERRITORY NAME.1', u'SALES LEADER.1', u'MOA AWARDS-ID', u'MOA ST-AGT-CD', u'PRIMARY AWARDS-ID', u'PRIMARY ST-AGT-CD.1', u'uniqID', u'zip5', u'VOL AUTO 2005', u'VOL AUTO 2006', u'VOL AUTO 2007', u'VOL AUTO 2008', u'VOL AUTO 2009', u'VOL AUTO 2010', u'VOL AUTO 2011', u'VOL AUTO 2012', u'VOL AUTO 2013-11 PYTD', u'VOL AUTO 2013', u'VOL AUTO 2014-11 YTD', u'AUTO RAW NEW 2005', u'AUTO RAW NEW 2006', u'AUTO RAW NEW 2007', u'AUTO RAW NEW 2008', u'AUTO RAW NEW 2009', u'AUTO RAW NEW 2010', u'AUTO RAW NEW 2011', u'AUTO RAW NEW 2012', u'AUTO RAW NEW 2013-11 PYTD', u'AUTO RAW NEW 2013', u'AUTO RAW NEW 2014-11 YTD', u'AUTO BEGINNING PIF 2005', u'AUTO BEGINNING PIF 2006', u'AUTO BEGINNING PIF 2007', u'AUTO BEGINNING PIF 2008', u'AUTO BEGINNING PIF 2009', u'AUTO BEGINNING PIF 2010', u'AUTO BEGINNING PIF 2011', u'AUTO BEGINNING PIF 2012', u'AUTO BEGINNING PIF 2013', u'AUTO BEGINNING PIF 2014', u'AUTO ENDING PIF 2005', u'AUTO ENDING PIF 2006', u'AUTO ENDING PIF 2007', u'AUTO ENDING PIF 2008', u'AUTO ENDING PIF 2009', u'AUTO ENDING PIF 2010', u'AUTO ENDING PIF 2011', u'AUTO ENDING PIF 2012', u'AUTO ENDING PIF 2013', u'AUTO ENDING PIF 2014', u'FIRE 2005', u'FIRE 2006', u'FIRE 2007', u'FIRE 2008', u'FIRE 2009', u'FIRE 2010', u'FIRE 2011', u'FIRE 2012', u'FIRE 2013-11 PYTD', u'FIRE 2013', u'FIRE 2014-11 YTD', u'FIRE PERSONAL LINES 2005', ...], dtype='object')"
       ]
      }
     ],
     "prompt_number": 126
    },
    {
     "cell_type": "markdown",
     "metadata": {},
     "source": [
      "# I should go through this one and check the year with the termination date for cases with multiple listings -- also need to look at apoint date"
     ]
    },
    {
     "cell_type": "code",
     "collapsed": false,
     "input": [
      "kdf = df.ix[keepIDX].copy()\n",
      "print len(kdf)\n",
      "kdf.index = np.arange(0,len(kdf)) # reindex it"
     ],
     "language": "python",
     "metadata": {},
     "outputs": [
      {
       "output_type": "stream",
       "stream": "stdout",
       "text": [
        "24440\n"
       ]
      }
     ],
     "prompt_number": 172
    },
    {
     "cell_type": "code",
     "collapsed": false,
     "input": [
      "# convert appoint date to datetime\n",
      "kdf['APPOINT DATE'] = kdf['APPOINT DATE'].apply(lambda x: pd.to_datetime(x,format='%d%b%Y'))"
     ],
     "language": "python",
     "metadata": {},
     "outputs": [],
     "prompt_number": 175
    },
    {
     "cell_type": "code",
     "collapsed": false,
     "input": [
      "nvc = kdf.AWARDS_ID.value_counts() # which ones are multiple valuecounts\n",
      "print len(nvc[nvc>1])\n",
      "dupAgentIDs = nvc[nvc>1]"
     ],
     "language": "python",
     "metadata": {},
     "outputs": [
      {
       "output_type": "stream",
       "stream": "stdout",
       "text": [
        "443\n"
       ]
      }
     ],
     "prompt_number": 250
    },
    {
     "cell_type": "code",
     "collapsed": false,
     "input": [
      "rawnewAutoCols"
     ],
     "language": "python",
     "metadata": {},
     "outputs": [
      {
       "metadata": {},
       "output_type": "pyout",
       "prompt_number": 182,
       "text": [
        "['AUTO RAW NEW 2005',\n",
        " 'AUTO RAW NEW 2006',\n",
        " 'AUTO RAW NEW 2007',\n",
        " 'AUTO RAW NEW 2008',\n",
        " 'AUTO RAW NEW 2009',\n",
        " 'AUTO RAW NEW 2010',\n",
        " 'AUTO RAW NEW 2011',\n",
        " 'AUTO RAW NEW 2012',\n",
        " 'AUTO RAW NEW 2013']"
       ]
      }
     ],
     "prompt_number": 182
    },
    {
     "cell_type": "code",
     "collapsed": false,
     "input": [
      "yearSpan1 = pd.date_range(start ='1/1/2004',end='1/1/2014',freq='A')\n",
      "print len(yearSpan1),len(rawnewAutoCols)"
     ],
     "language": "python",
     "metadata": {},
     "outputs": [
      {
       "output_type": "stream",
       "stream": "stdout",
       "text": [
        "10 9\n"
       ]
      }
     ],
     "prompt_number": 189
    },
    {
     "cell_type": "code",
     "collapsed": false,
     "input": [
      "[t for t in yearSpan1]"
     ],
     "language": "python",
     "metadata": {},
     "outputs": [
      {
       "metadata": {},
       "output_type": "pyout",
       "prompt_number": 192,
       "text": [
        "[Timestamp('2004-12-31 00:00:00', offset='A-DEC'),\n",
        " Timestamp('2005-12-31 00:00:00', offset='A-DEC'),\n",
        " Timestamp('2006-12-31 00:00:00', offset='A-DEC'),\n",
        " Timestamp('2007-12-31 00:00:00', offset='A-DEC'),\n",
        " Timestamp('2008-12-31 00:00:00', offset='A-DEC'),\n",
        " Timestamp('2009-12-31 00:00:00', offset='A-DEC'),\n",
        " Timestamp('2010-12-31 00:00:00', offset='A-DEC'),\n",
        " Timestamp('2011-12-31 00:00:00', offset='A-DEC'),\n",
        " Timestamp('2012-12-31 00:00:00', offset='A-DEC'),\n",
        " Timestamp('2013-12-31 00:00:00', offset='A-DEC')]"
       ]
      }
     ],
     "prompt_number": 192
    },
    {
     "cell_type": "code",
     "collapsed": false,
     "input": [
      "kdf[kdf.AWARDS_ID == 119365]['TERMINATION DATE']"
     ],
     "language": "python",
     "metadata": {},
     "outputs": [
      {
       "metadata": {},
       "output_type": "pyout",
       "prompt_number": 198,
       "text": [
        "19352   2006-02-28\n",
        "19353   2007-01-31\n",
        "19354   2014-03-31\n",
        "Name: TERMINATION DATE, dtype: datetime64[ns]"
       ]
      }
     ],
     "prompt_number": 198
    },
    {
     "cell_type": "code",
     "collapsed": false,
     "input": [
      "kdf[kdf.AWARDS_ID == 122000].index"
     ],
     "language": "python",
     "metadata": {},
     "outputs": [
      {
       "metadata": {},
       "output_type": "pyout",
       "prompt_number": 203,
       "text": [
        "Int64Index([8049, 8050, 8051], dtype='int64')"
       ]
      }
     ],
     "prompt_number": 203
    },
    {
     "cell_type": "code",
     "collapsed": false,
     "input": [
      "[t for t in yearSpan1]"
     ],
     "language": "python",
     "metadata": {},
     "outputs": [
      {
       "metadata": {},
       "output_type": "pyout",
       "prompt_number": 210,
       "text": [
        "[Timestamp('2004-12-31 00:00:00', offset='A-DEC'),\n",
        " Timestamp('2005-12-31 00:00:00', offset='A-DEC'),\n",
        " Timestamp('2006-12-31 00:00:00', offset='A-DEC'),\n",
        " Timestamp('2007-12-31 00:00:00', offset='A-DEC'),\n",
        " Timestamp('2008-12-31 00:00:00', offset='A-DEC'),\n",
        " Timestamp('2009-12-31 00:00:00', offset='A-DEC'),\n",
        " Timestamp('2010-12-31 00:00:00', offset='A-DEC'),\n",
        " Timestamp('2011-12-31 00:00:00', offset='A-DEC'),\n",
        " Timestamp('2012-12-31 00:00:00', offset='A-DEC'),\n",
        " Timestamp('2013-12-31 00:00:00', offset='A-DEC')]"
       ]
      }
     ],
     "prompt_number": 210
    },
    {
     "cell_type": "code",
     "collapsed": false,
     "input": [
      "kdf.ix[8049]['TERMINATION DATE'] "
     ],
     "language": "python",
     "metadata": {},
     "outputs": [
      {
       "metadata": {},
       "output_type": "pyout",
       "prompt_number": 249,
       "text": [
        "Timestamp('2008-12-31 00:00:00')"
       ]
      }
     ],
     "prompt_number": 249
    },
    {
     "cell_type": "code",
     "collapsed": false,
     "input": [
      "dupAgentIDs = map(int,dupAgentIDs.index)\n"
     ],
     "language": "python",
     "metadata": {},
     "outputs": []
    },
    {
     "cell_type": "code",
     "collapsed": false,
     "input": [
      "dupAgentIDs[5]"
     ],
     "language": "python",
     "metadata": {},
     "outputs": [
      {
       "metadata": {},
       "output_type": "pyout",
       "prompt_number": 256,
       "text": [
        "119774"
       ]
      }
     ],
     "prompt_number": 256
    },
    {
     "cell_type": "code",
     "collapsed": false,
     "input": [
      "kdf[kdf.AWARDS_ID == dupAgentIDs[5]][['APPOINT DATE','TERMINATION DATE']]"
     ],
     "language": "python",
     "metadata": {},
     "outputs": [
      {
       "html": [
        "<div style=\"max-height:1000px;max-width:1500px;overflow:auto;\">\n",
        "<table border=\"1\" class=\"dataframe\">\n",
        "  <thead>\n",
        "    <tr style=\"text-align: right;\">\n",
        "      <th></th>\n",
        "      <th>APPOINT DATE</th>\n",
        "      <th>TERMINATION DATE</th>\n",
        "    </tr>\n",
        "  </thead>\n",
        "  <tbody>\n",
        "    <tr>\n",
        "      <th>4270</th>\n",
        "      <td>2003-12-01</td>\n",
        "      <td>2010-02-28</td>\n",
        "    </tr>\n",
        "    <tr>\n",
        "      <th>4271</th>\n",
        "      <td>2013-08-01</td>\n",
        "      <td>       NaT</td>\n",
        "    </tr>\n",
        "  </tbody>\n",
        "</table>\n",
        "</div>"
       ],
       "metadata": {},
       "output_type": "pyout",
       "prompt_number": 289,
       "text": [
        "     APPOINT DATE TERMINATION DATE\n",
        "4270   2003-12-01       2010-02-28\n",
        "4271   2013-08-01              NaT"
       ]
      }
     ],
     "prompt_number": 289
    },
    {
     "cell_type": "code",
     "collapsed": false,
     "input": [
      "kdf[kdf.AWARDS_ID == dupAgentIDs[5]]"
     ],
     "language": "python",
     "metadata": {},
     "outputs": [
      {
       "metadata": {},
       "output_type": "pyout",
       "prompt_number": 290,
       "text": [
        "18037"
       ]
      }
     ],
     "prompt_number": 290
    },
    {
     "cell_type": "code",
     "collapsed": false,
     "input": [
      "yearCols = {}\n",
      "years2 = ['2005','2006','2007','2008','2009','2010','2011','2012','2013']\n",
      "for y in years2:\n",
      "    yearCols[y]= [b for b in kdf.columns if y in b]"
     ],
     "language": "python",
     "metadata": {},
     "outputs": [],
     "prompt_number": 299
    },
    {
     "cell_type": "code",
     "collapsed": false,
     "input": [
      "# clean up the 2013 PYTD values\n",
      "yy = yearCols['2013']\n",
      "for a in yy:\n",
      "    print a\n",
      "    if a.endswith('PYTD'):\n",
      "        print a\n",
      "        yy.remove(a)\n",
      "    \n",
      "len(yearCols['2013']), len(yy)"
     ],
     "language": "python",
     "metadata": {},
     "outputs": [
      {
       "output_type": "stream",
       "stream": "stdout",
       "text": [
        "VOL AUTO 2013-11 PYTD\n",
        "VOL AUTO 2013-11 PYTD\n",
        "AUTO RAW NEW 2013-11 PYTD\n",
        "AUTO RAW NEW 2013-11 PYTD\n",
        "AUTO BEGINNING PIF 2013\n",
        "AUTO ENDING PIF 2013\n",
        "FIRE 2013-11 PYTD\n",
        "FIRE 2013-11 PYTD\n",
        "FIRE PERSONAL LINES 2013-11 PYTD\n",
        "FIRE PERSONAL LINES 2013-11 PYTD\n",
        "HOMEOWNERS 2013-11 PYTD\n",
        "HOMEOWNERS 2013-11 PYTD\n",
        "OTHER PERSONAL LINES 2013-11 PYTD\n",
        "OTHER PERSONAL LINES 2013-11 PYTD\n",
        "FIRE ALL COMMERCIAL LINES 2013-11 PYTD\n",
        "FIRE ALL COMMERCIAL LINES 2013-11 PYTD\n",
        "FIRE BUSINESS LINES 2013-11 PYTD\n",
        "FIRE BUSINESS LINES 2013-11 PYTD\n",
        "OTHER LINES FLOOD 2013-11 PYTD\n",
        "OTHER LINES FLOOD 2013-11 PYTD\n",
        "FIRE BEGINNING PIF 2013\n",
        "FIRE ENDING PIF 2013\n",
        "LIFE POLS 2013-11 PYTD\n",
        "LIFE POLS 2013-11 PYTD\n",
        "VARIABLE LIFE POLS 2013-11 PYTD\n",
        "VARIABLE LIFE POLS 2013-11 PYTD\n",
        "PHOENIX POLS 2013-11 PYTD\n",
        "PHOENIX POLS 2013-11 PYTD\n",
        "PHOENIX VARIABLE POLS 2013-11 PYTD\n",
        "PHOENIX VARIABLE POLS 2013-11 PYTD\n",
        "LIFE PREM 2013-11 PYTD\n",
        "LIFE PREM 2013-11 PYTD\n",
        "VARIABLE LIFE PREM 2013-11 PYTD\n",
        "VARIABLE LIFE PREM 2013-11 PYTD\n",
        "PHOENIX PREM 2013-11 PYTD\n",
        "PHOENIX PREM 2013-11 PYTD\n",
        "PHOENIX VARIABLE PREM 2013-11 PYTD\n",
        "PHOENIX VARIABLE PREM 2013-11 PYTD\n",
        "LIFE VOLUME 2013-11 PYTD\n",
        "LIFE VOLUME 2013-11 PYTD\n",
        "VARIABLE LIFE VOLUME 2013-11 PYTD\n",
        "VARIABLE LIFE VOLUME 2013-11 PYTD\n",
        "PHOENIX LIFE VOLUME 2013-11 PYTD\n",
        "PHOENIX LIFE VOLUME 2013-11 PYTD\n",
        "PHOENIX VARIABLE LIFE VOLUME 2013-11 PYTD\n",
        "PHOENIX VARIABLE LIFE VOLUME 2013-11 PYTD\n",
        "LIFE 2ND YR PERSIST 2013\n",
        "LIFE 1ST YR PERSIST DEC 31 2013\n",
        "LIFE 1ST YR PLACED 2013\n",
        "LIFE CUR YR PLACED 2013\n",
        "LIFE PIF 2013\n",
        "VARIABLE LIFE PIF 2013\n",
        "LIFE TOTAL COMM 2013-11 PYTD\n",
        "LIFE TOTAL COMM 2013-11 PYTD\n",
        "HEALTH POLS 2013-11 PYTD\n",
        "HEALTH POLS 2013-11 PYTD\n",
        "LTC POLS 2013-11 PYTD\n",
        "LTC POLS 2013-11 PYTD\n",
        "MED SUPP POLS 2013-11 PYTD\n",
        "MED SUPP POLS 2013-11 PYTD\n",
        "ASSURANT POLS 2013-11 PYTD\n",
        "ASSURANT POLS 2013-11 PYTD\n",
        "HEALTH PREM 2013-11 PYTD\n",
        "HEALTH PREM 2013-11 PYTD\n",
        "LTC PREM 2013-11 PYTD\n",
        "LTC PREM 2013-11 PYTD\n",
        "MED SUPP PREM 2013-11 PYTD\n",
        "MED SUPP PREM 2013-11 PYTD\n",
        "ICDI PREM 2013-11 PYTD\n",
        "ICDI PREM 2013-11 PYTD\n",
        "ASSURANT PREM 2013-11 PYTD\n",
        "ASSURANT PREM 2013-11 PYTD\n",
        "HEALTH PIF 2013\n",
        "LTC PIF 2013\n",
        "MED SUPP PIF 2013\n",
        "HEALTH TOTAL COMM 2013-11 PYTD\n",
        "HEALTH TOTAL COMM 2013-11 PYTD\n",
        "BANK DEPOSIT PRODUCTS 2013-11 PYTD\n",
        "BANK DEPOSIT PRODUCTS 2013-11 PYTD\n",
        "BANK LOAN PRODUCTS 2013-11 PYTD\n",
        "BANK LOAN PRODUCTS 2013-11 PYTD\n",
        "VEHICLE LOANS 2013-11 PYTD\n",
        "VEHICLE LOANS 2013-11 PYTD\n",
        "HOME LOAN PRODUCTS 2013-11 PYTD\n",
        "HOME LOAN PRODUCTS 2013-11 PYTD\n",
        "MORTGAGES 2013-11 PYTD\n",
        "MORTGAGES 2013-11 PYTD\n",
        "HOME EQ LINES OF CREDIT 2013-11 PYTD\n",
        "HOME EQ LINES OF CREDIT 2013-11 PYTD\n",
        "HOME EQUITY LOANS 2013-11 PYTD\n",
        "HOME EQUITY LOANS 2013-11 PYTD\n",
        "COMMERCIAL LOANS 2013-11 PYTD\n",
        "COMMERCIAL LOANS 2013-11 PYTD\n",
        "FINANCIAL CARDS 2013-11 PYTD\n",
        "FINANCIAL CARDS 2013-11 PYTD\n",
        "BANK NUM OPEN DEP ACCTS 2013\n",
        "BANK NUM OPEN LOAN ACCTS 2013\n",
        "BANK NUM OPEN VEH LOANS 2013\n",
        "BANK NUM OPEN HOME LOAN ACCTS 2013\n",
        "BANK NUM OPEN MORTGAGES 2013\n",
        "BANK NUM OPEN HOME EQ LOC 2013\n",
        "BANK NUM OPEN HOME EQ LOANS 2013\n",
        "BANK NUM OPEN CML LOANS 2013\n",
        "BANK NUM OPEN FIN CARDS 2013\n",
        "BANK NEW COMM 2013-11 PYTD\n",
        "BANK NEW COMM 2013-11 PYTD\n",
        "BANK MORT COMM 2013-11 PYTD\n",
        "BANK MORT COMM 2013-11 PYTD\n",
        "BANK TOTAL COMM 2013-11 PYTD\n",
        "BANK TOTAL COMM 2013-11 PYTD\n",
        "MUT FUNDS NEW ACCTS 2013-11 PYTD\n",
        "MUT FUNDS NEW ACCTS 2013-11 PYTD\n",
        "MUT FUNDS NAV ACCTS 2013-11 PYTD\n",
        "MUT FUNDS NAV ACCTS 2013-11 PYTD\n",
        "MUT FUNDS NON-NAV ACCTS 2013-11 PYTD\n",
        "MUT FUNDS NON-NAV ACCTS 2013-11 PYTD\n",
        "529 NAV ACCTS 2013-11 PYTD\n",
        "529 NAV ACCTS 2013-11 PYTD\n",
        "529 NON-NAV ACCTS 2013-11 PYTD\n",
        "529 NON-NAV ACCTS 2013-11 PYTD\n",
        "MUT FUNDS NEW MONEY 2013-11 PYTD\n",
        "MUT FUNDS NEW MONEY 2013-11 PYTD\n",
        "401K NEW MONEY 2013-11 PYTD\n",
        "401K NEW MONEY 2013-11 PYTD\n",
        "MUT FUNDS ASSETS UNDER MGMT 2013\n",
        "NAV ASSETS UNDER MGMT 2013\n",
        "NON-NAV ASSETS UNDER MGMT 2013\n",
        "529 NAV ASSETS UNDER MGMT 2013\n",
        "529 NON-NAV ASSETS UNDER MGMT 2013\n",
        "MUT FUNDS NUM OPEN ACCTS 2013\n",
        "NAV NUM OPEN ACCTS 2013\n",
        "NON-NAV NUM OPEN ACCTS 2013\n",
        "529 NAV NUM OPEN ACCTS 2013\n",
        "529 NON-NAV NUM OPEN ACCTS 2013\n",
        "MUT FUNDS NEW COMM 2013-11 PYTD\n",
        "MUT FUNDS NEW COMM 2013-11 PYTD\n",
        "MUT FUNDS TOTAL COMM 2013-11 PYTD\n",
        "MUT FUNDS TOTAL COMM 2013-11 PYTD\n"
       ]
      },
      {
       "metadata": {},
       "output_type": "pyout",
       "prompt_number": 300,
       "text": [
        "(85, 85)"
       ]
      }
     ],
     "prompt_number": 300
    },
    {
     "cell_type": "markdown",
     "metadata": {},
     "source": [
      "## approach to correct for duplicated/moved agents\n",
      "* assigned the columns for a given year to the corresponding dictionary `yearCol['2011']` for example\n",
      "* copy singletons to a new data frame unchanged.\n",
      "* step through the duplicated agents"
     ]
    },
    {
     "cell_type": "code",
     "collapsed": false,
     "input": [
      "fullAGT = kdf[~kdf.AWARDS_ID.isin(dupAgentIDs)].copy()\n",
      "len(fullAGT), len(kdf)"
     ],
     "language": "python",
     "metadata": {},
     "outputs": [
      {
       "metadata": {},
       "output_type": "pyout",
       "prompt_number": 308,
       "text": [
        "(23550, 24440)"
       ]
      }
     ],
     "prompt_number": 308
    },
    {
     "cell_type": "code",
     "collapsed": false,
     "input": [
      "minStart = yearSpan1[1]\n"
     ],
     "language": "python",
     "metadata": {},
     "outputs": [
      {
       "metadata": {},
       "output_type": "pyout",
       "prompt_number": 317,
       "text": [
        "Timestamp('2005-12-31 00:00:00', offset='A-DEC')"
       ]
      }
     ],
     "prompt_number": 317
    },
    {
     "cell_type": "code",
     "collapsed": false,
     "input": [
      "for a in dupAgentIDs:\n",
      "    print a, \n",
      "    dindex = kdf[kdf.AWARDS_ID == a].index\n",
      "    for idx in dindex:\n",
      "        tdate = kdf.ix[idx]['TERMINATION DATE']\n",
      "        adate = kdf.ix[idx]['APPOINT DATE']\n",
      "        print idx, tdate, adate\n",
      "        # zero out if appoint date Year is > year\n",
      "        yrs_to_drop = [key for key in yearCols.keys() if int(key) < adate.year]\n",
      "        \n",
      "        if len(yrs_to_drop)>0:\n",
      "            print yrs_to_drop\n",
      "            for yy in yrs_to_drop:\n",
      "                #pass\n",
      "                kdf.loc[idx,yearCols[yy]]=0\n",
      "\n",
      "        # zero out if year is > TERMINATION DATE\n",
      "        tyear = tdate.year\n",
      "        if tyear > -1:\n",
      "            tyrs_to_drop = [key for key in yearCols.keys() if int(key) > tyear ]\n",
      "            if len(tyrs_to_drop)>0:\n",
      "                print \"Tyrs to drop:\", tyrs_to_drop\n",
      "                for yy in tyrs_to_drop:\n",
      "                    #pass\n",
      "                    kdf.loc[idx,yearCols[yy]]=0\n",
      "\n",
      "    "
     ],
     "language": "python",
     "metadata": {},
     "outputs": [
      {
       "output_type": "stream",
       "stream": "stdout",
       "text": [
        "119365 19352 2006-02-28 00:00:00 2004-05-01 00:00:00\n",
        "Tyrs to drop: ['2007', '2008', '2009', '2011', '2010', '2013', '2012']\n",
        "19353"
       ]
      },
      {
       "output_type": "stream",
       "stream": "stdout",
       "text": [
        " 2007-01-31 00:00:00 2004-05-01 00:00:00\n",
        "Tyrs to drop: ['2008', '2009', '2011', '2010', '2013', '2012']\n",
        "19354"
       ]
      },
      {
       "output_type": "stream",
       "stream": "stdout",
       "text": [
        " 2014-03-31 00:00:00 2010-08-01 00:00:00\n",
        "['2006', '2007', '2005', '2008', '2009']\n",
        "122000"
       ]
      },
      {
       "output_type": "stream",
       "stream": "stdout",
       "text": [
        " 8049 2008-12-31 00:00:00 2006-11-01 00:00:00\n",
        "['2005']\n",
        "Tyrs to drop: ['2009', '2011', '2010', '2013', '2012']\n",
        "8050"
       ]
      },
      {
       "output_type": "stream",
       "stream": "stdout",
       "text": [
        " 2010-08-31 00:00:00 2006-11-01 00:00:00\n",
        "['2005']\n",
        "Tyrs to drop: ['2011', '2013', '2012']\n",
        "8051"
       ]
      },
      {
       "output_type": "stream",
       "stream": "stdout",
       "text": [
        " NaT 2006-11-01 00:00:00\n",
        "['2005']\n",
        "125133 19463 2011-01-31 00:00:00 2010-11-01 00:00:00\n",
        "['2006', '2007', '2005', '2008', '2009']\n",
        "Tyrs to drop:"
       ]
      },
      {
       "output_type": "stream",
       "stream": "stdout",
       "text": [
        " ['2013', '2012']\n",
        "19464 2014-08-31 00:00:00 2011-08-01 00:00:00\n",
        "['2006', '2007', '2005', '2008', '2009', '2010']\n",
        "19465"
       ]
      },
      {
       "output_type": "stream",
       "stream": "stdout",
       "text": [
        " NaT 2011-08-01 00:00:00\n",
        "['2006', '2007', '2005', '2008', '2009', '2010']\n",
        "118238"
       ]
      },
      {
       "output_type": "stream",
       "stream": "stdout",
       "text": [
        " 707 2006-02-28 00:00:00 2004-10-01 00:00:00\n",
        "Tyrs to drop: ['2007', '2008', '2009', '2011', '2010', '2013', '2012']\n",
        "708"
       ]
      },
      {
       "output_type": "stream",
       "stream": "stdout",
       "text": [
        " 2010-07-31 00:00:00 2008-01-01 00:00:00\n",
        "['2006', '2007', '2005']\n",
        "Tyrs to drop:"
       ]
      },
      {
       "output_type": "stream",
       "stream": "stdout",
       "text": [
        " ['2011', '2013', '2012']\n",
        "709"
       ]
      },
      {
       "output_type": "stream",
       "stream": "stdout",
       "text": [
        " NaT 2008-01-01 00:00:00\n",
        "['2006', '2007', '2005']\n",
        "122192"
       ]
      },
      {
       "output_type": "stream",
       "stream": "stdout",
       "text": [
        " 11742 2012-03-31 00:00:00 2007-01-01 00:00:00\n",
        "['2006', '2005']\n",
        "Tyrs to drop:"
       ]
      },
      {
       "output_type": "stream",
       "stream": "stdout",
       "text": [
        " ['2013']\n",
        "11743"
       ]
      },
      {
       "output_type": "stream",
       "stream": "stdout",
       "text": [
        " NaT 2007-01-01 00:00:00\n",
        "['2006', '2005']\n",
        "119774"
       ]
      },
      {
       "output_type": "stream",
       "stream": "stdout",
       "text": [
        " 4270 2010-02-28 00:00:00 2003-12-01 00:00:00\n",
        "Tyrs to drop: ['2011', '2013', '2012']\n",
        "4271"
       ]
      },
      {
       "output_type": "stream",
       "stream": "stdout",
       "text": [
        " NaT 2013-08-01 00:00:00\n",
        "['2006', '2007', '2005', '2008', '2009', '2011', '2010', '2012']\n",
        "118746"
       ]
      },
      {
       "output_type": "stream",
       "stream": "stdout",
       "text": [
        " 6525 2007-01-31 00:00:00 2005-10-01 00:00:00\n",
        "Tyrs to drop: ['2008', '2009', '2011', '2010', '2013', '2012']\n",
        "6526"
       ]
      },
      {
       "output_type": "stream",
       "stream": "stdout",
       "text": [
        " 2008-05-31 00:00:00 2005-10-01 00:00:00\n",
        "Tyrs to drop: ['2009', '2011', '2010', '2013', '2012']\n",
        "119777"
       ]
      },
      {
       "output_type": "stream",
       "stream": "stdout",
       "text": [
        " 13546 2009-06-30 00:00:00 2006-07-01 00:00:00\n",
        "['2005']\n",
        "Tyrs to drop: ['2011', '2010', '2013', '2012']\n",
        "13547"
       ]
      },
      {
       "output_type": "stream",
       "stream": "stdout",
       "text": [
        " 2013-03-31 00:00:00 2006-07-01 00:00:00\n",
        "['2005']\n",
        "116540 6103 2010-08-31 00:00:00 1990-08-01 00:00:00\n",
        "Tyrs to drop: ['2011', '2013', '2012']\n",
        "6104"
       ]
      },
      {
       "output_type": "stream",
       "stream": "stdout",
       "text": [
        " NaT 1990-08-01 00:00:00\n",
        "109757 21328 2006-08-31 00:00:00 2001-02-01 00:00:00\n",
        "Tyrs to drop: ['2007', '2008', '2009', '2011', '2010', '2013', '2012']\n",
        "21329"
       ]
      },
      {
       "output_type": "stream",
       "stream": "stdout",
       "text": [
        " NaT 2011-10-01 00:00:00\n",
        "['2006', '2007', '2005', '2008', '2009', '2010']\n",
        "122195"
       ]
      },
      {
       "output_type": "stream",
       "stream": "stdout",
       "text": [
        " 12239 2011-06-30 00:00:00 2007-01-01 00:00:00\n",
        "['2006', '2005']\n",
        "Tyrs to drop:"
       ]
      },
      {
       "output_type": "stream",
       "stream": "stdout",
       "text": [
        " ['2013', '2012']\n",
        "12240"
       ]
      },
      {
       "output_type": "stream",
       "stream": "stdout",
       "text": [
        " NaT 2013-01-01 00:00:00\n",
        "['2006', '2007', '2005', '2008', '2009', '2011', '2010', '2012']\n",
        "124937"
       ]
      },
      {
       "output_type": "stream",
       "stream": "stdout",
       "text": [
        " 12646 2013-10-25 00:00:00 2008-10-01 00:00:00\n",
        "['2006', '2007', '2005']\n",
        "12647"
       ]
      },
      {
       "output_type": "stream",
       "stream": "stdout",
       "text": [
        " NaT 2014-10-01 00:00:00\n",
        "['2006', '2007', '2005', '2008', '2009', '2011', '2010', '2013', '2012']\n",
        "102279"
       ]
      },
      {
       "output_type": "stream",
       "stream": "stdout",
       "text": [
        " 3305 2008-01-31 00:00:00 2005-08-01 00:00:00\n",
        "Tyrs to drop: ['2009', '2011', '2010', '2013', '2012']\n",
        "3306"
       ]
      },
      {
       "output_type": "stream",
       "stream": "stdout",
       "text": [
        " NaT 2013-09-01 00:00:00\n",
        "['2006', '2007', '2005', '2008', '2009', '2011', '2010', '2012']\n",
        "119783"
       ]
      },
      {
       "output_type": "stream",
       "stream": "stdout",
       "text": [
        " 16610 2007-02-28 00:00:00 2003-12-01 00:00:00\n",
        "Tyrs to drop: ['2008', '2009', '2011', '2010', '2013', '2012']\n",
        "16611"
       ]
      },
      {
       "output_type": "stream",
       "stream": "stdout",
       "text": [
        " NaT 2009-08-01 00:00:00\n",
        "['2006', '2007', '2005', '2008']\n",
        "116643"
       ]
      },
      {
       "output_type": "stream",
       "stream": "stdout",
       "text": [
        " 23406 2005-07-31 00:00:00 1995-11-01 00:00:00\n",
        "Tyrs to drop: ['2006', '2007', '2008', '2009', '2011', '2010', '2013', '2012']\n",
        "23407"
       ]
      },
      {
       "output_type": "stream",
       "stream": "stdout",
       "text": [
        " NaT 2007-01-01 00:00:00\n",
        "['2006', '2005']\n",
        "101000 "
       ]
      },
      {
       "output_type": "stream",
       "stream": "stdout",
       "text": [
        "15444 2005-12-31 00:00:00 2000-04-01 00:00:00\n",
        "Tyrs to drop: ['2006', '2007', '2008', '2009', '2011', '2010', '2013', '2012']\n",
        "15445"
       ]
      },
      {
       "output_type": "stream",
       "stream": "stdout",
       "text": [
        " 2007-02-28 00:00:00 2000-04-01 00:00:00\n",
        "Tyrs to drop: ['2008', '2009', '2011', '2010', '2013', '2012']\n",
        "118748"
       ]
      },
      {
       "output_type": "stream",
       "stream": "stdout",
       "text": [
        " 14517 2009-09-30 00:00:00 2003-08-01 00:00:00\n",
        "Tyrs to drop: ['2011', '2010', '2013', '2012']\n",
        "14518"
       ]
      },
      {
       "output_type": "stream",
       "stream": "stdout",
       "text": [
        " NaT 2003-08-01 00:00:00\n",
        "105443 10426 2010-05-31 00:00:00 2002-09-01 00:00:00\n",
        "Tyrs to drop: ['2011', '2013', '2012']\n",
        "10427"
       ]
      },
      {
       "output_type": "stream",
       "stream": "stdout",
       "text": [
        " NaT 2002-09-01 00:00:00\n",
        "116219 4798 2007-11-30 00:00:00 1999-08-01 00:00:00\n",
        "Tyrs to drop: ['2008', '2009', '2011', '2010', '2013', '2012']\n",
        "4799"
       ]
      },
      {
       "output_type": "stream",
       "stream": "stdout",
       "text": [
        " NaT 2013-08-01 00:00:00\n",
        "['2006', '2007', '2005', '2008', '2009', '2011', '2010', '2012']\n",
        "119766"
       ]
      },
      {
       "output_type": "stream",
       "stream": "stdout",
       "text": [
        " 21898 2006-05-31 00:00:00 2003-12-01 00:00:00\n",
        "Tyrs to drop: ['2007', '2008', '2009', '2011', '2010', '2013', '2012']\n",
        "21899"
       ]
      },
      {
       "output_type": "stream",
       "stream": "stdout",
       "text": [
        " NaT 2014-02-01 00:00:00\n",
        "['2006', '2007', '2005', '2008', '2009', '2011', '2010', '2013', '2012']\n",
        "113916"
       ]
      },
      {
       "output_type": "stream",
       "stream": "stdout",
       "text": [
        " 17052 2005-11-30 00:00:00 1999-12-01 00:00:00\n",
        "Tyrs to drop: ['2006', '2007', '2008', '2009', '2011', '2010', '2013', '2012']\n",
        "17053"
       ]
      },
      {
       "output_type": "stream",
       "stream": "stdout",
       "text": [
        " NaT 1999-12-01 00:00:00\n",
        "119007 705 2009-01-31 00:00:00 2006-05-01 00:00:00\n",
        "['2005']\n",
        "Tyrs to drop: ['2011', '2010', '2013', '2012']\n",
        "706"
       ]
      },
      {
       "output_type": "stream",
       "stream": "stdout",
       "text": [
        " NaT 2006-05-01 00:00:00\n",
        "['2005']\n",
        "116558 6196 2010-08-31 00:00:00 1990-08-01 00:00:00\n",
        "Tyrs to drop: ['2011', '2013', '2012']\n",
        "6197"
       ]
      },
      {
       "output_type": "stream",
       "stream": "stdout",
       "text": [
        " NaT 1990-08-01 00:00:00\n",
        "119010 19868 2009-03-31 00:00:00 2006-10-01 00:00:00\n",
        "['2005']\n",
        "Tyrs to drop: ['2011', '2010', '2013', '2012']\n",
        "19869"
       ]
      },
      {
       "output_type": "stream",
       "stream": "stdout",
       "text": [
        " NaT 2010-10-01 00:00:00\n",
        "['2006', '2007', '2005', '2008', '2009']\n",
        "124912"
       ]
      },
      {
       "output_type": "stream",
       "stream": "stdout",
       "text": [
        " 24153 2011-06-30 00:00:00 2008-10-01 00:00:00\n",
        "['2006', '2007', '2005']\n",
        "Tyrs to drop:"
       ]
      },
      {
       "output_type": "stream",
       "stream": "stdout",
       "text": [
        " ['2013', '2012']\n",
        "24154"
       ]
      },
      {
       "output_type": "stream",
       "stream": "stdout",
       "text": [
        " NaT 2013-01-01 00:00:00\n",
        "['2006', '2007', '2005', '2008', '2009', '2011', '2010', '2012']\n",
        "104233"
       ]
      },
      {
       "output_type": "stream",
       "stream": "stdout",
       "text": [
        " 17355 2008-04-30 00:00:00 1999-01-01 00:00:00\n",
        "Tyrs to drop: ['2009', '2011', '2010', '2013', '2012']\n",
        "17356"
       ]
      },
      {
       "output_type": "stream",
       "stream": "stdout",
       "text": [
        " NaT 1999-01-01 00:00:00\n",
        "119800 15410 2007-12-31 00:00:00 2006-01-01 00:00:00\n",
        "['2005']\n",
        "Tyrs to drop: ['2008', '2009', '2011', '2010', '2013', '2012']\n",
        "15411"
       ]
      },
      {
       "output_type": "stream",
       "stream": "stdout",
       "text": [
        " 2009-04-30 00:00:00 2006-01-01 00:00:00\n",
        "['2005']\n",
        "Tyrs to drop: ['2011', '2010', '2013', '2012']\n",
        "110438"
       ]
      },
      {
       "output_type": "stream",
       "stream": "stdout",
       "text": [
        " 6819 2005-09-30 00:00:00 2000-06-01 00:00:00\n",
        "Tyrs to drop: ['2006', '2007', '2008', '2009', '2011', '2010', '2013', '2012']\n",
        "6820"
       ]
      },
      {
       "output_type": "stream",
       "stream": "stdout",
       "text": [
        " NaT 2012-09-01 00:00:00\n",
        "['2006', '2007', '2005', '2008', '2009', '2011', '2010']\n",
        "127882"
       ]
      },
      {
       "output_type": "stream",
       "stream": "stdout",
       "text": [
        " 621 2013-06-30 00:00:00 2012-06-01 00:00:00\n",
        "['2006', '2007', '2005', '2008', '2009', '2011', '2010']\n",
        "622"
       ]
      },
      {
       "output_type": "stream",
       "stream": "stdout",
       "text": [
        " NaT 2012-06-01 00:00:00\n",
        "['2006', '2007', '2005', '2008', '2009', '2011', '2010']\n",
        "112271"
       ]
      },
      {
       "output_type": "stream",
       "stream": "stdout",
       "text": [
        " 17235 2005-12-31 00:00:00 2000-12-01 00:00:00\n",
        "Tyrs to drop: ['2006', '2007', '2008', '2009', '2011', '2010', '2013', '2012']\n",
        "17236"
       ]
      },
      {
       "output_type": "stream",
       "stream": "stdout",
       "text": [
        " NaT 2012-01-01 00:00:00\n",
        "['2006', '2007', '2005', '2008', '2009', '2011', '2010']\n",
        "119805"
       ]
      },
      {
       "output_type": "stream",
       "stream": "stdout",
       "text": [
        " 13337 2005-02-28 00:00:00 2004-03-01 00:00:00\n",
        "Tyrs to drop: ['2006', '2007', '2008', '2009', '2011', '2010', '2013', '2012']\n",
        "13338"
       ]
      },
      {
       "output_type": "stream",
       "stream": "stdout",
       "text": [
        " NaT 2009-06-01 00:00:00\n",
        "['2006', '2007', '2005', '2008']\n",
        "100113"
       ]
      },
      {
       "output_type": "stream",
       "stream": "stdout",
       "text": [
        " 787 2005-04-30 00:00:00 1994-10-01 00:00:00\n",
        "Tyrs to drop: ['2006', '2007', '2008', '2009', '2011', '2010', '2013', '2012']\n",
        "788"
       ]
      },
      {
       "output_type": "stream",
       "stream": "stdout",
       "text": [
        " NaT 1994-10-01 00:00:00\n",
        "118720 22418 2007-01-31 00:00:00 2004-12-01 00:00:00\n",
        "Tyrs to drop: ['2008', '2009', '2011', '2010', '2013', '2012']\n",
        "22419"
       ]
      },
      {
       "output_type": "stream",
       "stream": "stdout",
       "text": [
        " NaT 2011-01-01 00:00:00\n",
        "['2006', '2007', '2005', '2008', '2009', '2010']\n",
        "122923"
       ]
      },
      {
       "output_type": "stream",
       "stream": "stdout",
       "text": [
        " 15609 2012-06-30 00:00:00 2007-11-01 00:00:00\n",
        "['2006', '2005']\n",
        "Tyrs to drop:"
       ]
      },
      {
       "output_type": "stream",
       "stream": "stdout",
       "text": [
        " ['2013']\n",
        "15610 NaT 2007-11-01 00:00:00\n",
        "['2006', '2005']\n",
        "125995"
       ]
      },
      {
       "output_type": "stream",
       "stream": "stdout",
       "text": [
        " 11594 2013-02-28 00:00:00 2010-01-01 00:00:00\n",
        "['2006', '2007', '2005', '2008', '2009']\n",
        "11595"
       ]
      },
      {
       "output_type": "stream",
       "stream": "stdout",
       "text": [
        " NaT 2010-01-01 00:00:00\n",
        "['2006', '2007', '2005', '2008', '2009']\n",
        "126961"
       ]
      },
      {
       "output_type": "stream",
       "stream": "stdout",
       "text": [
        " 24043 2013-11-30 00:00:00 2011-05-01 00:00:00\n",
        "['2006', '2007', '2005', '2008', '2009', '2010']\n",
        "24044"
       ]
      },
      {
       "output_type": "stream",
       "stream": "stdout",
       "text": [
        " NaT 2011-05-01 00:00:00\n",
        "['2006', '2007', '2005', '2008', '2009', '2010']\n",
        "118752"
       ]
      },
      {
       "output_type": "stream",
       "stream": "stdout",
       "text": [
        " 2755 2007-01-31 00:00:00 2003-12-01 00:00:00\n",
        "Tyrs to drop: ['2008', '2009', '2011', '2010', '2013', '2012']\n",
        "2756"
       ]
      },
      {
       "output_type": "stream",
       "stream": "stdout",
       "text": [
        " NaT 2013-02-01 00:00:00\n",
        "['2006', '2007', '2005', '2008', '2009', '2011', '2010', '2012']\n",
        "113984"
       ]
      },
      {
       "output_type": "stream",
       "stream": "stdout",
       "text": [
        " 14177 2006-03-31 00:00:00 2001-04-01 00:00:00\n",
        "Tyrs to drop: ['2007', '2008', '2009', '2011', '2010', '2013', '2012']\n",
        "14178"
       ]
      },
      {
       "output_type": "stream",
       "stream": "stdout",
       "text": [
        " NaT 2001-04-01 00:00:00\n",
        "125204 22500 2011-12-31 00:00:00 2009-01-01 00:00:00\n",
        "['2006', '2007', '2005', '2008']\n",
        "Tyrs to drop:"
       ]
      },
      {
       "output_type": "stream",
       "stream": "stdout",
       "text": [
        " ['2013', '2012']\n",
        "22501 NaT 2009-01-01 00:00:00\n",
        "['2006', '2007', '2005', '2008']\n",
        "118858"
       ]
      },
      {
       "output_type": "stream",
       "stream": "stdout",
       "text": [
        " 15371 2008-04-30 00:00:00 2005-11-01 00:00:00\n",
        "Tyrs to drop: ['2009', '2011', '2010', '2013', '2012']\n",
        "15372"
       ]
      },
      {
       "output_type": "stream",
       "stream": "stdout",
       "text": [
        " NaT 2013-01-01 00:00:00\n",
        "['2006', '2007', '2005', '2008', '2009', '2011', '2010', '2012']\n",
        "114977"
       ]
      },
      {
       "output_type": "stream",
       "stream": "stdout",
       "text": [
        " 15714 2006-12-31 00:00:00 2001-12-01 00:00:00\n",
        "Tyrs to drop: ['2007', '2008', '2009', '2011', '2010', '2013', '2012']\n",
        "15715"
       ]
      },
      {
       "output_type": "stream",
       "stream": "stdout",
       "text": [
        " NaT 2001-12-01 00:00:00\n",
        "119432 775 2009-02-28 00:00:00 2002-12-10 00:00:00\n",
        "Tyrs to drop: ['2011', '2010', '2013', '2012']\n",
        "776"
       ]
      },
      {
       "output_type": "stream",
       "stream": "stdout",
       "text": [
        " NaT 2002-12-10 00:00:00\n",
        "124954 10996 2010-09-30 00:00:00 2008-10-01 00:00:00\n",
        "['2006', '2007', '2005']\n",
        "Tyrs to drop:"
       ]
      },
      {
       "output_type": "stream",
       "stream": "stdout",
       "text": [
        " ['2011', '2013', '2012']\n",
        "10997"
       ]
      },
      {
       "output_type": "stream",
       "stream": "stdout",
       "text": [
        " NaT 2014-01-01 00:00:00\n",
        "['2006', '2007', '2005', '2008', '2009', '2011', '2010', '2013', '2012']\n",
        "109712"
       ]
      },
      {
       "output_type": "stream",
       "stream": "stdout",
       "text": [
        " 22690 2008-05-31 00:00:00 2000-12-01 00:00:00\n",
        "Tyrs to drop: ['2009', '2011', '2010', '2013', '2012']\n",
        "22691"
       ]
      },
      {
       "output_type": "stream",
       "stream": "stdout",
       "text": [
        " NaT 2011-05-01 00:00:00\n",
        "['2006', '2007', '2005', '2008', '2009', '2010']\n",
        "125211"
       ]
      },
      {
       "output_type": "stream",
       "stream": "stdout",
       "text": [
        " 22131 2011-09-30 00:00:00 2009-01-01 00:00:00\n",
        "['2006', '2007', '2005', '2008']\n",
        "Tyrs to drop:"
       ]
      },
      {
       "output_type": "stream",
       "stream": "stdout",
       "text": [
        " ['2013', '2012']\n",
        "22132"
       ]
      },
      {
       "output_type": "stream",
       "stream": "stdout",
       "text": [
        " NaT 2009-01-01 00:00:00\n",
        "['2006', '2007', '2005', '2008']\n",
        "125212"
       ]
      },
      {
       "output_type": "stream",
       "stream": "stdout",
       "text": [
        " 24125 2011-06-30 00:00:00 2009-01-01 00:00:00\n",
        "['2006', '2007', '2005', '2008']\n",
        "Tyrs to drop:"
       ]
      },
      {
       "output_type": "stream",
       "stream": "stdout",
       "text": [
        " ['2013', '2012']\n",
        "24126"
       ]
      },
      {
       "output_type": "stream",
       "stream": "stdout",
       "text": [
        " NaT 2012-08-01 00:00:00\n",
        "['2006', '2007', '2005', '2008', '2009', '2011', '2010']\n",
        "118774"
       ]
      },
      {
       "output_type": "stream",
       "stream": "stdout",
       "text": [
        " 3307 2008-02-29 00:00:00 2003-12-01 00:00:00\n",
        "Tyrs to drop: ['2009', '2011', '2010', '2013', '2012']\n",
        "3308"
       ]
      },
      {
       "output_type": "stream",
       "stream": "stdout",
       "text": [
        " NaT 2011-09-01 00:00:00\n",
        "['2006', '2007', '2005', '2008', '2009', '2010']\n",
        "119428"
       ]
      },
      {
       "output_type": "stream",
       "stream": "stdout",
       "text": [
        " 3345 2008-02-01 00:00:00 2002-11-01 00:00:00\n",
        "Tyrs to drop: ['2009', '2011', '2010', '2013', '2012']\n",
        "3346"
       ]
      },
      {
       "output_type": "stream",
       "stream": "stdout",
       "text": [
        " NaT 2012-07-01 00:00:00\n",
        "['2006', '2007', '2005', '2008', '2009', '2011', '2010']\n",
        "122175"
       ]
      },
      {
       "output_type": "stream",
       "stream": "stdout",
       "text": [
        " 18546 2010-02-28 00:00:00 2007-01-01 00:00:00\n",
        "['2006', '2005']\n",
        "Tyrs to drop:"
       ]
      },
      {
       "output_type": "stream",
       "stream": "stdout",
       "text": [
        " ['2011', '2013', '2012']\n",
        "18547"
       ]
      },
      {
       "output_type": "stream",
       "stream": "stdout",
       "text": [
        " NaT 2007-01-01 00:00:00\n",
        "['2006', '2005']\n",
        "116512"
       ]
      },
      {
       "output_type": "stream",
       "stream": "stdout",
       "text": [
        " 6619 2005-06-30 00:00:00 2000-12-01 00:00:00\n",
        "Tyrs to drop: ['2006', '2007', '2008', '2009', '2011', '2010', '2013', '2012']\n",
        "6620"
       ]
      },
      {
       "output_type": "stream",
       "stream": "stdout",
       "text": [
        " NaT 2000-12-01 00:00:00\n",
        "119740 14607 2006-05-31 00:00:00 2003-12-01 00:00:00\n",
        "Tyrs to drop: ['2007', '2008', '2009', '2011', '2010', '2013', '2012']\n",
        "14608"
       ]
      },
      {
       "output_type": "stream",
       "stream": "stdout",
       "text": [
        " 2009-05-31 00:00:00 2003-12-01 00:00:00\n",
        "Tyrs to drop: ['2011', '2010', '2013', '2012']\n",
        "119741"
       ]
      },
      {
       "output_type": "stream",
       "stream": "stdout",
       "text": [
        " 14598 2005-04-30 00:00:00 2003-12-01 00:00:00\n",
        "Tyrs to drop: ['2006', '2007', '2008', '2009', '2011', '2010', '2013', '2012']\n",
        "14599"
       ]
      },
      {
       "output_type": "stream",
       "stream": "stdout",
       "text": [
        " NaT 2010-12-01 00:00:00\n",
        "['2006', '2007', '2005', '2008', '2009']\n",
        "118770"
       ]
      },
      {
       "output_type": "stream",
       "stream": "stdout",
       "text": [
        " 13939 2006-07-31 00:00:00 2004-12-01 00:00:00\n",
        "Tyrs to drop: ['2007', '2008', '2009', '2011', '2010', '2013', '2012']\n",
        "13940"
       ]
      },
      {
       "output_type": "stream",
       "stream": "stdout",
       "text": [
        " NaT 2010-04-01 00:00:00\n",
        "['2006', '2007', '2005', '2008', '2009']\n",
        "119423"
       ]
      },
      {
       "output_type": "stream",
       "stream": "stdout",
       "text": [
        " 865 2005-12-31 00:00:00 2002-11-01 00:00:00\n",
        "Tyrs to drop: ['2006', '2007', '2008', '2009', '2011', '2010', '2013', '2012']\n",
        "866"
       ]
      },
      {
       "output_type": "stream",
       "stream": "stdout",
       "text": [
        " NaT 2011-05-01 00:00:00\n",
        "['2006', '2007', '2005', '2008', '2009', '2010']\n",
        "101017"
       ]
      },
      {
       "output_type": "stream",
       "stream": "stdout",
       "text": [
        " 23146 2012-05-31 00:00:00 1983-01-16 00:00:00\n",
        "Tyrs to drop: ['2013']\n",
        "23147"
       ]
      },
      {
       "output_type": "stream",
       "stream": "stdout",
       "text": [
        " NaT 1983-01-16 00:00:00\n",
        "109077 771 2007-12-31 00:00:00 1999-01-01 00:00:00\n",
        "Tyrs to drop: ['2008', '2009', '2011', '2010', '2013', '2012']\n",
        "772"
       ]
      },
      {
       "output_type": "stream",
       "stream": "stdout",
       "text": [
        " NaT 1999-01-01 00:00:00\n",
        "113960 3540 2005-01-31 00:00:00 1987-07-01 00:00:00\n",
        "Tyrs to drop: ['2006', '2007', '2008', '2009', '2011', '2010', '2013', '2012']\n",
        "3541"
       ]
      },
      {
       "output_type": "stream",
       "stream": "stdout",
       "text": [
        " NaT 2009-04-01 00:00:00\n",
        "['2006', '2007', '2005', '2008']\n",
        "118762"
       ]
      },
      {
       "output_type": "stream",
       "stream": "stdout",
       "text": [
        " 6650 2007-01-31 00:00:00 2003-04-01 00:00:00\n",
        "Tyrs to drop: ['2008', '2009', '2011', '2010', '2013', '2012']\n",
        "6651"
       ]
      },
      {
       "output_type": "stream",
       "stream": "stdout",
       "text": [
        " NaT 2011-02-01 00:00:00\n",
        "['2006', '2007', '2005', '2008', '2009', '2010']\n",
        "119751"
       ]
      },
      {
       "output_type": "stream",
       "stream": "stdout",
       "text": [
        " 22760 2006-06-30 00:00:00 2003-12-01 00:00:00\n",
        "Tyrs to drop: ['2007', '2008', '2009', '2011', '2010', '2013', '2012']\n",
        "22761"
       ]
      },
      {
       "output_type": "stream",
       "stream": "stdout",
       "text": [
        " NaT 2014-04-01 00:00:00\n",
        "['2006', '2007', '2005', '2008', '2009', '2011', '2010', '2013', '2012']\n",
        "119418"
       ]
      },
      {
       "output_type": "stream",
       "stream": "stdout",
       "text": [
        " 13492 2005-04-30 00:00:00 2002-12-01 00:00:00\n",
        "Tyrs to drop: ['2006', '2007', '2008', '2009', '2011', '2010', '2013', '2012']\n",
        "13493"
       ]
      },
      {
       "output_type": "stream",
       "stream": "stdout",
       "text": [
        " NaT 2002-12-01 00:00:00\n",
        "108880 17749 2005-01-14 00:00:00 2001-07-01 00:00:00\n",
        "Tyrs to drop: ['2006', '2007', '2008', '2009', '2011', '2010', '2013', '2012']\n",
        "17750"
       ]
      },
      {
       "output_type": "stream",
       "stream": "stdout",
       "text": [
        " NaT 2009-01-01 00:00:00\n",
        "['2006', '2007', '2005', '2008']\n",
        "119755"
       ]
      },
      {
       "output_type": "stream",
       "stream": "stdout",
       "text": [
        " 21865 2008-02-29 00:00:00 2003-10-01 00:00:00\n",
        "Tyrs to drop: ['2009', '2011', '2010', '2013', '2012']\n",
        "21866"
       ]
      },
      {
       "output_type": "stream",
       "stream": "stdout",
       "text": [
        " NaT 2003-10-01 00:00:00\n",
        "126003 437 2013-12-31 00:00:00 2010-01-01 00:00:00\n",
        "['2006', '2007', '2005', '2008', '2009']\n",
        "438"
       ]
      },
      {
       "output_type": "stream",
       "stream": "stdout",
       "text": [
        " NaT 2010-01-01 00:00:00\n",
        "['2006', '2007', '2005', '2008', '2009']\n",
        "108302"
       ]
      },
      {
       "output_type": "stream",
       "stream": "stdout",
       "text": [
        " 4623 2005-06-30 00:00:00 2000-11-01 00:00:00\n",
        "Tyrs to drop: ['2006', '2007', '2008', '2009', '2011', '2010', '2013', '2012']\n",
        "4624"
       ]
      },
      {
       "output_type": "stream",
       "stream": "stdout",
       "text": [
        " NaT 2013-02-01 00:00:00\n",
        "['2006', '2007', '2005', '2008', '2009', '2011', '2010', '2012']\n",
        "119415"
       ]
      },
      {
       "output_type": "stream",
       "stream": "stdout",
       "text": [
        " 20692 2008-01-31 00:00:00 2003-01-01 00:00:00\n",
        "Tyrs to drop: ['2009', '2011', '2010', '2013', '2012']\n",
        "20693"
       ]
      },
      {
       "output_type": "stream",
       "stream": "stdout",
       "text": [
        " NaT 2014-01-01 00:00:00\n",
        "['2006', '2007', '2005', '2008', '2009', '2011', '2010', '2013', '2012']\n",
        "119759"
       ]
      },
      {
       "output_type": "stream",
       "stream": "stdout",
       "text": [
        " 7761 2009-05-31 00:00:00 2003-12-01 00:00:00\n",
        "Tyrs to drop: ['2011', '2010', '2013', '2012']\n",
        "7762"
       ]
      },
      {
       "output_type": "stream",
       "stream": "stdout",
       "text": [
        " NaT 2013-02-01 00:00:00\n",
        "['2006', '2007', '2005', '2008', '2009', '2011', '2010', '2012']\n",
        "118164"
       ]
      },
      {
       "output_type": "stream",
       "stream": "stdout",
       "text": [
        " 21608 2010-06-30 00:00:00 2002-10-01 00:00:00\n",
        "Tyrs to drop: ['2011', '2013', '2012']\n",
        "21609"
       ]
      },
      {
       "output_type": "stream",
       "stream": "stdout",
       "text": [
        " NaT 2012-05-01 00:00:00\n",
        "['2006', '2007', '2005', '2008', '2009', '2011', '2010']\n",
        "111641"
       ]
      },
      {
       "output_type": "stream",
       "stream": "stdout",
       "text": [
        " 20031 2005-10-31 00:00:00 2001-12-01 00:00:00\n",
        "Tyrs to drop: ['2006', '2007', '2008', '2009', '2011', '2010', '2013', '2012']\n",
        "20032"
       ]
      },
      {
       "output_type": "stream",
       "stream": "stdout",
       "text": [
        " 2013-09-30 00:00:00 2010-03-01 00:00:00\n",
        "['2006', '2007', '2005', '2008', '2009']\n",
        "119718"
       ]
      },
      {
       "output_type": "stream",
       "stream": "stdout",
       "text": [
        " 6201 2005-12-31 00:00:00 2003-11-01 00:00:00\n",
        "Tyrs to drop: ['2006', '2007', '2008', '2009', '2011', '2010', '2013', '2012']\n",
        "6202"
       ]
      },
      {
       "output_type": "stream",
       "stream": "stdout",
       "text": [
        " NaT 2008-11-01 00:00:00\n",
        "['2006', '2007', '2005']\n",
        "117881"
       ]
      },
      {
       "output_type": "stream",
       "stream": "stdout",
       "text": [
        " 23747 2007-12-31 00:00:00 2002-09-01 00:00:00\n",
        "Tyrs to drop: ['2008', '2009', '2011', '2010', '2013', '2012']\n",
        "23748"
       ]
      },
      {
       "output_type": "stream",
       "stream": "stdout",
       "text": [
        " NaT 2002-09-01 00:00:00\n",
        "118196 16225 2006-01-31 00:00:00 2003-05-01 00:00:00\n",
        "Tyrs to drop: ['2007', '2008', '2009', '2011', '2010', '2013', '2012']\n",
        "16226"
       ]
      },
      {
       "output_type": "stream",
       "stream": "stdout",
       "text": [
        " NaT 2014-10-01 00:00:00\n",
        "['2006', '2007', '2005', '2008', '2009', '2011', '2010', '2013', '2012']\n",
        "118197"
       ]
      },
      {
       "output_type": "stream",
       "stream": "stdout",
       "text": [
        " 13643 2005-02-28 00:00:00 2002-12-01 00:00:00\n",
        "Tyrs to drop: ['2006', '2007', '2008', '2009', '2011', '2010', '2013', '2012']\n",
        "13644"
       ]
      },
      {
       "output_type": "stream",
       "stream": "stdout",
       "text": [
        " NaT 2013-01-01 00:00:00\n",
        "['2006', '2007', '2005', '2008', '2009', '2011', '2010', '2012']\n",
        "118675"
       ]
      },
      {
       "output_type": "stream",
       "stream": "stdout",
       "text": [
        " 19524 2006-01-31 00:00:00 2003-08-01 00:00:00\n",
        "Tyrs to drop: ['2007', '2008', '2009', '2011', '2010', '2013', '2012']\n",
        "19525"
       ]
      },
      {
       "output_type": "stream",
       "stream": "stdout",
       "text": [
        " NaT 2010-04-01 00:00:00\n",
        "['2006', '2007', '2005', '2008', '2009']\n",
        "118199"
       ]
      },
      {
       "output_type": "stream",
       "stream": "stdout",
       "text": [
        " 14355 2005-01-31 00:00:00 2003-11-01 00:00:00\n",
        "Tyrs to drop: ['2006', '2007', '2008', '2009', '2011', '2010', '2013', '2012']\n",
        "14356"
       ]
      },
      {
       "output_type": "stream",
       "stream": "stdout",
       "text": [
        " NaT 2007-04-01 00:00:00\n",
        "['2006', '2005']\n",
        "117858 11590 2005-05-31 00:00:00 2001-12-01 00:00:00\n",
        "Tyrs to drop: ['2006', '2007', '2008', '2009', '2011', '2010', '2013', '2012']\n",
        "11591"
       ]
      },
      {
       "output_type": "stream",
       "stream": "stdout",
       "text": [
        " NaT 2008-03-01 00:00:00\n",
        "['2006', '2007', '2005']\n",
        "100021"
       ]
      },
      {
       "output_type": "stream",
       "stream": "stdout",
       "text": [
        " 10787 2009-02-28 00:00:00 2001-12-01 00:00:00\n",
        "Tyrs to drop: ['2011', '2010', '2013', '2012']\n",
        "10788"
       ]
      },
      {
       "output_type": "stream",
       "stream": "stdout",
       "text": [
        " NaT 2013-08-01 00:00:00\n",
        "['2006', '2007', '2005', '2008', '2009', '2011', '2010', '2012']\n",
        "122620"
       ]
      },
      {
       "output_type": "stream",
       "stream": "stdout",
       "text": [
        " 6367 2009-10-31 00:00:00 2007-06-01 00:00:00\n",
        "['2006', '2005']\n",
        "Tyrs to drop:"
       ]
      },
      {
       "output_type": "stream",
       "stream": "stdout",
       "text": [
        " ['2011', '2010', '2013', '2012']\n",
        "6368"
       ]
      },
      {
       "output_type": "stream",
       "stream": "stdout",
       "text": [
        " NaT 2007-06-01 00:00:00\n",
        "['2006', '2005']\n",
        "123007 21676 2010-06-30 00:00:00 2007-12-01 00:00:00\n",
        "['2006', '2005']\n",
        "Tyrs to drop:"
       ]
      },
      {
       "output_type": "stream",
       "stream": "stdout",
       "text": [
        " ['2011', '2013', '2012']\n",
        "21677"
       ]
      },
      {
       "output_type": "stream",
       "stream": "stdout",
       "text": [
        " NaT 2011-08-01 00:00:00\n",
        "['2006', '2007', '2005', '2008', '2009', '2010']\n",
        "123518"
       ]
      },
      {
       "output_type": "stream",
       "stream": "stdout",
       "text": [
        " 11960 2009-09-30 00:00:00 2008-05-01 00:00:00\n",
        "['2006', '2007', '2005']\n",
        "Tyrs to drop:"
       ]
      },
      {
       "output_type": "stream",
       "stream": "stdout",
       "text": [
        " ['2011', '2010', '2013', '2012']\n",
        "11961"
       ]
      },
      {
       "output_type": "stream",
       "stream": "stdout",
       "text": [
        " NaT 2008-05-01 00:00:00\n",
        "['2006', '2007', '2005']\n",
        "125889"
       ]
      },
      {
       "output_type": "stream",
       "stream": "stdout",
       "text": [
        " 14936 2011-06-30 00:00:00 2009-11-01 00:00:00\n",
        "['2006', '2007', '2005', '2008']\n",
        "Tyrs to drop:"
       ]
      },
      {
       "output_type": "stream",
       "stream": "stdout",
       "text": [
        " ['2013', '2012']\n",
        "14937"
       ]
      },
      {
       "output_type": "stream",
       "stream": "stdout",
       "text": [
        " NaT 2013-08-01 00:00:00\n",
        "['2006', '2007', '2005', '2008', '2009', '2011', '2010', '2012']\n",
        "123517"
       ]
      },
      {
       "output_type": "stream",
       "stream": "stdout",
       "text": [
        " 23793 2009-12-31 00:00:00 2008-05-01 00:00:00\n",
        "['2006', '2007', '2005']\n",
        "Tyrs to drop:"
       ]
      },
      {
       "output_type": "stream",
       "stream": "stdout",
       "text": [
        " ['2011', '2010', '2013', '2012']\n",
        "23794"
       ]
      },
      {
       "output_type": "stream",
       "stream": "stdout",
       "text": [
        " NaT 2008-05-01 00:00:00\n",
        "['2006', '2007', '2005']\n",
        "125331"
       ]
      },
      {
       "output_type": "stream",
       "stream": "stdout",
       "text": [
        " 23875 2011-04-30 00:00:00 2009-02-01 00:00:00\n",
        "['2006', '2007', '2005', '2008']\n",
        "Tyrs to drop:"
       ]
      },
      {
       "output_type": "stream",
       "stream": "stdout",
       "text": [
        " ['2013', '2012']\n",
        "23876"
       ]
      },
      {
       "output_type": "stream",
       "stream": "stdout",
       "text": [
        " NaT 2014-01-01 00:00:00\n",
        "['2006', '2007', '2005', '2008', '2009', '2011', '2010', '2013', '2012']\n",
        "127820"
       ]
      },
      {
       "output_type": "stream",
       "stream": "stdout",
       "text": [
        " 23004 2014-01-31 00:00:00 2012-05-01 00:00:00\n",
        "['2006', '2007', '2005', '2008', '2009', '2011', '2010']\n",
        "23005"
       ]
      },
      {
       "output_type": "stream",
       "stream": "stdout",
       "text": [
        " NaT 2012-05-01 00:00:00\n",
        "['2006', '2007', '2005', '2008', '2009', '2011', '2010']\n",
        "110355"
       ]
      },
      {
       "output_type": "stream",
       "stream": "stdout",
       "text": [
        " 19746 2007-11-30 00:00:00 2000-12-01 00:00:00\n",
        "Tyrs to drop: ['2008', '2009', '2011', '2010', '2013', '2012']\n",
        "19747"
       ]
      },
      {
       "output_type": "stream",
       "stream": "stdout",
       "text": [
        " NaT 2013-08-01 00:00:00\n",
        "['2006', '2007', '2005', '2008', '2009', '2011', '2010', '2012']\n",
        "109377"
       ]
      },
      {
       "output_type": "stream",
       "stream": "stdout",
       "text": [
        " 897 2006-12-31 00:00:00 2001-09-01 00:00:00\n",
        "Tyrs to drop: ['2007', '2008', '2009', '2011', '2010', '2013', '2012']\n",
        "898"
       ]
      },
      {
       "output_type": "stream",
       "stream": "stdout",
       "text": [
        " NaT 2010-05-01 00:00:00\n",
        "['2006', '2007', '2005', '2008', '2009']\n",
        "100007"
       ]
      },
      {
       "output_type": "stream",
       "stream": "stdout",
       "text": [
        " 1912 2008-08-31 00:00:00 2003-09-01 00:00:00\n",
        "Tyrs to drop: ['2009', '2011', '2010', '2013', '2012']\n",
        "1913"
       ]
      },
      {
       "output_type": "stream",
       "stream": "stdout",
       "text": [
        " NaT 2003-09-01 00:00:00\n",
        "118215 9438 2007-05-31 00:00:00 2006-06-01 00:00:00\n",
        "['2005']\n",
        "Tyrs to drop: ['2008', '2009', '2011', '2010', '2013', '2012']\n",
        "9439"
       ]
      },
      {
       "output_type": "stream",
       "stream": "stdout",
       "text": [
        " NaT 2011-01-01 00:00:00\n",
        "['2006', '2007', '2005', '2008', '2009', '2010']\n",
        "119321"
       ]
      },
      {
       "output_type": "stream",
       "stream": "stdout",
       "text": [
        " 7956 2005-01-31 00:00:00 2002-12-01 00:00:00\n",
        "Tyrs to drop: ['2006', '2007', '2008', '2009', '2011', '2010', '2013', '2012']\n",
        "7957"
       ]
      },
      {
       "output_type": "stream",
       "stream": "stdout",
       "text": [
        " NaT 2014-01-01 00:00:00\n",
        "['2006', '2007', '2005', '2008', '2009', '2011', '2010', '2013', '2012']\n",
        "110349"
       ]
      },
      {
       "output_type": "stream",
       "stream": "stdout",
       "text": [
        " 5625 2009-12-31 00:00:00 1988-08-01 00:00:00\n",
        "Tyrs to drop: ['2011', '2010', '2013', '2012']\n",
        "5626"
       ]
      },
      {
       "output_type": "stream",
       "stream": "stdout",
       "text": [
        " 2012-06-10 00:00:00 1988-08-01 00:00:00\n",
        "Tyrs to drop: ['2013']\n",
        "115117 5850 2008-07-31 00:00:00 1987-09-01 00:00:00\n",
        "Tyrs to drop: ['2009', '2011', '2010', '2013', '2012']\n",
        "5851"
       ]
      },
      {
       "output_type": "stream",
       "stream": "stdout",
       "text": [
        " NaT 1987-09-01 00:00:00\n",
        "101923 8185 2008-05-31 00:00:00 1996-07-01 00:00:00\n",
        "Tyrs to drop: ['2009', '2011', '2010', '2013', '2012']\n",
        "8186"
       ]
      },
      {
       "output_type": "stream",
       "stream": "stdout",
       "text": [
        " NaT 1996-07-01 00:00:00\n",
        "113812 6509 2008-01-31 00:00:00 1991-05-01 00:00:00\n",
        "Tyrs to drop: ['2009', '2011', '2010', '2013', '2012']\n",
        "6510"
       ]
      },
      {
       "output_type": "stream",
       "stream": "stdout",
       "text": [
        " 2012-02-25 00:00:00 2009-09-01 00:00:00\n",
        "['2006', '2007', '2005', '2008']\n",
        "Tyrs to drop:"
       ]
      },
      {
       "output_type": "stream",
       "stream": "stdout",
       "text": [
        " ['2013']\n",
        "123103 24097 2011-06-30 00:00:00 2008-01-01 00:00:00\n",
        "['2006', '2007', '2005']\n",
        "Tyrs to drop:"
       ]
      },
      {
       "output_type": "stream",
       "stream": "stdout",
       "text": [
        " ['2013', '2012']\n",
        "24098"
       ]
      },
      {
       "output_type": "stream",
       "stream": "stdout",
       "text": [
        " NaT 2014-01-01 00:00:00\n",
        "['2006', '2007', '2005', '2008', '2009', '2011', '2010', '2013', '2012']\n",
        "124552"
       ]
      },
      {
       "output_type": "stream",
       "stream": "stdout",
       "text": [
        " 23707 2010-09-30 00:00:00 2008-06-01 00:00:00\n",
        "['2006', '2007', '2005']\n",
        "Tyrs to drop:"
       ]
      },
      {
       "output_type": "stream",
       "stream": "stdout",
       "text": [
        " ['2011', '2013', '2012']\n",
        "23708"
       ]
      },
      {
       "output_type": "stream",
       "stream": "stdout",
       "text": [
        " NaT 2013-02-01 00:00:00\n",
        "['2006', '2007', '2005', '2008', '2009', '2011', '2010', '2012']\n",
        "118221"
       ]
      },
      {
       "output_type": "stream",
       "stream": "stdout",
       "text": [
        " 19521 2005-08-31 00:00:00 2004-01-01 00:00:00\n",
        "Tyrs to drop: ['2006', '2007', '2008', '2009', '2011', '2010', '2013', '2012']\n",
        "19522"
       ]
      },
      {
       "output_type": "stream",
       "stream": "stdout",
       "text": [
        " NaT 2008-02-01 00:00:00\n",
        "['2006', '2007', '2005']\n",
        "122609"
       ]
      },
      {
       "output_type": "stream",
       "stream": "stdout",
       "text": [
        " 2124 2012-02-29 00:00:00 2007-06-01 00:00:00\n",
        "['2006', '2005']\n",
        "Tyrs to drop:"
       ]
      },
      {
       "output_type": "stream",
       "stream": "stdout",
       "text": [
        " ['2013']\n",
        "2125 NaT 2013-12-01 00:00:00\n",
        "['2006', '2007', '2005', '2008', '2009', '2011', '2010', '2012']\n",
        "109137"
       ]
      },
      {
       "output_type": "stream",
       "stream": "stdout",
       "text": [
        " 6907 2005-01-31 00:00:00 1983-02-01 00:00:00\n",
        "Tyrs to drop: ['2006', '2007', '2008', '2009', '2011', '2010', '2013', '2012']\n",
        "6908"
       ]
      },
      {
       "output_type": "stream",
       "stream": "stdout",
       "text": [
        " NaT 1983-02-01 00:00:00\n",
        "122270 16527 2008-02-29 00:00:00 2007-01-01 00:00:00\n",
        "['2006', '2005']\n",
        "Tyrs to drop:"
       ]
      },
      {
       "output_type": "stream",
       "stream": "stdout",
       "text": [
        " ['2009', '2011', '2010', '2013', '2012']\n",
        "16528"
       ]
      },
      {
       "output_type": "stream",
       "stream": "stdout",
       "text": [
        " 2011-03-31 00:00:00 2007-01-01 00:00:00\n",
        "['2006', '2005']\n",
        "Tyrs to drop:"
       ]
      },
      {
       "output_type": "stream",
       "stream": "stdout",
       "text": [
        " ['2013', '2012']\n",
        "125864"
       ]
      },
      {
       "output_type": "stream",
       "stream": "stdout",
       "text": [
        " 24298 2012-02-29 00:00:00 2009-11-01 00:00:00\n",
        "['2006', '2007', '2005', '2008']\n",
        "Tyrs to drop:"
       ]
      },
      {
       "output_type": "stream",
       "stream": "stdout",
       "text": [
        " ['2013']\n",
        "24299 NaT 2013-02-01 00:00:00\n",
        "['2006', '2007', '2005', '2008', '2009', '2011', '2010', '2012']\n",
        "100033"
       ]
      },
      {
       "output_type": "stream",
       "stream": "stdout",
       "text": [
        " 2323 2009-02-28 00:00:00 2002-11-01 00:00:00\n",
        "Tyrs to drop: ['2011', '2010', '2013', '2012']\n",
        "2324"
       ]
      },
      {
       "output_type": "stream",
       "stream": "stdout",
       "text": [
        " NaT 2002-11-01 00:00:00\n",
        "118195 15962 2006-12-31 00:00:00 2004-12-01 00:00:00\n",
        "Tyrs to drop: ['2007', '2008', '2009', '2011', '2010', '2013', '2012']\n",
        "15963"
       ]
      },
      {
       "output_type": "stream",
       "stream": "stdout",
       "text": [
        " NaT 2010-06-01 00:00:00\n",
        "['2006', '2007', '2005', '2008', '2009']\n",
        "124500"
       ]
      },
      {
       "output_type": "stream",
       "stream": "stdout",
       "text": [
        " 23873 2014-02-28 00:00:00 2010-03-01 00:00:00\n",
        "['2006', '2007', '2005', '2008', '2009']\n",
        "23874"
       ]
      },
      {
       "output_type": "stream",
       "stream": "stdout",
       "text": [
        " NaT 2010-03-01 00:00:00\n",
        "['2006', '2007', '2005', '2008', '2009']\n",
        "119350"
       ]
      },
      {
       "output_type": "stream",
       "stream": "stdout",
       "text": [
        " 21587 2006-01-31 00:00:00 2002-12-01 00:00:00\n",
        "Tyrs to drop: ['2007', '2008', '2009', '2011', '2010', '2013', '2012']\n",
        "21588"
       ]
      },
      {
       "output_type": "stream",
       "stream": "stdout",
       "text": [
        " NaT 2008-05-01 00:00:00\n",
        "['2006', '2007', '2005']\n",
        "119363"
       ]
      },
      {
       "output_type": "stream",
       "stream": "stdout",
       "text": [
        " 23013 2008-02-29 00:00:00 2002-12-01 00:00:00\n",
        "Tyrs to drop: ['2009', '2011', '2010', '2013', '2012']\n",
        "23014"
       ]
      },
      {
       "output_type": "stream",
       "stream": "stdout",
       "text": [
        " NaT 2010-01-01 00:00:00\n",
        "['2006', '2007', '2005', '2008', '2009']\n",
        "116581"
       ]
      },
      {
       "output_type": "stream",
       "stream": "stdout",
       "text": [
        " 1221 2005-02-28 00:00:00 1990-10-01 00:00:00\n",
        "Tyrs to drop: ['2006', '2007', '2008', '2009', '2011', '2010', '2013', '2012']\n",
        "1222"
       ]
      },
      {
       "output_type": "stream",
       "stream": "stdout",
       "text": [
        " 2014-02-28 00:00:00 2008-01-01 00:00:00\n",
        "['2006', '2007', '2005']\n",
        "107303"
       ]
      },
      {
       "output_type": "stream",
       "stream": "stdout",
       "text": [
        " 18083 2005-02-28 00:00:00 2001-01-01 00:00:00\n",
        "Tyrs to drop: ['2006', '2007', '2008', '2009', '2011', '2010', '2013', '2012']\n",
        "18084"
       ]
      },
      {
       "output_type": "stream",
       "stream": "stdout",
       "text": [
        " NaT 2006-01-01 00:00:00\n",
        "['2005']\n",
        "122225 1190 2011-12-31 00:00:00 2007-01-01 00:00:00\n",
        "['2006', '2005']\n",
        "Tyrs to drop:"
       ]
      },
      {
       "output_type": "stream",
       "stream": "stdout",
       "text": [
        " ['2013', '2012']\n",
        "1191"
       ]
      },
      {
       "output_type": "stream",
       "stream": "stdout",
       "text": [
        " NaT 2014-06-01 00:00:00\n",
        "['2006', '2007', '2005', '2008', '2009', '2011', '2010', '2013', '2012']\n",
        "119021"
       ]
      },
      {
       "output_type": "stream",
       "stream": "stdout",
       "text": [
        " 301 2009-01-09 00:00:00 2006-06-01 00:00:00\n",
        "['2005']\n",
        "Tyrs to drop: ['2011', '2010', '2013', '2012']\n",
        "302"
       ]
      },
      {
       "output_type": "stream",
       "stream": "stdout",
       "text": [
        " NaT 2010-12-01 00:00:00\n",
        "['2006', '2007', '2005', '2008', '2009']\n",
        "117876"
       ]
      },
      {
       "output_type": "stream",
       "stream": "stdout",
       "text": [
        " 9786 2006-10-31 00:00:00 2000-12-01 00:00:00\n",
        "Tyrs to drop: ['2007', '2008', '2009', '2011', '2010', '2013', '2012']\n",
        "9787"
       ]
      },
      {
       "output_type": "stream",
       "stream": "stdout",
       "text": [
        " NaT 2013-08-01 00:00:00\n",
        "['2006', '2007', '2005', '2008', '2009', '2011', '2010', '2012']\n",
        "119827"
       ]
      },
      {
       "output_type": "stream",
       "stream": "stdout",
       "text": [
        " 5658 2007-11-30 00:00:00 2004-04-01 00:00:00\n",
        "Tyrs to drop: ['2008', '2009', '2011', '2010', '2013', '2012']\n",
        "5659"
       ]
      },
      {
       "output_type": "stream",
       "stream": "stdout",
       "text": [
        " NaT 2013-09-01 00:00:00\n",
        "['2006', '2007', '2005', '2008', '2009', '2011', '2010', '2012']\n",
        "125939"
       ]
      },
      {
       "output_type": "stream",
       "stream": "stdout",
       "text": [
        " 1054 2011-12-31 00:00:00 2009-12-01 00:00:00\n",
        "['2006', '2007', '2005', '2008']\n",
        "Tyrs to drop:"
       ]
      },
      {
       "output_type": "stream",
       "stream": "stdout",
       "text": [
        " ['2013', '2012']\n",
        "1055"
       ]
      },
      {
       "output_type": "stream",
       "stream": "stdout",
       "text": [
        " NaT 2009-12-01 00:00:00\n",
        "['2006', '2007', '2005', '2008']\n",
        "118176"
       ]
      },
      {
       "output_type": "stream",
       "stream": "stdout",
       "text": [
        " 19603 2008-04-30 00:00:00 2003-11-01 00:00:00\n",
        "Tyrs to drop: ['2009', '2011', '2010', '2013', '2012']\n",
        "19604"
       ]
      },
      {
       "output_type": "stream",
       "stream": "stdout",
       "text": [
        " NaT 2013-08-01 00:00:00\n",
        "['2006', '2007', '2005', '2008', '2009', '2011', '2010', '2012']\n",
        "119353"
       ]
      },
      {
       "output_type": "stream",
       "stream": "stdout",
       "text": [
        " 22219 2006-03-31 00:00:00 2003-01-01 00:00:00\n",
        "Tyrs to drop: ['2007', '2008', '2009', '2011', '2010', '2013', '2012']\n",
        "22220"
       ]
      },
      {
       "output_type": "stream",
       "stream": "stdout",
       "text": [
        " NaT 2003-01-01 00:00:00\n",
        "122637 6153 2009-01-31 00:00:00 2007-06-01 00:00:00\n",
        "['2006', '2005']\n",
        "Tyrs to drop:"
       ]
      },
      {
       "output_type": "stream",
       "stream": "stdout",
       "text": [
        " ['2011', '2010', '2013', '2012']\n",
        "6154"
       ]
      },
      {
       "output_type": "stream",
       "stream": "stdout",
       "text": [
        " NaT 2014-08-01 00:00:00\n",
        "['2006', '2007', '2005', '2008', '2009', '2011', '2010', '2013', '2012']\n",
        "101980"
       ]
      },
      {
       "output_type": "stream",
       "stream": "stdout",
       "text": [
        " 8800 2005-03-31 00:00:00 2001-11-01 00:00:00\n",
        "Tyrs to drop: ['2006', '2007', '2008', '2009', '2011', '2010', '2013', '2012']\n",
        "8801"
       ]
      },
      {
       "output_type": "stream",
       "stream": "stdout",
       "text": [
        " NaT 2012-02-01 00:00:00\n",
        "['2006', '2007', '2005', '2008', '2009', '2011', '2010']\n",
        "124880"
       ]
      },
      {
       "output_type": "stream",
       "stream": "stdout",
       "text": [
        " 15743 2011-10-31 00:00:00 2008-09-01 00:00:00\n",
        "['2006', '2007', '2005']\n",
        "Tyrs to drop:"
       ]
      },
      {
       "output_type": "stream",
       "stream": "stdout",
       "text": [
        " ['2013', '2012']\n",
        "15744"
       ]
      },
      {
       "output_type": "stream",
       "stream": "stdout",
       "text": [
        " NaT 2012-07-01 00:00:00\n",
        "['2006', '2007', '2005', '2008', '2009', '2011', '2010']\n",
        "119839"
       ]
      },
      {
       "output_type": "stream",
       "stream": "stdout",
       "text": [
        " 15164 2008-05-31 00:00:00 2004-10-01 00:00:00\n",
        "Tyrs to drop: ['2009', '2011', '2010', '2013', '2012']\n",
        "15165"
       ]
      },
      {
       "output_type": "stream",
       "stream": "stdout",
       "text": [
        " NaT 2013-08-01 00:00:00\n",
        "['2006', '2007', '2005', '2008', '2009', '2011', '2010', '2012']\n",
        "118681"
       ]
      },
      {
       "output_type": "stream",
       "stream": "stdout",
       "text": [
        " 7200 2005-02-28 00:00:00 2002-12-01 00:00:00\n",
        "Tyrs to drop: ['2006', '2007', '2008', '2009', '2011', '2010', '2013', '2012']\n",
        "7201"
       ]
      },
      {
       "output_type": "stream",
       "stream": "stdout",
       "text": [
        " NaT 2010-09-01 00:00:00\n",
        "['2006', '2007', '2005', '2008', '2009']\n",
        "123587"
       ]
      },
      {
       "output_type": "stream",
       "stream": "stdout",
       "text": [
        " 1469 2010-04-30 00:00:00 2008-09-01 00:00:00\n",
        "['2006', '2007', '2005']\n",
        "Tyrs to drop:"
       ]
      },
      {
       "output_type": "stream",
       "stream": "stdout",
       "text": [
        " ['2011', '2013', '2012']\n",
        "1470"
       ]
      },
      {
       "output_type": "stream",
       "stream": "stdout",
       "text": [
        " NaT 2008-09-01 00:00:00\n",
        "['2006', '2007', '2005']\n",
        "118695"
       ]
      },
      {
       "output_type": "stream",
       "stream": "stdout",
       "text": [
        " 11273 2009-03-31 00:00:00 2006-04-01 00:00:00\n",
        "['2005']\n",
        "Tyrs to drop: ['2011', '2010', '2013', '2012']\n",
        "11274"
       ]
      },
      {
       "output_type": "stream",
       "stream": "stdout",
       "text": [
        " NaT 2006-04-01 00:00:00\n",
        "['2005']\n",
        "113128 1697 2009-07-31 00:00:00 1984-02-01 00:00:00\n",
        "Tyrs to drop: ['2011', '2010', '2013', '2012']\n",
        "1698"
       ]
      },
      {
       "output_type": "stream",
       "stream": "stdout",
       "text": [
        " NaT 1984-02-01 00:00:00\n",
        "100972 22679 2008-03-31 00:00:00 2000-06-01 00:00:00\n",
        "Tyrs to drop: ['2009', '2011', '2010', '2013', '2012']\n",
        "22680"
       ]
      },
      {
       "output_type": "stream",
       "stream": "stdout",
       "text": [
        " NaT 2000-06-01 00:00:00\n",
        "116597 15586 2007-07-31 00:00:00 2000-01-01 00:00:00\n",
        "Tyrs to drop: ['2008', '2009', '2011', '2010', '2013', '2012']\n",
        "15587"
       ]
      },
      {
       "output_type": "stream",
       "stream": "stdout",
       "text": [
        " NaT 2011-05-01 00:00:00\n",
        "['2006', '2007', '2005', '2008', '2009', '2010']\n",
        "116598"
       ]
      },
      {
       "output_type": "stream",
       "stream": "stdout",
       "text": [
        " 17271 2006-01-31 00:00:00 1992-04-01 00:00:00\n",
        "Tyrs to drop: ['2007', '2008', '2009', '2011', '2010', '2013', '2012']\n",
        "17272"
       ]
      },
      {
       "output_type": "stream",
       "stream": "stdout",
       "text": [
        " 2014-10-31 00:00:00 2011-11-01 00:00:00\n",
        "['2006', '2007', '2005', '2008', '2009', '2010']\n",
        "119847"
       ]
      },
      {
       "output_type": "stream",
       "stream": "stdout",
       "text": [
        " 21893 2007-12-31 00:00:00 2005-11-01 00:00:00\n",
        "Tyrs to drop: ['2008', '2009', '2011', '2010', '2013', '2012']\n",
        "21894"
       ]
      },
      {
       "output_type": "stream",
       "stream": "stdout",
       "text": [
        " NaT 2014-07-01 00:00:00\n",
        "['2006', '2007', '2005', '2008', '2009', '2011', '2010', '2013', '2012']\n",
        "122635"
       ]
      },
      {
       "output_type": "stream",
       "stream": "stdout",
       "text": [
        " 14394 2011-08-31 00:00:00 2007-06-01 00:00:00\n",
        "['2006', '2005']\n",
        "Tyrs to drop:"
       ]
      },
      {
       "output_type": "stream",
       "stream": "stdout",
       "text": [
        " ['2013', '2012']\n",
        "14395"
       ]
      },
      {
       "output_type": "stream",
       "stream": "stdout",
       "text": [
        " NaT 2007-06-01 00:00:00\n",
        "['2006', '2005']\n",
        "122237"
       ]
      },
      {
       "output_type": "stream",
       "stream": "stdout",
       "text": [
        " 8010 2009-01-31 00:00:00 2007-01-01 00:00:00\n",
        "['2006', '2005']\n",
        "Tyrs to drop:"
       ]
      },
      {
       "output_type": "stream",
       "stream": "stdout",
       "text": [
        " ['2011', '2010', '2013', '2012']\n",
        "8011"
       ]
      },
      {
       "output_type": "stream",
       "stream": "stdout",
       "text": [
        " NaT 2011-05-01 00:00:00\n",
        "['2006', '2007', '2005', '2008', '2009', '2010']\n",
        "122240"
       ]
      },
      {
       "output_type": "stream",
       "stream": "stdout",
       "text": [
        " 6247 2009-12-31 00:00:00 2007-01-01 00:00:00\n",
        "['2006', '2005']\n",
        "Tyrs to drop: ['2011', '2010', '2013', '2012']\n",
        "6248"
       ]
      },
      {
       "output_type": "stream",
       "stream": "stdout",
       "text": [
        " NaT 2013-08-01 00:00:00\n",
        "['2006', '2007', '2005', '2008', '2009', '2011', '2010', '2012']\n",
        "105387"
       ]
      },
      {
       "output_type": "stream",
       "stream": "stdout",
       "text": [
        " 8530 2005-04-30 00:00:00 2002-01-01 00:00:00\n",
        "Tyrs to drop: ['2006', '2007', '2008', '2009', '2011', '2010', '2013', '2012']\n",
        "8531"
       ]
      },
      {
       "output_type": "stream",
       "stream": "stdout",
       "text": [
        " NaT 2012-02-01 00:00:00\n",
        "['2006', '2007', '2005', '2008', '2009', '2011', '2010']\n",
        "122631"
       ]
      },
      {
       "output_type": "stream",
       "stream": "stdout",
       "text": [
        " 14610 2008-12-31 00:00:00 2007-06-01 00:00:00\n",
        "['2006', '2005']\n",
        "Tyrs to drop:"
       ]
      },
      {
       "output_type": "stream",
       "stream": "stdout",
       "text": [
        " ['2009', '2011', '2010', '2013', '2012']\n",
        "14611"
       ]
      },
      {
       "output_type": "stream",
       "stream": "stdout",
       "text": [
        " NaT 2007-06-01 00:00:00\n",
        "['2006', '2005']\n",
        "118191 "
       ]
      },
      {
       "output_type": "stream",
       "stream": "stdout",
       "text": [
        "16529 2006-07-31 00:00:00 2003-10-01 00:00:00\n",
        "Tyrs to drop: ['2007', '2008', '2009', '2011', '2010', '2013', '2012']\n",
        "16530"
       ]
      },
      {
       "output_type": "stream",
       "stream": "stdout",
       "text": [
        " NaT 2003-10-01 00:00:00\n",
        "123813 7271 2011-06-30 00:00:00 2008-06-01 00:00:00\n",
        "['2006', '2007', '2005']\n",
        "Tyrs to drop:"
       ]
      },
      {
       "output_type": "stream",
       "stream": "stdout",
       "text": [
        " ['2013', '2012']\n",
        "7272"
       ]
      },
      {
       "output_type": "stream",
       "stream": "stdout",
       "text": [
        " NaT 2013-01-01 00:00:00\n",
        "['2006', '2007', '2005', '2008', '2009', '2011', '2010', '2012']\n",
        "118981"
       ]
      },
      {
       "output_type": "stream",
       "stream": "stdout",
       "text": [
        " 19323 2006-05-15 00:00:00 2005-10-01 00:00:00\n",
        "Tyrs to drop: ['2007', '2008', '2009', '2011', '2010', '2013', '2012']\n",
        "19324"
       ]
      },
      {
       "output_type": "stream",
       "stream": "stdout",
       "text": [
        " NaT 2011-09-01 00:00:00\n",
        "['2006', '2007', '2005', '2008', '2009', '2010']\n",
        "126898"
       ]
      },
      {
       "output_type": "stream",
       "stream": "stdout",
       "text": [
        " 1240 2013-08-31 00:00:00 2011-04-01 00:00:00\n",
        "['2006', '2007', '2005', '2008', '2009', '2010']\n",
        "1241"
       ]
      },
      {
       "output_type": "stream",
       "stream": "stdout",
       "text": [
        " NaT 2011-04-01 00:00:00\n",
        "['2006', '2007', '2005', '2008', '2009', '2010']\n",
        "112857"
       ]
      },
      {
       "output_type": "stream",
       "stream": "stdout",
       "text": [
        " 18505 2008-02-29 00:00:00 2000-01-01 00:00:00\n",
        "Tyrs to drop: ['2009', '2011', '2010', '2013', '2012']\n",
        "18506"
       ]
      },
      {
       "output_type": "stream",
       "stream": "stdout",
       "text": [
        " NaT 2000-01-01 00:00:00\n",
        "118877 2290 2006-06-30 00:00:00 2003-11-01 00:00:00\n",
        "Tyrs to drop: ['2007', '2008', '2009', '2011', '2010', '2013', '2012']\n",
        "2291"
       ]
      },
      {
       "output_type": "stream",
       "stream": "stdout",
       "text": [
        " NaT 2003-11-01 00:00:00\n",
        "118873 7309 2008-06-30 00:00:00 2004-09-01 00:00:00\n",
        "Tyrs to drop: ['2009', '2011', '2010', '2013', '2012']\n",
        "7310"
       ]
      },
      {
       "output_type": "stream",
       "stream": "stdout",
       "text": [
        " 2010-10-31 00:00:00 2004-09-01 00:00:00\n",
        "Tyrs to drop: ['2011', '2013', '2012']\n",
        "109032"
       ]
      },
      {
       "output_type": "stream",
       "stream": "stdout",
       "text": [
        " 18991 2006-03-31 00:00:00 2000-04-01 00:00:00\n",
        "Tyrs to drop: ['2007', '2008', '2009', '2011', '2010', '2013', '2012']\n",
        "18992"
       ]
      },
      {
       "output_type": "stream",
       "stream": "stdout",
       "text": [
        " NaT 2012-09-01 00:00:00\n",
        "['2006', '2007', '2005', '2008', '2009', '2011', '2010']\n",
        "115753"
       ]
      },
      {
       "output_type": "stream",
       "stream": "stdout",
       "text": [
        " 6223 2006-06-30 00:00:00 1996-02-01 00:00:00\n",
        "Tyrs to drop: ['2007', '2008', '2009', '2011', '2010', '2013', '2012']\n",
        "6224"
       ]
      },
      {
       "output_type": "stream",
       "stream": "stdout",
       "text": [
        " NaT 1996-02-01 00:00:00\n",
        "119487 4117 2006-01-08 00:00:00 2003-05-01 00:00:00\n",
        "Tyrs to drop: ['2007', '2008', '2009', '2011', '2010', '2013', '2012']\n",
        "4118"
       ]
      },
      {
       "output_type": "stream",
       "stream": "stdout",
       "text": [
        " NaT 2010-09-01 00:00:00\n",
        "['2006', '2007', '2005', '2008', '2009']\n",
        "118023"
       ]
      },
      {
       "output_type": "stream",
       "stream": "stdout",
       "text": [
        " 2679 2006-01-31 00:00:00 2001-12-01 00:00:00\n",
        "Tyrs to drop: ['2007', '2008', '2009', '2011', '2010', '2013', '2012']\n",
        "2680"
       ]
      },
      {
       "output_type": "stream",
       "stream": "stdout",
       "text": [
        " NaT 2012-01-01 00:00:00\n",
        "['2006', '2007', '2005', '2008', '2009', '2011', '2010']\n",
        "125093"
       ]
      },
      {
       "output_type": "stream",
       "stream": "stdout",
       "text": [
        " 987 2010-04-30 00:00:00 2008-12-01 00:00:00\n",
        "['2006', '2007', '2005']\n",
        "Tyrs to drop:"
       ]
      },
      {
       "output_type": "stream",
       "stream": "stdout",
       "text": [
        " ['2011', '2013', '2012']\n",
        "988"
       ]
      },
      {
       "output_type": "stream",
       "stream": "stdout",
       "text": [
        " 2014-01-31 00:00:00 2008-12-01 00:00:00\n",
        "['2006', '2007', '2005']\n",
        "122116"
       ]
      },
      {
       "output_type": "stream",
       "stream": "stdout",
       "text": [
        " 18117 2012-02-29 00:00:00 2006-12-01 00:00:00\n",
        "['2005']\n",
        "Tyrs to drop: ['2013']\n",
        "18118"
       ]
      },
      {
       "output_type": "stream",
       "stream": "stdout",
       "text": [
        " NaT 2014-07-01 00:00:00\n",
        "['2006', '2007', '2005', '2008', '2009', '2011', '2010', '2013', '2012']\n",
        "118866"
       ]
      },
      {
       "output_type": "stream",
       "stream": "stdout",
       "text": [
        " 21683 2007-12-31 00:00:00 2002-11-01 00:00:00\n",
        "Tyrs to drop: ['2008', '2009', '2011', '2010', '2013', '2012']\n",
        "21684"
       ]
      },
      {
       "output_type": "stream",
       "stream": "stdout",
       "text": [
        " NaT 2014-01-01 00:00:00\n",
        "['2006', '2007', '2005', '2008', '2009', '2011', '2010', '2013', '2012']\n",
        "118943"
       ]
      },
      {
       "output_type": "stream",
       "stream": "stdout",
       "text": [
        " 11016 2006-09-30 00:00:00 2003-11-01 00:00:00\n",
        "Tyrs to drop: ['2007', '2008', '2009', '2011', '2010', '2013', '2012']\n",
        "11017"
       ]
      },
      {
       "output_type": "stream",
       "stream": "stdout",
       "text": [
        " NaT 2006-11-01 00:00:00\n",
        "['2005']\n",
        "126147 7704 2012-04-30 00:00:00 2010-02-01 00:00:00\n",
        "['2006', '2007', '2005', '2008', '2009']\n",
        "Tyrs to drop:"
       ]
      },
      {
       "output_type": "stream",
       "stream": "stdout",
       "text": [
        " ['2013']\n",
        "7705 NaT 2013-02-01 00:00:00\n",
        "['2006', '2007', '2005', '2008', '2009', '2011', '2010', '2012']\n",
        "118945"
       ]
      },
      {
       "output_type": "stream",
       "stream": "stdout",
       "text": [
        " 1903 2006-04-30 00:00:00 2004-12-01 00:00:00\n",
        "Tyrs to drop: ['2007', '2008', '2009', '2011', '2010', '2013', '2012']\n",
        "1904"
       ]
      },
      {
       "output_type": "stream",
       "stream": "stdout",
       "text": [
        " NaT 2010-08-01 00:00:00\n",
        "['2006', '2007', '2005', '2008', '2009']\n",
        "114877"
       ]
      },
      {
       "output_type": "stream",
       "stream": "stdout",
       "text": [
        " 20188 2005-02-28 00:00:00 2000-12-01 00:00:00\n",
        "Tyrs to drop: ['2006', '2007', '2008', '2009', '2011', '2010', '2013', '2012']\n",
        "20189"
       ]
      },
      {
       "output_type": "stream",
       "stream": "stdout",
       "text": [
        " NaT 2000-12-01 00:00:00\n",
        "107515 11993 2013-08-31 00:00:00 1995-02-01 00:00:00\n",
        "11994 NaT 1995-02-01 00:00:00\n",
        "119483 14159 2008-01-31 00:00:00 2006-01-01 00:00:00\n",
        "['2005']\n",
        "Tyrs to drop: ['2009', '2011', '2010', '2013', '2012']\n",
        "14160"
       ]
      },
      {
       "output_type": "stream",
       "stream": "stdout",
       "text": [
        " NaT 2013-01-01 00:00:00\n",
        "['2006', '2007', '2005', '2008', '2009', '2011', '2010', '2012']\n",
        "119482"
       ]
      },
      {
       "output_type": "stream",
       "stream": "stdout",
       "text": [
        " 11380 2011-09-30 00:00:00 2003-08-01 00:00:00\n",
        "Tyrs to drop: ['2013', '2012']\n",
        "11381"
       ]
      },
      {
       "output_type": "stream",
       "stream": "stdout",
       "text": [
        " NaT 2013-07-01 00:00:00\n",
        "['2006', '2007', '2005', '2008', '2009', '2011', '2010', '2012']\n",
        "112102"
       ]
      },
      {
       "output_type": "stream",
       "stream": "stdout",
       "text": [
        " 16855 2009-01-31 00:00:00 2000-07-01 00:00:00\n",
        "Tyrs to drop: ['2011', '2010', '2013', '2012']\n",
        "16856"
       ]
      },
      {
       "output_type": "stream",
       "stream": "stdout",
       "text": [
        " NaT 2013-01-01 00:00:00\n",
        "['2006', '2007', '2005', '2008', '2009', '2011', '2010', '2012']\n",
        "110609"
       ]
      },
      {
       "output_type": "stream",
       "stream": "stdout",
       "text": [
        " 23110 2007-05-31 00:00:00 2002-04-01 00:00:00\n",
        "Tyrs to drop: ['2008', '2009', '2011', '2010', '2013', '2012']\n",
        "23111"
       ]
      },
      {
       "output_type": "stream",
       "stream": "stdout",
       "text": [
        " NaT 2002-04-01 00:00:00\n",
        "119481 22785 2008-01-31 00:00:00 2004-11-01 00:00:00\n",
        "Tyrs to drop: ['2009', '2011', '2010', '2013', '2012']\n",
        "22786"
       ]
      },
      {
       "output_type": "stream",
       "stream": "stdout",
       "text": [
        " NaT 2012-04-01 00:00:00\n",
        "['2006', '2007', '2005', '2008', '2009', '2011', '2010']\n",
        "118033"
       ]
      },
      {
       "output_type": "stream",
       "stream": "stdout",
       "text": [
        " 2399 2006-06-30 00:00:00 2002-04-01 00:00:00\n",
        "Tyrs to drop: ['2007', '2008', '2009', '2011', '2010', '2013', '2012']\n",
        "2400"
       ]
      },
      {
       "output_type": "stream",
       "stream": "stdout",
       "text": [
        " NaT 2009-01-01 00:00:00\n",
        "['2006', '2007', '2005', '2008']\n",
        "102134"
       ]
      },
      {
       "output_type": "stream",
       "stream": "stdout",
       "text": [
        " 3899 2008-09-30 00:00:00 2005-06-01 00:00:00\n",
        "Tyrs to drop: ['2009', '2011', '2010', '2013', '2012']\n",
        "3900"
       ]
      },
      {
       "output_type": "stream",
       "stream": "stdout",
       "text": [
        " NaT 2005-06-01 00:00:00\n",
        "119480 22495 2008-04-30 00:00:00 2006-07-01 00:00:00\n",
        "['2005']\n",
        "Tyrs to drop: ['2009', '2011', '2010', '2013', '2012']\n",
        "22496"
       ]
      },
      {
       "output_type": "stream",
       "stream": "stdout",
       "text": [
        " NaT 2006-07-01 00:00:00\n",
        "['2005']\n",
        "119609 9311 2009-04-30 00:00:00 2003-12-01 00:00:00\n",
        "Tyrs to drop: ['2011', '2010', '2013', '2012']\n",
        "9312"
       ]
      },
      {
       "output_type": "stream",
       "stream": "stdout",
       "text": [
        " NaT 2003-12-01 00:00:00\n",
        "122007 24197 2008-12-31 00:00:00 2006-11-01 00:00:00\n",
        "['2005']\n",
        "Tyrs to drop: ['2009', '2011', '2010', '2013', '2012']\n",
        "24198"
       ]
      },
      {
       "output_type": "stream",
       "stream": "stdout",
       "text": [
        " NaT 2006-11-01 00:00:00\n",
        "['2005']\n",
        "118856 11197 2009-02-28 00:00:00 2006-09-01 00:00:00\n",
        "['2005']\n",
        "Tyrs to drop: ['2011', '2010', '2013', '2012']\n",
        "11198"
       ]
      },
      {
       "output_type": "stream",
       "stream": "stdout",
       "text": [
        " NaT 2010-07-01 00:00:00\n",
        "['2006', '2007', '2005', '2008', '2009']\n",
        "123964"
       ]
      },
      {
       "output_type": "stream",
       "stream": "stdout",
       "text": [
        " 10993 2011-10-31 00:00:00 2009-08-01 00:00:00\n",
        "['2006', '2007', '2005', '2008']\n",
        "Tyrs to drop:"
       ]
      },
      {
       "output_type": "stream",
       "stream": "stdout",
       "text": [
        " ['2013', '2012']\n",
        "10994 NaT 2009-08-01 00:00:00\n",
        "['2006', '2007', '2005', '2008']\n",
        "106343"
       ]
      },
      {
       "output_type": "stream",
       "stream": "stdout",
       "text": [
        " 14360 2005-12-31 00:00:00 1986-07-01 00:00:00\n",
        "Tyrs to drop: ['2006', '2007', '2008', '2009', '2011', '2010', '2013', '2012']\n",
        "14361"
       ]
      },
      {
       "output_type": "stream",
       "stream": "stdout",
       "text": [
        " NaT 2014-01-01 00:00:00\n",
        "['2006', '2007', '2005', '2008', '2009', '2011', '2010', '2013', '2012']\n",
        "110596"
       ]
      },
      {
       "output_type": "stream",
       "stream": "stdout",
       "text": [
        " 22074 2005-01-14 00:00:00 2001-04-01 00:00:00\n",
        "Tyrs to drop: ['2006', '2007', '2008', '2009', '2011', '2010', '2013', '2012']\n",
        "22075"
       ]
      },
      {
       "output_type": "stream",
       "stream": "stdout",
       "text": [
        " NaT 2008-01-01 00:00:00\n",
        "['2006', '2007', '2005']\n",
        "119475"
       ]
      },
      {
       "output_type": "stream",
       "stream": "stdout",
       "text": [
        " 16354 2011-12-31 00:00:00 2006-06-01 00:00:00\n",
        "['2005']\n",
        "Tyrs to drop: ['2013', '2012']\n",
        "16355"
       ]
      },
      {
       "output_type": "stream",
       "stream": "stdout",
       "text": [
        " NaT 2013-01-01 00:00:00\n",
        "['2006', '2007', '2005', '2008', '2009', '2011', '2010', '2012']\n",
        "119575"
       ]
      },
      {
       "output_type": "stream",
       "stream": "stdout",
       "text": [
        " 18357 2007-01-31 00:00:00 2006-01-01 00:00:00\n",
        "['2005']\n",
        "Tyrs to drop: ['2008', '2009', '2011', '2010', '2013', '2012']\n",
        "18358"
       ]
      },
      {
       "output_type": "stream",
       "stream": "stdout",
       "text": [
        " NaT 2012-01-01 00:00:00\n",
        "['2006', '2007', '2005', '2008', '2009', '2011', '2010']\n",
        "118937"
       ]
      },
      {
       "output_type": "stream",
       "stream": "stdout",
       "text": [
        " 15306 2007-06-30 00:00:00 2004-11-01 00:00:00\n",
        "Tyrs to drop: ['2008', '2009', '2011', '2010', '2013', '2012']\n",
        "15307"
       ]
      },
      {
       "output_type": "stream",
       "stream": "stdout",
       "text": [
        " NaT 2004-11-01 00:00:00\n",
        "115134 16346 2008-06-30 00:00:00 2001-08-01 00:00:00\n",
        "Tyrs to drop: ['2009', '2011', '2010', '2013', '2012']\n",
        "16347"
       ]
      },
      {
       "output_type": "stream",
       "stream": "stdout",
       "text": [
        " NaT 2001-08-01 00:00:00\n",
        "108976 21212 2008-06-30 00:00:00 1988-03-01 00:00:00\n",
        "Tyrs to drop: ['2009', '2011', '2010', '2013', '2012']\n",
        "21213"
       ]
      },
      {
       "output_type": "stream",
       "stream": "stdout",
       "text": [
        " NaT 2014-01-01 00:00:00\n",
        "['2006', '2007', '2005', '2008', '2009', '2011', '2010', '2013', '2012']\n",
        "118917"
       ]
      },
      {
       "output_type": "stream",
       "stream": "stdout",
       "text": [
        " 2455 2012-02-29 00:00:00 2006-10-01 00:00:00\n",
        "['2005']\n",
        "Tyrs to drop: ['2013']\n",
        "2456"
       ]
      },
      {
       "output_type": "stream",
       "stream": "stdout",
       "text": [
        " NaT 2013-08-01 00:00:00\n",
        "['2006', '2007', '2005', '2008', '2009', '2011', '2010', '2012']\n",
        "112159"
       ]
      },
      {
       "output_type": "stream",
       "stream": "stdout",
       "text": [
        " 19794 2007-02-28 00:00:00 2000-12-01 00:00:00\n",
        "Tyrs to drop: ['2008', '2009', '2011', '2010', '2013', '2012']\n",
        "19795"
       ]
      },
      {
       "output_type": "stream",
       "stream": "stdout",
       "text": [
        " NaT 2013-08-01 00:00:00\n",
        "['2006', '2007', '2005', '2008', '2009', '2011', '2010', '2012']\n",
        "100410"
       ]
      },
      {
       "output_type": "stream",
       "stream": "stdout",
       "text": [
        " 7225 2012-02-29 00:00:00 1996-01-01 00:00:00\n",
        "Tyrs to drop: ['2013']\n",
        "7226"
       ]
      },
      {
       "output_type": "stream",
       "stream": "stdout",
       "text": [
        " NaT 1996-01-01 00:00:00\n",
        "116343 3620 2007-07-31 00:00:00 2001-07-01 00:00:00\n",
        "Tyrs to drop: ['2008', '2009', '2011', '2010', '2013', '2012']\n",
        "3621"
       ]
      },
      {
       "output_type": "stream",
       "stream": "stdout",
       "text": [
        " NaT 2012-08-01 00:00:00\n",
        "['2006', '2007', '2005', '2008', '2009', '2011', '2010']\n",
        "119538"
       ]
      },
      {
       "output_type": "stream",
       "stream": "stdout",
       "text": [
        " 1530 2007-01-31 00:00:00 2003-07-01 00:00:00\n",
        "Tyrs to drop: ['2008', '2009', '2011', '2010', '2013', '2012']\n",
        "1531"
       ]
      },
      {
       "output_type": "stream",
       "stream": "stdout",
       "text": [
        " NaT 2011-10-01 00:00:00\n",
        "['2006', '2007', '2005', '2008', '2009', '2010']\n",
        "119540"
       ]
      },
      {
       "output_type": "stream",
       "stream": "stdout",
       "text": [
        " 19106 2009-08-31 00:00:00 2006-05-01 00:00:00\n",
        "['2005']\n",
        "Tyrs to drop: ['2011', '2010', '2013', '2012']\n",
        "19107"
       ]
      },
      {
       "output_type": "stream",
       "stream": "stdout",
       "text": [
        " NaT 2006-05-01 00:00:00\n",
        "['2005']\n",
        "125437 16786 2012-10-31 00:00:00 2009-04-01 00:00:00\n",
        "['2006', '2007', '2005', '2008']\n",
        "Tyrs to drop:"
       ]
      },
      {
       "output_type": "stream",
       "stream": "stdout",
       "text": [
        " ['2013']\n",
        "16787 NaT 2009-04-01 00:00:00\n",
        "['2006', '2007', '2005', '2008']\n",
        "119514"
       ]
      },
      {
       "output_type": "stream",
       "stream": "stdout",
       "text": [
        " 5558 2008-05-31 00:00:00 2003-04-01 00:00:00\n",
        "Tyrs to drop: ['2009', '2011', '2010', '2013', '2012']\n",
        "5559"
       ]
      },
      {
       "output_type": "stream",
       "stream": "stdout",
       "text": [
        " NaT 2010-01-01 00:00:00\n",
        "['2006', '2007', '2005', '2008', '2009']\n",
        "118903"
       ]
      },
      {
       "output_type": "stream",
       "stream": "stdout",
       "text": [
        " 15870 2007-11-30 00:00:00 2006-07-01 00:00:00\n",
        "['2005']\n",
        "Tyrs to drop: ['2008', '2009', '2011', '2010', '2013', '2012']\n",
        "15871"
       ]
      },
      {
       "output_type": "stream",
       "stream": "stdout",
       "text": [
        " NaT 2011-01-01 00:00:00\n",
        "['2006', '2007', '2005', '2008', '2009', '2010']\n",
        "117469"
       ]
      },
      {
       "output_type": "stream",
       "stream": "stdout",
       "text": [
        " 548 2010-07-31 00:00:00 1999-03-01 00:00:00\n",
        "Tyrs to drop: ['2011', '2013', '2012']\n",
        "549"
       ]
      },
      {
       "output_type": "stream",
       "stream": "stdout",
       "text": [
        " NaT 1999-03-01 00:00:00\n",
        "122063 6616 2009-07-31 00:00:00 2006-12-01 00:00:00\n",
        "['2005']\n",
        "Tyrs to drop: ['2011', '2010', '2013', '2012']\n",
        "6617"
       ]
      },
      {
       "output_type": "stream",
       "stream": "stdout",
       "text": [
        " NaT 2014-01-01 00:00:00\n",
        "['2006', '2007', '2005', '2008', '2009', '2011', '2010', '2013', '2012']\n",
        "116318"
       ]
      },
      {
       "output_type": "stream",
       "stream": "stdout",
       "text": [
        " 3434 2005-02-28 00:00:00 2001-07-01 00:00:00\n",
        "Tyrs to drop: ['2006', '2007', '2008', '2009', '2011', '2010', '2013', '2012']\n",
        "3435"
       ]
      },
      {
       "output_type": "stream",
       "stream": "stdout",
       "text": [
        " 2007-06-30 00:00:00 2001-07-01 00:00:00\n",
        "Tyrs to drop: ['2008', '2009', '2011', '2010', '2013', '2012']\n",
        "122060"
       ]
      },
      {
       "output_type": "stream",
       "stream": "stdout",
       "text": [
        " 22425 2007-04-30 00:00:00 2006-12-01 00:00:00\n",
        "['2005']\n",
        "Tyrs to drop: ['2008', '2009', '2011', '2010', '2013', '2012']\n",
        "22426"
       ]
      },
      {
       "output_type": "stream",
       "stream": "stdout",
       "text": [
        " 2008-07-31 00:00:00 2008-01-01 00:00:00\n",
        "['2006', '2007', '2005']\n",
        "Tyrs to drop:"
       ]
      },
      {
       "output_type": "stream",
       "stream": "stdout",
       "text": [
        " ['2009', '2011', '2010', '2013', '2012']\n",
        "115774"
       ]
      },
      {
       "output_type": "stream",
       "stream": "stdout",
       "text": [
        " 1647 2006-04-30 00:00:00 1986-03-01 00:00:00\n",
        "Tyrs to drop: ['2007', '2008', '2009', '2011', '2010', '2013', '2012']\n",
        "1648"
       ]
      },
      {
       "output_type": "stream",
       "stream": "stdout",
       "text": [
        " NaT 2013-01-01 00:00:00\n",
        "['2006', '2007', '2005', '2008', '2009', '2011', '2010', '2012']\n",
        "118895"
       ]
      },
      {
       "output_type": "stream",
       "stream": "stdout",
       "text": [
        " 14819 2006-01-31 00:00:00 2003-03-01 00:00:00\n",
        "Tyrs to drop: ['2007', '2008', '2009', '2011', '2010', '2013', '2012']\n",
        "14820"
       ]
      },
      {
       "output_type": "stream",
       "stream": "stdout",
       "text": [
        " NaT 2011-03-01 00:00:00\n",
        "['2006', '2007', '2005', '2008', '2009', '2010']\n",
        "124139"
       ]
      },
      {
       "output_type": "stream",
       "stream": "stdout",
       "text": [
        " 15770 2011-06-30 00:00:00 2009-01-01 00:00:00\n",
        "['2006', '2007', '2005', '2008']\n",
        "Tyrs to drop:"
       ]
      },
      {
       "output_type": "stream",
       "stream": "stdout",
       "text": [
        " ['2013', '2012']\n",
        "15771"
       ]
      },
      {
       "output_type": "stream",
       "stream": "stdout",
       "text": [
        " NaT 2014-01-01 00:00:00\n",
        "['2006', '2007', '2005', '2008', '2009', '2011', '2010', '2013', '2012']\n",
        "122769"
       ]
      },
      {
       "output_type": "stream",
       "stream": "stdout",
       "text": [
        " 152 2010-09-30 00:00:00 2007-08-01 00:00:00\n",
        "['2006', '2005']\n",
        "Tyrs to drop: ['2011', '2013', '2012']\n",
        "153"
       ]
      },
      {
       "output_type": "stream",
       "stream": "stdout",
       "text": [
        " NaT 2013-01-01 00:00:00\n",
        "['2006', '2007', '2005', '2008', '2009', '2011', '2010', '2012']\n",
        "124060"
       ]
      },
      {
       "output_type": "stream",
       "stream": "stdout",
       "text": [
        " 13600 2009-12-31 00:00:00 2008-06-01 00:00:00\n",
        "['2006', '2007', '2005']\n",
        "Tyrs to drop:"
       ]
      },
      {
       "output_type": "stream",
       "stream": "stdout",
       "text": [
        " ['2011', '2010', '2013', '2012']\n",
        "13601"
       ]
      },
      {
       "output_type": "stream",
       "stream": "stdout",
       "text": [
        " NaT 2012-02-01 00:00:00\n",
        "['2006', '2007', '2005', '2008', '2009', '2011', '2010']\n",
        "118889"
       ]
      },
      {
       "output_type": "stream",
       "stream": "stdout",
       "text": [
        " 13528 2006-12-31 00:00:00 2004-09-01 00:00:00\n",
        "Tyrs to drop: ['2007', '2008', '2009', '2011', '2010', '2013', '2012']\n",
        "13529"
       ]
      },
      {
       "output_type": "stream",
       "stream": "stdout",
       "text": [
        " NaT 2012-06-01 00:00:00\n",
        "['2006', '2007', '2005', '2008', '2009', '2011', '2010']\n",
        "107551"
       ]
      },
      {
       "output_type": "stream",
       "stream": "stdout",
       "text": [
        " 18133 2008-01-31 00:00:00 2001-03-01 00:00:00\n",
        "Tyrs to drop: ['2009', '2011', '2010', '2013', '2012']\n",
        "18134"
       ]
      },
      {
       "output_type": "stream",
       "stream": "stdout",
       "text": [
        " NaT 2011-02-01 00:00:00\n",
        "['2006', '2007', '2005', '2008', '2009', '2010']\n",
        "117476"
       ]
      },
      {
       "output_type": "stream",
       "stream": "stdout",
       "text": [
        " 16136 2006-02-28 00:00:00 2002-05-01 00:00:00\n",
        "Tyrs to drop: ['2007', '2008', '2009', '2011', '2010', '2013', '2012']\n",
        "16137"
       ]
      },
      {
       "output_type": "stream",
       "stream": "stdout",
       "text": [
        " NaT 2010-11-01 00:00:00\n",
        "['2006', '2007', '2005', '2008', '2009']\n",
        "118887"
       ]
      },
      {
       "output_type": "stream",
       "stream": "stdout",
       "text": [
        " 16328 2006-05-31 00:00:00 2003-04-01 00:00:00\n",
        "Tyrs to drop: ['2007', '2008', '2009', '2011', '2010', '2013', '2012']\n",
        "16329"
       ]
      },
      {
       "output_type": "stream",
       "stream": "stdout",
       "text": [
        " NaT 2003-04-01 00:00:00\n",
        "110639 22776 2008-06-30 00:00:00 2002-06-01 00:00:00\n",
        "Tyrs to drop: ['2009', '2011', '2010', '2013', '2012']\n",
        "22777"
       ]
      },
      {
       "output_type": "stream",
       "stream": "stdout",
       "text": [
        " NaT 2013-02-01 00:00:00\n",
        "['2006', '2007', '2005', '2008', '2009', '2011', '2010', '2012']\n",
        "122729"
       ]
      },
      {
       "output_type": "stream",
       "stream": "stdout",
       "text": [
        " 15939 2010-06-30 00:00:00 2007-08-01 00:00:00\n",
        "['2006', '2005']\n",
        "Tyrs to drop:"
       ]
      },
      {
       "output_type": "stream",
       "stream": "stdout",
       "text": [
        " ['2011', '2013', '2012']\n",
        "15940"
       ]
      },
      {
       "output_type": "stream",
       "stream": "stdout",
       "text": [
        " NaT 2007-08-01 00:00:00\n",
        "['2006', '2005']\n",
        "109027"
       ]
      },
      {
       "output_type": "stream",
       "stream": "stdout",
       "text": [
        " 21068 2008-02-29 00:00:00 1988-10-01 00:00:00\n",
        "Tyrs to drop: ['2009', '2011', '2010', '2013', '2012']\n",
        "21069"
       ]
      },
      {
       "output_type": "stream",
       "stream": "stdout",
       "text": [
        " NaT 1988-10-01 00:00:00\n",
        "104707 18239 2006-06-30 00:00:00 1992-03-01 00:00:00\n",
        "Tyrs to drop: ['2007', '2008', '2009', '2011', '2010', '2013', '2012']\n",
        "18240"
       ]
      },
      {
       "output_type": "stream",
       "stream": "stdout",
       "text": [
        " NaT 2010-07-01 00:00:00\n",
        "['2006', '2007', '2005', '2008', '2009']\n",
        "118935"
       ]
      },
      {
       "output_type": "stream",
       "stream": "stdout",
       "text": [
        " 15360 2007-05-31 00:00:00 2005-09-01 00:00:00\n",
        "Tyrs to drop: ['2008', '2009', '2011', '2010', '2013', '2012']\n",
        "15361"
       ]
      },
      {
       "output_type": "stream",
       "stream": "stdout",
       "text": [
        " NaT 2009-04-01 00:00:00\n",
        "['2006', '2007', '2005', '2008']\n",
        "119569"
       ]
      },
      {
       "output_type": "stream",
       "stream": "stdout",
       "text": [
        " 12667 2005-01-31 00:00:00 2003-05-01 00:00:00\n",
        "Tyrs to drop: ['2006', '2007', '2008', '2009', '2011', '2010', '2013', '2012']\n",
        "12668"
       ]
      },
      {
       "output_type": "stream",
       "stream": "stdout",
       "text": [
        " NaT 2013-02-01 00:00:00\n",
        "['2006', '2007', '2005', '2008', '2009', '2011', '2010', '2012']\n",
        "112770"
       ]
      },
      {
       "output_type": "stream",
       "stream": "stdout",
       "text": [
        " 23548 2008-05-31 00:00:00 2002-01-01 00:00:00\n",
        "Tyrs to drop: ['2009', '2011', '2010', '2013', '2012']\n",
        "23549"
       ]
      },
      {
       "output_type": "stream",
       "stream": "stdout",
       "text": [
        " NaT 2010-11-01 00:00:00\n",
        "['2006', '2007', '2005', '2008', '2009']\n",
        "112087"
       ]
      },
      {
       "output_type": "stream",
       "stream": "stdout",
       "text": [
        " 19263 2005-01-31 00:00:00 2000-11-01 00:00:00\n",
        "Tyrs to drop: ['2006', '2007', '2008', '2009', '2011', '2010', '2013', '2012']\n",
        "19264"
       ]
      },
      {
       "output_type": "stream",
       "stream": "stdout",
       "text": [
        " 2010-02-04 00:00:00 2007-02-01 00:00:00\n",
        "['2006', '2005']\n",
        "Tyrs to drop: ['2011', '2013', '2012']\n",
        "117384"
       ]
      },
      {
       "output_type": "stream",
       "stream": "stdout",
       "text": [
        " 1266 2007-12-31 00:00:00 2001-12-01 00:00:00\n",
        "Tyrs to drop: ['2008', '2009', '2011', '2010', '2013', '2012']\n",
        "1267"
       ]
      },
      {
       "output_type": "stream",
       "stream": "stdout",
       "text": [
        " NaT 2001-12-01 00:00:00\n",
        "118850 18187 2007-09-30 00:00:00 2006-09-01 00:00:00\n",
        "['2005']\n",
        "Tyrs to drop: ['2008', '2009', '2011', '2010', '2013', '2012']\n",
        "18188"
       ]
      },
      {
       "output_type": "stream",
       "stream": "stdout",
       "text": [
        " NaT 2011-05-01 00:00:00\n",
        "['2006', '2007', '2005', '2008', '2009', '2010']\n",
        "126833"
       ]
      },
      {
       "output_type": "stream",
       "stream": "stdout",
       "text": [
        " 7901 2014-05-31 00:00:00 2011-03-01 00:00:00\n",
        "['2006', '2007', '2005', '2008', '2009', '2010']\n",
        "7902"
       ]
      },
      {
       "output_type": "stream",
       "stream": "stdout",
       "text": [
        " NaT 2011-03-01 00:00:00\n",
        "['2006', '2007', '2005', '2008', '2009', '2010']\n",
        "118964"
       ]
      },
      {
       "output_type": "stream",
       "stream": "stdout",
       "text": [
        " 15611 2006-03-31 00:00:00 2003-09-01 00:00:00\n",
        "Tyrs to drop: ['2007', '2008', '2009', '2011', '2010', '2013', '2012']\n",
        "15612"
       ]
      },
      {
       "output_type": "stream",
       "stream": "stdout",
       "text": [
        " NaT 2011-01-01 00:00:00\n",
        "['2006', '2007', '2005', '2008', '2009', '2010']\n",
        "122146"
       ]
      },
      {
       "output_type": "stream",
       "stream": "stdout",
       "text": [
        " 10397 2009-09-30 00:00:00 2007-01-01 00:00:00\n",
        "['2006', '2005']\n",
        "Tyrs to drop:"
       ]
      },
      {
       "output_type": "stream",
       "stream": "stdout",
       "text": [
        " ['2011', '2010', '2013', '2012']\n",
        "10398"
       ]
      },
      {
       "output_type": "stream",
       "stream": "stdout",
       "text": [
        " NaT 2007-01-01 00:00:00\n",
        "['2006', '2005']\n",
        "125165"
       ]
      },
      {
       "output_type": "stream",
       "stream": "stdout",
       "text": [
        " 11632 2012-01-31 00:00:00 2009-01-01 00:00:00\n",
        "['2006', '2007', '2005', '2008']\n",
        "Tyrs to drop:"
       ]
      },
      {
       "output_type": "stream",
       "stream": "stdout",
       "text": [
        " ['2013']\n",
        "11633"
       ]
      },
      {
       "output_type": "stream",
       "stream": "stdout",
       "text": [
        " NaT 2009-01-01 00:00:00\n",
        "['2006', '2007', '2005', '2008']\n",
        "122863"
       ]
      },
      {
       "output_type": "stream",
       "stream": "stdout",
       "text": [
        " 20903 2011-05-31 00:00:00 2007-10-01 00:00:00\n",
        "['2006', '2005']\n",
        "Tyrs to drop:"
       ]
      },
      {
       "output_type": "stream",
       "stream": "stdout",
       "text": [
        " ['2013', '2012']\n",
        "20904"
       ]
      },
      {
       "output_type": "stream",
       "stream": "stdout",
       "text": [
        " NaT 2013-02-01 00:00:00\n",
        "['2006', '2007', '2005', '2008', '2009', '2011', '2010', '2012']\n",
        "116271"
       ]
      },
      {
       "output_type": "stream",
       "stream": "stdout",
       "text": [
        " 2944 2009-03-31 00:00:00 2000-12-01 00:00:00\n",
        "Tyrs to drop: ['2011', '2010', '2013', '2012']\n",
        "2945"
       ]
      },
      {
       "output_type": "stream",
       "stream": "stdout",
       "text": [
        " NaT 2010-12-01 00:00:00\n",
        "['2006', '2007', '2005', '2008', '2009']\n",
        "123870"
       ]
      },
      {
       "output_type": "stream",
       "stream": "stdout",
       "text": [
        " 8567 2010-12-31 00:00:00 2009-01-01 00:00:00\n",
        "['2006', '2007', '2005', '2008']\n",
        "Tyrs to drop:"
       ]
      },
      {
       "output_type": "stream",
       "stream": "stdout",
       "text": [
        " ['2011', '2013', '2012']\n",
        "8568"
       ]
      },
      {
       "output_type": "stream",
       "stream": "stdout",
       "text": [
        " NaT 2009-01-01 00:00:00\n",
        "['2006', '2007', '2005', '2008']\n",
        "116462"
       ]
      },
      {
       "output_type": "stream",
       "stream": "stdout",
       "text": [
        " 9440 2008-12-31 00:00:00 2001-12-01 00:00:00\n",
        "Tyrs to drop: ['2009', '2011', '2010', '2013', '2012']\n",
        "9441"
       ]
      },
      {
       "output_type": "stream",
       "stream": "stdout",
       "text": [
        " NaT 2013-12-01 00:00:00\n",
        "['2006', '2007', '2005', '2008', '2009', '2011', '2010', '2012']\n",
        "112039"
       ]
      },
      {
       "output_type": "stream",
       "stream": "stdout",
       "text": [
        " 18904 2008-03-31 00:00:00 2002-09-01 00:00:00\n",
        "Tyrs to drop: ['2009', '2011', '2010', '2013', '2012']\n",
        "18905"
       ]
      },
      {
       "output_type": "stream",
       "stream": "stdout",
       "text": [
        " NaT 2011-07-01 00:00:00\n",
        "['2006', '2007', '2005', '2008', '2009', '2010']\n",
        "107651"
       ]
      },
      {
       "output_type": "stream",
       "stream": "stdout",
       "text": [
        " 16576 2005-02-28 00:00:00 1999-06-01 00:00:00\n",
        "Tyrs to drop: ['2006', '2007', '2008', '2009', '2011', '2010', '2013', '2012']\n",
        "16577"
       ]
      },
      {
       "output_type": "stream",
       "stream": "stdout",
       "text": [
        " NaT 2011-08-01 00:00:00\n",
        "['2006', '2007', '2005', '2008', '2009', '2010']\n",
        "119156"
       ]
      },
      {
       "output_type": "stream",
       "stream": "stdout",
       "text": [
        " 9891 2008-06-30 00:00:00 2004-12-01 00:00:00\n",
        "Tyrs to drop: ['2009', '2011', '2010', '2013', '2012']\n",
        "9892"
       ]
      },
      {
       "output_type": "stream",
       "stream": "stdout",
       "text": [
        " NaT 2013-07-01 00:00:00\n",
        "['2006', '2007', '2005', '2008', '2009', '2011', '2010', '2012']\n",
        "119687"
       ]
      },
      {
       "output_type": "stream",
       "stream": "stdout",
       "text": [
        " 15326 2012-04-30 00:00:00 2005-12-01 00:00:00\n",
        "Tyrs to drop: ['2013']\n",
        "15327"
       ]
      },
      {
       "output_type": "stream",
       "stream": "stdout",
       "text": [
        " NaT 2005-12-01 00:00:00\n",
        "112976 23601 2005-03-31 00:00:00 1990-05-01 00:00:00\n",
        "Tyrs to drop: ['2006', '2007', '2008', '2009', '2011', '2010', '2013', '2012']\n",
        "23602"
       ]
      },
      {
       "output_type": "stream",
       "stream": "stdout",
       "text": [
        " NaT 2013-10-01 00:00:00\n",
        "['2006', '2007', '2005', '2008', '2009', '2011', '2010', '2012']\n",
        "122873"
       ]
      },
      {
       "output_type": "stream",
       "stream": "stdout",
       "text": [
        " 5691 2008-02-29 00:00:00 2007-10-01 00:00:00\n",
        "['2006', '2005']\n",
        "Tyrs to drop:"
       ]
      },
      {
       "output_type": "stream",
       "stream": "stdout",
       "text": [
        " ['2009', '2011', '2010', '2013', '2012']\n",
        "5692"
       ]
      },
      {
       "output_type": "stream",
       "stream": "stdout",
       "text": [
        " NaT 2008-04-01 00:00:00\n",
        "['2006', '2007', '2005']\n",
        "122875"
       ]
      },
      {
       "output_type": "stream",
       "stream": "stdout",
       "text": [
        " 23744 2009-12-31 00:00:00 2007-10-01 00:00:00\n",
        "['2006', '2005']\n",
        "Tyrs to drop:"
       ]
      },
      {
       "output_type": "stream",
       "stream": "stdout",
       "text": [
        " ['2011', '2010', '2013', '2012']\n",
        "23745"
       ]
      },
      {
       "output_type": "stream",
       "stream": "stdout",
       "text": [
        " NaT 2007-10-01 00:00:00\n",
        "['2006', '2005']\n",
        "124966"
       ]
      },
      {
       "output_type": "stream",
       "stream": "stdout",
       "text": [
        " 17718 2013-01-31 00:00:00 2008-10-01 00:00:00\n",
        "['2006', '2007', '2005']\n",
        "17719"
       ]
      },
      {
       "output_type": "stream",
       "stream": "stdout",
       "text": [
        " NaT 2008-10-01 00:00:00\n",
        "['2006', '2007', '2005']\n",
        "101265"
       ]
      },
      {
       "output_type": "stream",
       "stream": "stdout",
       "text": [
        " 17219 2008-08-31 00:00:00 2002-04-01 00:00:00\n",
        "Tyrs to drop: ['2009', '2011', '2010', '2013', '2012']\n",
        "17220"
       ]
      },
      {
       "output_type": "stream",
       "stream": "stdout",
       "text": [
        " NaT 2002-04-01 00:00:00\n",
        "119695 15268 2007-01-31 00:00:00 2003-12-01 00:00:00\n",
        "Tyrs to drop: ['2008', '2009', '2011', '2010', '2013', '2012']\n",
        "15269"
       ]
      },
      {
       "output_type": "stream",
       "stream": "stdout",
       "text": [
        " NaT 2013-08-01 00:00:00\n",
        "['2006', '2007', '2005', '2008', '2009', '2011', '2010', '2012']\n",
        "119444"
       ]
      },
      {
       "output_type": "stream",
       "stream": "stdout",
       "text": [
        " 15941 2008-01-31 00:00:00 2006-07-01 00:00:00\n",
        "['2005']\n",
        "Tyrs to drop: ['2009', '2011', '2010', '2013', '2012']\n",
        "15942"
       ]
      },
      {
       "output_type": "stream",
       "stream": "stdout",
       "text": [
        " NaT 2013-02-01 00:00:00\n",
        "['2006', '2007', '2005', '2008', '2009', '2011', '2010', '2012']\n",
        "114953"
       ]
      },
      {
       "output_type": "stream",
       "stream": "stdout",
       "text": [
        " 12525 2009-10-31 00:00:00 1996-11-01 00:00:00\n",
        "Tyrs to drop: ['2011', '2010', '2013', '2012']\n",
        "12526"
       ]
      },
      {
       "output_type": "stream",
       "stream": "stdout",
       "text": [
        " NaT 1996-11-01 00:00:00\n",
        "122879 21720 2010-07-31 00:00:00 2007-10-01 00:00:00\n",
        "['2006', '2005']\n",
        "Tyrs to drop:"
       ]
      },
      {
       "output_type": "stream",
       "stream": "stdout",
       "text": [
        " ['2011', '2013', '2012']\n",
        "21721"
       ]
      },
      {
       "output_type": "stream",
       "stream": "stdout",
       "text": [
        " NaT 2007-10-01 00:00:00\n",
        "['2006', '2005']\n",
        "112025"
       ]
      },
      {
       "output_type": "stream",
       "stream": "stdout",
       "text": [
        " 16983 2006-01-31 00:00:00 2000-07-01 00:00:00\n",
        "Tyrs to drop: ['2007', '2008', '2009', '2011', '2010', '2013', '2012']\n",
        "16984"
       ]
      },
      {
       "output_type": "stream",
       "stream": "stdout",
       "text": [
        " NaT 2013-07-01 00:00:00\n",
        "['2006', '2007', '2005', '2008', '2009', '2011', '2010', '2012']\n",
        "118792"
       ]
      },
      {
       "output_type": "stream",
       "stream": "stdout",
       "text": [
        " 13935 2009-09-30 00:00:00 2005-09-01 00:00:00\n",
        "Tyrs to drop: ['2011', '2010', '2013', '2012']\n",
        "13936"
       ]
      },
      {
       "output_type": "stream",
       "stream": "stdout",
       "text": [
        " NaT 2005-09-01 00:00:00\n",
        "122684 5892 2010-08-31 00:00:00 2007-07-01 00:00:00\n",
        "['2006', '2005']\n",
        "Tyrs to drop:"
       ]
      },
      {
       "output_type": "stream",
       "stream": "stdout",
       "text": [
        " ['2011', '2013', '2012']\n",
        "5893"
       ]
      },
      {
       "output_type": "stream",
       "stream": "stdout",
       "text": [
        " NaT 2007-07-01 00:00:00\n",
        "['2006', '2005']\n",
        "118787"
       ]
      },
      {
       "output_type": "stream",
       "stream": "stdout",
       "text": [
        " 7196 2009-08-31 00:00:00 2004-11-01 00:00:00\n",
        "Tyrs to drop: ['2011', '2010', '2013', '2012']\n",
        "7197"
       ]
      },
      {
       "output_type": "stream",
       "stream": "stdout",
       "text": [
        " NaT 2014-03-01 00:00:00\n",
        "['2006', '2007', '2005', '2008', '2009', '2011', '2010', '2013', '2012']\n",
        "106445"
       ]
      },
      {
       "output_type": "stream",
       "stream": "stdout",
       "text": [
        " 2901 2008-02-29 00:00:00 2003-12-30 00:00:00\n",
        "Tyrs to drop: ['2009', '2011', '2010', '2013', '2012']\n",
        "2902"
       ]
      },
      {
       "output_type": "stream",
       "stream": "stdout",
       "text": [
        " NaT 2003-12-30 00:00:00\n",
        "122888 13616 2011-07-31 00:00:00 2007-10-01 00:00:00\n",
        "['2006', '2005']\n",
        "Tyrs to drop:"
       ]
      },
      {
       "output_type": "stream",
       "stream": "stdout",
       "text": [
        " ['2013', '2012']\n",
        "13617"
       ]
      },
      {
       "output_type": "stream",
       "stream": "stdout",
       "text": [
        " NaT 2013-11-01 00:00:00\n",
        "['2006', '2007', '2005', '2008', '2009', '2011', '2010', '2012']\n",
        "104609"
       ]
      },
      {
       "output_type": "stream",
       "stream": "stdout",
       "text": [
        " 11022 2005-01-14 00:00:00 2002-05-01 00:00:00\n",
        "Tyrs to drop: ['2006', '2007', '2008', '2009', '2011', '2010', '2013', '2012']\n",
        "11023"
       ]
      },
      {
       "output_type": "stream",
       "stream": "stdout",
       "text": [
        " NaT 2012-01-01 00:00:00\n",
        "['2006', '2007', '2005', '2008', '2009', '2011', '2010']\n",
        "119714"
       ]
      },
      {
       "output_type": "stream",
       "stream": "stdout",
       "text": [
        " 7700 2008-06-30 00:00:00 2003-12-01 00:00:00\n",
        "Tyrs to drop: ['2009', '2011', '2010', '2013', '2012']\n",
        "7701"
       ]
      },
      {
       "output_type": "stream",
       "stream": "stdout",
       "text": [
        " NaT 2003-12-01 00:00:00\n",
        "119715 15498 2006-01-31 00:00:00 2003-12-01 00:00:00\n",
        "Tyrs to drop: ['2007', '2008', '2009', '2011', '2010', '2013', '2012']\n",
        "15499"
       ]
      },
      {
       "output_type": "stream",
       "stream": "stdout",
       "text": [
        " NaT 2013-02-01 00:00:00\n",
        "['2006', '2007', '2005', '2008', '2009', '2011', '2010', '2012']\n",
        "118069"
       ]
      },
      {
       "output_type": "stream",
       "stream": "stdout",
       "text": [
        " 3130 2011-01-31 00:00:00 2002-09-01 00:00:00\n",
        "Tyrs to drop: ['2013', '2012']\n",
        "3131"
       ]
      },
      {
       "output_type": "stream",
       "stream": "stdout",
       "text": [
        " NaT 2014-01-01 00:00:00\n",
        "['2006', '2007', '2005', '2008', '2009', '2011', '2010', '2013', '2012']\n",
        "118816"
       ]
      },
      {
       "output_type": "stream",
       "stream": "stdout",
       "text": [
        " 11300 2012-01-31 00:00:00 2004-04-01 00:00:00\n",
        "Tyrs to drop: ['2013']\n",
        "11301 NaT 2013-01-01 00:00:00\n",
        "['2006', '2007', '2005', '2008', '2009', '2011', '2010', '2012']\n",
        "118066"
       ]
      },
      {
       "output_type": "stream",
       "stream": "stdout",
       "text": [
        " 9277 2007-01-31 00:00:00 2002-07-01 00:00:00\n",
        "Tyrs to drop: ['2008', '2009', '2011', '2010', '2013', '2012']\n",
        "9278"
       ]
      },
      {
       "output_type": "stream",
       "stream": "stdout",
       "text": [
        " NaT 2011-07-01 00:00:00\n",
        "['2006', '2007', '2005', '2008', '2009', '2010']\n",
        "102118"
       ]
      },
      {
       "output_type": "stream",
       "stream": "stdout",
       "text": [
        " 14854 2011-12-31 00:00:00 2006-07-01 00:00:00\n",
        "['2005']\n",
        "Tyrs to drop:"
       ]
      },
      {
       "output_type": "stream",
       "stream": "stdout",
       "text": [
        " ['2013', '2012']\n",
        "14855"
       ]
      },
      {
       "output_type": "stream",
       "stream": "stdout",
       "text": [
        " NaT 2006-07-01 00:00:00\n",
        "['2005']\n",
        "119623"
       ]
      },
      {
       "output_type": "stream",
       "stream": "stdout",
       "text": [
        " 12124 2008-01-31 00:00:00 2003-09-01 00:00:00\n",
        "Tyrs to drop: ['2009', '2011', '2010', '2013', '2012']\n",
        "12125"
       ]
      },
      {
       "output_type": "stream",
       "stream": "stdout",
       "text": [
        " NaT 2012-01-01 00:00:00\n",
        "['2006', '2007', '2005', '2008', '2009', '2011', '2010']\n",
        "109619"
       ]
      },
      {
       "output_type": "stream",
       "stream": "stdout",
       "text": [
        " 177 2006-06-29 00:00:00 2000-03-01 00:00:00\n",
        "Tyrs to drop: ['2007', '2008', '2009', '2011', '2010', '2013', '2012']\n",
        "178"
       ]
      },
      {
       "output_type": "stream",
       "stream": "stdout",
       "text": [
        " NaT 2013-02-01 00:00:00\n",
        "['2006', '2007', '2005', '2008', '2009', '2011', '2010', '2012']\n",
        "118848"
       ]
      },
      {
       "output_type": "stream",
       "stream": "stdout",
       "text": [
        " 15820 2005-09-30 00:00:00 2004-05-01 00:00:00\n",
        "Tyrs to drop: ['2006', '2007', '2008', '2009', '2011', '2010', '2013', '2012']\n",
        "15821"
       ]
      },
      {
       "output_type": "stream",
       "stream": "stdout",
       "text": [
        " NaT 2008-01-01 00:00:00\n",
        "['2006', '2007', '2005']\n",
        "122815"
       ]
      },
      {
       "output_type": "stream",
       "stream": "stdout",
       "text": [
        " 10164 2010-01-31 00:00:00 2007-09-01 00:00:00\n",
        "['2006', '2005']\n",
        "Tyrs to drop:"
       ]
      },
      {
       "output_type": "stream",
       "stream": "stdout",
       "text": [
        " ['2011', '2013', '2012']\n",
        "10165"
       ]
      },
      {
       "output_type": "stream",
       "stream": "stdout",
       "text": [
        " NaT 2013-11-01 00:00:00\n",
        "['2006', '2007', '2005', '2008', '2009', '2011', '2010', '2012']\n",
        "125121"
       ]
      },
      {
       "output_type": "stream",
       "stream": "stdout",
       "text": [
        " 20087 2012-06-30 00:00:00 2008-12-01 00:00:00\n",
        "['2006', '2007', '2005']\n",
        "Tyrs to drop:"
       ]
      },
      {
       "output_type": "stream",
       "stream": "stdout",
       "text": [
        " ['2013']\n",
        "20088 2013-11-21 00:00:00 2008-12-01 00:00:00\n",
        "['2006', '2007', '2005']\n",
        "125122"
       ]
      },
      {
       "output_type": "stream",
       "stream": "stdout",
       "text": [
        " 10433 2011-06-30 00:00:00 2008-12-01 00:00:00\n",
        "['2006', '2007', '2005']\n",
        "Tyrs to drop:"
       ]
      },
      {
       "output_type": "stream",
       "stream": "stdout",
       "text": [
        " ['2013', '2012']\n",
        "10434"
       ]
      },
      {
       "output_type": "stream",
       "stream": "stdout",
       "text": [
        " NaT 2014-09-01 00:00:00\n",
        "['2006', '2007', '2005', '2008', '2009', '2011', '2010', '2013', '2012']\n",
        "111270"
       ]
      },
      {
       "output_type": "stream",
       "stream": "stdout",
       "text": [
        " 19621 2005-12-31 00:00:00 1998-01-01 00:00:00\n",
        "Tyrs to drop: ['2006', '2007', '2008', '2009', '2011', '2010', '2013', '2012']\n",
        "19622"
       ]
      },
      {
       "output_type": "stream",
       "stream": "stdout",
       "text": [
        " NaT 2013-07-01 00:00:00\n",
        "['2006', '2007', '2005', '2008', '2009', '2011', '2010', '2012']\n",
        "119630"
       ]
      },
      {
       "output_type": "stream",
       "stream": "stdout",
       "text": [
        " 17880 2011-12-31 00:00:00 2006-08-01 00:00:00\n",
        "['2005']\n",
        "Tyrs to drop: ['2013', '2012']\n",
        "17881"
       ]
      },
      {
       "output_type": "stream",
       "stream": "stdout",
       "text": [
        " NaT 2006-08-01 00:00:00\n",
        "['2005']\n",
        "119631 "
       ]
      },
      {
       "output_type": "stream",
       "stream": "stdout",
       "text": [
        "10438 2005-07-31 00:00:00 2003-09-01 00:00:00\n",
        "Tyrs to drop: ['2006', '2007', '2008', '2009', '2011', '2010', '2013', '2012']\n",
        "10439"
       ]
      },
      {
       "output_type": "stream",
       "stream": "stdout",
       "text": [
        " NaT 2003-09-01 00:00:00\n",
        "119633 272 2006-03-31 00:00:00 2004-12-01 00:00:00\n",
        "Tyrs to drop: ['2007', '2008', '2009', '2011', '2010', '2013', '2012']\n",
        "273"
       ]
      },
      {
       "output_type": "stream",
       "stream": "stdout",
       "text": [
        " NaT 2004-12-01 00:00:00\n",
        "111274 23912 2010-12-31 00:00:00 2001-02-01 00:00:00\n",
        "Tyrs to drop: ['2011', '2013', '2012']\n",
        "23913"
       ]
      },
      {
       "output_type": "stream",
       "stream": "stdout",
       "text": [
        " NaT 2001-02-01 00:00:00\n",
        "119638 8722 2006-05-31 00:00:00 2003-12-01 00:00:00\n",
        "Tyrs to drop: ['2007', '2008', '2009', '2011', '2010', '2013', '2012']\n",
        "8723"
       ]
      },
      {
       "output_type": "stream",
       "stream": "stdout",
       "text": [
        " NaT 2011-08-01 00:00:00\n",
        "['2006', '2007', '2005', '2008', '2009', '2010']\n",
        "118046"
       ]
      },
      {
       "output_type": "stream",
       "stream": "stdout",
       "text": [
        " 8810 2005-07-31 00:00:00 2001-12-01 00:00:00\n",
        "Tyrs to drop: ['2006', '2007', '2008', '2009', '2011', '2010', '2013', '2012']\n",
        "8811"
       ]
      },
      {
       "output_type": "stream",
       "stream": "stdout",
       "text": [
        " NaT 2008-08-01 00:00:00\n",
        "['2006', '2007', '2005']\n",
        "118839"
       ]
      },
      {
       "output_type": "stream",
       "stream": "stdout",
       "text": [
        " 14979 2006-04-30 00:00:00 2003-05-01 00:00:00\n",
        "Tyrs to drop: ['2007', '2008', '2009', '2011', '2010', '2013', '2012']\n",
        "14980"
       ]
      },
      {
       "output_type": "stream",
       "stream": "stdout",
       "text": [
        " NaT 2009-01-01 00:00:00\n",
        "['2006', '2007', '2005', '2008']\n",
        "115712"
       ]
      },
      {
       "output_type": "stream",
       "stream": "stdout",
       "text": [
        " 19610 2006-09-30 00:00:00 1993-08-01 00:00:00\n",
        "Tyrs to drop: ['2007', '2008', '2009', '2011', '2010', '2013', '2012']\n",
        "19611"
       ]
      },
      {
       "output_type": "stream",
       "stream": "stdout",
       "text": [
        " NaT 2012-06-01 00:00:00\n",
        "['2006', '2007', '2005', '2008', '2009', '2011', '2010']\n",
        "117948"
       ]
      },
      {
       "output_type": "stream",
       "stream": "stdout",
       "text": [
        " 1615 2008-04-30 00:00:00 2000-12-01 00:00:00\n",
        "Tyrs to drop: ['2009', '2011', '2010', '2013', '2012']\n",
        "1616"
       ]
      },
      {
       "output_type": "stream",
       "stream": "stdout",
       "text": [
        " NaT 2000-12-01 00:00:00\n",
        "124228 17677 2014-02-28 00:00:00 2013-01-01 00:00:00\n",
        "['2006', '2007', '2005', '2008', '2009', '2011', '2010', '2012']\n",
        "17678"
       ]
      },
      {
       "output_type": "stream",
       "stream": "stdout",
       "text": [
        " NaT 2013-01-01 00:00:00\n",
        "['2006', '2007', '2005', '2008', '2009', '2011', '2010', '2012']\n",
        "123934"
       ]
      },
      {
       "output_type": "stream",
       "stream": "stdout",
       "text": [
        " 10266 2014-04-30 00:00:00 2012-05-01 00:00:00\n",
        "['2006', '2007', '2005', '2008', '2009', '2011', '2010']\n",
        "10267"
       ]
      },
      {
       "output_type": "stream",
       "stream": "stdout",
       "text": [
        " NaT 2012-05-01 00:00:00\n",
        "['2006', '2007', '2005', '2008', '2009', '2011', '2010']\n",
        "122840"
       ]
      },
      {
       "output_type": "stream",
       "stream": "stdout",
       "text": [
        " 16928 2014-06-30 00:00:00 2007-10-01 00:00:00\n",
        "['2006', '2005']\n",
        "16929"
       ]
      },
      {
       "output_type": "stream",
       "stream": "stdout",
       "text": [
        " NaT 2007-10-01 00:00:00\n",
        "['2006', '2005']\n",
        "100473"
       ]
      },
      {
       "output_type": "stream",
       "stream": "stdout",
       "text": [
        " 7329 2008-03-31 00:00:00 1997-02-01 00:00:00\n",
        "Tyrs to drop: ['2009', '2011', '2010', '2013', '2012']\n",
        "7330"
       ]
      },
      {
       "output_type": "stream",
       "stream": "stdout",
       "text": [
        " NaT 2014-03-01 00:00:00\n",
        "['2006', '2007', '2005', '2008', '2009', '2011', '2010', '2013', '2012']\n",
        "122134"
       ]
      },
      {
       "output_type": "stream",
       "stream": "stdout",
       "text": [
        " 9435 2010-10-31 00:00:00 2007-01-01 00:00:00\n",
        "['2006', '2005']\n",
        "Tyrs to drop:"
       ]
      },
      {
       "output_type": "stream",
       "stream": "stdout",
       "text": [
        " ['2011', '2013', '2012']\n",
        "9436"
       ]
      },
      {
       "output_type": "stream",
       "stream": "stdout",
       "text": [
        " 2014-11-04 00:00:00 2013-07-01 00:00:00\n",
        "['2006', '2007', '2005', '2008', '2009', '2011', '2010', '2012']\n",
        "108017"
       ]
      },
      {
       "output_type": "stream",
       "stream": "stdout",
       "text": [
        " 17891 2010-10-31 00:00:00 2006-11-01 00:00:00\n",
        "['2005']\n",
        "Tyrs to drop: ['2011', '2013', '2012']\n",
        "17892"
       ]
      },
      {
       "output_type": "stream",
       "stream": "stdout",
       "text": [
        " 2014-10-31 00:00:00 2011-11-01 00:00:00\n",
        "['2006', '2007', '2005', '2008', '2009', '2010']\n",
        "119468"
       ]
      },
      {
       "output_type": "stream",
       "stream": "stdout",
       "text": [
        " 10101 2006-06-30 00:00:00 2003-07-01 00:00:00\n",
        "Tyrs to drop: ['2007', '2008', '2009', '2011', '2010', '2013', '2012']\n",
        "10102"
       ]
      },
      {
       "output_type": "stream",
       "stream": "stdout",
       "text": [
        " NaT 2013-08-01 00:00:00\n",
        "['2006', '2007', '2005', '2008', '2009', '2011', '2010', '2012']\n",
        "117359"
       ]
      },
      {
       "output_type": "stream",
       "stream": "stdout",
       "text": [
        " 24303 2007-04-30 00:00:00 2001-12-01 00:00:00\n",
        "Tyrs to drop: ['2008', '2009', '2011', '2010', '2013', '2012']\n",
        "24304"
       ]
      },
      {
       "output_type": "stream",
       "stream": "stdout",
       "text": [
        " NaT 2014-01-01 00:00:00\n",
        "['2006', '2007', '2005', '2008', '2009', '2011', '2010', '2013', '2012']\n",
        "108942"
       ]
      },
      {
       "output_type": "stream",
       "stream": "stdout",
       "text": [
        " 12994 2007-12-31 00:00:00 2002-09-01 00:00:00\n",
        "Tyrs to drop: ['2008', '2009', '2011', '2010', '2013', '2012']\n",
        "12995"
       ]
      },
      {
       "output_type": "stream",
       "stream": "stdout",
       "text": [
        " NaT 2002-09-01 00:00:00\n",
        "118956 2562 2007-06-30 00:00:00 2006-06-01 00:00:00\n",
        "['2005']\n",
        "Tyrs to drop: ['2008', '2009', '2011', '2010', '2013', '2012']\n",
        "2563"
       ]
      },
      {
       "output_type": "stream",
       "stream": "stdout",
       "text": [
        " NaT 2010-01-01 00:00:00\n",
        "['2006', '2007', '2005', '2008', '2009']\n",
        "118827"
       ]
      },
      {
       "output_type": "stream",
       "stream": "stdout",
       "text": [
        " 10531 2007-08-31 00:00:00 2003-12-01 00:00:00\n",
        "Tyrs to drop: ['2008', '2009', '2011', '2010', '2013', '2012']\n",
        "10532"
       ]
      },
      {
       "output_type": "stream",
       "stream": "stdout",
       "text": [
        " NaT 2003-12-01 00:00:00\n",
        "112733 20163 2010-10-31 00:00:00 2000-06-01 00:00:00\n",
        "Tyrs to drop: ['2011', '2013', '2012']\n",
        "20164"
       ]
      },
      {
       "output_type": "stream",
       "stream": "stdout",
       "text": [
        " NaT 2000-06-01 00:00:00\n",
        "118228 1248 2007-09-30 00:00:00 2005-11-01 00:00:00\n",
        "Tyrs to drop: ['2008', '2009', '2011', '2010', '2013', '2012']\n",
        "1249"
       ]
      },
      {
       "output_type": "stream",
       "stream": "stdout",
       "text": [
        " NaT 2013-10-01 00:00:00\n",
        "['2006', '2007', '2005', '2008', '2009', '2011', '2010', '2012']\n",
        "105379"
       ]
      },
      {
       "output_type": "stream",
       "stream": "stdout",
       "text": [
        " 17351 2008-03-31 00:00:00 2002-09-01 00:00:00\n",
        "Tyrs to drop: ['2009', '2011', '2010', '2013', '2012']\n",
        "17352"
       ]
      },
      {
       "output_type": "stream",
       "stream": "stdout",
       "text": [
        " NaT 2014-03-01 00:00:00\n",
        "['2006', '2007', '2005', '2008', '2009', '2011', '2010', '2013', '2012']\n",
        "122748"
       ]
      },
      {
       "output_type": "stream",
       "stream": "stdout",
       "text": [
        " 603 2009-06-30 00:00:00 2007-08-01 00:00:00\n",
        "['2006', '2005']\n",
        "Tyrs to drop:"
       ]
      },
      {
       "output_type": "stream",
       "stream": "stdout",
       "text": [
        " ['2011', '2010', '2013', '2012']\n",
        "604"
       ]
      },
      {
       "output_type": "stream",
       "stream": "stdout",
       "text": [
        " NaT 2007-08-01 00:00:00\n",
        "['2006', '2005']\n",
        "120012"
       ]
      },
      {
       "output_type": "stream",
       "stream": "stdout",
       "text": [
        " 19024 2008-01-31 00:00:00 2004-11-01 00:00:00\n",
        "Tyrs to drop: ['2009', '2011', '2010', '2013', '2012']\n",
        "19025"
       ]
      },
      {
       "output_type": "stream",
       "stream": "stdout",
       "text": [
        " NaT 2011-04-01 00:00:00\n",
        "['2006', '2007', '2005', '2008', '2009', '2010']\n",
        "126547"
       ]
      },
      {
       "output_type": "stream",
       "stream": "stdout",
       "text": [
        " 17552 2014-03-31 00:00:00 2010-11-01 00:00:00\n",
        "['2006', '2007', '2005', '2008', '2009']\n",
        "17553"
       ]
      },
      {
       "output_type": "stream",
       "stream": "stdout",
       "text": [
        " NaT 2010-11-01 00:00:00\n",
        "['2006', '2007', '2005', '2008', '2009']\n",
        "120210"
       ]
      },
      {
       "output_type": "stream",
       "stream": "stdout",
       "text": [
        " 19519 2008-01-31 00:00:00 2006-04-01 00:00:00\n",
        "['2005']\n",
        "Tyrs to drop: ['2009', '2011', '2010', '2013', '2012']\n",
        "19520"
       ]
      },
      {
       "output_type": "stream",
       "stream": "stdout",
       "text": [
        " NaT 2006-04-01 00:00:00\n",
        "['2005']\n",
        "128030 21657 2014-05-31 00:00:00 2012-08-01 00:00:00\n",
        "['2006', '2007', '2005', '2008', '2009', '2011', '2010']\n",
        "21658"
       ]
      },
      {
       "output_type": "stream",
       "stream": "stdout",
       "text": [
        " NaT 2012-08-01 00:00:00\n",
        "['2006', '2007', '2005', '2008', '2009', '2011', '2010']\n",
        "118555"
       ]
      },
      {
       "output_type": "stream",
       "stream": "stdout",
       "text": [
        " 19949 2012-12-31 00:00:00 2006-08-01 00:00:00\n",
        "['2005']\n",
        "Tyrs to drop: ['2013']\n",
        "19950"
       ]
      },
      {
       "output_type": "stream",
       "stream": "stdout",
       "text": [
        " NaT 2006-08-01 00:00:00\n",
        "['2005']\n",
        "120213 8732 2009-07-31 00:00:00 2005-12-01 00:00:00\n",
        "Tyrs to drop: ['2011', '2010', '2013', '2012']\n",
        "8733"
       ]
      },
      {
       "output_type": "stream",
       "stream": "stdout",
       "text": [
        " NaT 2005-12-01 00:00:00\n",
        "118553 20889 2010-04-30 00:00:00 2003-12-01 00:00:00\n",
        "Tyrs to drop: ['2011', '2013', '2012']\n",
        "20890"
       ]
      },
      {
       "output_type": "stream",
       "stream": "stdout",
       "text": [
        " NaT 2003-12-01 00:00:00\n",
        "114443 11103 2007-11-30 00:00:00 1993-04-01 00:00:00\n",
        "Tyrs to drop: ['2008', '2009', '2011', '2010', '2013', '2012']\n",
        "11104"
       ]
      },
      {
       "output_type": "stream",
       "stream": "stdout",
       "text": [
        " NaT 2011-07-01 00:00:00\n",
        "['2006', '2007', '2005', '2008', '2009', '2010']\n",
        "110900"
       ]
      },
      {
       "output_type": "stream",
       "stream": "stdout",
       "text": [
        " 2520 2007-01-31 00:00:00 2002-09-01 00:00:00\n",
        "Tyrs to drop: ['2008', '2009', '2011', '2010', '2013', '2012']\n",
        "2521"
       ]
      },
      {
       "output_type": "stream",
       "stream": "stdout",
       "text": [
        " NaT 2012-03-01 00:00:00\n",
        "['2006', '2007', '2005', '2008', '2009', '2011', '2010']\n",
        "120010"
       ]
      },
      {
       "output_type": "stream",
       "stream": "stdout",
       "text": [
        " 23838 2010-07-31 00:00:00 2004-11-01 00:00:00\n",
        "Tyrs to drop: ['2011', '2013', '2012']\n",
        "23839"
       ]
      },
      {
       "output_type": "stream",
       "stream": "stdout",
       "text": [
        " NaT 2004-11-01 00:00:00\n",
        "115297 2222 2007-01-31 00:00:00 1985-03-01 00:00:00\n",
        "Tyrs to drop: ['2008', '2009', '2011', '2010', '2013', '2012']\n",
        "2223"
       ]
      },
      {
       "output_type": "stream",
       "stream": "stdout",
       "text": [
        " NaT 2011-09-01 00:00:00\n",
        "['2006', '2007', '2005', '2008', '2009', '2010']\n",
        "120014"
       ]
      },
      {
       "output_type": "stream",
       "stream": "stdout",
       "text": [
        " 15074 2012-12-31 00:00:00 2004-11-01 00:00:00\n",
        "Tyrs to drop: ['2013']\n",
        "15075 NaT 2004-11-01 00:00:00\n",
        "119998 9093 2007-12-31 00:00:00 2004-11-01 00:00:00\n",
        "Tyrs to drop: ['2008', '2009', '2011', '2010', '2013', '2012']\n",
        "9094"
       ]
      },
      {
       "output_type": "stream",
       "stream": "stdout",
       "text": [
        " NaT 2010-01-01 00:00:00\n",
        "['2006', '2007', '2005', '2008', '2009']\n",
        "123181"
       ]
      },
      {
       "output_type": "stream",
       "stream": "stdout",
       "text": [
        " 21121 2012-02-29 00:00:00 2008-01-01 00:00:00\n",
        "['2006', '2007', '2005']\n",
        "Tyrs to drop:"
       ]
      },
      {
       "output_type": "stream",
       "stream": "stdout",
       "text": [
        " ['2013']\n",
        "21122"
       ]
      },
      {
       "output_type": "stream",
       "stream": "stdout",
       "text": [
        " NaT 2014-01-01 00:00:00\n",
        "['2006', '2007', '2005', '2008', '2009', '2011', '2010', '2013', '2012']\n",
        "118546"
       ]
      },
      {
       "output_type": "stream",
       "stream": "stdout",
       "text": [
        " 12370 2007-03-31 00:00:00 2005-05-01 00:00:00\n",
        "Tyrs to drop: ['2008', '2009', '2011', '2010', '2013', '2012']\n",
        "12371"
       ]
      },
      {
       "output_type": "stream",
       "stream": "stdout",
       "text": [
        " NaT 2005-05-01 00:00:00\n",
        "118545 22692 2006-09-30 00:00:00 2002-12-01 00:00:00\n",
        "Tyrs to drop: ['2007', '2008', '2009', '2011', '2010', '2013', '2012']\n",
        "22693"
       ]
      },
      {
       "output_type": "stream",
       "stream": "stdout",
       "text": [
        " NaT 2002-12-01 00:00:00\n",
        "120094 419 2011-12-31 00:00:00 2005-02-01 00:00:00\n",
        "Tyrs to drop: ['2013', '2012']\n",
        "420"
       ]
      },
      {
       "output_type": "stream",
       "stream": "stdout",
       "text": [
        " NaT 2005-02-01 00:00:00\n",
        "105005 19160 2008-07-31 00:00:00 1997-06-01 00:00:00\n",
        "Tyrs to drop: ['2009', '2011', '2010', '2013', '2012']\n",
        "19161"
       ]
      },
      {
       "output_type": "stream",
       "stream": "stdout",
       "text": [
        " NaT 2010-02-01 00:00:00\n",
        "['2006', '2007', '2005', '2008', '2009']\n",
        "118380"
       ]
      },
      {
       "output_type": "stream",
       "stream": "stdout",
       "text": [
        " 17613 2008-02-29 00:00:00 2005-01-01 00:00:00\n",
        "Tyrs to drop: ['2009', '2011', '2010', '2013', '2012']\n",
        "17614"
       ]
      },
      {
       "output_type": "stream",
       "stream": "stdout",
       "text": [
        " NaT 2013-01-01 00:00:00\n",
        "['2006', '2007', '2005', '2008', '2009', '2011', '2010', '2012']\n",
        "120225"
       ]
      },
      {
       "output_type": "stream",
       "stream": "stdout",
       "text": [
        " 15849 2008-07-31 00:00:00 2006-07-01 00:00:00\n",
        "['2005']\n",
        "Tyrs to drop: ['2009', '2011', '2010', '2013', '2012']\n",
        "15850"
       ]
      },
      {
       "output_type": "stream",
       "stream": "stdout",
       "text": [
        " NaT 2011-07-01 00:00:00\n",
        "['2006', '2007', '2005', '2008', '2009', '2010']\n",
        "120089"
       ]
      },
      {
       "output_type": "stream",
       "stream": "stdout",
       "text": [
        " 23197 2008-03-31 00:00:00 2005-08-01 00:00:00\n",
        "Tyrs to drop: ['2009', '2011', '2010', '2013', '2012']\n",
        "23198"
       ]
      },
      {
       "output_type": "stream",
       "stream": "stdout",
       "text": [
        " NaT 2013-08-01 00:00:00\n",
        "['2006', '2007', '2005', '2008', '2009', '2011', '2010', '2012']\n",
        "102539"
       ]
      },
      {
       "output_type": "stream",
       "stream": "stdout",
       "text": [
        " 11069 2008-11-30 00:00:00 1998-10-01 00:00:00\n",
        "Tyrs to drop: ['2009', '2011', '2010', '2013', '2012']\n",
        "11070"
       ]
      },
      {
       "output_type": "stream",
       "stream": "stdout",
       "text": [
        " NaT 2011-06-01 00:00:00\n",
        "['2006', '2007', '2005', '2008', '2009', '2010']\n",
        "118537"
       ]
      },
      {
       "output_type": "stream",
       "stream": "stdout",
       "text": [
        " 12533 2011-12-31 00:00:00 2005-12-01 00:00:00\n",
        "Tyrs to drop: ['2013', '2012']\n",
        "12534"
       ]
      },
      {
       "output_type": "stream",
       "stream": "stdout",
       "text": [
        " NaT 2013-01-01 00:00:00\n",
        "['2006', '2007', '2005', '2008', '2009', '2011', '2010', '2012']\n",
        "123102"
       ]
      },
      {
       "output_type": "stream",
       "stream": "stdout",
       "text": [
        " 22272 2010-01-31 00:00:00 2008-01-01 00:00:00\n",
        "['2006', '2007', '2005']\n",
        "Tyrs to drop:"
       ]
      },
      {
       "output_type": "stream",
       "stream": "stdout",
       "text": [
        " ['2011', '2013', '2012']\n",
        "22273"
       ]
      },
      {
       "output_type": "stream",
       "stream": "stdout",
       "text": [
        " NaT 2008-01-01 00:00:00\n",
        "['2006', '2007', '2005']\n",
        "118392"
       ]
      },
      {
       "output_type": "stream",
       "stream": "stdout",
       "text": [
        " 23863 2007-07-31 00:00:00 2003-11-01 00:00:00\n",
        "Tyrs to drop: ['2008', '2009', '2011', '2010', '2013', '2012']\n",
        "23864"
       ]
      },
      {
       "output_type": "stream",
       "stream": "stdout",
       "text": [
        " NaT 2009-08-01 00:00:00\n",
        "['2006', '2007', '2005', '2008']\n",
        "116767"
       ]
      },
      {
       "output_type": "stream",
       "stream": "stdout",
       "text": [
        " 13839 2005-02-28 00:00:00 2001-09-01 00:00:00\n",
        "Tyrs to drop: ['2006', '2007', '2008', '2009', '2011', '2010', '2013', '2012']\n",
        "13840"
       ]
      },
      {
       "output_type": "stream",
       "stream": "stdout",
       "text": [
        " 2009-04-30 00:00:00 2005-11-01 00:00:00\n",
        "Tyrs to drop: ['2011', '2010', '2013', '2012']\n",
        "119181"
       ]
      },
      {
       "output_type": "stream",
       "stream": "stdout",
       "text": [
        " 10120 2012-02-29 00:00:00 2006-09-01 00:00:00\n",
        "['2005']\n",
        "Tyrs to drop: ['2013']\n",
        "10121"
       ]
      },
      {
       "output_type": "stream",
       "stream": "stdout",
       "text": [
        " NaT 2014-06-01 00:00:00\n",
        "['2006', '2007', '2005', '2008', '2009', '2011', '2010', '2013', '2012']\n",
        "117068"
       ]
      },
      {
       "output_type": "stream",
       "stream": "stdout",
       "text": [
        " 15766 2007-01-31 00:00:00 1999-09-01 00:00:00\n",
        "Tyrs to drop: ['2008', '2009', '2011', '2010', '2013', '2012']\n",
        "15767"
       ]
      },
      {
       "output_type": "stream",
       "stream": "stdout",
       "text": [
        " 2014-10-31 00:00:00 2013-11-01 00:00:00\n",
        "['2006', '2007', '2005', '2008', '2009', '2011', '2010', '2012']\n",
        "117650"
       ]
      },
      {
       "output_type": "stream",
       "stream": "stdout",
       "text": [
        " 23252 2006-03-31 00:00:00 2005-01-01 00:00:00\n",
        "Tyrs to drop: ['2007', '2008', '2009', '2011', '2010', '2013', '2012']\n",
        "23253"
       ]
      },
      {
       "output_type": "stream",
       "stream": "stdout",
       "text": [
        " NaT 2011-08-01 00:00:00\n",
        "['2006', '2007', '2005', '2008', '2009', '2010']\n",
        "111620"
       ]
      },
      {
       "output_type": "stream",
       "stream": "stdout",
       "text": [
        " 19694 2007-01-31 00:00:00 1999-01-01 00:00:00\n",
        "Tyrs to drop: ['2008', '2009', '2011', '2010', '2013', '2012']\n",
        "19695"
       ]
      },
      {
       "output_type": "stream",
       "stream": "stdout",
       "text": [
        " NaT 2009-03-01 00:00:00\n",
        "['2006', '2007', '2005', '2008']\n",
        "120345"
       ]
      },
      {
       "output_type": "stream",
       "stream": "stdout",
       "text": [
        " 3985 2008-05-31 00:00:00 2006-06-01 00:00:00\n",
        "['2005']\n",
        "Tyrs to drop: ['2009', '2011', '2010', '2013', '2012']\n",
        "3986"
       ]
      },
      {
       "output_type": "stream",
       "stream": "stdout",
       "text": [
        " NaT 2011-01-01 00:00:00\n",
        "['2006', '2007', '2005', '2008', '2009', '2010']\n",
        "110259"
       ]
      },
      {
       "output_type": "stream",
       "stream": "stdout",
       "text": [
        " 383 2005-07-31 00:00:00 1996-08-01 00:00:00\n",
        "Tyrs to drop: ['2006', '2007', '2008', '2009', '2011', '2010', '2013', '2012']\n",
        "384"
       ]
      },
      {
       "output_type": "stream",
       "stream": "stdout",
       "text": [
        " NaT 1996-08-01 00:00:00\n",
        "120193 8243 NaT 2005-08-01 00:00:00\n",
        "8244 2008-06-30 00:00:00 2005-08-01 00:00:00\n",
        "Tyrs to drop: ['2009', '2011', '2010', '2013', '2012']\n",
        "108487"
       ]
      },
      {
       "output_type": "stream",
       "stream": "stdout",
       "text": [
        " 8089 2005-06-30 00:00:00 2001-01-01 00:00:00\n",
        "Tyrs to drop: ['2006', '2007', '2008', '2009', '2011', '2010', '2013', '2012']\n",
        "8090"
       ]
      },
      {
       "output_type": "stream",
       "stream": "stdout",
       "text": [
        " NaT 2007-11-01 00:00:00\n",
        "['2006', '2005']\n",
        "117720"
       ]
      },
      {
       "output_type": "stream",
       "stream": "stdout",
       "text": [
        " 10241 2009-09-30 00:00:00 2001-04-01 00:00:00\n",
        "Tyrs to drop: ['2011', '2010', '2013', '2012']\n",
        "10242"
       ]
      },
      {
       "output_type": "stream",
       "stream": "stdout",
       "text": [
        " NaT 2001-04-01 00:00:00\n",
        "118312 8727 2007-12-31 00:00:00 2006-01-01 00:00:00\n",
        "['2005']\n",
        "Tyrs to drop:"
       ]
      },
      {
       "output_type": "stream",
       "stream": "stdout",
       "text": [
        " ['2008', '2009', '2011', '2010', '2013', '2012']\n",
        "8728"
       ]
      },
      {
       "output_type": "stream",
       "stream": "stdout",
       "text": [
        " NaT 2011-06-01 00:00:00\n",
        "['2006', '2007', '2005', '2008', '2009', '2010']\n",
        "110094"
       ]
      },
      {
       "output_type": "stream",
       "stream": "stdout",
       "text": [
        " 12058 2006-01-31 00:00:00 2000-08-01 00:00:00\n",
        "Tyrs to drop: ['2007', '2008', '2009', '2011', '2010', '2013', '2012']\n",
        "12059"
       ]
      },
      {
       "output_type": "stream",
       "stream": "stdout",
       "text": [
        " NaT 2009-01-01 00:00:00\n",
        "['2006', '2007', '2005', '2008']\n",
        "120199"
       ]
      },
      {
       "output_type": "stream",
       "stream": "stdout",
       "text": [
        " 422 2009-01-31 00:00:00 2006-01-01 00:00:00\n",
        "['2005']\n",
        "Tyrs to drop: ['2011', '2010', '2013', '2012']\n",
        "423"
       ]
      },
      {
       "output_type": "stream",
       "stream": "stdout",
       "text": [
        " NaT 2006-01-01 00:00:00\n",
        "['2005']\n",
        "118393 14560 2005-02-28 00:00:00 2002-10-01 00:00:00\n",
        "Tyrs to drop: ['2006', '2007', '2008', '2009', '2011', '2010', '2013', '2012']\n",
        "14561"
       ]
      },
      {
       "output_type": "stream",
       "stream": "stdout",
       "text": [
        " NaT 2011-01-01 00:00:00\n",
        "['2006', '2007', '2005', '2008', '2009', '2010']\n",
        "108594"
       ]
      },
      {
       "output_type": "stream",
       "stream": "stdout",
       "text": [
        " 13485 2010-12-31 00:00:00 2002-05-01 00:00:00\n",
        "Tyrs to drop: ['2011', '2013', '2012']\n",
        "13486"
       ]
      },
      {
       "output_type": "stream",
       "stream": "stdout",
       "text": [
        " NaT 2002-05-01 00:00:00\n",
        "125777 23178 2014-08-31 00:00:00 2009-09-01 00:00:00\n",
        "['2006', '2007', '2005', '2008']\n",
        "23179"
       ]
      },
      {
       "output_type": "stream",
       "stream": "stdout",
       "text": [
        " NaT 2009-09-01 00:00:00\n",
        "['2006', '2007', '2005', '2008']\n",
        "112467"
       ]
      },
      {
       "output_type": "stream",
       "stream": "stdout",
       "text": [
        " 20953 2008-02-29 00:00:00 2002-06-01 00:00:00\n",
        "Tyrs to drop: ['2009', '2011', '2010', '2013', '2012']\n",
        "20954"
       ]
      },
      {
       "output_type": "stream",
       "stream": "stdout",
       "text": [
        " NaT 2008-08-01 00:00:00\n",
        "['2006', '2007', '2005']\n",
        "124642"
       ]
      },
      {
       "output_type": "stream",
       "stream": "stdout",
       "text": [
        " 13427 2012-09-30 00:00:00 2008-07-01 00:00:00\n",
        "['2006', '2007', '2005']\n",
        "Tyrs to drop:"
       ]
      },
      {
       "output_type": "stream",
       "stream": "stdout",
       "text": [
        " ['2013']\n",
        "13428"
       ]
      },
      {
       "output_type": "stream",
       "stream": "stdout",
       "text": [
        " NaT 2008-07-01 00:00:00\n",
        "['2006', '2007', '2005']\n",
        "119137"
       ]
      },
      {
       "output_type": "stream",
       "stream": "stdout",
       "text": [
        " 9944 2008-02-29 00:00:00 2005-01-01 00:00:00\n",
        "Tyrs to drop: ['2009', '2011', '2010', '2013', '2012']\n",
        "9945"
       ]
      },
      {
       "output_type": "stream",
       "stream": "stdout",
       "text": [
        " NaT 2013-02-01 00:00:00\n",
        "['2006', '2007', '2005', '2008', '2009', '2011', '2010', '2012']\n",
        "122567"
       ]
      },
      {
       "output_type": "stream",
       "stream": "stdout",
       "text": [
        " 2860 2012-02-29 00:00:00 2007-05-01 00:00:00\n",
        "['2006', '2005']\n",
        "Tyrs to drop:"
       ]
      },
      {
       "output_type": "stream",
       "stream": "stdout",
       "text": [
        " ['2013']\n",
        "2861"
       ]
      },
      {
       "output_type": "stream",
       "stream": "stdout",
       "text": [
        " NaT 2014-01-01 00:00:00\n",
        "['2006', '2007', '2005', '2008', '2009', '2011', '2010', '2013', '2012']\n",
        "111780"
       ]
      },
      {
       "output_type": "stream",
       "stream": "stdout",
       "text": [
        " 18492 2006-03-31 00:00:00 1980-02-01 00:00:00\n",
        "Tyrs to drop: ['2007', '2008', '2009', '2011', '2010', '2013', '2012']\n",
        "18493"
       ]
      },
      {
       "output_type": "stream",
       "stream": "stdout",
       "text": [
        " 2014-04-30 00:00:00 1980-02-01 00:00:00\n",
        "120330 12844 2008-01-31 00:00:00 2006-01-01 00:00:00\n",
        "['2005']\n",
        "Tyrs to drop: ['2009', '2011', '2010', '2013', '2012']\n",
        "12845"
       ]
      },
      {
       "output_type": "stream",
       "stream": "stdout",
       "text": [
        " NaT 2011-04-01 00:00:00\n",
        "['2006', '2007', '2005', '2008', '2009', '2010']\n",
        "120329"
       ]
      },
      {
       "output_type": "stream",
       "stream": "stdout",
       "text": [
        " 5488 2009-03-31 00:00:00 2006-01-01 00:00:00\n",
        "['2005']\n",
        "Tyrs to drop: ['2011', '2010', '2013', '2012']\n",
        "5489"
       ]
      },
      {
       "output_type": "stream",
       "stream": "stdout",
       "text": [
        " NaT 2006-01-01 00:00:00\n",
        "['2005']\n",
        "122566 23699 2010-01-31 00:00:00 2007-05-01 00:00:00\n",
        "['2006', '2005']\n",
        "Tyrs to drop:"
       ]
      },
      {
       "output_type": "stream",
       "stream": "stdout",
       "text": [
        " ['2011', '2013', '2012']\n",
        "23700"
       ]
      },
      {
       "output_type": "stream",
       "stream": "stdout",
       "text": [
        " NaT 2012-07-01 00:00:00\n",
        "['2006', '2007', '2005', '2008', '2009', '2011', '2010']\n",
        "120299"
       ]
      },
      {
       "output_type": "stream",
       "stream": "stdout",
       "text": [
        " 667 2013-01-31 00:00:00 2005-12-01 00:00:00\n",
        "668 NaT 2005-12-01 00:00:00\n",
        "118536 20033 2009-06-30 00:00:00 2006-09-01 00:00:00\n",
        "['2005']\n",
        "Tyrs to drop:"
       ]
      },
      {
       "output_type": "stream",
       "stream": "stdout",
       "text": [
        " ['2011', '2010', '2013', '2012']\n",
        "20034"
       ]
      },
      {
       "output_type": "stream",
       "stream": "stdout",
       "text": [
        " NaT 2011-01-01 00:00:00\n",
        "['2006', '2007', '2005', '2008', '2009', '2010']\n",
        "122575"
       ]
      },
      {
       "output_type": "stream",
       "stream": "stdout",
       "text": [
        " 4584 2011-06-30 00:00:00 2007-05-01 00:00:00\n",
        "['2006', '2005']\n",
        "Tyrs to drop:"
       ]
      },
      {
       "output_type": "stream",
       "stream": "stdout",
       "text": [
        " ['2013', '2012']\n",
        "4585"
       ]
      },
      {
       "output_type": "stream",
       "stream": "stdout",
       "text": [
        " NaT 2013-08-01 00:00:00\n",
        "['2006', '2007', '2005', '2008', '2009', '2011', '2010', '2012']\n",
        "122440"
       ]
      },
      {
       "output_type": "stream",
       "stream": "stdout",
       "text": [
        " 1895 2010-01-31 00:00:00 2007-03-01 00:00:00\n",
        "['2006', '2005']\n",
        "Tyrs to drop:"
       ]
      },
      {
       "output_type": "stream",
       "stream": "stdout",
       "text": [
        " ['2011', '2013', '2012']\n",
        "1896"
       ]
      },
      {
       "output_type": "stream",
       "stream": "stdout",
       "text": [
        " NaT 2014-02-01 00:00:00\n",
        "['2006', '2007', '2005', '2008', '2009', '2011', '2010', '2013', '2012']\n",
        "113407"
       ]
      },
      {
       "output_type": "stream",
       "stream": "stdout",
       "text": [
        " 22439 2012-03-31 00:00:00 2002-11-01 00:00:00\n",
        "Tyrs to drop: ['2013']\n",
        "22440 NaT 2013-02-01 00:00:00\n",
        "['2006', '2007', '2005', '2008', '2009', '2011', '2010', '2012']\n",
        "106825"
       ]
      },
      {
       "output_type": "stream",
       "stream": "stdout",
       "text": [
        " 3440 2006-01-08 00:00:00 2000-12-01 00:00:00\n",
        "Tyrs to drop: ['2007', '2008', '2009', '2011', '2010', '2013', '2012']\n",
        "3441"
       ]
      },
      {
       "output_type": "stream",
       "stream": "stdout",
       "text": [
        " NaT 2014-05-01 00:00:00\n",
        "['2006', '2007', '2005', '2008', '2009', '2011', '2010', '2013', '2012']\n",
        "102522"
       ]
      },
      {
       "output_type": "stream",
       "stream": "stdout",
       "text": [
        " 19280 2006-01-31 00:00:00 1999-01-01 00:00:00\n",
        "Tyrs to drop: ['2007', '2008', '2009', '2011', '2010', '2013', '2012']\n",
        "19281"
       ]
      },
      {
       "output_type": "stream",
       "stream": "stdout",
       "text": [
        " NaT 2007-01-01 00:00:00\n",
        "['2006', '2005']\n",
        "123298"
       ]
      },
      {
       "output_type": "stream",
       "stream": "stdout",
       "text": [
        " 19021 2011-05-31 00:00:00 2008-03-01 00:00:00\n",
        "['2006', '2007', '2005']\n",
        "Tyrs to drop:"
       ]
      },
      {
       "output_type": "stream",
       "stream": "stdout",
       "text": [
        " ['2013', '2012']\n",
        "19022"
       ]
      },
      {
       "output_type": "stream",
       "stream": "stdout",
       "text": [
        " NaT 2014-01-01 00:00:00\n",
        "['2006', '2007', '2005', '2008', '2009', '2011', '2010', '2013', '2012']\n",
        "120077"
       ]
      },
      {
       "output_type": "stream",
       "stream": "stdout",
       "text": [
        " 23901 2006-08-31 00:00:00 2005-01-01 00:00:00\n",
        "Tyrs to drop: ['2007', '2008', '2009', '2011', '2010', '2013', '2012']\n",
        "23902"
       ]
      },
      {
       "output_type": "stream",
       "stream": "stdout",
       "text": [
        " NaT 2014-05-01 00:00:00\n",
        "['2006', '2007', '2005', '2008', '2009', '2011', '2010', '2013', '2012']\n",
        "110919"
       ]
      },
      {
       "output_type": "stream",
       "stream": "stdout",
       "text": [
        " 22755 2007-06-30 00:00:00 2001-12-28 00:00:00\n",
        "Tyrs to drop: ['2008', '2009', '2011', '2010', '2013', '2012']\n",
        "22756"
       ]
      },
      {
       "output_type": "stream",
       "stream": "stdout",
       "text": [
        " NaT 2010-04-01 00:00:00\n",
        "['2006', '2007', '2005', '2008', '2009']\n",
        "103598"
       ]
      },
      {
       "output_type": "stream",
       "stream": "stdout",
       "text": [
        " 7789 2005-02-28 00:00:00 1994-08-01 00:00:00\n",
        "Tyrs to drop: ['2006', '2007', '2008', '2009', '2011', '2010', '2013', '2012']\n",
        "7790"
       ]
      },
      {
       "output_type": "stream",
       "stream": "stdout",
       "text": [
        " NaT 2009-10-01 00:00:00\n",
        "['2006', '2007', '2005', '2008']\n",
        "119203"
       ]
      },
      {
       "output_type": "stream",
       "stream": "stdout",
       "text": [
        " 11767 2009-05-31 00:00:00 2003-12-01 00:00:00\n",
        "Tyrs to drop: ['2011', '2010', '2013', '2012']\n",
        "11768"
       ]
      },
      {
       "output_type": "stream",
       "stream": "stdout",
       "text": [
        " NaT 2003-12-01 00:00:00\n",
        "122412 2259 2010-12-31 00:00:00 2009-06-01 00:00:00\n",
        "['2006', '2007', '2005', '2008']\n",
        "Tyrs to drop:"
       ]
      },
      {
       "output_type": "stream",
       "stream": "stdout",
       "text": [
        " ['2011', '2013', '2012']\n",
        "2260"
       ]
      },
      {
       "output_type": "stream",
       "stream": "stdout",
       "text": [
        " NaT 2009-06-01 00:00:00\n",
        "['2006', '2007', '2005', '2008']\n",
        "120054"
       ]
      },
      {
       "output_type": "stream",
       "stream": "stdout",
       "text": [
        " 3336 2006-08-31 00:00:00 2004-12-01 00:00:00\n",
        "Tyrs to drop: ['2007', '2008', '2009', '2011', '2010', '2013', '2012']\n",
        "3337"
       ]
      },
      {
       "output_type": "stream",
       "stream": "stdout",
       "text": [
        " NaT 2013-01-01 00:00:00\n",
        "['2006', '2007', '2005', '2008', '2009', '2011', '2010', '2012']\n",
        "123277"
       ]
      },
      {
       "output_type": "stream",
       "stream": "stdout",
       "text": [
        " 415 2012-07-31 00:00:00 2008-02-01 00:00:00\n",
        "['2006', '2007', '2005']\n",
        "Tyrs to drop:"
       ]
      },
      {
       "output_type": "stream",
       "stream": "stdout",
       "text": [
        " ['2013']\n",
        "416 NaT 2008-02-01 00:00:00\n",
        "['2006', '2007', '2005']\n",
        "119221"
       ]
      },
      {
       "output_type": "stream",
       "stream": "stdout",
       "text": [
        " 23774 2007-02-28 00:00:00 2005-12-01 00:00:00\n",
        "Tyrs to drop: ['2008', '2009', '2011', '2010', '2013', '2012']\n",
        "23775"
       ]
      },
      {
       "output_type": "stream",
       "stream": "stdout",
       "text": [
        " NaT 2009-01-01 00:00:00\n",
        "['2006', '2007', '2005', '2008']\n",
        "110005"
       ]
      },
      {
       "output_type": "stream",
       "stream": "stdout",
       "text": [
        " 17464 2009-01-31 00:00:00 1997-02-01 00:00:00\n",
        "Tyrs to drop: ['2011', '2010', '2013', '2012']\n",
        "17465"
       ]
      },
      {
       "output_type": "stream",
       "stream": "stdout",
       "text": [
        " NaT 2013-10-01 00:00:00\n",
        "['2006', '2007', '2005', '2008', '2009', '2011', '2010', '2012']\n",
        "122532"
       ]
      },
      {
       "output_type": "stream",
       "stream": "stdout",
       "text": [
        " 16603 2010-06-30 00:00:00 2007-04-01 00:00:00\n",
        "['2006', '2005']\n",
        "Tyrs to drop: ['2011', '2013', '2012']\n",
        "16604"
       ]
      },
      {
       "output_type": "stream",
       "stream": "stdout",
       "text": [
        " NaT 2014-01-01 00:00:00\n",
        "['2006', '2007', '2005', '2008', '2009', '2011', '2010', '2013', '2012']\n",
        "118494"
       ]
      },
      {
       "output_type": "stream",
       "stream": "stdout",
       "text": [
        " 12471 2008-06-30 00:00:00 2003-04-01 00:00:00\n",
        "Tyrs to drop: ['2009', '2011', '2010', '2013', '2012']\n",
        "12472"
       ]
      },
      {
       "output_type": "stream",
       "stream": "stdout",
       "text": [
        " NaT 2009-06-01 00:00:00\n",
        "['2006', '2007', '2005', '2008']\n",
        "123292"
       ]
      },
      {
       "output_type": "stream",
       "stream": "stdout",
       "text": [
        " 15315 2010-06-30 00:00:00 2008-03-01 00:00:00\n",
        "['2006', '2007', '2005']\n",
        "Tyrs to drop:"
       ]
      },
      {
       "output_type": "stream",
       "stream": "stdout",
       "text": [
        " ['2011', '2013', '2012']\n",
        "15316"
       ]
      },
      {
       "output_type": "stream",
       "stream": "stdout",
       "text": [
        " NaT 2013-07-01 00:00:00\n",
        "['2006', '2007', '2005', '2008', '2009', '2011', '2010', '2012']\n",
        "119208"
       ]
      },
      {
       "output_type": "stream",
       "stream": "stdout",
       "text": [
        " 23844 2006-12-31 00:00:00 2005-04-01 00:00:00\n",
        "Tyrs to drop: ['2007', '2008', '2009', '2011', '2010', '2013', '2012']\n",
        "23845"
       ]
      },
      {
       "output_type": "stream",
       "stream": "stdout",
       "text": [
        " NaT 2013-01-01 00:00:00\n",
        "['2006', '2007', '2005', '2008', '2009', '2011', '2010', '2012']\n",
        "126565"
       ]
      },
      {
       "output_type": "stream",
       "stream": "stdout",
       "text": [
        " 19018 2013-07-31 00:00:00 2010-11-01 00:00:00\n",
        "['2006', '2007', '2005', '2008', '2009']\n",
        "19019"
       ]
      },
      {
       "output_type": "stream",
       "stream": "stdout",
       "text": [
        " NaT 2010-11-01 00:00:00\n",
        "['2006', '2007', '2005', '2008', '2009']\n",
        "119115"
       ]
      },
      {
       "output_type": "stream",
       "stream": "stdout",
       "text": [
        " 13725 2008-09-30 00:00:00 2004-12-01 00:00:00\n",
        "Tyrs to drop: ['2009', '2011', '2010', '2013', '2012']\n",
        "13726"
       ]
      },
      {
       "output_type": "stream",
       "stream": "stdout",
       "text": [
        " NaT 2013-08-01 00:00:00\n",
        "['2006', '2007', '2005', '2008', '2009', '2011', '2010', '2012']\n",
        "118363"
       ]
      },
      {
       "output_type": "stream",
       "stream": "stdout",
       "text": [
        " 17517 2009-08-31 00:00:00 2005-06-01 00:00:00\n",
        "Tyrs to drop: ['2011', '2010', '2013', '2012']\n",
        "17518"
       ]
      },
      {
       "output_type": "stream",
       "stream": "stdout",
       "text": [
        " NaT 2012-06-01 00:00:00\n",
        "['2006', '2007', '2005', '2008', '2009', '2011', '2010']\n",
        "123286"
       ]
      },
      {
       "output_type": "stream",
       "stream": "stdout",
       "text": [
        " 11260 2010-05-31 00:00:00 2008-03-01 00:00:00\n",
        "['2006', '2007', '2005']\n",
        "Tyrs to drop:"
       ]
      },
      {
       "output_type": "stream",
       "stream": "stdout",
       "text": [
        " ['2011', '2013', '2012']\n",
        "11261"
       ]
      },
      {
       "output_type": "stream",
       "stream": "stdout",
       "text": [
        " NaT 2012-09-01 00:00:00\n",
        "['2006', '2007', '2005', '2008', '2009', '2011', '2010']\n",
        "118364"
       ]
      },
      {
       "output_type": "stream",
       "stream": "stdout",
       "text": [
        " 18585 2008-09-30 00:00:00 2005-03-01 00:00:00\n",
        "Tyrs to drop: ['2009', '2011', '2010', '2013', '2012']\n",
        "18586"
       ]
      },
      {
       "output_type": "stream",
       "stream": "stdout",
       "text": [
        " NaT 2005-03-01 00:00:00\n",
        "117001 24012 2005-03-31 00:00:00 2002-06-01 00:00:00\n",
        "Tyrs to drop: ['2006', '2007', '2008', '2009', '2011', '2010', '2013', '2012']\n",
        "24013"
       ]
      },
      {
       "output_type": "stream",
       "stream": "stdout",
       "text": [
        " NaT 2011-06-01 00:00:00\n",
        "['2006', '2007', '2005', '2008', '2009', '2010']\n",
        "113625"
       ]
      },
      {
       "output_type": "stream",
       "stream": "stdout",
       "text": [
        " 13692 2006-01-31 00:00:00 1998-12-01 00:00:00\n",
        "Tyrs to drop: ['2007', '2008', '2009', '2011', '2010', '2013', '2012']\n",
        "13693"
       ]
      },
      {
       "output_type": "stream",
       "stream": "stdout",
       "text": [
        " NaT 2010-09-01 00:00:00\n",
        "['2006', '2007', '2005', '2008', '2009']\n",
        "117675"
       ]
      },
      {
       "output_type": "stream",
       "stream": "stdout",
       "text": [
        " 23306 2005-02-28 00:00:00 2002-03-01 00:00:00\n",
        "Tyrs to drop: ['2006', '2007', '2008', '2009', '2011', '2010', '2013', '2012']\n",
        "23307"
       ]
      },
      {
       "output_type": "stream",
       "stream": "stdout",
       "text": [
        " NaT 2002-03-01 00:00:00\n",
        "118345 1441 2007-05-31 00:00:00 2003-06-01 00:00:00\n",
        "Tyrs to drop: ['2008', '2009', '2011', '2010', '2013', '2012']\n",
        "1442"
       ]
      },
      {
       "output_type": "stream",
       "stream": "stdout",
       "text": [
        " NaT 2014-01-01 00:00:00\n",
        "['2006', '2007', '2005', '2008', '2009', '2011', '2010', '2013', '2012']\n",
        "116963"
       ]
      },
      {
       "output_type": "stream",
       "stream": "stdout",
       "text": [
        " 16247 2005-05-31 00:00:00 1998-03-01 00:00:00\n",
        "Tyrs to drop: ['2006', '2007', '2008', '2009', '2011', '2010', '2013', '2012']\n",
        "16248"
       ]
      },
      {
       "output_type": "stream",
       "stream": "stdout",
       "text": [
        " NaT 1998-03-01 00:00:00\n",
        "117676 6393 2009-12-31 00:00:00 2001-05-01 00:00:00\n",
        "Tyrs to drop: ['2011', '2010', '2013', '2012']\n",
        "6394"
       ]
      },
      {
       "output_type": "stream",
       "stream": "stdout",
       "text": [
        " NaT 2001-05-01 00:00:00\n",
        "124754 9777 2011-06-30 00:00:00 2008-08-01 00:00:00\n",
        "['2006', '2007', '2005']\n",
        "Tyrs to drop:"
       ]
      },
      {
       "output_type": "stream",
       "stream": "stdout",
       "text": [
        " ['2013', '2012']\n",
        "9778"
       ]
      },
      {
       "output_type": "stream",
       "stream": "stdout",
       "text": [
        " NaT 2014-01-01 00:00:00\n",
        "['2006', '2007', '2005', '2008', '2009', '2011', '2010', '2013', '2012']\n",
        "106873"
       ]
      },
      {
       "output_type": "stream",
       "stream": "stdout",
       "text": [
        " 5137 2008-04-30 00:00:00 1991-03-01 00:00:00\n",
        "Tyrs to drop: ['2009', '2011', '2010', '2013', '2012']\n",
        "5138"
       ]
      },
      {
       "output_type": "stream",
       "stream": "stdout",
       "text": [
        " NaT 2013-09-01 00:00:00\n",
        "['2006', '2007', '2005', '2008', '2009', '2011', '2010', '2012']\n",
        "120291"
       ]
      },
      {
       "output_type": "stream",
       "stream": "stdout",
       "text": [
        " 8599 2008-06-30 00:00:00 2005-12-01 00:00:00\n",
        "Tyrs to drop: ['2009', '2011', '2010', '2013', '2012']\n",
        "8600"
       ]
      },
      {
       "output_type": "stream",
       "stream": "stdout",
       "text": [
        " NaT 2013-01-01 00:00:00\n",
        "['2006', '2007', '2005', '2008', '2009', '2011', '2010', '2012']\n",
        "114600"
       ]
      },
      {
       "output_type": "stream",
       "stream": "stdout",
       "text": [
        " 23421 2006-01-31 00:00:00 1999-12-01 00:00:00\n",
        "Tyrs to drop: ['2007', '2008', '2009', '2011', '2010', '2013', '2012']\n",
        "23422"
       ]
      },
      {
       "output_type": "stream",
       "stream": "stdout",
       "text": [
        " NaT 2011-08-01 00:00:00\n",
        "['2006', '2007', '2005', '2008', '2009', '2010']\n",
        "116964"
       ]
      },
      {
       "output_type": "stream",
       "stream": "stdout",
       "text": [
        " 6969 2007-06-30 00:00:00 2002-03-01 00:00:00\n",
        "Tyrs to drop: ['2008', '2009', '2011', '2010', '2013', '2012']\n",
        "6970"
       ]
      },
      {
       "output_type": "stream",
       "stream": "stdout",
       "text": [
        " NaT 2002-03-01 00:00:00\n",
        "110939 15212 2006-12-31 00:00:00 1992-09-01 00:00:00\n",
        "Tyrs to drop: ['2007', '2008', '2009', '2011', '2010', '2013', '2012']\n",
        "15213"
       ]
      },
      {
       "output_type": "stream",
       "stream": "stdout",
       "text": [
        " NaT 1992-09-01 00:00:00\n",
        "118528 12086 2005-06-30 00:00:00 2002-12-15 00:00:00\n",
        "Tyrs to drop: ['2006', '2007', '2008', '2009', '2011', '2010', '2013', '2012']\n",
        "12087"
       ]
      },
      {
       "output_type": "stream",
       "stream": "stdout",
       "text": [
        " NaT 2013-01-01 00:00:00\n",
        "['2006', '2007', '2005', '2008', '2009', '2011', '2010', '2012']\n",
        "102531"
       ]
      },
      {
       "output_type": "stream",
       "stream": "stdout",
       "text": [
        " 4299 2005-12-31 00:00:00 1988-09-01 00:00:00\n",
        "Tyrs to drop: ['2006', '2007', '2008', '2009', '2011', '2010', '2013', '2012']\n",
        "4300"
       ]
      },
      {
       "output_type": "stream",
       "stream": "stdout",
       "text": [
        " NaT 1988-09-01 00:00:00\n",
        "124750 7462 2011-03-31 00:00:00 2008-08-01 00:00:00\n",
        "['2006', '2007', '2005']\n",
        "Tyrs to drop:"
       ]
      },
      {
       "output_type": "stream",
       "stream": "stdout",
       "text": [
        " ['2013', '2012']\n",
        "7463"
       ]
      },
      {
       "output_type": "stream",
       "stream": "stdout",
       "text": [
        " NaT 2008-08-01 00:00:00\n",
        "['2006', '2007', '2005']\n",
        "120274"
       ]
      },
      {
       "output_type": "stream",
       "stream": "stdout",
       "text": [
        " 15207 2011-08-31 00:00:00 2006-09-01 00:00:00\n",
        "['2005']\n",
        "Tyrs to drop:"
       ]
      },
      {
       "output_type": "stream",
       "stream": "stdout",
       "text": [
        " ['2013', '2012']\n",
        "15208"
       ]
      },
      {
       "output_type": "stream",
       "stream": "stdout",
       "text": [
        " NaT 2013-02-01 00:00:00\n",
        "['2006', '2007', '2005', '2008', '2009', '2011', '2010', '2012']\n",
        "116781"
       ]
      },
      {
       "output_type": "stream",
       "stream": "stdout",
       "text": [
        " 11258 2012-07-31 00:00:00 1993-01-01 00:00:00\n",
        "Tyrs to drop: ['2013']\n",
        "11259 NaT 1993-01-01 00:00:00\n",
        "115444 12538 2007-01-31 00:00:00 2001-04-01 00:00:00\n",
        "Tyrs to drop: ['2008', '2009', '2011', '2010', '2013', '2012']\n",
        "12539"
       ]
      },
      {
       "output_type": "stream",
       "stream": "stdout",
       "text": [
        " NaT 2010-09-01 00:00:00\n",
        "['2006', '2007', '2005', '2008', '2009']\n",
        "118348"
       ]
      },
      {
       "output_type": "stream",
       "stream": "stdout",
       "text": [
        " 17334 2010-02-28 00:00:00 2006-07-01 00:00:00\n",
        "['2005']\n",
        "Tyrs to drop: ['2011', '2013', '2012']\n",
        "17335"
       ]
      },
      {
       "output_type": "stream",
       "stream": "stdout",
       "text": [
        " NaT 2014-01-01 00:00:00\n",
        "['2006', '2007', '2005', '2008', '2009', '2011', '2010', '2013', '2012']\n",
        "120280"
       ]
      },
      {
       "output_type": "stream",
       "stream": "stdout",
       "text": [
        " 19687 2008-04-30 00:00:00 2006-06-01 00:00:00\n",
        "['2005']\n",
        "Tyrs to drop: ['2009', '2011', '2010', '2013', '2012']\n",
        "19688"
       ]
      },
      {
       "output_type": "stream",
       "stream": "stdout",
       "text": [
        " NaT 2013-01-01 00:00:00\n",
        "['2006', '2007', '2005', '2008', '2009', '2011', '2010', '2012']\n",
        "116085"
       ]
      },
      {
       "output_type": "stream",
       "stream": "stdout",
       "text": [
        " 20178 2009-12-31 00:00:00 2002-08-01 00:00:00\n",
        "Tyrs to drop: ['2011', '2010', '2013', '2012']\n",
        "20179"
       ]
      },
      {
       "output_type": "stream",
       "stream": "stdout",
       "text": [
        " NaT 2002-08-01 00:00:00\n",
        "109994 2038 2005-09-30 00:00:00 2000-12-01 00:00:00\n",
        "Tyrs to drop: ['2006', '2007', '2008', '2009', '2011', '2010', '2013', '2012']\n",
        "2039"
       ]
      },
      {
       "output_type": "stream",
       "stream": "stdout",
       "text": [
        " NaT 2000-12-01 00:00:00\n",
        "101789 23368 2009-06-30 00:00:00 2002-04-01 00:00:00\n",
        "Tyrs to drop: ['2011', '2010', '2013', '2012']\n",
        "23369"
       ]
      },
      {
       "output_type": "stream",
       "stream": "stdout",
       "text": [
        " NaT 2002-04-01 00:00:00\n",
        "110162 15943 2006-12-31 00:00:00 1980-04-01 00:00:00\n",
        "Tyrs to drop: ['2007', '2008', '2009', '2011', '2010', '2013', '2012']\n",
        "15944"
       ]
      },
      {
       "output_type": "stream",
       "stream": "stdout",
       "text": [
        " NaT 1980-04-01 00:00:00\n",
        "115283 20964 2007-01-31 00:00:00 2002-01-01 00:00:00\n",
        "Tyrs to drop: ['2008', '2009', '2011', '2010', '2013', '2012']\n",
        "20965"
       ]
      },
      {
       "output_type": "stream",
       "stream": "stdout",
       "text": [
        " NaT 2013-10-01 00:00:00\n",
        "['2006', '2007', '2005', '2008', '2009', '2011', '2010', '2012']\n",
        "110029"
       ]
      },
      {
       "output_type": "stream",
       "stream": "stdout",
       "text": [
        " 19101 2008-01-31 00:00:00 2001-12-01 00:00:00\n",
        "Tyrs to drop: ['2009', '2011', '2010', '2013', '2012']\n",
        "19102"
       ]
      },
      {
       "output_type": "stream",
       "stream": "stdout",
       "text": [
        " NaT 2001-12-01 00:00:00\n",
        "101667 8606 2005-03-31 00:00:00 2004-09-01 00:00:00\n",
        "Tyrs to drop: ['2006', '2007', '2008', '2009', '2011', '2010', '2013', '2012']\n",
        "8607"
       ]
      },
      {
       "output_type": "stream",
       "stream": "stdout",
       "text": [
        " NaT 2007-03-01 00:00:00\n",
        "['2006', '2005']\n",
        "119991"
       ]
      },
      {
       "output_type": "stream",
       "stream": "stdout",
       "text": [
        " 85 2006-08-31 00:00:00 2004-11-01 00:00:00\n",
        "Tyrs to drop: ['2007', '2008', '2009', '2011', '2010', '2013', '2012']\n",
        "86"
       ]
      },
      {
       "output_type": "stream",
       "stream": "stdout",
       "text": [
        " NaT 2004-11-01 00:00:00\n",
        "120386 15467 2008-12-31 00:00:00 2006-07-01 00:00:00\n",
        "['2005']\n",
        "Tyrs to drop: ['2009', '2011', '2010', '2013', '2012']\n",
        "15468"
       ]
      },
      {
       "output_type": "stream",
       "stream": "stdout",
       "text": [
        " NaT 2011-03-01 00:00:00\n",
        "['2006', '2007', '2005', '2008', '2009', '2010']\n",
        "118440"
       ]
      },
      {
       "output_type": "stream",
       "stream": "stdout",
       "text": [
        " 22882 2006-05-31 00:00:00 2003-08-01 00:00:00\n",
        "Tyrs to drop: ['2007', '2008', '2009', '2011', '2010', '2013', '2012']\n",
        "22883"
       ]
      },
      {
       "output_type": "stream",
       "stream": "stdout",
       "text": [
        " NaT 2012-01-01 00:00:00\n",
        "['2006', '2007', '2005', '2008', '2009', '2011', '2010']\n",
        "119149"
       ]
      },
      {
       "output_type": "stream",
       "stream": "stdout",
       "text": [
        " 9973 2007-07-31 00:00:00 2005-12-01 00:00:00\n",
        "Tyrs to drop: ['2008', '2009', '2011', '2010', '2013', '2012']\n",
        "9974"
       ]
      },
      {
       "output_type": "stream",
       "stream": "stdout",
       "text": [
        " NaT 2013-08-01 00:00:00\n",
        "['2006', '2007', '2005', '2008', '2009', '2011', '2010', '2012']\n",
        "122473"
       ]
      },
      {
       "output_type": "stream",
       "stream": "stdout",
       "text": [
        " 16428 2011-12-31 00:00:00 2007-03-01 00:00:00\n",
        "['2006', '2005']\n",
        "Tyrs to drop: ['2013', '2012']\n",
        "16429"
       ]
      },
      {
       "output_type": "stream",
       "stream": "stdout",
       "text": [
        " NaT 2007-03-01 00:00:00\n",
        "['2006', '2005']\n",
        "118627"
       ]
      },
      {
       "output_type": "stream",
       "stream": "stdout",
       "text": [
        " 12782 2007-03-31 00:00:00 2002-12-01 00:00:00\n",
        "Tyrs to drop: ['2008', '2009', '2011', '2010', '2013', '2012']\n",
        "12783"
       ]
      },
      {
       "output_type": "stream",
       "stream": "stdout",
       "text": [
        " NaT 2002-12-01 00:00:00\n",
        "122584 3969 2010-10-31 00:00:00 2007-05-01 00:00:00\n",
        "['2006', '2005']\n",
        "Tyrs to drop:"
       ]
      },
      {
       "output_type": "stream",
       "stream": "stdout",
       "text": [
        " ['2011', '2013', '2012']\n",
        "3970"
       ]
      },
      {
       "output_type": "stream",
       "stream": "stdout",
       "text": [
        " NaT 2007-05-01 00:00:00\n",
        "['2006', '2005']\n",
        "124567"
       ]
      },
      {
       "output_type": "stream",
       "stream": "stdout",
       "text": [
        " 8052 2011-07-31 00:00:00 2008-06-01 00:00:00\n",
        "['2006', '2007', '2005']\n",
        "Tyrs to drop:"
       ]
      },
      {
       "output_type": "stream",
       "stream": "stdout",
       "text": [
        " ['2013', '2012']\n",
        "8053"
       ]
      },
      {
       "output_type": "stream",
       "stream": "stdout",
       "text": [
        " NaT 2013-08-01 00:00:00\n",
        "['2006', '2007', '2005', '2008', '2009', '2011', '2010', '2012']\n",
        "119164"
       ]
      },
      {
       "output_type": "stream",
       "stream": "stdout",
       "text": [
        " 9757 2008-06-30 00:00:00 2003-08-01 00:00:00\n",
        "Tyrs to drop: ['2009', '2011', '2010', '2013', '2012']\n",
        "9758"
       ]
      },
      {
       "output_type": "stream",
       "stream": "stdout",
       "text": [
        " NaT 2013-02-01 00:00:00\n",
        "['2006', '2007', '2005', '2008', '2009', '2011', '2010', '2012']\n",
        "119924"
       ]
      },
      {
       "output_type": "stream",
       "stream": "stdout",
       "text": [
        " 2335 2007-07-31 00:00:00 2004-12-01 00:00:00\n",
        "Tyrs to drop: ['2008', '2009', '2011', '2010', '2013', '2012']\n",
        "2336"
       ]
      },
      {
       "output_type": "stream",
       "stream": "stdout",
       "text": [
        " NaT 2013-11-01 00:00:00\n",
        "['2006', '2007', '2005', '2008', '2009', '2011', '2010', '2012']\n",
        "120383"
       ]
      },
      {
       "output_type": "stream",
       "stream": "stdout",
       "text": [
        " 22585 2008-05-31 00:00:00 2006-06-01 00:00:00\n",
        "['2005']\n",
        "Tyrs to drop: ['2009', '2011', '2010', '2013', '2012']\n",
        "22586"
       ]
      },
      {
       "output_type": "stream",
       "stream": "stdout",
       "text": [
        " NaT 2006-06-01 00:00:00\n",
        "['2005']\n",
        "117098 5655 2014-03-31 00:00:00 1989-02-01 00:00:00\n",
        "5656 NaT 1989-02-01 00:00:00\n",
        "101674 18845 2009-07-31 00:00:00 2002-01-01 00:00:00\n",
        "Tyrs to drop: ['2011', '2010', '2013', '2012']\n",
        "18846"
       ]
      },
      {
       "output_type": "stream",
       "stream": "stdout",
       "text": [
        " NaT 2002-01-01 00:00:00\n",
        "116873 8332 2006-06-30 00:00:00 1992-06-01 00:00:00\n",
        "Tyrs to drop: ['2007', '2008', '2009', '2011', '2010', '2013', '2012']\n",
        "8333"
       ]
      },
      {
       "output_type": "stream",
       "stream": "stdout",
       "text": [
        " NaT 2009-01-01 00:00:00\n",
        "['2006', '2007', '2005', '2008']\n",
        "106920"
       ]
      },
      {
       "output_type": "stream",
       "stream": "stdout",
       "text": [
        " 21760 2008-03-31 00:00:00 2000-11-01 00:00:00\n",
        "Tyrs to drop: ['2009', '2011', '2010', '2013', '2012']\n",
        "21761"
       ]
      },
      {
       "output_type": "stream",
       "stream": "stdout",
       "text": [
        " NaT 2000-11-01 00:00:00\n",
        "123226 23497 2010-11-30 00:00:00 2008-01-01 00:00:00\n",
        "['2006', '2007', '2005']\n",
        "Tyrs to drop:"
       ]
      },
      {
       "output_type": "stream",
       "stream": "stdout",
       "text": [
        " ['2011', '2013', '2012']\n",
        "23498"
       ]
      },
      {
       "output_type": "stream",
       "stream": "stdout",
       "text": [
        " NaT 2008-01-01 00:00:00\n",
        "['2006', '2007', '2005']\n",
        "120379"
       ]
      },
      {
       "output_type": "stream",
       "stream": "stdout",
       "text": [
        " 7712 2008-05-31 00:00:00 2006-06-01 00:00:00\n",
        "['2005']\n",
        "Tyrs to drop: ['2009', '2011', '2010', '2013', '2012']\n",
        "7713"
       ]
      },
      {
       "output_type": "stream",
       "stream": "stdout",
       "text": [
        " NaT 2006-06-01 00:00:00\n",
        "['2005']\n",
        "113216 679 2005-12-31 00:00:00 2000-12-01 00:00:00\n",
        "Tyrs to drop: ['2006', '2007', '2008', '2009', '2011', '2010', '2013', '2012']\n",
        "680"
       ]
      },
      {
       "output_type": "stream",
       "stream": "stdout",
       "text": [
        " NaT 2011-10-01 00:00:00\n",
        "['2006', '2007', '2005', '2008', '2009', '2010']\n",
        "119279"
       ]
      },
      {
       "output_type": "stream",
       "stream": "stdout",
       "text": [
        " 6977 2006-04-30 00:00:00 2002-12-01 00:00:00\n",
        "Tyrs to drop: ['2007', '2008', '2009', '2011', '2010', '2013', '2012']\n",
        "6978"
       ]
      },
      {
       "output_type": "stream",
       "stream": "stdout",
       "text": [
        " NaT 2008-09-01 00:00:00\n",
        "['2006', '2007', '2005']\n",
        "126537"
       ]
      },
      {
       "output_type": "stream",
       "stream": "stdout",
       "text": [
        " 10106 2014-09-30 00:00:00 2010-11-01 00:00:00\n",
        "['2006', '2007', '2005', '2008', '2009']\n",
        "10107"
       ]
      },
      {
       "output_type": "stream",
       "stream": "stdout",
       "text": [
        " NaT 2010-11-01 00:00:00\n",
        "['2006', '2007', '2005', '2008', '2009']\n",
        "118607"
       ]
      },
      {
       "output_type": "stream",
       "stream": "stdout",
       "text": [
        " 21367 2007-02-28 00:00:00 2002-12-01 00:00:00\n",
        "Tyrs to drop: ['2008', '2009', '2011', '2010', '2013', '2012']\n",
        "21368"
       ]
      },
      {
       "output_type": "stream",
       "stream": "stdout",
       "text": [
        " NaT 2013-08-01 00:00:00\n",
        "['2006', '2007', '2005', '2008', '2009', '2011', '2010', '2012']\n",
        "118608"
       ]
      },
      {
       "output_type": "stream",
       "stream": "stdout",
       "text": [
        " 13059 2008-11-30 00:00:00 2006-01-01 00:00:00\n",
        "['2005']\n",
        "Tyrs to drop: ['2009', '2011', '2010', '2013', '2012']\n",
        "13060"
       ]
      },
      {
       "output_type": "stream",
       "stream": "stdout",
       "text": [
        " NaT 2012-05-01 00:00:00\n",
        "['2006', '2007', '2005', '2008', '2009', '2011', '2010']\n",
        "120146"
       ]
      },
      {
       "output_type": "stream",
       "stream": "stdout",
       "text": [
        " 17103 2007-02-28 00:00:00 2005-05-01 00:00:00\n",
        "Tyrs to drop: ['2008', '2009', '2011', '2010', '2013', '2012']\n",
        "17104"
       ]
      },
      {
       "output_type": "stream",
       "stream": "stdout",
       "text": [
        " NaT 2005-05-01 00:00:00\n",
        "120389 13991 2009-07-31 00:00:00 2006-09-01 00:00:00\n",
        "['2005']\n",
        "Tyrs to drop:"
       ]
      },
      {
       "output_type": "stream",
       "stream": "stdout",
       "text": [
        " ['2011', '2010', '2013', '2012']\n",
        "13992"
       ]
      },
      {
       "output_type": "stream",
       "stream": "stdout",
       "text": [
        " NaT 2011-10-01 00:00:00\n",
        "['2006', '2007', '2005', '2008', '2009', '2010']\n",
        "118435"
       ]
      },
      {
       "output_type": "stream",
       "stream": "stdout",
       "text": [
        " 24199 2006-05-31 00:00:00 2004-04-01 00:00:00\n",
        "Tyrs to drop: ['2007', '2008', '2009', '2011', '2010', '2013', '2012']\n",
        "24200"
       ]
      },
      {
       "output_type": "stream",
       "stream": "stdout",
       "text": [
        " 2014-09-15 00:00:00 2007-10-01 00:00:00\n",
        "['2006', '2005']\n",
        "119067 "
       ]
      },
      {
       "output_type": "stream",
       "stream": "stdout",
       "text": [
        "98 2006-08-31 00:00:00 2003-12-01 00:00:00\n",
        "Tyrs to drop: ['2007', '2008', '2009', '2011', '2010', '2013', '2012']\n",
        "99"
       ]
      },
      {
       "output_type": "stream",
       "stream": "stdout",
       "text": [
        " 2014-05-31 00:00:00 2010-01-01 00:00:00\n",
        "['2006', '2007', '2005', '2008', '2009']\n",
        "117738"
       ]
      },
      {
       "output_type": "stream",
       "stream": "stdout",
       "text": [
        " 23534 2010-03-31 00:00:00 2001-09-01 00:00:00\n",
        "Tyrs to drop: ['2011', '2013', '2012']\n",
        "23535"
       ]
      },
      {
       "output_type": "stream",
       "stream": "stdout",
       "text": [
        " NaT 2014-01-01 00:00:00\n",
        "['2006', '2007', '2005', '2008', '2009', '2011', '2010', '2013', '2012']\n",
        "119168"
       ]
      },
      {
       "output_type": "stream",
       "stream": "stdout",
       "text": [
        " 10211 2007-03-31 00:00:00 2003-12-01 00:00:00\n",
        "Tyrs to drop: ['2008', '2009', '2011', '2010', '2013', '2012']\n",
        "10212"
       ]
      },
      {
       "output_type": "stream",
       "stream": "stdout",
       "text": [
        " NaT 2011-01-01 00:00:00\n",
        "['2006', '2007', '2005', '2008', '2009', '2010']\n",
        "119165"
       ]
      },
      {
       "output_type": "stream",
       "stream": "stdout",
       "text": [
        " 9406 2008-06-30 00:00:00 2003-03-01 00:00:00\n",
        "Tyrs to drop: ['2009', '2011', '2010', '2013', '2012']\n",
        "9407"
       ]
      },
      {
       "output_type": "stream",
       "stream": "stdout",
       "text": [
        " NaT 2013-08-01 00:00:00\n",
        "['2006', '2007', '2005', '2008', '2009', '2011', '2010', '2012']\n",
        "119938"
       ]
      },
      {
       "output_type": "stream",
       "stream": "stdout",
       "text": [
        " 15651 2006-12-31 00:00:00 2004-12-01 00:00:00\n",
        "Tyrs to drop: ['2007', '2008', '2009', '2011', '2010', '2013', '2012']\n",
        "15652"
       ]
      },
      {
       "output_type": "stream",
       "stream": "stdout",
       "text": [
        " NaT 2004-12-01 00:00:00\n",
        "123440 4958 2010-06-30 00:00:00 2008-04-01 00:00:00\n",
        "['2006', '2007', '2005']\n",
        "Tyrs to drop:"
       ]
      },
      {
       "output_type": "stream",
       "stream": "stdout",
       "text": [
        " ['2011', '2013', '2012']\n",
        "4959"
       ]
      },
      {
       "output_type": "stream",
       "stream": "stdout",
       "text": [
        " NaT 2013-09-01 00:00:00\n",
        "['2006', '2007', '2005', '2008', '2009', '2011', '2010', '2012']\n",
        "118244"
       ]
      },
      {
       "output_type": "stream",
       "stream": "stdout",
       "text": [
        " 6022 2008-08-31 00:00:00 2004-02-01 00:00:00\n",
        "Tyrs to drop: ['2009', '2011', '2010', '2013', '2012']\n",
        "6023"
       ]
      },
      {
       "output_type": "stream",
       "stream": "stdout",
       "text": [
        " NaT 2004-02-01 00:00:00\n",
        "120134 4794 2007-05-31 00:00:00 2006-01-01 00:00:00\n",
        "['2005']\n",
        "Tyrs to drop: ['2008', '2009', '2011', '2010', '2013', '2012']\n",
        "4795"
       ]
      },
      {
       "output_type": "stream",
       "stream": "stdout",
       "text": [
        " NaT 2014-07-01 00:00:00\n",
        "['2006', '2007', '2005', '2008', '2009', '2011', '2010', '2013', '2012']\n",
        "118432"
       ]
      },
      {
       "output_type": "stream",
       "stream": "stdout",
       "text": [
        " 19154 2007-12-31 00:00:00 2006-01-01 00:00:00\n",
        "['2005']\n",
        "Tyrs to drop: ['2008', '2009', '2011', '2010', '2013', '2012']\n",
        "19155"
       ]
      },
      {
       "output_type": "stream",
       "stream": "stdout",
       "text": [
        " NaT 2006-01-01 00:00:00\n",
        "['2005']\n",
        "120170 71 2007-09-30 00:00:00 2005-11-01 00:00:00\n",
        "Tyrs to drop: ['2008', '2009', '2011', '2010', '2013', '2012']\n",
        "72"
       ]
      },
      {
       "output_type": "stream",
       "stream": "stdout",
       "text": [
        " 2008-12-31 00:00:00 2005-11-01 00:00:00\n",
        "Tyrs to drop: ['2009', '2011', '2010', '2013', '2012']\n",
        "116902"
       ]
      },
      {
       "output_type": "stream",
       "stream": "stdout",
       "text": [
        " 21505 2008-06-30 00:00:00 1997-01-01 00:00:00\n",
        "Tyrs to drop: ['2009', '2011', '2010', '2013', '2012']\n",
        "21506"
       ]
      },
      {
       "output_type": "stream",
       "stream": "stdout",
       "text": [
        " NaT 2013-01-01 00:00:00\n",
        "['2006', '2007', '2005', '2008', '2009', '2011', '2010', '2012']\n",
        "118252"
       ]
      },
      {
       "output_type": "stream",
       "stream": "stdout",
       "text": [
        " 24223 2009-01-31 00:00:00 2006-01-01 00:00:00\n",
        "['2005']\n",
        "Tyrs to drop: ['2011', '2010', '2013', '2012']\n",
        "24224"
       ]
      },
      {
       "output_type": "stream",
       "stream": "stdout",
       "text": [
        " NaT 2014-01-01 00:00:00\n",
        "['2006', '2007', '2005', '2008', '2009', '2011', '2010', '2013', '2012']\n",
        "120171"
       ]
      },
      {
       "output_type": "stream",
       "stream": "stdout",
       "text": [
        " 9644 2007-01-31 00:00:00 2005-01-01 00:00:00\n",
        "Tyrs to drop: ['2008', '2009', '2011', '2010', '2013', '2012']\n",
        "9645"
       ]
      },
      {
       "output_type": "stream",
       "stream": "stdout",
       "text": [
        " NaT 2013-08-01 00:00:00\n",
        "['2006', '2007', '2005', '2008', '2009', '2011', '2010', '2012']\n",
        "110302"
       ]
      },
      {
       "output_type": "stream",
       "stream": "stdout",
       "text": [
        " 17275 2008-02-29 00:00:00 2002-03-01 00:00:00\n",
        "Tyrs to drop: ['2009', '2011', '2010', '2013', '2012']\n",
        "17276"
       ]
      },
      {
       "output_type": "stream",
       "stream": "stdout",
       "text": [
        " NaT 2013-02-01 00:00:00\n",
        "['2006', '2007', '2005', '2008', '2009', '2011', '2010', '2012']\n",
        "112347"
       ]
      },
      {
       "output_type": "stream",
       "stream": "stdout",
       "text": [
        " 16794 2006-01-31 00:00:00 2001-01-01 00:00:00\n",
        "Tyrs to drop: ['2007', '2008', '2009', '2011', '2010', '2013', '2012']\n",
        "16795"
       ]
      },
      {
       "output_type": "stream",
       "stream": "stdout",
       "text": [
        " NaT 2013-01-01 00:00:00\n",
        "['2006', '2007', '2005', '2008', '2009', '2011', '2010', '2012']\n",
        "119943"
       ]
      },
      {
       "output_type": "stream",
       "stream": "stdout",
       "text": [
        " 10472 2008-04-30 00:00:00 2005-01-01 00:00:00\n",
        "Tyrs to drop: ['2009', '2011', '2010', '2013', '2012']\n",
        "10473"
       ]
      },
      {
       "output_type": "stream",
       "stream": "stdout",
       "text": [
        " NaT 2012-08-01 00:00:00\n",
        "['2006', '2007', '2005', '2008', '2009', '2011', '2010']\n",
        "108455"
       ]
      },
      {
       "output_type": "stream",
       "stream": "stdout",
       "text": [
        " 11881 2006-02-28 00:00:00 2001-12-01 00:00:00\n",
        "Tyrs to drop: ['2007', '2008', '2009', '2011', '2010', '2013', '2012']\n",
        "11882"
       ]
      },
      {
       "output_type": "stream",
       "stream": "stdout",
       "text": [
        " NaT 2007-10-01 00:00:00\n",
        "['2006', '2005']\n",
        "122492 5086 2009-03-31 00:00:00 2007-03-01 00:00:00\n",
        "['2006', '2005']\n",
        "Tyrs to drop:"
       ]
      },
      {
       "output_type": "stream",
       "stream": "stdout",
       "text": [
        " ['2011', '2010', '2013', '2012']\n",
        "5087"
       ]
      },
      {
       "output_type": "stream",
       "stream": "stdout",
       "text": [
        " NaT 2007-03-01 00:00:00\n",
        "['2006', '2005']\n",
        "115510"
       ]
      },
      {
       "output_type": "stream",
       "stream": "stdout",
       "text": [
        " 6283 2009-12-31 00:00:00 1988-06-01 00:00:00\n",
        "Tyrs to drop: ['2011', '2010', '2013', '2012']\n",
        "6284"
       ]
      },
      {
       "output_type": "stream",
       "stream": "stdout",
       "text": [
        " NaT 1988-06-01 00:00:00\n",
        "120123 1347 2007-01-31 00:00:00 2006-03-01 00:00:00\n",
        "['2005']\n",
        "Tyrs to drop:"
       ]
      },
      {
       "output_type": "stream",
       "stream": "stdout",
       "text": [
        " ['2008', '2009', '2011', '2010', '2013', '2012']\n",
        "1348"
       ]
      },
      {
       "output_type": "stream",
       "stream": "stdout",
       "text": [
        " NaT 2006-03-01 00:00:00\n",
        "['2005']\n",
        "122157 16810 2009-04-30 00:00:00 2007-01-01 00:00:00\n",
        "['2006', '2005']\n",
        "Tyrs to drop:"
       ]
      },
      {
       "output_type": "stream",
       "stream": "stdout",
       "text": [
        " ['2011', '2010', '2013', '2012']\n",
        "16811"
       ]
      },
      {
       "output_type": "stream",
       "stream": "stdout",
       "text": [
        " NaT 2011-03-01 00:00:00\n",
        "['2006', '2007', '2005', '2008', '2009', '2010']\n",
        "110120"
       ]
      },
      {
       "output_type": "stream",
       "stream": "stdout",
       "text": [
        " 9474 2011-01-31 00:00:00 1996-01-01 00:00:00\n",
        "Tyrs to drop: ['2013', '2012']\n",
        "9475"
       ]
      },
      {
       "output_type": "stream",
       "stream": "stdout",
       "text": [
        " NaT 1996-01-01 00:00:00\n",
        "118350 16919 2006-12-31 00:00:00 2003-04-01 00:00:00\n",
        "Tyrs to drop: ['2007', '2008', '2009', '2011', '2010', '2013', '2012']\n",
        "16920"
       ]
      },
      {
       "output_type": "stream",
       "stream": "stdout",
       "text": [
        " NaT 2003-04-01 00:00:00\n",
        "119081 3607 2007-03-31 00:00:00 2005-10-01 00:00:00\n",
        "Tyrs to drop: ['2008', '2009', '2011', '2010', '2013', '2012']\n",
        "3608"
       ]
      },
      {
       "output_type": "stream",
       "stream": "stdout",
       "text": [
        " NaT 2009-05-01 00:00:00\n",
        "['2006', '2007', '2005', '2008']\n",
        "123421"
       ]
      },
      {
       "output_type": "stream",
       "stream": "stdout",
       "text": [
        " 23291 2010-08-31 00:00:00 2008-04-01 00:00:00\n",
        "['2006', '2007', '2005']\n",
        "Tyrs to drop:"
       ]
      },
      {
       "output_type": "stream",
       "stream": "stdout",
       "text": [
        " ['2011', '2013', '2012']\n",
        "23292"
       ]
      },
      {
       "output_type": "stream",
       "stream": "stdout",
       "text": [
        " NaT 2013-08-01 00:00:00\n",
        "['2006', '2007', '2005', '2008', '2009', '2011', '2010', '2012']\n",
        "119269"
       ]
      },
      {
       "output_type": "stream",
       "stream": "stdout",
       "text": [
        " 19864 2005-06-30 00:00:00 2002-10-01 00:00:00\n",
        "Tyrs to drop: ['2006', '2007', '2008', '2009', '2011', '2010', '2013', '2012']\n",
        "19865"
       ]
      },
      {
       "output_type": "stream",
       "stream": "stdout",
       "text": [
        " NaT 2010-05-01 00:00:00\n",
        "['2006', '2007', '2005', '2008', '2009']\n",
        "119272"
       ]
      },
      {
       "output_type": "stream",
       "stream": "stdout",
       "text": [
        " 11798 2007-04-30 00:00:00 2002-10-01 00:00:00\n",
        "Tyrs to drop: ['2008', '2009', '2011', '2010', '2013', '2012']\n",
        "11799"
       ]
      },
      {
       "output_type": "stream",
       "stream": "stdout",
       "text": [
        " NaT 2012-01-01 00:00:00\n",
        "['2006', '2007', '2005', '2008', '2009', '2011', '2010']\n",
        "118274"
       ]
      },
      {
       "output_type": "stream",
       "stream": "stdout",
       "text": [
        " 20568 2007-01-31 00:00:00 2003-12-01 00:00:00\n",
        "Tyrs to drop: ['2008', '2009', '2011', '2010', '2013', '2012']\n",
        "20569"
       ]
      },
      {
       "output_type": "stream",
       "stream": "stdout",
       "text": [
        " NaT 2010-01-01 00:00:00\n",
        "['2006', '2007', '2005', '2008', '2009']\n",
        "108468"
       ]
      },
      {
       "output_type": "stream",
       "stream": "stdout",
       "text": [
        " 559 2012-08-31 00:00:00 1994-02-01 00:00:00\n",
        "Tyrs to drop: ['2013']\n",
        "560"
       ]
      },
      {
       "output_type": "stream",
       "stream": "stdout",
       "text": [
        " NaT 1994-02-01 00:00:00\n",
        "119914 19452 2007-12-31 00:00:00 2004-06-01 00:00:00\n",
        "Tyrs to drop: ['2008', '2009', '2011', '2010', '2013', '2012']\n",
        "19453"
       ]
      },
      {
       "output_type": "stream",
       "stream": "stdout",
       "text": [
        " NaT 2014-08-01 00:00:00\n",
        "['2006', '2007', '2005', '2008', '2009', '2011', '2010', '2013', '2012']\n",
        "120184"
       ]
      },
      {
       "output_type": "stream",
       "stream": "stdout",
       "text": [
        " 8327 2008-02-29 00:00:00 2006-01-01 00:00:00\n",
        "['2005']\n",
        "Tyrs to drop: ['2009', '2011', '2010', '2013', '2012']\n",
        "8328"
       ]
      },
      {
       "output_type": "stream",
       "stream": "stdout",
       "text": [
        " NaT 2009-10-01 00:00:00\n",
        "['2006', '2007', '2005', '2008']\n",
        "117128"
       ]
      },
      {
       "output_type": "stream",
       "stream": "stdout",
       "text": [
        " 16064 2005-09-30 00:00:00 2000-09-01 00:00:00\n",
        "Tyrs to drop: ['2006', '2007', '2008', '2009', '2011', '2010', '2013', '2012']\n",
        "16065"
       ]
      },
      {
       "output_type": "stream",
       "stream": "stdout",
       "text": [
        " NaT 2009-04-01 00:00:00\n",
        "['2006', '2007', '2005', '2008']\n",
        "117075"
       ]
      },
      {
       "output_type": "stream",
       "stream": "stdout",
       "text": [
        " 16476 2008-12-31 00:00:00 1999-10-01 00:00:00\n",
        "Tyrs to drop: ['2009', '2011', '2010', '2013', '2012']\n",
        "16477"
       ]
      },
      {
       "output_type": "stream",
       "stream": "stdout",
       "text": [
        " NaT 2013-07-01 00:00:00\n",
        "['2006', '2007', '2005', '2008', '2009', '2011', '2010', '2012']\n",
        "123417"
       ]
      },
      {
       "output_type": "stream",
       "stream": "stdout",
       "text": [
        " 17982 2010-08-31 00:00:00 2008-04-01 00:00:00\n",
        "['2006', '2007', '2005']\n",
        "Tyrs to drop:"
       ]
      },
      {
       "output_type": "stream",
       "stream": "stdout",
       "text": [
        " ['2011', '2013', '2012']\n",
        "17983"
       ]
      },
      {
       "output_type": "stream",
       "stream": "stdout",
       "text": [
        " NaT 2013-03-01 00:00:00\n",
        "['2006', '2007', '2005', '2008', '2009', '2011', '2010', '2012']\n",
        "119974"
       ]
      },
      {
       "output_type": "stream",
       "stream": "stdout",
       "text": [
        " 16229 2007-08-31 00:00:00 2006-04-01 00:00:00\n",
        "['2005']\n",
        "Tyrs to drop: ['2008', '2009', '2011', '2010', '2013', '2012']\n",
        "16230"
       ]
      },
      {
       "output_type": "stream",
       "stream": "stdout",
       "text": [
        " NaT 2011-10-01 00:00:00\n",
        "['2006', '2007', '2005', '2008', '2009', '2010']\n",
        "104330"
       ]
      },
      {
       "output_type": "stream",
       "stream": "stdout",
       "text": [
        " 854 2008-12-31 00:00:00 1999-08-01 00:00:00\n",
        "Tyrs to drop: ['2009', '2011', '2010', '2013', '2012']\n",
        "855"
       ]
      },
      {
       "output_type": "stream",
       "stream": "stdout",
       "text": [
        " NaT 1999-08-01 00:00:00\n",
        "118450 22203 2005-12-31 00:00:00 2003-12-01 00:00:00\n",
        "Tyrs to drop: ['2006', '2007', '2008', '2009', '2011', '2010', '2013', '2012']\n",
        "22204"
       ]
      },
      {
       "output_type": "stream",
       "stream": "stdout",
       "text": [
        " NaT 2003-12-01 00:00:00\n",
        "122579 9319 2009-01-31 00:00:00 2007-05-01 00:00:00\n",
        "['2006', '2005']\n",
        "Tyrs to drop:"
       ]
      },
      {
       "output_type": "stream",
       "stream": "stdout",
       "text": [
        " ['2011', '2010', '2013', '2012']\n",
        "9320"
       ]
      },
      {
       "output_type": "stream",
       "stream": "stdout",
       "text": [
        " NaT 2011-07-01 00:00:00\n",
        "['2006', '2007', '2005', '2008', '2009', '2010']\n",
        "110069"
       ]
      },
      {
       "output_type": "stream",
       "stream": "stdout",
       "text": [
        " 23563 2008-06-30 00:00:00 1988-07-01 00:00:00\n",
        "Tyrs to drop: ['2009', '2011', '2010', '2013', '2012']\n",
        "23564"
       ]
      },
      {
       "output_type": "stream",
       "stream": "stdout",
       "text": [
        " NaT 2014-04-01 00:00:00\n",
        "['2006', '2007', '2005', '2008', '2009', '2011', '2010', '2013', '2012']\n",
        "109912"
       ]
      },
      {
       "output_type": "stream",
       "stream": "stdout",
       "text": [
        " 3918 2009-01-31 00:00:00 2000-12-01 00:00:00\n",
        "Tyrs to drop: ['2011', '2010', '2013', '2012']\n",
        "3919"
       ]
      },
      {
       "output_type": "stream",
       "stream": "stdout",
       "text": [
        " NaT 2000-12-01 00:00:00\n",
        "123087 20006 2011-03-31 00:00:00 2008-01-01 00:00:00\n",
        "['2006', '2007', '2005']\n",
        "Tyrs to drop:"
       ]
      },
      {
       "output_type": "stream",
       "stream": "stdout",
       "text": [
        " ['2013', '2012']\n",
        "20007"
       ]
      },
      {
       "output_type": "stream",
       "stream": "stdout",
       "text": [
        " NaT 2008-01-01 00:00:00\n",
        "['2006', '2007', '2005']\n",
        "114415"
       ]
      },
      {
       "output_type": "stream",
       "stream": "stdout",
       "text": [
        " 7443 2005-02-28 00:00:00 2001-03-01 00:00:00\n",
        "Tyrs to drop: ['2006', '2007', '2008', '2009', '2011', '2010', '2013', '2012']\n",
        "7444"
       ]
      },
      {
       "output_type": "stream",
       "stream": "stdout",
       "text": [
        " NaT 2013-08-01 00:00:00\n",
        "['2006', '2007', '2005', '2008', '2009', '2011', '2010', '2012']\n",
        "119276"
       ]
      },
      {
       "output_type": "stream",
       "stream": "stdout",
       "text": [
        " 9012 2007-03-31 00:00:00 2005-12-01 00:00:00\n",
        "Tyrs to drop: ['2008', '2009', '2011', '2010', '2013', '2012']\n",
        "9013"
       ]
      },
      {
       "output_type": "stream",
       "stream": "stdout",
       "text": [
        " NaT 2012-09-01 00:00:00\n",
        "['2006', '2007', '2005', '2008', '2009', '2011', '2010']\n",
        "124656"
       ]
      },
      {
       "output_type": "stream",
       "stream": "stdout",
       "text": [
        " 23429 2013-05-31 00:00:00 2008-07-01 00:00:00\n",
        "['2006', '2007', '2005']\n",
        "23430"
       ]
      },
      {
       "output_type": "stream",
       "stream": "stdout",
       "text": [
        " NaT 2008-07-01 00:00:00\n",
        "['2006', '2007', '2005']\n",
        "118234"
       ]
      },
      {
       "output_type": "stream",
       "stream": "stdout",
       "text": [
        " 432 2009-02-28 00:00:00 2003-03-01 00:00:00\n",
        "Tyrs to drop: ['2011', '2010', '2013', '2012']\n",
        "433"
       ]
      },
      {
       "output_type": "stream",
       "stream": "stdout",
       "text": [
        " NaT 2013-11-01 00:00:00\n",
        "['2006', '2007', '2005', '2008', '2009', '2011', '2010', '2012']\n",
        "111047"
       ]
      },
      {
       "output_type": "stream",
       "stream": "stdout",
       "text": [
        " 1373 2006-03-31 00:00:00 2001-07-01 00:00:00\n",
        "Tyrs to drop: ['2007', '2008', '2009', '2011', '2010', '2013', '2012']\n",
        "1374"
       ]
      },
      {
       "output_type": "stream",
       "stream": "stdout",
       "text": [
        " 2012-01-31 00:00:00 2010-01-01 00:00:00\n",
        "['2006', '2007', '2005', '2008', '2009']\n",
        "Tyrs to drop:"
       ]
      },
      {
       "output_type": "stream",
       "stream": "stdout",
       "text": [
        " ['2013']\n",
        "118265 9830 2005-05-31 00:00:00 2003-05-01 00:00:00\n",
        "Tyrs to drop: ['2006', '2007', '2008', '2009', '2011', '2010', '2013', '2012']\n",
        "9831"
       ]
      },
      {
       "output_type": "stream",
       "stream": "stdout",
       "text": [
        " NaT 2010-09-01 00:00:00\n",
        "['2006', '2007', '2005', '2008', '2009']\n",
        "120422"
       ]
      },
      {
       "output_type": "stream",
       "stream": "stdout",
       "text": [
        " 16311 2007-12-31 00:00:00 2006-09-01 00:00:00\n",
        "['2005']\n",
        "Tyrs to drop: ['2008', '2009', '2011', '2010', '2013', '2012']\n",
        "16312"
       ]
      },
      {
       "output_type": "stream",
       "stream": "stdout",
       "text": [
        " 2009-06-30 00:00:00 2006-09-01 00:00:00\n",
        "['2005']\n",
        "Tyrs to drop: ['2011', '2010', '2013', '2012']\n",
        "123429"
       ]
      },
      {
       "output_type": "stream",
       "stream": "stdout",
       "text": [
        " 23852 2010-06-30 00:00:00 2008-04-01 00:00:00\n",
        "['2006', '2007', '2005']\n",
        "Tyrs to drop:"
       ]
      },
      {
       "output_type": "stream",
       "stream": "stdout",
       "text": [
        " ['2011', '2013', '2012']\n",
        "23853"
       ]
      },
      {
       "output_type": "stream",
       "stream": "stdout",
       "text": [
        " NaT 2008-04-01 00:00:00\n",
        "['2006', '2007', '2005']\n",
        "104960"
       ]
      },
      {
       "output_type": "stream",
       "stream": "stdout",
       "text": [
        " 17399 2006-01-31 00:00:00 2001-07-01 00:00:00\n",
        "Tyrs to drop: ['2007', '2008', '2009', '2011', '2010', '2013', '2012']\n",
        "17400"
       ]
      },
      {
       "output_type": "stream",
       "stream": "stdout",
       "text": [
        " NaT 2009-04-01 00:00:00\n",
        "['2006', '2007', '2005', '2008']\n",
        "119160"
       ]
      },
      {
       "output_type": "stream",
       "stream": "stdout",
       "text": [
        " 9603 2006-07-31 00:00:00 2004-01-01 00:00:00\n",
        "Tyrs to drop: ['2007', '2008', '2009', '2011', '2010', '2013', '2012']\n",
        "9604"
       ]
      },
      {
       "output_type": "stream",
       "stream": "stdout",
       "text": [
        " NaT 2013-01-01 00:00:00\n",
        "['2006', '2007', '2005', '2008', '2009', '2011', '2010', '2012']\n"
       ]
      }
     ],
     "prompt_number": 361
    },
    {
     "cell_type": "code",
     "collapsed": false,
     "input": [
      "kdf[kdf.AWARDS_ID==dupAgentIDs[8]][['APPOINT DATE','TERMINATION DATE','zip5','AUTO RAW NEW 2005','AUTO RAW NEW 2011','COUNTY','STATE']]"
     ],
     "language": "python",
     "metadata": {},
     "outputs": [
      {
       "html": [
        "<div style=\"max-height:1000px;max-width:1500px;overflow:auto;\">\n",
        "<table border=\"1\" class=\"dataframe\">\n",
        "  <thead>\n",
        "    <tr style=\"text-align: right;\">\n",
        "      <th></th>\n",
        "      <th>APPOINT DATE</th>\n",
        "      <th>TERMINATION DATE</th>\n",
        "      <th>zip5</th>\n",
        "      <th>AUTO RAW NEW 2005</th>\n",
        "      <th>AUTO RAW NEW 2011</th>\n",
        "      <th>COUNTY</th>\n",
        "      <th>STATE</th>\n",
        "    </tr>\n",
        "  </thead>\n",
        "  <tbody>\n",
        "    <tr>\n",
        "      <th>6103</th>\n",
        "      <td>1990-08-01</td>\n",
        "      <td>2010-08-31</td>\n",
        "      <td> 32506</td>\n",
        "      <td> 204</td>\n",
        "      <td>   0</td>\n",
        "      <td> ESCAMBIA</td>\n",
        "      <td> Florida</td>\n",
        "    </tr>\n",
        "    <tr>\n",
        "      <th>6104</th>\n",
        "      <td>1990-08-01</td>\n",
        "      <td>       NaT</td>\n",
        "      <td> 32607</td>\n",
        "      <td> 204</td>\n",
        "      <td> 108</td>\n",
        "      <td>  ALACHUA</td>\n",
        "      <td> Florida</td>\n",
        "    </tr>\n",
        "  </tbody>\n",
        "</table>\n",
        "</div>"
       ],
       "metadata": {},
       "output_type": "pyout",
       "prompt_number": 367,
       "text": [
        "     APPOINT DATE TERMINATION DATE   zip5  AUTO RAW NEW 2005  \\\n",
        "6103   1990-08-01       2010-08-31  32506                204   \n",
        "6104   1990-08-01              NaT  32607                204   \n",
        "\n",
        "      AUTO RAW NEW 2011    COUNTY    STATE  \n",
        "6103                  0  ESCAMBIA  Florida  \n",
        "6104                108   ALACHUA  Florida  "
       ]
      }
     ],
     "prompt_number": 367
    },
    {
     "cell_type": "code",
     "collapsed": false,
     "input": [
      "kdf.to_csv('agent/agent_policy_amounts_1.csv')"
     ],
     "language": "python",
     "metadata": {},
     "outputs": [],
     "prompt_number": 368
    },
    {
     "cell_type": "code",
     "collapsed": false,
     "input": [
      "np.shape(kdf)"
     ],
     "language": "python",
     "metadata": {},
     "outputs": [
      {
       "metadata": {},
       "output_type": "pyout",
       "prompt_number": 369,
       "text": [
        "(24440, 1149)"
       ]
      }
     ],
     "prompt_number": 369
    },
    {
     "cell_type": "code",
     "collapsed": false,
     "input": [
      "bb = kdf.ix[idx][yearCols[yrs_to_drop[0]]].copy()\n",
      "bb"
     ],
     "language": "python",
     "metadata": {},
     "outputs": [
      {
       "metadata": {},
       "output_type": "pyout",
       "prompt_number": 340,
       "text": [
        "VOL AUTO 2006                      239\n",
        "AUTO RAW NEW 2006                   34\n",
        "AUTO BEGINNING PIF 2006            998\n",
        "AUTO ENDING PIF 2006              2092\n",
        "FIRE 2006                          161\n",
        "FIRE PERSONAL LINES 2006           116\n",
        "HOMEOWNERS 2006                     66\n",
        "OTHER PERSONAL LINES 2006           50\n",
        "FIRE ALL COMMERCIAL LINES 2006      23\n",
        "FIRE BUSINESS LINES 2006            13\n",
        "OTHER LINES FLOOD 2006              22\n",
        "FIRE BEGINNING PIF 2006            724\n",
        "FIRE ENDING PIF 2006              1556\n",
        "LIFE POLS 2006                      71\n",
        "VARIABLE LIFE POLS 2006              6\n",
        "...\n",
        "529 NON-NAV ACCTS 2006                     0\n",
        "MUT FUNDS NEW MONEY 2006              194142\n",
        "401K NEW MONEY 2006                        0\n",
        "MUT FUNDS ASSETS UNDER MGMT 2006      296434\n",
        "NAV ASSETS UNDER MGMT 2006             13544\n",
        "NON-NAV ASSETS UNDER MGMT 2006        282891\n",
        "529 NAV ASSETS UNDER MGMT 2006          9447\n",
        "529 NON-NAV ASSETS UNDER MGMT 2006      1439\n",
        "MUT FUNDS NUM OPEN ACCTS 2006             47\n",
        "NAV NUM OPEN ACCTS 2006                    8\n",
        "NON-NAV NUM OPEN ACCTS 2006               39\n",
        "529 NAV NUM OPEN ACCTS 2006                7\n",
        "529 NON-NAV NUM OPEN ACCTS 2006            1\n",
        "MUT FUNDS NEW COMM 2006                 3409\n",
        "MUT FUNDS TOTAL COMM 2006               3661\n",
        "Name: 19354, Length: 85, dtype: object"
       ]
      }
     ],
     "prompt_number": 340
    },
    {
     "cell_type": "code",
     "collapsed": false,
     "input": [
      "kdf.loc[idx,yearCols[yrs_to_drop[0]]]"
     ],
     "language": "python",
     "metadata": {},
     "outputs": [
      {
       "metadata": {},
       "output_type": "pyout",
       "prompt_number": 343,
       "text": [
        "VOL AUTO 2006                     0\n",
        "AUTO RAW NEW 2006                 0\n",
        "AUTO BEGINNING PIF 2006           0\n",
        "AUTO ENDING PIF 2006              0\n",
        "FIRE 2006                         0\n",
        "FIRE PERSONAL LINES 2006          0\n",
        "HOMEOWNERS 2006                   0\n",
        "OTHER PERSONAL LINES 2006         0\n",
        "FIRE ALL COMMERCIAL LINES 2006    0\n",
        "FIRE BUSINESS LINES 2006          0\n",
        "OTHER LINES FLOOD 2006            0\n",
        "FIRE BEGINNING PIF 2006           0\n",
        "FIRE ENDING PIF 2006              0\n",
        "LIFE POLS 2006                    0\n",
        "VARIABLE LIFE POLS 2006           0\n",
        "...\n",
        "529 NON-NAV ACCTS 2006                0\n",
        "MUT FUNDS NEW MONEY 2006              0\n",
        "401K NEW MONEY 2006                   0\n",
        "MUT FUNDS ASSETS UNDER MGMT 2006      0\n",
        "NAV ASSETS UNDER MGMT 2006            0\n",
        "NON-NAV ASSETS UNDER MGMT 2006        0\n",
        "529 NAV ASSETS UNDER MGMT 2006        0\n",
        "529 NON-NAV ASSETS UNDER MGMT 2006    0\n",
        "MUT FUNDS NUM OPEN ACCTS 2006         0\n",
        "NAV NUM OPEN ACCTS 2006               0\n",
        "NON-NAV NUM OPEN ACCTS 2006           0\n",
        "529 NAV NUM OPEN ACCTS 2006           0\n",
        "529 NON-NAV NUM OPEN ACCTS 2006       0\n",
        "MUT FUNDS NEW COMM 2006               0\n",
        "MUT FUNDS TOTAL COMM 2006             0\n",
        "Name: 19354, Length: 85, dtype: object"
       ]
      }
     ],
     "prompt_number": 343
    },
    {
     "cell_type": "code",
     "collapsed": false,
     "input": [
      "[key for key in yearCols.keys() if int(key)> 2006]"
     ],
     "language": "python",
     "metadata": {},
     "outputs": [
      {
       "metadata": {},
       "output_type": "pyout",
       "prompt_number": 326,
       "text": [
        "['2007', '2008', '2009', '2011', '2010', '2013', '2012']"
       ]
      }
     ],
     "prompt_number": 326
    },
    {
     "cell_type": "code",
     "collapsed": false,
     "input": [
      "def correct_for_agent_change(df,agent_id,year):\n",
      "    # get the list of columns containing a given year\n",
      "    yearCols = [b for b in df.columns if year in b]\n",
      "    ydate = pd.to_datetime(year+'-12-31') # assign as the end of the year\n",
      "    # identify cases where the termination date is before ydate\n",
      "    # A) if year is greater than termination date reset values to zero\n",
      "    df[df.AW]\n",
      "    # B) if appoint date is greater than year reset values to zero\n",
      "    #df[yearCols] = \n",
      "    tdate = df[df.AWARDS_ID == agent_id]['TERMINATION DATE']\n",
      "    adate = df[df.AWARDS_ID == agent_id]['APPOINT DATE']\n",
      "    # flag the ones with beginning PIF\n",
      "    "
     ],
     "language": "python",
     "metadata": {},
     "outputs": []
    },
    {
     "cell_type": "code",
     "collapsed": false,
     "input": [
      "tdate = kdf[kdf.AWARDS_ID == dupAgentIDs[2]]['TERMINATION DATE']"
     ],
     "language": "python",
     "metadata": {},
     "outputs": [],
     "prompt_number": 272
    },
    {
     "cell_type": "code",
     "collapsed": false,
     "input": [
      "myY = '2009'\n",
      "ydate = pd.to_datetime(myY+'-12-31')\n",
      "ydate"
     ],
     "language": "python",
     "metadata": {},
     "outputs": [
      {
       "metadata": {},
       "output_type": "pyout",
       "prompt_number": 286,
       "text": [
        "Timestamp('2009-12-31 00:00:00')"
       ]
      }
     ],
     "prompt_number": 286
    },
    {
     "cell_type": "code",
     "collapsed": false,
     "input": [
      "ydate"
     ],
     "language": "python",
     "metadata": {},
     "outputs": [
      {
       "metadata": {},
       "output_type": "pyout",
       "prompt_number": 282,
       "text": [
        "Timestamp('2008-12-31 00:00:00')"
       ]
      }
     ],
     "prompt_number": 282
    },
    {
     "cell_type": "code",
     "collapsed": false,
     "input": [
      "kdf[(kdf.AWARDS_ID == dupAgentIDs[1]) & (kdf['TERMINATION DATE']< ydate)][['APPOINT DATE','TERMINATION DATE','zip5','COUNTY','STATE','STATUS','AUTO RAW NEW 2011']]#y0cols]"
     ],
     "language": "python",
     "metadata": {},
     "outputs": [
      {
       "html": [
        "<div style=\"max-height:1000px;max-width:1500px;overflow:auto;\">\n",
        "<table border=\"1\" class=\"dataframe\">\n",
        "  <thead>\n",
        "    <tr style=\"text-align: right;\">\n",
        "      <th></th>\n",
        "      <th>APPOINT DATE</th>\n",
        "      <th>TERMINATION DATE</th>\n",
        "      <th>zip5</th>\n",
        "      <th>COUNTY</th>\n",
        "      <th>STATE</th>\n",
        "      <th>STATUS</th>\n",
        "      <th>AUTO RAW NEW 2011</th>\n",
        "    </tr>\n",
        "  </thead>\n",
        "  <tbody>\n",
        "    <tr>\n",
        "      <th>8049</th>\n",
        "      <td>2006-11-01</td>\n",
        "      <td>2008-12-31</td>\n",
        "      <td> 33898</td>\n",
        "      <td> POLK</td>\n",
        "      <td> Florida</td>\n",
        "      <td> 6</td>\n",
        "      <td> 200</td>\n",
        "    </tr>\n",
        "  </tbody>\n",
        "</table>\n",
        "</div>"
       ],
       "metadata": {},
       "output_type": "pyout",
       "prompt_number": 287,
       "text": [
        "     APPOINT DATE TERMINATION DATE   zip5 COUNTY    STATE  STATUS  \\\n",
        "8049   2006-11-01       2008-12-31  33898   POLK  Florida       6   \n",
        "\n",
        "      AUTO RAW NEW 2011  \n",
        "8049                200  "
       ]
      }
     ],
     "prompt_number": 287
    },
    {
     "cell_type": "code",
     "collapsed": false,
     "input": [
      "\n",
      "for a in nvc.index[:3]:\n",
      "    print a, \n",
      "    print kdf[kdf.AWARDS_ID == int(a)][['APPOINT DATE','TERMINATION DATE','zip5']]"
     ],
     "language": "python",
     "metadata": {},
     "outputs": [
      {
       "output_type": "stream",
       "stream": "stdout",
       "text": [
        "119365.0\n",
        "      APPOINT DATE TERMINATION DATE   zip5\n",
        "19352   2004-05-01       2006-02-28  95648\n",
        "19353   2004-05-01       2007-01-31  95991\n",
        "19354   2010-08-01       2014-03-31  83642\n",
        "122000.0\n",
        "     APPOINT DATE TERMINATION DATE   zip5\n",
        "8049   2006-11-01       2008-12-31  33898\n",
        "8050   2006-11-01       2010-08-31  33950\n",
        "8051   2006-11-01              NaT  33870\n",
        "125133.0\n",
        "      APPOINT DATE TERMINATION DATE   zip5\n",
        "19463   2010-11-01       2011-01-31  69138\n",
        "19464   2011-08-01       2014-08-31  82604\n",
        "19465   2011-08-01              NaT  82520\n"
       ]
      }
     ],
     "prompt_number": 181
    },
    {
     "cell_type": "code",
     "collapsed": false,
     "input": [
      "kdf[kdf.AWARDS_ID==119160][['APPOINT DATE', 'TERMINATION DATE']]"
     ],
     "language": "python",
     "metadata": {},
     "outputs": [
      {
       "html": [
        "<div style=\"max-height:1000px;max-width:1500px;overflow:auto;\">\n",
        "<table border=\"1\" class=\"dataframe\">\n",
        "  <thead>\n",
        "    <tr style=\"text-align: right;\">\n",
        "      <th></th>\n",
        "      <th>APPOINT DATE</th>\n",
        "      <th>TERMINATION DATE</th>\n",
        "    </tr>\n",
        "  </thead>\n",
        "  <tbody>\n",
        "    <tr>\n",
        "      <th>9603</th>\n",
        "      <td>2004-01-01</td>\n",
        "      <td>2006-07-31</td>\n",
        "    </tr>\n",
        "    <tr>\n",
        "      <th>9604</th>\n",
        "      <td>2013-01-01</td>\n",
        "      <td>       NaT</td>\n",
        "    </tr>\n",
        "  </tbody>\n",
        "</table>\n",
        "</div>"
       ],
       "metadata": {},
       "output_type": "pyout",
       "prompt_number": 176,
       "text": [
        "     APPOINT DATE TERMINATION DATE\n",
        "9603   2004-01-01       2006-07-31\n",
        "9604   2013-01-01              NaT"
       ]
      }
     ],
     "prompt_number": 176
    },
    {
     "cell_type": "code",
     "collapsed": false,
     "input": [
      "kdf.groupby('zip5').get_group('46219')[lifeCols].sum()"
     ],
     "language": "python",
     "metadata": {},
     "outputs": [
      {
       "metadata": {},
       "output_type": "pyout",
       "prompt_number": 239,
       "text": [
        "LIFE POLS 2005      155\n",
        "LIFE POLS 2006      100\n",
        "LIFE POLS 2007      130\n",
        "LIFE POLS 2008       66\n",
        "LIFE POLS 2009       64\n",
        "LIFE POLS 2010       35\n",
        "LIFE POLS 2011       38\n",
        "LIFE POLS 2012      112\n",
        "LIFE POLS 2013       85\n",
        "LIFE PREM 2005    89482\n",
        "LIFE PREM 2006    53680\n",
        "LIFE PREM 2007    51474\n",
        "LIFE PREM 2008    37766\n",
        "LIFE PREM 2009    36069\n",
        "LIFE PREM 2010    23768\n",
        "...\n",
        "LIFE PIF 2009            1651\n",
        "LIFE PIF 2010            1541\n",
        "LIFE PIF 2011            1480\n",
        "LIFE PIF 2012            1686\n",
        "LIFE PIF 2013            1186\n",
        "LIFE PIF 2014            1272\n",
        "LIFE TOTAL COMM 2005    55594\n",
        "LIFE TOTAL COMM 2006    45303\n",
        "LIFE TOTAL COMM 2007    44088\n",
        "LIFE TOTAL COMM 2008    36785\n",
        "LIFE TOTAL COMM 2009    35999\n",
        "LIFE TOTAL COMM 2010    29816\n",
        "LIFE TOTAL COMM 2011    31509\n",
        "LIFE TOTAL COMM 2012    31231\n",
        "LIFE TOTAL COMM 2013    35909\n",
        "Length: 86, dtype: int64"
       ]
      }
     ],
     "prompt_number": 239
    },
    {
     "cell_type": "code",
     "collapsed": false,
     "input": [
      "fireCols = getAnnualColumnNames(df,'FIRE')\n",
      "fireCols, len(fireCols)"
     ],
     "language": "python",
     "metadata": {},
     "outputs": [
      {
       "metadata": {},
       "output_type": "pyout",
       "prompt_number": 224,
       "text": [
        "(['FIRE 2005',\n",
        "  'FIRE 2006',\n",
        "  'FIRE 2007',\n",
        "  'FIRE 2008',\n",
        "  'FIRE 2009',\n",
        "  'FIRE 2010',\n",
        "  'FIRE 2011',\n",
        "  'FIRE 2012',\n",
        "  'FIRE 2013',\n",
        "  'FIRE PERSONAL LINES 2005',\n",
        "  'FIRE PERSONAL LINES 2006',\n",
        "  'FIRE PERSONAL LINES 2007',\n",
        "  'FIRE PERSONAL LINES 2008',\n",
        "  'FIRE PERSONAL LINES 2009',\n",
        "  'FIRE PERSONAL LINES 2010',\n",
        "  'FIRE PERSONAL LINES 2011',\n",
        "  'FIRE PERSONAL LINES 2012',\n",
        "  'FIRE PERSONAL LINES 2013',\n",
        "  'FIRE ALL COMMERCIAL LINES 2005',\n",
        "  'FIRE ALL COMMERCIAL LINES 2006',\n",
        "  'FIRE ALL COMMERCIAL LINES 2007',\n",
        "  'FIRE ALL COMMERCIAL LINES 2008',\n",
        "  'FIRE ALL COMMERCIAL LINES 2009',\n",
        "  'FIRE ALL COMMERCIAL LINES 2010',\n",
        "  'FIRE ALL COMMERCIAL LINES 2011',\n",
        "  'FIRE ALL COMMERCIAL LINES 2012',\n",
        "  'FIRE ALL COMMERCIAL LINES 2013',\n",
        "  'FIRE BUSINESS LINES 2005',\n",
        "  'FIRE BUSINESS LINES 2006',\n",
        "  'FIRE BUSINESS LINES 2007',\n",
        "  'FIRE BUSINESS LINES 2008',\n",
        "  'FIRE BUSINESS LINES 2009',\n",
        "  'FIRE BUSINESS LINES 2010',\n",
        "  'FIRE BUSINESS LINES 2011',\n",
        "  'FIRE BUSINESS LINES 2012',\n",
        "  'FIRE BUSINESS LINES 2013',\n",
        "  'FIRE BEGINNING PIF 2005',\n",
        "  'FIRE BEGINNING PIF 2006',\n",
        "  'FIRE BEGINNING PIF 2007',\n",
        "  'FIRE BEGINNING PIF 2008',\n",
        "  'FIRE BEGINNING PIF 2009',\n",
        "  'FIRE BEGINNING PIF 2010',\n",
        "  'FIRE BEGINNING PIF 2011',\n",
        "  'FIRE BEGINNING PIF 2012',\n",
        "  'FIRE BEGINNING PIF 2013',\n",
        "  'FIRE BEGINNING PIF 2014',\n",
        "  'FIRE ENDING PIF 2005',\n",
        "  'FIRE ENDING PIF 2006',\n",
        "  'FIRE ENDING PIF 2007',\n",
        "  'FIRE ENDING PIF 2008',\n",
        "  'FIRE ENDING PIF 2009',\n",
        "  'FIRE ENDING PIF 2010',\n",
        "  'FIRE ENDING PIF 2011',\n",
        "  'FIRE ENDING PIF 2012',\n",
        "  'FIRE ENDING PIF 2013',\n",
        "  'FIRE ENDING PIF 2014'],\n",
        " 56)"
       ]
      }
     ],
     "prompt_number": 224
    },
    {
     "cell_type": "code",
     "collapsed": false,
     "input": [
      "lifeCols = getAnnualColumnNames(df,'LIFE')\n",
      "lifeCols, len(lifeCols)"
     ],
     "language": "python",
     "metadata": {},
     "outputs": [
      {
       "metadata": {},
       "output_type": "pyout",
       "prompt_number": 226,
       "text": [
        "(['LIFE POLS 2005',\n",
        "  'LIFE POLS 2006',\n",
        "  'LIFE POLS 2007',\n",
        "  'LIFE POLS 2008',\n",
        "  'LIFE POLS 2009',\n",
        "  'LIFE POLS 2010',\n",
        "  'LIFE POLS 2011',\n",
        "  'LIFE POLS 2012',\n",
        "  'LIFE POLS 2013',\n",
        "  'LIFE PREM 2005',\n",
        "  'LIFE PREM 2006',\n",
        "  'LIFE PREM 2007',\n",
        "  'LIFE PREM 2008',\n",
        "  'LIFE PREM 2009',\n",
        "  'LIFE PREM 2010',\n",
        "  'LIFE PREM 2011',\n",
        "  'LIFE PREM 2012',\n",
        "  'LIFE PREM 2013',\n",
        "  'LIFE VOLUME 2005',\n",
        "  'LIFE VOLUME 2006',\n",
        "  'LIFE VOLUME 2007',\n",
        "  'LIFE VOLUME 2008',\n",
        "  'LIFE VOLUME 2009',\n",
        "  'LIFE VOLUME 2010',\n",
        "  'LIFE VOLUME 2011',\n",
        "  'LIFE VOLUME 2012',\n",
        "  'LIFE VOLUME 2013',\n",
        "  'LIFE 2ND YR PERSIST 2005',\n",
        "  'LIFE 2ND YR PERSIST 2006',\n",
        "  'LIFE 2ND YR PERSIST 2007',\n",
        "  'LIFE 2ND YR PERSIST 2008',\n",
        "  'LIFE 2ND YR PERSIST 2009',\n",
        "  'LIFE 2ND YR PERSIST 2010',\n",
        "  'LIFE 2ND YR PERSIST 2011',\n",
        "  'LIFE 2ND YR PERSIST 2012',\n",
        "  'LIFE 2ND YR PERSIST 2013',\n",
        "  'LIFE 2ND YR PERSIST 2014',\n",
        "  'LIFE 1ST YR PERSIST DEC 31 2005',\n",
        "  'LIFE 1ST YR PERSIST DEC 31 2006',\n",
        "  'LIFE 1ST YR PERSIST DEC 31 2007',\n",
        "  'LIFE 1ST YR PERSIST DEC 31 2008',\n",
        "  'LIFE 1ST YR PERSIST DEC 31 2009',\n",
        "  'LIFE 1ST YR PERSIST DEC 31 2010',\n",
        "  'LIFE 1ST YR PERSIST DEC 31 2011',\n",
        "  'LIFE 1ST YR PERSIST DEC 31 2012',\n",
        "  'LIFE 1ST YR PERSIST DEC 31 2013',\n",
        "  'LIFE 1ST YR PERSIST DEC 31 2014',\n",
        "  'LIFE 1ST YR PLACED 2005',\n",
        "  'LIFE 1ST YR PLACED 2006',\n",
        "  'LIFE 1ST YR PLACED 2007',\n",
        "  'LIFE 1ST YR PLACED 2008',\n",
        "  'LIFE 1ST YR PLACED 2009',\n",
        "  'LIFE 1ST YR PLACED 2010',\n",
        "  'LIFE 1ST YR PLACED 2011',\n",
        "  'LIFE 1ST YR PLACED 2012',\n",
        "  'LIFE 1ST YR PLACED 2013',\n",
        "  'LIFE 1ST YR PLACED 2014',\n",
        "  'LIFE CUR YR PLACED 2005',\n",
        "  'LIFE CUR YR PLACED 2006',\n",
        "  'LIFE CUR YR PLACED 2007',\n",
        "  'LIFE CUR YR PLACED 2008',\n",
        "  'LIFE CUR YR PLACED 2009',\n",
        "  'LIFE CUR YR PLACED 2010',\n",
        "  'LIFE CUR YR PLACED 2011',\n",
        "  'LIFE CUR YR PLACED 2012',\n",
        "  'LIFE CUR YR PLACED 2013',\n",
        "  'LIFE CUR YR PLACED 2014',\n",
        "  'LIFE PIF 2005',\n",
        "  'LIFE PIF 2006',\n",
        "  'LIFE PIF 2007',\n",
        "  'LIFE PIF 2008',\n",
        "  'LIFE PIF 2009',\n",
        "  'LIFE PIF 2010',\n",
        "  'LIFE PIF 2011',\n",
        "  'LIFE PIF 2012',\n",
        "  'LIFE PIF 2013',\n",
        "  'LIFE PIF 2014',\n",
        "  'LIFE TOTAL COMM 2005',\n",
        "  'LIFE TOTAL COMM 2006',\n",
        "  'LIFE TOTAL COMM 2007',\n",
        "  'LIFE TOTAL COMM 2008',\n",
        "  'LIFE TOTAL COMM 2009',\n",
        "  'LIFE TOTAL COMM 2010',\n",
        "  'LIFE TOTAL COMM 2011',\n",
        "  'LIFE TOTAL COMM 2012',\n",
        "  'LIFE TOTAL COMM 2013'],\n",
        " 86)"
       ]
      }
     ],
     "prompt_number": 226
    },
    {
     "cell_type": "code",
     "collapsed": false,
     "input": [
      "healthCols = getAnnualColumnNames(df,'HEALTH')\n",
      "#healthCols, len(healthCols)\n",
      "phoenixCols = getAnnualColumnNames(df,'PHOENIX')\n",
      "phoenixCols = phoenixCols[1:] #omit the agrement date"
     ],
     "language": "python",
     "metadata": {},
     "outputs": [],
     "prompt_number": 232
    },
    {
     "cell_type": "code",
     "collapsed": false,
     "input": [
      "len(kdf.columns)"
     ],
     "language": "python",
     "metadata": {},
     "outputs": [
      {
       "metadata": {},
       "output_type": "pyout",
       "prompt_number": 233,
       "text": [
        "1149"
       ]
      }
     ],
     "prompt_number": 233
    },
    {
     "cell_type": "code",
     "collapsed": false,
     "input": [
      "kdf.columns[1000:]"
     ],
     "language": "python",
     "metadata": {},
     "outputs": [
      {
       "metadata": {},
       "output_type": "pyout",
       "prompt_number": 238,
       "text": [
        "Index([u'529 NON-NAV ACCTS 2011', u'529 NON-NAV ACCTS 2012', u'529 NON-NAV ACCTS 2013-11 PYTD', u'529 NON-NAV ACCTS 2013', u'529 NON-NAV ACCTS 2014-11 YTD', u'MUT FUNDS NEW MONEY 2005', u'MUT FUNDS NEW MONEY 2006', u'MUT FUNDS NEW MONEY 2007', u'MUT FUNDS NEW MONEY 2008', u'MUT FUNDS NEW MONEY 2009', u'MUT FUNDS NEW MONEY 2010', u'MUT FUNDS NEW MONEY 2011', u'MUT FUNDS NEW MONEY 2012', u'MUT FUNDS NEW MONEY 2013-11 PYTD', u'MUT FUNDS NEW MONEY 2013', u'MUT FUNDS NEW MONEY 2014-11 YTD', u'401K NEW MONEY 2005', u'401K NEW MONEY 2006', u'401K NEW MONEY 2007', u'401K NEW MONEY 2008', u'401K NEW MONEY 2009', u'401K NEW MONEY 2010', u'401K NEW MONEY 2011', u'401K NEW MONEY 2012', u'401K NEW MONEY 2013-11 PYTD', u'401K NEW MONEY 2013', u'401K NEW MONEY 2014-11 YTD', u'MUT FUNDS ASSETS UNDER MGMT 2005', u'MUT FUNDS ASSETS UNDER MGMT 2006', u'MUT FUNDS ASSETS UNDER MGMT 2007', u'MUT FUNDS ASSETS UNDER MGMT 2008', u'MUT FUNDS ASSETS UNDER MGMT 2009', u'MUT FUNDS ASSETS UNDER MGMT 2010', u'MUT FUNDS ASSETS UNDER MGMT 2011', u'MUT FUNDS ASSETS UNDER MGMT 2012', u'MUT FUNDS ASSETS UNDER MGMT 2013', u'MUT FUNDS ASSETS UNDER MGMT 2014', u'NAV ASSETS UNDER MGMT 2005', u'NAV ASSETS UNDER MGMT 2006', u'NAV ASSETS UNDER MGMT 2007', u'NAV ASSETS UNDER MGMT 2008', u'NAV ASSETS UNDER MGMT 2009', u'NAV ASSETS UNDER MGMT 2010', u'NAV ASSETS UNDER MGMT 2011', u'NAV ASSETS UNDER MGMT 2012', u'NAV ASSETS UNDER MGMT 2013', u'NAV ASSETS UNDER MGMT 2014', u'NON-NAV ASSETS UNDER MGMT 2005', u'NON-NAV ASSETS UNDER MGMT 2006', u'NON-NAV ASSETS UNDER MGMT 2007', u'NON-NAV ASSETS UNDER MGMT 2008', u'NON-NAV ASSETS UNDER MGMT 2009', u'NON-NAV ASSETS UNDER MGMT 2010', u'NON-NAV ASSETS UNDER MGMT 2011', u'NON-NAV ASSETS UNDER MGMT 2012', u'NON-NAV ASSETS UNDER MGMT 2013', u'NON-NAV ASSETS UNDER MGMT 2014', u'529 NAV ASSETS UNDER MGMT 2005', u'529 NAV ASSETS UNDER MGMT 2006', u'529 NAV ASSETS UNDER MGMT 2007', u'529 NAV ASSETS UNDER MGMT 2008', u'529 NAV ASSETS UNDER MGMT 2009', u'529 NAV ASSETS UNDER MGMT 2010', u'529 NAV ASSETS UNDER MGMT 2011', u'529 NAV ASSETS UNDER MGMT 2012', u'529 NAV ASSETS UNDER MGMT 2013', u'529 NAV ASSETS UNDER MGMT 2014', u'529 NON-NAV ASSETS UNDER MGMT 2005', u'529 NON-NAV ASSETS UNDER MGMT 2006', u'529 NON-NAV ASSETS UNDER MGMT 2007', u'529 NON-NAV ASSETS UNDER MGMT 2008', u'529 NON-NAV ASSETS UNDER MGMT 2009', u'529 NON-NAV ASSETS UNDER MGMT 2010', u'529 NON-NAV ASSETS UNDER MGMT 2011', u'529 NON-NAV ASSETS UNDER MGMT 2012', u'529 NON-NAV ASSETS UNDER MGMT 2013', u'529 NON-NAV ASSETS UNDER MGMT 2014', u'MUT FUNDS NUM OPEN ACCTS 2005', u'MUT FUNDS NUM OPEN ACCTS 2006', u'MUT FUNDS NUM OPEN ACCTS 2007', u'MUT FUNDS NUM OPEN ACCTS 2008', u'MUT FUNDS NUM OPEN ACCTS 2009', u'MUT FUNDS NUM OPEN ACCTS 2010', u'MUT FUNDS NUM OPEN ACCTS 2011', u'MUT FUNDS NUM OPEN ACCTS 2012', u'MUT FUNDS NUM OPEN ACCTS 2013', u'MUT FUNDS NUM OPEN ACCTS 2014', u'NAV NUM OPEN ACCTS 2005', u'NAV NUM OPEN ACCTS 2006', u'NAV NUM OPEN ACCTS 2007', u'NAV NUM OPEN ACCTS 2008', u'NAV NUM OPEN ACCTS 2009', u'NAV NUM OPEN ACCTS 2010', u'NAV NUM OPEN ACCTS 2011', u'NAV NUM OPEN ACCTS 2012', u'NAV NUM OPEN ACCTS 2013', u'NAV NUM OPEN ACCTS 2014', u'NON-NAV NUM OPEN ACCTS 2005', u'NON-NAV NUM OPEN ACCTS 2006', u'NON-NAV NUM OPEN ACCTS 2007', ...], dtype='object')"
       ]
      }
     ],
     "prompt_number": 238
    },
    {
     "cell_type": "code",
     "collapsed": false,
     "input": [
      "def isActive(df,date,today=pd.to_datetime('12-31-2020')):\n",
      "    #print sum(df['TERMINATION DATE'].isnull())\n",
      "    # replace null times with today\n",
      "    df['TERMINATION DATE'].fillna(today,inplace=True)\n",
      "    #print sum(df['TERMINATION DATE'].isnull())\n",
      "    nactive= len(df[(df['APPOINT DATE'] <= date) & (df['TERMINATION DATE']>date)])\n",
      "    #print nactive\n",
      "    return nactive"
     ],
     "language": "python",
     "metadata": {},
     "outputs": []
    }
   ],
   "metadata": {}
  }
 ]
}